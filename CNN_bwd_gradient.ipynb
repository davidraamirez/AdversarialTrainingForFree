{
  "nbformat": 4,
  "nbformat_minor": 0,
  "metadata": {
    "colab": {
      "provenance": [],
      "authorship_tag": "ABX9TyNyLbcdBu6HLzWIFy/K4onU",
      "include_colab_link": true
    },
    "kernelspec": {
      "name": "python3",
      "display_name": "Python 3"
    },
    "language_info": {
      "name": "python"
    }
  },
  "cells": [
    {
      "cell_type": "markdown",
      "metadata": {
        "id": "view-in-github",
        "colab_type": "text"
      },
      "source": [
        "<a href=\"https://colab.research.google.com/github/davidraamirez/GradientWithoutBackpropagation/blob/main/CNN_bwd_gradient.ipynb\" target=\"_parent\"><img src=\"https://colab.research.google.com/assets/colab-badge.svg\" alt=\"Open In Colab\"/></a>"
      ]
    },
    {
      "cell_type": "markdown",
      "source": [
        "# **Import the necessary packages**"
      ],
      "metadata": {
        "id": "iaSEv6yzWhNQ"
      }
    },
    {
      "cell_type": "code",
      "source": [
        "import torch\n",
        "import tensorflow_datasets as tfds\n",
        "from sklearn.model_selection import train_test_split"
      ],
      "metadata": {
        "id": "eAFo18lGWyyD"
      },
      "execution_count": 15,
      "outputs": []
    },
    {
      "cell_type": "code",
      "source": [
        "import torchvision\n",
        "from torchvision import transforms as T\n",
        "from matplotlib import pyplot as plt"
      ],
      "metadata": {
        "id": "CQn058yjW6t1"
      },
      "execution_count": 16,
      "outputs": []
    },
    {
      "cell_type": "code",
      "source": [
        "from torch import nn\n",
        "from torch.nn import functional as F"
      ],
      "metadata": {
        "id": "naDxO8hm1Hiv"
      },
      "execution_count": 17,
      "outputs": []
    },
    {
      "cell_type": "code",
      "source": [
        "import time\n",
        "import functorch as fc\n"
      ],
      "metadata": {
        "id": "-gsM525Z1MrF"
      },
      "execution_count": 18,
      "outputs": []
    },
    {
      "cell_type": "markdown",
      "source": [
        "# **Loading and preprocessing the data**"
      ],
      "metadata": {
        "id": "PibIxqLMXBPj"
      }
    },
    {
      "cell_type": "code",
      "source": [
        "#Load the dataset\n",
        "train_data = torchvision.datasets.KMNIST('./data', train=True, download=True)"
      ],
      "metadata": {
        "id": "3nGhbEGuXAH0"
      },
      "execution_count": 19,
      "outputs": []
    },
    {
      "cell_type": "code",
      "source": [
        "# This loads data with both data conversion.\n",
        "train_data = torchvision.datasets.KMNIST('./data', train=True, transform=T.ToTensor())"
      ],
      "metadata": {
        "id": "ueJdUx9KXnKL"
      },
      "execution_count": 20,
      "outputs": []
    },
    {
      "cell_type": "code",
      "source": [
        "# We visualize the first sample of the dataset\n",
        "plt.imshow(train_data.data[0])\n",
        "print(train_data.targets[0])"
      ],
      "metadata": {
        "id": "4b3FGFCFXsH4",
        "outputId": "ac4be349-4679-4f2c-870b-5ab5bd570ac5",
        "colab": {
          "base_uri": "https://localhost:8080/",
          "height": 283
        }
      },
      "execution_count": 21,
      "outputs": [
        {
          "output_type": "stream",
          "name": "stdout",
          "text": [
            "tensor(8)\n"
          ]
        },
        {
          "output_type": "display_data",
          "data": {
            "text/plain": [
              "<Figure size 432x288 with 1 Axes>"
            ],
            "image/png": "[encoded data removed]"
          },
          "metadata": {
            "needs_background": "light"
          }
        }
      ]
    },
    {
      "cell_type": "code",
      "source": [
        "# We use the loader to shuffle the elements of the dataset\n",
        "train_loader = torch.utils.data.DataLoader(train_data, batch_size=1, shuffle=True)"
      ],
      "metadata": {
        "id": "I5rAZiGj1agM"
      },
      "execution_count": 22,
      "outputs": []
    },
    {
      "cell_type": "code",
      "source": [
        "# We get the first element of the loader\n",
        "xb, yb = next(iter(train_loader))"
      ],
      "metadata": {
        "id": "p3iX-2ui1cDP"
      },
      "execution_count": 23,
      "outputs": []
    },
    {
      "cell_type": "code",
      "source": [
        "# Load the testset\n",
        "test_data = torchvision.datasets.KMNIST('./data', train=False, transform=T.ToTensor())\n",
        "test_loader = torch.utils.data.DataLoader(test_data, batch_size=1, shuffle=True)"
      ],
      "metadata": {
        "id": "m-ZTsQtU1gYR"
      },
      "execution_count": 24,
      "outputs": []
    },
    {
      "cell_type": "markdown",
      "source": [
        "# **Define Convolutional Neural Network**"
      ],
      "metadata": {
        "id": "58-qoAN61mJC"
      }
    },
    {
      "cell_type": "code",
      "source": [
        "class SimpleCNN(nn.Module):\n",
        "    def __init__(self, input_size):\n",
        "        super().__init__()\n",
        "        self.conv1 = nn.Conv2d(input_size, 2, 3, padding=1)\n",
        "\n",
        "        self.conv2 = nn.Conv2d(2, 4, 3, padding=1)\n",
        "\n",
        "        self.max_pool = nn.MaxPool2d(2)\n",
        "        self.fc1 = nn.Linear(4*14*14, 64)\n",
        "\n",
        "        self.fc2 = nn.Linear(64, 10)\n",
        "\n",
        "    def forward(self, x):\n",
        "        x = F.relu(self.conv1(x))\n",
        "        x = F.relu(self.conv2(x))\n",
        "        x = self.max_pool(x)\n",
        "        x = x.reshape((-1, 4*14*14))\n",
        "        x = F.relu(self.fc1(x))\n",
        "        x = self.fc2(x)\n",
        "        x = x.reshape(1, -1)\n",
        "        return torch.softmax(x, 1)"
      ],
      "metadata": {
        "id": "H35kj6fS1tmV"
      },
      "execution_count": 25,
      "outputs": []
    },
    {
      "cell_type": "code",
      "source": [
        "# We check if CUDA is available\n",
        "device = 'cuda' if torch.cuda.is_available() else 'cpu'\n",
        "print(device)"
      ],
      "metadata": {
        "id": "JSu3tt--1ysD",
        "outputId": "43a7402d-8763-48d6-e69c-5d5a92a8ab8b",
        "colab": {
          "base_uri": "https://localhost:8080/"
        }
      },
      "execution_count": 26,
      "outputs": [
        {
          "output_type": "stream",
          "name": "stdout",
          "text": [
            "cpu\n"
          ]
        }
      ]
    },
    {
      "cell_type": "markdown",
      "source": [
        "# **Initialize the parameters**"
      ],
      "metadata": {
        "id": "40b5SL1o12k9"
      }
    },
    {
      "cell_type": "code",
      "source": [
        "# We initialize the parameters randomly and the model with an input size\n",
        "cnn = SimpleCNN(1)"
      ],
      "metadata": {
        "id": "-l8yXvHQ1-tU"
      },
      "execution_count": 27,
      "outputs": []
    },
    {
      "cell_type": "code",
      "source": [
        "# Get the functional version of the model with functorch\n",
        "fcnn, params = fc.make_functional(cnn)\n",
        "fcnn(params, xb)"
      ],
      "metadata": {
        "id": "L8sNl0Df2BNH",
        "outputId": "be612b10-9a45-4b70-cdc6-bb17f26f7eb0",
        "colab": {
          "base_uri": "https://localhost:8080/"
        }
      },
      "execution_count": 28,
      "outputs": [
        {
          "output_type": "execute_result",
          "data": {
            "text/plain": [
              "tensor([[0.0956, 0.1044, 0.0911, 0.0987, 0.1063, 0.0997, 0.0909, 0.0899, 0.1139,\n",
              "         0.1095]], grad_fn=<SoftmaxBackward0>)"
            ]
          },
          "metadata": {},
          "execution_count": 28
        }
      ]
    },
    {
      "cell_type": "code",
      "source": [
        "# We try our model with the first example\n",
        "print(cnn(xb)[0])"
      ],
      "metadata": {
        "id": "hvQ2Yw2b2K66",
        "outputId": "66ad76c7-66e2-48d3-ea9f-1580896b3167",
        "colab": {
          "base_uri": "https://localhost:8080/"
        }
      },
      "execution_count": 29,
      "outputs": [
        {
          "output_type": "stream",
          "name": "stdout",
          "text": [
            "tensor([0.0956, 0.1044, 0.0911, 0.0987, 0.1063, 0.0997, 0.0909, 0.0899, 0.1139,\n",
            "        0.1095], grad_fn=<SelectBackward0>)\n"
          ]
        }
      ]
    },
    {
      "cell_type": "markdown",
      "source": [
        "\n",
        "Calculate predictions"
      ],
      "metadata": {
        "id": "USh5799m2R6q"
      }
    },
    {
      "cell_type": "code",
      "source": [
        "def pred(sample_size, loader, model):\n",
        "  Xtrain = torch.randn(sample_size, 1, 28, 28)\n",
        "  ytrain = torch.randn(sample_size)\n",
        "  ypred = torch.randn(sample_size, 10)\n",
        "\n",
        "  for i in range(sample_size):\n",
        "    xb, yb = next(iter(loader))\n",
        "    Xtrain[i] = xb\n",
        "    ytrain[i] = yb\n",
        "    ypred[i] = model(xb)\n",
        "\n",
        "  return Xtrain, ytrain, ypred"
      ],
      "metadata": {
        "id": "lWItmW0K2T5b"
      },
      "execution_count": 30,
      "outputs": []
    },
    {
      "cell_type": "code",
      "source": [
        "Xtrain, ytrain, ypred= pred(500, train_loader, cnn)"
      ],
      "metadata": {
        "id": "gTCRPs0o2peX"
      },
      "execution_count": 31,
      "outputs": []
    },
    {
      "cell_type": "markdown",
      "source": [
        "# **Define accuracy**"
      ],
      "metadata": {
        "id": "UTM2jmBY2rIM"
      }
    },
    {
      "cell_type": "code",
      "source": [
        "def accuracy(ytrue, ypred):\n",
        "  return (ypred.argmax(1) == ytrue.long()).float().mean()"
      ],
      "metadata": {
        "id": "5uwl7aPH2ubs"
      },
      "execution_count": 32,
      "outputs": []
    },
    {
      "cell_type": "code",
      "source": [
        "# Average accuracy at initialization is 10% (random guessing).\n",
        "accuracy(ytrain, ypred)"
      ],
      "metadata": {
        "id": "bVU1x3wQ3XQS",
        "outputId": "7ec3f00a-f28f-4c1a-a8da-e775f6cc8daf",
        "colab": {
          "base_uri": "https://localhost:8080/"
        }
      },
      "execution_count": 33,
      "outputs": [
        {
          "output_type": "execute_result",
          "data": {
            "text/plain": [
              "tensor(0.0860)"
            ]
          },
          "metadata": {},
          "execution_count": 33
        }
      ]
    },
    {
      "cell_type": "markdown",
      "source": [
        "# **Define Cross-Entropy**"
      ],
      "metadata": {
        "id": "hX0sofGe3YoH"
      }
    },
    {
      "cell_type": "code",
      "source": [
        "def cross_entropy(ytrue, ypred):\n",
        "  print(torch.arange(0, ypred.shape[0]), ytrue.long())\n",
        "  return - ypred[torch.arange(0, ypred.shape[0]), ytrue.long()].log().mean()"
      ],
      "metadata": {
        "id": "Sd0Ek-7e3dce"
      },
      "execution_count": 34,
      "outputs": []
    },
    {
      "cell_type": "code",
      "source": [
        "print(cross_entropy(ytrain, cnn(Xtrain)))"
      ],
      "metadata": {
        "id": "mB3e2Xid3iTx",
        "outputId": "8807dd84-69d6-4f4b-fda6-abefd2821872",
        "colab": {
          "base_uri": "https://localhost:8080/"
        }
      },
      "execution_count": 35,
      "outputs": [
        {
          "output_type": "stream",
          "name": "stdout",
          "text": [
            "tensor([0]) tensor([8, 2, 2, 0, 7, 3, 8, 8, 1, 2, 7, 4, 6, 5, 2, 3, 9, 2, 9, 3, 9, 0, 1, 4,\n",
            "        1, 5, 6, 5, 2, 3, 5, 6, 8, 8, 7, 9, 8, 5, 5, 9, 2, 8, 6, 6, 3, 7, 6, 9,\n",
            "        9, 9, 5, 2, 6, 9, 8, 3, 5, 1, 6, 3, 5, 7, 7, 3, 5, 6, 0, 5, 4, 4, 9, 6,\n",
            "        5, 3, 0, 0, 6, 8, 2, 2, 2, 0, 1, 9, 1, 2, 8, 2, 7, 8, 7, 8, 4, 9, 8, 2,\n",
            "        8, 7, 8, 0, 5, 8, 5, 2, 0, 9, 2, 4, 3, 0, 0, 8, 6, 5, 1, 4, 9, 2, 4, 4,\n",
            "        7, 2, 6, 9, 2, 6, 4, 8, 6, 6, 1, 2, 3, 3, 6, 2, 1, 8, 7, 7, 5, 0, 5, 5,\n",
            "        8, 9, 1, 2, 0, 7, 9, 9, 2, 3, 4, 4, 8, 7, 2, 2, 8, 8, 7, 2, 2, 5, 3, 0,\n",
            "        3, 5, 0, 1, 4, 0, 0, 0, 5, 9, 0, 7, 7, 0, 9, 6, 9, 6, 9, 5, 7, 1, 0, 0,\n",
            "        6, 0, 8, 1, 9, 1, 3, 7, 9, 5, 5, 1, 1, 4, 6, 5, 2, 1, 2, 4, 3, 3, 0, 5,\n",
            "        1, 3, 5, 0, 6, 4, 0, 8, 4, 1, 3, 7, 1, 2, 9, 4, 1, 7, 0, 7, 1, 3, 4, 9,\n",
            "        0, 4, 8, 4, 4, 6, 9, 2, 4, 5, 3, 5, 9, 1, 3, 5, 8, 9, 1, 5, 0, 5, 4, 0,\n",
            "        4, 1, 0, 8, 5, 4, 3, 3, 8, 5, 0, 4, 2, 1, 5, 6, 0, 1, 4, 0, 0, 4, 2, 7,\n",
            "        9, 0, 6, 8, 9, 2, 6, 1, 9, 9, 1, 2, 1, 8, 2, 8, 4, 0, 7, 6, 0, 3, 0, 4,\n",
            "        0, 3, 3, 7, 8, 6, 4, 4, 3, 9, 6, 4, 7, 4, 3, 1, 3, 0, 7, 4, 9, 4, 9, 0,\n",
            "        4, 2, 6, 0, 4, 7, 3, 6, 1, 9, 0, 5, 5, 9, 6, 7, 4, 9, 9, 9, 2, 9, 9, 3,\n",
            "        1, 6, 8, 3, 4, 1, 0, 3, 6, 9, 0, 2, 5, 6, 1, 4, 0, 4, 9, 4, 7, 2, 6, 0,\n",
            "        8, 3, 2, 1, 7, 6, 5, 2, 8, 3, 2, 3, 7, 0, 1, 4, 7, 7, 1, 5, 9, 7, 4, 0,\n",
            "        2, 5, 1, 9, 6, 9, 2, 7, 6, 5, 7, 0, 3, 6, 9, 8, 5, 3, 3, 2, 3, 7, 2, 9,\n",
            "        9, 7, 7, 6, 1, 0, 2, 4, 7, 8, 5, 8, 3, 7, 7, 5, 6, 7, 4, 6, 4, 3, 6, 4,\n",
            "        3, 2, 8, 5, 1, 6, 9, 8, 7, 9, 1, 9, 9, 1, 3, 6, 9, 1, 2, 6, 1, 1, 6, 4,\n",
            "        2, 9, 9, 0, 7, 4, 6, 3, 1, 6, 1, 2, 2, 3, 8, 2, 2, 0, 1, 8])\n",
            "tensor(8.5199, grad_fn=<NegBackward0>)\n"
          ]
        }
      ]
    },
    {
      "cell_type": "markdown",
      "source": [
        "# **Train and evaluate the network**"
      ],
      "metadata": {
        "id": "LTpp2uUN3kkW"
      }
    },
    {
      "cell_type": "code",
      "source": [
        "loss = nn.CrossEntropyLoss()\n",
        "opt = torch.optim.Adam(cnn.parameters())\n",
        "accuracies=[]\n",
        "losses=[]\n",
        "\n",
        "t=0\n",
        "t0 = time.time()\n",
        "for epoch in range(100):\n",
        "  \n",
        "  cnn.train()\n",
        "  for i in range(499):\n",
        "    xb, yb=Xtrain[i],ytrain[i]\n",
        "    xb, yb = xb.to(device), yb.to(device)\n",
        "\n",
        "    opt.zero_grad()\n",
        "    ypred = cnn(xb)\n",
        "    yb = yb.reshape(1)\n",
        "    l = loss(ypred, yb.long())\n",
        "    l.backward()\n",
        "    opt.step()\n",
        "    \n",
        "  Xtest, ytest, ypredtest = pred(100, test_loader, cnn)\n",
        "  accuracies.append(accuracy(ytest,ypredtest).item())\n",
        "  loss2=0\n",
        "  for i in range(ypredtest.size(0)):\n",
        "    loss2+=loss(ypredtest[i], ytest[i].long())\n",
        "  losses.append((loss2/ypredtest.size(0)).detach().item())\n",
        "\n",
        "  loss1 = 0\n",
        "  for i in range(Xtrain.size(0)):\n",
        "    ytraini = ytrain[i].reshape(1)\n",
        "    loss1 += loss(cnn(Xtrain[i]), ytraini.long())/Xtrain.size(0)\n",
        "\n",
        "  # We add the execution time of the iteration\n",
        "  t1=time.time()\n",
        "  t+=t1-t0\n",
        "  t0=t1\n",
        "\n",
        "  print('Time', t, 'loss', loss1)\n",
        "\n",
        "print('Final execution time', t)  \n",
        "print('Mean execution time of an iteration', t/100)\n"
      ],
      "metadata": {
        "id": "qGpe7vr13qNe",
        "outputId": "4cb93db0-b1ac-4a71-f138-1ae893869909",
        "colab": {
          "base_uri": "https://localhost:8080/"
        }
      },
      "execution_count": 40,
      "outputs": [
        {
          "output_type": "stream",
          "name": "stdout",
          "text": [
            "Time 1.574310064315796 loss tensor(1.5170, grad_fn=<AddBackward0>)\n",
            "Time 3.1355292797088623 loss tensor(1.5258, grad_fn=<AddBackward0>)\n",
            "Time 4.6725475788116455 loss tensor(1.5157, grad_fn=<AddBackward0>)\n",
            "Time 6.19948673248291 loss tensor(1.5131, grad_fn=<AddBackward0>)\n",
            "Time 8.216404914855957 loss tensor(1.5131, grad_fn=<AddBackward0>)\n",
            "Time 10.041527271270752 loss tensor(1.5151, grad_fn=<AddBackward0>)\n",
            "Time 11.64114785194397 loss tensor(1.5131, grad_fn=<AddBackward0>)\n",
            "Time 13.231597185134888 loss tensor(1.5170, grad_fn=<AddBackward0>)\n",
            "Time 14.773425817489624 loss tensor(1.5135, grad_fn=<AddBackward0>)\n",
            "Time 16.22345209121704 loss tensor(1.5316, grad_fn=<AddBackward0>)\n",
            "Time 17.800456047058105 loss tensor(1.5151, grad_fn=<AddBackward0>)\n",
            "Time 19.309540033340454 loss tensor(1.5151, grad_fn=<AddBackward0>)\n",
            "Time 21.442222595214844 loss tensor(1.5181, grad_fn=<AddBackward0>)\n",
            "Time 23.089740753173828 loss tensor(1.5173, grad_fn=<AddBackward0>)\n",
            "Time 24.832623958587646 loss tensor(1.5131, grad_fn=<AddBackward0>)\n",
            "Time 26.30181074142456 loss tensor(1.5130, grad_fn=<AddBackward0>)\n",
            "Time 27.89857268333435 loss tensor(1.5131, grad_fn=<AddBackward0>)\n",
            "Time 29.381611585617065 loss tensor(1.5131, grad_fn=<AddBackward0>)\n",
            "Time 30.862621307373047 loss tensor(1.5131, grad_fn=<AddBackward0>)\n",
            "Time 32.53824019432068 loss tensor(1.5131, grad_fn=<AddBackward0>)\n",
            "Time 34.70586156845093 loss tensor(1.5131, grad_fn=<AddBackward0>)\n",
            "Time 36.17926597595215 loss tensor(1.5131, grad_fn=<AddBackward0>)\n",
            "Time 38.50434970855713 loss tensor(1.5131, grad_fn=<AddBackward0>)\n",
            "Time 40.35294985771179 loss tensor(1.5131, grad_fn=<AddBackward0>)\n",
            "Time 41.81348991394043 loss tensor(1.5131, grad_fn=<AddBackward0>)\n",
            "Time 43.2807719707489 loss tensor(1.5131, grad_fn=<AddBackward0>)\n",
            "Time 44.75285077095032 loss tensor(1.5131, grad_fn=<AddBackward0>)\n",
            "Time 46.91891098022461 loss tensor(1.5177, grad_fn=<AddBackward0>)\n",
            "Time 48.575480699539185 loss tensor(1.5214, grad_fn=<AddBackward0>)\n",
            "Time 50.133482217788696 loss tensor(1.5193, grad_fn=<AddBackward0>)\n",
            "Time 51.91134524345398 loss tensor(1.5198, grad_fn=<AddBackward0>)\n",
            "Time 53.76197600364685 loss tensor(1.5166, grad_fn=<AddBackward0>)\n",
            "Time 55.732906341552734 loss tensor(1.5159, grad_fn=<AddBackward0>)\n",
            "Time 59.94756031036377 loss tensor(1.5132, grad_fn=<AddBackward0>)\n",
            "Time 62.59717679023743 loss tensor(1.5131, grad_fn=<AddBackward0>)\n",
            "Time 64.04769611358643 loss tensor(1.5131, grad_fn=<AddBackward0>)\n",
            "Time 65.51750040054321 loss tensor(1.5131, grad_fn=<AddBackward0>)\n",
            "Time 67.02413153648376 loss tensor(1.5131, grad_fn=<AddBackward0>)\n",
            "Time 68.60241150856018 loss tensor(1.5131, grad_fn=<AddBackward0>)\n",
            "Time 70.12496829032898 loss tensor(1.5131, grad_fn=<AddBackward0>)\n",
            "Time 71.66306900978088 loss tensor(1.5131, grad_fn=<AddBackward0>)\n",
            "Time 73.59611558914185 loss tensor(1.5131, grad_fn=<AddBackward0>)\n",
            "Time 75.67552995681763 loss tensor(1.5131, grad_fn=<AddBackward0>)\n",
            "Time 77.20394158363342 loss tensor(1.5131, grad_fn=<AddBackward0>)\n",
            "Time 78.76001596450806 loss tensor(1.5139, grad_fn=<AddBackward0>)\n",
            "Time 80.26874256134033 loss tensor(1.5379, grad_fn=<AddBackward0>)\n",
            "Time 81.75650382041931 loss tensor(1.5242, grad_fn=<AddBackward0>)\n",
            "Time 83.29283738136292 loss tensor(1.5179, grad_fn=<AddBackward0>)\n",
            "Time 84.88957190513611 loss tensor(1.5131, grad_fn=<AddBackward0>)\n",
            "Time 86.90394902229309 loss tensor(1.5131, grad_fn=<AddBackward0>)\n",
            "Time 88.85483169555664 loss tensor(1.5131, grad_fn=<AddBackward0>)\n",
            "Time 90.51989889144897 loss tensor(1.5131, grad_fn=<AddBackward0>)\n",
            "Time 92.1563446521759 loss tensor(1.5131, grad_fn=<AddBackward0>)\n",
            "Time 93.66443800926208 loss tensor(1.5131, grad_fn=<AddBackward0>)\n",
            "Time 95.26722025871277 loss tensor(1.5131, grad_fn=<AddBackward0>)\n",
            "Time 96.9570620059967 loss tensor(1.5131, grad_fn=<AddBackward0>)\n",
            "Time 98.75231981277466 loss tensor(1.5131, grad_fn=<AddBackward0>)\n",
            "Time 100.92911577224731 loss tensor(1.5132, grad_fn=<AddBackward0>)\n",
            "Time 102.45518231391907 loss tensor(1.5254, grad_fn=<AddBackward0>)\n",
            "Time 103.97713208198547 loss tensor(1.5131, grad_fn=<AddBackward0>)\n",
            "Time 105.60020041465759 loss tensor(1.5131, grad_fn=<AddBackward0>)\n",
            "Time 107.1716582775116 loss tensor(1.5131, grad_fn=<AddBackward0>)\n",
            "Time 108.75376415252686 loss tensor(1.5131, grad_fn=<AddBackward0>)\n",
            "Time 110.37442755699158 loss tensor(1.5115, grad_fn=<AddBackward0>)\n",
            "Time 112.48387718200684 loss tensor(1.5131, grad_fn=<AddBackward0>)\n",
            "Time 114.3404552936554 loss tensor(1.5351, grad_fn=<AddBackward0>)\n",
            "Time 116.04508352279663 loss tensor(1.5126, grad_fn=<AddBackward0>)\n",
            "Time 117.70488810539246 loss tensor(1.5110, grad_fn=<AddBackward0>)\n",
            "Time 119.5243718624115 loss tensor(1.5119, grad_fn=<AddBackward0>)\n",
            "Time 121.21136212348938 loss tensor(1.5226, grad_fn=<AddBackward0>)\n",
            "Time 122.87110805511475 loss tensor(1.5151, grad_fn=<AddBackward0>)\n",
            "Time 124.81368708610535 loss tensor(1.5130, grad_fn=<AddBackward0>)\n",
            "Time 126.84515833854675 loss tensor(1.5131, grad_fn=<AddBackward0>)\n",
            "Time 128.43278789520264 loss tensor(1.5131, grad_fn=<AddBackward0>)\n",
            "Time 130.0590443611145 loss tensor(1.5131, grad_fn=<AddBackward0>)\n",
            "Time 131.66843152046204 loss tensor(1.5131, grad_fn=<AddBackward0>)\n",
            "Time 133.24460792541504 loss tensor(1.5131, grad_fn=<AddBackward0>)\n",
            "Time 134.88749480247498 loss tensor(1.5131, grad_fn=<AddBackward0>)\n",
            "Time 136.63745784759521 loss tensor(1.5209, grad_fn=<AddBackward0>)\n",
            "Time 139.0377974510193 loss tensor(1.5164, grad_fn=<AddBackward0>)\n",
            "Time 140.70428323745728 loss tensor(1.5111, grad_fn=<AddBackward0>)\n",
            "Time 142.4584584236145 loss tensor(1.5111, grad_fn=<AddBackward0>)\n",
            "Time 144.04474115371704 loss tensor(1.5111, grad_fn=<AddBackward0>)\n",
            "Time 145.62307286262512 loss tensor(1.5111, grad_fn=<AddBackward0>)\n",
            "Time 147.23569345474243 loss tensor(1.5111, grad_fn=<AddBackward0>)\n",
            "Time 148.7297809123993 loss tensor(1.5111, grad_fn=<AddBackward0>)\n",
            "Time 150.95706844329834 loss tensor(1.5113, grad_fn=<AddBackward0>)\n",
            "Time 152.79910469055176 loss tensor(1.5111, grad_fn=<AddBackward0>)\n",
            "Time 154.4275553226471 loss tensor(1.5112, grad_fn=<AddBackward0>)\n",
            "Time 156.01728224754333 loss tensor(1.5111, grad_fn=<AddBackward0>)\n",
            "Time 157.65871596336365 loss tensor(1.5111, grad_fn=<AddBackward0>)\n",
            "Time 159.23936939239502 loss tensor(1.5111, grad_fn=<AddBackward0>)\n",
            "Time 160.81729531288147 loss tensor(1.5111, grad_fn=<AddBackward0>)\n",
            "Time 162.7380940914154 loss tensor(1.5111, grad_fn=<AddBackward0>)\n",
            "Time 164.77222776412964 loss tensor(1.5111, grad_fn=<AddBackward0>)\n",
            "Time 166.37409567832947 loss tensor(1.5111, grad_fn=<AddBackward0>)\n",
            "Time 167.97675442695618 loss tensor(1.5111, grad_fn=<AddBackward0>)\n",
            "Time 169.5111756324768 loss tensor(1.5111, grad_fn=<AddBackward0>)\n",
            "Time 171.02300000190735 loss tensor(1.5111, grad_fn=<AddBackward0>)\n",
            "Time 172.57762551307678 loss tensor(1.5111, grad_fn=<AddBackward0>)\n",
            "Final execution time 172.57762551307678\n",
            "Mean execution time of an iteration 1.7257762551307678\n"
          ]
        }
      ]
    },
    {
      "cell_type": "code",
      "source": [
        "plt.plot(accuracies)"
      ],
      "metadata": {
        "id": "hysIZk4jBGuJ",
        "outputId": "628be84a-2a7c-4352-a66b-0de4471277f4",
        "colab": {
          "base_uri": "https://localhost:8080/",
          "height": 283
        }
      },
      "execution_count": 41,
      "outputs": [
        {
          "output_type": "execute_result",
          "data": {
            "text/plain": [
              "[<matplotlib.lines.Line2D at 0x7f49f513d520>]"
            ]
          },
          "metadata": {},
          "execution_count": 41
        },
        {
          "output_type": "display_data",
          "data": {
            "text/plain": [
              "<Figure size 432x288 with 1 Axes>"
            ],
            "image/png": "[encoded data removed]"
          },
          "metadata": {
            "needs_background": "light"
          }
        }
      ]
    },
    {
      "cell_type": "code",
      "source": [
        "plt.plot(losses)"
      ],
      "metadata": {
        "id": "yMO580FdBOUX",
        "outputId": "117494b3-8b07-4f19-d518-682750458346",
        "colab": {
          "base_uri": "https://localhost:8080/",
          "height": 283
        }
      },
      "execution_count": 42,
      "outputs": [
        {
          "output_type": "execute_result",
          "data": {
            "text/plain": [
              "[<matplotlib.lines.Line2D at 0x7f49f4de2e20>]"
            ]
          },
          "metadata": {},
          "execution_count": 42
        },
        {
          "output_type": "display_data",
          "data": {
            "text/plain": [
              "<Figure size 432x288 with 1 Axes>"
            ],
            "image/png": "[encoded data removed]"
          },
          "metadata": {
            "needs_background": "light"
          }
        }
      ]
    }
  ]
}