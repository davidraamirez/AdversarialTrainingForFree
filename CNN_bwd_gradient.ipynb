{
  "nbformat": 4,
  "nbformat_minor": 0,
  "metadata": {
    "colab": {
      "provenance": [],
      "authorship_tag": "ABX9TyOGO0LoRz5EXK12+nXNBROc",
      "include_colab_link": true
    },
    "kernelspec": {
      "name": "python3",
      "display_name": "Python 3"
    },
    "language_info": {
      "name": "python"
    }
  },
  "cells": [
    {
      "cell_type": "markdown",
      "metadata": {
        "id": "view-in-github",
        "colab_type": "text"
      },
      "source": [
        "<a href=\"https://colab.research.google.com/github/davidraamirez/GradientWithoutBackpropagation/blob/main/CNN_bwd_gradient.ipynb\" target=\"_parent\"><img src=\"https://colab.research.google.com/assets/colab-badge.svg\" alt=\"Open In Colab\"/></a>"
      ]
    },
    {
      "cell_type": "markdown",
      "source": [
        "# **Import the necessary packages**"
      ],
      "metadata": {
        "id": "iaSEv6yzWhNQ"
      }
    },
    {
      "cell_type": "code",
      "source": [
        "import torch\n",
        "import tensorflow_datasets as tfds\n",
        "from sklearn.model_selection import train_test_split"
      ],
      "metadata": {
        "id": "eAFo18lGWyyD"
      },
      "execution_count": 15,
      "outputs": []
    },
    {
      "cell_type": "code",
      "source": [
        "import torchvision\n",
        "from torchvision import transforms as T\n",
        "from matplotlib import pyplot as plt"
      ],
      "metadata": {
        "id": "CQn058yjW6t1"
      },
      "execution_count": 16,
      "outputs": []
    },
    {
      "cell_type": "code",
      "source": [
        "from torch import nn\n",
        "from torch.nn import functional as F"
      ],
      "metadata": {
        "id": "naDxO8hm1Hiv"
      },
      "execution_count": 17,
      "outputs": []
    },
    {
      "cell_type": "code",
      "source": [
        "import time\n",
        "import functorch as fc\n"
      ],
      "metadata": {
        "id": "-gsM525Z1MrF"
      },
      "execution_count": 18,
      "outputs": []
    },
    {
      "cell_type": "markdown",
      "source": [
        "# **Loading and preprocessing the data**"
      ],
      "metadata": {
        "id": "PibIxqLMXBPj"
      }
    },
    {
      "cell_type": "code",
      "source": [
        "#Load the dataset\n",
        "train_data = torchvision.datasets.KMNIST('./data', train=True, download=True)"
      ],
      "metadata": {
        "id": "3nGhbEGuXAH0"
      },
      "execution_count": 19,
      "outputs": []
    },
    {
      "cell_type": "code",
      "source": [
        "# This loads data with both data conversion.\n",
        "train_data = torchvision.datasets.KMNIST('./data', train=True, transform=T.ToTensor())"
      ],
      "metadata": {
        "id": "ueJdUx9KXnKL"
      },
      "execution_count": 20,
      "outputs": []
    },
    {
      "cell_type": "code",
      "source": [
        "# We visualize the first sample of the dataset\n",
        "plt.imshow(train_data.data[0])\n",
        "print(train_data.targets[0])"
      ],
      "metadata": {
        "id": "4b3FGFCFXsH4",
        "outputId": "ac4be349-4679-4f2c-870b-5ab5bd570ac5",
        "colab": {
          "base_uri": "https://localhost:8080/",
          "height": 283
        }
      },
      "execution_count": 21,
      "outputs": [
        {
          "output_type": "stream",
          "name": "stdout",
          "text": [
            "tensor(8)\n"
          ]
        },
        {
          "output_type": "display_data",
          "data": {
            "text/plain": [
              "<Figure size 432x288 with 1 Axes>"
            ],
            "image/png": "[encoded data removed]"
          },
          "metadata": {
            "needs_background": "light"
          }
        }
      ]
    },
    {
      "cell_type": "code",
      "source": [
        "# We use the loader to shuffle the elements of the dataset\n",
        "train_loader = torch.utils.data.DataLoader(train_data, batch_size=1, shuffle=True)"
      ],
      "metadata": {
        "id": "I5rAZiGj1agM"
      },
      "execution_count": 22,
      "outputs": []
    },
    {
      "cell_type": "code",
      "source": [
        "# We get the first element of the loader\n",
        "xb, yb = next(iter(train_loader))"
      ],
      "metadata": {
        "id": "p3iX-2ui1cDP"
      },
      "execution_count": 23,
      "outputs": []
    },
    {
      "cell_type": "code",
      "source": [
        "# Load the testset\n",
        "test_data = torchvision.datasets.KMNIST('./data', train=False, transform=T.ToTensor())\n",
        "test_loader = torch.utils.data.DataLoader(test_data, batch_size=1, shuffle=True)"
      ],
      "metadata": {
        "id": "m-ZTsQtU1gYR"
      },
      "execution_count": 24,
      "outputs": []
    },
    {
      "cell_type": "markdown",
      "source": [
        "# **Define Convolutional Neural Network**"
      ],
      "metadata": {
        "id": "58-qoAN61mJC"
      }
    },
    {
      "cell_type": "code",
      "source": [
        "class SimpleCNN(nn.Module):\n",
        "    def __init__(self, input_size):\n",
        "        super().__init__()\n",
        "        self.conv1 = nn.Conv2d(input_size, 2, 3, padding=1)\n",
        "\n",
        "        self.conv2 = nn.Conv2d(2, 4, 3, padding=1)\n",
        "\n",
        "        self.max_pool = nn.MaxPool2d(2)\n",
        "        self.fc1 = nn.Linear(4*14*14, 64)\n",
        "\n",
        "        self.fc2 = nn.Linear(64, 10)\n",
        "\n",
        "    def forward(self, x):\n",
        "        x = F.relu(self.conv1(x))\n",
        "        x = F.relu(self.conv2(x))\n",
        "        x = self.max_pool(x)\n",
        "        x = x.reshape((-1, 4*14*14))\n",
        "        x = F.relu(self.fc1(x))\n",
        "        x = self.fc2(x)\n",
        "        x = x.reshape(1, -1)\n",
        "        return torch.softmax(x, 1)"
      ],
      "metadata": {
        "id": "H35kj6fS1tmV"
      },
      "execution_count": 25,
      "outputs": []
    },
    {
      "cell_type": "code",
      "source": [
        "# We check if CUDA is available\n",
        "device = 'cuda' if torch.cuda.is_available() else 'cpu'\n",
        "print(device)"
      ],
      "metadata": {
        "id": "JSu3tt--1ysD",
        "outputId": "43a7402d-8763-48d6-e69c-5d5a92a8ab8b",
        "colab": {
          "base_uri": "https://localhost:8080/"
        }
      },
      "execution_count": 26,
      "outputs": [
        {
          "output_type": "stream",
          "name": "stdout",
          "text": [
            "cpu\n"
          ]
        }
      ]
    },
    {
      "cell_type": "markdown",
      "source": [
        "# **Initialize the parameters**"
      ],
      "metadata": {
        "id": "40b5SL1o12k9"
      }
    },
    {
      "cell_type": "code",
      "source": [
        "# We initialize the parameters randomly and the model with an input size\n",
        "cnn = SimpleCNN(1)"
      ],
      "metadata": {
        "id": "-l8yXvHQ1-tU"
      },
      "execution_count": 27,
      "outputs": []
    },
    {
      "cell_type": "code",
      "source": [
        "# Get the functional version of the model with functorch\n",
        "fcnn, params = fc.make_functional(cnn)\n",
        "fcnn(params, xb)"
      ],
      "metadata": {
        "id": "L8sNl0Df2BNH",
        "outputId": "be612b10-9a45-4b70-cdc6-bb17f26f7eb0",
        "colab": {
          "base_uri": "https://localhost:8080/"
        }
      },
      "execution_count": 28,
      "outputs": [
        {
          "output_type": "execute_result",
          "data": {
            "text/plain": [
              "tensor([[0.0956, 0.1044, 0.0911, 0.0987, 0.1063, 0.0997, 0.0909, 0.0899, 0.1139,\n",
              "         0.1095]], grad_fn=<SoftmaxBackward0>)"
            ]
          },
          "metadata": {},
          "execution_count": 28
        }
      ]
    },
    {
      "cell_type": "code",
      "source": [
        "# We try our model with the first example\n",
        "print(cnn(xb)[0])"
      ],
      "metadata": {
        "id": "hvQ2Yw2b2K66",
        "outputId": "66ad76c7-66e2-48d3-ea9f-1580896b3167",
        "colab": {
          "base_uri": "https://localhost:8080/"
        }
      },
      "execution_count": 29,
      "outputs": [
        {
          "output_type": "stream",
          "name": "stdout",
          "text": [
            "tensor([0.0956, 0.1044, 0.0911, 0.0987, 0.1063, 0.0997, 0.0909, 0.0899, 0.1139,\n",
            "        0.1095], grad_fn=<SelectBackward0>)\n"
          ]
        }
      ]
    },
    {
      "cell_type": "markdown",
      "source": [
        "\n",
        "Calculate predictions"
      ],
      "metadata": {
        "id": "USh5799m2R6q"
      }
    },
    {
      "cell_type": "code",
      "source": [
        "def pred(sample_size, loader, model):\n",
        "  Xtrain = torch.randn(sample_size, 1, 28, 28)\n",
        "  ytrain = torch.randn(sample_size)\n",
        "  ypred = torch.randn(sample_size, 10)\n",
        "\n",
        "  for i in range(sample_size):\n",
        "    xb, yb = next(iter(loader))\n",
        "    Xtrain[i] = xb\n",
        "    ytrain[i] = yb\n",
        "    ypred[i] = model(xb)\n",
        "\n",
        "  return Xtrain, ytrain, ypred"
      ],
      "metadata": {
        "id": "lWItmW0K2T5b"
      },
      "execution_count": 30,
      "outputs": []
    },
    {
      "cell_type": "code",
      "source": [
        "Xtrain, ytrain, ypred= pred(500, train_loader, cnn)"
      ],
      "metadata": {
        "id": "gTCRPs0o2peX"
      },
      "execution_count": 31,
      "outputs": []
    },
    {
      "cell_type": "markdown",
      "source": [
        "# **Define accuracy**"
      ],
      "metadata": {
        "id": "UTM2jmBY2rIM"
      }
    },
    {
      "cell_type": "code",
      "source": [
        "def accuracy(ytrue, ypred):\n",
        "  return (ypred.argmax(1) == ytrue.long()).float().mean()"
      ],
      "metadata": {
        "id": "5uwl7aPH2ubs"
      },
      "execution_count": 32,
      "outputs": []
    },
    {
      "cell_type": "code",
      "source": [
        "# Average accuracy at initialization is 10% (random guessing).\n",
        "accuracy(ytrain, ypred)"
      ],
      "metadata": {
        "id": "bVU1x3wQ3XQS",
        "outputId": "7ec3f00a-f28f-4c1a-a8da-e775f6cc8daf",
        "colab": {
          "base_uri": "https://localhost:8080/"
        }
      },
      "execution_count": 33,
      "outputs": [
        {
          "output_type": "execute_result",
          "data": {
            "text/plain": [
              "tensor(0.0860)"
            ]
          },
          "metadata": {},
          "execution_count": 33
        }
      ]
    },
    {
      "cell_type": "markdown",
      "source": [
        "# **Define Cross-Entropy**"
      ],
      "metadata": {
        "id": "hX0sofGe3YoH"
      }
    },
    {
      "cell_type": "code",
      "source": [
        "def cross_entropy(ytrue, ypred):\n",
        "  print(torch.arange(0, ypred.shape[0]), ytrue.long())\n",
        "  return - ypred[torch.arange(0, ypred.shape[0]), ytrue.long()].log().mean()"
      ],
      "metadata": {
        "id": "Sd0Ek-7e3dce"
      },
      "execution_count": 34,
      "outputs": []
    },
    {
      "cell_type": "code",
      "source": [
        "print(cross_entropy(ytrain, cnn(Xtrain)))"
      ],
      "metadata": {
        "id": "mB3e2Xid3iTx",
        "outputId": "8807dd84-69d6-4f4b-fda6-abefd2821872",
        "colab": {
          "base_uri": "https://localhost:8080/"
        }
      },
      "execution_count": 35,
      "outputs": [
        {
          "output_type": "stream",
          "name": "stdout",
          "text": [
            "tensor([0]) tensor([8, 2, 2, 0, 7, 3, 8, 8, 1, 2, 7, 4, 6, 5, 2, 3, 9, 2, 9, 3, 9, 0, 1, 4,\n",
            "        1, 5, 6, 5, 2, 3, 5, 6, 8, 8, 7, 9, 8, 5, 5, 9, 2, 8, 6, 6, 3, 7, 6, 9,\n",
            "        9, 9, 5, 2, 6, 9, 8, 3, 5, 1, 6, 3, 5, 7, 7, 3, 5, 6, 0, 5, 4, 4, 9, 6,\n",
            "        5, 3, 0, 0, 6, 8, 2, 2, 2, 0, 1, 9, 1, 2, 8, 2, 7, 8, 7, 8, 4, 9, 8, 2,\n",
            "        8, 7, 8, 0, 5, 8, 5, 2, 0, 9, 2, 4, 3, 0, 0, 8, 6, 5, 1, 4, 9, 2, 4, 4,\n",
            "        7, 2, 6, 9, 2, 6, 4, 8, 6, 6, 1, 2, 3, 3, 6, 2, 1, 8, 7, 7, 5, 0, 5, 5,\n",
            "        8, 9, 1, 2, 0, 7, 9, 9, 2, 3, 4, 4, 8, 7, 2, 2, 8, 8, 7, 2, 2, 5, 3, 0,\n",
            "        3, 5, 0, 1, 4, 0, 0, 0, 5, 9, 0, 7, 7, 0, 9, 6, 9, 6, 9, 5, 7, 1, 0, 0,\n",
            "        6, 0, 8, 1, 9, 1, 3, 7, 9, 5, 5, 1, 1, 4, 6, 5, 2, 1, 2, 4, 3, 3, 0, 5,\n",
            "        1, 3, 5, 0, 6, 4, 0, 8, 4, 1, 3, 7, 1, 2, 9, 4, 1, 7, 0, 7, 1, 3, 4, 9,\n",
            "        0, 4, 8, 4, 4, 6, 9, 2, 4, 5, 3, 5, 9, 1, 3, 5, 8, 9, 1, 5, 0, 5, 4, 0,\n",
            "        4, 1, 0, 8, 5, 4, 3, 3, 8, 5, 0, 4, 2, 1, 5, 6, 0, 1, 4, 0, 0, 4, 2, 7,\n",
            "        9, 0, 6, 8, 9, 2, 6, 1, 9, 9, 1, 2, 1, 8, 2, 8, 4, 0, 7, 6, 0, 3, 0, 4,\n",
            "        0, 3, 3, 7, 8, 6, 4, 4, 3, 9, 6, 4, 7, 4, 3, 1, 3, 0, 7, 4, 9, 4, 9, 0,\n",
            "        4, 2, 6, 0, 4, 7, 3, 6, 1, 9, 0, 5, 5, 9, 6, 7, 4, 9, 9, 9, 2, 9, 9, 3,\n",
            "        1, 6, 8, 3, 4, 1, 0, 3, 6, 9, 0, 2, 5, 6, 1, 4, 0, 4, 9, 4, 7, 2, 6, 0,\n",
            "        8, 3, 2, 1, 7, 6, 5, 2, 8, 3, 2, 3, 7, 0, 1, 4, 7, 7, 1, 5, 9, 7, 4, 0,\n",
            "        2, 5, 1, 9, 6, 9, 2, 7, 6, 5, 7, 0, 3, 6, 9, 8, 5, 3, 3, 2, 3, 7, 2, 9,\n",
            "        9, 7, 7, 6, 1, 0, 2, 4, 7, 8, 5, 8, 3, 7, 7, 5, 6, 7, 4, 6, 4, 3, 6, 4,\n",
            "        3, 2, 8, 5, 1, 6, 9, 8, 7, 9, 1, 9, 9, 1, 3, 6, 9, 1, 2, 6, 1, 1, 6, 4,\n",
            "        2, 9, 9, 0, 7, 4, 6, 3, 1, 6, 1, 2, 2, 3, 8, 2, 2, 0, 1, 8])\n",
            "tensor(8.5199, grad_fn=<NegBackward0>)\n"
          ]
        }
      ]
    },
    {
      "cell_type": "markdown",
      "source": [
        "# **Train and evaluate the network**"
      ],
      "metadata": {
        "id": "LTpp2uUN3kkW"
      }
    },
    {
      "cell_type": "code",
      "source": [
        "loss = nn.CrossEntropyLoss()\n",
        "opt = torch.optim.Adam(cnn.parameters())\n",
        "accuracies=[]\n",
        "losses=[]\n",
        "\n",
        "t=0\n",
        "t0 = time.time()\n",
        "for epoch in range(60):\n",
        "  \n",
        "  cnn.train()\n",
        "  for i in range(499):\n",
        "    xb, yb=Xtrain[i],ytrain[i]\n",
        "    xb, yb = xb.to(device), yb.to(device)\n",
        "\n",
        "    opt.zero_grad()\n",
        "    ypred = cnn(xb)\n",
        "    yb = yb.reshape(1)\n",
        "    l = loss(ypred, yb.long())\n",
        "    l.backward()\n",
        "    opt.step()\n",
        "    \n",
        "  Xtest, ytest, ypredtest = pred(100, test_loader, cnn)\n",
        "  accuracies.append(accuracy(ytest,ypredtest).item())\n",
        "  loss2=0\n",
        "  for i in range(ypredtest.size(0)):\n",
        "    loss2+=loss(ypredtest[i], ytest[i].long())\n",
        "  losses.append((loss2/ypredtest.size(0)).detach().item())\n",
        "\n",
        "  loss1 = 0\n",
        "  for i in range(Xtrain.size(0)):\n",
        "    ytraini = ytrain[i].reshape(1)\n",
        "    loss1 += loss(cnn(Xtrain[i]), ytraini.long())/Xtrain.size(0)\n",
        "\n",
        "  # We add the execution time of the iteration\n",
        "  t1=time.time()\n",
        "  t+=t1-t0\n",
        "  t0=t1\n",
        "\n",
        "  print('Time', t, 'loss', loss1)\n",
        "\n",
        "print('Final execution time', t)  \n",
        "print('Mean execution time of an iteration', t/500)\n"
      ],
      "metadata": {
        "id": "qGpe7vr13qNe",
        "outputId": "c0b3259d-91e7-4f1c-f13f-6182f3e61e7b",
        "colab": {
          "base_uri": "https://localhost:8080/"
        }
      },
      "execution_count": 36,
      "outputs": [
        {
          "output_type": "stream",
          "name": "stdout",
          "text": [
            "Time 1.4482526779174805 loss tensor(2.3019, grad_fn=<AddBackward0>)\n",
            "Time 3.201148509979248 loss tensor(2.2408, grad_fn=<AddBackward0>)\n",
            "Time 5.314137935638428 loss tensor(1.9025, grad_fn=<AddBackward0>)\n",
            "Time 6.839695453643799 loss tensor(1.7406, grad_fn=<AddBackward0>)\n",
            "Time 8.42043662071228 loss tensor(1.6719, grad_fn=<AddBackward0>)\n",
            "Time 10.035581827163696 loss tensor(1.6477, grad_fn=<AddBackward0>)\n",
            "Time 11.712748527526855 loss tensor(1.6198, grad_fn=<AddBackward0>)\n",
            "Time 13.293621301651001 loss tensor(1.6346, grad_fn=<AddBackward0>)\n",
            "Time 14.854317426681519 loss tensor(1.5943, grad_fn=<AddBackward0>)\n",
            "Time 16.98334527015686 loss tensor(1.6580, grad_fn=<AddBackward0>)\n",
            "Time 18.854493856430054 loss tensor(1.5974, grad_fn=<AddBackward0>)\n",
            "Time 20.41624903678894 loss tensor(1.5869, grad_fn=<AddBackward0>)\n",
            "Time 21.922303915023804 loss tensor(1.5859, grad_fn=<AddBackward0>)\n",
            "Time 23.564650774002075 loss tensor(1.5856, grad_fn=<AddBackward0>)\n",
            "Time 25.231300115585327 loss tensor(1.6229, grad_fn=<AddBackward0>)\n",
            "Time 26.824864387512207 loss tensor(1.5925, grad_fn=<AddBackward0>)\n",
            "Time 28.52407479286194 loss tensor(1.6016, grad_fn=<AddBackward0>)\n",
            "Time 30.757176876068115 loss tensor(1.5619, grad_fn=<AddBackward0>)\n",
            "Time 32.34178924560547 loss tensor(1.6062, grad_fn=<AddBackward0>)\n",
            "Time 33.91765642166138 loss tensor(1.5614, grad_fn=<AddBackward0>)\n",
            "Time 35.4915988445282 loss tensor(1.6082, grad_fn=<AddBackward0>)\n",
            "Time 37.07980251312256 loss tensor(1.5578, grad_fn=<AddBackward0>)\n",
            "Time 39.50760865211487 loss tensor(1.5569, grad_fn=<AddBackward0>)\n",
            "Time 41.93180274963379 loss tensor(1.5669, grad_fn=<AddBackward0>)\n",
            "Time 43.962568521499634 loss tensor(1.5751, grad_fn=<AddBackward0>)\n",
            "Time 45.60527157783508 loss tensor(1.5803, grad_fn=<AddBackward0>)\n",
            "Time 47.227150440216064 loss tensor(1.5639, grad_fn=<AddBackward0>)\n",
            "Time 49.06353712081909 loss tensor(1.5553, grad_fn=<AddBackward0>)\n",
            "Time 50.75353002548218 loss tensor(1.5592, grad_fn=<AddBackward0>)\n",
            "Time 52.42039132118225 loss tensor(1.5608, grad_fn=<AddBackward0>)\n",
            "Time 54.33372950553894 loss tensor(1.5559, grad_fn=<AddBackward0>)\n",
            "Time 56.41891670227051 loss tensor(1.5579, grad_fn=<AddBackward0>)\n",
            "Time 58.01624131202698 loss tensor(1.5457, grad_fn=<AddBackward0>)\n",
            "Time 59.58478879928589 loss tensor(1.5519, grad_fn=<AddBackward0>)\n",
            "Time 61.190091609954834 loss tensor(1.5447, grad_fn=<AddBackward0>)\n",
            "Time 62.77343678474426 loss tensor(1.5442, grad_fn=<AddBackward0>)\n",
            "Time 64.41261339187622 loss tensor(1.5603, grad_fn=<AddBackward0>)\n",
            "Time 66.1230297088623 loss tensor(1.5350, grad_fn=<AddBackward0>)\n",
            "Time 68.46330976486206 loss tensor(1.5370, grad_fn=<AddBackward0>)\n",
            "Time 70.22465109825134 loss tensor(1.5394, grad_fn=<AddBackward0>)\n",
            "Time 71.87635660171509 loss tensor(1.5612, grad_fn=<AddBackward0>)\n",
            "Time 73.47300148010254 loss tensor(1.5601, grad_fn=<AddBackward0>)\n",
            "Time 75.12106084823608 loss tensor(1.5441, grad_fn=<AddBackward0>)\n",
            "Time 76.71048212051392 loss tensor(1.5435, grad_fn=<AddBackward0>)\n",
            "Time 78.26359963417053 loss tensor(1.5506, grad_fn=<AddBackward0>)\n",
            "Time 80.38349413871765 loss tensor(1.5342, grad_fn=<AddBackward0>)\n",
            "Time 82.2726879119873 loss tensor(1.5311, grad_fn=<AddBackward0>)\n",
            "Time 83.82524728775024 loss tensor(1.5350, grad_fn=<AddBackward0>)\n",
            "Time 85.46581411361694 loss tensor(1.5290, grad_fn=<AddBackward0>)\n",
            "Time 87.11356663703918 loss tensor(1.5291, grad_fn=<AddBackward0>)\n",
            "Time 88.7954535484314 loss tensor(1.5291, grad_fn=<AddBackward0>)\n",
            "Time 90.41162037849426 loss tensor(1.5290, grad_fn=<AddBackward0>)\n",
            "Time 92.29225587844849 loss tensor(1.5290, grad_fn=<AddBackward0>)\n",
            "Time 94.39095401763916 loss tensor(1.5653, grad_fn=<AddBackward0>)\n",
            "Time 96.06397414207458 loss tensor(1.5319, grad_fn=<AddBackward0>)\n",
            "Time 97.77136206626892 loss tensor(1.5485, grad_fn=<AddBackward0>)\n",
            "Time 99.36783266067505 loss tensor(1.5401, grad_fn=<AddBackward0>)\n",
            "Time 101.16125130653381 loss tensor(1.5300, grad_fn=<AddBackward0>)\n",
            "Time 102.80721592903137 loss tensor(1.5248, grad_fn=<AddBackward0>)\n",
            "Time 104.54788851737976 loss tensor(1.5248, grad_fn=<AddBackward0>)\n",
            "Final execution time 104.54788851737976\n",
            "Mean execution time of an iteration 0.2090957770347595\n"
          ]
        }
      ]
    },
    {
      "cell_type": "code",
      "source": [
        "plt.plot(accuracies)"
      ],
      "metadata": {
        "id": "hysIZk4jBGuJ",
        "outputId": "1519b436-316a-4c25-db18-5bf3ec505afc",
        "colab": {
          "base_uri": "https://localhost:8080/",
          "height": 283
        }
      },
      "execution_count": 37,
      "outputs": [
        {
          "output_type": "execute_result",
          "data": {
            "text/plain": [
              "[<matplotlib.lines.Line2D at 0x7f49f51a3640>]"
            ]
          },
          "metadata": {},
          "execution_count": 37
        },
        {
          "output_type": "display_data",
          "data": {
            "text/plain": [
              "<Figure size 432x288 with 1 Axes>"
            ],
            "image/png": "[encoded data removed]"
          },
          "metadata": {
            "needs_background": "light"
          }
        }
      ]
    },
    {
      "cell_type": "code",
      "source": [
        "plt.plot(losses)"
      ],
      "metadata": {
        "id": "yMO580FdBOUX",
        "outputId": "6736ff2a-d0a9-4c77-c800-59e97db1e0fa",
        "colab": {
          "base_uri": "https://localhost:8080/",
          "height": 283
        }
      },
      "execution_count": 38,
      "outputs": [
        {
          "output_type": "execute_result",
          "data": {
            "text/plain": [
              "[<matplotlib.lines.Line2D at 0x7f49f4f4d310>]"
            ]
          },
          "metadata": {},
          "execution_count": 38
        },
        {
          "output_type": "display_data",
          "data": {
            "text/plain": [
              "<Figure size 432x288 with 1 Axes>"
            ],
            "image/png": "[encoded data removed]"
          },
          "metadata": {
            "needs_background": "light"
          }
        }
      ]
    }
  ]
}