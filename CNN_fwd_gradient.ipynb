{
  "nbformat": 4,
  "nbformat_minor": 0,
  "metadata": {
    "colab": {
      "provenance": [],
      "include_colab_link": true
    },
    "kernelspec": {
      "name": "python3",
      "display_name": "Python 3"
    },
    "language_info": {
      "name": "python"
    },
    "accelerator": "GPU",
    "gpuClass": "standard",
    "widgets": {
      "application/vnd.jupyter.widget-state+json": {
        "4e215733ddb1422a80a28604f6a1a17a": {
          "model_module": "@jupyter-widgets/controls",
          "model_name": "HBoxModel",
          "model_module_version": "1.5.0",
          "state": {
            "_dom_classes": [],
            "_model_module": "@jupyter-widgets/controls",
            "_model_module_version": "1.5.0",
            "_model_name": "HBoxModel",
            "_view_count": null,
            "_view_module": "@jupyter-widgets/controls",
            "_view_module_version": "1.5.0",
            "_view_name": "HBoxView",
            "box_style": "",
            "children": [
              "IPY_MODEL_72eaedd877a742da8ddcf155bf74d517",
              "IPY_MODEL_cda43ad429684fb0897e1e2d73b7528c",
              "IPY_MODEL_572a44f0486f45b2924e24b1f845b3a4"
            ],
            "layout": "IPY_MODEL_c3112c70584f4433ab95389a9847073e"
          }
        },
        "72eaedd877a742da8ddcf155bf74d517": {
          "model_module": "@jupyter-widgets/controls",
          "model_name": "HTMLModel",
          "model_module_version": "1.5.0",
          "state": {
            "_dom_classes": [],
            "_model_module": "@jupyter-widgets/controls",
            "_model_module_version": "1.5.0",
            "_model_name": "HTMLModel",
            "_view_count": null,
            "_view_module": "@jupyter-widgets/controls",
            "_view_module_version": "1.5.0",
            "_view_name": "HTMLView",
            "description": "",
            "description_tooltip": null,
            "layout": "IPY_MODEL_0ff130daecb34f3c95448eb5e9ffa4cb",
            "placeholder": "​",
            "style": "IPY_MODEL_d6fba572c253498d8531c98228f2d21b",
            "value": "100%"
          }
        },
        "cda43ad429684fb0897e1e2d73b7528c": {
          "model_module": "@jupyter-widgets/controls",
          "model_name": "FloatProgressModel",
          "model_module_version": "1.5.0",
          "state": {
            "_dom_classes": [],
            "_model_module": "@jupyter-widgets/controls",
            "_model_module_version": "1.5.0",
            "_model_name": "FloatProgressModel",
            "_view_count": null,
            "_view_module": "@jupyter-widgets/controls",
            "_view_module_version": "1.5.0",
            "_view_name": "ProgressView",
            "bar_style": "success",
            "description": "",
            "description_tooltip": null,
            "layout": "IPY_MODEL_9c34be70426f4e548736d110dcddc263",
            "max": 18165135,
            "min": 0,
            "orientation": "horizontal",
            "style": "IPY_MODEL_54291d29033046cc9eb663dfa0d8cba1",
            "value": 18165135
          }
        },
        "572a44f0486f45b2924e24b1f845b3a4": {
          "model_module": "@jupyter-widgets/controls",
          "model_name": "HTMLModel",
          "model_module_version": "1.5.0",
          "state": {
            "_dom_classes": [],
            "_model_module": "@jupyter-widgets/controls",
            "_model_module_version": "1.5.0",
            "_model_name": "HTMLModel",
            "_view_count": null,
            "_view_module": "@jupyter-widgets/controls",
            "_view_module_version": "1.5.0",
            "_view_name": "HTMLView",
            "description": "",
            "description_tooltip": null,
            "layout": "IPY_MODEL_c5f2bf3ed47b4e8c9536087cdfc2d70b",
            "placeholder": "​",
            "style": "IPY_MODEL_17077f985f684d4f9ac3de4a5b84bdfd",
            "value": " 18165135/18165135 [00:10&lt;00:00, 1923124.58it/s]"
          }
        },
        "c3112c70584f4433ab95389a9847073e": {
          "model_module": "@jupyter-widgets/base",
          "model_name": "LayoutModel",
          "model_module_version": "1.2.0",
          "state": {
            "_model_module": "@jupyter-widgets/base",
            "_model_module_version": "1.2.0",
            "_model_name": "LayoutModel",
            "_view_count": null,
            "_view_module": "@jupyter-widgets/base",
            "_view_module_version": "1.2.0",
            "_view_name": "LayoutView",
            "align_content": null,
            "align_items": null,
            "align_self": null,
            "border": null,
            "bottom": null,
            "display": null,
            "flex": null,
            "flex_flow": null,
            "grid_area": null,
            "grid_auto_columns": null,
            "grid_auto_flow": null,
            "grid_auto_rows": null,
            "grid_column": null,
            "grid_gap": null,
            "grid_row": null,
            "grid_template_areas": null,
            "grid_template_columns": null,
            "grid_template_rows": null,
            "height": null,
            "justify_content": null,
            "justify_items": null,
            "left": null,
            "margin": null,
            "max_height": null,
            "max_width": null,
            "min_height": null,
            "min_width": null,
            "object_fit": null,
            "object_position": null,
            "order": null,
            "overflow": null,
            "overflow_x": null,
            "overflow_y": null,
            "padding": null,
            "right": null,
            "top": null,
            "visibility": null,
            "width": null
          }
        },
        "0ff130daecb34f3c95448eb5e9ffa4cb": {
          "model_module": "@jupyter-widgets/base",
          "model_name": "LayoutModel",
          "model_module_version": "1.2.0",
          "state": {
            "_model_module": "@jupyter-widgets/base",
            "_model_module_version": "1.2.0",
            "_model_name": "LayoutModel",
            "_view_count": null,
            "_view_module": "@jupyter-widgets/base",
            "_view_module_version": "1.2.0",
            "_view_name": "LayoutView",
            "align_content": null,
            "align_items": null,
            "align_self": null,
            "border": null,
            "bottom": null,
            "display": null,
            "flex": null,
            "flex_flow": null,
            "grid_area": null,
            "grid_auto_columns": null,
            "grid_auto_flow": null,
            "grid_auto_rows": null,
            "grid_column": null,
            "grid_gap": null,
            "grid_row": null,
            "grid_template_areas": null,
            "grid_template_columns": null,
            "grid_template_rows": null,
            "height": null,
            "justify_content": null,
            "justify_items": null,
            "left": null,
            "margin": null,
            "max_height": null,
            "max_width": null,
            "min_height": null,
            "min_width": null,
            "object_fit": null,
            "object_position": null,
            "order": null,
            "overflow": null,
            "overflow_x": null,
            "overflow_y": null,
            "padding": null,
            "right": null,
            "top": null,
            "visibility": null,
            "width": null
          }
        },
        "d6fba572c253498d8531c98228f2d21b": {
          "model_module": "@jupyter-widgets/controls",
          "model_name": "DescriptionStyleModel",
          "model_module_version": "1.5.0",
          "state": {
            "_model_module": "@jupyter-widgets/controls",
            "_model_module_version": "1.5.0",
            "_model_name": "DescriptionStyleModel",
            "_view_count": null,
            "_view_module": "@jupyter-widgets/base",
            "_view_module_version": "1.2.0",
            "_view_name": "StyleView",
            "description_width": ""
          }
        },
        "9c34be70426f4e548736d110dcddc263": {
          "model_module": "@jupyter-widgets/base",
          "model_name": "LayoutModel",
          "model_module_version": "1.2.0",
          "state": {
            "_model_module": "@jupyter-widgets/base",
            "_model_module_version": "1.2.0",
            "_model_name": "LayoutModel",
            "_view_count": null,
            "_view_module": "@jupyter-widgets/base",
            "_view_module_version": "1.2.0",
            "_view_name": "LayoutView",
            "align_content": null,
            "align_items": null,
            "align_self": null,
            "border": null,
            "bottom": null,
            "display": null,
            "flex": null,
            "flex_flow": null,
            "grid_area": null,
            "grid_auto_columns": null,
            "grid_auto_flow": null,
            "grid_auto_rows": null,
            "grid_column": null,
            "grid_gap": null,
            "grid_row": null,
            "grid_template_areas": null,
            "grid_template_columns": null,
            "grid_template_rows": null,
            "height": null,
            "justify_content": null,
            "justify_items": null,
            "left": null,
            "margin": null,
            "max_height": null,
            "max_width": null,
            "min_height": null,
            "min_width": null,
            "object_fit": null,
            "object_position": null,
            "order": null,
            "overflow": null,
            "overflow_x": null,
            "overflow_y": null,
            "padding": null,
            "right": null,
            "top": null,
            "visibility": null,
            "width": null
          }
        },
        "54291d29033046cc9eb663dfa0d8cba1": {
          "model_module": "@jupyter-widgets/controls",
          "model_name": "ProgressStyleModel",
          "model_module_version": "1.5.0",
          "state": {
            "_model_module": "@jupyter-widgets/controls",
            "_model_module_version": "1.5.0",
            "_model_name": "ProgressStyleModel",
            "_view_count": null,
            "_view_module": "@jupyter-widgets/base",
            "_view_module_version": "1.2.0",
            "_view_name": "StyleView",
            "bar_color": null,
            "description_width": ""
          }
        },
        "c5f2bf3ed47b4e8c9536087cdfc2d70b": {
          "model_module": "@jupyter-widgets/base",
          "model_name": "LayoutModel",
          "model_module_version": "1.2.0",
          "state": {
            "_model_module": "@jupyter-widgets/base",
            "_model_module_version": "1.2.0",
            "_model_name": "LayoutModel",
            "_view_count": null,
            "_view_module": "@jupyter-widgets/base",
            "_view_module_version": "1.2.0",
            "_view_name": "LayoutView",
            "align_content": null,
            "align_items": null,
            "align_self": null,
            "border": null,
            "bottom": null,
            "display": null,
            "flex": null,
            "flex_flow": null,
            "grid_area": null,
            "grid_auto_columns": null,
            "grid_auto_flow": null,
            "grid_auto_rows": null,
            "grid_column": null,
            "grid_gap": null,
            "grid_row": null,
            "grid_template_areas": null,
            "grid_template_columns": null,
            "grid_template_rows": null,
            "height": null,
            "justify_content": null,
            "justify_items": null,
            "left": null,
            "margin": null,
            "max_height": null,
            "max_width": null,
            "min_height": null,
            "min_width": null,
            "object_fit": null,
            "object_position": null,
            "order": null,
            "overflow": null,
            "overflow_x": null,
            "overflow_y": null,
            "padding": null,
            "right": null,
            "top": null,
            "visibility": null,
            "width": null
          }
        },
        "17077f985f684d4f9ac3de4a5b84bdfd": {
          "model_module": "@jupyter-widgets/controls",
          "model_name": "DescriptionStyleModel",
          "model_module_version": "1.5.0",
          "state": {
            "_model_module": "@jupyter-widgets/controls",
            "_model_module_version": "1.5.0",
            "_model_name": "DescriptionStyleModel",
            "_view_count": null,
            "_view_module": "@jupyter-widgets/base",
            "_view_module_version": "1.2.0",
            "_view_name": "StyleView",
            "description_width": ""
          }
        },
        "1517b6bd02354281a7620a93465e9f2f": {
          "model_module": "@jupyter-widgets/controls",
          "model_name": "HBoxModel",
          "model_module_version": "1.5.0",
          "state": {
            "_dom_classes": [],
            "_model_module": "@jupyter-widgets/controls",
            "_model_module_version": "1.5.0",
            "_model_name": "HBoxModel",
            "_view_count": null,
            "_view_module": "@jupyter-widgets/controls",
            "_view_module_version": "1.5.0",
            "_view_name": "HBoxView",
            "box_style": "",
            "children": [
              "IPY_MODEL_18dbd234dc3446f4ac4ceda6c31a824b",
              "IPY_MODEL_80d2f79dcc724986b61914a11cd7521a",
              "IPY_MODEL_06102a7563e8456887cdf625f608838b"
            ],
            "layout": "IPY_MODEL_7999f659ef054f81b0d4277628d6abac"
          }
        },
        "18dbd234dc3446f4ac4ceda6c31a824b": {
          "model_module": "@jupyter-widgets/controls",
          "model_name": "HTMLModel",
          "model_module_version": "1.5.0",
          "state": {
            "_dom_classes": [],
            "_model_module": "@jupyter-widgets/controls",
            "_model_module_version": "1.5.0",
            "_model_name": "HTMLModel",
            "_view_count": null,
            "_view_module": "@jupyter-widgets/controls",
            "_view_module_version": "1.5.0",
            "_view_name": "HTMLView",
            "description": "",
            "description_tooltip": null,
            "layout": "IPY_MODEL_c343f1d012c44fd1837de88d78a4c4ea",
            "placeholder": "​",
            "style": "IPY_MODEL_70f3fae117ca4a6f8c3ac562d34b38b1",
            "value": "100%"
          }
        },
        "80d2f79dcc724986b61914a11cd7521a": {
          "model_module": "@jupyter-widgets/controls",
          "model_name": "FloatProgressModel",
          "model_module_version": "1.5.0",
          "state": {
            "_dom_classes": [],
            "_model_module": "@jupyter-widgets/controls",
            "_model_module_version": "1.5.0",
            "_model_name": "FloatProgressModel",
            "_view_count": null,
            "_view_module": "@jupyter-widgets/controls",
            "_view_module_version": "1.5.0",
            "_view_name": "ProgressView",
            "bar_style": "success",
            "description": "",
            "description_tooltip": null,
            "layout": "IPY_MODEL_5a56c8d5d109464fa38b5e5b97bbb65b",
            "max": 29497,
            "min": 0,
            "orientation": "horizontal",
            "style": "IPY_MODEL_c5895aad772940abb18ac35085836718",
            "value": 29497
          }
        },
        "06102a7563e8456887cdf625f608838b": {
          "model_module": "@jupyter-widgets/controls",
          "model_name": "HTMLModel",
          "model_module_version": "1.5.0",
          "state": {
            "_dom_classes": [],
            "_model_module": "@jupyter-widgets/controls",
            "_model_module_version": "1.5.0",
            "_model_name": "HTMLModel",
            "_view_count": null,
            "_view_module": "@jupyter-widgets/controls",
            "_view_module_version": "1.5.0",
            "_view_name": "HTMLView",
            "description": "",
            "description_tooltip": null,
            "layout": "IPY_MODEL_43cba7a846a04a1d92ee05fe6d9e5c63",
            "placeholder": "​",
            "style": "IPY_MODEL_2002cbddb51b42e6a1f0e563efa377ba",
            "value": " 29497/29497 [00:00&lt;00:00, 319302.20it/s]"
          }
        },
        "7999f659ef054f81b0d4277628d6abac": {
          "model_module": "@jupyter-widgets/base",
          "model_name": "LayoutModel",
          "model_module_version": "1.2.0",
          "state": {
            "_model_module": "@jupyter-widgets/base",
            "_model_module_version": "1.2.0",
            "_model_name": "LayoutModel",
            "_view_count": null,
            "_view_module": "@jupyter-widgets/base",
            "_view_module_version": "1.2.0",
            "_view_name": "LayoutView",
            "align_content": null,
            "align_items": null,
            "align_self": null,
            "border": null,
            "bottom": null,
            "display": null,
            "flex": null,
            "flex_flow": null,
            "grid_area": null,
            "grid_auto_columns": null,
            "grid_auto_flow": null,
            "grid_auto_rows": null,
            "grid_column": null,
            "grid_gap": null,
            "grid_row": null,
            "grid_template_areas": null,
            "grid_template_columns": null,
            "grid_template_rows": null,
            "height": null,
            "justify_content": null,
            "justify_items": null,
            "left": null,
            "margin": null,
            "max_height": null,
            "max_width": null,
            "min_height": null,
            "min_width": null,
            "object_fit": null,
            "object_position": null,
            "order": null,
            "overflow": null,
            "overflow_x": null,
            "overflow_y": null,
            "padding": null,
            "right": null,
            "top": null,
            "visibility": null,
            "width": null
          }
        },
        "c343f1d012c44fd1837de88d78a4c4ea": {
          "model_module": "@jupyter-widgets/base",
          "model_name": "LayoutModel",
          "model_module_version": "1.2.0",
          "state": {
            "_model_module": "@jupyter-widgets/base",
            "_model_module_version": "1.2.0",
            "_model_name": "LayoutModel",
            "_view_count": null,
            "_view_module": "@jupyter-widgets/base",
            "_view_module_version": "1.2.0",
            "_view_name": "LayoutView",
            "align_content": null,
            "align_items": null,
            "align_self": null,
            "border": null,
            "bottom": null,
            "display": null,
            "flex": null,
            "flex_flow": null,
            "grid_area": null,
            "grid_auto_columns": null,
            "grid_auto_flow": null,
            "grid_auto_rows": null,
            "grid_column": null,
            "grid_gap": null,
            "grid_row": null,
            "grid_template_areas": null,
            "grid_template_columns": null,
            "grid_template_rows": null,
            "height": null,
            "justify_content": null,
            "justify_items": null,
            "left": null,
            "margin": null,
            "max_height": null,
            "max_width": null,
            "min_height": null,
            "min_width": null,
            "object_fit": null,
            "object_position": null,
            "order": null,
            "overflow": null,
            "overflow_x": null,
            "overflow_y": null,
            "padding": null,
            "right": null,
            "top": null,
            "visibility": null,
            "width": null
          }
        },
        "70f3fae117ca4a6f8c3ac562d34b38b1": {
          "model_module": "@jupyter-widgets/controls",
          "model_name": "DescriptionStyleModel",
          "model_module_version": "1.5.0",
          "state": {
            "_model_module": "@jupyter-widgets/controls",
            "_model_module_version": "1.5.0",
            "_model_name": "DescriptionStyleModel",
            "_view_count": null,
            "_view_module": "@jupyter-widgets/base",
            "_view_module_version": "1.2.0",
            "_view_name": "StyleView",
            "description_width": ""
          }
        },
        "5a56c8d5d109464fa38b5e5b97bbb65b": {
          "model_module": "@jupyter-widgets/base",
          "model_name": "LayoutModel",
          "model_module_version": "1.2.0",
          "state": {
            "_model_module": "@jupyter-widgets/base",
            "_model_module_version": "1.2.0",
            "_model_name": "LayoutModel",
            "_view_count": null,
            "_view_module": "@jupyter-widgets/base",
            "_view_module_version": "1.2.0",
            "_view_name": "LayoutView",
            "align_content": null,
            "align_items": null,
            "align_self": null,
            "border": null,
            "bottom": null,
            "display": null,
            "flex": null,
            "flex_flow": null,
            "grid_area": null,
            "grid_auto_columns": null,
            "grid_auto_flow": null,
            "grid_auto_rows": null,
            "grid_column": null,
            "grid_gap": null,
            "grid_row": null,
            "grid_template_areas": null,
            "grid_template_columns": null,
            "grid_template_rows": null,
            "height": null,
            "justify_content": null,
            "justify_items": null,
            "left": null,
            "margin": null,
            "max_height": null,
            "max_width": null,
            "min_height": null,
            "min_width": null,
            "object_fit": null,
            "object_position": null,
            "order": null,
            "overflow": null,
            "overflow_x": null,
            "overflow_y": null,
            "padding": null,
            "right": null,
            "top": null,
            "visibility": null,
            "width": null
          }
        },
        "c5895aad772940abb18ac35085836718": {
          "model_module": "@jupyter-widgets/controls",
          "model_name": "ProgressStyleModel",
          "model_module_version": "1.5.0",
          "state": {
            "_model_module": "@jupyter-widgets/controls",
            "_model_module_version": "1.5.0",
            "_model_name": "ProgressStyleModel",
            "_view_count": null,
            "_view_module": "@jupyter-widgets/base",
            "_view_module_version": "1.2.0",
            "_view_name": "StyleView",
            "bar_color": null,
            "description_width": ""
          }
        },
        "43cba7a846a04a1d92ee05fe6d9e5c63": {
          "model_module": "@jupyter-widgets/base",
          "model_name": "LayoutModel",
          "model_module_version": "1.2.0",
          "state": {
            "_model_module": "@jupyter-widgets/base",
            "_model_module_version": "1.2.0",
            "_model_name": "LayoutModel",
            "_view_count": null,
            "_view_module": "@jupyter-widgets/base",
            "_view_module_version": "1.2.0",
            "_view_name": "LayoutView",
            "align_content": null,
            "align_items": null,
            "align_self": null,
            "border": null,
            "bottom": null,
            "display": null,
            "flex": null,
            "flex_flow": null,
            "grid_area": null,
            "grid_auto_columns": null,
            "grid_auto_flow": null,
            "grid_auto_rows": null,
            "grid_column": null,
            "grid_gap": null,
            "grid_row": null,
            "grid_template_areas": null,
            "grid_template_columns": null,
            "grid_template_rows": null,
            "height": null,
            "justify_content": null,
            "justify_items": null,
            "left": null,
            "margin": null,
            "max_height": null,
            "max_width": null,
            "min_height": null,
            "min_width": null,
            "object_fit": null,
            "object_position": null,
            "order": null,
            "overflow": null,
            "overflow_x": null,
            "overflow_y": null,
            "padding": null,
            "right": null,
            "top": null,
            "visibility": null,
            "width": null
          }
        },
        "2002cbddb51b42e6a1f0e563efa377ba": {
          "model_module": "@jupyter-widgets/controls",
          "model_name": "DescriptionStyleModel",
          "model_module_version": "1.5.0",
          "state": {
            "_model_module": "@jupyter-widgets/controls",
            "_model_module_version": "1.5.0",
            "_model_name": "DescriptionStyleModel",
            "_view_count": null,
            "_view_module": "@jupyter-widgets/base",
            "_view_module_version": "1.2.0",
            "_view_name": "StyleView",
            "description_width": ""
          }
        },
        "23389d0d49df4f04be0d46a3afaa52c5": {
          "model_module": "@jupyter-widgets/controls",
          "model_name": "HBoxModel",
          "model_module_version": "1.5.0",
          "state": {
            "_dom_classes": [],
            "_model_module": "@jupyter-widgets/controls",
            "_model_module_version": "1.5.0",
            "_model_name": "HBoxModel",
            "_view_count": null,
            "_view_module": "@jupyter-widgets/controls",
            "_view_module_version": "1.5.0",
            "_view_name": "HBoxView",
            "box_style": "",
            "children": [
              "IPY_MODEL_fc3b2314ee944581818707c89ec6c33c",
              "IPY_MODEL_7d541b112a4244f1931729791da5e135",
              "IPY_MODEL_7cc5e3e9caf24dde8771b9de3a706a6b"
            ],
            "layout": "IPY_MODEL_1f4c0819275540c9bb45eccd0aeb003b"
          }
        },
        "fc3b2314ee944581818707c89ec6c33c": {
          "model_module": "@jupyter-widgets/controls",
          "model_name": "HTMLModel",
          "model_module_version": "1.5.0",
          "state": {
            "_dom_classes": [],
            "_model_module": "@jupyter-widgets/controls",
            "_model_module_version": "1.5.0",
            "_model_name": "HTMLModel",
            "_view_count": null,
            "_view_module": "@jupyter-widgets/controls",
            "_view_module_version": "1.5.0",
            "_view_name": "HTMLView",
            "description": "",
            "description_tooltip": null,
            "layout": "IPY_MODEL_d6851c1558bd48d3a2765cf895876880",
            "placeholder": "​",
            "style": "IPY_MODEL_b4b87d9e828b48c9918ee8e8818b9b88",
            "value": "100%"
          }
        },
        "7d541b112a4244f1931729791da5e135": {
          "model_module": "@jupyter-widgets/controls",
          "model_name": "FloatProgressModel",
          "model_module_version": "1.5.0",
          "state": {
            "_dom_classes": [],
            "_model_module": "@jupyter-widgets/controls",
            "_model_module_version": "1.5.0",
            "_model_name": "FloatProgressModel",
            "_view_count": null,
            "_view_module": "@jupyter-widgets/controls",
            "_view_module_version": "1.5.0",
            "_view_name": "ProgressView",
            "bar_style": "success",
            "description": "",
            "description_tooltip": null,
            "layout": "IPY_MODEL_98014c19508543a1898872c0a611ba14",
            "max": 3041136,
            "min": 0,
            "orientation": "horizontal",
            "style": "IPY_MODEL_c0e8317ced36472b986862f4ed7e95f4",
            "value": 3041136
          }
        },
        "7cc5e3e9caf24dde8771b9de3a706a6b": {
          "model_module": "@jupyter-widgets/controls",
          "model_name": "HTMLModel",
          "model_module_version": "1.5.0",
          "state": {
            "_dom_classes": [],
            "_model_module": "@jupyter-widgets/controls",
            "_model_module_version": "1.5.0",
            "_model_name": "HTMLModel",
            "_view_count": null,
            "_view_module": "@jupyter-widgets/controls",
            "_view_module_version": "1.5.0",
            "_view_name": "HTMLView",
            "description": "",
            "description_tooltip": null,
            "layout": "IPY_MODEL_4b75ba8693964346943372ec2bbdfe46",
            "placeholder": "​",
            "style": "IPY_MODEL_150a04e53f764a9ab7a5df5403d15ebd",
            "value": " 3041136/3041136 [00:02&lt;00:00, 1683973.22it/s]"
          }
        },
        "1f4c0819275540c9bb45eccd0aeb003b": {
          "model_module": "@jupyter-widgets/base",
          "model_name": "LayoutModel",
          "model_module_version": "1.2.0",
          "state": {
            "_model_module": "@jupyter-widgets/base",
            "_model_module_version": "1.2.0",
            "_model_name": "LayoutModel",
            "_view_count": null,
            "_view_module": "@jupyter-widgets/base",
            "_view_module_version": "1.2.0",
            "_view_name": "LayoutView",
            "align_content": null,
            "align_items": null,
            "align_self": null,
            "border": null,
            "bottom": null,
            "display": null,
            "flex": null,
            "flex_flow": null,
            "grid_area": null,
            "grid_auto_columns": null,
            "grid_auto_flow": null,
            "grid_auto_rows": null,
            "grid_column": null,
            "grid_gap": null,
            "grid_row": null,
            "grid_template_areas": null,
            "grid_template_columns": null,
            "grid_template_rows": null,
            "height": null,
            "justify_content": null,
            "justify_items": null,
            "left": null,
            "margin": null,
            "max_height": null,
            "max_width": null,
            "min_height": null,
            "min_width": null,
            "object_fit": null,
            "object_position": null,
            "order": null,
            "overflow": null,
            "overflow_x": null,
            "overflow_y": null,
            "padding": null,
            "right": null,
            "top": null,
            "visibility": null,
            "width": null
          }
        },
        "d6851c1558bd48d3a2765cf895876880": {
          "model_module": "@jupyter-widgets/base",
          "model_name": "LayoutModel",
          "model_module_version": "1.2.0",
          "state": {
            "_model_module": "@jupyter-widgets/base",
            "_model_module_version": "1.2.0",
            "_model_name": "LayoutModel",
            "_view_count": null,
            "_view_module": "@jupyter-widgets/base",
            "_view_module_version": "1.2.0",
            "_view_name": "LayoutView",
            "align_content": null,
            "align_items": null,
            "align_self": null,
            "border": null,
            "bottom": null,
            "display": null,
            "flex": null,
            "flex_flow": null,
            "grid_area": null,
            "grid_auto_columns": null,
            "grid_auto_flow": null,
            "grid_auto_rows": null,
            "grid_column": null,
            "grid_gap": null,
            "grid_row": null,
            "grid_template_areas": null,
            "grid_template_columns": null,
            "grid_template_rows": null,
            "height": null,
            "justify_content": null,
            "justify_items": null,
            "left": null,
            "margin": null,
            "max_height": null,
            "max_width": null,
            "min_height": null,
            "min_width": null,
            "object_fit": null,
            "object_position": null,
            "order": null,
            "overflow": null,
            "overflow_x": null,
            "overflow_y": null,
            "padding": null,
            "right": null,
            "top": null,
            "visibility": null,
            "width": null
          }
        },
        "b4b87d9e828b48c9918ee8e8818b9b88": {
          "model_module": "@jupyter-widgets/controls",
          "model_name": "DescriptionStyleModel",
          "model_module_version": "1.5.0",
          "state": {
            "_model_module": "@jupyter-widgets/controls",
            "_model_module_version": "1.5.0",
            "_model_name": "DescriptionStyleModel",
            "_view_count": null,
            "_view_module": "@jupyter-widgets/base",
            "_view_module_version": "1.2.0",
            "_view_name": "StyleView",
            "description_width": ""
          }
        },
        "98014c19508543a1898872c0a611ba14": {
          "model_module": "@jupyter-widgets/base",
          "model_name": "LayoutModel",
          "model_module_version": "1.2.0",
          "state": {
            "_model_module": "@jupyter-widgets/base",
            "_model_module_version": "1.2.0",
            "_model_name": "LayoutModel",
            "_view_count": null,
            "_view_module": "@jupyter-widgets/base",
            "_view_module_version": "1.2.0",
            "_view_name": "LayoutView",
            "align_content": null,
            "align_items": null,
            "align_self": null,
            "border": null,
            "bottom": null,
            "display": null,
            "flex": null,
            "flex_flow": null,
            "grid_area": null,
            "grid_auto_columns": null,
            "grid_auto_flow": null,
            "grid_auto_rows": null,
            "grid_column": null,
            "grid_gap": null,
            "grid_row": null,
            "grid_template_areas": null,
            "grid_template_columns": null,
            "grid_template_rows": null,
            "height": null,
            "justify_content": null,
            "justify_items": null,
            "left": null,
            "margin": null,
            "max_height": null,
            "max_width": null,
            "min_height": null,
            "min_width": null,
            "object_fit": null,
            "object_position": null,
            "order": null,
            "overflow": null,
            "overflow_x": null,
            "overflow_y": null,
            "padding": null,
            "right": null,
            "top": null,
            "visibility": null,
            "width": null
          }
        },
        "c0e8317ced36472b986862f4ed7e95f4": {
          "model_module": "@jupyter-widgets/controls",
          "model_name": "ProgressStyleModel",
          "model_module_version": "1.5.0",
          "state": {
            "_model_module": "@jupyter-widgets/controls",
            "_model_module_version": "1.5.0",
            "_model_name": "ProgressStyleModel",
            "_view_count": null,
            "_view_module": "@jupyter-widgets/base",
            "_view_module_version": "1.2.0",
            "_view_name": "StyleView",
            "bar_color": null,
            "description_width": ""
          }
        },
        "4b75ba8693964346943372ec2bbdfe46": {
          "model_module": "@jupyter-widgets/base",
          "model_name": "LayoutModel",
          "model_module_version": "1.2.0",
          "state": {
            "_model_module": "@jupyter-widgets/base",
            "_model_module_version": "1.2.0",
            "_model_name": "LayoutModel",
            "_view_count": null,
            "_view_module": "@jupyter-widgets/base",
            "_view_module_version": "1.2.0",
            "_view_name": "LayoutView",
            "align_content": null,
            "align_items": null,
            "align_self": null,
            "border": null,
            "bottom": null,
            "display": null,
            "flex": null,
            "flex_flow": null,
            "grid_area": null,
            "grid_auto_columns": null,
            "grid_auto_flow": null,
            "grid_auto_rows": null,
            "grid_column": null,
            "grid_gap": null,
            "grid_row": null,
            "grid_template_areas": null,
            "grid_template_columns": null,
            "grid_template_rows": null,
            "height": null,
            "justify_content": null,
            "justify_items": null,
            "left": null,
            "margin": null,
            "max_height": null,
            "max_width": null,
            "min_height": null,
            "min_width": null,
            "object_fit": null,
            "object_position": null,
            "order": null,
            "overflow": null,
            "overflow_x": null,
            "overflow_y": null,
            "padding": null,
            "right": null,
            "top": null,
            "visibility": null,
            "width": null
          }
        },
        "150a04e53f764a9ab7a5df5403d15ebd": {
          "model_module": "@jupyter-widgets/controls",
          "model_name": "DescriptionStyleModel",
          "model_module_version": "1.5.0",
          "state": {
            "_model_module": "@jupyter-widgets/controls",
            "_model_module_version": "1.5.0",
            "_model_name": "DescriptionStyleModel",
            "_view_count": null,
            "_view_module": "@jupyter-widgets/base",
            "_view_module_version": "1.2.0",
            "_view_name": "StyleView",
            "description_width": ""
          }
        },
        "bb87e1ac9f9e40468fdab2cafa0a3a12": {
          "model_module": "@jupyter-widgets/controls",
          "model_name": "HBoxModel",
          "model_module_version": "1.5.0",
          "state": {
            "_dom_classes": [],
            "_model_module": "@jupyter-widgets/controls",
            "_model_module_version": "1.5.0",
            "_model_name": "HBoxModel",
            "_view_count": null,
            "_view_module": "@jupyter-widgets/controls",
            "_view_module_version": "1.5.0",
            "_view_name": "HBoxView",
            "box_style": "",
            "children": [
              "IPY_MODEL_118b68dffeeb459e9ebb14670a4c2cb5",
              "IPY_MODEL_cc887032df324e7fb98d175a5aa44648",
              "IPY_MODEL_0672904d5f85418798906ba2d27a2ed2"
            ],
            "layout": "IPY_MODEL_6698521f2871484fa720cb9dfce253de"
          }
        },
        "118b68dffeeb459e9ebb14670a4c2cb5": {
          "model_module": "@jupyter-widgets/controls",
          "model_name": "HTMLModel",
          "model_module_version": "1.5.0",
          "state": {
            "_dom_classes": [],
            "_model_module": "@jupyter-widgets/controls",
            "_model_module_version": "1.5.0",
            "_model_name": "HTMLModel",
            "_view_count": null,
            "_view_module": "@jupyter-widgets/controls",
            "_view_module_version": "1.5.0",
            "_view_name": "HTMLView",
            "description": "",
            "description_tooltip": null,
            "layout": "IPY_MODEL_b424393f2e0747ca9314270a4d9b0f62",
            "placeholder": "​",
            "style": "IPY_MODEL_6f91af06e3634749a90f7cb113d9bb5c",
            "value": "100%"
          }
        },
        "cc887032df324e7fb98d175a5aa44648": {
          "model_module": "@jupyter-widgets/controls",
          "model_name": "FloatProgressModel",
          "model_module_version": "1.5.0",
          "state": {
            "_dom_classes": [],
            "_model_module": "@jupyter-widgets/controls",
            "_model_module_version": "1.5.0",
            "_model_name": "FloatProgressModel",
            "_view_count": null,
            "_view_module": "@jupyter-widgets/controls",
            "_view_module_version": "1.5.0",
            "_view_name": "ProgressView",
            "bar_style": "success",
            "description": "",
            "description_tooltip": null,
            "layout": "IPY_MODEL_829abfe9197546ffb81e36b18018ebb1",
            "max": 5120,
            "min": 0,
            "orientation": "horizontal",
            "style": "IPY_MODEL_7e6241ace9c34cec8e8d3f74d107cd89",
            "value": 5120
          }
        },
        "0672904d5f85418798906ba2d27a2ed2": {
          "model_module": "@jupyter-widgets/controls",
          "model_name": "HTMLModel",
          "model_module_version": "1.5.0",
          "state": {
            "_dom_classes": [],
            "_model_module": "@jupyter-widgets/controls",
            "_model_module_version": "1.5.0",
            "_model_name": "HTMLModel",
            "_view_count": null,
            "_view_module": "@jupyter-widgets/controls",
            "_view_module_version": "1.5.0",
            "_view_name": "HTMLView",
            "description": "",
            "description_tooltip": null,
            "layout": "IPY_MODEL_84a7a0103eb748bab5db7e429c69f6b5",
            "placeholder": "​",
            "style": "IPY_MODEL_ba680895aa20435bba656a43efa51996",
            "value": " 5120/5120 [00:00&lt;00:00, 113667.38it/s]"
          }
        },
        "6698521f2871484fa720cb9dfce253de": {
          "model_module": "@jupyter-widgets/base",
          "model_name": "LayoutModel",
          "model_module_version": "1.2.0",
          "state": {
            "_model_module": "@jupyter-widgets/base",
            "_model_module_version": "1.2.0",
            "_model_name": "LayoutModel",
            "_view_count": null,
            "_view_module": "@jupyter-widgets/base",
            "_view_module_version": "1.2.0",
            "_view_name": "LayoutView",
            "align_content": null,
            "align_items": null,
            "align_self": null,
            "border": null,
            "bottom": null,
            "display": null,
            "flex": null,
            "flex_flow": null,
            "grid_area": null,
            "grid_auto_columns": null,
            "grid_auto_flow": null,
            "grid_auto_rows": null,
            "grid_column": null,
            "grid_gap": null,
            "grid_row": null,
            "grid_template_areas": null,
            "grid_template_columns": null,
            "grid_template_rows": null,
            "height": null,
            "justify_content": null,
            "justify_items": null,
            "left": null,
            "margin": null,
            "max_height": null,
            "max_width": null,
            "min_height": null,
            "min_width": null,
            "object_fit": null,
            "object_position": null,
            "order": null,
            "overflow": null,
            "overflow_x": null,
            "overflow_y": null,
            "padding": null,
            "right": null,
            "top": null,
            "visibility": null,
            "width": null
          }
        },
        "b424393f2e0747ca9314270a4d9b0f62": {
          "model_module": "@jupyter-widgets/base",
          "model_name": "LayoutModel",
          "model_module_version": "1.2.0",
          "state": {
            "_model_module": "@jupyter-widgets/base",
            "_model_module_version": "1.2.0",
            "_model_name": "LayoutModel",
            "_view_count": null,
            "_view_module": "@jupyter-widgets/base",
            "_view_module_version": "1.2.0",
            "_view_name": "LayoutView",
            "align_content": null,
            "align_items": null,
            "align_self": null,
            "border": null,
            "bottom": null,
            "display": null,
            "flex": null,
            "flex_flow": null,
            "grid_area": null,
            "grid_auto_columns": null,
            "grid_auto_flow": null,
            "grid_auto_rows": null,
            "grid_column": null,
            "grid_gap": null,
            "grid_row": null,
            "grid_template_areas": null,
            "grid_template_columns": null,
            "grid_template_rows": null,
            "height": null,
            "justify_content": null,
            "justify_items": null,
            "left": null,
            "margin": null,
            "max_height": null,
            "max_width": null,
            "min_height": null,
            "min_width": null,
            "object_fit": null,
            "object_position": null,
            "order": null,
            "overflow": null,
            "overflow_x": null,
            "overflow_y": null,
            "padding": null,
            "right": null,
            "top": null,
            "visibility": null,
            "width": null
          }
        },
        "6f91af06e3634749a90f7cb113d9bb5c": {
          "model_module": "@jupyter-widgets/controls",
          "model_name": "DescriptionStyleModel",
          "model_module_version": "1.5.0",
          "state": {
            "_model_module": "@jupyter-widgets/controls",
            "_model_module_version": "1.5.0",
            "_model_name": "DescriptionStyleModel",
            "_view_count": null,
            "_view_module": "@jupyter-widgets/base",
            "_view_module_version": "1.2.0",
            "_view_name": "StyleView",
            "description_width": ""
          }
        },
        "829abfe9197546ffb81e36b18018ebb1": {
          "model_module": "@jupyter-widgets/base",
          "model_name": "LayoutModel",
          "model_module_version": "1.2.0",
          "state": {
            "_model_module": "@jupyter-widgets/base",
            "_model_module_version": "1.2.0",
            "_model_name": "LayoutModel",
            "_view_count": null,
            "_view_module": "@jupyter-widgets/base",
            "_view_module_version": "1.2.0",
            "_view_name": "LayoutView",
            "align_content": null,
            "align_items": null,
            "align_self": null,
            "border": null,
            "bottom": null,
            "display": null,
            "flex": null,
            "flex_flow": null,
            "grid_area": null,
            "grid_auto_columns": null,
            "grid_auto_flow": null,
            "grid_auto_rows": null,
            "grid_column": null,
            "grid_gap": null,
            "grid_row": null,
            "grid_template_areas": null,
            "grid_template_columns": null,
            "grid_template_rows": null,
            "height": null,
            "justify_content": null,
            "justify_items": null,
            "left": null,
            "margin": null,
            "max_height": null,
            "max_width": null,
            "min_height": null,
            "min_width": null,
            "object_fit": null,
            "object_position": null,
            "order": null,
            "overflow": null,
            "overflow_x": null,
            "overflow_y": null,
            "padding": null,
            "right": null,
            "top": null,
            "visibility": null,
            "width": null
          }
        },
        "7e6241ace9c34cec8e8d3f74d107cd89": {
          "model_module": "@jupyter-widgets/controls",
          "model_name": "ProgressStyleModel",
          "model_module_version": "1.5.0",
          "state": {
            "_model_module": "@jupyter-widgets/controls",
            "_model_module_version": "1.5.0",
            "_model_name": "ProgressStyleModel",
            "_view_count": null,
            "_view_module": "@jupyter-widgets/base",
            "_view_module_version": "1.2.0",
            "_view_name": "StyleView",
            "bar_color": null,
            "description_width": ""
          }
        },
        "84a7a0103eb748bab5db7e429c69f6b5": {
          "model_module": "@jupyter-widgets/base",
          "model_name": "LayoutModel",
          "model_module_version": "1.2.0",
          "state": {
            "_model_module": "@jupyter-widgets/base",
            "_model_module_version": "1.2.0",
            "_model_name": "LayoutModel",
            "_view_count": null,
            "_view_module": "@jupyter-widgets/base",
            "_view_module_version": "1.2.0",
            "_view_name": "LayoutView",
            "align_content": null,
            "align_items": null,
            "align_self": null,
            "border": null,
            "bottom": null,
            "display": null,
            "flex": null,
            "flex_flow": null,
            "grid_area": null,
            "grid_auto_columns": null,
            "grid_auto_flow": null,
            "grid_auto_rows": null,
            "grid_column": null,
            "grid_gap": null,
            "grid_row": null,
            "grid_template_areas": null,
            "grid_template_columns": null,
            "grid_template_rows": null,
            "height": null,
            "justify_content": null,
            "justify_items": null,
            "left": null,
            "margin": null,
            "max_height": null,
            "max_width": null,
            "min_height": null,
            "min_width": null,
            "object_fit": null,
            "object_position": null,
            "order": null,
            "overflow": null,
            "overflow_x": null,
            "overflow_y": null,
            "padding": null,
            "right": null,
            "top": null,
            "visibility": null,
            "width": null
          }
        },
        "ba680895aa20435bba656a43efa51996": {
          "model_module": "@jupyter-widgets/controls",
          "model_name": "DescriptionStyleModel",
          "model_module_version": "1.5.0",
          "state": {
            "_model_module": "@jupyter-widgets/controls",
            "_model_module_version": "1.5.0",
            "_model_name": "DescriptionStyleModel",
            "_view_count": null,
            "_view_module": "@jupyter-widgets/base",
            "_view_module_version": "1.2.0",
            "_view_name": "StyleView",
            "description_width": ""
          }
        }
      }
    }
  },
  "cells": [
    {
      "cell_type": "markdown",
      "metadata": {
        "id": "view-in-github",
        "colab_type": "text"
      },
      "source": [
        "<a href=\"https://colab.research.google.com/github/davidraamirez/GradientWithoutBackpropagation/blob/main/CNN_fwd_gradient.ipynb\" target=\"_parent\"><img src=\"https://colab.research.google.com/assets/colab-badge.svg\" alt=\"Open In Colab\"/></a>"
      ]
    },
    {
      "cell_type": "markdown",
      "source": [
        "#**Import the necessary packages**"
      ],
      "metadata": {
        "id": "qkzEBdcD3BRq"
      }
    },
    {
      "cell_type": "code",
      "source": [
        "import torch\n",
        "import tensorflow_datasets as tfds\n",
        "from sklearn.model_selection import train_test_split\n",
        "import tqdm\n",
        "import torch.distributions as distr"
      ],
      "metadata": {
        "id": "dM-jay923zDH"
      },
      "execution_count": null,
      "outputs": []
    },
    {
      "cell_type": "code",
      "source": [
        "%pip install torchmetrics --quiet"
      ],
      "metadata": {
        "id": "2DoBHL2Tz2s3",
        "colab": {
          "base_uri": "https://localhost:8080/"
        },
        "outputId": "e6cd7d95-844e-404f-8ad2-d009a0eaabeb"
      },
      "execution_count": null,
      "outputs": [
        {
          "output_type": "stream",
          "name": "stdout",
          "text": [
            "\u001b[?25l     \u001b[90m━━━━━━━━━━━━━━━━━━━━━━━━━━━━━━━━━━━━━━━━\u001b[0m \u001b[32m0.0/517.2 KB\u001b[0m \u001b[31m?\u001b[0m eta \u001b[36m-:--:--\u001b[0m\r\u001b[2K     \u001b[91m━━━━━━━━━━━━━━━━━━━━━━━━━━━━━━━━━━━━━\u001b[0m\u001b[91m╸\u001b[0m \u001b[32m512.0/517.2 KB\u001b[0m \u001b[31m14.3 MB/s\u001b[0m eta \u001b[36m0:00:01\u001b[0m\r\u001b[2K     \u001b[91m━━━━━━━━━━━━━━━━━━━━━━━━━━━━━━━━━━━━━\u001b[0m\u001b[91m╸\u001b[0m \u001b[32m512.0/517.2 KB\u001b[0m \u001b[31m14.3 MB/s\u001b[0m eta \u001b[36m0:00:01\u001b[0m\r\u001b[2K     \u001b[90m━━━━━━━━━━━━━━━━━━━━━━━━━━━━━━━━━━━━━━━\u001b[0m \u001b[32m517.2/517.2 KB\u001b[0m \u001b[31m4.7 MB/s\u001b[0m eta \u001b[36m0:00:00\u001b[0m\n",
            "\u001b[?25h"
          ]
        }
      ]
    },
    {
      "cell_type": "code",
      "source": [
        "import torchmetrics\n",
        "import torchvision\n",
        "from torchvision import transforms as T\n",
        "from matplotlib import pyplot as plt"
      ],
      "metadata": {
        "id": "h5aLBvC5z3kK"
      },
      "execution_count": null,
      "outputs": []
    },
    {
      "cell_type": "code",
      "source": [
        "from torch import nn\n",
        "from torch.nn import functional as F"
      ],
      "metadata": {
        "id": "g3fVQdpkKkxM"
      },
      "execution_count": null,
      "outputs": []
    },
    {
      "cell_type": "code",
      "source": [
        "import functorch as fc\n",
        "from functorch import jvp\n",
        "from functools import partial"
      ],
      "metadata": {
        "id": "M29moBPxQL_g"
      },
      "execution_count": null,
      "outputs": []
    },
    {
      "cell_type": "code",
      "source": [
        "import time"
      ],
      "metadata": {
        "id": "0NmFS6q0Kq5Q"
      },
      "execution_count": null,
      "outputs": []
    },
    {
      "cell_type": "markdown",
      "source": [
        "# **Loading and preprocessing the data**"
      ],
      "metadata": {
        "id": "w_w7gA2P5bQz"
      }
    },
    {
      "cell_type": "code",
      "source": [
        "#Load the dataset\n",
        "train_data = torchvision.datasets.KMNIST('./data', train=True, download=True)"
      ],
      "metadata": {
        "id": "YNmPBpfS3FYq",
        "colab": {
          "base_uri": "https://localhost:8080/",
          "height": 455,
          "referenced_widgets": [
            "4e215733ddb1422a80a28604f6a1a17a",
            "72eaedd877a742da8ddcf155bf74d517",
            "cda43ad429684fb0897e1e2d73b7528c",
            "572a44f0486f45b2924e24b1f845b3a4",
            "c3112c70584f4433ab95389a9847073e",
            "0ff130daecb34f3c95448eb5e9ffa4cb",
            "d6fba572c253498d8531c98228f2d21b",
            "9c34be70426f4e548736d110dcddc263",
            "54291d29033046cc9eb663dfa0d8cba1",
            "c5f2bf3ed47b4e8c9536087cdfc2d70b",
            "17077f985f684d4f9ac3de4a5b84bdfd",
            "1517b6bd02354281a7620a93465e9f2f",
            "18dbd234dc3446f4ac4ceda6c31a824b",
            "80d2f79dcc724986b61914a11cd7521a",
            "06102a7563e8456887cdf625f608838b",
            "7999f659ef054f81b0d4277628d6abac",
            "c343f1d012c44fd1837de88d78a4c4ea",
            "70f3fae117ca4a6f8c3ac562d34b38b1",
            "5a56c8d5d109464fa38b5e5b97bbb65b",
            "c5895aad772940abb18ac35085836718",
            "43cba7a846a04a1d92ee05fe6d9e5c63",
            "2002cbddb51b42e6a1f0e563efa377ba",
            "23389d0d49df4f04be0d46a3afaa52c5",
            "fc3b2314ee944581818707c89ec6c33c",
            "7d541b112a4244f1931729791da5e135",
            "7cc5e3e9caf24dde8771b9de3a706a6b",
            "1f4c0819275540c9bb45eccd0aeb003b",
            "d6851c1558bd48d3a2765cf895876880",
            "b4b87d9e828b48c9918ee8e8818b9b88",
            "98014c19508543a1898872c0a611ba14",
            "c0e8317ced36472b986862f4ed7e95f4",
            "4b75ba8693964346943372ec2bbdfe46",
            "150a04e53f764a9ab7a5df5403d15ebd",
            "bb87e1ac9f9e40468fdab2cafa0a3a12",
            "118b68dffeeb459e9ebb14670a4c2cb5",
            "cc887032df324e7fb98d175a5aa44648",
            "0672904d5f85418798906ba2d27a2ed2",
            "6698521f2871484fa720cb9dfce253de",
            "b424393f2e0747ca9314270a4d9b0f62",
            "6f91af06e3634749a90f7cb113d9bb5c",
            "829abfe9197546ffb81e36b18018ebb1",
            "7e6241ace9c34cec8e8d3f74d107cd89",
            "84a7a0103eb748bab5db7e429c69f6b5",
            "ba680895aa20435bba656a43efa51996"
          ]
        },
        "outputId": "d8a2bd44-c1dd-462b-c3c7-394f7d0b1884"
      },
      "execution_count": null,
      "outputs": [
        {
          "output_type": "stream",
          "name": "stdout",
          "text": [
            "Downloading http://codh.rois.ac.jp/kmnist/dataset/kmnist/train-images-idx3-ubyte.gz\n",
            "Downloading http://codh.rois.ac.jp/kmnist/dataset/kmnist/train-images-idx3-ubyte.gz to ./data/KMNIST/raw/train-images-idx3-ubyte.gz\n"
          ]
        },
        {
          "output_type": "display_data",
          "data": {
            "text/plain": [
              "  0%|          | 0/18165135 [00:00<?, ?it/s]"
            ],
            "application/vnd.jupyter.widget-view+json": {
              "version_major": 2,
              "version_minor": 0,
              "model_id": "4e215733ddb1422a80a28604f6a1a17a"
            }
          },
          "metadata": {}
        },
        {
          "output_type": "stream",
          "name": "stdout",
          "text": [
            "Extracting ./data/KMNIST/raw/train-images-idx3-ubyte.gz to ./data/KMNIST/raw\n",
            "\n",
            "Downloading http://codh.rois.ac.jp/kmnist/dataset/kmnist/train-labels-idx1-ubyte.gz\n",
            "Downloading http://codh.rois.ac.jp/kmnist/dataset/kmnist/train-labels-idx1-ubyte.gz to ./data/KMNIST/raw/train-labels-idx1-ubyte.gz\n"
          ]
        },
        {
          "output_type": "display_data",
          "data": {
            "text/plain": [
              "  0%|          | 0/29497 [00:00<?, ?it/s]"
            ],
            "application/vnd.jupyter.widget-view+json": {
              "version_major": 2,
              "version_minor": 0,
              "model_id": "1517b6bd02354281a7620a93465e9f2f"
            }
          },
          "metadata": {}
        },
        {
          "output_type": "stream",
          "name": "stdout",
          "text": [
            "Extracting ./data/KMNIST/raw/train-labels-idx1-ubyte.gz to ./data/KMNIST/raw\n",
            "\n",
            "Downloading http://codh.rois.ac.jp/kmnist/dataset/kmnist/t10k-images-idx3-ubyte.gz\n",
            "Downloading http://codh.rois.ac.jp/kmnist/dataset/kmnist/t10k-images-idx3-ubyte.gz to ./data/KMNIST/raw/t10k-images-idx3-ubyte.gz\n"
          ]
        },
        {
          "output_type": "display_data",
          "data": {
            "text/plain": [
              "  0%|          | 0/3041136 [00:00<?, ?it/s]"
            ],
            "application/vnd.jupyter.widget-view+json": {
              "version_major": 2,
              "version_minor": 0,
              "model_id": "23389d0d49df4f04be0d46a3afaa52c5"
            }
          },
          "metadata": {}
        },
        {
          "output_type": "stream",
          "name": "stdout",
          "text": [
            "Extracting ./data/KMNIST/raw/t10k-images-idx3-ubyte.gz to ./data/KMNIST/raw\n",
            "\n",
            "Downloading http://codh.rois.ac.jp/kmnist/dataset/kmnist/t10k-labels-idx1-ubyte.gz\n",
            "Downloading http://codh.rois.ac.jp/kmnist/dataset/kmnist/t10k-labels-idx1-ubyte.gz to ./data/KMNIST/raw/t10k-labels-idx1-ubyte.gz\n"
          ]
        },
        {
          "output_type": "display_data",
          "data": {
            "text/plain": [
              "  0%|          | 0/5120 [00:00<?, ?it/s]"
            ],
            "application/vnd.jupyter.widget-view+json": {
              "version_major": 2,
              "version_minor": 0,
              "model_id": "bb87e1ac9f9e40468fdab2cafa0a3a12"
            }
          },
          "metadata": {}
        },
        {
          "output_type": "stream",
          "name": "stdout",
          "text": [
            "Extracting ./data/KMNIST/raw/t10k-labels-idx1-ubyte.gz to ./data/KMNIST/raw\n",
            "\n"
          ]
        }
      ]
    },
    {
      "cell_type": "code",
      "source": [
        "# This loads data with data conversion.\n",
        "train_data = torchvision.datasets.KMNIST('./data', train=True, transform=T.ToTensor())"
      ],
      "metadata": {
        "id": "SLtrWriJ07-S"
      },
      "execution_count": null,
      "outputs": []
    },
    {
      "cell_type": "code",
      "source": [
        "# We visualize the first sample of the dataset\n",
        "plt.imshow(train_data.data[0])\n",
        "print(train_data.targets[0])"
      ],
      "metadata": {
        "id": "jVI_A1TvK_RO",
        "outputId": "83f980bd-2254-466b-8d11-f8ef99359893",
        "colab": {
          "base_uri": "https://localhost:8080/",
          "height": 283
        }
      },
      "execution_count": null,
      "outputs": [
        {
          "output_type": "stream",
          "name": "stdout",
          "text": [
            "tensor(8)\n"
          ]
        },
        {
          "output_type": "display_data",
          "data": {
            "text/plain": [
              "<Figure size 432x288 with 1 Axes>"
            ],
            "image/png": "[encoded data removed]"
          },
          "metadata": {
            "needs_background": "light"
          }
        }
      ]
    },
    {
      "cell_type": "code",
      "source": [
        "# We use the loader to shuffle the elements of the dataset\n",
        "train_loader = torch.utils.data.DataLoader(train_data, shuffle=True)"
      ],
      "metadata": {
        "id": "L9a4PEGN0SUD"
      },
      "execution_count": null,
      "outputs": []
    },
    {
      "cell_type": "code",
      "source": [
        "# We get the first element of the loader\n",
        "xb, yb = next(iter(train_loader))"
      ],
      "metadata": {
        "id": "0HkrrE4f0f7K"
      },
      "execution_count": null,
      "outputs": []
    },
    {
      "cell_type": "code",
      "source": [
        "# Load the testset\n",
        "test_data = torchvision.datasets.KMNIST('./data', train=False, transform=T.ToTensor())\n",
        "test_loader = torch.utils.data.DataLoader(test_data, shuffle=True)"
      ],
      "metadata": {
        "id": "-acBNiYh1KxY"
      },
      "execution_count": null,
      "outputs": []
    },
    {
      "cell_type": "markdown",
      "source": [
        "# **Define Convolutional Neural Network**"
      ],
      "metadata": {
        "id": "T55GS3b95kKE"
      }
    },
    {
      "cell_type": "code",
      "source": [
        "class SimpleCNN(nn.Module):\n",
        "    def __init__(self, input_size):\n",
        "        super().__init__()\n",
        "        self.conv1 = nn.Conv2d(input_size, 2, 3, padding=1)\n",
        "\n",
        "        self.conv2 = nn.Conv2d(2, 4, 3, padding=1)\n",
        "\n",
        "        self.max_pool = nn.MaxPool2d(2)\n",
        "        self.fc1 = nn.Linear(4*14*14, 64)\n",
        "\n",
        "        self.fc2 = nn.Linear(64, 10)\n",
        "\n",
        "    def forward(self, x):\n",
        "        x = F.relu(self.conv1(x))\n",
        "        x = F.relu(self.conv2(x))\n",
        "        x = self.max_pool(x)\n",
        "        x = x.reshape((-1, 4*14*14))\n",
        "        x = F.relu(self.fc1(x))\n",
        "        x = self.fc2(x)\n",
        "        x = x.reshape(1, -1)\n",
        "        return torch.softmax(x, 1)"
      ],
      "metadata": {
        "id": "ssgUZF_S8gmM"
      },
      "execution_count": null,
      "outputs": []
    },
    {
      "cell_type": "code",
      "source": [
        "# We check if CUDA is available\n",
        "device = 'cuda' if torch.cuda.is_available() else 'cpu'\n",
        "print(device)"
      ],
      "metadata": {
        "colab": {
          "base_uri": "https://localhost:8080/"
        },
        "id": "ZZ9BguV01cPi",
        "outputId": "71e1ae6e-1567-4872-ee06-2608166a1fa9"
      },
      "execution_count": null,
      "outputs": [
        {
          "output_type": "stream",
          "name": "stdout",
          "text": [
            "cuda\n"
          ]
        }
      ]
    },
    {
      "cell_type": "markdown",
      "source": [
        "# **Initialize the parameters**"
      ],
      "metadata": {
        "id": "jgPnXQqq54pa"
      }
    },
    {
      "cell_type": "code",
      "source": [
        "# We initialize the parameters randomly and the model with an input size\n",
        "#conv1w = torch.FloatTensor(8, 1, 3, 3).uniform_(-1, 1)\n",
        "#conv1b = torch.randint(-1, 1, (8, ), dtype=torch.float32, requires_grad=False)\n",
        "#conv2w = torch.randint(-1, 1, (16, 8, 3, 3), dtype=torch.float32, requires_grad=False)\n",
        "#conv2b = torch.randint(-1, 1, (16, ), dtype=torch.float32, requires_grad=False)\n",
        "#fc1w = torch.randint(-1, 1, (1024, 3136), dtype=torch.float32, requires_grad=False)\n",
        "#fc1b = torch.randint(-1, 1, (1024, ), dtype=torch.float32, requires_grad=False)\n",
        "#fc2w = torch.randint(-1, 1, (10, 1024), dtype=torch.float32, requires_grad=False)\n",
        "#fc2b = torch.randint(-1, 1, (10, ), dtype=torch.float32, requires_grad=False)\n",
        "cnn = SimpleCNN(1)"
      ],
      "metadata": {
        "id": "Exuz9TVC3ReH"
      },
      "execution_count": null,
      "outputs": []
    },
    {
      "cell_type": "code",
      "source": [
        " # Get the functional version of the model with functorch\n",
        "fcnn, params = fc.make_functional(cnn)\n",
        "fcnn(params, xb)"
      ],
      "metadata": {
        "id": "sfvgncI2QCnx",
        "outputId": "95f8ed21-40fb-41c9-cc23-547a0fd7630f",
        "colab": {
          "base_uri": "https://localhost:8080/"
        }
      },
      "execution_count": null,
      "outputs": [
        {
          "output_type": "execute_result",
          "data": {
            "text/plain": [
              "tensor([[0.0918, 0.0953, 0.0989, 0.0881, 0.1046, 0.1094, 0.1147, 0.1054, 0.0907,\n",
              "         0.1011]], grad_fn=<SoftmaxBackward0>)"
            ]
          },
          "metadata": {},
          "execution_count": 20
        }
      ]
    },
    {
      "cell_type": "code",
      "source": [
        "# We try our model with the first example\n",
        "print(cnn(xb)[0])"
      ],
      "metadata": {
        "colab": {
          "base_uri": "https://localhost:8080/"
        },
        "id": "oBOLO2Ee3ZwE",
        "outputId": "46f93385-b2e7-4d24-c2bc-427267dd872e"
      },
      "execution_count": null,
      "outputs": [
        {
          "output_type": "stream",
          "name": "stdout",
          "text": [
            "tensor([0.0918, 0.0953, 0.0989, 0.0881, 0.1046, 0.1094, 0.1147, 0.1054, 0.0907,\n",
            "        0.1011], grad_fn=<SelectBackward0>)\n"
          ]
        }
      ]
    },
    {
      "cell_type": "markdown",
      "source": [
        "Calculate predictions"
      ],
      "metadata": {
        "id": "Wm-hZ3wXTHfV"
      }
    },
    {
      "cell_type": "code",
      "source": [
        "def pred(sample_size, loader, model):\n",
        "  Xtrain = torch.randn(sample_size, 1, 28, 28)\n",
        "  ytrain = torch.randn(sample_size)\n",
        "  ypred = torch.randn(sample_size, 10)\n",
        "\n",
        "  for i in range(sample_size):\n",
        "    xb, yb = next(iter(loader))\n",
        "    Xtrain[i] = xb\n",
        "    ytrain[i] = yb\n",
        "    ypred[i] = model(xb)\n",
        "\n",
        "  return Xtrain, ytrain, ypred"
      ],
      "metadata": {
        "id": "00df8WdlTNHG"
      },
      "execution_count": null,
      "outputs": []
    },
    {
      "cell_type": "code",
      "source": [
        "Xtrain, ytrain, ypred ,Xtest,ytest= pred(500, train_loader, cnn)"
      ],
      "metadata": {
        "id": "s1JIt95nWEeM"
      },
      "execution_count": null,
      "outputs": []
    },
    {
      "cell_type": "markdown",
      "source": [
        "# **Define accuracy**"
      ],
      "metadata": {
        "id": "TIaVzpBW5th5"
      }
    },
    {
      "cell_type": "code",
      "source": [
        "def accuracy(ytrue, ypred):\n",
        "  return (ypred.argmax(1) == ytrue.long()).float().mean()"
      ],
      "metadata": {
        "id": "oY45ByC93hg7"
      },
      "execution_count": null,
      "outputs": []
    },
    {
      "cell_type": "code",
      "source": [
        "# Average accuracy at initialization is 10% (random guessing).\n",
        "accuracy(ytrain, ypred)"
      ],
      "metadata": {
        "colab": {
          "base_uri": "https://localhost:8080/"
        },
        "id": "rNh5yF2Q53Tv",
        "outputId": "03cbe374-49de-4af0-8779-0113d56815ea"
      },
      "execution_count": null,
      "outputs": [
        {
          "output_type": "execute_result",
          "data": {
            "text/plain": [
              "tensor(0.0940)"
            ]
          },
          "metadata": {},
          "execution_count": 25
        }
      ]
    },
    {
      "cell_type": "markdown",
      "source": [
        "# **Define Cross-Entropy**"
      ],
      "metadata": {
        "id": "vYbOZm8oUoTM"
      }
    },
    {
      "cell_type": "code",
      "source": [
        "def cross_entropy(params, fmodel, ytrue, x):\n",
        "  ypred=torch.randn((ytrue.shape[0],10))\n",
        "  for j in range(ytrue.shape[0]):\n",
        "    ypred[j] = fmodel(params, x[j])\n",
        "  return - ypred[torch.arange(0, ypred.shape[0]), ytrue.long()].log().mean()"
      ],
      "metadata": {
        "id": "xDw2fEWZUslj"
      },
      "execution_count": null,
      "outputs": []
    },
    {
      "cell_type": "code",
      "source": [
        "print(cross_entropy(params, fcnn, ytrain, Xtrain))"
      ],
      "metadata": {
        "id": "9JLiJvzSV-_0",
        "outputId": "aaf9cb7a-93ff-465a-91a7-7422a0d66bc2",
        "colab": {
          "base_uri": "https://localhost:8080/"
        }
      },
      "execution_count": null,
      "outputs": [
        {
          "output_type": "stream",
          "name": "stdout",
          "text": [
            "tensor(2.3084, grad_fn=<NegBackward0>)\n"
          ]
        }
      ]
    },
    {
      "cell_type": "markdown",
      "source": [
        "# **Other optimization functions**"
      ],
      "metadata": {
        "id": "2qZ3IMitSOpG"
      }
    },
    {
      "cell_type": "code",
      "source": [
        "def beale_function(x):\n",
        "  return (torch.pow(torch.tensor([1.5])-x[0]+x[0]*x[1],2) + torch.pow(torch.tensor([2.25])-x[0]+x[0]*torch.pow(x[1],2),2)+torch.pow(torch.tensor([2.625])-x[0]+x[0]*torch.pow(x[1],3),2))"
      ],
      "metadata": {
        "id": "1WtQ6zyjX6wD"
      },
      "execution_count": null,
      "outputs": []
    },
    {
      "cell_type": "code",
      "source": [
        "def rosenbrock_function(x):\n",
        "  sum=0\n",
        "  for p in x.size():\n",
        "    for i in range (x.size(1)-1):\n",
        "      sum += (100*torch.pow(x[i+1] - torch.pow(x[i], 2), 2) + torch.pow(x[i]-1, 2))\n",
        "  return sum"
      ],
      "metadata": {
        "id": "KsZbhrFnAoK5"
      },
      "execution_count": null,
      "outputs": []
    },
    {
      "cell_type": "markdown",
      "source": [
        "# **Train and evaluate the network**"
      ],
      "metadata": {
        "id": "U12SFrBjSSmD"
      }
    },
    {
      "cell_type": "code",
      "source": [
        "def train_fwd_gradient(train_loader):\n",
        "\n",
        "  l_rate0 = 0.015\n",
        "\n",
        "  losses=[]\n",
        "  accuracies=[]\n",
        "\n",
        "  cnn = SimpleCNN(1)\n",
        "  fcnn, params = fc.make_functional(cnn)\n",
        "  Xtrain, ytrain, ypred = pred(500, train_loader, cnn)\n",
        "\n",
        "  Xtest, ytest, ypredtest = pred(100, test_loader, cnn)\n",
        "\n",
        "\n",
        "  loss = cross_entropy(params, fcnn, ytrain, Xtrain)\n",
        "  t=0\n",
        "  t0 = time.time()\n",
        "\n",
        "  for epoch in range (100):\n",
        "\n",
        "    v = tuple([torch.randn_like(p) for p in params])\n",
        "\n",
        "    g = partial(cross_entropy, fmodel = fcnn, ytrue=ytrain, x=Xtrain)\n",
        "\n",
        "    loss, dt = jvp(g, (params, ), (v, ))\n",
        "    print('dt', dt)\n",
        "\n",
        "    with torch.no_grad():\n",
        "      for j, p in enumerate(params):\n",
        "        gt = v[j]*dt\n",
        "        p -= l_rate0*gt\n",
        "    \n",
        "    Xtest, ytest, ypredtest = pred(100, test_loader, cnn)\n",
        "    print(accuracy(ytest,ypredtest).item())\n",
        "    accuracies.append(accuracy(ytest,ypredtest).item())\n",
        "    losses.append(cross_entropy(params,fcnn,ytest,Xtest).item())\n",
        "\n",
        "    # We add the execution time of the iteration\n",
        "    t1=time.time()\n",
        "    t+=t1-t0\n",
        "    t0=t1\n",
        "\n",
        "    print('Time', t, 'loss', loss)\n",
        "\n",
        "  return params,losses,accuracies"
      ],
      "metadata": {
        "id": "1xtc8O-2D8YJ"
      },
      "execution_count": null,
      "outputs": []
    },
    {
      "cell_type": "code",
      "source": [
        "params,losses,accuracies = train_fwd_gradient(train_loader)"
      ],
      "metadata": {
        "id": "oc0xWYUkZTf9",
        "outputId": "c30d1985-0259-408f-e8db-04a3c5150f09",
        "colab": {
          "base_uri": "https://localhost:8080/"
        }
      },
      "execution_count": null,
      "outputs": [
        {
          "output_type": "stream",
          "name": "stdout",
          "text": [
            "dt tensor(0.0375, grad_fn=<NegBackward0>)\n",
            "0.15000000596046448\n",
            "Time 0.8872065544128418 loss tensor(2.3054, grad_fn=<AliasBackward0>)\n",
            "dt tensor(0.0204, grad_fn=<NegBackward0>)\n",
            "0.10000000149011612\n",
            "Time 1.8210163116455078 loss tensor(2.3054, grad_fn=<AliasBackward0>)\n",
            "dt tensor(0.0716, grad_fn=<NegBackward0>)\n",
            "0.03999999910593033\n",
            "Time 2.67773699760437 loss tensor(2.3054, grad_fn=<AliasBackward0>)\n",
            "dt tensor(0.0501, grad_fn=<NegBackward0>)\n",
            "0.12999999523162842\n",
            "Time 3.6924707889556885 loss tensor(2.3053, grad_fn=<AliasBackward0>)\n",
            "dt tensor(0.0068, grad_fn=<NegBackward0>)\n",
            "0.10000000149011612\n",
            "Time 5.000922679901123 loss tensor(2.3053, grad_fn=<AliasBackward0>)\n",
            "dt tensor(-0.0314, grad_fn=<NegBackward0>)\n",
            "0.07999999821186066\n",
            "Time 6.149524211883545 loss tensor(2.3053, grad_fn=<AliasBackward0>)\n",
            "dt tensor(0.0053, grad_fn=<NegBackward0>)\n",
            "0.15000000596046448\n",
            "Time 7.031855344772339 loss tensor(2.3053, grad_fn=<AliasBackward0>)\n",
            "dt tensor(-0.0187, grad_fn=<NegBackward0>)\n",
            "0.10000000149011612\n",
            "Time 7.919095516204834 loss tensor(2.3053, grad_fn=<AliasBackward0>)\n",
            "dt tensor(0.0805, grad_fn=<NegBackward0>)\n",
            "0.11999999731779099\n",
            "Time 8.795541524887085 loss tensor(2.3053, grad_fn=<AliasBackward0>)\n",
            "dt tensor(0.0001, grad_fn=<NegBackward0>)\n",
            "0.07000000029802322\n",
            "Time 9.669517278671265 loss tensor(2.3052, grad_fn=<AliasBackward0>)\n",
            "dt tensor(-0.0334, grad_fn=<NegBackward0>)\n",
            "0.11999999731779099\n",
            "Time 10.53978967666626 loss tensor(2.3052, grad_fn=<AliasBackward0>)\n",
            "dt tensor(0.0690, grad_fn=<NegBackward0>)\n",
            "0.14000000059604645\n",
            "Time 11.428110599517822 loss tensor(2.3052, grad_fn=<AliasBackward0>)\n",
            "dt tensor(-0.0271, grad_fn=<NegBackward0>)\n",
            "0.10000000149011612\n",
            "Time 12.357534170150757 loss tensor(2.3051, grad_fn=<AliasBackward0>)\n",
            "dt tensor(-0.0203, grad_fn=<NegBackward0>)\n",
            "0.10000000149011612\n",
            "Time 13.249591588973999 loss tensor(2.3051, grad_fn=<AliasBackward0>)\n",
            "dt tensor(-0.0344, grad_fn=<NegBackward0>)\n",
            "0.10000000149011612\n",
            "Time 14.126220464706421 loss tensor(2.3051, grad_fn=<AliasBackward0>)\n",
            "dt tensor(0.0176, grad_fn=<NegBackward0>)\n",
            "0.10999999940395355\n",
            "Time 14.98310923576355 loss tensor(2.3051, grad_fn=<AliasBackward0>)\n",
            "dt tensor(0.0335, grad_fn=<NegBackward0>)\n",
            "0.07999999821186066\n",
            "Time 15.940672636032104 loss tensor(2.3051, grad_fn=<AliasBackward0>)\n",
            "dt tensor(-0.0533, grad_fn=<NegBackward0>)\n",
            "0.07000000029802322\n",
            "Time 17.300883769989014 loss tensor(2.3050, grad_fn=<AliasBackward0>)\n",
            "dt tensor(0.0479, grad_fn=<NegBackward0>)\n",
            "0.07000000029802322\n",
            "Time 18.495653867721558 loss tensor(2.3050, grad_fn=<AliasBackward0>)\n",
            "dt tensor(0.0370, grad_fn=<NegBackward0>)\n",
            "0.09000000357627869\n",
            "Time 19.352261543273926 loss tensor(2.3050, grad_fn=<AliasBackward0>)\n",
            "dt tensor(-0.0277, grad_fn=<NegBackward0>)\n",
            "0.12999999523162842\n",
            "Time 20.241904497146606 loss tensor(2.3049, grad_fn=<AliasBackward0>)\n",
            "dt tensor(-0.0639, grad_fn=<NegBackward0>)\n",
            "0.07000000029802322\n",
            "Time 21.12516188621521 loss tensor(2.3049, grad_fn=<AliasBackward0>)\n",
            "dt tensor(-0.0083, grad_fn=<NegBackward0>)\n",
            "0.07999999821186066\n",
            "Time 22.011126041412354 loss tensor(2.3049, grad_fn=<AliasBackward0>)\n",
            "dt tensor(0.0351, grad_fn=<NegBackward0>)\n",
            "0.11999999731779099\n",
            "Time 22.91214418411255 loss tensor(2.3049, grad_fn=<AliasBackward0>)\n",
            "dt tensor(0.0005, grad_fn=<NegBackward0>)\n",
            "0.09000000357627869\n",
            "Time 23.80459976196289 loss tensor(2.3049, grad_fn=<AliasBackward0>)\n",
            "dt tensor(0.0041, grad_fn=<NegBackward0>)\n",
            "0.20999999344348907\n",
            "Time 24.671552896499634 loss tensor(2.3049, grad_fn=<AliasBackward0>)\n",
            "dt tensor(-0.0090, grad_fn=<NegBackward0>)\n",
            "0.07999999821186066\n",
            "Time 25.542330265045166 loss tensor(2.3049, grad_fn=<AliasBackward0>)\n",
            "dt tensor(-0.0344, grad_fn=<NegBackward0>)\n",
            "0.11999999731779099\n",
            "Time 26.440141439437866 loss tensor(2.3049, grad_fn=<AliasBackward0>)\n",
            "dt tensor(0.0197, grad_fn=<NegBackward0>)\n",
            "0.15000000596046448\n",
            "Time 27.315479516983032 loss tensor(2.3048, grad_fn=<AliasBackward0>)\n",
            "dt tensor(0.0501, grad_fn=<NegBackward0>)\n",
            "0.11999999731779099\n",
            "Time 28.202690362930298 loss tensor(2.3048, grad_fn=<AliasBackward0>)\n",
            "dt tensor(0.0474, grad_fn=<NegBackward0>)\n",
            "0.05999999865889549\n",
            "Time 29.50650691986084 loss tensor(2.3048, grad_fn=<AliasBackward0>)\n",
            "dt tensor(0.0523, grad_fn=<NegBackward0>)\n",
            "0.07000000029802322\n",
            "Time 30.780305862426758 loss tensor(2.3048, grad_fn=<AliasBackward0>)\n",
            "dt tensor(0.0391, grad_fn=<NegBackward0>)\n",
            "0.09000000357627869\n",
            "Time 31.700955629348755 loss tensor(2.3047, grad_fn=<AliasBackward0>)\n",
            "dt tensor(-0.0603, grad_fn=<NegBackward0>)\n",
            "0.10999999940395355\n",
            "Time 32.62218356132507 loss tensor(2.3047, grad_fn=<AliasBackward0>)\n",
            "dt tensor(0.0234, grad_fn=<NegBackward0>)\n",
            "0.07000000029802322\n",
            "Time 33.506038427352905 loss tensor(2.3046, grad_fn=<AliasBackward0>)\n",
            "dt tensor(0.0350, grad_fn=<NegBackward0>)\n",
            "0.17000000178813934\n",
            "Time 34.37216544151306 loss tensor(2.3046, grad_fn=<AliasBackward0>)\n",
            "dt tensor(-0.0275, grad_fn=<NegBackward0>)\n",
            "0.15000000596046448\n",
            "Time 35.25859475135803 loss tensor(2.3046, grad_fn=<AliasBackward0>)\n",
            "dt tensor(0.0058, grad_fn=<NegBackward0>)\n",
            "0.05999999865889549\n",
            "Time 36.122092962265015 loss tensor(2.3046, grad_fn=<AliasBackward0>)\n",
            "dt tensor(0.0614, grad_fn=<NegBackward0>)\n",
            "0.09000000357627869\n",
            "Time 37.002341747283936 loss tensor(2.3046, grad_fn=<AliasBackward0>)\n",
            "dt tensor(-0.0076, grad_fn=<NegBackward0>)\n",
            "0.09000000357627869\n",
            "Time 37.88954782485962 loss tensor(2.3046, grad_fn=<AliasBackward0>)\n",
            "dt tensor(0.0482, grad_fn=<NegBackward0>)\n",
            "0.10999999940395355\n",
            "Time 38.78581357002258 loss tensor(2.3046, grad_fn=<AliasBackward0>)\n",
            "dt tensor(-0.0744, grad_fn=<NegBackward0>)\n",
            "0.07999999821186066\n",
            "Time 39.696449995040894 loss tensor(2.3045, grad_fn=<AliasBackward0>)\n",
            "dt tensor(-0.0137, grad_fn=<NegBackward0>)\n",
            "0.07000000029802322\n",
            "Time 40.57372260093689 loss tensor(2.3044, grad_fn=<AliasBackward0>)\n",
            "dt tensor(-0.0589, grad_fn=<NegBackward0>)\n",
            "0.14000000059604645\n",
            "Time 41.843554735183716 loss tensor(2.3044, grad_fn=<AliasBackward0>)\n",
            "dt tensor(0.0266, grad_fn=<NegBackward0>)\n",
            "0.07999999821186066\n",
            "Time 43.19024896621704 loss tensor(2.3044, grad_fn=<AliasBackward0>)\n",
            "dt tensor(-0.0592, grad_fn=<NegBackward0>)\n",
            "0.07000000029802322\n",
            "Time 44.10005283355713 loss tensor(2.3044, grad_fn=<AliasBackward0>)\n",
            "dt tensor(-0.0820, grad_fn=<NegBackward0>)\n",
            "0.12999999523162842\n",
            "Time 45.0045063495636 loss tensor(2.3043, grad_fn=<AliasBackward0>)\n",
            "dt tensor(-0.0163, grad_fn=<NegBackward0>)\n",
            "0.11999999731779099\n",
            "Time 45.888949155807495 loss tensor(2.3042, grad_fn=<AliasBackward0>)\n",
            "dt tensor(-0.0156, grad_fn=<NegBackward0>)\n",
            "0.10000000149011612\n",
            "Time 46.80522680282593 loss tensor(2.3042, grad_fn=<AliasBackward0>)\n",
            "dt tensor(-0.0696, grad_fn=<NegBackward0>)\n",
            "0.09000000357627869\n",
            "Time 47.73673415184021 loss tensor(2.3042, grad_fn=<AliasBackward0>)\n",
            "dt tensor(-0.0256, grad_fn=<NegBackward0>)\n",
            "0.11999999731779099\n",
            "Time 48.63850951194763 loss tensor(2.3042, grad_fn=<AliasBackward0>)\n",
            "dt tensor(0.0037, grad_fn=<NegBackward0>)\n",
            "0.09000000357627869\n",
            "Time 49.56435513496399 loss tensor(2.3041, grad_fn=<AliasBackward0>)\n",
            "dt tensor(0.0433, grad_fn=<NegBackward0>)\n",
            "0.07999999821186066\n",
            "Time 50.47271466255188 loss tensor(2.3041, grad_fn=<AliasBackward0>)\n",
            "dt tensor(0.0083, grad_fn=<NegBackward0>)\n",
            "0.09000000357627869\n",
            "Time 51.35846710205078 loss tensor(2.3041, grad_fn=<AliasBackward0>)\n",
            "dt tensor(0.0138, grad_fn=<NegBackward0>)\n",
            "0.10999999940395355\n",
            "Time 52.23905038833618 loss tensor(2.3041, grad_fn=<AliasBackward0>)\n",
            "dt tensor(-0.0462, grad_fn=<NegBackward0>)\n",
            "0.07999999821186066\n",
            "Time 53.12968397140503 loss tensor(2.3041, grad_fn=<AliasBackward0>)\n",
            "dt tensor(-0.0748, grad_fn=<NegBackward0>)\n",
            "0.14000000059604645\n",
            "Time 54.43874549865723 loss tensor(2.3041, grad_fn=<AliasBackward0>)\n",
            "dt tensor(0.1033, grad_fn=<NegBackward0>)\n",
            "0.11999999731779099\n",
            "Time 55.68667769432068 loss tensor(2.3040, grad_fn=<AliasBackward0>)\n",
            "dt tensor(-0.0393, grad_fn=<NegBackward0>)\n",
            "0.10999999940395355\n",
            "Time 56.558637857437134 loss tensor(2.3039, grad_fn=<AliasBackward0>)\n",
            "dt tensor(-0.0157, grad_fn=<NegBackward0>)\n",
            "0.07999999821186066\n",
            "Time 57.41050624847412 loss tensor(2.3038, grad_fn=<AliasBackward0>)\n",
            "dt tensor(0.0727, grad_fn=<NegBackward0>)\n",
            "0.10999999940395355\n",
            "Time 58.276394844055176 loss tensor(2.3038, grad_fn=<AliasBackward0>)\n",
            "dt tensor(-0.1335, grad_fn=<NegBackward0>)\n",
            "0.11999999731779099\n",
            "Time 59.173744916915894 loss tensor(2.3038, grad_fn=<AliasBackward0>)\n",
            "dt tensor(0.0327, grad_fn=<NegBackward0>)\n",
            "0.12999999523162842\n",
            "Time 60.05637788772583 loss tensor(2.3036, grad_fn=<AliasBackward0>)\n",
            "dt tensor(-0.0032, grad_fn=<NegBackward0>)\n",
            "0.019999999552965164\n",
            "Time 60.92715334892273 loss tensor(2.3036, grad_fn=<AliasBackward0>)\n",
            "dt tensor(0.0466, grad_fn=<NegBackward0>)\n",
            "0.11999999731779099\n",
            "Time 61.78647518157959 loss tensor(2.3036, grad_fn=<AliasBackward0>)\n",
            "dt tensor(0.0347, grad_fn=<NegBackward0>)\n",
            "0.1599999964237213\n",
            "Time 62.70021033287048 loss tensor(2.3035, grad_fn=<AliasBackward0>)\n",
            "dt tensor(0.0028, grad_fn=<NegBackward0>)\n",
            "0.07999999821186066\n",
            "Time 63.61341881752014 loss tensor(2.3035, grad_fn=<AliasBackward0>)\n",
            "dt tensor(0.0164, grad_fn=<NegBackward0>)\n",
            "0.15000000596046448\n",
            "Time 64.48673033714294 loss tensor(2.3035, grad_fn=<AliasBackward0>)\n",
            "dt tensor(-0.0295, grad_fn=<NegBackward0>)\n",
            "0.07000000029802322\n",
            "Time 65.39050483703613 loss tensor(2.3035, grad_fn=<AliasBackward0>)\n",
            "dt tensor(-0.0424, grad_fn=<NegBackward0>)\n",
            "0.10999999940395355\n",
            "Time 66.60203337669373 loss tensor(2.3035, grad_fn=<AliasBackward0>)\n",
            "dt tensor(-0.0672, grad_fn=<NegBackward0>)\n",
            "0.12999999523162842\n",
            "Time 67.92416644096375 loss tensor(2.3035, grad_fn=<AliasBackward0>)\n",
            "dt tensor(0.0680, grad_fn=<NegBackward0>)\n",
            "0.09000000357627869\n",
            "Time 68.87027192115784 loss tensor(2.3034, grad_fn=<AliasBackward0>)\n",
            "dt tensor(-0.0294, grad_fn=<NegBackward0>)\n",
            "0.11999999731779099\n",
            "Time 69.76750493049622 loss tensor(2.3033, grad_fn=<AliasBackward0>)\n",
            "dt tensor(0.0225, grad_fn=<NegBackward0>)\n",
            "0.09000000357627869\n",
            "Time 70.65609741210938 loss tensor(2.3033, grad_fn=<AliasBackward0>)\n",
            "dt tensor(0.0061, grad_fn=<NegBackward0>)\n",
            "0.17000000178813934\n",
            "Time 71.55601024627686 loss tensor(2.3033, grad_fn=<AliasBackward0>)\n",
            "dt tensor(0.0240, grad_fn=<NegBackward0>)\n",
            "0.10000000149011612\n",
            "Time 72.44009852409363 loss tensor(2.3033, grad_fn=<AliasBackward0>)\n",
            "dt tensor(-0.0389, grad_fn=<NegBackward0>)\n",
            "0.07000000029802322\n",
            "Time 73.3186981678009 loss tensor(2.3033, grad_fn=<AliasBackward0>)\n",
            "dt tensor(0.0082, grad_fn=<NegBackward0>)\n",
            "0.11999999731779099\n",
            "Time 74.18874216079712 loss tensor(2.3033, grad_fn=<AliasBackward0>)\n",
            "dt tensor(-0.0033, grad_fn=<NegBackward0>)\n",
            "0.15000000596046448\n",
            "Time 75.07029390335083 loss tensor(2.3033, grad_fn=<AliasBackward0>)\n",
            "dt tensor(-0.0026, grad_fn=<NegBackward0>)\n",
            "0.07000000029802322\n",
            "Time 75.95222210884094 loss tensor(2.3033, grad_fn=<AliasBackward0>)\n",
            "dt tensor(-0.0169, grad_fn=<NegBackward0>)\n",
            "0.14000000059604645\n",
            "Time 76.8424003124237 loss tensor(2.3033, grad_fn=<AliasBackward0>)\n",
            "dt tensor(-0.0132, grad_fn=<NegBackward0>)\n",
            "0.11999999731779099\n",
            "Time 77.69562149047852 loss tensor(2.3033, grad_fn=<AliasBackward0>)\n",
            "dt tensor(0.0602, grad_fn=<NegBackward0>)\n",
            "0.09000000357627869\n",
            "Time 78.82057976722717 loss tensor(2.3033, grad_fn=<AliasBackward0>)\n",
            "dt tensor(0.0338, grad_fn=<NegBackward0>)\n",
            "0.10999999940395355\n",
            "Time 80.07865262031555 loss tensor(2.3032, grad_fn=<AliasBackward0>)\n",
            "dt tensor(-0.0324, grad_fn=<NegBackward0>)\n",
            "0.07999999821186066\n",
            "Time 81.05382537841797 loss tensor(2.3032, grad_fn=<AliasBackward0>)\n",
            "dt tensor(0.0101, grad_fn=<NegBackward0>)\n",
            "0.09000000357627869\n",
            "Time 81.91035962104797 loss tensor(2.3032, grad_fn=<AliasBackward0>)\n",
            "dt tensor(0.0426, grad_fn=<NegBackward0>)\n",
            "0.07999999821186066\n",
            "Time 82.79050612449646 loss tensor(2.3032, grad_fn=<AliasBackward0>)\n",
            "dt tensor(0.0233, grad_fn=<NegBackward0>)\n",
            "0.09000000357627869\n",
            "Time 83.68289685249329 loss tensor(2.3032, grad_fn=<AliasBackward0>)\n",
            "dt tensor(0.0366, grad_fn=<NegBackward0>)\n",
            "0.07000000029802322\n",
            "Time 84.58830976486206 loss tensor(2.3032, grad_fn=<AliasBackward0>)\n",
            "dt tensor(0.0271, grad_fn=<NegBackward0>)\n",
            "0.09000000357627869\n",
            "Time 85.46269869804382 loss tensor(2.3031, grad_fn=<AliasBackward0>)\n",
            "dt tensor(0.0086, grad_fn=<NegBackward0>)\n",
            "0.14000000059604645\n",
            "Time 86.34521651268005 loss tensor(2.3031, grad_fn=<AliasBackward0>)\n",
            "dt tensor(-0.0267, grad_fn=<NegBackward0>)\n",
            "0.05999999865889549\n",
            "Time 87.20887875556946 loss tensor(2.3031, grad_fn=<AliasBackward0>)\n",
            "dt tensor(-0.0222, grad_fn=<NegBackward0>)\n",
            "0.10999999940395355\n",
            "Time 88.07786989212036 loss tensor(2.3031, grad_fn=<AliasBackward0>)\n",
            "dt tensor(0.0236, grad_fn=<NegBackward0>)\n",
            "0.09000000357627869\n",
            "Time 88.93183636665344 loss tensor(2.3031, grad_fn=<AliasBackward0>)\n",
            "dt tensor(-0.0628, grad_fn=<NegBackward0>)\n",
            "0.14000000059604645\n",
            "Time 89.80726218223572 loss tensor(2.3031, grad_fn=<AliasBackward0>)\n",
            "dt tensor(0.0092, grad_fn=<NegBackward0>)\n",
            "0.07000000029802322\n",
            "Time 90.85787558555603 loss tensor(2.3031, grad_fn=<AliasBackward0>)\n",
            "dt tensor(-0.0237, grad_fn=<NegBackward0>)\n",
            "0.10999999940395355\n",
            "Time 92.14186334609985 loss tensor(2.3031, grad_fn=<AliasBackward0>)\n",
            "dt tensor(0.0437, grad_fn=<NegBackward0>)\n",
            "0.10000000149011612\n",
            "Time 93.29071998596191 loss tensor(2.3030, grad_fn=<AliasBackward0>)\n",
            "dt tensor(-0.0389, grad_fn=<NegBackward0>)\n",
            "0.10000000149011612\n",
            "Time 94.1756432056427 loss tensor(2.3030, grad_fn=<AliasBackward0>)\n",
            "dt tensor(0.0525, grad_fn=<NegBackward0>)\n",
            "0.07999999821186066\n",
            "Time 95.04412007331848 loss tensor(2.3030, grad_fn=<AliasBackward0>)\n"
          ]
        }
      ]
    },
    {
      "cell_type": "code",
      "source": [
        "plt.plot(losses)"
      ],
      "metadata": {
        "id": "V3k3eeKL_TPX",
        "colab": {
          "base_uri": "https://localhost:8080/",
          "height": 283
        },
        "outputId": "b1091725-c721-4768-b0a9-0a537fd0180a"
      },
      "execution_count": null,
      "outputs": [
        {
          "output_type": "execute_result",
          "data": {
            "text/plain": [
              "[<matplotlib.lines.Line2D at 0x7fd4292433d0>]"
            ]
          },
          "metadata": {},
          "execution_count": 82
        },
        {
          "output_type": "display_data",
          "data": {
            "text/plain": [
              "<Figure size 432x288 with 1 Axes>"
            ],
            "image/png": "[encoded data removed]"
          },
          "metadata": {
            "needs_background": "light"
          }
        }
      ]
    },
    {
      "cell_type": "code",
      "source": [
        "plt.plot(accuracies)"
      ],
      "metadata": {
        "colab": {
          "base_uri": "https://localhost:8080/",
          "height": 283
        },
        "id": "_LoB4yT_psdd",
        "outputId": "65c15158-af82-4074-b5d6-73597e6ec535"
      },
      "execution_count": null,
      "outputs": [
        {
          "output_type": "execute_result",
          "data": {
            "text/plain": [
              "[<matplotlib.lines.Line2D at 0x7fd429219520>]"
            ]
          },
          "metadata": {},
          "execution_count": 83
        },
        {
          "output_type": "display_data",
          "data": {
            "text/plain": [
              "<Figure size 432x288 with 1 Axes>"
            ],
            "image/png": "[encoded data removed]"
          },
          "metadata": {
            "needs_background": "light"
          }
        }
      ]
    }
  ]
}