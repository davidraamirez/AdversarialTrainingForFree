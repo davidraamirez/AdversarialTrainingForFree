{
  "nbformat": 4,
  "nbformat_minor": 0,
  "metadata": {
    "colab": {
      "provenance": [],
      "include_colab_link": true
    },
    "kernelspec": {
      "name": "python3",
      "display_name": "Python 3"
    },
    "language_info": {
      "name": "python"
    }
  },
  "cells": [
    {
      "cell_type": "markdown",
      "metadata": {
        "id": "view-in-github",
        "colab_type": "text"
      },
      "source": [
        "<a href=\"https://colab.research.google.com/github/davidraamirez/GradientWithoutBackpropagation/blob/main/LogisticRegression_bwd_gradient.ipynb\" target=\"_parent\"><img src=\"https://colab.research.google.com/assets/colab-badge.svg\" alt=\"Open In Colab\"/></a>"
      ]
    },
    {
      "cell_type": "markdown",
      "source": [
        "# **Import the necessary packages**\n",
        "\n"
      ],
      "metadata": {
        "id": "x7iZpPFrGWhU"
      }
    },
    {
      "cell_type": "code",
      "execution_count": 1,
      "metadata": {
        "id": "rkQFFcg0HXnN"
      },
      "outputs": [],
      "source": [
        "import torch\n",
        "import tensorflow_datasets as tfds\n",
        "from sklearn.model_selection import train_test_split"
      ]
    },
    {
      "cell_type": "code",
      "source": [
        "import torchvision"
      ],
      "metadata": {
        "id": "ShzuBabDHhVe"
      },
      "execution_count": 2,
      "outputs": []
    },
    {
      "cell_type": "code",
      "source": [
        "from torch import nn"
      ],
      "metadata": {
        "id": "A61m0FPpGijm"
      },
      "execution_count": 3,
      "outputs": []
    },
    {
      "cell_type": "code",
      "source": [
        "import time "
      ],
      "metadata": {
        "id": "ZHyH8jgfGmnf"
      },
      "execution_count": 4,
      "outputs": []
    },
    {
      "cell_type": "code",
      "source": [
        "import matplotlib.pyplot as plt"
      ],
      "metadata": {
        "id": "14D3LUb1KU8z"
      },
      "execution_count": 5,
      "outputs": []
    },
    {
      "cell_type": "markdown",
      "source": [
        "# **Loading and preprocessing the data**"
      ],
      "metadata": {
        "id": "G-a43m8xGoJ7"
      }
    },
    {
      "cell_type": "code",
      "source": [
        "#Load the dataset\n",
        "penguins = tfds.load('penguins', as_supervised=True, split='train')"
      ],
      "metadata": {
        "id": "ml7IdhKkHjfC"
      },
      "execution_count": 6,
      "outputs": []
    },
    {
      "cell_type": "code",
      "source": [
        "X, y = penguins.batch(500).get_single_element()\n",
        "X, y = X.numpy(), y.numpy()"
      ],
      "metadata": {
        "id": "c2BMFvK7HoFd"
      },
      "execution_count": 7,
      "outputs": []
    },
    {
      "cell_type": "code",
      "source": [
        "Xtrain, Xtest, ytrain, ytest = train_test_split(X, y, stratify=y)"
      ],
      "metadata": {
        "id": "bDM9PTN0HrKa"
      },
      "execution_count": 8,
      "outputs": []
    },
    {
      "cell_type": "code",
      "source": [
        "Xtrain = torch.from_numpy(Xtrain).float()\n",
        "Xtest = torch.from_numpy(Xtest).float()"
      ],
      "metadata": {
        "id": "JLGZsa5pHtTD"
      },
      "execution_count": 9,
      "outputs": []
    },
    {
      "cell_type": "code",
      "source": [
        "ytrain = torch.from_numpy(ytrain).long()\n",
        "ytest = torch.from_numpy(ytest).long()"
      ],
      "metadata": {
        "id": "pubjWXD8Hvva"
      },
      "execution_count": 10,
      "outputs": []
    },
    {
      "cell_type": "markdown",
      "source": [
        "# **Define Logistic Regression**"
      ],
      "metadata": {
        "id": "9y_Sd0mlG27D"
      }
    },
    {
      "cell_type": "code",
      "source": [
        "class SimpleLogisticRegression(nn.Module):\n",
        "  def __init__(self, input_size, w, b):\n",
        "    super().__init__()\n",
        "    self.weight = nn.Parameter(w)\n",
        "    self.bias = nn.Parameter(b)\n",
        "\n",
        "  def forward(self, x):\n",
        "    x = x.reshape(1, -1)\n",
        "    return torch.softmax(x@self.weight + self.bias, 1)"
      ],
      "metadata": {
        "id": "YjCVZwwrH3ah"
      },
      "execution_count": 11,
      "outputs": []
    },
    {
      "cell_type": "code",
      "source": [
        "# We check if CUDA is available.\n",
        "device = 'cuda' if torch.cuda.is_available() else 'cpu'\n",
        "print(device)"
      ],
      "metadata": {
        "colab": {
          "base_uri": "https://localhost:8080/"
        },
        "id": "8Pv1yTiJH7JV",
        "outputId": "9ec0f677-955a-4d32-a337-2206afb6da2e"
      },
      "execution_count": 12,
      "outputs": [
        {
          "output_type": "stream",
          "name": "stdout",
          "text": [
            "cpu\n"
          ]
        }
      ]
    },
    {
      "cell_type": "markdown",
      "source": [
        "# **Initialize the parameters**"
      ],
      "metadata": {
        "id": "dUvft9uYG_Ru"
      }
    },
    {
      "cell_type": "code",
      "source": [
        "# We initialize the parameters randomly and the model with an input size\n",
        "w = torch.randn((4, 3), requires_grad=True)\n",
        "b = torch.randn((3, ), requires_grad=True)\n",
        "LG = SimpleLogisticRegression(4, w, b).to(device)"
      ],
      "metadata": {
        "id": "l2X3STJaH9aY"
      },
      "execution_count": 13,
      "outputs": []
    },
    {
      "cell_type": "code",
      "source": [
        "# We try our model with the first example\n",
        "print(LG(Xtrain[0].to(device)))"
      ],
      "metadata": {
        "colab": {
          "base_uri": "https://localhost:8080/"
        },
        "id": "KbykYgnuIAWE",
        "outputId": "5832411c-febb-4478-a16b-39fecba41c71"
      },
      "execution_count": 14,
      "outputs": [
        {
          "output_type": "stream",
          "name": "stdout",
          "text": [
            "tensor([[0.2875, 0.1945, 0.5180]], grad_fn=<SoftmaxBackward0>)\n"
          ]
        }
      ]
    },
    {
      "cell_type": "markdown",
      "source": [
        "Calculate predictions"
      ],
      "metadata": {
        "id": "-nxjcQ7-HQh7"
      }
    },
    {
      "cell_type": "code",
      "source": [
        "def pred(x,w,b):\n",
        "  ypred=torch.randn((x.shape[0],3))\n",
        "  for j in range (x.shape[0]):\n",
        "    xj = x[j].reshape(1, -1)\n",
        "    ypred[j]=torch.softmax(xj@w+b,1)\n",
        "  return ypred"
      ],
      "metadata": {
        "id": "2OCd-kbfLV5h"
      },
      "execution_count": 15,
      "outputs": []
    },
    {
      "cell_type": "code",
      "source": [
        "ypred=pred(Xtrain,w,b)"
      ],
      "metadata": {
        "id": "SzBH4FuVNabv"
      },
      "execution_count": 16,
      "outputs": []
    },
    {
      "cell_type": "markdown",
      "source": [
        "# **Define accuracy**"
      ],
      "metadata": {
        "id": "1g51kfRQHWSY"
      }
    },
    {
      "cell_type": "code",
      "source": [
        "def accuracy(ytrue, ypred):\n",
        "  return (ypred.argmax(1) == ytrue).float().mean()"
      ],
      "metadata": {
        "id": "_LQ7YyETIB7n"
      },
      "execution_count": 17,
      "outputs": []
    },
    {
      "cell_type": "code",
      "source": [
        "# Average accuracy at initialization is 33% (random guessing).\n",
        "accuracy(ytrain.to(device),ypred.to(device))"
      ],
      "metadata": {
        "colab": {
          "base_uri": "https://localhost:8080/"
        },
        "id": "5bGfj-mfIFwZ",
        "outputId": "825c74c9-1b72-47c6-dba3-397e4477e149"
      },
      "execution_count": 18,
      "outputs": [
        {
          "output_type": "execute_result",
          "data": {
            "text/plain": [
              "tensor(0.1880)"
            ]
          },
          "metadata": {},
          "execution_count": 18
        }
      ]
    },
    {
      "cell_type": "markdown",
      "source": [
        "# **Define cross entropy**"
      ],
      "metadata": {
        "id": "hiEzUJ_GHmQj"
      }
    },
    {
      "cell_type": "code",
      "source": [
        "def cross_entropy(ytrue,ypred):\n",
        "  return - ypred[torch.arange(0, ypred.shape[0]), ytrue].log().mean()"
      ],
      "metadata": {
        "id": "1MVXQ3PTILFk"
      },
      "execution_count": 19,
      "outputs": []
    },
    {
      "cell_type": "code",
      "source": [
        "print(cross_entropy(ytrain.to(device),ypred.to(device)))"
      ],
      "metadata": {
        "colab": {
          "base_uri": "https://localhost:8080/"
        },
        "id": "aMDzjWsUK6YG",
        "outputId": "ba5d6aeb-e916-4a5e-9b09-542a946fbc54"
      },
      "execution_count": 20,
      "outputs": [
        {
          "output_type": "stream",
          "name": "stdout",
          "text": [
            "tensor(1.5727, grad_fn=<NegBackward0>)\n"
          ]
        }
      ]
    },
    {
      "cell_type": "markdown",
      "source": [
        "# **Train and evaluate the network**"
      ],
      "metadata": {
        "id": "sCrAi6M2H3wQ"
      }
    },
    {
      "cell_type": "code",
      "source": [
        "def train_bwd_gradient(x,y):\n",
        "\n",
        "  x,y=x.to(device),y.to(device)\n",
        "\n",
        "  losses = [] # Vector with the cross entropy values of test set\n",
        "  accuracies = [] # Vector with the accuracy values of test set\n",
        "  errors=[] # Vector with the number of misclassification of the test set\n",
        "\n",
        "  l_rate0 = 0.2 # Learning rate used \n",
        "\n",
        "  # Initialize the parameters\n",
        "  w = torch.randn((4, 3), requires_grad=True)\n",
        "  b = torch.randn((3, ), requires_grad=True)\n",
        "\n",
        "  w, b = w.to(device), b.to(device)\n",
        "\n",
        "  ypred=pred(x,w,b)\n",
        "  ypred = ypred.to(device)\n",
        "  loss = cross_entropy(y,ypred) # Loss function\n",
        "\n",
        "  # Calculate the start time \n",
        "  t=0\n",
        "  it=0\n",
        "  t0=time.time()\n",
        "  print('Time', t, 'loss', loss)\n",
        "\n",
        "  while (loss>0.3): \n",
        "\n",
        "    loss.backward()\n",
        "\n",
        "    with torch.no_grad():\n",
        "      \n",
        "      # Apply gradients \n",
        "      w -= l_rate0*w.grad\n",
        "      b -= l_rate0*b.grad\n",
        "\n",
        "      # Gradients are accumulated: we need to zero them out before the next iteration.\n",
        "      w.grad.zero_()\n",
        "      b.grad.zero_()\n",
        "    \n",
        "    # We calculate the number of misclassification of the test set with the updated model and we add to the errors vector\n",
        "    LG = SimpleLogisticRegression(4, w, b).to(device)\n",
        "    ypredT = torch.randn(Xtest.size(0),3)\n",
        "    error=0\n",
        "    for i in range (Xtest.size(0)):\n",
        "      ypredT[i]=LG(Xtest[i].to(device))\n",
        "      if (LG(Xtest[i].to(device)).argmax(1)- ytest[i])!=0:\n",
        "        error = error+ 1\n",
        "    errors.append(error)\n",
        "    ypredT = ypredT.to(device)\n",
        "\n",
        "    ypred=pred(x,w,b)\n",
        "    \n",
        "    # We calculate the accuracy of the test set with the updated model and we add to the accuracy vector\n",
        "    accuracies.append(accuracy(ytest,ypredT).item())\n",
        "\n",
        "    # We calculate the cross_entropy of the test set with the updated model and we add to the accuracy vector\n",
        "    loss = cross_entropy(y,ypred.to(device))\n",
        "    lossT = cross_entropy(ytest,ypredT)\n",
        "    losses.append(lossT.detach().item())\n",
        "\n",
        "    #We add the execution time of the iteration\n",
        "    t1=time.time()\n",
        "    t+=t1-t0\n",
        "    t0=t1\n",
        "    it+=1\n",
        "    print('Time', t, 'loss', loss)\n",
        "    \n",
        "  print('Final execution time', t)  \n",
        "  print('Number of iterations', it)\n",
        "  print('Mean execution time of an iteration', t/it)\n",
        "  \n",
        "  return w,b,errors,losses,accuracies\n"
      ],
      "metadata": {
        "id": "cBld3TwvLDl6"
      },
      "execution_count": 21,
      "outputs": []
    },
    {
      "cell_type": "code",
      "source": [
        "w, b,errors,losses,accuracies = train_bwd_gradient(Xtrain, ytrain)"
      ],
      "metadata": {
        "colab": {
          "base_uri": "https://localhost:8080/"
        },
        "id": "YXOhaZSOPSCa",
        "outputId": "104fa543-fc03-4fdc-d593-d7dce66f62f9"
      },
      "execution_count": 22,
      "outputs": [
        {
          "output_type": "stream",
          "name": "stdout",
          "text": [
            "Time 0 loss tensor(2.5856, grad_fn=<NegBackward0>)\n",
            "Time 0.09977364540100098 loss tensor(2.4084, grad_fn=<NegBackward0>)\n",
            "Time 0.17649340629577637 loss tensor(2.2399, grad_fn=<NegBackward0>)\n",
            "Time 0.28862977027893066 loss tensor(2.0810, grad_fn=<NegBackward0>)\n",
            "Time 0.3781599998474121 loss tensor(1.9326, grad_fn=<NegBackward0>)\n",
            "Time 0.46698522567749023 loss tensor(1.7950, grad_fn=<NegBackward0>)\n",
            "Time 0.6502439975738525 loss tensor(1.6683, grad_fn=<NegBackward0>)\n",
            "Time 0.7762014865875244 loss tensor(1.5522, grad_fn=<NegBackward0>)\n",
            "Time 0.8633406162261963 loss tensor(1.4460, grad_fn=<NegBackward0>)\n",
            "Time 1.054478645324707 loss tensor(1.3491, grad_fn=<NegBackward0>)\n",
            "Time 1.2501678466796875 loss tensor(1.2609, grad_fn=<NegBackward0>)\n",
            "Time 1.576646089553833 loss tensor(1.1808, grad_fn=<NegBackward0>)\n",
            "Time 1.872208833694458 loss tensor(1.1083, grad_fn=<NegBackward0>)\n",
            "Time 2.038992166519165 loss tensor(1.0432, grad_fn=<NegBackward0>)\n",
            "Time 2.2465462684631348 loss tensor(0.9851, grad_fn=<NegBackward0>)\n",
            "Time 2.4279351234436035 loss tensor(0.9336, grad_fn=<NegBackward0>)\n",
            "Time 2.6865601539611816 loss tensor(0.8883, grad_fn=<NegBackward0>)\n",
            "Time 2.947171211242676 loss tensor(0.8488, grad_fn=<NegBackward0>)\n",
            "Time 3.130948543548584 loss tensor(0.8147, grad_fn=<NegBackward0>)\n",
            "Time 3.33152437210083 loss tensor(0.7852, grad_fn=<NegBackward0>)\n",
            "Time 3.4756367206573486 loss tensor(0.7600, grad_fn=<NegBackward0>)\n",
            "Time 3.5851869583129883 loss tensor(0.7385, grad_fn=<NegBackward0>)\n",
            "Time 3.8496756553649902 loss tensor(0.7201, grad_fn=<NegBackward0>)\n",
            "Time 3.9270453453063965 loss tensor(0.7045, grad_fn=<NegBackward0>)\n",
            "Time 3.999396324157715 loss tensor(0.6911, grad_fn=<NegBackward0>)\n",
            "Time 4.072626829147339 loss tensor(0.6797, grad_fn=<NegBackward0>)\n",
            "Time 4.142750024795532 loss tensor(0.6699, grad_fn=<NegBackward0>)\n",
            "Time 4.2260401248931885 loss tensor(0.6614, grad_fn=<NegBackward0>)\n",
            "Time 4.302513599395752 loss tensor(0.6541, grad_fn=<NegBackward0>)\n",
            "Time 4.398444652557373 loss tensor(0.6477, grad_fn=<NegBackward0>)\n",
            "Time 4.5374250411987305 loss tensor(0.6421, grad_fn=<NegBackward0>)\n",
            "Time 4.616701364517212 loss tensor(0.6371, grad_fn=<NegBackward0>)\n",
            "Time 4.7037129402160645 loss tensor(0.6327, grad_fn=<NegBackward0>)\n",
            "Time 4.777059555053711 loss tensor(0.6287, grad_fn=<NegBackward0>)\n",
            "Time 4.859393119812012 loss tensor(0.6251, grad_fn=<NegBackward0>)\n",
            "Time 4.9384307861328125 loss tensor(0.6218, grad_fn=<NegBackward0>)\n",
            "Time 5.010784149169922 loss tensor(0.6187, grad_fn=<NegBackward0>)\n",
            "Time 5.087454319000244 loss tensor(0.6159, grad_fn=<NegBackward0>)\n",
            "Time 5.165315628051758 loss tensor(0.6132, grad_fn=<NegBackward0>)\n",
            "Time 5.248009204864502 loss tensor(0.6107, grad_fn=<NegBackward0>)\n",
            "Time 5.340126276016235 loss tensor(0.6083, grad_fn=<NegBackward0>)\n",
            "Time 5.413348913192749 loss tensor(0.6061, grad_fn=<NegBackward0>)\n",
            "Time 5.512990951538086 loss tensor(0.6039, grad_fn=<NegBackward0>)\n",
            "Time 5.580549955368042 loss tensor(0.6018, grad_fn=<NegBackward0>)\n",
            "Time 5.678105592727661 loss tensor(0.5997, grad_fn=<NegBackward0>)\n",
            "Time 5.803334712982178 loss tensor(0.5977, grad_fn=<NegBackward0>)\n",
            "Time 5.900112152099609 loss tensor(0.5958, grad_fn=<NegBackward0>)\n",
            "Time 5.995453596115112 loss tensor(0.5939, grad_fn=<NegBackward0>)\n",
            "Time 6.07250189781189 loss tensor(0.5920, grad_fn=<NegBackward0>)\n",
            "Time 6.181456804275513 loss tensor(0.5902, grad_fn=<NegBackward0>)\n",
            "Time 6.310654878616333 loss tensor(0.5884, grad_fn=<NegBackward0>)\n",
            "Time 6.423989534378052 loss tensor(0.5866, grad_fn=<NegBackward0>)\n",
            "Time 6.506715774536133 loss tensor(0.5849, grad_fn=<NegBackward0>)\n",
            "Time 6.651017189025879 loss tensor(0.5831, grad_fn=<NegBackward0>)\n",
            "Time 6.721530199050903 loss tensor(0.5814, grad_fn=<NegBackward0>)\n",
            "Time 6.7983458042144775 loss tensor(0.5797, grad_fn=<NegBackward0>)\n",
            "Time 6.878504276275635 loss tensor(0.5781, grad_fn=<NegBackward0>)\n",
            "Time 7.033965349197388 loss tensor(0.5764, grad_fn=<NegBackward0>)\n",
            "Time 7.127259254455566 loss tensor(0.5747, grad_fn=<NegBackward0>)\n",
            "Time 7.24785304069519 loss tensor(0.5731, grad_fn=<NegBackward0>)\n",
            "Time 7.342795133590698 loss tensor(0.5715, grad_fn=<NegBackward0>)\n",
            "Time 7.421460151672363 loss tensor(0.5699, grad_fn=<NegBackward0>)\n",
            "Time 7.502676486968994 loss tensor(0.5683, grad_fn=<NegBackward0>)\n",
            "Time 7.627686977386475 loss tensor(0.5667, grad_fn=<NegBackward0>)\n",
            "Time 7.790161848068237 loss tensor(0.5651, grad_fn=<NegBackward0>)\n",
            "Time 7.86894154548645 loss tensor(0.5635, grad_fn=<NegBackward0>)\n",
            "Time 7.942537307739258 loss tensor(0.5620, grad_fn=<NegBackward0>)\n",
            "Time 8.077796459197998 loss tensor(0.5604, grad_fn=<NegBackward0>)\n",
            "Time 8.211447477340698 loss tensor(0.5589, grad_fn=<NegBackward0>)\n",
            "Time 8.303812265396118 loss tensor(0.5574, grad_fn=<NegBackward0>)\n",
            "Time 8.373846530914307 loss tensor(0.5559, grad_fn=<NegBackward0>)\n",
            "Time 8.4675772190094 loss tensor(0.5544, grad_fn=<NegBackward0>)\n",
            "Time 8.609757423400879 loss tensor(0.5529, grad_fn=<NegBackward0>)\n",
            "Time 8.699000597000122 loss tensor(0.5514, grad_fn=<NegBackward0>)\n",
            "Time 8.804056167602539 loss tensor(0.5499, grad_fn=<NegBackward0>)\n",
            "Time 8.903859853744507 loss tensor(0.5484, grad_fn=<NegBackward0>)\n",
            "Time 8.981369733810425 loss tensor(0.5469, grad_fn=<NegBackward0>)\n",
            "Time 9.070905447006226 loss tensor(0.5455, grad_fn=<NegBackward0>)\n",
            "Time 9.143986225128174 loss tensor(0.5440, grad_fn=<NegBackward0>)\n",
            "Time 9.212851762771606 loss tensor(0.5426, grad_fn=<NegBackward0>)\n",
            "Time 9.301583290100098 loss tensor(0.5412, grad_fn=<NegBackward0>)\n",
            "Time 9.383601903915405 loss tensor(0.5397, grad_fn=<NegBackward0>)\n",
            "Time 9.475296258926392 loss tensor(0.5383, grad_fn=<NegBackward0>)\n",
            "Time 9.560570478439331 loss tensor(0.5369, grad_fn=<NegBackward0>)\n",
            "Time 9.665753841400146 loss tensor(0.5355, grad_fn=<NegBackward0>)\n",
            "Time 9.815075874328613 loss tensor(0.5341, grad_fn=<NegBackward0>)\n",
            "Time 9.909788608551025 loss tensor(0.5328, grad_fn=<NegBackward0>)\n",
            "Time 10.043647766113281 loss tensor(0.5314, grad_fn=<NegBackward0>)\n",
            "Time 10.11941409111023 loss tensor(0.5300, grad_fn=<NegBackward0>)\n",
            "Time 10.202633380889893 loss tensor(0.5286, grad_fn=<NegBackward0>)\n",
            "Time 10.316937923431396 loss tensor(0.5273, grad_fn=<NegBackward0>)\n",
            "Time 10.44285273551941 loss tensor(0.5260, grad_fn=<NegBackward0>)\n",
            "Time 10.538777112960815 loss tensor(0.5246, grad_fn=<NegBackward0>)\n",
            "Time 10.62237548828125 loss tensor(0.5233, grad_fn=<NegBackward0>)\n",
            "Time 10.723328590393066 loss tensor(0.5220, grad_fn=<NegBackward0>)\n",
            "Time 10.81691575050354 loss tensor(0.5206, grad_fn=<NegBackward0>)\n",
            "Time 11.021491765975952 loss tensor(0.5193, grad_fn=<NegBackward0>)\n",
            "Time 11.153176307678223 loss tensor(0.5180, grad_fn=<NegBackward0>)\n",
            "Time 11.263808250427246 loss tensor(0.5167, grad_fn=<NegBackward0>)\n",
            "Time 11.395398378372192 loss tensor(0.5154, grad_fn=<NegBackward0>)\n",
            "Time 11.47930097579956 loss tensor(0.5142, grad_fn=<NegBackward0>)\n",
            "Time 11.556739330291748 loss tensor(0.5129, grad_fn=<NegBackward0>)\n",
            "Time 11.763490676879883 loss tensor(0.5116, grad_fn=<NegBackward0>)\n",
            "Time 11.848722696304321 loss tensor(0.5103, grad_fn=<NegBackward0>)\n",
            "Time 11.927526473999023 loss tensor(0.5091, grad_fn=<NegBackward0>)\n",
            "Time 12.095182418823242 loss tensor(0.5078, grad_fn=<NegBackward0>)\n",
            "Time 12.234196901321411 loss tensor(0.5066, grad_fn=<NegBackward0>)\n",
            "Time 12.390139818191528 loss tensor(0.5054, grad_fn=<NegBackward0>)\n",
            "Time 12.475543737411499 loss tensor(0.5041, grad_fn=<NegBackward0>)\n",
            "Time 12.615684270858765 loss tensor(0.5029, grad_fn=<NegBackward0>)\n",
            "Time 12.707673788070679 loss tensor(0.5017, grad_fn=<NegBackward0>)\n",
            "Time 12.842785596847534 loss tensor(0.5005, grad_fn=<NegBackward0>)\n",
            "Time 12.920985698699951 loss tensor(0.4993, grad_fn=<NegBackward0>)\n",
            "Time 13.040156364440918 loss tensor(0.4981, grad_fn=<NegBackward0>)\n",
            "Time 13.180653810501099 loss tensor(0.4969, grad_fn=<NegBackward0>)\n",
            "Time 13.315822124481201 loss tensor(0.4957, grad_fn=<NegBackward0>)\n",
            "Time 13.538771867752075 loss tensor(0.4945, grad_fn=<NegBackward0>)\n",
            "Time 13.775562286376953 loss tensor(0.4933, grad_fn=<NegBackward0>)\n",
            "Time 13.89336609840393 loss tensor(0.4922, grad_fn=<NegBackward0>)\n",
            "Time 14.024656295776367 loss tensor(0.4910, grad_fn=<NegBackward0>)\n",
            "Time 14.261656761169434 loss tensor(0.4898, grad_fn=<NegBackward0>)\n",
            "Time 14.484952688217163 loss tensor(0.4887, grad_fn=<NegBackward0>)\n",
            "Time 14.661888122558594 loss tensor(0.4875, grad_fn=<NegBackward0>)\n",
            "Time 14.93819785118103 loss tensor(0.4864, grad_fn=<NegBackward0>)\n",
            "Time 15.19823670387268 loss tensor(0.4853, grad_fn=<NegBackward0>)\n",
            "Time 15.405003309249878 loss tensor(0.4841, grad_fn=<NegBackward0>)\n",
            "Time 15.613747119903564 loss tensor(0.4830, grad_fn=<NegBackward0>)\n",
            "Time 15.790689945220947 loss tensor(0.4819, grad_fn=<NegBackward0>)\n",
            "Time 16.042505979537964 loss tensor(0.4808, grad_fn=<NegBackward0>)\n",
            "Time 16.27906346321106 loss tensor(0.4797, grad_fn=<NegBackward0>)\n",
            "Time 16.44210696220398 loss tensor(0.4786, grad_fn=<NegBackward0>)\n",
            "Time 16.568644762039185 loss tensor(0.4775, grad_fn=<NegBackward0>)\n",
            "Time 16.68952512741089 loss tensor(0.4764, grad_fn=<NegBackward0>)\n",
            "Time 16.75930666923523 loss tensor(0.4753, grad_fn=<NegBackward0>)\n",
            "Time 16.848760843276978 loss tensor(0.4742, grad_fn=<NegBackward0>)\n",
            "Time 16.929121732711792 loss tensor(0.4731, grad_fn=<NegBackward0>)\n",
            "Time 17.02328586578369 loss tensor(0.4721, grad_fn=<NegBackward0>)\n",
            "Time 17.123838663101196 loss tensor(0.4710, grad_fn=<NegBackward0>)\n",
            "Time 17.226733684539795 loss tensor(0.4699, grad_fn=<NegBackward0>)\n",
            "Time 17.316288948059082 loss tensor(0.4689, grad_fn=<NegBackward0>)\n",
            "Time 17.39140558242798 loss tensor(0.4678, grad_fn=<NegBackward0>)\n",
            "Time 17.463555812835693 loss tensor(0.4668, grad_fn=<NegBackward0>)\n",
            "Time 17.548374891281128 loss tensor(0.4657, grad_fn=<NegBackward0>)\n",
            "Time 17.635340929031372 loss tensor(0.4647, grad_fn=<NegBackward0>)\n",
            "Time 17.74280619621277 loss tensor(0.4637, grad_fn=<NegBackward0>)\n",
            "Time 17.83056616783142 loss tensor(0.4626, grad_fn=<NegBackward0>)\n",
            "Time 17.989341020584106 loss tensor(0.4616, grad_fn=<NegBackward0>)\n",
            "Time 18.14131474494934 loss tensor(0.4606, grad_fn=<NegBackward0>)\n",
            "Time 18.26755952835083 loss tensor(0.4596, grad_fn=<NegBackward0>)\n",
            "Time 18.491527318954468 loss tensor(0.4586, grad_fn=<NegBackward0>)\n",
            "Time 18.601642847061157 loss tensor(0.4576, grad_fn=<NegBackward0>)\n",
            "Time 18.69056534767151 loss tensor(0.4566, grad_fn=<NegBackward0>)\n",
            "Time 18.83293056488037 loss tensor(0.4556, grad_fn=<NegBackward0>)\n",
            "Time 18.952916860580444 loss tensor(0.4546, grad_fn=<NegBackward0>)\n",
            "Time 19.070844411849976 loss tensor(0.4536, grad_fn=<NegBackward0>)\n",
            "Time 19.31740665435791 loss tensor(0.4526, grad_fn=<NegBackward0>)\n",
            "Time 19.519893169403076 loss tensor(0.4517, grad_fn=<NegBackward0>)\n",
            "Time 19.740712881088257 loss tensor(0.4507, grad_fn=<NegBackward0>)\n",
            "Time 19.918186902999878 loss tensor(0.4497, grad_fn=<NegBackward0>)\n",
            "Time 19.976003170013428 loss tensor(0.4487, grad_fn=<NegBackward0>)\n",
            "Time 20.02881360054016 loss tensor(0.4478, grad_fn=<NegBackward0>)\n",
            "Time 20.073960065841675 loss tensor(0.4468, grad_fn=<NegBackward0>)\n",
            "Time 20.152168035507202 loss tensor(0.4459, grad_fn=<NegBackward0>)\n",
            "Time 20.21342134475708 loss tensor(0.4449, grad_fn=<NegBackward0>)\n",
            "Time 20.259702920913696 loss tensor(0.4440, grad_fn=<NegBackward0>)\n",
            "Time 20.306478023529053 loss tensor(0.4431, grad_fn=<NegBackward0>)\n",
            "Time 20.351425170898438 loss tensor(0.4421, grad_fn=<NegBackward0>)\n",
            "Time 20.397406339645386 loss tensor(0.4412, grad_fn=<NegBackward0>)\n",
            "Time 20.44864583015442 loss tensor(0.4403, grad_fn=<NegBackward0>)\n",
            "Time 20.49547839164734 loss tensor(0.4393, grad_fn=<NegBackward0>)\n",
            "Time 20.548134565353394 loss tensor(0.4384, grad_fn=<NegBackward0>)\n",
            "Time 20.59867572784424 loss tensor(0.4375, grad_fn=<NegBackward0>)\n",
            "Time 20.645514726638794 loss tensor(0.4366, grad_fn=<NegBackward0>)\n",
            "Time 20.697436332702637 loss tensor(0.4357, grad_fn=<NegBackward0>)\n",
            "Time 20.752134323120117 loss tensor(0.4348, grad_fn=<NegBackward0>)\n",
            "Time 20.799197673797607 loss tensor(0.4339, grad_fn=<NegBackward0>)\n",
            "Time 20.844013690948486 loss tensor(0.4330, grad_fn=<NegBackward0>)\n",
            "Time 20.88792061805725 loss tensor(0.4321, grad_fn=<NegBackward0>)\n",
            "Time 20.940298318862915 loss tensor(0.4312, grad_fn=<NegBackward0>)\n",
            "Time 20.98414134979248 loss tensor(0.4304, grad_fn=<NegBackward0>)\n",
            "Time 21.03702402114868 loss tensor(0.4295, grad_fn=<NegBackward0>)\n",
            "Time 21.081716060638428 loss tensor(0.4286, grad_fn=<NegBackward0>)\n",
            "Time 21.125315189361572 loss tensor(0.4277, grad_fn=<NegBackward0>)\n",
            "Time 21.184118509292603 loss tensor(0.4269, grad_fn=<NegBackward0>)\n",
            "Time 21.231763124465942 loss tensor(0.4260, grad_fn=<NegBackward0>)\n",
            "Time 21.277117490768433 loss tensor(0.4251, grad_fn=<NegBackward0>)\n",
            "Time 21.321752548217773 loss tensor(0.4243, grad_fn=<NegBackward0>)\n",
            "Time 21.370599031448364 loss tensor(0.4234, grad_fn=<NegBackward0>)\n",
            "Time 21.418590545654297 loss tensor(0.4226, grad_fn=<NegBackward0>)\n",
            "Time 21.466525077819824 loss tensor(0.4217, grad_fn=<NegBackward0>)\n",
            "Time 21.511531591415405 loss tensor(0.4209, grad_fn=<NegBackward0>)\n",
            "Time 21.5563907623291 loss tensor(0.4201, grad_fn=<NegBackward0>)\n",
            "Time 21.60061502456665 loss tensor(0.4192, grad_fn=<NegBackward0>)\n",
            "Time 21.650395154953003 loss tensor(0.4184, grad_fn=<NegBackward0>)\n",
            "Time 21.70172095298767 loss tensor(0.4176, grad_fn=<NegBackward0>)\n",
            "Time 21.752265214920044 loss tensor(0.4167, grad_fn=<NegBackward0>)\n",
            "Time 21.80028009414673 loss tensor(0.4159, grad_fn=<NegBackward0>)\n",
            "Time 21.844354152679443 loss tensor(0.4151, grad_fn=<NegBackward0>)\n",
            "Time 21.892279624938965 loss tensor(0.4143, grad_fn=<NegBackward0>)\n",
            "Time 21.94112253189087 loss tensor(0.4135, grad_fn=<NegBackward0>)\n",
            "Time 21.985404014587402 loss tensor(0.4127, grad_fn=<NegBackward0>)\n",
            "Time 22.032403230667114 loss tensor(0.4119, grad_fn=<NegBackward0>)\n",
            "Time 22.080105781555176 loss tensor(0.4111, grad_fn=<NegBackward0>)\n",
            "Time 22.128459453582764 loss tensor(0.4103, grad_fn=<NegBackward0>)\n",
            "Time 22.177666902542114 loss tensor(0.4095, grad_fn=<NegBackward0>)\n",
            "Time 22.249956846237183 loss tensor(0.4087, grad_fn=<NegBackward0>)\n",
            "Time 22.294666528701782 loss tensor(0.4079, grad_fn=<NegBackward0>)\n",
            "Time 22.34351873397827 loss tensor(0.4071, grad_fn=<NegBackward0>)\n",
            "Time 22.388955116271973 loss tensor(0.4063, grad_fn=<NegBackward0>)\n",
            "Time 22.433533668518066 loss tensor(0.4056, grad_fn=<NegBackward0>)\n",
            "Time 22.48652935028076 loss tensor(0.4048, grad_fn=<NegBackward0>)\n",
            "Time 22.550376892089844 loss tensor(0.4040, grad_fn=<NegBackward0>)\n",
            "Time 22.610962629318237 loss tensor(0.4032, grad_fn=<NegBackward0>)\n",
            "Time 22.66569685935974 loss tensor(0.4025, grad_fn=<NegBackward0>)\n",
            "Time 22.712724924087524 loss tensor(0.4017, grad_fn=<NegBackward0>)\n",
            "Time 22.7643084526062 loss tensor(0.4010, grad_fn=<NegBackward0>)\n",
            "Time 22.813803672790527 loss tensor(0.4002, grad_fn=<NegBackward0>)\n",
            "Time 22.85773730278015 loss tensor(0.3994, grad_fn=<NegBackward0>)\n",
            "Time 22.90142035484314 loss tensor(0.3987, grad_fn=<NegBackward0>)\n",
            "Time 22.947970628738403 loss tensor(0.3980, grad_fn=<NegBackward0>)\n",
            "Time 23.000636339187622 loss tensor(0.3972, grad_fn=<NegBackward0>)\n",
            "Time 23.044004678726196 loss tensor(0.3965, grad_fn=<NegBackward0>)\n",
            "Time 23.088014125823975 loss tensor(0.3957, grad_fn=<NegBackward0>)\n",
            "Time 23.13977861404419 loss tensor(0.3950, grad_fn=<NegBackward0>)\n",
            "Time 23.184925317764282 loss tensor(0.3943, grad_fn=<NegBackward0>)\n",
            "Time 23.24560856819153 loss tensor(0.3935, grad_fn=<NegBackward0>)\n",
            "Time 23.290802478790283 loss tensor(0.3928, grad_fn=<NegBackward0>)\n",
            "Time 23.334157466888428 loss tensor(0.3921, grad_fn=<NegBackward0>)\n",
            "Time 23.377015829086304 loss tensor(0.3914, grad_fn=<NegBackward0>)\n",
            "Time 23.42239499092102 loss tensor(0.3906, grad_fn=<NegBackward0>)\n",
            "Time 23.475743293762207 loss tensor(0.3899, grad_fn=<NegBackward0>)\n",
            "Time 23.519481897354126 loss tensor(0.3892, grad_fn=<NegBackward0>)\n",
            "Time 23.566070556640625 loss tensor(0.3885, grad_fn=<NegBackward0>)\n",
            "Time 23.612967252731323 loss tensor(0.3878, grad_fn=<NegBackward0>)\n",
            "Time 23.657177209854126 loss tensor(0.3871, grad_fn=<NegBackward0>)\n",
            "Time 23.70530366897583 loss tensor(0.3864, grad_fn=<NegBackward0>)\n",
            "Time 23.75325608253479 loss tensor(0.3857, grad_fn=<NegBackward0>)\n",
            "Time 23.80272340774536 loss tensor(0.3850, grad_fn=<NegBackward0>)\n",
            "Time 23.84676766395569 loss tensor(0.3843, grad_fn=<NegBackward0>)\n",
            "Time 23.88980531692505 loss tensor(0.3836, grad_fn=<NegBackward0>)\n",
            "Time 23.94011425971985 loss tensor(0.3829, grad_fn=<NegBackward0>)\n",
            "Time 23.983546018600464 loss tensor(0.3822, grad_fn=<NegBackward0>)\n",
            "Time 24.03037714958191 loss tensor(0.3816, grad_fn=<NegBackward0>)\n",
            "Time 24.073126077651978 loss tensor(0.3809, grad_fn=<NegBackward0>)\n",
            "Time 24.119749784469604 loss tensor(0.3802, grad_fn=<NegBackward0>)\n",
            "Time 24.168919801712036 loss tensor(0.3795, grad_fn=<NegBackward0>)\n",
            "Time 24.212302446365356 loss tensor(0.3789, grad_fn=<NegBackward0>)\n",
            "Time 24.26641273498535 loss tensor(0.3782, grad_fn=<NegBackward0>)\n",
            "Time 24.310065984725952 loss tensor(0.3775, grad_fn=<NegBackward0>)\n",
            "Time 24.355044841766357 loss tensor(0.3769, grad_fn=<NegBackward0>)\n",
            "Time 24.405967712402344 loss tensor(0.3762, grad_fn=<NegBackward0>)\n",
            "Time 24.45239758491516 loss tensor(0.3755, grad_fn=<NegBackward0>)\n",
            "Time 24.497082710266113 loss tensor(0.3749, grad_fn=<NegBackward0>)\n",
            "Time 24.546059131622314 loss tensor(0.3742, grad_fn=<NegBackward0>)\n",
            "Time 24.58950161933899 loss tensor(0.3736, grad_fn=<NegBackward0>)\n",
            "Time 24.638426542282104 loss tensor(0.3729, grad_fn=<NegBackward0>)\n",
            "Time 24.68317151069641 loss tensor(0.3723, grad_fn=<NegBackward0>)\n",
            "Time 24.728419065475464 loss tensor(0.3716, grad_fn=<NegBackward0>)\n",
            "Time 24.774401426315308 loss tensor(0.3710, grad_fn=<NegBackward0>)\n",
            "Time 24.821038961410522 loss tensor(0.3703, grad_fn=<NegBackward0>)\n",
            "Time 24.87373924255371 loss tensor(0.3697, grad_fn=<NegBackward0>)\n",
            "Time 24.91754961013794 loss tensor(0.3691, grad_fn=<NegBackward0>)\n",
            "Time 24.963340044021606 loss tensor(0.3684, grad_fn=<NegBackward0>)\n",
            "Time 25.01091432571411 loss tensor(0.3678, grad_fn=<NegBackward0>)\n",
            "Time 25.055364847183228 loss tensor(0.3672, grad_fn=<NegBackward0>)\n",
            "Time 25.10496950149536 loss tensor(0.3666, grad_fn=<NegBackward0>)\n",
            "Time 25.149258852005005 loss tensor(0.3659, grad_fn=<NegBackward0>)\n",
            "Time 25.1921865940094 loss tensor(0.3653, grad_fn=<NegBackward0>)\n",
            "Time 25.248344659805298 loss tensor(0.3647, grad_fn=<NegBackward0>)\n",
            "Time 25.30229687690735 loss tensor(0.3641, grad_fn=<NegBackward0>)\n",
            "Time 25.35188102722168 loss tensor(0.3635, grad_fn=<NegBackward0>)\n",
            "Time 25.397599458694458 loss tensor(0.3628, grad_fn=<NegBackward0>)\n",
            "Time 25.441649913787842 loss tensor(0.3622, grad_fn=<NegBackward0>)\n",
            "Time 25.486091136932373 loss tensor(0.3616, grad_fn=<NegBackward0>)\n",
            "Time 25.531556129455566 loss tensor(0.3610, grad_fn=<NegBackward0>)\n",
            "Time 25.58038592338562 loss tensor(0.3604, grad_fn=<NegBackward0>)\n",
            "Time 25.62443447113037 loss tensor(0.3598, grad_fn=<NegBackward0>)\n",
            "Time 25.67627501487732 loss tensor(0.3592, grad_fn=<NegBackward0>)\n",
            "Time 25.72407603263855 loss tensor(0.3586, grad_fn=<NegBackward0>)\n",
            "Time 25.770116329193115 loss tensor(0.3580, grad_fn=<NegBackward0>)\n",
            "Time 25.82014012336731 loss tensor(0.3574, grad_fn=<NegBackward0>)\n",
            "Time 25.864752054214478 loss tensor(0.3568, grad_fn=<NegBackward0>)\n",
            "Time 25.908323764801025 loss tensor(0.3563, grad_fn=<NegBackward0>)\n",
            "Time 25.954166889190674 loss tensor(0.3557, grad_fn=<NegBackward0>)\n",
            "Time 26.00053381919861 loss tensor(0.3551, grad_fn=<NegBackward0>)\n",
            "Time 26.05302596092224 loss tensor(0.3545, grad_fn=<NegBackward0>)\n",
            "Time 26.097413539886475 loss tensor(0.3539, grad_fn=<NegBackward0>)\n",
            "Time 26.142874717712402 loss tensor(0.3534, grad_fn=<NegBackward0>)\n",
            "Time 26.18636441230774 loss tensor(0.3528, grad_fn=<NegBackward0>)\n",
            "Time 26.23017978668213 loss tensor(0.3522, grad_fn=<NegBackward0>)\n",
            "Time 26.285594701766968 loss tensor(0.3516, grad_fn=<NegBackward0>)\n",
            "Time 26.340155124664307 loss tensor(0.3511, grad_fn=<NegBackward0>)\n",
            "Time 26.383241415023804 loss tensor(0.3505, grad_fn=<NegBackward0>)\n",
            "Time 26.42734456062317 loss tensor(0.3499, grad_fn=<NegBackward0>)\n",
            "Time 26.471624612808228 loss tensor(0.3494, grad_fn=<NegBackward0>)\n",
            "Time 26.54194664955139 loss tensor(0.3488, grad_fn=<NegBackward0>)\n",
            "Time 26.61450958251953 loss tensor(0.3482, grad_fn=<NegBackward0>)\n",
            "Time 26.682252883911133 loss tensor(0.3477, grad_fn=<NegBackward0>)\n",
            "Time 26.756964921951294 loss tensor(0.3471, grad_fn=<NegBackward0>)\n",
            "Time 26.833454608917236 loss tensor(0.3466, grad_fn=<NegBackward0>)\n",
            "Time 26.899282217025757 loss tensor(0.3460, grad_fn=<NegBackward0>)\n",
            "Time 26.9696102142334 loss tensor(0.3455, grad_fn=<NegBackward0>)\n",
            "Time 27.04062509536743 loss tensor(0.3449, grad_fn=<NegBackward0>)\n",
            "Time 27.105076551437378 loss tensor(0.3444, grad_fn=<NegBackward0>)\n",
            "Time 27.19047498703003 loss tensor(0.3438, grad_fn=<NegBackward0>)\n",
            "Time 27.279435634613037 loss tensor(0.3433, grad_fn=<NegBackward0>)\n",
            "Time 27.357194662094116 loss tensor(0.3428, grad_fn=<NegBackward0>)\n",
            "Time 27.430100917816162 loss tensor(0.3422, grad_fn=<NegBackward0>)\n",
            "Time 27.495871782302856 loss tensor(0.3417, grad_fn=<NegBackward0>)\n",
            "Time 27.55893301963806 loss tensor(0.3412, grad_fn=<NegBackward0>)\n",
            "Time 27.624323844909668 loss tensor(0.3406, grad_fn=<NegBackward0>)\n",
            "Time 27.703641414642334 loss tensor(0.3401, grad_fn=<NegBackward0>)\n",
            "Time 27.77106809616089 loss tensor(0.3396, grad_fn=<NegBackward0>)\n",
            "Time 27.840168952941895 loss tensor(0.3390, grad_fn=<NegBackward0>)\n",
            "Time 27.9086811542511 loss tensor(0.3385, grad_fn=<NegBackward0>)\n",
            "Time 27.9844708442688 loss tensor(0.3380, grad_fn=<NegBackward0>)\n",
            "Time 28.05193328857422 loss tensor(0.3375, grad_fn=<NegBackward0>)\n",
            "Time 28.122511386871338 loss tensor(0.3369, grad_fn=<NegBackward0>)\n",
            "Time 28.187848806381226 loss tensor(0.3364, grad_fn=<NegBackward0>)\n",
            "Time 28.251582622528076 loss tensor(0.3359, grad_fn=<NegBackward0>)\n",
            "Time 28.316907167434692 loss tensor(0.3354, grad_fn=<NegBackward0>)\n",
            "Time 28.392883777618408 loss tensor(0.3349, grad_fn=<NegBackward0>)\n",
            "Time 28.46293568611145 loss tensor(0.3344, grad_fn=<NegBackward0>)\n",
            "Time 28.53066372871399 loss tensor(0.3339, grad_fn=<NegBackward0>)\n",
            "Time 28.602166891098022 loss tensor(0.3333, grad_fn=<NegBackward0>)\n",
            "Time 28.67200469970703 loss tensor(0.3328, grad_fn=<NegBackward0>)\n",
            "Time 28.74151062965393 loss tensor(0.3323, grad_fn=<NegBackward0>)\n",
            "Time 28.811784744262695 loss tensor(0.3318, grad_fn=<NegBackward0>)\n",
            "Time 28.88291621208191 loss tensor(0.3313, grad_fn=<NegBackward0>)\n",
            "Time 28.95342230796814 loss tensor(0.3308, grad_fn=<NegBackward0>)\n",
            "Time 29.00198459625244 loss tensor(0.3303, grad_fn=<NegBackward0>)\n",
            "Time 29.051055192947388 loss tensor(0.3298, grad_fn=<NegBackward0>)\n",
            "Time 29.09635591506958 loss tensor(0.3293, grad_fn=<NegBackward0>)\n",
            "Time 29.141462802886963 loss tensor(0.3289, grad_fn=<NegBackward0>)\n",
            "Time 29.18501901626587 loss tensor(0.3284, grad_fn=<NegBackward0>)\n",
            "Time 29.22887635231018 loss tensor(0.3279, grad_fn=<NegBackward0>)\n",
            "Time 29.2823269367218 loss tensor(0.3274, grad_fn=<NegBackward0>)\n",
            "Time 29.326789140701294 loss tensor(0.3269, grad_fn=<NegBackward0>)\n",
            "Time 29.36997389793396 loss tensor(0.3264, grad_fn=<NegBackward0>)\n",
            "Time 29.412540674209595 loss tensor(0.3259, grad_fn=<NegBackward0>)\n",
            "Time 29.46672534942627 loss tensor(0.3255, grad_fn=<NegBackward0>)\n",
            "Time 29.51447606086731 loss tensor(0.3250, grad_fn=<NegBackward0>)\n",
            "Time 29.557836771011353 loss tensor(0.3245, grad_fn=<NegBackward0>)\n",
            "Time 29.609543800354004 loss tensor(0.3240, grad_fn=<NegBackward0>)\n",
            "Time 29.655290365219116 loss tensor(0.3235, grad_fn=<NegBackward0>)\n",
            "Time 29.698389530181885 loss tensor(0.3231, grad_fn=<NegBackward0>)\n",
            "Time 29.74817705154419 loss tensor(0.3226, grad_fn=<NegBackward0>)\n",
            "Time 29.792615175247192 loss tensor(0.3221, grad_fn=<NegBackward0>)\n",
            "Time 29.839126348495483 loss tensor(0.3217, grad_fn=<NegBackward0>)\n",
            "Time 29.883949995040894 loss tensor(0.3212, grad_fn=<NegBackward0>)\n",
            "Time 29.929720640182495 loss tensor(0.3207, grad_fn=<NegBackward0>)\n",
            "Time 29.980249166488647 loss tensor(0.3203, grad_fn=<NegBackward0>)\n",
            "Time 30.031368732452393 loss tensor(0.3198, grad_fn=<NegBackward0>)\n",
            "Time 30.077710390090942 loss tensor(0.3193, grad_fn=<NegBackward0>)\n",
            "Time 30.121622562408447 loss tensor(0.3189, grad_fn=<NegBackward0>)\n",
            "Time 30.166144371032715 loss tensor(0.3184, grad_fn=<NegBackward0>)\n",
            "Time 30.215033292770386 loss tensor(0.3180, grad_fn=<NegBackward0>)\n",
            "Time 30.259883642196655 loss tensor(0.3175, grad_fn=<NegBackward0>)\n",
            "Time 30.30625081062317 loss tensor(0.3171, grad_fn=<NegBackward0>)\n",
            "Time 30.355663537979126 loss tensor(0.3166, grad_fn=<NegBackward0>)\n",
            "Time 30.40024971961975 loss tensor(0.3162, grad_fn=<NegBackward0>)\n",
            "Time 30.454334020614624 loss tensor(0.3157, grad_fn=<NegBackward0>)\n",
            "Time 30.526090145111084 loss tensor(0.3153, grad_fn=<NegBackward0>)\n",
            "Time 30.572057962417603 loss tensor(0.3148, grad_fn=<NegBackward0>)\n",
            "Time 30.62296414375305 loss tensor(0.3144, grad_fn=<NegBackward0>)\n",
            "Time 30.673433780670166 loss tensor(0.3139, grad_fn=<NegBackward0>)\n",
            "Time 30.718706369400024 loss tensor(0.3135, grad_fn=<NegBackward0>)\n",
            "Time 30.765814542770386 loss tensor(0.3130, grad_fn=<NegBackward0>)\n",
            "Time 30.814436435699463 loss tensor(0.3126, grad_fn=<NegBackward0>)\n",
            "Time 30.86325764656067 loss tensor(0.3122, grad_fn=<NegBackward0>)\n",
            "Time 30.914511919021606 loss tensor(0.3117, grad_fn=<NegBackward0>)\n",
            "Time 30.95927596092224 loss tensor(0.3113, grad_fn=<NegBackward0>)\n",
            "Time 31.010684728622437 loss tensor(0.3109, grad_fn=<NegBackward0>)\n",
            "Time 31.055724620819092 loss tensor(0.3104, grad_fn=<NegBackward0>)\n",
            "Time 31.10080051422119 loss tensor(0.3100, grad_fn=<NegBackward0>)\n",
            "Time 31.15730881690979 loss tensor(0.3096, grad_fn=<NegBackward0>)\n",
            "Time 31.20186686515808 loss tensor(0.3091, grad_fn=<NegBackward0>)\n",
            "Time 31.247884273529053 loss tensor(0.3087, grad_fn=<NegBackward0>)\n",
            "Time 31.29627299308777 loss tensor(0.3083, grad_fn=<NegBackward0>)\n",
            "Time 31.344210147857666 loss tensor(0.3079, grad_fn=<NegBackward0>)\n",
            "Time 31.4020574092865 loss tensor(0.3074, grad_fn=<NegBackward0>)\n",
            "Time 31.447539567947388 loss tensor(0.3070, grad_fn=<NegBackward0>)\n",
            "Time 31.496968507766724 loss tensor(0.3066, grad_fn=<NegBackward0>)\n",
            "Time 31.544811964035034 loss tensor(0.3062, grad_fn=<NegBackward0>)\n",
            "Time 31.590407371520996 loss tensor(0.3058, grad_fn=<NegBackward0>)\n",
            "Time 31.640722274780273 loss tensor(0.3053, grad_fn=<NegBackward0>)\n",
            "Time 31.687552452087402 loss tensor(0.3049, grad_fn=<NegBackward0>)\n",
            "Time 31.744216203689575 loss tensor(0.3045, grad_fn=<NegBackward0>)\n",
            "Time 31.788206100463867 loss tensor(0.3041, grad_fn=<NegBackward0>)\n",
            "Time 31.831995487213135 loss tensor(0.3037, grad_fn=<NegBackward0>)\n",
            "Time 31.88195514678955 loss tensor(0.3033, grad_fn=<NegBackward0>)\n",
            "Time 31.9278826713562 loss tensor(0.3029, grad_fn=<NegBackward0>)\n",
            "Time 31.97197723388672 loss tensor(0.3025, grad_fn=<NegBackward0>)\n",
            "Time 32.02305746078491 loss tensor(0.3021, grad_fn=<NegBackward0>)\n",
            "Time 32.08581733703613 loss tensor(0.3016, grad_fn=<NegBackward0>)\n",
            "Time 32.14015078544617 loss tensor(0.3012, grad_fn=<NegBackward0>)\n",
            "Time 32.186444997787476 loss tensor(0.3008, grad_fn=<NegBackward0>)\n",
            "Time 32.23267650604248 loss tensor(0.3004, grad_fn=<NegBackward0>)\n",
            "Time 32.28002953529358 loss tensor(0.3000, grad_fn=<NegBackward0>)\n",
            "Time 32.33525490760803 loss tensor(0.2996, grad_fn=<NegBackward0>)\n",
            "Final execution time 32.33525490760803\n",
            "Number of iterations 399\n",
            "Mean execution time of an iteration 0.08104073911681212\n"
          ]
        }
      ]
    },
    {
      "cell_type": "code",
      "source": [
        "plt.plot(losses)"
      ],
      "metadata": {
        "colab": {
          "base_uri": "https://localhost:8080/",
          "height": 282
        },
        "id": "XNQaGo06Ta49",
        "outputId": "730f42ae-957a-479b-b55a-bac1d5609bd9"
      },
      "execution_count": 23,
      "outputs": [
        {
          "output_type": "execute_result",
          "data": {
            "text/plain": [
              "[<matplotlib.lines.Line2D at 0x7fed353d8f70>]"
            ]
          },
          "metadata": {},
          "execution_count": 23
        },
        {
          "output_type": "display_data",
          "data": {
            "text/plain": [
              "<Figure size 432x288 with 1 Axes>"
            ],
            "image/png": "[encoded data removed]"
          },
          "metadata": {
            "needs_background": "light"
          }
        }
      ]
    },
    {
      "cell_type": "code",
      "source": [
        "plt.plot(accuracies)"
      ],
      "metadata": {
        "colab": {
          "base_uri": "https://localhost:8080/",
          "height": 282
        },
        "id": "6G3P5f8LTdAY",
        "outputId": "244a60e1-ebe2-4198-ed97-4aa3d29bb92c"
      },
      "execution_count": 24,
      "outputs": [
        {
          "output_type": "execute_result",
          "data": {
            "text/plain": [
              "[<matplotlib.lines.Line2D at 0x7fed353760a0>]"
            ]
          },
          "metadata": {},
          "execution_count": 24
        },
        {
          "output_type": "display_data",
          "data": {
            "text/plain": [
              "<Figure size 432x288 with 1 Axes>"
            ],
            "image/png": "[encoded data removed]"
          },
          "metadata": {
            "needs_background": "light"
          }
        }
      ]
    },
    {
      "cell_type": "code",
      "source": [
        "plt.plot(errors)"
      ],
      "metadata": {
        "colab": {
          "base_uri": "https://localhost:8080/",
          "height": 282
        },
        "id": "l0LtcyhPTeh8",
        "outputId": "b3400326-351f-454d-88b6-d4e43616c82d"
      },
      "execution_count": 25,
      "outputs": [
        {
          "output_type": "execute_result",
          "data": {
            "text/plain": [
              "[<matplotlib.lines.Line2D at 0x7fed34e8c3d0>]"
            ]
          },
          "metadata": {},
          "execution_count": 25
        },
        {
          "output_type": "display_data",
          "data": {
            "text/plain": [
              "<Figure size 432x288 with 1 Axes>"
            ],
            "image/png": "[encoded data removed]"
          },
          "metadata": {
            "needs_background": "light"
          }
        }
      ]
    }
  ]
}