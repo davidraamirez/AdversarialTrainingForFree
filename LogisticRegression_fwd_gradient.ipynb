{
  "nbformat": 4,
  "nbformat_minor": 0,
  "metadata": {
    "colab": {
      "provenance": [],
      "include_colab_link": true
    },
    "kernelspec": {
      "name": "python3",
      "display_name": "Python 3"
    },
    "language_info": {
      "name": "python"
    },
    "accelerator": "GPU",
    "gpuClass": "standard",
    "widgets": {
      "application/vnd.jupyter.widget-state+json": {
        "01040f9eee8243a8b39e9cd29cff0aa4": {
          "model_module": "@jupyter-widgets/controls",
          "model_name": "HBoxModel",
          "model_module_version": "1.5.0",
          "state": {
            "_dom_classes": [],
            "_model_module": "@jupyter-widgets/controls",
            "_model_module_version": "1.5.0",
            "_model_name": "HBoxModel",
            "_view_count": null,
            "_view_module": "@jupyter-widgets/controls",
            "_view_module_version": "1.5.0",
            "_view_name": "HBoxView",
            "box_style": "",
            "children": [
              "IPY_MODEL_148e323688ed4b418887385e5e364a11",
              "IPY_MODEL_5c766f199adf494d88ff394123ff0488",
              "IPY_MODEL_26bc3401ac7a4936bdf36eb1d465202e"
            ],
            "layout": "IPY_MODEL_ab36365802ff4578bcc3d529db557517"
          }
        },
        "148e323688ed4b418887385e5e364a11": {
          "model_module": "@jupyter-widgets/controls",
          "model_name": "HTMLModel",
          "model_module_version": "1.5.0",
          "state": {
            "_dom_classes": [],
            "_model_module": "@jupyter-widgets/controls",
            "_model_module_version": "1.5.0",
            "_model_name": "HTMLModel",
            "_view_count": null,
            "_view_module": "@jupyter-widgets/controls",
            "_view_module_version": "1.5.0",
            "_view_name": "HTMLView",
            "description": "",
            "description_tooltip": null,
            "layout": "IPY_MODEL_d5edff127c184025b35cfd7b5a5733ac",
            "placeholder": "​",
            "style": "IPY_MODEL_38f358cac15442cb8ffdf24f8c0f39f1",
            "value": "Dl Completed...: 100%"
          }
        },
        "5c766f199adf494d88ff394123ff0488": {
          "model_module": "@jupyter-widgets/controls",
          "model_name": "FloatProgressModel",
          "model_module_version": "1.5.0",
          "state": {
            "_dom_classes": [],
            "_model_module": "@jupyter-widgets/controls",
            "_model_module_version": "1.5.0",
            "_model_name": "FloatProgressModel",
            "_view_count": null,
            "_view_module": "@jupyter-widgets/controls",
            "_view_module_version": "1.5.0",
            "_view_name": "ProgressView",
            "bar_style": "success",
            "description": "",
            "description_tooltip": null,
            "layout": "IPY_MODEL_141d68289cc74dc2b9a4b8a16bc99fc0",
            "max": 1,
            "min": 0,
            "orientation": "horizontal",
            "style": "IPY_MODEL_addaf41d56854a4ca84a78eff86cb231",
            "value": 1
          }
        },
        "26bc3401ac7a4936bdf36eb1d465202e": {
          "model_module": "@jupyter-widgets/controls",
          "model_name": "HTMLModel",
          "model_module_version": "1.5.0",
          "state": {
            "_dom_classes": [],
            "_model_module": "@jupyter-widgets/controls",
            "_model_module_version": "1.5.0",
            "_model_name": "HTMLModel",
            "_view_count": null,
            "_view_module": "@jupyter-widgets/controls",
            "_view_module_version": "1.5.0",
            "_view_name": "HTMLView",
            "description": "",
            "description_tooltip": null,
            "layout": "IPY_MODEL_3cd1698fa09843208439e0385e3ad5c7",
            "placeholder": "​",
            "style": "IPY_MODEL_2a6204755c0543ca8b14d52896c7e2a4",
            "value": " 1/1 [00:00&lt;00:00,  2.05 url/s]"
          }
        },
        "ab36365802ff4578bcc3d529db557517": {
          "model_module": "@jupyter-widgets/base",
          "model_name": "LayoutModel",
          "model_module_version": "1.2.0",
          "state": {
            "_model_module": "@jupyter-widgets/base",
            "_model_module_version": "1.2.0",
            "_model_name": "LayoutModel",
            "_view_count": null,
            "_view_module": "@jupyter-widgets/base",
            "_view_module_version": "1.2.0",
            "_view_name": "LayoutView",
            "align_content": null,
            "align_items": null,
            "align_self": null,
            "border": null,
            "bottom": null,
            "display": null,
            "flex": null,
            "flex_flow": null,
            "grid_area": null,
            "grid_auto_columns": null,
            "grid_auto_flow": null,
            "grid_auto_rows": null,
            "grid_column": null,
            "grid_gap": null,
            "grid_row": null,
            "grid_template_areas": null,
            "grid_template_columns": null,
            "grid_template_rows": null,
            "height": null,
            "justify_content": null,
            "justify_items": null,
            "left": null,
            "margin": null,
            "max_height": null,
            "max_width": null,
            "min_height": null,
            "min_width": null,
            "object_fit": null,
            "object_position": null,
            "order": null,
            "overflow": null,
            "overflow_x": null,
            "overflow_y": null,
            "padding": null,
            "right": null,
            "top": null,
            "visibility": null,
            "width": null
          }
        },
        "d5edff127c184025b35cfd7b5a5733ac": {
          "model_module": "@jupyter-widgets/base",
          "model_name": "LayoutModel",
          "model_module_version": "1.2.0",
          "state": {
            "_model_module": "@jupyter-widgets/base",
            "_model_module_version": "1.2.0",
            "_model_name": "LayoutModel",
            "_view_count": null,
            "_view_module": "@jupyter-widgets/base",
            "_view_module_version": "1.2.0",
            "_view_name": "LayoutView",
            "align_content": null,
            "align_items": null,
            "align_self": null,
            "border": null,
            "bottom": null,
            "display": null,
            "flex": null,
            "flex_flow": null,
            "grid_area": null,
            "grid_auto_columns": null,
            "grid_auto_flow": null,
            "grid_auto_rows": null,
            "grid_column": null,
            "grid_gap": null,
            "grid_row": null,
            "grid_template_areas": null,
            "grid_template_columns": null,
            "grid_template_rows": null,
            "height": null,
            "justify_content": null,
            "justify_items": null,
            "left": null,
            "margin": null,
            "max_height": null,
            "max_width": null,
            "min_height": null,
            "min_width": null,
            "object_fit": null,
            "object_position": null,
            "order": null,
            "overflow": null,
            "overflow_x": null,
            "overflow_y": null,
            "padding": null,
            "right": null,
            "top": null,
            "visibility": null,
            "width": null
          }
        },
        "38f358cac15442cb8ffdf24f8c0f39f1": {
          "model_module": "@jupyter-widgets/controls",
          "model_name": "DescriptionStyleModel",
          "model_module_version": "1.5.0",
          "state": {
            "_model_module": "@jupyter-widgets/controls",
            "_model_module_version": "1.5.0",
            "_model_name": "DescriptionStyleModel",
            "_view_count": null,
            "_view_module": "@jupyter-widgets/base",
            "_view_module_version": "1.2.0",
            "_view_name": "StyleView",
            "description_width": ""
          }
        },
        "141d68289cc74dc2b9a4b8a16bc99fc0": {
          "model_module": "@jupyter-widgets/base",
          "model_name": "LayoutModel",
          "model_module_version": "1.2.0",
          "state": {
            "_model_module": "@jupyter-widgets/base",
            "_model_module_version": "1.2.0",
            "_model_name": "LayoutModel",
            "_view_count": null,
            "_view_module": "@jupyter-widgets/base",
            "_view_module_version": "1.2.0",
            "_view_name": "LayoutView",
            "align_content": null,
            "align_items": null,
            "align_self": null,
            "border": null,
            "bottom": null,
            "display": null,
            "flex": null,
            "flex_flow": null,
            "grid_area": null,
            "grid_auto_columns": null,
            "grid_auto_flow": null,
            "grid_auto_rows": null,
            "grid_column": null,
            "grid_gap": null,
            "grid_row": null,
            "grid_template_areas": null,
            "grid_template_columns": null,
            "grid_template_rows": null,
            "height": null,
            "justify_content": null,
            "justify_items": null,
            "left": null,
            "margin": null,
            "max_height": null,
            "max_width": null,
            "min_height": null,
            "min_width": null,
            "object_fit": null,
            "object_position": null,
            "order": null,
            "overflow": null,
            "overflow_x": null,
            "overflow_y": null,
            "padding": null,
            "right": null,
            "top": null,
            "visibility": null,
            "width": "20px"
          }
        },
        "addaf41d56854a4ca84a78eff86cb231": {
          "model_module": "@jupyter-widgets/controls",
          "model_name": "ProgressStyleModel",
          "model_module_version": "1.5.0",
          "state": {
            "_model_module": "@jupyter-widgets/controls",
            "_model_module_version": "1.5.0",
            "_model_name": "ProgressStyleModel",
            "_view_count": null,
            "_view_module": "@jupyter-widgets/base",
            "_view_module_version": "1.2.0",
            "_view_name": "StyleView",
            "bar_color": null,
            "description_width": ""
          }
        },
        "3cd1698fa09843208439e0385e3ad5c7": {
          "model_module": "@jupyter-widgets/base",
          "model_name": "LayoutModel",
          "model_module_version": "1.2.0",
          "state": {
            "_model_module": "@jupyter-widgets/base",
            "_model_module_version": "1.2.0",
            "_model_name": "LayoutModel",
            "_view_count": null,
            "_view_module": "@jupyter-widgets/base",
            "_view_module_version": "1.2.0",
            "_view_name": "LayoutView",
            "align_content": null,
            "align_items": null,
            "align_self": null,
            "border": null,
            "bottom": null,
            "display": null,
            "flex": null,
            "flex_flow": null,
            "grid_area": null,
            "grid_auto_columns": null,
            "grid_auto_flow": null,
            "grid_auto_rows": null,
            "grid_column": null,
            "grid_gap": null,
            "grid_row": null,
            "grid_template_areas": null,
            "grid_template_columns": null,
            "grid_template_rows": null,
            "height": null,
            "justify_content": null,
            "justify_items": null,
            "left": null,
            "margin": null,
            "max_height": null,
            "max_width": null,
            "min_height": null,
            "min_width": null,
            "object_fit": null,
            "object_position": null,
            "order": null,
            "overflow": null,
            "overflow_x": null,
            "overflow_y": null,
            "padding": null,
            "right": null,
            "top": null,
            "visibility": null,
            "width": null
          }
        },
        "2a6204755c0543ca8b14d52896c7e2a4": {
          "model_module": "@jupyter-widgets/controls",
          "model_name": "DescriptionStyleModel",
          "model_module_version": "1.5.0",
          "state": {
            "_model_module": "@jupyter-widgets/controls",
            "_model_module_version": "1.5.0",
            "_model_name": "DescriptionStyleModel",
            "_view_count": null,
            "_view_module": "@jupyter-widgets/base",
            "_view_module_version": "1.2.0",
            "_view_name": "StyleView",
            "description_width": ""
          }
        },
        "6aef62640402479c9e79d75e19a83528": {
          "model_module": "@jupyter-widgets/controls",
          "model_name": "HBoxModel",
          "model_module_version": "1.5.0",
          "state": {
            "_dom_classes": [],
            "_model_module": "@jupyter-widgets/controls",
            "_model_module_version": "1.5.0",
            "_model_name": "HBoxModel",
            "_view_count": null,
            "_view_module": "@jupyter-widgets/controls",
            "_view_module_version": "1.5.0",
            "_view_name": "HBoxView",
            "box_style": "",
            "children": [
              "IPY_MODEL_d32114af6cb04a5894f357f44c0de6d2",
              "IPY_MODEL_d6eabb90128b449b80adfa6df3fef8f0",
              "IPY_MODEL_61bb8dbe32c44ccaa164a97b8541c270"
            ],
            "layout": "IPY_MODEL_b73b2621d5724feb8766718bbaf13f1e"
          }
        },
        "d32114af6cb04a5894f357f44c0de6d2": {
          "model_module": "@jupyter-widgets/controls",
          "model_name": "HTMLModel",
          "model_module_version": "1.5.0",
          "state": {
            "_dom_classes": [],
            "_model_module": "@jupyter-widgets/controls",
            "_model_module_version": "1.5.0",
            "_model_name": "HTMLModel",
            "_view_count": null,
            "_view_module": "@jupyter-widgets/controls",
            "_view_module_version": "1.5.0",
            "_view_name": "HTMLView",
            "description": "",
            "description_tooltip": null,
            "layout": "IPY_MODEL_75a0837903f44c36a51bb61ae5c74640",
            "placeholder": "​",
            "style": "IPY_MODEL_ea8e5e7b75124b2884f857fda9d0cd85",
            "value": "Dl Size...: "
          }
        },
        "d6eabb90128b449b80adfa6df3fef8f0": {
          "model_module": "@jupyter-widgets/controls",
          "model_name": "FloatProgressModel",
          "model_module_version": "1.5.0",
          "state": {
            "_dom_classes": [],
            "_model_module": "@jupyter-widgets/controls",
            "_model_module_version": "1.5.0",
            "_model_name": "FloatProgressModel",
            "_view_count": null,
            "_view_module": "@jupyter-widgets/controls",
            "_view_module_version": "1.5.0",
            "_view_name": "ProgressView",
            "bar_style": "success",
            "description": "",
            "description_tooltip": null,
            "layout": "IPY_MODEL_0617a9ea597743dbb14b105185b424cf",
            "max": 1,
            "min": 0,
            "orientation": "horizontal",
            "style": "IPY_MODEL_4fd7d30501c74e5f8efad6cf48909323",
            "value": 0
          }
        },
        "61bb8dbe32c44ccaa164a97b8541c270": {
          "model_module": "@jupyter-widgets/controls",
          "model_name": "HTMLModel",
          "model_module_version": "1.5.0",
          "state": {
            "_dom_classes": [],
            "_model_module": "@jupyter-widgets/controls",
            "_model_module_version": "1.5.0",
            "_model_name": "HTMLModel",
            "_view_count": null,
            "_view_module": "@jupyter-widgets/controls",
            "_view_module_version": "1.5.0",
            "_view_name": "HTMLView",
            "description": "",
            "description_tooltip": null,
            "layout": "IPY_MODEL_d5a749ab7ac5453f9983fb40f5e8d688",
            "placeholder": "​",
            "style": "IPY_MODEL_b34e61de72534c4d8f1c7053a3bc693b",
            "value": " 0/0 [00:00&lt;?, ? MiB/s]"
          }
        },
        "b73b2621d5724feb8766718bbaf13f1e": {
          "model_module": "@jupyter-widgets/base",
          "model_name": "LayoutModel",
          "model_module_version": "1.2.0",
          "state": {
            "_model_module": "@jupyter-widgets/base",
            "_model_module_version": "1.2.0",
            "_model_name": "LayoutModel",
            "_view_count": null,
            "_view_module": "@jupyter-widgets/base",
            "_view_module_version": "1.2.0",
            "_view_name": "LayoutView",
            "align_content": null,
            "align_items": null,
            "align_self": null,
            "border": null,
            "bottom": null,
            "display": null,
            "flex": null,
            "flex_flow": null,
            "grid_area": null,
            "grid_auto_columns": null,
            "grid_auto_flow": null,
            "grid_auto_rows": null,
            "grid_column": null,
            "grid_gap": null,
            "grid_row": null,
            "grid_template_areas": null,
            "grid_template_columns": null,
            "grid_template_rows": null,
            "height": null,
            "justify_content": null,
            "justify_items": null,
            "left": null,
            "margin": null,
            "max_height": null,
            "max_width": null,
            "min_height": null,
            "min_width": null,
            "object_fit": null,
            "object_position": null,
            "order": null,
            "overflow": null,
            "overflow_x": null,
            "overflow_y": null,
            "padding": null,
            "right": null,
            "top": null,
            "visibility": null,
            "width": null
          }
        },
        "75a0837903f44c36a51bb61ae5c74640": {
          "model_module": "@jupyter-widgets/base",
          "model_name": "LayoutModel",
          "model_module_version": "1.2.0",
          "state": {
            "_model_module": "@jupyter-widgets/base",
            "_model_module_version": "1.2.0",
            "_model_name": "LayoutModel",
            "_view_count": null,
            "_view_module": "@jupyter-widgets/base",
            "_view_module_version": "1.2.0",
            "_view_name": "LayoutView",
            "align_content": null,
            "align_items": null,
            "align_self": null,
            "border": null,
            "bottom": null,
            "display": null,
            "flex": null,
            "flex_flow": null,
            "grid_area": null,
            "grid_auto_columns": null,
            "grid_auto_flow": null,
            "grid_auto_rows": null,
            "grid_column": null,
            "grid_gap": null,
            "grid_row": null,
            "grid_template_areas": null,
            "grid_template_columns": null,
            "grid_template_rows": null,
            "height": null,
            "justify_content": null,
            "justify_items": null,
            "left": null,
            "margin": null,
            "max_height": null,
            "max_width": null,
            "min_height": null,
            "min_width": null,
            "object_fit": null,
            "object_position": null,
            "order": null,
            "overflow": null,
            "overflow_x": null,
            "overflow_y": null,
            "padding": null,
            "right": null,
            "top": null,
            "visibility": null,
            "width": null
          }
        },
        "ea8e5e7b75124b2884f857fda9d0cd85": {
          "model_module": "@jupyter-widgets/controls",
          "model_name": "DescriptionStyleModel",
          "model_module_version": "1.5.0",
          "state": {
            "_model_module": "@jupyter-widgets/controls",
            "_model_module_version": "1.5.0",
            "_model_name": "DescriptionStyleModel",
            "_view_count": null,
            "_view_module": "@jupyter-widgets/base",
            "_view_module_version": "1.2.0",
            "_view_name": "StyleView",
            "description_width": ""
          }
        },
        "0617a9ea597743dbb14b105185b424cf": {
          "model_module": "@jupyter-widgets/base",
          "model_name": "LayoutModel",
          "model_module_version": "1.2.0",
          "state": {
            "_model_module": "@jupyter-widgets/base",
            "_model_module_version": "1.2.0",
            "_model_name": "LayoutModel",
            "_view_count": null,
            "_view_module": "@jupyter-widgets/base",
            "_view_module_version": "1.2.0",
            "_view_name": "LayoutView",
            "align_content": null,
            "align_items": null,
            "align_self": null,
            "border": null,
            "bottom": null,
            "display": null,
            "flex": null,
            "flex_flow": null,
            "grid_area": null,
            "grid_auto_columns": null,
            "grid_auto_flow": null,
            "grid_auto_rows": null,
            "grid_column": null,
            "grid_gap": null,
            "grid_row": null,
            "grid_template_areas": null,
            "grid_template_columns": null,
            "grid_template_rows": null,
            "height": null,
            "justify_content": null,
            "justify_items": null,
            "left": null,
            "margin": null,
            "max_height": null,
            "max_width": null,
            "min_height": null,
            "min_width": null,
            "object_fit": null,
            "object_position": null,
            "order": null,
            "overflow": null,
            "overflow_x": null,
            "overflow_y": null,
            "padding": null,
            "right": null,
            "top": null,
            "visibility": null,
            "width": "20px"
          }
        },
        "4fd7d30501c74e5f8efad6cf48909323": {
          "model_module": "@jupyter-widgets/controls",
          "model_name": "ProgressStyleModel",
          "model_module_version": "1.5.0",
          "state": {
            "_model_module": "@jupyter-widgets/controls",
            "_model_module_version": "1.5.0",
            "_model_name": "ProgressStyleModel",
            "_view_count": null,
            "_view_module": "@jupyter-widgets/base",
            "_view_module_version": "1.2.0",
            "_view_name": "StyleView",
            "bar_color": null,
            "description_width": ""
          }
        },
        "d5a749ab7ac5453f9983fb40f5e8d688": {
          "model_module": "@jupyter-widgets/base",
          "model_name": "LayoutModel",
          "model_module_version": "1.2.0",
          "state": {
            "_model_module": "@jupyter-widgets/base",
            "_model_module_version": "1.2.0",
            "_model_name": "LayoutModel",
            "_view_count": null,
            "_view_module": "@jupyter-widgets/base",
            "_view_module_version": "1.2.0",
            "_view_name": "LayoutView",
            "align_content": null,
            "align_items": null,
            "align_self": null,
            "border": null,
            "bottom": null,
            "display": null,
            "flex": null,
            "flex_flow": null,
            "grid_area": null,
            "grid_auto_columns": null,
            "grid_auto_flow": null,
            "grid_auto_rows": null,
            "grid_column": null,
            "grid_gap": null,
            "grid_row": null,
            "grid_template_areas": null,
            "grid_template_columns": null,
            "grid_template_rows": null,
            "height": null,
            "justify_content": null,
            "justify_items": null,
            "left": null,
            "margin": null,
            "max_height": null,
            "max_width": null,
            "min_height": null,
            "min_width": null,
            "object_fit": null,
            "object_position": null,
            "order": null,
            "overflow": null,
            "overflow_x": null,
            "overflow_y": null,
            "padding": null,
            "right": null,
            "top": null,
            "visibility": null,
            "width": null
          }
        },
        "b34e61de72534c4d8f1c7053a3bc693b": {
          "model_module": "@jupyter-widgets/controls",
          "model_name": "DescriptionStyleModel",
          "model_module_version": "1.5.0",
          "state": {
            "_model_module": "@jupyter-widgets/controls",
            "_model_module_version": "1.5.0",
            "_model_name": "DescriptionStyleModel",
            "_view_count": null,
            "_view_module": "@jupyter-widgets/base",
            "_view_module_version": "1.2.0",
            "_view_name": "StyleView",
            "description_width": ""
          }
        },
        "bf5998f2027b41e8a2351f8ffe6326e8": {
          "model_module": "@jupyter-widgets/controls",
          "model_name": "HBoxModel",
          "model_module_version": "1.5.0",
          "state": {
            "_dom_classes": [],
            "_model_module": "@jupyter-widgets/controls",
            "_model_module_version": "1.5.0",
            "_model_name": "HBoxModel",
            "_view_count": null,
            "_view_module": "@jupyter-widgets/controls",
            "_view_module_version": "1.5.0",
            "_view_name": "HBoxView",
            "box_style": "",
            "children": [
              "IPY_MODEL_c90e7ee95dc84b20884ae112cccce4c3",
              "IPY_MODEL_aad3115ec3374ac6a8d739dd68e49ddd",
              "IPY_MODEL_e31f5ccc4d0f4992befb939c46099d4e"
            ],
            "layout": "IPY_MODEL_eb285f7855774843b1a74d963d0d1b27"
          }
        },
        "c90e7ee95dc84b20884ae112cccce4c3": {
          "model_module": "@jupyter-widgets/controls",
          "model_name": "HTMLModel",
          "model_module_version": "1.5.0",
          "state": {
            "_dom_classes": [],
            "_model_module": "@jupyter-widgets/controls",
            "_model_module_version": "1.5.0",
            "_model_name": "HTMLModel",
            "_view_count": null,
            "_view_module": "@jupyter-widgets/controls",
            "_view_module_version": "1.5.0",
            "_view_name": "HTMLView",
            "description": "",
            "description_tooltip": null,
            "layout": "IPY_MODEL_ee4f2958d3d1424da0648063f4836f94",
            "placeholder": "​",
            "style": "IPY_MODEL_09928a387ef64b3890957d616ae2b6b5",
            "value": "Generating splits...: 100%"
          }
        },
        "aad3115ec3374ac6a8d739dd68e49ddd": {
          "model_module": "@jupyter-widgets/controls",
          "model_name": "FloatProgressModel",
          "model_module_version": "1.5.0",
          "state": {
            "_dom_classes": [],
            "_model_module": "@jupyter-widgets/controls",
            "_model_module_version": "1.5.0",
            "_model_name": "FloatProgressModel",
            "_view_count": null,
            "_view_module": "@jupyter-widgets/controls",
            "_view_module_version": "1.5.0",
            "_view_name": "ProgressView",
            "bar_style": "",
            "description": "",
            "description_tooltip": null,
            "layout": "IPY_MODEL_c77f1b5b6c844bbfa75ed8f49f01d572",
            "max": 1,
            "min": 0,
            "orientation": "horizontal",
            "style": "IPY_MODEL_867d0e022b214fc0b3d762ae44134a1a",
            "value": 1
          }
        },
        "e31f5ccc4d0f4992befb939c46099d4e": {
          "model_module": "@jupyter-widgets/controls",
          "model_name": "HTMLModel",
          "model_module_version": "1.5.0",
          "state": {
            "_dom_classes": [],
            "_model_module": "@jupyter-widgets/controls",
            "_model_module_version": "1.5.0",
            "_model_name": "HTMLModel",
            "_view_count": null,
            "_view_module": "@jupyter-widgets/controls",
            "_view_module_version": "1.5.0",
            "_view_name": "HTMLView",
            "description": "",
            "description_tooltip": null,
            "layout": "IPY_MODEL_89597e88ad1946b782e28d1c54b80fe8",
            "placeholder": "​",
            "style": "IPY_MODEL_43ab5e197acf48b78c7d21c220e3b8ca",
            "value": " 1/1 [00:00&lt;00:00,  3.36 splits/s]"
          }
        },
        "eb285f7855774843b1a74d963d0d1b27": {
          "model_module": "@jupyter-widgets/base",
          "model_name": "LayoutModel",
          "model_module_version": "1.2.0",
          "state": {
            "_model_module": "@jupyter-widgets/base",
            "_model_module_version": "1.2.0",
            "_model_name": "LayoutModel",
            "_view_count": null,
            "_view_module": "@jupyter-widgets/base",
            "_view_module_version": "1.2.0",
            "_view_name": "LayoutView",
            "align_content": null,
            "align_items": null,
            "align_self": null,
            "border": null,
            "bottom": null,
            "display": null,
            "flex": null,
            "flex_flow": null,
            "grid_area": null,
            "grid_auto_columns": null,
            "grid_auto_flow": null,
            "grid_auto_rows": null,
            "grid_column": null,
            "grid_gap": null,
            "grid_row": null,
            "grid_template_areas": null,
            "grid_template_columns": null,
            "grid_template_rows": null,
            "height": null,
            "justify_content": null,
            "justify_items": null,
            "left": null,
            "margin": null,
            "max_height": null,
            "max_width": null,
            "min_height": null,
            "min_width": null,
            "object_fit": null,
            "object_position": null,
            "order": null,
            "overflow": null,
            "overflow_x": null,
            "overflow_y": null,
            "padding": null,
            "right": null,
            "top": null,
            "visibility": "hidden",
            "width": null
          }
        },
        "ee4f2958d3d1424da0648063f4836f94": {
          "model_module": "@jupyter-widgets/base",
          "model_name": "LayoutModel",
          "model_module_version": "1.2.0",
          "state": {
            "_model_module": "@jupyter-widgets/base",
            "_model_module_version": "1.2.0",
            "_model_name": "LayoutModel",
            "_view_count": null,
            "_view_module": "@jupyter-widgets/base",
            "_view_module_version": "1.2.0",
            "_view_name": "LayoutView",
            "align_content": null,
            "align_items": null,
            "align_self": null,
            "border": null,
            "bottom": null,
            "display": null,
            "flex": null,
            "flex_flow": null,
            "grid_area": null,
            "grid_auto_columns": null,
            "grid_auto_flow": null,
            "grid_auto_rows": null,
            "grid_column": null,
            "grid_gap": null,
            "grid_row": null,
            "grid_template_areas": null,
            "grid_template_columns": null,
            "grid_template_rows": null,
            "height": null,
            "justify_content": null,
            "justify_items": null,
            "left": null,
            "margin": null,
            "max_height": null,
            "max_width": null,
            "min_height": null,
            "min_width": null,
            "object_fit": null,
            "object_position": null,
            "order": null,
            "overflow": null,
            "overflow_x": null,
            "overflow_y": null,
            "padding": null,
            "right": null,
            "top": null,
            "visibility": null,
            "width": null
          }
        },
        "09928a387ef64b3890957d616ae2b6b5": {
          "model_module": "@jupyter-widgets/controls",
          "model_name": "DescriptionStyleModel",
          "model_module_version": "1.5.0",
          "state": {
            "_model_module": "@jupyter-widgets/controls",
            "_model_module_version": "1.5.0",
            "_model_name": "DescriptionStyleModel",
            "_view_count": null,
            "_view_module": "@jupyter-widgets/base",
            "_view_module_version": "1.2.0",
            "_view_name": "StyleView",
            "description_width": ""
          }
        },
        "c77f1b5b6c844bbfa75ed8f49f01d572": {
          "model_module": "@jupyter-widgets/base",
          "model_name": "LayoutModel",
          "model_module_version": "1.2.0",
          "state": {
            "_model_module": "@jupyter-widgets/base",
            "_model_module_version": "1.2.0",
            "_model_name": "LayoutModel",
            "_view_count": null,
            "_view_module": "@jupyter-widgets/base",
            "_view_module_version": "1.2.0",
            "_view_name": "LayoutView",
            "align_content": null,
            "align_items": null,
            "align_self": null,
            "border": null,
            "bottom": null,
            "display": null,
            "flex": null,
            "flex_flow": null,
            "grid_area": null,
            "grid_auto_columns": null,
            "grid_auto_flow": null,
            "grid_auto_rows": null,
            "grid_column": null,
            "grid_gap": null,
            "grid_row": null,
            "grid_template_areas": null,
            "grid_template_columns": null,
            "grid_template_rows": null,
            "height": null,
            "justify_content": null,
            "justify_items": null,
            "left": null,
            "margin": null,
            "max_height": null,
            "max_width": null,
            "min_height": null,
            "min_width": null,
            "object_fit": null,
            "object_position": null,
            "order": null,
            "overflow": null,
            "overflow_x": null,
            "overflow_y": null,
            "padding": null,
            "right": null,
            "top": null,
            "visibility": null,
            "width": null
          }
        },
        "867d0e022b214fc0b3d762ae44134a1a": {
          "model_module": "@jupyter-widgets/controls",
          "model_name": "ProgressStyleModel",
          "model_module_version": "1.5.0",
          "state": {
            "_model_module": "@jupyter-widgets/controls",
            "_model_module_version": "1.5.0",
            "_model_name": "ProgressStyleModel",
            "_view_count": null,
            "_view_module": "@jupyter-widgets/base",
            "_view_module_version": "1.2.0",
            "_view_name": "StyleView",
            "bar_color": null,
            "description_width": ""
          }
        },
        "89597e88ad1946b782e28d1c54b80fe8": {
          "model_module": "@jupyter-widgets/base",
          "model_name": "LayoutModel",
          "model_module_version": "1.2.0",
          "state": {
            "_model_module": "@jupyter-widgets/base",
            "_model_module_version": "1.2.0",
            "_model_name": "LayoutModel",
            "_view_count": null,
            "_view_module": "@jupyter-widgets/base",
            "_view_module_version": "1.2.0",
            "_view_name": "LayoutView",
            "align_content": null,
            "align_items": null,
            "align_self": null,
            "border": null,
            "bottom": null,
            "display": null,
            "flex": null,
            "flex_flow": null,
            "grid_area": null,
            "grid_auto_columns": null,
            "grid_auto_flow": null,
            "grid_auto_rows": null,
            "grid_column": null,
            "grid_gap": null,
            "grid_row": null,
            "grid_template_areas": null,
            "grid_template_columns": null,
            "grid_template_rows": null,
            "height": null,
            "justify_content": null,
            "justify_items": null,
            "left": null,
            "margin": null,
            "max_height": null,
            "max_width": null,
            "min_height": null,
            "min_width": null,
            "object_fit": null,
            "object_position": null,
            "order": null,
            "overflow": null,
            "overflow_x": null,
            "overflow_y": null,
            "padding": null,
            "right": null,
            "top": null,
            "visibility": null,
            "width": null
          }
        },
        "43ab5e197acf48b78c7d21c220e3b8ca": {
          "model_module": "@jupyter-widgets/controls",
          "model_name": "DescriptionStyleModel",
          "model_module_version": "1.5.0",
          "state": {
            "_model_module": "@jupyter-widgets/controls",
            "_model_module_version": "1.5.0",
            "_model_name": "DescriptionStyleModel",
            "_view_count": null,
            "_view_module": "@jupyter-widgets/base",
            "_view_module_version": "1.2.0",
            "_view_name": "StyleView",
            "description_width": ""
          }
        },
        "0a15d0b890a5416baefbf4e47c1778a2": {
          "model_module": "@jupyter-widgets/controls",
          "model_name": "HBoxModel",
          "model_module_version": "1.5.0",
          "state": {
            "_dom_classes": [],
            "_model_module": "@jupyter-widgets/controls",
            "_model_module_version": "1.5.0",
            "_model_name": "HBoxModel",
            "_view_count": null,
            "_view_module": "@jupyter-widgets/controls",
            "_view_module_version": "1.5.0",
            "_view_name": "HBoxView",
            "box_style": "",
            "children": [
              "IPY_MODEL_29b045b3b1cc4046bfd986ce2cf86429",
              "IPY_MODEL_acbe2e7385bd44d39a5d10330d47bfca",
              "IPY_MODEL_e8ac2cfe121e410097bca9e0b3f5bba8"
            ],
            "layout": "IPY_MODEL_2ad2f487ee11475ba53cb7594250a64f"
          }
        },
        "29b045b3b1cc4046bfd986ce2cf86429": {
          "model_module": "@jupyter-widgets/controls",
          "model_name": "HTMLModel",
          "model_module_version": "1.5.0",
          "state": {
            "_dom_classes": [],
            "_model_module": "@jupyter-widgets/controls",
            "_model_module_version": "1.5.0",
            "_model_name": "HTMLModel",
            "_view_count": null,
            "_view_module": "@jupyter-widgets/controls",
            "_view_module_version": "1.5.0",
            "_view_name": "HTMLView",
            "description": "",
            "description_tooltip": null,
            "layout": "IPY_MODEL_533e92391a7c419baa1e1a46299fab87",
            "placeholder": "​",
            "style": "IPY_MODEL_c1d28f4f7af249189d4be5e0e95372f2",
            "value": "Generating train examples...:  52%"
          }
        },
        "acbe2e7385bd44d39a5d10330d47bfca": {
          "model_module": "@jupyter-widgets/controls",
          "model_name": "FloatProgressModel",
          "model_module_version": "1.5.0",
          "state": {
            "_dom_classes": [],
            "_model_module": "@jupyter-widgets/controls",
            "_model_module_version": "1.5.0",
            "_model_name": "FloatProgressModel",
            "_view_count": null,
            "_view_module": "@jupyter-widgets/controls",
            "_view_module_version": "1.5.0",
            "_view_name": "ProgressView",
            "bar_style": "",
            "description": "",
            "description_tooltip": null,
            "layout": "IPY_MODEL_6e6fb596ef4c4ef7bca31878cace9846",
            "max": 334,
            "min": 0,
            "orientation": "horizontal",
            "style": "IPY_MODEL_98acba65c9914ac6b15d85de50534c99",
            "value": 334
          }
        },
        "e8ac2cfe121e410097bca9e0b3f5bba8": {
          "model_module": "@jupyter-widgets/controls",
          "model_name": "HTMLModel",
          "model_module_version": "1.5.0",
          "state": {
            "_dom_classes": [],
            "_model_module": "@jupyter-widgets/controls",
            "_model_module_version": "1.5.0",
            "_model_name": "HTMLModel",
            "_view_count": null,
            "_view_module": "@jupyter-widgets/controls",
            "_view_module_version": "1.5.0",
            "_view_name": "HTMLView",
            "description": "",
            "description_tooltip": null,
            "layout": "IPY_MODEL_3ea17d0af1944047b4fb7f95adde1470",
            "placeholder": "​",
            "style": "IPY_MODEL_1d26cc5410e44dd295872fc3c3664c58",
            "value": " 174/334 [00:00&lt;00:00, 1651.11 examples/s]"
          }
        },
        "2ad2f487ee11475ba53cb7594250a64f": {
          "model_module": "@jupyter-widgets/base",
          "model_name": "LayoutModel",
          "model_module_version": "1.2.0",
          "state": {
            "_model_module": "@jupyter-widgets/base",
            "_model_module_version": "1.2.0",
            "_model_name": "LayoutModel",
            "_view_count": null,
            "_view_module": "@jupyter-widgets/base",
            "_view_module_version": "1.2.0",
            "_view_name": "LayoutView",
            "align_content": null,
            "align_items": null,
            "align_self": null,
            "border": null,
            "bottom": null,
            "display": null,
            "flex": null,
            "flex_flow": null,
            "grid_area": null,
            "grid_auto_columns": null,
            "grid_auto_flow": null,
            "grid_auto_rows": null,
            "grid_column": null,
            "grid_gap": null,
            "grid_row": null,
            "grid_template_areas": null,
            "grid_template_columns": null,
            "grid_template_rows": null,
            "height": null,
            "justify_content": null,
            "justify_items": null,
            "left": null,
            "margin": null,
            "max_height": null,
            "max_width": null,
            "min_height": null,
            "min_width": null,
            "object_fit": null,
            "object_position": null,
            "order": null,
            "overflow": null,
            "overflow_x": null,
            "overflow_y": null,
            "padding": null,
            "right": null,
            "top": null,
            "visibility": "hidden",
            "width": null
          }
        },
        "533e92391a7c419baa1e1a46299fab87": {
          "model_module": "@jupyter-widgets/base",
          "model_name": "LayoutModel",
          "model_module_version": "1.2.0",
          "state": {
            "_model_module": "@jupyter-widgets/base",
            "_model_module_version": "1.2.0",
            "_model_name": "LayoutModel",
            "_view_count": null,
            "_view_module": "@jupyter-widgets/base",
            "_view_module_version": "1.2.0",
            "_view_name": "LayoutView",
            "align_content": null,
            "align_items": null,
            "align_self": null,
            "border": null,
            "bottom": null,
            "display": null,
            "flex": null,
            "flex_flow": null,
            "grid_area": null,
            "grid_auto_columns": null,
            "grid_auto_flow": null,
            "grid_auto_rows": null,
            "grid_column": null,
            "grid_gap": null,
            "grid_row": null,
            "grid_template_areas": null,
            "grid_template_columns": null,
            "grid_template_rows": null,
            "height": null,
            "justify_content": null,
            "justify_items": null,
            "left": null,
            "margin": null,
            "max_height": null,
            "max_width": null,
            "min_height": null,
            "min_width": null,
            "object_fit": null,
            "object_position": null,
            "order": null,
            "overflow": null,
            "overflow_x": null,
            "overflow_y": null,
            "padding": null,
            "right": null,
            "top": null,
            "visibility": null,
            "width": null
          }
        },
        "c1d28f4f7af249189d4be5e0e95372f2": {
          "model_module": "@jupyter-widgets/controls",
          "model_name": "DescriptionStyleModel",
          "model_module_version": "1.5.0",
          "state": {
            "_model_module": "@jupyter-widgets/controls",
            "_model_module_version": "1.5.0",
            "_model_name": "DescriptionStyleModel",
            "_view_count": null,
            "_view_module": "@jupyter-widgets/base",
            "_view_module_version": "1.2.0",
            "_view_name": "StyleView",
            "description_width": ""
          }
        },
        "6e6fb596ef4c4ef7bca31878cace9846": {
          "model_module": "@jupyter-widgets/base",
          "model_name": "LayoutModel",
          "model_module_version": "1.2.0",
          "state": {
            "_model_module": "@jupyter-widgets/base",
            "_model_module_version": "1.2.0",
            "_model_name": "LayoutModel",
            "_view_count": null,
            "_view_module": "@jupyter-widgets/base",
            "_view_module_version": "1.2.0",
            "_view_name": "LayoutView",
            "align_content": null,
            "align_items": null,
            "align_self": null,
            "border": null,
            "bottom": null,
            "display": null,
            "flex": null,
            "flex_flow": null,
            "grid_area": null,
            "grid_auto_columns": null,
            "grid_auto_flow": null,
            "grid_auto_rows": null,
            "grid_column": null,
            "grid_gap": null,
            "grid_row": null,
            "grid_template_areas": null,
            "grid_template_columns": null,
            "grid_template_rows": null,
            "height": null,
            "justify_content": null,
            "justify_items": null,
            "left": null,
            "margin": null,
            "max_height": null,
            "max_width": null,
            "min_height": null,
            "min_width": null,
            "object_fit": null,
            "object_position": null,
            "order": null,
            "overflow": null,
            "overflow_x": null,
            "overflow_y": null,
            "padding": null,
            "right": null,
            "top": null,
            "visibility": null,
            "width": null
          }
        },
        "98acba65c9914ac6b15d85de50534c99": {
          "model_module": "@jupyter-widgets/controls",
          "model_name": "ProgressStyleModel",
          "model_module_version": "1.5.0",
          "state": {
            "_model_module": "@jupyter-widgets/controls",
            "_model_module_version": "1.5.0",
            "_model_name": "ProgressStyleModel",
            "_view_count": null,
            "_view_module": "@jupyter-widgets/base",
            "_view_module_version": "1.2.0",
            "_view_name": "StyleView",
            "bar_color": null,
            "description_width": ""
          }
        },
        "3ea17d0af1944047b4fb7f95adde1470": {
          "model_module": "@jupyter-widgets/base",
          "model_name": "LayoutModel",
          "model_module_version": "1.2.0",
          "state": {
            "_model_module": "@jupyter-widgets/base",
            "_model_module_version": "1.2.0",
            "_model_name": "LayoutModel",
            "_view_count": null,
            "_view_module": "@jupyter-widgets/base",
            "_view_module_version": "1.2.0",
            "_view_name": "LayoutView",
            "align_content": null,
            "align_items": null,
            "align_self": null,
            "border": null,
            "bottom": null,
            "display": null,
            "flex": null,
            "flex_flow": null,
            "grid_area": null,
            "grid_auto_columns": null,
            "grid_auto_flow": null,
            "grid_auto_rows": null,
            "grid_column": null,
            "grid_gap": null,
            "grid_row": null,
            "grid_template_areas": null,
            "grid_template_columns": null,
            "grid_template_rows": null,
            "height": null,
            "justify_content": null,
            "justify_items": null,
            "left": null,
            "margin": null,
            "max_height": null,
            "max_width": null,
            "min_height": null,
            "min_width": null,
            "object_fit": null,
            "object_position": null,
            "order": null,
            "overflow": null,
            "overflow_x": null,
            "overflow_y": null,
            "padding": null,
            "right": null,
            "top": null,
            "visibility": null,
            "width": null
          }
        },
        "1d26cc5410e44dd295872fc3c3664c58": {
          "model_module": "@jupyter-widgets/controls",
          "model_name": "DescriptionStyleModel",
          "model_module_version": "1.5.0",
          "state": {
            "_model_module": "@jupyter-widgets/controls",
            "_model_module_version": "1.5.0",
            "_model_name": "DescriptionStyleModel",
            "_view_count": null,
            "_view_module": "@jupyter-widgets/base",
            "_view_module_version": "1.2.0",
            "_view_name": "StyleView",
            "description_width": ""
          }
        },
        "163fb3f93f7f424eaea26f765bbf1f32": {
          "model_module": "@jupyter-widgets/controls",
          "model_name": "HBoxModel",
          "model_module_version": "1.5.0",
          "state": {
            "_dom_classes": [],
            "_model_module": "@jupyter-widgets/controls",
            "_model_module_version": "1.5.0",
            "_model_name": "HBoxModel",
            "_view_count": null,
            "_view_module": "@jupyter-widgets/controls",
            "_view_module_version": "1.5.0",
            "_view_name": "HBoxView",
            "box_style": "",
            "children": [
              "IPY_MODEL_8a587358b553489ba0bea225d148e19b",
              "IPY_MODEL_9187ad3634e5483e94905647e64171aa",
              "IPY_MODEL_40596d8d0f6340e887a352fe896bb992"
            ],
            "layout": "IPY_MODEL_1dd760cdf50f4564a4149b04d77a69bb"
          }
        },
        "8a587358b553489ba0bea225d148e19b": {
          "model_module": "@jupyter-widgets/controls",
          "model_name": "HTMLModel",
          "model_module_version": "1.5.0",
          "state": {
            "_dom_classes": [],
            "_model_module": "@jupyter-widgets/controls",
            "_model_module_version": "1.5.0",
            "_model_name": "HTMLModel",
            "_view_count": null,
            "_view_module": "@jupyter-widgets/controls",
            "_view_module_version": "1.5.0",
            "_view_name": "HTMLView",
            "description": "",
            "description_tooltip": null,
            "layout": "IPY_MODEL_3c402e1be3e84372ba515670c868040e",
            "placeholder": "​",
            "style": "IPY_MODEL_ec1cd37c4f694da5a44b1a53a936d240",
            "value": "Shuffling /root/tensorflow_datasets/penguins/processed/1.0.0.incomplete6R0I53/penguins-train.tfrecord*...:   0%"
          }
        },
        "9187ad3634e5483e94905647e64171aa": {
          "model_module": "@jupyter-widgets/controls",
          "model_name": "FloatProgressModel",
          "model_module_version": "1.5.0",
          "state": {
            "_dom_classes": [],
            "_model_module": "@jupyter-widgets/controls",
            "_model_module_version": "1.5.0",
            "_model_name": "FloatProgressModel",
            "_view_count": null,
            "_view_module": "@jupyter-widgets/controls",
            "_view_module_version": "1.5.0",
            "_view_name": "ProgressView",
            "bar_style": "",
            "description": "",
            "description_tooltip": null,
            "layout": "IPY_MODEL_7502cf6e95aa4561ade38ab5d4d0595c",
            "max": 334,
            "min": 0,
            "orientation": "horizontal",
            "style": "IPY_MODEL_f832db39e97a42b1829ae0c44a97895b",
            "value": 334
          }
        },
        "40596d8d0f6340e887a352fe896bb992": {
          "model_module": "@jupyter-widgets/controls",
          "model_name": "HTMLModel",
          "model_module_version": "1.5.0",
          "state": {
            "_dom_classes": [],
            "_model_module": "@jupyter-widgets/controls",
            "_model_module_version": "1.5.0",
            "_model_name": "HTMLModel",
            "_view_count": null,
            "_view_module": "@jupyter-widgets/controls",
            "_view_module_version": "1.5.0",
            "_view_name": "HTMLView",
            "description": "",
            "description_tooltip": null,
            "layout": "IPY_MODEL_6ff41a626930481b96597a2883ec724b",
            "placeholder": "​",
            "style": "IPY_MODEL_ffdc238765c2467ba4124cbb620c4ca5",
            "value": " 0/334 [00:00&lt;?, ? examples/s]"
          }
        },
        "1dd760cdf50f4564a4149b04d77a69bb": {
          "model_module": "@jupyter-widgets/base",
          "model_name": "LayoutModel",
          "model_module_version": "1.2.0",
          "state": {
            "_model_module": "@jupyter-widgets/base",
            "_model_module_version": "1.2.0",
            "_model_name": "LayoutModel",
            "_view_count": null,
            "_view_module": "@jupyter-widgets/base",
            "_view_module_version": "1.2.0",
            "_view_name": "LayoutView",
            "align_content": null,
            "align_items": null,
            "align_self": null,
            "border": null,
            "bottom": null,
            "display": null,
            "flex": null,
            "flex_flow": null,
            "grid_area": null,
            "grid_auto_columns": null,
            "grid_auto_flow": null,
            "grid_auto_rows": null,
            "grid_column": null,
            "grid_gap": null,
            "grid_row": null,
            "grid_template_areas": null,
            "grid_template_columns": null,
            "grid_template_rows": null,
            "height": null,
            "justify_content": null,
            "justify_items": null,
            "left": null,
            "margin": null,
            "max_height": null,
            "max_width": null,
            "min_height": null,
            "min_width": null,
            "object_fit": null,
            "object_position": null,
            "order": null,
            "overflow": null,
            "overflow_x": null,
            "overflow_y": null,
            "padding": null,
            "right": null,
            "top": null,
            "visibility": "hidden",
            "width": null
          }
        },
        "3c402e1be3e84372ba515670c868040e": {
          "model_module": "@jupyter-widgets/base",
          "model_name": "LayoutModel",
          "model_module_version": "1.2.0",
          "state": {
            "_model_module": "@jupyter-widgets/base",
            "_model_module_version": "1.2.0",
            "_model_name": "LayoutModel",
            "_view_count": null,
            "_view_module": "@jupyter-widgets/base",
            "_view_module_version": "1.2.0",
            "_view_name": "LayoutView",
            "align_content": null,
            "align_items": null,
            "align_self": null,
            "border": null,
            "bottom": null,
            "display": null,
            "flex": null,
            "flex_flow": null,
            "grid_area": null,
            "grid_auto_columns": null,
            "grid_auto_flow": null,
            "grid_auto_rows": null,
            "grid_column": null,
            "grid_gap": null,
            "grid_row": null,
            "grid_template_areas": null,
            "grid_template_columns": null,
            "grid_template_rows": null,
            "height": null,
            "justify_content": null,
            "justify_items": null,
            "left": null,
            "margin": null,
            "max_height": null,
            "max_width": null,
            "min_height": null,
            "min_width": null,
            "object_fit": null,
            "object_position": null,
            "order": null,
            "overflow": null,
            "overflow_x": null,
            "overflow_y": null,
            "padding": null,
            "right": null,
            "top": null,
            "visibility": null,
            "width": null
          }
        },
        "ec1cd37c4f694da5a44b1a53a936d240": {
          "model_module": "@jupyter-widgets/controls",
          "model_name": "DescriptionStyleModel",
          "model_module_version": "1.5.0",
          "state": {
            "_model_module": "@jupyter-widgets/controls",
            "_model_module_version": "1.5.0",
            "_model_name": "DescriptionStyleModel",
            "_view_count": null,
            "_view_module": "@jupyter-widgets/base",
            "_view_module_version": "1.2.0",
            "_view_name": "StyleView",
            "description_width": ""
          }
        },
        "7502cf6e95aa4561ade38ab5d4d0595c": {
          "model_module": "@jupyter-widgets/base",
          "model_name": "LayoutModel",
          "model_module_version": "1.2.0",
          "state": {
            "_model_module": "@jupyter-widgets/base",
            "_model_module_version": "1.2.0",
            "_model_name": "LayoutModel",
            "_view_count": null,
            "_view_module": "@jupyter-widgets/base",
            "_view_module_version": "1.2.0",
            "_view_name": "LayoutView",
            "align_content": null,
            "align_items": null,
            "align_self": null,
            "border": null,
            "bottom": null,
            "display": null,
            "flex": null,
            "flex_flow": null,
            "grid_area": null,
            "grid_auto_columns": null,
            "grid_auto_flow": null,
            "grid_auto_rows": null,
            "grid_column": null,
            "grid_gap": null,
            "grid_row": null,
            "grid_template_areas": null,
            "grid_template_columns": null,
            "grid_template_rows": null,
            "height": null,
            "justify_content": null,
            "justify_items": null,
            "left": null,
            "margin": null,
            "max_height": null,
            "max_width": null,
            "min_height": null,
            "min_width": null,
            "object_fit": null,
            "object_position": null,
            "order": null,
            "overflow": null,
            "overflow_x": null,
            "overflow_y": null,
            "padding": null,
            "right": null,
            "top": null,
            "visibility": null,
            "width": null
          }
        },
        "f832db39e97a42b1829ae0c44a97895b": {
          "model_module": "@jupyter-widgets/controls",
          "model_name": "ProgressStyleModel",
          "model_module_version": "1.5.0",
          "state": {
            "_model_module": "@jupyter-widgets/controls",
            "_model_module_version": "1.5.0",
            "_model_name": "ProgressStyleModel",
            "_view_count": null,
            "_view_module": "@jupyter-widgets/base",
            "_view_module_version": "1.2.0",
            "_view_name": "StyleView",
            "bar_color": null,
            "description_width": ""
          }
        },
        "6ff41a626930481b96597a2883ec724b": {
          "model_module": "@jupyter-widgets/base",
          "model_name": "LayoutModel",
          "model_module_version": "1.2.0",
          "state": {
            "_model_module": "@jupyter-widgets/base",
            "_model_module_version": "1.2.0",
            "_model_name": "LayoutModel",
            "_view_count": null,
            "_view_module": "@jupyter-widgets/base",
            "_view_module_version": "1.2.0",
            "_view_name": "LayoutView",
            "align_content": null,
            "align_items": null,
            "align_self": null,
            "border": null,
            "bottom": null,
            "display": null,
            "flex": null,
            "flex_flow": null,
            "grid_area": null,
            "grid_auto_columns": null,
            "grid_auto_flow": null,
            "grid_auto_rows": null,
            "grid_column": null,
            "grid_gap": null,
            "grid_row": null,
            "grid_template_areas": null,
            "grid_template_columns": null,
            "grid_template_rows": null,
            "height": null,
            "justify_content": null,
            "justify_items": null,
            "left": null,
            "margin": null,
            "max_height": null,
            "max_width": null,
            "min_height": null,
            "min_width": null,
            "object_fit": null,
            "object_position": null,
            "order": null,
            "overflow": null,
            "overflow_x": null,
            "overflow_y": null,
            "padding": null,
            "right": null,
            "top": null,
            "visibility": null,
            "width": null
          }
        },
        "ffdc238765c2467ba4124cbb620c4ca5": {
          "model_module": "@jupyter-widgets/controls",
          "model_name": "DescriptionStyleModel",
          "model_module_version": "1.5.0",
          "state": {
            "_model_module": "@jupyter-widgets/controls",
            "_model_module_version": "1.5.0",
            "_model_name": "DescriptionStyleModel",
            "_view_count": null,
            "_view_module": "@jupyter-widgets/base",
            "_view_module_version": "1.2.0",
            "_view_name": "StyleView",
            "description_width": ""
          }
        }
      }
    }
  },
  "cells": [
    {
      "cell_type": "markdown",
      "metadata": {
        "id": "view-in-github",
        "colab_type": "text"
      },
      "source": [
        "<a href=\"https://colab.research.google.com/github/davidraamirez/GradientWithoutBackpropagation/blob/main/LogisticRegression_fwd_gradient.ipynb\" target=\"_parent\"><img src=\"https://colab.research.google.com/assets/colab-badge.svg\" alt=\"Open In Colab\"/></a>"
      ]
    },
    {
      "cell_type": "markdown",
      "source": [
        "# **Import the necessary packages**\n"
      ],
      "metadata": {
        "id": "k1jr1JzMgK9Q"
      }
    },
    {
      "cell_type": "code",
      "execution_count": 1,
      "metadata": {
        "id": "Oyi7eax2JnEO"
      },
      "outputs": [],
      "source": [
        "import torch\n",
        "import tensorflow_datasets as tfds\n",
        "from sklearn.model_selection import train_test_split"
      ]
    },
    {
      "cell_type": "code",
      "source": [
        "from torch import nn"
      ],
      "metadata": {
        "id": "xBmt572RgVZ0"
      },
      "execution_count": 2,
      "outputs": []
    },
    {
      "cell_type": "code",
      "source": [
        "from functorch import jvp\n",
        "from functools import partial\n",
        "import time "
      ],
      "metadata": {
        "id": "Jb6mbI8LgZKf"
      },
      "execution_count": 3,
      "outputs": []
    },
    {
      "cell_type": "code",
      "source": [
        "import matplotlib.pyplot as plt"
      ],
      "metadata": {
        "id": "leC4BPdGgdx-"
      },
      "execution_count": 4,
      "outputs": []
    },
    {
      "cell_type": "markdown",
      "source": [
        "# **Loading and preprocessing the data**"
      ],
      "metadata": {
        "id": "uclnxVteKfnj"
      }
    },
    {
      "cell_type": "code",
      "source": [
        "#Load the dataset\n",
        "penguins = tfds.load('penguins', as_supervised=True, split='train')"
      ],
      "metadata": {
        "id": "fZMg1kYeKS4U",
        "outputId": "cd8d2d74-d32c-483b-94a2-f9f65f5e13ce",
        "colab": {
          "base_uri": "https://localhost:8080/",
          "height": 116,
          "referenced_widgets": [
            "01040f9eee8243a8b39e9cd29cff0aa4",
            "148e323688ed4b418887385e5e364a11",
            "5c766f199adf494d88ff394123ff0488",
            "26bc3401ac7a4936bdf36eb1d465202e",
            "ab36365802ff4578bcc3d529db557517",
            "d5edff127c184025b35cfd7b5a5733ac",
            "38f358cac15442cb8ffdf24f8c0f39f1",
            "141d68289cc74dc2b9a4b8a16bc99fc0",
            "addaf41d56854a4ca84a78eff86cb231",
            "3cd1698fa09843208439e0385e3ad5c7",
            "2a6204755c0543ca8b14d52896c7e2a4",
            "6aef62640402479c9e79d75e19a83528",
            "d32114af6cb04a5894f357f44c0de6d2",
            "d6eabb90128b449b80adfa6df3fef8f0",
            "61bb8dbe32c44ccaa164a97b8541c270",
            "b73b2621d5724feb8766718bbaf13f1e",
            "75a0837903f44c36a51bb61ae5c74640",
            "ea8e5e7b75124b2884f857fda9d0cd85",
            "0617a9ea597743dbb14b105185b424cf",
            "4fd7d30501c74e5f8efad6cf48909323",
            "d5a749ab7ac5453f9983fb40f5e8d688",
            "b34e61de72534c4d8f1c7053a3bc693b",
            "bf5998f2027b41e8a2351f8ffe6326e8",
            "c90e7ee95dc84b20884ae112cccce4c3",
            "aad3115ec3374ac6a8d739dd68e49ddd",
            "e31f5ccc4d0f4992befb939c46099d4e",
            "eb285f7855774843b1a74d963d0d1b27",
            "ee4f2958d3d1424da0648063f4836f94",
            "09928a387ef64b3890957d616ae2b6b5",
            "c77f1b5b6c844bbfa75ed8f49f01d572",
            "867d0e022b214fc0b3d762ae44134a1a",
            "89597e88ad1946b782e28d1c54b80fe8",
            "43ab5e197acf48b78c7d21c220e3b8ca",
            "0a15d0b890a5416baefbf4e47c1778a2",
            "29b045b3b1cc4046bfd986ce2cf86429",
            "acbe2e7385bd44d39a5d10330d47bfca",
            "e8ac2cfe121e410097bca9e0b3f5bba8",
            "2ad2f487ee11475ba53cb7594250a64f",
            "533e92391a7c419baa1e1a46299fab87",
            "c1d28f4f7af249189d4be5e0e95372f2",
            "6e6fb596ef4c4ef7bca31878cace9846",
            "98acba65c9914ac6b15d85de50534c99",
            "3ea17d0af1944047b4fb7f95adde1470",
            "1d26cc5410e44dd295872fc3c3664c58",
            "163fb3f93f7f424eaea26f765bbf1f32",
            "8a587358b553489ba0bea225d148e19b",
            "9187ad3634e5483e94905647e64171aa",
            "40596d8d0f6340e887a352fe896bb992",
            "1dd760cdf50f4564a4149b04d77a69bb",
            "3c402e1be3e84372ba515670c868040e",
            "ec1cd37c4f694da5a44b1a53a936d240",
            "7502cf6e95aa4561ade38ab5d4d0595c",
            "f832db39e97a42b1829ae0c44a97895b",
            "6ff41a626930481b96597a2883ec724b",
            "ffdc238765c2467ba4124cbb620c4ca5"
          ]
        }
      },
      "execution_count": 5,
      "outputs": [
        {
          "output_type": "stream",
          "name": "stdout",
          "text": [
            "Downloading and preparing dataset 25.05 KiB (download: 25.05 KiB, generated: 17.61 KiB, total: 42.66 KiB) to /root/tensorflow_datasets/penguins/processed/1.0.0...\n"
          ]
        },
        {
          "output_type": "display_data",
          "data": {
            "text/plain": [
              "Dl Completed...: 0 url [00:00, ? url/s]"
            ],
            "application/vnd.jupyter.widget-view+json": {
              "version_major": 2,
              "version_minor": 0,
              "model_id": "01040f9eee8243a8b39e9cd29cff0aa4"
            }
          },
          "metadata": {}
        },
        {
          "output_type": "display_data",
          "data": {
            "text/plain": [
              "Dl Size...: 0 MiB [00:00, ? MiB/s]"
            ],
            "application/vnd.jupyter.widget-view+json": {
              "version_major": 2,
              "version_minor": 0,
              "model_id": "6aef62640402479c9e79d75e19a83528"
            }
          },
          "metadata": {}
        },
        {
          "output_type": "display_data",
          "data": {
            "text/plain": [
              "Generating splits...:   0%|          | 0/1 [00:00<?, ? splits/s]"
            ],
            "application/vnd.jupyter.widget-view+json": {
              "version_major": 2,
              "version_minor": 0,
              "model_id": "bf5998f2027b41e8a2351f8ffe6326e8"
            }
          },
          "metadata": {}
        },
        {
          "output_type": "display_data",
          "data": {
            "text/plain": [
              "Generating train examples...:   0%|          | 0/334 [00:00<?, ? examples/s]"
            ],
            "application/vnd.jupyter.widget-view+json": {
              "version_major": 2,
              "version_minor": 0,
              "model_id": "0a15d0b890a5416baefbf4e47c1778a2"
            }
          },
          "metadata": {}
        },
        {
          "output_type": "display_data",
          "data": {
            "text/plain": [
              "Shuffling /root/tensorflow_datasets/penguins/processed/1.0.0.incomplete6R0I53/penguins-train.tfrecord*...:   0…"
            ],
            "application/vnd.jupyter.widget-view+json": {
              "version_major": 2,
              "version_minor": 0,
              "model_id": "163fb3f93f7f424eaea26f765bbf1f32"
            }
          },
          "metadata": {}
        },
        {
          "output_type": "stream",
          "name": "stdout",
          "text": [
            "Dataset penguins downloaded and prepared to /root/tensorflow_datasets/penguins/processed/1.0.0. Subsequent calls will reuse this data.\n"
          ]
        }
      ]
    },
    {
      "cell_type": "code",
      "source": [
        "X, y = penguins.batch(500).get_single_element()\n",
        "X, y = X.numpy(), y.numpy()"
      ],
      "metadata": {
        "id": "iYKcjgnqzm9C"
      },
      "execution_count": 6,
      "outputs": []
    },
    {
      "cell_type": "code",
      "source": [
        "Xtrain, Xtest, ytrain, ytest = train_test_split(X, y, stratify=y)"
      ],
      "metadata": {
        "id": "ISJ8BgIMLPWX"
      },
      "execution_count": 7,
      "outputs": []
    },
    {
      "cell_type": "code",
      "source": [
        "Xtrain = torch.from_numpy(Xtrain).float()\n",
        "Xtest = torch.from_numpy(Xtest).float()"
      ],
      "metadata": {
        "id": "S3Y0sR080VHJ"
      },
      "execution_count": 8,
      "outputs": []
    },
    {
      "cell_type": "code",
      "source": [
        "ytrain = torch.from_numpy(ytrain).long()\n",
        "ytest = torch.from_numpy(ytest).long()"
      ],
      "metadata": {
        "id": "lBkpViok0YZ4"
      },
      "execution_count": 9,
      "outputs": []
    },
    {
      "cell_type": "markdown",
      "source": [
        "# **Define Logistic Regression**"
      ],
      "metadata": {
        "id": "KJO3tb6HLkD1"
      }
    },
    {
      "cell_type": "code",
      "source": [
        "class SimpleLogisticRegression(nn.Module):\n",
        "  def __init__(self, input_size, w, b):\n",
        "    super().__init__()\n",
        "    self.weight = nn.Parameter(w)\n",
        "    self.bias = nn.Parameter(b)\n",
        "\n",
        "  def forward(self, x):\n",
        "    x = x.reshape(1, -1)\n",
        "    return torch.softmax(x@self.weight + self.bias, 1)"
      ],
      "metadata": {
        "id": "F_qTD2ovLn2Z"
      },
      "execution_count": 10,
      "outputs": []
    },
    {
      "cell_type": "code",
      "source": [
        "# We check if CUDA is available. \n",
        "device = 'cuda' if torch.cuda.is_available() else 'cpu'\n",
        "print(device)"
      ],
      "metadata": {
        "colab": {
          "base_uri": "https://localhost:8080/"
        },
        "id": "J9O-8lwQM3IK",
        "outputId": "2ed8093e-d1ba-4f94-d163-39499256c88b"
      },
      "execution_count": 11,
      "outputs": [
        {
          "output_type": "stream",
          "name": "stdout",
          "text": [
            "cuda\n"
          ]
        }
      ]
    },
    {
      "cell_type": "markdown",
      "source": [
        "# **Initialize the parameters**"
      ],
      "metadata": {
        "id": "xANyM4TzM7YU"
      }
    },
    {
      "cell_type": "code",
      "source": [
        "# We initialize the parameters randomly and the model with an input size\n",
        "w = torch.randn((4, 3), requires_grad=False)\n",
        "b = torch.randn((3, ), requires_grad=False)\n",
        "LG = SimpleLogisticRegression(4, w, b).to(device)"
      ],
      "metadata": {
        "id": "Au-0g48hM47D"
      },
      "execution_count": 12,
      "outputs": []
    },
    {
      "cell_type": "code",
      "source": [
        "# We try our model with the first example\n",
        "print(LG(Xtrain[0].to(device)))"
      ],
      "metadata": {
        "colab": {
          "base_uri": "https://localhost:8080/"
        },
        "id": "yc8fw23PNqUQ",
        "outputId": "dc8832eb-358c-4f2f-d4db-d81482a8bc51"
      },
      "execution_count": 13,
      "outputs": [
        {
          "output_type": "stream",
          "name": "stdout",
          "text": [
            "tensor([[0.1803, 0.7391, 0.0806]], device='cuda:0', grad_fn=<SoftmaxBackward0>)\n"
          ]
        }
      ]
    },
    {
      "cell_type": "markdown",
      "source": [
        "Calculate predictions"
      ],
      "metadata": {
        "id": "VnUzjP_aWCdn"
      }
    },
    {
      "cell_type": "code",
      "source": [
        "def pred(x,w,b):\n",
        "  ypred=torch.randn((x.shape[0],3))\n",
        "  for j in range (x.shape[0]):\n",
        "    xj = x[j].reshape(1, -1)\n",
        "    ypred[j]=torch.softmax(xj@w+b,1)\n",
        "  return ypred"
      ],
      "metadata": {
        "id": "46y6wpZPW0RC"
      },
      "execution_count": 14,
      "outputs": []
    },
    {
      "cell_type": "code",
      "source": [
        "ypred=pred(Xtrain,w,b)"
      ],
      "metadata": {
        "id": "hODWt-gJW4zl"
      },
      "execution_count": 15,
      "outputs": []
    },
    {
      "cell_type": "markdown",
      "source": [
        "# **Define accuracy**"
      ],
      "metadata": {
        "id": "PArBiH_liSeD"
      }
    },
    {
      "cell_type": "code",
      "source": [
        "def accuracy(ytrue, ypred):\n",
        "  return (ypred.argmax(1) == ytrue).float().mean()"
      ],
      "metadata": {
        "id": "wE8-N_zriU2A"
      },
      "execution_count": 16,
      "outputs": []
    },
    {
      "cell_type": "code",
      "source": [
        "# Average accuracy at initialization is 33% (random guessing).\n",
        "accuracy(ytrain.to(device), ypred.to(device))"
      ],
      "metadata": {
        "colab": {
          "base_uri": "https://localhost:8080/"
        },
        "id": "_Bw1HBA6WGES",
        "outputId": "452bd0ac-cf72-4351-c7c4-bc60c1ec3f4d"
      },
      "execution_count": 17,
      "outputs": [
        {
          "output_type": "execute_result",
          "data": {
            "text/plain": [
              "tensor(0.2040, device='cuda:0')"
            ]
          },
          "metadata": {},
          "execution_count": 17
        }
      ]
    },
    {
      "cell_type": "markdown",
      "source": [
        "# **Define Cross Entropy**"
      ],
      "metadata": {
        "id": "nZ0xyQDVWli6"
      }
    },
    {
      "cell_type": "markdown",
      "source": [
        "We have defined one cross entropy function for each parameter because we will define later partial functions and the parameters need to be in different order\n",
        "\n",
        "\n",
        "\n",
        "\n",
        "\n"
      ],
      "metadata": {
        "id": "ykUbnhkMiv3i"
      }
    },
    {
      "cell_type": "code",
      "source": [
        "def cross_entropyW(w, ytrue, x, b):\n",
        "  ypred=pred(x,w,b)\n",
        "  ypred = ypred.to(device)\n",
        "  return - ypred[torch.arange(0, ypred.shape[0]), ytrue].log().mean()"
      ],
      "metadata": {
        "id": "et6ncKfAWPqW"
      },
      "execution_count": 18,
      "outputs": []
    },
    {
      "cell_type": "code",
      "source": [
        "def cross_entropyB(b, ytrue, x, w):\n",
        "  ypred=pred(x,w,b)\n",
        "  ypred = ypred.to(device)\n",
        "  return - ypred[torch.arange(0, ypred.shape[0]), ytrue].log().mean()"
      ],
      "metadata": {
        "id": "yZBiK-TlP17y"
      },
      "execution_count": 19,
      "outputs": []
    },
    {
      "cell_type": "code",
      "source": [
        "def cross_entropy(ytrue,ypred):\n",
        "  return - ypred[torch.arange(0, ypred.shape[0]), ytrue].log().mean()"
      ],
      "metadata": {
        "id": "PlkdF5I8aspR"
      },
      "execution_count": 20,
      "outputs": []
    },
    {
      "cell_type": "code",
      "source": [
        "# We check that the output of all the cross extropy functions is the same\n",
        "print(cross_entropyB(b.to(device), ytrain.to(device), Xtrain.to(device), w.to(device)))\n",
        "print(cross_entropyW(w.to(device), ytrain.to(device), Xtrain.to(device), b.to(device)))\n",
        "print(cross_entropy(ytrain.to(device),ypred.to(device)))"
      ],
      "metadata": {
        "id": "x0fdS82PHWxZ",
        "outputId": "316dceb7-58dc-4316-cf94-77da6c8e99dc",
        "colab": {
          "base_uri": "https://localhost:8080/"
        }
      },
      "execution_count": 21,
      "outputs": [
        {
          "output_type": "stream",
          "name": "stdout",
          "text": [
            "tensor(2.3452, device='cuda:0')\n",
            "tensor(2.3452, device='cuda:0')\n",
            "tensor(2.3452, device='cuda:0')\n"
          ]
        }
      ]
    },
    {
      "cell_type": "markdown",
      "source": [
        "## **Other optimization functions**"
      ],
      "metadata": {
        "id": "yRvKPqRVkcog"
      }
    },
    {
      "cell_type": "code",
      "source": [
        "def beale_function(x):\n",
        "  return (torch.pow(torch.tensor([1.5])-x[0]+x[0]*x[1],2) + torch.pow(torch.tensor([2.25])-x[0]+x[0]*torch.pow(x[1],2),2)+torch.pow(torch.tensor([2.625])-x[0]+x[0]*torch.pow(x[1],3),2))"
      ],
      "metadata": {
        "id": "fW7DIT_bWrAv"
      },
      "execution_count": 22,
      "outputs": []
    },
    {
      "cell_type": "code",
      "source": [
        "def rosenbrock_function(x):\n",
        "  sum=0\n",
        "  for i in range (x.size(0) -1):\n",
        "    sum += (100*torch.pow(x[i+1] - torch.pow(x[i], 2), 2) + torch.pow(1-x[i], 2))\n",
        "  return sum"
      ],
      "metadata": {
        "id": "UWDzjXptWuAH"
      },
      "execution_count": 23,
      "outputs": []
    },
    {
      "cell_type": "code",
      "source": [
        "def sphere_function(x):\n",
        "  sum=0\n",
        "  for i in range(x.size(0)):\n",
        "    sum += torch.pow(x[i], 2)\n",
        "  return sum"
      ],
      "metadata": {
        "id": "aq5uL94Z56hk"
      },
      "execution_count": 24,
      "outputs": []
    },
    {
      "cell_type": "markdown",
      "source": [
        "# **Train and evaluate the network**\n"
      ],
      "metadata": {
        "id": "oxvYduTyk13L"
      }
    },
    {
      "cell_type": "code",
      "source": [
        "def train_fwd_gradient(x, y):\n",
        "  x, y = x.to(device), y.to(device)\n",
        "\n",
        "  losses = [] # Vector with the cross entropy values of test set\n",
        "  accuracies = [] # Vector with the accuracy values of test set\n",
        "  errors=[] # Vector with the number of misclassification of the test set\n",
        "\n",
        "  l_rate0 = 0.2 # Learning rate used \n",
        "\n",
        "  # Initialize the parameters\n",
        "  w = torch.randn((4, 3),requires_grad=False)\n",
        "  b = torch.randn((3, ),requires_grad=False)\n",
        "\n",
        "  w, b = w.to(device), b.to(device)\n",
        "\n",
        "  loss = cross_entropyW(w, y, x, b) # Loss function\n",
        "\n",
        "  # Calculate the start time \n",
        "  t=0\n",
        "  it=0\n",
        "  t0=time.time()\n",
        "  print('Time', t, 'loss', loss)\n",
        "\n",
        "  while (loss>0.3) :\n",
        "\n",
        "    # vw and wb are defined as a perturbation vector taken as a multivariate random variable,such that their scalar components vi are independent for all i, and have zero mean and unit variance .\n",
        "\n",
        "    vw=torch.randn(w.shape).to(device)\n",
        "    vw = (vw - torch.mean(vw))/torch.std(vw)\n",
        "    vb=torch.randn(b.shape).to(device)\n",
        "    vb = (vb - torch.mean(vb))/torch.std(vb)\n",
        "\n",
        "    # We define a partial function for each of the parameter\n",
        "    fw = partial(cross_entropyW,ytrue=y, x=x, b=b)\n",
        "    fb = partial(cross_entropyB,ytrue=y, x=x, w=w)\n",
        "\n",
        "    # We compute the cross entropy and the directional derivative of cross entropy at each parameters in direction v, simultaneously and without having to compute ∇cross_entropy in the process\n",
        "    # This is also know as formard-mode autodiff\n",
        "    ftw, dtw = jvp(fw,(w, ), (vw, ))\n",
        "    ftb, dtb = jvp(fb,(b, ), (vb, ))\n",
        "\n",
        "    # We multiply the scalar directional derivative ∇cross_entropy(θ)·v with vector v and obtain g(θ), the forward gradient (where θ represents each one of out parameters)\n",
        "    gtw = vw*dtw\n",
        "    gtb = vb*dtb\n",
        "\n",
        "    # Update the parameters\n",
        "    w -= l_rate0*gtw\n",
        "    b -= l_rate0*gtb\n",
        "\n",
        "    # We calculate the number of misclassification of the test set with the updated model and we add to the errors vector\n",
        "    LG = SimpleLogisticRegression(4, w, b).to(device)\n",
        "    ypredT=torch.randn(Xtest.size(0),3).to(device)\n",
        "    error=0\n",
        "    for i in range (Xtest.size(0)):\n",
        "      ypredT[i]=LG(Xtest[i].to(device))\n",
        "      if (LG(Xtest[i].to(device)).argmax(1)- ytest[i])!=0:\n",
        "        error = error+ 1\n",
        "    \n",
        "    errors.append(error)\n",
        "\n",
        "    # We calculate the accuracy of the test set with the updated model and we add to the accuracy vector\n",
        "    accuracies.append(accuracy(ytest.to(device),ypredT).item())\n",
        "\n",
        "    # We calculate the cross_entropy of the test set with the updated model and we add to the accuracy vector\n",
        "    loss=cross_entropyW(w, y, x, b)\n",
        "    lossT = cross_entropy(ytest,ypredT)\n",
        "    losses.append(lossT.detach().item())\n",
        "\n",
        "    #We add the execution time of the iteration \n",
        "    t1=time.time()\n",
        "    t+=t1-t0\n",
        "    t0=t1\n",
        "    it+=1\n",
        "\n",
        "    print('Time', t, 'loss', loss)\n",
        "\n",
        "  print('Final execution time', t)  \n",
        "  print('Number of iterations', it)\n",
        "  print('Mean execution time of an iteration', t/it)\n",
        "\n",
        "  return w, b,errors,accuracies,losses"
      ],
      "metadata": {
        "id": "1wUCVnwXWzQF"
      },
      "execution_count": 25,
      "outputs": []
    },
    {
      "cell_type": "code",
      "source": [
        "w, b,errors,accuracies,losses = train_fwd_gradient(Xtrain, ytrain)"
      ],
      "metadata": {
        "colab": {
          "base_uri": "https://localhost:8080/"
        },
        "id": "sEXUvtqnMsbD",
        "outputId": "4efdcb4a-8a87-4732-e30e-d203d8b58911"
      },
      "execution_count": 26,
      "outputs": [
        {
          "output_type": "stream",
          "name": "stdout",
          "text": [
            "Time 0 loss tensor(0.9546, device='cuda:0')\n",
            "Time 0.4654572010040283 loss tensor(0.9158, device='cuda:0')\n",
            "Time 0.7856409549713135 loss tensor(0.9039, device='cuda:0')\n",
            "Time 1.103210687637329 loss tensor(0.8430, device='cuda:0')\n",
            "Time 1.4182074069976807 loss tensor(0.8382, device='cuda:0')\n",
            "Time 1.7475924491882324 loss tensor(0.7914, device='cuda:0')\n",
            "Time 2.001382827758789 loss tensor(0.7746, device='cuda:0')\n",
            "Time 2.2258834838867188 loss tensor(0.7582, device='cuda:0')\n",
            "Time 2.483569622039795 loss tensor(0.7460, device='cuda:0')\n",
            "Time 2.711411952972412 loss tensor(0.7308, device='cuda:0')\n",
            "Time 2.9534811973571777 loss tensor(0.7306, device='cuda:0')\n",
            "Time 3.180136203765869 loss tensor(0.7242, device='cuda:0')\n",
            "Time 3.4105474948883057 loss tensor(0.7184, device='cuda:0')\n",
            "Time 3.645922899246216 loss tensor(0.7050, device='cuda:0')\n",
            "Time 3.8697426319122314 loss tensor(0.6991, device='cuda:0')\n",
            "Time 4.102231025695801 loss tensor(0.6976, device='cuda:0')\n",
            "Time 4.324766159057617 loss tensor(0.6838, device='cuda:0')\n",
            "Time 4.55886697769165 loss tensor(0.6801, device='cuda:0')\n",
            "Time 4.787379503250122 loss tensor(0.6713, device='cuda:0')\n",
            "Time 5.018235921859741 loss tensor(0.6683, device='cuda:0')\n",
            "Time 5.241595506668091 loss tensor(0.6639, device='cuda:0')\n",
            "Time 5.47112512588501 loss tensor(0.6626, device='cuda:0')\n",
            "Time 5.69599723815918 loss tensor(0.6616, device='cuda:0')\n",
            "Time 5.937013626098633 loss tensor(0.6494, device='cuda:0')\n",
            "Time 6.166071176528931 loss tensor(0.6483, device='cuda:0')\n",
            "Time 6.403947830200195 loss tensor(0.6461, device='cuda:0')\n",
            "Time 6.630620241165161 loss tensor(0.6428, device='cuda:0')\n",
            "Time 6.870364189147949 loss tensor(0.6415, device='cuda:0')\n",
            "Time 7.102094650268555 loss tensor(0.6398, device='cuda:0')\n",
            "Time 7.324400901794434 loss tensor(0.6390, device='cuda:0')\n",
            "Time 7.555954694747925 loss tensor(0.6387, device='cuda:0')\n",
            "Time 7.790468454360962 loss tensor(0.6235, device='cuda:0')\n",
            "Time 8.02163290977478 loss tensor(0.6199, device='cuda:0')\n",
            "Time 8.248181819915771 loss tensor(0.6161, device='cuda:0')\n",
            "Time 8.483027458190918 loss tensor(0.6157, device='cuda:0')\n",
            "Time 8.717711925506592 loss tensor(0.6118, device='cuda:0')\n",
            "Time 8.948320150375366 loss tensor(0.6108, device='cuda:0')\n",
            "Time 9.167401313781738 loss tensor(0.6088, device='cuda:0')\n",
            "Time 9.390318155288696 loss tensor(0.6078, device='cuda:0')\n",
            "Time 9.624751567840576 loss tensor(0.6078, device='cuda:0')\n",
            "Time 9.84937071800232 loss tensor(0.6075, device='cuda:0')\n",
            "Time 10.07692813873291 loss tensor(0.6037, device='cuda:0')\n",
            "Time 10.31174898147583 loss tensor(0.6004, device='cuda:0')\n",
            "Time 10.543072700500488 loss tensor(0.5954, device='cuda:0')\n",
            "Time 10.776578187942505 loss tensor(0.5949, device='cuda:0')\n",
            "Time 11.015381336212158 loss tensor(0.5890, device='cuda:0')\n",
            "Time 11.245877265930176 loss tensor(0.5857, device='cuda:0')\n",
            "Time 11.471508979797363 loss tensor(0.5842, device='cuda:0')\n",
            "Time 11.70354437828064 loss tensor(0.5800, device='cuda:0')\n",
            "Time 11.985931634902954 loss tensor(0.5793, device='cuda:0')\n",
            "Time 12.294163465499878 loss tensor(0.5790, device='cuda:0')\n",
            "Time 12.60960054397583 loss tensor(0.5777, device='cuda:0')\n",
            "Time 12.923513174057007 loss tensor(0.5764, device='cuda:0')\n",
            "Time 13.24520230293274 loss tensor(0.5718, device='cuda:0')\n",
            "Time 13.573646783828735 loss tensor(0.5709, device='cuda:0')\n",
            "Time 13.891183614730835 loss tensor(0.5702, device='cuda:0')\n",
            "Time 14.116729021072388 loss tensor(0.5701, device='cuda:0')\n",
            "Time 14.34281611442566 loss tensor(0.5679, device='cuda:0')\n",
            "Time 14.566208362579346 loss tensor(0.5671, device='cuda:0')\n",
            "Time 14.80010175704956 loss tensor(0.5656, device='cuda:0')\n",
            "Time 15.028525352478027 loss tensor(0.5655, device='cuda:0')\n",
            "Time 15.247780799865723 loss tensor(0.5649, device='cuda:0')\n",
            "Time 15.471579313278198 loss tensor(0.5614, device='cuda:0')\n",
            "Time 15.701375246047974 loss tensor(0.5612, device='cuda:0')\n",
            "Time 15.928861379623413 loss tensor(0.5610, device='cuda:0')\n",
            "Time 16.153045654296875 loss tensor(0.5581, device='cuda:0')\n",
            "Time 16.37751793861389 loss tensor(0.5574, device='cuda:0')\n",
            "Time 16.598946571350098 loss tensor(0.5554, device='cuda:0')\n",
            "Time 16.833677768707275 loss tensor(0.5549, device='cuda:0')\n",
            "Time 17.054154634475708 loss tensor(0.5538, device='cuda:0')\n",
            "Time 17.2806499004364 loss tensor(0.5523, device='cuda:0')\n",
            "Time 17.50142240524292 loss tensor(0.5523, device='cuda:0')\n",
            "Time 17.73994255065918 loss tensor(0.5522, device='cuda:0')\n",
            "Time 17.971725463867188 loss tensor(0.5518, device='cuda:0')\n",
            "Time 18.199565172195435 loss tensor(0.5503, device='cuda:0')\n",
            "Time 18.4211642742157 loss tensor(0.5489, device='cuda:0')\n",
            "Time 18.651471376419067 loss tensor(0.5480, device='cuda:0')\n",
            "Time 18.888347864151 loss tensor(0.5439, device='cuda:0')\n",
            "Time 19.120579719543457 loss tensor(0.5426, device='cuda:0')\n",
            "Time 19.34631657600403 loss tensor(0.5425, device='cuda:0')\n",
            "Time 19.574974536895752 loss tensor(0.5425, device='cuda:0')\n",
            "Time 19.810669898986816 loss tensor(0.5414, device='cuda:0')\n",
            "Time 20.04019808769226 loss tensor(0.5400, device='cuda:0')\n",
            "Time 20.26285719871521 loss tensor(0.5399, device='cuda:0')\n",
            "Time 20.48809790611267 loss tensor(0.5331, device='cuda:0')\n",
            "Time 20.722609281539917 loss tensor(0.5316, device='cuda:0')\n",
            "Time 20.943285703659058 loss tensor(0.5285, device='cuda:0')\n",
            "Time 21.169445991516113 loss tensor(0.5284, device='cuda:0')\n",
            "Time 21.39432954788208 loss tensor(0.5263, device='cuda:0')\n",
            "Time 21.625436067581177 loss tensor(0.5261, device='cuda:0')\n",
            "Time 21.8736674785614 loss tensor(0.5216, device='cuda:0')\n",
            "Time 22.09958815574646 loss tensor(0.5211, device='cuda:0')\n",
            "Time 22.32394528388977 loss tensor(0.5201, device='cuda:0')\n",
            "Time 22.548207998275757 loss tensor(0.5192, device='cuda:0')\n",
            "Time 22.786503076553345 loss tensor(0.5191, device='cuda:0')\n",
            "Time 23.025652170181274 loss tensor(0.5175, device='cuda:0')\n",
            "Time 23.258580923080444 loss tensor(0.5169, device='cuda:0')\n",
            "Time 23.48274064064026 loss tensor(0.5166, device='cuda:0')\n",
            "Time 23.739092350006104 loss tensor(0.5165, device='cuda:0')\n",
            "Time 24.06855082511902 loss tensor(0.5131, device='cuda:0')\n",
            "Time 24.382014274597168 loss tensor(0.5076, device='cuda:0')\n",
            "Time 24.696791887283325 loss tensor(0.5046, device='cuda:0')\n",
            "Time 25.050960302352905 loss tensor(0.5044, device='cuda:0')\n",
            "Time 25.35245108604431 loss tensor(0.5032, device='cuda:0')\n",
            "Time 25.676738262176514 loss tensor(0.4983, device='cuda:0')\n",
            "Time 25.97083282470703 loss tensor(0.4979, device='cuda:0')\n",
            "Time 26.19622278213501 loss tensor(0.4972, device='cuda:0')\n",
            "Time 26.41837239265442 loss tensor(0.4941, device='cuda:0')\n",
            "Time 26.648389101028442 loss tensor(0.4902, device='cuda:0')\n",
            "Time 26.868128776550293 loss tensor(0.4893, device='cuda:0')\n",
            "Time 27.097153186798096 loss tensor(0.4885, device='cuda:0')\n",
            "Time 27.322978734970093 loss tensor(0.4883, device='cuda:0')\n",
            "Time 27.550514698028564 loss tensor(0.4833, device='cuda:0')\n",
            "Time 27.775340795516968 loss tensor(0.4824, device='cuda:0')\n",
            "Time 28.01757550239563 loss tensor(0.4820, device='cuda:0')\n",
            "Time 28.245078086853027 loss tensor(0.4814, device='cuda:0')\n",
            "Time 28.465789794921875 loss tensor(0.4764, device='cuda:0')\n",
            "Time 28.692914485931396 loss tensor(0.4763, device='cuda:0')\n",
            "Time 28.923832416534424 loss tensor(0.4735, device='cuda:0')\n",
            "Time 29.147066354751587 loss tensor(0.4726, device='cuda:0')\n",
            "Time 29.37982988357544 loss tensor(0.4705, device='cuda:0')\n",
            "Time 29.606558561325073 loss tensor(0.4676, device='cuda:0')\n",
            "Time 29.831499814987183 loss tensor(0.4628, device='cuda:0')\n",
            "Time 30.067028999328613 loss tensor(0.4618, device='cuda:0')\n",
            "Time 30.28644371032715 loss tensor(0.4576, device='cuda:0')\n",
            "Time 30.512698650360107 loss tensor(0.4576, device='cuda:0')\n",
            "Time 30.748828411102295 loss tensor(0.4563, device='cuda:0')\n",
            "Time 30.98701524734497 loss tensor(0.4553, device='cuda:0')\n",
            "Time 31.212982416152954 loss tensor(0.4546, device='cuda:0')\n",
            "Time 31.439414978027344 loss tensor(0.4543, device='cuda:0')\n",
            "Time 31.662659168243408 loss tensor(0.4542, device='cuda:0')\n",
            "Time 31.894511461257935 loss tensor(0.4539, device='cuda:0')\n",
            "Time 32.12693953514099 loss tensor(0.4537, device='cuda:0')\n",
            "Time 32.352999448776245 loss tensor(0.4521, device='cuda:0')\n",
            "Time 32.57655334472656 loss tensor(0.4503, device='cuda:0')\n",
            "Time 32.81576108932495 loss tensor(0.4471, device='cuda:0')\n",
            "Time 33.054041147232056 loss tensor(0.4466, device='cuda:0')\n",
            "Time 33.27442932128906 loss tensor(0.4458, device='cuda:0')\n",
            "Time 33.50033140182495 loss tensor(0.4450, device='cuda:0')\n",
            "Time 33.725541830062866 loss tensor(0.4445, device='cuda:0')\n",
            "Time 33.95362424850464 loss tensor(0.4442, device='cuda:0')\n",
            "Time 34.18576788902283 loss tensor(0.4423, device='cuda:0')\n",
            "Time 34.41761136054993 loss tensor(0.4422, device='cuda:0')\n",
            "Time 34.65936827659607 loss tensor(0.4383, device='cuda:0')\n",
            "Time 34.88455128669739 loss tensor(0.4381, device='cuda:0')\n",
            "Time 35.115784645080566 loss tensor(0.4367, device='cuda:0')\n",
            "Time 35.33535051345825 loss tensor(0.4364, device='cuda:0')\n",
            "Time 35.55874848365784 loss tensor(0.4358, device='cuda:0')\n",
            "Time 35.7867317199707 loss tensor(0.4349, device='cuda:0')\n",
            "Time 36.093973875045776 loss tensor(0.4325, device='cuda:0')\n",
            "Time 36.40308737754822 loss tensor(0.4321, device='cuda:0')\n",
            "Time 36.71372628211975 loss tensor(0.4308, device='cuda:0')\n",
            "Time 37.03027153015137 loss tensor(0.4261, device='cuda:0')\n",
            "Time 37.345096588134766 loss tensor(0.4206, device='cuda:0')\n",
            "Time 37.664437770843506 loss tensor(0.4186, device='cuda:0')\n",
            "Time 37.943877935409546 loss tensor(0.4179, device='cuda:0')\n",
            "Time 38.17301559448242 loss tensor(0.4178, device='cuda:0')\n",
            "Time 38.3966281414032 loss tensor(0.4178, device='cuda:0')\n",
            "Time 38.62604999542236 loss tensor(0.4171, device='cuda:0')\n",
            "Time 38.85571646690369 loss tensor(0.4154, device='cuda:0')\n",
            "Time 39.08420157432556 loss tensor(0.4123, device='cuda:0')\n",
            "Time 39.31308579444885 loss tensor(0.4122, device='cuda:0')\n",
            "Time 39.54055738449097 loss tensor(0.4110, device='cuda:0')\n",
            "Time 39.76685953140259 loss tensor(0.4110, device='cuda:0')\n",
            "Time 39.993226766586304 loss tensor(0.4106, device='cuda:0')\n",
            "Time 40.22501349449158 loss tensor(0.4098, device='cuda:0')\n",
            "Time 40.45110869407654 loss tensor(0.4097, device='cuda:0')\n",
            "Time 40.673293590545654 loss tensor(0.4096, device='cuda:0')\n",
            "Time 40.90384840965271 loss tensor(0.4095, device='cuda:0')\n",
            "Time 41.12968158721924 loss tensor(0.4050, device='cuda:0')\n",
            "Time 41.360161542892456 loss tensor(0.4046, device='cuda:0')\n",
            "Time 41.58379244804382 loss tensor(0.4025, device='cuda:0')\n",
            "Time 41.81146192550659 loss tensor(0.4014, device='cuda:0')\n",
            "Time 42.037009954452515 loss tensor(0.4006, device='cuda:0')\n",
            "Time 42.268577575683594 loss tensor(0.3996, device='cuda:0')\n",
            "Time 42.49058175086975 loss tensor(0.3996, device='cuda:0')\n",
            "Time 42.726027727127075 loss tensor(0.3996, device='cuda:0')\n",
            "Time 42.94793653488159 loss tensor(0.3970, device='cuda:0')\n",
            "Time 43.17766714096069 loss tensor(0.3970, device='cuda:0')\n",
            "Time 43.40527939796448 loss tensor(0.3963, device='cuda:0')\n",
            "Time 43.632038593292236 loss tensor(0.3960, device='cuda:0')\n",
            "Time 43.8563392162323 loss tensor(0.3959, device='cuda:0')\n",
            "Time 44.08796215057373 loss tensor(0.3956, device='cuda:0')\n",
            "Time 44.31519865989685 loss tensor(0.3946, device='cuda:0')\n",
            "Time 44.53972005844116 loss tensor(0.3933, device='cuda:0')\n",
            "Time 44.76703643798828 loss tensor(0.3903, device='cuda:0')\n",
            "Time 45.00933504104614 loss tensor(0.3896, device='cuda:0')\n",
            "Time 45.24384665489197 loss tensor(0.3890, device='cuda:0')\n",
            "Time 45.467188119888306 loss tensor(0.3890, device='cuda:0')\n",
            "Time 45.69746994972229 loss tensor(0.3878, device='cuda:0')\n",
            "Time 45.918943643569946 loss tensor(0.3877, device='cuda:0')\n",
            "Time 46.14844274520874 loss tensor(0.3857, device='cuda:0')\n",
            "Time 46.37582755088806 loss tensor(0.3841, device='cuda:0')\n",
            "Time 46.60536217689514 loss tensor(0.3834, device='cuda:0')\n",
            "Time 46.83379364013672 loss tensor(0.3834, device='cuda:0')\n",
            "Time 47.06388831138611 loss tensor(0.3832, device='cuda:0')\n",
            "Time 47.29466485977173 loss tensor(0.3826, device='cuda:0')\n",
            "Time 47.52026438713074 loss tensor(0.3816, device='cuda:0')\n",
            "Time 47.74433922767639 loss tensor(0.3813, device='cuda:0')\n",
            "Time 48.036118030548096 loss tensor(0.3799, device='cuda:0')\n",
            "Time 48.355522871017456 loss tensor(0.3765, device='cuda:0')\n",
            "Time 48.66721487045288 loss tensor(0.3762, device='cuda:0')\n",
            "Time 48.989346504211426 loss tensor(0.3753, device='cuda:0')\n",
            "Time 49.30331063270569 loss tensor(0.3751, device='cuda:0')\n",
            "Time 49.628942251205444 loss tensor(0.3749, device='cuda:0')\n",
            "Time 49.90486121177673 loss tensor(0.3748, device='cuda:0')\n",
            "Time 50.13309383392334 loss tensor(0.3743, device='cuda:0')\n",
            "Time 50.35432744026184 loss tensor(0.3742, device='cuda:0')\n",
            "Time 50.5889995098114 loss tensor(0.3735, device='cuda:0')\n",
            "Time 50.81496024131775 loss tensor(0.3721, device='cuda:0')\n",
            "Time 51.04255223274231 loss tensor(0.3720, device='cuda:0')\n",
            "Time 51.265551805496216 loss tensor(0.3711, device='cuda:0')\n",
            "Time 51.49165391921997 loss tensor(0.3704, device='cuda:0')\n",
            "Time 51.7250702381134 loss tensor(0.3704, device='cuda:0')\n",
            "Time 51.95003294944763 loss tensor(0.3680, device='cuda:0')\n",
            "Time 52.455198526382446 loss tensor(0.3653, device='cuda:0')\n",
            "Time 52.806138038635254 loss tensor(0.3652, device='cuda:0')\n",
            "Time 53.03620648384094 loss tensor(0.3625, device='cuda:0')\n",
            "Time 53.39275646209717 loss tensor(0.3621, device='cuda:0')\n",
            "Time 53.84771108627319 loss tensor(0.3587, device='cuda:0')\n",
            "Time 54.073561906814575 loss tensor(0.3579, device='cuda:0')\n",
            "Time 54.41901731491089 loss tensor(0.3569, device='cuda:0')\n",
            "Time 54.90892672538757 loss tensor(0.3562, device='cuda:0')\n",
            "Time 55.14979887008667 loss tensor(0.3558, device='cuda:0')\n",
            "Time 55.38536715507507 loss tensor(0.3557, device='cuda:0')\n",
            "Time 55.64076781272888 loss tensor(0.3534, device='cuda:0')\n",
            "Time 55.87241077423096 loss tensor(0.3531, device='cuda:0')\n",
            "Time 56.0972740650177 loss tensor(0.3523, device='cuda:0')\n",
            "Time 56.31987547874451 loss tensor(0.3522, device='cuda:0')\n",
            "Time 56.55324578285217 loss tensor(0.3510, device='cuda:0')\n",
            "Time 56.77742600440979 loss tensor(0.3509, device='cuda:0')\n",
            "Time 57.00301456451416 loss tensor(0.3506, device='cuda:0')\n",
            "Time 57.224467754364014 loss tensor(0.3488, device='cuda:0')\n",
            "Time 57.45000886917114 loss tensor(0.3482, device='cuda:0')\n",
            "Time 57.68279457092285 loss tensor(0.3479, device='cuda:0')\n",
            "Time 57.90432810783386 loss tensor(0.3479, device='cuda:0')\n",
            "Time 58.1284384727478 loss tensor(0.3469, device='cuda:0')\n",
            "Time 58.352099657058716 loss tensor(0.3464, device='cuda:0')\n",
            "Time 58.58339285850525 loss tensor(0.3458, device='cuda:0')\n",
            "Time 58.81359910964966 loss tensor(0.3454, device='cuda:0')\n",
            "Time 59.03924536705017 loss tensor(0.3454, device='cuda:0')\n",
            "Time 59.26213335990906 loss tensor(0.3453, device='cuda:0')\n",
            "Time 59.48640727996826 loss tensor(0.3452, device='cuda:0')\n",
            "Time 59.72258186340332 loss tensor(0.3452, device='cuda:0')\n",
            "Time 60.029428005218506 loss tensor(0.3451, device='cuda:0')\n",
            "Time 60.342175006866455 loss tensor(0.3450, device='cuda:0')\n",
            "Time 60.658936738967896 loss tensor(0.3449, device='cuda:0')\n",
            "Time 60.97060513496399 loss tensor(0.3446, device='cuda:0')\n",
            "Time 61.28782272338867 loss tensor(0.3437, device='cuda:0')\n",
            "Time 61.609652042388916 loss tensor(0.3437, device='cuda:0')\n",
            "Time 61.88088917732239 loss tensor(0.3436, device='cuda:0')\n",
            "Time 62.1079306602478 loss tensor(0.3430, device='cuda:0')\n",
            "Time 62.3353431224823 loss tensor(0.3426, device='cuda:0')\n",
            "Time 62.55912637710571 loss tensor(0.3420, device='cuda:0')\n",
            "Time 62.79541301727295 loss tensor(0.3419, device='cuda:0')\n",
            "Time 63.021175384521484 loss tensor(0.3392, device='cuda:0')\n",
            "Time 63.24563670158386 loss tensor(0.3382, device='cuda:0')\n",
            "Time 63.472872495651245 loss tensor(0.3378, device='cuda:0')\n",
            "Time 63.70689868927002 loss tensor(0.3372, device='cuda:0')\n",
            "Time 63.944772720336914 loss tensor(0.3361, device='cuda:0')\n",
            "Time 64.17010927200317 loss tensor(0.3356, device='cuda:0')\n",
            "Time 64.39477372169495 loss tensor(0.3354, device='cuda:0')\n",
            "Time 64.62307620048523 loss tensor(0.3345, device='cuda:0')\n",
            "Time 64.86593222618103 loss tensor(0.3343, device='cuda:0')\n",
            "Time 65.09270286560059 loss tensor(0.3342, device='cuda:0')\n",
            "Time 65.31651902198792 loss tensor(0.3340, device='cuda:0')\n",
            "Time 65.53982424736023 loss tensor(0.3338, device='cuda:0')\n",
            "Time 65.77693128585815 loss tensor(0.3337, device='cuda:0')\n",
            "Time 66.0119743347168 loss tensor(0.3319, device='cuda:0')\n",
            "Time 66.24264073371887 loss tensor(0.3318, device='cuda:0')\n",
            "Time 66.46534299850464 loss tensor(0.3317, device='cuda:0')\n",
            "Time 66.69692587852478 loss tensor(0.3296, device='cuda:0')\n",
            "Time 66.92233896255493 loss tensor(0.3295, device='cuda:0')\n",
            "Time 67.14259791374207 loss tensor(0.3294, device='cuda:0')\n",
            "Time 67.36589908599854 loss tensor(0.3294, device='cuda:0')\n",
            "Time 67.5907952785492 loss tensor(0.3293, device='cuda:0')\n",
            "Time 67.82195520401001 loss tensor(0.3289, device='cuda:0')\n",
            "Time 68.04694128036499 loss tensor(0.3276, device='cuda:0')\n",
            "Time 68.26778054237366 loss tensor(0.3270, device='cuda:0')\n",
            "Time 68.48909783363342 loss tensor(0.3262, device='cuda:0')\n",
            "Time 68.72812414169312 loss tensor(0.3253, device='cuda:0')\n",
            "Time 68.96576809883118 loss tensor(0.3239, device='cuda:0')\n",
            "Time 69.20581650733948 loss tensor(0.3230, device='cuda:0')\n",
            "Time 69.43634629249573 loss tensor(0.3228, device='cuda:0')\n",
            "Time 69.67555928230286 loss tensor(0.3227, device='cuda:0')\n",
            "Time 69.9093964099884 loss tensor(0.3219, device='cuda:0')\n",
            "Time 70.13564133644104 loss tensor(0.3217, device='cuda:0')\n",
            "Time 70.36243081092834 loss tensor(0.3214, device='cuda:0')\n",
            "Time 70.59081864356995 loss tensor(0.3212, device='cuda:0')\n",
            "Time 70.82705616950989 loss tensor(0.3212, device='cuda:0')\n",
            "Time 71.0683343410492 loss tensor(0.3210, device='cuda:0')\n",
            "Time 71.29367065429688 loss tensor(0.3203, device='cuda:0')\n",
            "Time 71.51972484588623 loss tensor(0.3199, device='cuda:0')\n",
            "Time 71.74571561813354 loss tensor(0.3198, device='cuda:0')\n",
            "Time 72.0832531452179 loss tensor(0.3195, device='cuda:0')\n",
            "Time 72.38606357574463 loss tensor(0.3191, device='cuda:0')\n",
            "Time 72.70486164093018 loss tensor(0.3191, device='cuda:0')\n",
            "Time 73.02438235282898 loss tensor(0.3191, device='cuda:0')\n",
            "Time 73.34509706497192 loss tensor(0.3162, device='cuda:0')\n",
            "Time 73.67597484588623 loss tensor(0.3162, device='cuda:0')\n",
            "Time 73.92419695854187 loss tensor(0.3161, device='cuda:0')\n",
            "Time 74.14628434181213 loss tensor(0.3160, device='cuda:0')\n",
            "Time 74.36780214309692 loss tensor(0.3157, device='cuda:0')\n",
            "Time 74.59710335731506 loss tensor(0.3141, device='cuda:0')\n",
            "Time 74.82134652137756 loss tensor(0.3140, device='cuda:0')\n",
            "Time 75.04714918136597 loss tensor(0.3136, device='cuda:0')\n",
            "Time 75.26928615570068 loss tensor(0.3135, device='cuda:0')\n",
            "Time 75.48710942268372 loss tensor(0.3135, device='cuda:0')\n",
            "Time 75.71542048454285 loss tensor(0.3125, device='cuda:0')\n",
            "Time 75.95029425621033 loss tensor(0.3119, device='cuda:0')\n",
            "Time 76.18326759338379 loss tensor(0.3116, device='cuda:0')\n",
            "Time 76.44365930557251 loss tensor(0.3112, device='cuda:0')\n",
            "Time 76.68981742858887 loss tensor(0.3111, device='cuda:0')\n",
            "Time 76.91237354278564 loss tensor(0.3085, device='cuda:0')\n",
            "Time 77.14386439323425 loss tensor(0.3084, device='cuda:0')\n",
            "Time 77.36432480812073 loss tensor(0.3083, device='cuda:0')\n",
            "Time 77.58929419517517 loss tensor(0.3064, device='cuda:0')\n",
            "Time 77.81703400611877 loss tensor(0.3063, device='cuda:0')\n",
            "Time 78.04779744148254 loss tensor(0.3051, device='cuda:0')\n",
            "Time 78.2728943824768 loss tensor(0.3046, device='cuda:0')\n",
            "Time 78.49404525756836 loss tensor(0.3042, device='cuda:0')\n",
            "Time 78.72494339942932 loss tensor(0.3034, device='cuda:0')\n",
            "Time 78.94998455047607 loss tensor(0.3014, device='cuda:0')\n",
            "Time 79.18519425392151 loss tensor(0.3006, device='cuda:0')\n",
            "Time 79.40658330917358 loss tensor(0.2999, device='cuda:0')\n",
            "Final execution time 79.40658330917358\n",
            "Number of iterations 324\n",
            "Mean execution time of an iteration 0.24508204725053576\n"
          ]
        }
      ]
    },
    {
      "cell_type": "code",
      "source": [
        "plt.plot(losses)"
      ],
      "metadata": {
        "id": "yqhSK6H4i5Ll",
        "outputId": "6b010cca-84d6-460d-d4b7-a211bfc1feab",
        "colab": {
          "base_uri": "https://localhost:8080/",
          "height": 282
        }
      },
      "execution_count": 27,
      "outputs": [
        {
          "output_type": "execute_result",
          "data": {
            "text/plain": [
              "[<matplotlib.lines.Line2D at 0x7f9534092550>]"
            ]
          },
          "metadata": {},
          "execution_count": 27
        },
        {
          "output_type": "display_data",
          "data": {
            "text/plain": [
              "<Figure size 432x288 with 1 Axes>"
            ],
            "image/png": "[encoded data removed]"
          },
          "metadata": {
            "needs_background": "light"
          }
        }
      ]
    },
    {
      "cell_type": "code",
      "source": [
        "plt.plot(accuracies)"
      ],
      "metadata": {
        "colab": {
          "base_uri": "https://localhost:8080/",
          "height": 282
        },
        "id": "GtBfArSuC9Y8",
        "outputId": "d8766ce0-e735-4506-8fcf-f94933ad9020"
      },
      "execution_count": 28,
      "outputs": [
        {
          "output_type": "execute_result",
          "data": {
            "text/plain": [
              "[<matplotlib.lines.Line2D at 0x7f952c336670>]"
            ]
          },
          "metadata": {},
          "execution_count": 28
        },
        {
          "output_type": "display_data",
          "data": {
            "text/plain": [
              "<Figure size 432x288 with 1 Axes>"
            ],
            "image/png": "[encoded data removed]"
          },
          "metadata": {
            "needs_background": "light"
          }
        }
      ]
    },
    {
      "cell_type": "code",
      "source": [
        "plt.plot(errors)"
      ],
      "metadata": {
        "colab": {
          "base_uri": "https://localhost:8080/",
          "height": 282
        },
        "id": "FbauRNxMYsyf",
        "outputId": "4b63e0d3-dd21-4511-f7b2-cdefca8d54ff"
      },
      "execution_count": 29,
      "outputs": [
        {
          "output_type": "execute_result",
          "data": {
            "text/plain": [
              "[<matplotlib.lines.Line2D at 0x7f952c30aa90>]"
            ]
          },
          "metadata": {},
          "execution_count": 29
        },
        {
          "output_type": "display_data",
          "data": {
            "text/plain": [
              "<Figure size 432x288 with 1 Axes>"
            ],
            "image/png": "[encoded data removed]"
          },
          "metadata": {
            "needs_background": "light"
          }
        }
      ]
    }
  ]
}