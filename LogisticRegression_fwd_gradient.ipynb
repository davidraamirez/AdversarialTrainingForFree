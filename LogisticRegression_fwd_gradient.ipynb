{
  "nbformat": 4,
  "nbformat_minor": 0,
  "metadata": {
    "colab": {
      "provenance": [],
      "include_colab_link": true
    },
    "kernelspec": {
      "name": "python3",
      "display_name": "Python 3"
    },
    "language_info": {
      "name": "python"
    },
    "accelerator": "GPU",
    "gpuClass": "standard",
    "widgets": {
      "application/vnd.jupyter.widget-state+json": {
        "788bb46f17504c1caed28ecd345fc9b2": {
          "model_module": "@jupyter-widgets/controls",
          "model_name": "HBoxModel",
          "model_module_version": "1.5.0",
          "state": {
            "_dom_classes": [],
            "_model_module": "@jupyter-widgets/controls",
            "_model_module_version": "1.5.0",
            "_model_name": "HBoxModel",
            "_view_count": null,
            "_view_module": "@jupyter-widgets/controls",
            "_view_module_version": "1.5.0",
            "_view_name": "HBoxView",
            "box_style": "",
            "children": [
              "IPY_MODEL_e354a76bb2c54b589c41a97848eebde0",
              "IPY_MODEL_31ab37cbb2b340a7b6b16fa7b849604a",
              "IPY_MODEL_7982cbd195cc44a29e0ea862dfc1c4d7"
            ],
            "layout": "IPY_MODEL_790602caab98465da9ead8e3af485cd6"
          }
        },
        "e354a76bb2c54b589c41a97848eebde0": {
          "model_module": "@jupyter-widgets/controls",
          "model_name": "HTMLModel",
          "model_module_version": "1.5.0",
          "state": {
            "_dom_classes": [],
            "_model_module": "@jupyter-widgets/controls",
            "_model_module_version": "1.5.0",
            "_model_name": "HTMLModel",
            "_view_count": null,
            "_view_module": "@jupyter-widgets/controls",
            "_view_module_version": "1.5.0",
            "_view_name": "HTMLView",
            "description": "",
            "description_tooltip": null,
            "layout": "IPY_MODEL_34e7f827f9b946b2970d7b1fb7c0bc7c",
            "placeholder": "​",
            "style": "IPY_MODEL_ef441223b548401ea22d6b4c61b11768",
            "value": "Dl Completed...: 100%"
          }
        },
        "31ab37cbb2b340a7b6b16fa7b849604a": {
          "model_module": "@jupyter-widgets/controls",
          "model_name": "FloatProgressModel",
          "model_module_version": "1.5.0",
          "state": {
            "_dom_classes": [],
            "_model_module": "@jupyter-widgets/controls",
            "_model_module_version": "1.5.0",
            "_model_name": "FloatProgressModel",
            "_view_count": null,
            "_view_module": "@jupyter-widgets/controls",
            "_view_module_version": "1.5.0",
            "_view_name": "ProgressView",
            "bar_style": "success",
            "description": "",
            "description_tooltip": null,
            "layout": "IPY_MODEL_a3264244b0524da0bf3397d0f21a0169",
            "max": 1,
            "min": 0,
            "orientation": "horizontal",
            "style": "IPY_MODEL_bcae38891afa4275bddd9e1266b310fd",
            "value": 1
          }
        },
        "7982cbd195cc44a29e0ea862dfc1c4d7": {
          "model_module": "@jupyter-widgets/controls",
          "model_name": "HTMLModel",
          "model_module_version": "1.5.0",
          "state": {
            "_dom_classes": [],
            "_model_module": "@jupyter-widgets/controls",
            "_model_module_version": "1.5.0",
            "_model_name": "HTMLModel",
            "_view_count": null,
            "_view_module": "@jupyter-widgets/controls",
            "_view_module_version": "1.5.0",
            "_view_name": "HTMLView",
            "description": "",
            "description_tooltip": null,
            "layout": "IPY_MODEL_1495c9c572ac4571b4bbd4a0faea48a2",
            "placeholder": "​",
            "style": "IPY_MODEL_4bbac4c2b2ee4a8eb15706791f13e0da",
            "value": " 1/1 [00:00&lt;00:00,  4.65 url/s]"
          }
        },
        "790602caab98465da9ead8e3af485cd6": {
          "model_module": "@jupyter-widgets/base",
          "model_name": "LayoutModel",
          "model_module_version": "1.2.0",
          "state": {
            "_model_module": "@jupyter-widgets/base",
            "_model_module_version": "1.2.0",
            "_model_name": "LayoutModel",
            "_view_count": null,
            "_view_module": "@jupyter-widgets/base",
            "_view_module_version": "1.2.0",
            "_view_name": "LayoutView",
            "align_content": null,
            "align_items": null,
            "align_self": null,
            "border": null,
            "bottom": null,
            "display": null,
            "flex": null,
            "flex_flow": null,
            "grid_area": null,
            "grid_auto_columns": null,
            "grid_auto_flow": null,
            "grid_auto_rows": null,
            "grid_column": null,
            "grid_gap": null,
            "grid_row": null,
            "grid_template_areas": null,
            "grid_template_columns": null,
            "grid_template_rows": null,
            "height": null,
            "justify_content": null,
            "justify_items": null,
            "left": null,
            "margin": null,
            "max_height": null,
            "max_width": null,
            "min_height": null,
            "min_width": null,
            "object_fit": null,
            "object_position": null,
            "order": null,
            "overflow": null,
            "overflow_x": null,
            "overflow_y": null,
            "padding": null,
            "right": null,
            "top": null,
            "visibility": null,
            "width": null
          }
        },
        "34e7f827f9b946b2970d7b1fb7c0bc7c": {
          "model_module": "@jupyter-widgets/base",
          "model_name": "LayoutModel",
          "model_module_version": "1.2.0",
          "state": {
            "_model_module": "@jupyter-widgets/base",
            "_model_module_version": "1.2.0",
            "_model_name": "LayoutModel",
            "_view_count": null,
            "_view_module": "@jupyter-widgets/base",
            "_view_module_version": "1.2.0",
            "_view_name": "LayoutView",
            "align_content": null,
            "align_items": null,
            "align_self": null,
            "border": null,
            "bottom": null,
            "display": null,
            "flex": null,
            "flex_flow": null,
            "grid_area": null,
            "grid_auto_columns": null,
            "grid_auto_flow": null,
            "grid_auto_rows": null,
            "grid_column": null,
            "grid_gap": null,
            "grid_row": null,
            "grid_template_areas": null,
            "grid_template_columns": null,
            "grid_template_rows": null,
            "height": null,
            "justify_content": null,
            "justify_items": null,
            "left": null,
            "margin": null,
            "max_height": null,
            "max_width": null,
            "min_height": null,
            "min_width": null,
            "object_fit": null,
            "object_position": null,
            "order": null,
            "overflow": null,
            "overflow_x": null,
            "overflow_y": null,
            "padding": null,
            "right": null,
            "top": null,
            "visibility": null,
            "width": null
          }
        },
        "ef441223b548401ea22d6b4c61b11768": {
          "model_module": "@jupyter-widgets/controls",
          "model_name": "DescriptionStyleModel",
          "model_module_version": "1.5.0",
          "state": {
            "_model_module": "@jupyter-widgets/controls",
            "_model_module_version": "1.5.0",
            "_model_name": "DescriptionStyleModel",
            "_view_count": null,
            "_view_module": "@jupyter-widgets/base",
            "_view_module_version": "1.2.0",
            "_view_name": "StyleView",
            "description_width": ""
          }
        },
        "a3264244b0524da0bf3397d0f21a0169": {
          "model_module": "@jupyter-widgets/base",
          "model_name": "LayoutModel",
          "model_module_version": "1.2.0",
          "state": {
            "_model_module": "@jupyter-widgets/base",
            "_model_module_version": "1.2.0",
            "_model_name": "LayoutModel",
            "_view_count": null,
            "_view_module": "@jupyter-widgets/base",
            "_view_module_version": "1.2.0",
            "_view_name": "LayoutView",
            "align_content": null,
            "align_items": null,
            "align_self": null,
            "border": null,
            "bottom": null,
            "display": null,
            "flex": null,
            "flex_flow": null,
            "grid_area": null,
            "grid_auto_columns": null,
            "grid_auto_flow": null,
            "grid_auto_rows": null,
            "grid_column": null,
            "grid_gap": null,
            "grid_row": null,
            "grid_template_areas": null,
            "grid_template_columns": null,
            "grid_template_rows": null,
            "height": null,
            "justify_content": null,
            "justify_items": null,
            "left": null,
            "margin": null,
            "max_height": null,
            "max_width": null,
            "min_height": null,
            "min_width": null,
            "object_fit": null,
            "object_position": null,
            "order": null,
            "overflow": null,
            "overflow_x": null,
            "overflow_y": null,
            "padding": null,
            "right": null,
            "top": null,
            "visibility": null,
            "width": "20px"
          }
        },
        "bcae38891afa4275bddd9e1266b310fd": {
          "model_module": "@jupyter-widgets/controls",
          "model_name": "ProgressStyleModel",
          "model_module_version": "1.5.0",
          "state": {
            "_model_module": "@jupyter-widgets/controls",
            "_model_module_version": "1.5.0",
            "_model_name": "ProgressStyleModel",
            "_view_count": null,
            "_view_module": "@jupyter-widgets/base",
            "_view_module_version": "1.2.0",
            "_view_name": "StyleView",
            "bar_color": null,
            "description_width": ""
          }
        },
        "1495c9c572ac4571b4bbd4a0faea48a2": {
          "model_module": "@jupyter-widgets/base",
          "model_name": "LayoutModel",
          "model_module_version": "1.2.0",
          "state": {
            "_model_module": "@jupyter-widgets/base",
            "_model_module_version": "1.2.0",
            "_model_name": "LayoutModel",
            "_view_count": null,
            "_view_module": "@jupyter-widgets/base",
            "_view_module_version": "1.2.0",
            "_view_name": "LayoutView",
            "align_content": null,
            "align_items": null,
            "align_self": null,
            "border": null,
            "bottom": null,
            "display": null,
            "flex": null,
            "flex_flow": null,
            "grid_area": null,
            "grid_auto_columns": null,
            "grid_auto_flow": null,
            "grid_auto_rows": null,
            "grid_column": null,
            "grid_gap": null,
            "grid_row": null,
            "grid_template_areas": null,
            "grid_template_columns": null,
            "grid_template_rows": null,
            "height": null,
            "justify_content": null,
            "justify_items": null,
            "left": null,
            "margin": null,
            "max_height": null,
            "max_width": null,
            "min_height": null,
            "min_width": null,
            "object_fit": null,
            "object_position": null,
            "order": null,
            "overflow": null,
            "overflow_x": null,
            "overflow_y": null,
            "padding": null,
            "right": null,
            "top": null,
            "visibility": null,
            "width": null
          }
        },
        "4bbac4c2b2ee4a8eb15706791f13e0da": {
          "model_module": "@jupyter-widgets/controls",
          "model_name": "DescriptionStyleModel",
          "model_module_version": "1.5.0",
          "state": {
            "_model_module": "@jupyter-widgets/controls",
            "_model_module_version": "1.5.0",
            "_model_name": "DescriptionStyleModel",
            "_view_count": null,
            "_view_module": "@jupyter-widgets/base",
            "_view_module_version": "1.2.0",
            "_view_name": "StyleView",
            "description_width": ""
          }
        },
        "c1bfb8061f274021ade6ee173503fc05": {
          "model_module": "@jupyter-widgets/controls",
          "model_name": "HBoxModel",
          "model_module_version": "1.5.0",
          "state": {
            "_dom_classes": [],
            "_model_module": "@jupyter-widgets/controls",
            "_model_module_version": "1.5.0",
            "_model_name": "HBoxModel",
            "_view_count": null,
            "_view_module": "@jupyter-widgets/controls",
            "_view_module_version": "1.5.0",
            "_view_name": "HBoxView",
            "box_style": "",
            "children": [
              "IPY_MODEL_cb2172d69d5040058a78d2da9073f865",
              "IPY_MODEL_5bcfeef694c342428348bb82192194e3",
              "IPY_MODEL_9a36661f7ea041a2a4268f97fa6e89ca"
            ],
            "layout": "IPY_MODEL_b11231c2004f441daa12e1b1fda2622d"
          }
        },
        "cb2172d69d5040058a78d2da9073f865": {
          "model_module": "@jupyter-widgets/controls",
          "model_name": "HTMLModel",
          "model_module_version": "1.5.0",
          "state": {
            "_dom_classes": [],
            "_model_module": "@jupyter-widgets/controls",
            "_model_module_version": "1.5.0",
            "_model_name": "HTMLModel",
            "_view_count": null,
            "_view_module": "@jupyter-widgets/controls",
            "_view_module_version": "1.5.0",
            "_view_name": "HTMLView",
            "description": "",
            "description_tooltip": null,
            "layout": "IPY_MODEL_0241879851104259b869f9c3934fc70b",
            "placeholder": "​",
            "style": "IPY_MODEL_0e8c06b5b8e848188c255dd261b5d4c2",
            "value": "Dl Size...: "
          }
        },
        "5bcfeef694c342428348bb82192194e3": {
          "model_module": "@jupyter-widgets/controls",
          "model_name": "FloatProgressModel",
          "model_module_version": "1.5.0",
          "state": {
            "_dom_classes": [],
            "_model_module": "@jupyter-widgets/controls",
            "_model_module_version": "1.5.0",
            "_model_name": "FloatProgressModel",
            "_view_count": null,
            "_view_module": "@jupyter-widgets/controls",
            "_view_module_version": "1.5.0",
            "_view_name": "ProgressView",
            "bar_style": "success",
            "description": "",
            "description_tooltip": null,
            "layout": "IPY_MODEL_954cf350df5448e6983b56edea19266e",
            "max": 1,
            "min": 0,
            "orientation": "horizontal",
            "style": "IPY_MODEL_0f8cbe86cd5b4eed99ad0fc695349ee4",
            "value": 0
          }
        },
        "9a36661f7ea041a2a4268f97fa6e89ca": {
          "model_module": "@jupyter-widgets/controls",
          "model_name": "HTMLModel",
          "model_module_version": "1.5.0",
          "state": {
            "_dom_classes": [],
            "_model_module": "@jupyter-widgets/controls",
            "_model_module_version": "1.5.0",
            "_model_name": "HTMLModel",
            "_view_count": null,
            "_view_module": "@jupyter-widgets/controls",
            "_view_module_version": "1.5.0",
            "_view_name": "HTMLView",
            "description": "",
            "description_tooltip": null,
            "layout": "IPY_MODEL_275b3c8e2cb34eeca6c8635b58484fb4",
            "placeholder": "​",
            "style": "IPY_MODEL_3739543ee0094bb3995dcf2ce2692f29",
            "value": " 0/0 [00:00&lt;?, ? MiB/s]"
          }
        },
        "b11231c2004f441daa12e1b1fda2622d": {
          "model_module": "@jupyter-widgets/base",
          "model_name": "LayoutModel",
          "model_module_version": "1.2.0",
          "state": {
            "_model_module": "@jupyter-widgets/base",
            "_model_module_version": "1.2.0",
            "_model_name": "LayoutModel",
            "_view_count": null,
            "_view_module": "@jupyter-widgets/base",
            "_view_module_version": "1.2.0",
            "_view_name": "LayoutView",
            "align_content": null,
            "align_items": null,
            "align_self": null,
            "border": null,
            "bottom": null,
            "display": null,
            "flex": null,
            "flex_flow": null,
            "grid_area": null,
            "grid_auto_columns": null,
            "grid_auto_flow": null,
            "grid_auto_rows": null,
            "grid_column": null,
            "grid_gap": null,
            "grid_row": null,
            "grid_template_areas": null,
            "grid_template_columns": null,
            "grid_template_rows": null,
            "height": null,
            "justify_content": null,
            "justify_items": null,
            "left": null,
            "margin": null,
            "max_height": null,
            "max_width": null,
            "min_height": null,
            "min_width": null,
            "object_fit": null,
            "object_position": null,
            "order": null,
            "overflow": null,
            "overflow_x": null,
            "overflow_y": null,
            "padding": null,
            "right": null,
            "top": null,
            "visibility": null,
            "width": null
          }
        },
        "0241879851104259b869f9c3934fc70b": {
          "model_module": "@jupyter-widgets/base",
          "model_name": "LayoutModel",
          "model_module_version": "1.2.0",
          "state": {
            "_model_module": "@jupyter-widgets/base",
            "_model_module_version": "1.2.0",
            "_model_name": "LayoutModel",
            "_view_count": null,
            "_view_module": "@jupyter-widgets/base",
            "_view_module_version": "1.2.0",
            "_view_name": "LayoutView",
            "align_content": null,
            "align_items": null,
            "align_self": null,
            "border": null,
            "bottom": null,
            "display": null,
            "flex": null,
            "flex_flow": null,
            "grid_area": null,
            "grid_auto_columns": null,
            "grid_auto_flow": null,
            "grid_auto_rows": null,
            "grid_column": null,
            "grid_gap": null,
            "grid_row": null,
            "grid_template_areas": null,
            "grid_template_columns": null,
            "grid_template_rows": null,
            "height": null,
            "justify_content": null,
            "justify_items": null,
            "left": null,
            "margin": null,
            "max_height": null,
            "max_width": null,
            "min_height": null,
            "min_width": null,
            "object_fit": null,
            "object_position": null,
            "order": null,
            "overflow": null,
            "overflow_x": null,
            "overflow_y": null,
            "padding": null,
            "right": null,
            "top": null,
            "visibility": null,
            "width": null
          }
        },
        "0e8c06b5b8e848188c255dd261b5d4c2": {
          "model_module": "@jupyter-widgets/controls",
          "model_name": "DescriptionStyleModel",
          "model_module_version": "1.5.0",
          "state": {
            "_model_module": "@jupyter-widgets/controls",
            "_model_module_version": "1.5.0",
            "_model_name": "DescriptionStyleModel",
            "_view_count": null,
            "_view_module": "@jupyter-widgets/base",
            "_view_module_version": "1.2.0",
            "_view_name": "StyleView",
            "description_width": ""
          }
        },
        "954cf350df5448e6983b56edea19266e": {
          "model_module": "@jupyter-widgets/base",
          "model_name": "LayoutModel",
          "model_module_version": "1.2.0",
          "state": {
            "_model_module": "@jupyter-widgets/base",
            "_model_module_version": "1.2.0",
            "_model_name": "LayoutModel",
            "_view_count": null,
            "_view_module": "@jupyter-widgets/base",
            "_view_module_version": "1.2.0",
            "_view_name": "LayoutView",
            "align_content": null,
            "align_items": null,
            "align_self": null,
            "border": null,
            "bottom": null,
            "display": null,
            "flex": null,
            "flex_flow": null,
            "grid_area": null,
            "grid_auto_columns": null,
            "grid_auto_flow": null,
            "grid_auto_rows": null,
            "grid_column": null,
            "grid_gap": null,
            "grid_row": null,
            "grid_template_areas": null,
            "grid_template_columns": null,
            "grid_template_rows": null,
            "height": null,
            "justify_content": null,
            "justify_items": null,
            "left": null,
            "margin": null,
            "max_height": null,
            "max_width": null,
            "min_height": null,
            "min_width": null,
            "object_fit": null,
            "object_position": null,
            "order": null,
            "overflow": null,
            "overflow_x": null,
            "overflow_y": null,
            "padding": null,
            "right": null,
            "top": null,
            "visibility": null,
            "width": "20px"
          }
        },
        "0f8cbe86cd5b4eed99ad0fc695349ee4": {
          "model_module": "@jupyter-widgets/controls",
          "model_name": "ProgressStyleModel",
          "model_module_version": "1.5.0",
          "state": {
            "_model_module": "@jupyter-widgets/controls",
            "_model_module_version": "1.5.0",
            "_model_name": "ProgressStyleModel",
            "_view_count": null,
            "_view_module": "@jupyter-widgets/base",
            "_view_module_version": "1.2.0",
            "_view_name": "StyleView",
            "bar_color": null,
            "description_width": ""
          }
        },
        "275b3c8e2cb34eeca6c8635b58484fb4": {
          "model_module": "@jupyter-widgets/base",
          "model_name": "LayoutModel",
          "model_module_version": "1.2.0",
          "state": {
            "_model_module": "@jupyter-widgets/base",
            "_model_module_version": "1.2.0",
            "_model_name": "LayoutModel",
            "_view_count": null,
            "_view_module": "@jupyter-widgets/base",
            "_view_module_version": "1.2.0",
            "_view_name": "LayoutView",
            "align_content": null,
            "align_items": null,
            "align_self": null,
            "border": null,
            "bottom": null,
            "display": null,
            "flex": null,
            "flex_flow": null,
            "grid_area": null,
            "grid_auto_columns": null,
            "grid_auto_flow": null,
            "grid_auto_rows": null,
            "grid_column": null,
            "grid_gap": null,
            "grid_row": null,
            "grid_template_areas": null,
            "grid_template_columns": null,
            "grid_template_rows": null,
            "height": null,
            "justify_content": null,
            "justify_items": null,
            "left": null,
            "margin": null,
            "max_height": null,
            "max_width": null,
            "min_height": null,
            "min_width": null,
            "object_fit": null,
            "object_position": null,
            "order": null,
            "overflow": null,
            "overflow_x": null,
            "overflow_y": null,
            "padding": null,
            "right": null,
            "top": null,
            "visibility": null,
            "width": null
          }
        },
        "3739543ee0094bb3995dcf2ce2692f29": {
          "model_module": "@jupyter-widgets/controls",
          "model_name": "DescriptionStyleModel",
          "model_module_version": "1.5.0",
          "state": {
            "_model_module": "@jupyter-widgets/controls",
            "_model_module_version": "1.5.0",
            "_model_name": "DescriptionStyleModel",
            "_view_count": null,
            "_view_module": "@jupyter-widgets/base",
            "_view_module_version": "1.2.0",
            "_view_name": "StyleView",
            "description_width": ""
          }
        },
        "b60bdf49312f440083e69004bce80be0": {
          "model_module": "@jupyter-widgets/controls",
          "model_name": "HBoxModel",
          "model_module_version": "1.5.0",
          "state": {
            "_dom_classes": [],
            "_model_module": "@jupyter-widgets/controls",
            "_model_module_version": "1.5.0",
            "_model_name": "HBoxModel",
            "_view_count": null,
            "_view_module": "@jupyter-widgets/controls",
            "_view_module_version": "1.5.0",
            "_view_name": "HBoxView",
            "box_style": "",
            "children": [
              "IPY_MODEL_ec5d6e3967cd48aea82f16aea3f1fb00",
              "IPY_MODEL_bc15c4ad78b94b96ad2907cfe6aa871d",
              "IPY_MODEL_20b336f6f9df4bc796803459855adf23"
            ],
            "layout": "IPY_MODEL_ed3ec944022f4125be2dd01ac086e1f7"
          }
        },
        "ec5d6e3967cd48aea82f16aea3f1fb00": {
          "model_module": "@jupyter-widgets/controls",
          "model_name": "HTMLModel",
          "model_module_version": "1.5.0",
          "state": {
            "_dom_classes": [],
            "_model_module": "@jupyter-widgets/controls",
            "_model_module_version": "1.5.0",
            "_model_name": "HTMLModel",
            "_view_count": null,
            "_view_module": "@jupyter-widgets/controls",
            "_view_module_version": "1.5.0",
            "_view_name": "HTMLView",
            "description": "",
            "description_tooltip": null,
            "layout": "IPY_MODEL_2b00b731174945d7822cc2ec6631c927",
            "placeholder": "​",
            "style": "IPY_MODEL_caddb123f48142a88f937c09fffbe7d2",
            "value": "Generating splits...: 100%"
          }
        },
        "bc15c4ad78b94b96ad2907cfe6aa871d": {
          "model_module": "@jupyter-widgets/controls",
          "model_name": "FloatProgressModel",
          "model_module_version": "1.5.0",
          "state": {
            "_dom_classes": [],
            "_model_module": "@jupyter-widgets/controls",
            "_model_module_version": "1.5.0",
            "_model_name": "FloatProgressModel",
            "_view_count": null,
            "_view_module": "@jupyter-widgets/controls",
            "_view_module_version": "1.5.0",
            "_view_name": "ProgressView",
            "bar_style": "",
            "description": "",
            "description_tooltip": null,
            "layout": "IPY_MODEL_5797e0054b9a458886866287f1db7a61",
            "max": 1,
            "min": 0,
            "orientation": "horizontal",
            "style": "IPY_MODEL_09fb49f0593e4dd8bea7a68eb1fd0432",
            "value": 1
          }
        },
        "20b336f6f9df4bc796803459855adf23": {
          "model_module": "@jupyter-widgets/controls",
          "model_name": "HTMLModel",
          "model_module_version": "1.5.0",
          "state": {
            "_dom_classes": [],
            "_model_module": "@jupyter-widgets/controls",
            "_model_module_version": "1.5.0",
            "_model_name": "HTMLModel",
            "_view_count": null,
            "_view_module": "@jupyter-widgets/controls",
            "_view_module_version": "1.5.0",
            "_view_name": "HTMLView",
            "description": "",
            "description_tooltip": null,
            "layout": "IPY_MODEL_3d5fe700ade64eada2ec9b930ba06e88",
            "placeholder": "​",
            "style": "IPY_MODEL_5a91fd4b04a34cc697417f2e652b7750",
            "value": " 1/1 [00:00&lt;00:00,  2.87 splits/s]"
          }
        },
        "ed3ec944022f4125be2dd01ac086e1f7": {
          "model_module": "@jupyter-widgets/base",
          "model_name": "LayoutModel",
          "model_module_version": "1.2.0",
          "state": {
            "_model_module": "@jupyter-widgets/base",
            "_model_module_version": "1.2.0",
            "_model_name": "LayoutModel",
            "_view_count": null,
            "_view_module": "@jupyter-widgets/base",
            "_view_module_version": "1.2.0",
            "_view_name": "LayoutView",
            "align_content": null,
            "align_items": null,
            "align_self": null,
            "border": null,
            "bottom": null,
            "display": null,
            "flex": null,
            "flex_flow": null,
            "grid_area": null,
            "grid_auto_columns": null,
            "grid_auto_flow": null,
            "grid_auto_rows": null,
            "grid_column": null,
            "grid_gap": null,
            "grid_row": null,
            "grid_template_areas": null,
            "grid_template_columns": null,
            "grid_template_rows": null,
            "height": null,
            "justify_content": null,
            "justify_items": null,
            "left": null,
            "margin": null,
            "max_height": null,
            "max_width": null,
            "min_height": null,
            "min_width": null,
            "object_fit": null,
            "object_position": null,
            "order": null,
            "overflow": null,
            "overflow_x": null,
            "overflow_y": null,
            "padding": null,
            "right": null,
            "top": null,
            "visibility": "hidden",
            "width": null
          }
        },
        "2b00b731174945d7822cc2ec6631c927": {
          "model_module": "@jupyter-widgets/base",
          "model_name": "LayoutModel",
          "model_module_version": "1.2.0",
          "state": {
            "_model_module": "@jupyter-widgets/base",
            "_model_module_version": "1.2.0",
            "_model_name": "LayoutModel",
            "_view_count": null,
            "_view_module": "@jupyter-widgets/base",
            "_view_module_version": "1.2.0",
            "_view_name": "LayoutView",
            "align_content": null,
            "align_items": null,
            "align_self": null,
            "border": null,
            "bottom": null,
            "display": null,
            "flex": null,
            "flex_flow": null,
            "grid_area": null,
            "grid_auto_columns": null,
            "grid_auto_flow": null,
            "grid_auto_rows": null,
            "grid_column": null,
            "grid_gap": null,
            "grid_row": null,
            "grid_template_areas": null,
            "grid_template_columns": null,
            "grid_template_rows": null,
            "height": null,
            "justify_content": null,
            "justify_items": null,
            "left": null,
            "margin": null,
            "max_height": null,
            "max_width": null,
            "min_height": null,
            "min_width": null,
            "object_fit": null,
            "object_position": null,
            "order": null,
            "overflow": null,
            "overflow_x": null,
            "overflow_y": null,
            "padding": null,
            "right": null,
            "top": null,
            "visibility": null,
            "width": null
          }
        },
        "caddb123f48142a88f937c09fffbe7d2": {
          "model_module": "@jupyter-widgets/controls",
          "model_name": "DescriptionStyleModel",
          "model_module_version": "1.5.0",
          "state": {
            "_model_module": "@jupyter-widgets/controls",
            "_model_module_version": "1.5.0",
            "_model_name": "DescriptionStyleModel",
            "_view_count": null,
            "_view_module": "@jupyter-widgets/base",
            "_view_module_version": "1.2.0",
            "_view_name": "StyleView",
            "description_width": ""
          }
        },
        "5797e0054b9a458886866287f1db7a61": {
          "model_module": "@jupyter-widgets/base",
          "model_name": "LayoutModel",
          "model_module_version": "1.2.0",
          "state": {
            "_model_module": "@jupyter-widgets/base",
            "_model_module_version": "1.2.0",
            "_model_name": "LayoutModel",
            "_view_count": null,
            "_view_module": "@jupyter-widgets/base",
            "_view_module_version": "1.2.0",
            "_view_name": "LayoutView",
            "align_content": null,
            "align_items": null,
            "align_self": null,
            "border": null,
            "bottom": null,
            "display": null,
            "flex": null,
            "flex_flow": null,
            "grid_area": null,
            "grid_auto_columns": null,
            "grid_auto_flow": null,
            "grid_auto_rows": null,
            "grid_column": null,
            "grid_gap": null,
            "grid_row": null,
            "grid_template_areas": null,
            "grid_template_columns": null,
            "grid_template_rows": null,
            "height": null,
            "justify_content": null,
            "justify_items": null,
            "left": null,
            "margin": null,
            "max_height": null,
            "max_width": null,
            "min_height": null,
            "min_width": null,
            "object_fit": null,
            "object_position": null,
            "order": null,
            "overflow": null,
            "overflow_x": null,
            "overflow_y": null,
            "padding": null,
            "right": null,
            "top": null,
            "visibility": null,
            "width": null
          }
        },
        "09fb49f0593e4dd8bea7a68eb1fd0432": {
          "model_module": "@jupyter-widgets/controls",
          "model_name": "ProgressStyleModel",
          "model_module_version": "1.5.0",
          "state": {
            "_model_module": "@jupyter-widgets/controls",
            "_model_module_version": "1.5.0",
            "_model_name": "ProgressStyleModel",
            "_view_count": null,
            "_view_module": "@jupyter-widgets/base",
            "_view_module_version": "1.2.0",
            "_view_name": "StyleView",
            "bar_color": null,
            "description_width": ""
          }
        },
        "3d5fe700ade64eada2ec9b930ba06e88": {
          "model_module": "@jupyter-widgets/base",
          "model_name": "LayoutModel",
          "model_module_version": "1.2.0",
          "state": {
            "_model_module": "@jupyter-widgets/base",
            "_model_module_version": "1.2.0",
            "_model_name": "LayoutModel",
            "_view_count": null,
            "_view_module": "@jupyter-widgets/base",
            "_view_module_version": "1.2.0",
            "_view_name": "LayoutView",
            "align_content": null,
            "align_items": null,
            "align_self": null,
            "border": null,
            "bottom": null,
            "display": null,
            "flex": null,
            "flex_flow": null,
            "grid_area": null,
            "grid_auto_columns": null,
            "grid_auto_flow": null,
            "grid_auto_rows": null,
            "grid_column": null,
            "grid_gap": null,
            "grid_row": null,
            "grid_template_areas": null,
            "grid_template_columns": null,
            "grid_template_rows": null,
            "height": null,
            "justify_content": null,
            "justify_items": null,
            "left": null,
            "margin": null,
            "max_height": null,
            "max_width": null,
            "min_height": null,
            "min_width": null,
            "object_fit": null,
            "object_position": null,
            "order": null,
            "overflow": null,
            "overflow_x": null,
            "overflow_y": null,
            "padding": null,
            "right": null,
            "top": null,
            "visibility": null,
            "width": null
          }
        },
        "5a91fd4b04a34cc697417f2e652b7750": {
          "model_module": "@jupyter-widgets/controls",
          "model_name": "DescriptionStyleModel",
          "model_module_version": "1.5.0",
          "state": {
            "_model_module": "@jupyter-widgets/controls",
            "_model_module_version": "1.5.0",
            "_model_name": "DescriptionStyleModel",
            "_view_count": null,
            "_view_module": "@jupyter-widgets/base",
            "_view_module_version": "1.2.0",
            "_view_name": "StyleView",
            "description_width": ""
          }
        },
        "27213314f643460f906176428d410435": {
          "model_module": "@jupyter-widgets/controls",
          "model_name": "HBoxModel",
          "model_module_version": "1.5.0",
          "state": {
            "_dom_classes": [],
            "_model_module": "@jupyter-widgets/controls",
            "_model_module_version": "1.5.0",
            "_model_name": "HBoxModel",
            "_view_count": null,
            "_view_module": "@jupyter-widgets/controls",
            "_view_module_version": "1.5.0",
            "_view_name": "HBoxView",
            "box_style": "",
            "children": [
              "IPY_MODEL_bbd9ededa8e44f57a44ec7f46b5a8000",
              "IPY_MODEL_2e17579b982a4369b6a26eb6c9e71c99",
              "IPY_MODEL_4c03281b4d724266a786c8df2ad5065e"
            ],
            "layout": "IPY_MODEL_af368448676245a89e157bd67242ab93"
          }
        },
        "bbd9ededa8e44f57a44ec7f46b5a8000": {
          "model_module": "@jupyter-widgets/controls",
          "model_name": "HTMLModel",
          "model_module_version": "1.5.0",
          "state": {
            "_dom_classes": [],
            "_model_module": "@jupyter-widgets/controls",
            "_model_module_version": "1.5.0",
            "_model_name": "HTMLModel",
            "_view_count": null,
            "_view_module": "@jupyter-widgets/controls",
            "_view_module_version": "1.5.0",
            "_view_name": "HTMLView",
            "description": "",
            "description_tooltip": null,
            "layout": "IPY_MODEL_1f30c7e65bd14143b49d348827c61dd7",
            "placeholder": "​",
            "style": "IPY_MODEL_1f9fd05ace014dea98477656d3905b9b",
            "value": "Generating train examples...:  51%"
          }
        },
        "2e17579b982a4369b6a26eb6c9e71c99": {
          "model_module": "@jupyter-widgets/controls",
          "model_name": "FloatProgressModel",
          "model_module_version": "1.5.0",
          "state": {
            "_dom_classes": [],
            "_model_module": "@jupyter-widgets/controls",
            "_model_module_version": "1.5.0",
            "_model_name": "FloatProgressModel",
            "_view_count": null,
            "_view_module": "@jupyter-widgets/controls",
            "_view_module_version": "1.5.0",
            "_view_name": "ProgressView",
            "bar_style": "",
            "description": "",
            "description_tooltip": null,
            "layout": "IPY_MODEL_bb7f50834997470890141a07f34e2a0d",
            "max": 334,
            "min": 0,
            "orientation": "horizontal",
            "style": "IPY_MODEL_a9b54d7aee864ac3b21e0c9cc0c1e072",
            "value": 334
          }
        },
        "4c03281b4d724266a786c8df2ad5065e": {
          "model_module": "@jupyter-widgets/controls",
          "model_name": "HTMLModel",
          "model_module_version": "1.5.0",
          "state": {
            "_dom_classes": [],
            "_model_module": "@jupyter-widgets/controls",
            "_model_module_version": "1.5.0",
            "_model_name": "HTMLModel",
            "_view_count": null,
            "_view_module": "@jupyter-widgets/controls",
            "_view_module_version": "1.5.0",
            "_view_name": "HTMLView",
            "description": "",
            "description_tooltip": null,
            "layout": "IPY_MODEL_fe36242e2aeb44d88978558f8282f2a9",
            "placeholder": "​",
            "style": "IPY_MODEL_614c462e938f444099c6eb89d09d6815",
            "value": " 172/334 [00:00&lt;00:00, 1618.47 examples/s]"
          }
        },
        "af368448676245a89e157bd67242ab93": {
          "model_module": "@jupyter-widgets/base",
          "model_name": "LayoutModel",
          "model_module_version": "1.2.0",
          "state": {
            "_model_module": "@jupyter-widgets/base",
            "_model_module_version": "1.2.0",
            "_model_name": "LayoutModel",
            "_view_count": null,
            "_view_module": "@jupyter-widgets/base",
            "_view_module_version": "1.2.0",
            "_view_name": "LayoutView",
            "align_content": null,
            "align_items": null,
            "align_self": null,
            "border": null,
            "bottom": null,
            "display": null,
            "flex": null,
            "flex_flow": null,
            "grid_area": null,
            "grid_auto_columns": null,
            "grid_auto_flow": null,
            "grid_auto_rows": null,
            "grid_column": null,
            "grid_gap": null,
            "grid_row": null,
            "grid_template_areas": null,
            "grid_template_columns": null,
            "grid_template_rows": null,
            "height": null,
            "justify_content": null,
            "justify_items": null,
            "left": null,
            "margin": null,
            "max_height": null,
            "max_width": null,
            "min_height": null,
            "min_width": null,
            "object_fit": null,
            "object_position": null,
            "order": null,
            "overflow": null,
            "overflow_x": null,
            "overflow_y": null,
            "padding": null,
            "right": null,
            "top": null,
            "visibility": "hidden",
            "width": null
          }
        },
        "1f30c7e65bd14143b49d348827c61dd7": {
          "model_module": "@jupyter-widgets/base",
          "model_name": "LayoutModel",
          "model_module_version": "1.2.0",
          "state": {
            "_model_module": "@jupyter-widgets/base",
            "_model_module_version": "1.2.0",
            "_model_name": "LayoutModel",
            "_view_count": null,
            "_view_module": "@jupyter-widgets/base",
            "_view_module_version": "1.2.0",
            "_view_name": "LayoutView",
            "align_content": null,
            "align_items": null,
            "align_self": null,
            "border": null,
            "bottom": null,
            "display": null,
            "flex": null,
            "flex_flow": null,
            "grid_area": null,
            "grid_auto_columns": null,
            "grid_auto_flow": null,
            "grid_auto_rows": null,
            "grid_column": null,
            "grid_gap": null,
            "grid_row": null,
            "grid_template_areas": null,
            "grid_template_columns": null,
            "grid_template_rows": null,
            "height": null,
            "justify_content": null,
            "justify_items": null,
            "left": null,
            "margin": null,
            "max_height": null,
            "max_width": null,
            "min_height": null,
            "min_width": null,
            "object_fit": null,
            "object_position": null,
            "order": null,
            "overflow": null,
            "overflow_x": null,
            "overflow_y": null,
            "padding": null,
            "right": null,
            "top": null,
            "visibility": null,
            "width": null
          }
        },
        "1f9fd05ace014dea98477656d3905b9b": {
          "model_module": "@jupyter-widgets/controls",
          "model_name": "DescriptionStyleModel",
          "model_module_version": "1.5.0",
          "state": {
            "_model_module": "@jupyter-widgets/controls",
            "_model_module_version": "1.5.0",
            "_model_name": "DescriptionStyleModel",
            "_view_count": null,
            "_view_module": "@jupyter-widgets/base",
            "_view_module_version": "1.2.0",
            "_view_name": "StyleView",
            "description_width": ""
          }
        },
        "bb7f50834997470890141a07f34e2a0d": {
          "model_module": "@jupyter-widgets/base",
          "model_name": "LayoutModel",
          "model_module_version": "1.2.0",
          "state": {
            "_model_module": "@jupyter-widgets/base",
            "_model_module_version": "1.2.0",
            "_model_name": "LayoutModel",
            "_view_count": null,
            "_view_module": "@jupyter-widgets/base",
            "_view_module_version": "1.2.0",
            "_view_name": "LayoutView",
            "align_content": null,
            "align_items": null,
            "align_self": null,
            "border": null,
            "bottom": null,
            "display": null,
            "flex": null,
            "flex_flow": null,
            "grid_area": null,
            "grid_auto_columns": null,
            "grid_auto_flow": null,
            "grid_auto_rows": null,
            "grid_column": null,
            "grid_gap": null,
            "grid_row": null,
            "grid_template_areas": null,
            "grid_template_columns": null,
            "grid_template_rows": null,
            "height": null,
            "justify_content": null,
            "justify_items": null,
            "left": null,
            "margin": null,
            "max_height": null,
            "max_width": null,
            "min_height": null,
            "min_width": null,
            "object_fit": null,
            "object_position": null,
            "order": null,
            "overflow": null,
            "overflow_x": null,
            "overflow_y": null,
            "padding": null,
            "right": null,
            "top": null,
            "visibility": null,
            "width": null
          }
        },
        "a9b54d7aee864ac3b21e0c9cc0c1e072": {
          "model_module": "@jupyter-widgets/controls",
          "model_name": "ProgressStyleModel",
          "model_module_version": "1.5.0",
          "state": {
            "_model_module": "@jupyter-widgets/controls",
            "_model_module_version": "1.5.0",
            "_model_name": "ProgressStyleModel",
            "_view_count": null,
            "_view_module": "@jupyter-widgets/base",
            "_view_module_version": "1.2.0",
            "_view_name": "StyleView",
            "bar_color": null,
            "description_width": ""
          }
        },
        "fe36242e2aeb44d88978558f8282f2a9": {
          "model_module": "@jupyter-widgets/base",
          "model_name": "LayoutModel",
          "model_module_version": "1.2.0",
          "state": {
            "_model_module": "@jupyter-widgets/base",
            "_model_module_version": "1.2.0",
            "_model_name": "LayoutModel",
            "_view_count": null,
            "_view_module": "@jupyter-widgets/base",
            "_view_module_version": "1.2.0",
            "_view_name": "LayoutView",
            "align_content": null,
            "align_items": null,
            "align_self": null,
            "border": null,
            "bottom": null,
            "display": null,
            "flex": null,
            "flex_flow": null,
            "grid_area": null,
            "grid_auto_columns": null,
            "grid_auto_flow": null,
            "grid_auto_rows": null,
            "grid_column": null,
            "grid_gap": null,
            "grid_row": null,
            "grid_template_areas": null,
            "grid_template_columns": null,
            "grid_template_rows": null,
            "height": null,
            "justify_content": null,
            "justify_items": null,
            "left": null,
            "margin": null,
            "max_height": null,
            "max_width": null,
            "min_height": null,
            "min_width": null,
            "object_fit": null,
            "object_position": null,
            "order": null,
            "overflow": null,
            "overflow_x": null,
            "overflow_y": null,
            "padding": null,
            "right": null,
            "top": null,
            "visibility": null,
            "width": null
          }
        },
        "614c462e938f444099c6eb89d09d6815": {
          "model_module": "@jupyter-widgets/controls",
          "model_name": "DescriptionStyleModel",
          "model_module_version": "1.5.0",
          "state": {
            "_model_module": "@jupyter-widgets/controls",
            "_model_module_version": "1.5.0",
            "_model_name": "DescriptionStyleModel",
            "_view_count": null,
            "_view_module": "@jupyter-widgets/base",
            "_view_module_version": "1.2.0",
            "_view_name": "StyleView",
            "description_width": ""
          }
        },
        "b5216948c23d4d6c8520706d93cae612": {
          "model_module": "@jupyter-widgets/controls",
          "model_name": "HBoxModel",
          "model_module_version": "1.5.0",
          "state": {
            "_dom_classes": [],
            "_model_module": "@jupyter-widgets/controls",
            "_model_module_version": "1.5.0",
            "_model_name": "HBoxModel",
            "_view_count": null,
            "_view_module": "@jupyter-widgets/controls",
            "_view_module_version": "1.5.0",
            "_view_name": "HBoxView",
            "box_style": "",
            "children": [
              "IPY_MODEL_17d413b4844440aa9f015fd1b9f1bde2",
              "IPY_MODEL_565d35b033b2475d96ae67e3c341c368",
              "IPY_MODEL_a8f0db9af282491b9a7f2862649f0888"
            ],
            "layout": "IPY_MODEL_fbd30ef3fdad4b44aa01b22a8683df81"
          }
        },
        "17d413b4844440aa9f015fd1b9f1bde2": {
          "model_module": "@jupyter-widgets/controls",
          "model_name": "HTMLModel",
          "model_module_version": "1.5.0",
          "state": {
            "_dom_classes": [],
            "_model_module": "@jupyter-widgets/controls",
            "_model_module_version": "1.5.0",
            "_model_name": "HTMLModel",
            "_view_count": null,
            "_view_module": "@jupyter-widgets/controls",
            "_view_module_version": "1.5.0",
            "_view_name": "HTMLView",
            "description": "",
            "description_tooltip": null,
            "layout": "IPY_MODEL_c42c0d14d1544676adf8f21e1c70925f",
            "placeholder": "​",
            "style": "IPY_MODEL_e532139052b34061bd8f568471369772",
            "value": "Shuffling /root/tensorflow_datasets/penguins/processed/1.0.0.incompleteAB8LWL/penguins-train.tfrecord*...:   0%"
          }
        },
        "565d35b033b2475d96ae67e3c341c368": {
          "model_module": "@jupyter-widgets/controls",
          "model_name": "FloatProgressModel",
          "model_module_version": "1.5.0",
          "state": {
            "_dom_classes": [],
            "_model_module": "@jupyter-widgets/controls",
            "_model_module_version": "1.5.0",
            "_model_name": "FloatProgressModel",
            "_view_count": null,
            "_view_module": "@jupyter-widgets/controls",
            "_view_module_version": "1.5.0",
            "_view_name": "ProgressView",
            "bar_style": "",
            "description": "",
            "description_tooltip": null,
            "layout": "IPY_MODEL_e314d9229e1d4a04a714eef59406430d",
            "max": 334,
            "min": 0,
            "orientation": "horizontal",
            "style": "IPY_MODEL_d2877db8ec1d4815a78a890749179024",
            "value": 334
          }
        },
        "a8f0db9af282491b9a7f2862649f0888": {
          "model_module": "@jupyter-widgets/controls",
          "model_name": "HTMLModel",
          "model_module_version": "1.5.0",
          "state": {
            "_dom_classes": [],
            "_model_module": "@jupyter-widgets/controls",
            "_model_module_version": "1.5.0",
            "_model_name": "HTMLModel",
            "_view_count": null,
            "_view_module": "@jupyter-widgets/controls",
            "_view_module_version": "1.5.0",
            "_view_name": "HTMLView",
            "description": "",
            "description_tooltip": null,
            "layout": "IPY_MODEL_1a945eb4cb9e4befaa0d34953b687a7d",
            "placeholder": "​",
            "style": "IPY_MODEL_ec17e3c5ba234eff959594bf14122393",
            "value": " 0/334 [00:00&lt;?, ? examples/s]"
          }
        },
        "fbd30ef3fdad4b44aa01b22a8683df81": {
          "model_module": "@jupyter-widgets/base",
          "model_name": "LayoutModel",
          "model_module_version": "1.2.0",
          "state": {
            "_model_module": "@jupyter-widgets/base",
            "_model_module_version": "1.2.0",
            "_model_name": "LayoutModel",
            "_view_count": null,
            "_view_module": "@jupyter-widgets/base",
            "_view_module_version": "1.2.0",
            "_view_name": "LayoutView",
            "align_content": null,
            "align_items": null,
            "align_self": null,
            "border": null,
            "bottom": null,
            "display": null,
            "flex": null,
            "flex_flow": null,
            "grid_area": null,
            "grid_auto_columns": null,
            "grid_auto_flow": null,
            "grid_auto_rows": null,
            "grid_column": null,
            "grid_gap": null,
            "grid_row": null,
            "grid_template_areas": null,
            "grid_template_columns": null,
            "grid_template_rows": null,
            "height": null,
            "justify_content": null,
            "justify_items": null,
            "left": null,
            "margin": null,
            "max_height": null,
            "max_width": null,
            "min_height": null,
            "min_width": null,
            "object_fit": null,
            "object_position": null,
            "order": null,
            "overflow": null,
            "overflow_x": null,
            "overflow_y": null,
            "padding": null,
            "right": null,
            "top": null,
            "visibility": "hidden",
            "width": null
          }
        },
        "c42c0d14d1544676adf8f21e1c70925f": {
          "model_module": "@jupyter-widgets/base",
          "model_name": "LayoutModel",
          "model_module_version": "1.2.0",
          "state": {
            "_model_module": "@jupyter-widgets/base",
            "_model_module_version": "1.2.0",
            "_model_name": "LayoutModel",
            "_view_count": null,
            "_view_module": "@jupyter-widgets/base",
            "_view_module_version": "1.2.0",
            "_view_name": "LayoutView",
            "align_content": null,
            "align_items": null,
            "align_self": null,
            "border": null,
            "bottom": null,
            "display": null,
            "flex": null,
            "flex_flow": null,
            "grid_area": null,
            "grid_auto_columns": null,
            "grid_auto_flow": null,
            "grid_auto_rows": null,
            "grid_column": null,
            "grid_gap": null,
            "grid_row": null,
            "grid_template_areas": null,
            "grid_template_columns": null,
            "grid_template_rows": null,
            "height": null,
            "justify_content": null,
            "justify_items": null,
            "left": null,
            "margin": null,
            "max_height": null,
            "max_width": null,
            "min_height": null,
            "min_width": null,
            "object_fit": null,
            "object_position": null,
            "order": null,
            "overflow": null,
            "overflow_x": null,
            "overflow_y": null,
            "padding": null,
            "right": null,
            "top": null,
            "visibility": null,
            "width": null
          }
        },
        "e532139052b34061bd8f568471369772": {
          "model_module": "@jupyter-widgets/controls",
          "model_name": "DescriptionStyleModel",
          "model_module_version": "1.5.0",
          "state": {
            "_model_module": "@jupyter-widgets/controls",
            "_model_module_version": "1.5.0",
            "_model_name": "DescriptionStyleModel",
            "_view_count": null,
            "_view_module": "@jupyter-widgets/base",
            "_view_module_version": "1.2.0",
            "_view_name": "StyleView",
            "description_width": ""
          }
        },
        "e314d9229e1d4a04a714eef59406430d": {
          "model_module": "@jupyter-widgets/base",
          "model_name": "LayoutModel",
          "model_module_version": "1.2.0",
          "state": {
            "_model_module": "@jupyter-widgets/base",
            "_model_module_version": "1.2.0",
            "_model_name": "LayoutModel",
            "_view_count": null,
            "_view_module": "@jupyter-widgets/base",
            "_view_module_version": "1.2.0",
            "_view_name": "LayoutView",
            "align_content": null,
            "align_items": null,
            "align_self": null,
            "border": null,
            "bottom": null,
            "display": null,
            "flex": null,
            "flex_flow": null,
            "grid_area": null,
            "grid_auto_columns": null,
            "grid_auto_flow": null,
            "grid_auto_rows": null,
            "grid_column": null,
            "grid_gap": null,
            "grid_row": null,
            "grid_template_areas": null,
            "grid_template_columns": null,
            "grid_template_rows": null,
            "height": null,
            "justify_content": null,
            "justify_items": null,
            "left": null,
            "margin": null,
            "max_height": null,
            "max_width": null,
            "min_height": null,
            "min_width": null,
            "object_fit": null,
            "object_position": null,
            "order": null,
            "overflow": null,
            "overflow_x": null,
            "overflow_y": null,
            "padding": null,
            "right": null,
            "top": null,
            "visibility": null,
            "width": null
          }
        },
        "d2877db8ec1d4815a78a890749179024": {
          "model_module": "@jupyter-widgets/controls",
          "model_name": "ProgressStyleModel",
          "model_module_version": "1.5.0",
          "state": {
            "_model_module": "@jupyter-widgets/controls",
            "_model_module_version": "1.5.0",
            "_model_name": "ProgressStyleModel",
            "_view_count": null,
            "_view_module": "@jupyter-widgets/base",
            "_view_module_version": "1.2.0",
            "_view_name": "StyleView",
            "bar_color": null,
            "description_width": ""
          }
        },
        "1a945eb4cb9e4befaa0d34953b687a7d": {
          "model_module": "@jupyter-widgets/base",
          "model_name": "LayoutModel",
          "model_module_version": "1.2.0",
          "state": {
            "_model_module": "@jupyter-widgets/base",
            "_model_module_version": "1.2.0",
            "_model_name": "LayoutModel",
            "_view_count": null,
            "_view_module": "@jupyter-widgets/base",
            "_view_module_version": "1.2.0",
            "_view_name": "LayoutView",
            "align_content": null,
            "align_items": null,
            "align_self": null,
            "border": null,
            "bottom": null,
            "display": null,
            "flex": null,
            "flex_flow": null,
            "grid_area": null,
            "grid_auto_columns": null,
            "grid_auto_flow": null,
            "grid_auto_rows": null,
            "grid_column": null,
            "grid_gap": null,
            "grid_row": null,
            "grid_template_areas": null,
            "grid_template_columns": null,
            "grid_template_rows": null,
            "height": null,
            "justify_content": null,
            "justify_items": null,
            "left": null,
            "margin": null,
            "max_height": null,
            "max_width": null,
            "min_height": null,
            "min_width": null,
            "object_fit": null,
            "object_position": null,
            "order": null,
            "overflow": null,
            "overflow_x": null,
            "overflow_y": null,
            "padding": null,
            "right": null,
            "top": null,
            "visibility": null,
            "width": null
          }
        },
        "ec17e3c5ba234eff959594bf14122393": {
          "model_module": "@jupyter-widgets/controls",
          "model_name": "DescriptionStyleModel",
          "model_module_version": "1.5.0",
          "state": {
            "_model_module": "@jupyter-widgets/controls",
            "_model_module_version": "1.5.0",
            "_model_name": "DescriptionStyleModel",
            "_view_count": null,
            "_view_module": "@jupyter-widgets/base",
            "_view_module_version": "1.2.0",
            "_view_name": "StyleView",
            "description_width": ""
          }
        }
      }
    }
  },
  "cells": [
    {
      "cell_type": "markdown",
      "metadata": {
        "id": "view-in-github",
        "colab_type": "text"
      },
      "source": [
        "<a href=\"https://colab.research.google.com/github/davidraamirez/GradientWithoutBackpropagation/blob/main/LogisticRegression_fwd_gradient.ipynb\" target=\"_parent\"><img src=\"https://colab.research.google.com/assets/colab-badge.svg\" alt=\"Open In Colab\"/></a>"
      ]
    },
    {
      "cell_type": "markdown",
      "source": [
        "# **Import the necessary packages**\n"
      ],
      "metadata": {
        "id": "k1jr1JzMgK9Q"
      }
    },
    {
      "cell_type": "code",
      "execution_count": 1,
      "metadata": {
        "id": "Oyi7eax2JnEO"
      },
      "outputs": [],
      "source": [
        "import torch\n",
        "import tensorflow_datasets as tfds\n",
        "from sklearn.model_selection import train_test_split"
      ]
    },
    {
      "cell_type": "code",
      "source": [
        "%pip install torchmetrics --quiet"
      ],
      "metadata": {
        "id": "GVuIq3iFKJ9l",
        "colab": {
          "base_uri": "https://localhost:8080/"
        },
        "outputId": "07ec1183-53d2-4c2a-a658-020c1f31f6f5"
      },
      "execution_count": 2,
      "outputs": [
        {
          "output_type": "stream",
          "name": "stdout",
          "text": [
            "\u001b[?25l     \u001b[90m━━━━━━━━━━━━━━━━━━━━━━━━━━━━━━━━━━━━━━━━\u001b[0m \u001b[32m0.0/517.2 KB\u001b[0m \u001b[31m?\u001b[0m eta \u001b[36m-:--:--\u001b[0m\r\u001b[2K     \u001b[91m━━━━━━━━━━━━━━━━━━━━━━━━━━\u001b[0m\u001b[90m╺\u001b[0m\u001b[90m━━━━━━━━━━━\u001b[0m \u001b[32m358.4/517.2 KB\u001b[0m \u001b[31m10.0 MB/s\u001b[0m eta \u001b[36m0:00:01\u001b[0m\r\u001b[2K     \u001b[90m━━━━━━━━━━━━━━━━━━━━━━━━━━━━━━━━━━━━━━━\u001b[0m \u001b[32m517.2/517.2 KB\u001b[0m \u001b[31m8.6 MB/s\u001b[0m eta \u001b[36m0:00:00\u001b[0m\n",
            "\u001b[?25h"
          ]
        }
      ]
    },
    {
      "cell_type": "code",
      "source": [
        "import torchmetrics\n",
        "import torchvision"
      ],
      "metadata": {
        "id": "E7LCz1JiKMSj"
      },
      "execution_count": 3,
      "outputs": []
    },
    {
      "cell_type": "code",
      "source": [
        "from torch import nn"
      ],
      "metadata": {
        "id": "xBmt572RgVZ0"
      },
      "execution_count": 4,
      "outputs": []
    },
    {
      "cell_type": "code",
      "source": [
        "from functorch import jvp\n",
        "from functools import partial\n",
        "import time "
      ],
      "metadata": {
        "id": "Jb6mbI8LgZKf"
      },
      "execution_count": 5,
      "outputs": []
    },
    {
      "cell_type": "code",
      "source": [
        "import matplotlib.pyplot as plt"
      ],
      "metadata": {
        "id": "leC4BPdGgdx-"
      },
      "execution_count": 6,
      "outputs": []
    },
    {
      "cell_type": "markdown",
      "source": [
        "# **Loading and preprocessing the data**"
      ],
      "metadata": {
        "id": "uclnxVteKfnj"
      }
    },
    {
      "cell_type": "code",
      "source": [
        "#Load the dataset\n",
        "penguins = tfds.load('penguins', as_supervised=True, split='train')"
      ],
      "metadata": {
        "id": "fZMg1kYeKS4U",
        "colab": {
          "base_uri": "https://localhost:8080/",
          "height": 116,
          "referenced_widgets": [
            "788bb46f17504c1caed28ecd345fc9b2",
            "e354a76bb2c54b589c41a97848eebde0",
            "31ab37cbb2b340a7b6b16fa7b849604a",
            "7982cbd195cc44a29e0ea862dfc1c4d7",
            "790602caab98465da9ead8e3af485cd6",
            "34e7f827f9b946b2970d7b1fb7c0bc7c",
            "ef441223b548401ea22d6b4c61b11768",
            "a3264244b0524da0bf3397d0f21a0169",
            "bcae38891afa4275bddd9e1266b310fd",
            "1495c9c572ac4571b4bbd4a0faea48a2",
            "4bbac4c2b2ee4a8eb15706791f13e0da",
            "c1bfb8061f274021ade6ee173503fc05",
            "cb2172d69d5040058a78d2da9073f865",
            "5bcfeef694c342428348bb82192194e3",
            "9a36661f7ea041a2a4268f97fa6e89ca",
            "b11231c2004f441daa12e1b1fda2622d",
            "0241879851104259b869f9c3934fc70b",
            "0e8c06b5b8e848188c255dd261b5d4c2",
            "954cf350df5448e6983b56edea19266e",
            "0f8cbe86cd5b4eed99ad0fc695349ee4",
            "275b3c8e2cb34eeca6c8635b58484fb4",
            "3739543ee0094bb3995dcf2ce2692f29",
            "b60bdf49312f440083e69004bce80be0",
            "ec5d6e3967cd48aea82f16aea3f1fb00",
            "bc15c4ad78b94b96ad2907cfe6aa871d",
            "20b336f6f9df4bc796803459855adf23",
            "ed3ec944022f4125be2dd01ac086e1f7",
            "2b00b731174945d7822cc2ec6631c927",
            "caddb123f48142a88f937c09fffbe7d2",
            "5797e0054b9a458886866287f1db7a61",
            "09fb49f0593e4dd8bea7a68eb1fd0432",
            "3d5fe700ade64eada2ec9b930ba06e88",
            "5a91fd4b04a34cc697417f2e652b7750",
            "27213314f643460f906176428d410435",
            "bbd9ededa8e44f57a44ec7f46b5a8000",
            "2e17579b982a4369b6a26eb6c9e71c99",
            "4c03281b4d724266a786c8df2ad5065e",
            "af368448676245a89e157bd67242ab93",
            "1f30c7e65bd14143b49d348827c61dd7",
            "1f9fd05ace014dea98477656d3905b9b",
            "bb7f50834997470890141a07f34e2a0d",
            "a9b54d7aee864ac3b21e0c9cc0c1e072",
            "fe36242e2aeb44d88978558f8282f2a9",
            "614c462e938f444099c6eb89d09d6815",
            "b5216948c23d4d6c8520706d93cae612",
            "17d413b4844440aa9f015fd1b9f1bde2",
            "565d35b033b2475d96ae67e3c341c368",
            "a8f0db9af282491b9a7f2862649f0888",
            "fbd30ef3fdad4b44aa01b22a8683df81",
            "c42c0d14d1544676adf8f21e1c70925f",
            "e532139052b34061bd8f568471369772",
            "e314d9229e1d4a04a714eef59406430d",
            "d2877db8ec1d4815a78a890749179024",
            "1a945eb4cb9e4befaa0d34953b687a7d",
            "ec17e3c5ba234eff959594bf14122393"
          ]
        },
        "outputId": "3846d42e-b201-411f-c9a4-4c25becb9576"
      },
      "execution_count": 7,
      "outputs": [
        {
          "output_type": "stream",
          "name": "stdout",
          "text": [
            "Downloading and preparing dataset 25.05 KiB (download: 25.05 KiB, generated: 17.61 KiB, total: 42.66 KiB) to /root/tensorflow_datasets/penguins/processed/1.0.0...\n"
          ]
        },
        {
          "output_type": "display_data",
          "data": {
            "text/plain": [
              "Dl Completed...: 0 url [00:00, ? url/s]"
            ],
            "application/vnd.jupyter.widget-view+json": {
              "version_major": 2,
              "version_minor": 0,
              "model_id": "788bb46f17504c1caed28ecd345fc9b2"
            }
          },
          "metadata": {}
        },
        {
          "output_type": "display_data",
          "data": {
            "text/plain": [
              "Dl Size...: 0 MiB [00:00, ? MiB/s]"
            ],
            "application/vnd.jupyter.widget-view+json": {
              "version_major": 2,
              "version_minor": 0,
              "model_id": "c1bfb8061f274021ade6ee173503fc05"
            }
          },
          "metadata": {}
        },
        {
          "output_type": "display_data",
          "data": {
            "text/plain": [
              "Generating splits...:   0%|          | 0/1 [00:00<?, ? splits/s]"
            ],
            "application/vnd.jupyter.widget-view+json": {
              "version_major": 2,
              "version_minor": 0,
              "model_id": "b60bdf49312f440083e69004bce80be0"
            }
          },
          "metadata": {}
        },
        {
          "output_type": "display_data",
          "data": {
            "text/plain": [
              "Generating train examples...:   0%|          | 0/334 [00:00<?, ? examples/s]"
            ],
            "application/vnd.jupyter.widget-view+json": {
              "version_major": 2,
              "version_minor": 0,
              "model_id": "27213314f643460f906176428d410435"
            }
          },
          "metadata": {}
        },
        {
          "output_type": "display_data",
          "data": {
            "text/plain": [
              "Shuffling /root/tensorflow_datasets/penguins/processed/1.0.0.incompleteAB8LWL/penguins-train.tfrecord*...:   0…"
            ],
            "application/vnd.jupyter.widget-view+json": {
              "version_major": 2,
              "version_minor": 0,
              "model_id": "b5216948c23d4d6c8520706d93cae612"
            }
          },
          "metadata": {}
        },
        {
          "output_type": "stream",
          "name": "stdout",
          "text": [
            "Dataset penguins downloaded and prepared to /root/tensorflow_datasets/penguins/processed/1.0.0. Subsequent calls will reuse this data.\n"
          ]
        }
      ]
    },
    {
      "cell_type": "code",
      "source": [
        "X, y = penguins.batch(500).get_single_element()\n",
        "X, y = X.numpy(), y.numpy()"
      ],
      "metadata": {
        "id": "iYKcjgnqzm9C"
      },
      "execution_count": 8,
      "outputs": []
    },
    {
      "cell_type": "code",
      "source": [
        "Xtrain, Xtest, ytrain, ytest = train_test_split(X, y, stratify=y)"
      ],
      "metadata": {
        "id": "ISJ8BgIMLPWX"
      },
      "execution_count": 9,
      "outputs": []
    },
    {
      "cell_type": "code",
      "source": [
        "Xtrain = torch.from_numpy(Xtrain).float()\n",
        "Xtest = torch.from_numpy(Xtest).float()"
      ],
      "metadata": {
        "id": "S3Y0sR080VHJ"
      },
      "execution_count": 10,
      "outputs": []
    },
    {
      "cell_type": "code",
      "source": [
        "ytrain = torch.from_numpy(ytrain).long()\n",
        "ytest = torch.from_numpy(ytest).long()"
      ],
      "metadata": {
        "id": "lBkpViok0YZ4"
      },
      "execution_count": 11,
      "outputs": []
    },
    {
      "cell_type": "markdown",
      "source": [
        "# **Define Logistic Regression**"
      ],
      "metadata": {
        "id": "KJO3tb6HLkD1"
      }
    },
    {
      "cell_type": "code",
      "source": [
        "class SimpleLogisticRegression(nn.Module):\n",
        "  def __init__(self, input_size, w, b):\n",
        "    super().__init__()\n",
        "    self.weight = nn.Parameter(w)\n",
        "    self.bias = nn.Parameter(b)\n",
        "\n",
        "  def forward(self, x):\n",
        "    x = x.reshape(1, -1)\n",
        "    return torch.softmax(x@self.weight + self.bias, 1)"
      ],
      "metadata": {
        "id": "F_qTD2ovLn2Z"
      },
      "execution_count": 12,
      "outputs": []
    },
    {
      "cell_type": "code",
      "source": [
        "# We check if CUDA is available. \n",
        "device = 'cuda' if torch.cuda.is_available() else 'cpu'\n",
        "print(device)"
      ],
      "metadata": {
        "colab": {
          "base_uri": "https://localhost:8080/"
        },
        "id": "J9O-8lwQM3IK",
        "outputId": "d3a0599e-047e-4d9a-fbc6-90dcbdd2c21b"
      },
      "execution_count": 13,
      "outputs": [
        {
          "output_type": "stream",
          "name": "stdout",
          "text": [
            "cuda\n"
          ]
        }
      ]
    },
    {
      "cell_type": "markdown",
      "source": [
        "# **Initialize the parameters**"
      ],
      "metadata": {
        "id": "xANyM4TzM7YU"
      }
    },
    {
      "cell_type": "code",
      "source": [
        "# We initialize the parameters randomly and the model with an input size\n",
        "w = torch.randn((4, 3), requires_grad=False)\n",
        "b = torch.randn((3, ), requires_grad=False)\n",
        "LG = SimpleLogisticRegression(4, w, b).to(device)"
      ],
      "metadata": {
        "id": "Au-0g48hM47D"
      },
      "execution_count": 14,
      "outputs": []
    },
    {
      "cell_type": "code",
      "source": [
        "# We try our model with the first example\n",
        "print(LG(Xtrain[0].to(device)))"
      ],
      "metadata": {
        "colab": {
          "base_uri": "https://localhost:8080/"
        },
        "id": "yc8fw23PNqUQ",
        "outputId": "e932e1de-d2e8-4783-9834-627c0185f9f9"
      },
      "execution_count": 15,
      "outputs": [
        {
          "output_type": "stream",
          "name": "stdout",
          "text": [
            "tensor([[0.4289, 0.0698, 0.5014]], device='cuda:0', grad_fn=<SoftmaxBackward0>)\n"
          ]
        }
      ]
    },
    {
      "cell_type": "markdown",
      "source": [
        "Calculate predictions"
      ],
      "metadata": {
        "id": "VnUzjP_aWCdn"
      }
    },
    {
      "cell_type": "code",
      "source": [
        "def pred(x,w,b):\n",
        "  ypred=torch.randn((x.shape[0],3))\n",
        "  for j in range (x.shape[0]):\n",
        "    xj = x[j].reshape(1, -1)\n",
        "    ypred[j]=torch.softmax(xj@w+b,1)\n",
        "  return ypred"
      ],
      "metadata": {
        "id": "46y6wpZPW0RC"
      },
      "execution_count": 16,
      "outputs": []
    },
    {
      "cell_type": "code",
      "source": [
        "ypred=pred(Xtrain,w,b)"
      ],
      "metadata": {
        "id": "hODWt-gJW4zl"
      },
      "execution_count": 17,
      "outputs": []
    },
    {
      "cell_type": "markdown",
      "source": [
        "# **Define accuracy**"
      ],
      "metadata": {
        "id": "PArBiH_liSeD"
      }
    },
    {
      "cell_type": "code",
      "source": [
        "def accuracy(ytrue, ypred):\n",
        "  return (ypred.argmax(1) == ytrue).float().mean()"
      ],
      "metadata": {
        "id": "wE8-N_zriU2A"
      },
      "execution_count": 18,
      "outputs": []
    },
    {
      "cell_type": "code",
      "source": [
        "# Average accuracy at initialization is 33% (random guessing).\n",
        "accuracy(ytrain.to(device), ypred.to(device))"
      ],
      "metadata": {
        "colab": {
          "base_uri": "https://localhost:8080/"
        },
        "id": "_Bw1HBA6WGES",
        "outputId": "00d5326e-c6b2-4d3e-da3b-eb2183706207"
      },
      "execution_count": 19,
      "outputs": [
        {
          "output_type": "execute_result",
          "data": {
            "text/plain": [
              "tensor(0.7840, device='cuda:0')"
            ]
          },
          "metadata": {},
          "execution_count": 19
        }
      ]
    },
    {
      "cell_type": "markdown",
      "source": [
        "# **Define Cross Entropy**"
      ],
      "metadata": {
        "id": "nZ0xyQDVWli6"
      }
    },
    {
      "cell_type": "markdown",
      "source": [
        "We have defined one cross entropy function for each parameter because we will define later partial functions and the parameters need to be in different order\n",
        "\n",
        "\n",
        "\n",
        "\n",
        "\n"
      ],
      "metadata": {
        "id": "ykUbnhkMiv3i"
      }
    },
    {
      "cell_type": "code",
      "source": [
        "def cross_entropyW(w, ytrue, x, b):\n",
        "  ypred=pred(x,w,b)\n",
        "  ypred = ypred.to(device)\n",
        "  return - ypred[torch.arange(0, ypred.shape[0]), ytrue].log().mean()"
      ],
      "metadata": {
        "id": "et6ncKfAWPqW"
      },
      "execution_count": 20,
      "outputs": []
    },
    {
      "cell_type": "code",
      "source": [
        "def cross_entropyB(b, ytrue, x, w):\n",
        "  ypred=pred(x,w,b)\n",
        "  ypred = ypred.to(device)\n",
        "  return - ypred[torch.arange(0, ypred.shape[0]), ytrue].log().mean()"
      ],
      "metadata": {
        "id": "yZBiK-TlP17y"
      },
      "execution_count": 21,
      "outputs": []
    },
    {
      "cell_type": "code",
      "source": [
        "def cross_entropy(ytrue,ypred):\n",
        "  return - ypred[torch.arange(0, ypred.shape[0]), ytrue].log().mean()"
      ],
      "metadata": {
        "id": "PlkdF5I8aspR"
      },
      "execution_count": 22,
      "outputs": []
    },
    {
      "cell_type": "code",
      "source": [
        "# We check that the output of all the cross extropy functions is the same\n",
        "print(cross_entropyB(b.to(device), ytrain.to(device), Xtrain.to(device), w.to(device)))\n",
        "print(cross_entropyW(w.to(device), ytrain.to(device), Xtrain.to(device), b.to(device)))\n",
        "print(cross_entropy(ytrain.to(device),ypred.to(device)))"
      ],
      "metadata": {
        "id": "x0fdS82PHWxZ",
        "outputId": "1ebffabb-bf1f-4b92-d948-6f457f4b4748",
        "colab": {
          "base_uri": "https://localhost:8080/"
        }
      },
      "execution_count": 24,
      "outputs": [
        {
          "output_type": "stream",
          "name": "stdout",
          "text": [
            "tensor(0.9128, device='cuda:0')\n",
            "tensor(0.9128, device='cuda:0')\n",
            "tensor(0.9128, device='cuda:0')\n"
          ]
        }
      ]
    },
    {
      "cell_type": "markdown",
      "source": [
        "## **Other optimization functions**"
      ],
      "metadata": {
        "id": "yRvKPqRVkcog"
      }
    },
    {
      "cell_type": "code",
      "source": [
        "def beale_function(x):\n",
        "  return (torch.pow(torch.tensor([1.5])-x[0]+x[0]*x[1],2) + torch.pow(torch.tensor([2.25])-x[0]+x[0]*torch.pow(x[1],2),2)+torch.pow(torch.tensor([2.625])-x[0]+x[0]*torch.pow(x[1],3),2))"
      ],
      "metadata": {
        "id": "fW7DIT_bWrAv"
      },
      "execution_count": 25,
      "outputs": []
    },
    {
      "cell_type": "code",
      "source": [
        "def rosenbrock_function(x):\n",
        "  sum=0\n",
        "  for i in range (x.size(0) -1):\n",
        "    sum += (100*torch.pow(x[i+1] - torch.pow(x[i], 2), 2) + torch.pow(1-x[i], 2))\n",
        "  return sum"
      ],
      "metadata": {
        "id": "UWDzjXptWuAH"
      },
      "execution_count": 26,
      "outputs": []
    },
    {
      "cell_type": "code",
      "source": [
        "def sphere_function(x):\n",
        "  sum=0\n",
        "  for i in range(x.size(0)):\n",
        "    sum += torch.pow(x[i], 2)\n",
        "  return sum"
      ],
      "metadata": {
        "id": "aq5uL94Z56hk"
      },
      "execution_count": 27,
      "outputs": []
    },
    {
      "cell_type": "markdown",
      "source": [
        "# **Train and evaluate the network**\n"
      ],
      "metadata": {
        "id": "oxvYduTyk13L"
      }
    },
    {
      "cell_type": "code",
      "source": [
        "def train_fwd_gradient(x, y):\n",
        "  x, y = x.to(device), y.to(device)\n",
        "\n",
        "  losses = [] # Vector with the cross entropy values of test set\n",
        "  accuracies = [] # Vector with the accuracy values of test set\n",
        "  errors=[] # Vector with the number of misclassification of the test set\n",
        "\n",
        "  l_rate0 = 0.2 # Learning rate used \n",
        "\n",
        "  # Initialize the parameters\n",
        "  w = torch.randn((4, 3),requires_grad=False)\n",
        "  b = torch.randn((3, ),requires_grad=False)\n",
        "\n",
        "  w, b = w.to(device), b.to(device)\n",
        "\n",
        "  loss = cross_entropyW(w, y, x, b) # Loss function\n",
        "\n",
        "  # Calculate the start time \n",
        "  t=0\n",
        "  t0=time.time()\n",
        "  print('Time', t, 'loss', loss)\n",
        "\n",
        "  while (loss>0.3) :\n",
        "\n",
        "    # vw and wb are defined as a perturbation vector taken as a multivariate random variable,such that their scalar components vi are independent for all i, and have zero mean and unit variance .\n",
        "\n",
        "    vw=torch.randn(w.shape).to(device)\n",
        "    vw = (vw - torch.mean(vw))/torch.std(vw)\n",
        "    vb=torch.randn(b.shape).to(device)\n",
        "    vb = (vb - torch.mean(vb))/torch.std(vb)\n",
        "\n",
        "    # We define a partial function for each of the parameter\n",
        "    fw = partial(cross_entropyW,ytrue=y, x=x, b=b)\n",
        "    fb = partial(cross_entropyB,ytrue=y, x=x, w=w)\n",
        "\n",
        "    # We compute the cross entropy and the directional derivative of cross entropy at each parameters in direction v, simultaneously and without having to compute ∇cross_entropy in the process\n",
        "    # This is also know as formard-mode autodiff\n",
        "    ftw, dtw = jvp(fw,(w, ), (vw, ))\n",
        "    ftb, dtb = jvp(fb,(b, ), (vb, ))\n",
        "\n",
        "    # We multiply the scalar directional derivative ∇cross_entropy(θ)·v with vector v and obtain g(θ), the forward gradient (where θ represents each one of out parameters)\n",
        "    gtw = vw*dtw\n",
        "    gtb = vb*dtb\n",
        "\n",
        "    # Update the parameters\n",
        "    w -= l_rate0*gtw\n",
        "    b -= l_rate0*gtb\n",
        "\n",
        "    # We calculate the number of misclassification of the test set with the updated model and we add to the errors vector\n",
        "    LG = SimpleLogisticRegression(4, w, b).to(device)\n",
        "    ypredT=torch.randn(Xtest.size(0),3).to(device)\n",
        "    error=0\n",
        "    for i in range (Xtest.size(0)):\n",
        "      ypredT[i]=LG(Xtest[i].to(device))\n",
        "      if (LG(Xtest[i].to(device)).argmax(1)- ytest[i])!=0:\n",
        "        error = error+ 1\n",
        "    \n",
        "    errors.append(error)\n",
        "\n",
        "    # We calculate the accuracy of the test set with the updated model and we add to the accuracy vector\n",
        "    accuracies.append(accuracy(ytest.to(device),ypredT).item())\n",
        "\n",
        "    # We calculate the cross_entropy of the test set with the updated model and we add to the accuracy vector\n",
        "    loss=cross_entropyW(w, y, x, b)\n",
        "    lossT = cross_entropy(ytest,ypredT)\n",
        "    losses.append(lossT.detach().item())\n",
        "\n",
        "    #We add the execution time of the iteration \n",
        "    t1=time.time()\n",
        "    t+=t1-t0\n",
        "    t0=t1\n",
        "\n",
        "    print('Time', t, 'loss', loss)\n",
        "\n",
        "  return w, b,errors,accuracies,losses"
      ],
      "metadata": {
        "id": "1wUCVnwXWzQF"
      },
      "execution_count": 32,
      "outputs": []
    },
    {
      "cell_type": "code",
      "source": [
        "w, b,errors,accuracies,losses = train_fwd_gradient(Xtrain, ytrain)"
      ],
      "metadata": {
        "colab": {
          "base_uri": "https://localhost:8080/"
        },
        "id": "sEXUvtqnMsbD",
        "outputId": "9d5df3de-7a6c-4538-eb77-18faffdfe34a"
      },
      "execution_count": 33,
      "outputs": [
        {
          "output_type": "stream",
          "name": "stdout",
          "text": [
            "Time 0 loss tensor(0.9267, device='cuda:0')\n",
            "Time 0.3168346881866455 loss tensor(0.9129, device='cuda:0')\n",
            "Time 0.6382763385772705 loss tensor(0.9072, device='cuda:0')\n",
            "Time 0.9705853462219238 loss tensor(0.9070, device='cuda:0')\n",
            "Time 1.2909941673278809 loss tensor(0.8922, device='cuda:0')\n",
            "Time 1.6161115169525146 loss tensor(0.8907, device='cuda:0')\n",
            "Time 1.9405479431152344 loss tensor(0.8864, device='cuda:0')\n",
            "Time 2.6707379817962646 loss tensor(0.8802, device='cuda:0')\n",
            "Time 3.0975630283355713 loss tensor(0.8665, device='cuda:0')\n",
            "Time 3.33206844329834 loss tensor(0.8602, device='cuda:0')\n",
            "Time 3.5674643516540527 loss tensor(0.8511, device='cuda:0')\n",
            "Time 3.796959400177002 loss tensor(0.8458, device='cuda:0')\n",
            "Time 4.0353124141693115 loss tensor(0.8457, device='cuda:0')\n",
            "Time 4.271778345108032 loss tensor(0.8439, device='cuda:0')\n",
            "Time 4.50949239730835 loss tensor(0.8377, device='cuda:0')\n",
            "Time 4.742981910705566 loss tensor(0.8239, device='cuda:0')\n",
            "Time 4.980541944503784 loss tensor(0.8211, device='cuda:0')\n",
            "Time 5.223718166351318 loss tensor(0.7958, device='cuda:0')\n",
            "Time 5.46122145652771 loss tensor(0.7758, device='cuda:0')\n",
            "Time 5.695521593093872 loss tensor(0.7750, device='cuda:0')\n",
            "Time 5.933423042297363 loss tensor(0.7748, device='cuda:0')\n",
            "Time 6.181361198425293 loss tensor(0.7728, device='cuda:0')\n",
            "Time 6.414974212646484 loss tensor(0.7724, device='cuda:0')\n",
            "Time 6.650301218032837 loss tensor(0.7663, device='cuda:0')\n",
            "Time 6.883182525634766 loss tensor(0.7456, device='cuda:0')\n",
            "Time 7.127182483673096 loss tensor(0.7450, device='cuda:0')\n",
            "Time 7.371112108230591 loss tensor(0.7374, device='cuda:0')\n",
            "Time 7.61185622215271 loss tensor(0.7370, device='cuda:0')\n",
            "Time 7.856618404388428 loss tensor(0.7321, device='cuda:0')\n",
            "Time 8.096195936203003 loss tensor(0.7199, device='cuda:0')\n",
            "Time 8.33690094947815 loss tensor(0.7176, device='cuda:0')\n",
            "Time 8.576195478439331 loss tensor(0.7164, device='cuda:0')\n",
            "Time 8.812684774398804 loss tensor(0.7083, device='cuda:0')\n",
            "Time 9.047831296920776 loss tensor(0.6792, device='cuda:0')\n",
            "Time 9.295188665390015 loss tensor(0.6782, device='cuda:0')\n",
            "Time 9.530213356018066 loss tensor(0.6774, device='cuda:0')\n",
            "Time 9.765130996704102 loss tensor(0.6767, device='cuda:0')\n",
            "Time 10.004621028900146 loss tensor(0.6741, device='cuda:0')\n",
            "Time 10.245245933532715 loss tensor(0.6740, device='cuda:0')\n",
            "Time 10.481687545776367 loss tensor(0.6734, device='cuda:0')\n",
            "Time 10.708600997924805 loss tensor(0.6725, device='cuda:0')\n",
            "Time 10.943227529525757 loss tensor(0.6688, device='cuda:0')\n",
            "Time 11.18077278137207 loss tensor(0.6569, device='cuda:0')\n",
            "Time 11.428685188293457 loss tensor(0.6559, device='cuda:0')\n",
            "Time 11.66607403755188 loss tensor(0.6497, device='cuda:0')\n",
            "Time 11.908000230789185 loss tensor(0.6472, device='cuda:0')\n",
            "Time 12.147754430770874 loss tensor(0.6465, device='cuda:0')\n",
            "Time 12.396190881729126 loss tensor(0.6384, device='cuda:0')\n",
            "Time 12.684389352798462 loss tensor(0.6371, device='cuda:0')\n",
            "Time 13.008393287658691 loss tensor(0.6361, device='cuda:0')\n",
            "Time 13.346102714538574 loss tensor(0.6347, device='cuda:0')\n",
            "Time 13.673516750335693 loss tensor(0.6286, device='cuda:0')\n",
            "Time 13.98909854888916 loss tensor(0.6269, device='cuda:0')\n",
            "Time 14.333323955535889 loss tensor(0.6228, device='cuda:0')\n",
            "Time 14.69715166091919 loss tensor(0.6174, device='cuda:0')\n",
            "Time 14.95117974281311 loss tensor(0.6164, device='cuda:0')\n",
            "Time 15.184019088745117 loss tensor(0.6150, device='cuda:0')\n",
            "Time 15.425431966781616 loss tensor(0.6145, device='cuda:0')\n",
            "Time 15.660600423812866 loss tensor(0.6022, device='cuda:0')\n",
            "Time 15.893668174743652 loss tensor(0.6005, device='cuda:0')\n",
            "Time 16.130775451660156 loss tensor(0.5960, device='cuda:0')\n",
            "Time 16.378835916519165 loss tensor(0.5958, device='cuda:0')\n",
            "Time 16.615530252456665 loss tensor(0.5927, device='cuda:0')\n",
            "Time 16.846367359161377 loss tensor(0.5921, device='cuda:0')\n",
            "Time 17.090205669403076 loss tensor(0.5913, device='cuda:0')\n",
            "Time 17.341649293899536 loss tensor(0.5835, device='cuda:0')\n",
            "Time 17.576561212539673 loss tensor(0.5829, device='cuda:0')\n",
            "Time 17.81045126914978 loss tensor(0.5824, device='cuda:0')\n",
            "Time 18.049600839614868 loss tensor(0.5821, device='cuda:0')\n",
            "Time 18.29836344718933 loss tensor(0.5797, device='cuda:0')\n",
            "Time 18.5434787273407 loss tensor(0.5793, device='cuda:0')\n",
            "Time 18.77643656730652 loss tensor(0.5790, device='cuda:0')\n",
            "Time 19.01227569580078 loss tensor(0.5761, device='cuda:0')\n",
            "Time 19.255197525024414 loss tensor(0.5743, device='cuda:0')\n",
            "Time 19.499802112579346 loss tensor(0.5708, device='cuda:0')\n",
            "Time 19.739205837249756 loss tensor(0.5645, device='cuda:0')\n",
            "Time 19.976316452026367 loss tensor(0.5645, device='cuda:0')\n",
            "Time 20.209961891174316 loss tensor(0.5642, device='cuda:0')\n",
            "Time 20.45625925064087 loss tensor(0.5603, device='cuda:0')\n",
            "Time 20.692322969436646 loss tensor(0.5594, device='cuda:0')\n",
            "Time 20.92674732208252 loss tensor(0.5565, device='cuda:0')\n",
            "Time 21.164433479309082 loss tensor(0.5518, device='cuda:0')\n",
            "Time 21.406046628952026 loss tensor(0.5431, device='cuda:0')\n",
            "Time 21.639158725738525 loss tensor(0.5429, device='cuda:0')\n",
            "Time 21.871023893356323 loss tensor(0.5400, device='cuda:0')\n",
            "Time 22.107453107833862 loss tensor(0.5398, device='cuda:0')\n",
            "Time 22.342196702957153 loss tensor(0.5396, device='cuda:0')\n",
            "Time 22.5847647190094 loss tensor(0.5353, device='cuda:0')\n",
            "Time 22.81733775138855 loss tensor(0.5304, device='cuda:0')\n",
            "Time 23.05286192893982 loss tensor(0.5269, device='cuda:0')\n",
            "Time 23.291017770767212 loss tensor(0.5268, device='cuda:0')\n",
            "Time 23.53514266014099 loss tensor(0.5256, device='cuda:0')\n",
            "Time 23.770272493362427 loss tensor(0.5249, device='cuda:0')\n",
            "Time 24.005534648895264 loss tensor(0.5248, device='cuda:0')\n",
            "Time 24.245867013931274 loss tensor(0.5143, device='cuda:0')\n",
            "Time 24.487457036972046 loss tensor(0.5113, device='cuda:0')\n",
            "Time 24.72067403793335 loss tensor(0.5097, device='cuda:0')\n",
            "Time 25.066400051116943 loss tensor(0.5079, device='cuda:0')\n",
            "Time 25.389134883880615 loss tensor(0.5062, device='cuda:0')\n",
            "Time 25.721471548080444 loss tensor(0.5032, device='cuda:0')\n",
            "Time 26.046666622161865 loss tensor(0.5021, device='cuda:0')\n",
            "Time 26.36934781074524 loss tensor(0.5017, device='cuda:0')\n",
            "Time 26.735507011413574 loss tensor(0.5015, device='cuda:0')\n",
            "Time 27.055128812789917 loss tensor(0.4985, device='cuda:0')\n",
            "Time 27.295527696609497 loss tensor(0.4981, device='cuda:0')\n",
            "Time 27.532453775405884 loss tensor(0.4980, device='cuda:0')\n",
            "Time 27.770768880844116 loss tensor(0.4978, device='cuda:0')\n",
            "Time 28.006661891937256 loss tensor(0.4959, device='cuda:0')\n",
            "Time 28.24452829360962 loss tensor(0.4888, device='cuda:0')\n",
            "Time 28.508057355880737 loss tensor(0.4884, device='cuda:0')\n",
            "Time 28.76086401939392 loss tensor(0.4878, device='cuda:0')\n",
            "Time 28.999836444854736 loss tensor(0.4874, device='cuda:0')\n",
            "Time 29.241681337356567 loss tensor(0.4872, device='cuda:0')\n",
            "Time 29.485365629196167 loss tensor(0.4865, device='cuda:0')\n",
            "Time 29.734683990478516 loss tensor(0.4810, device='cuda:0')\n",
            "Time 29.978093147277832 loss tensor(0.4792, device='cuda:0')\n",
            "Time 30.217830419540405 loss tensor(0.4790, device='cuda:0')\n",
            "Time 30.455042362213135 loss tensor(0.4784, device='cuda:0')\n",
            "Time 30.69536828994751 loss tensor(0.4784, device='cuda:0')\n",
            "Time 30.92981195449829 loss tensor(0.4760, device='cuda:0')\n",
            "Time 31.16722559928894 loss tensor(0.4756, device='cuda:0')\n",
            "Time 31.402207374572754 loss tensor(0.4716, device='cuda:0')\n",
            "Time 31.664260864257812 loss tensor(0.4696, device='cuda:0')\n",
            "Time 31.916165590286255 loss tensor(0.4687, device='cuda:0')\n",
            "Time 32.160078287124634 loss tensor(0.4672, device='cuda:0')\n",
            "Time 32.395610332489014 loss tensor(0.4607, device='cuda:0')\n",
            "Time 32.631675004959106 loss tensor(0.4600, device='cuda:0')\n",
            "Time 32.868457555770874 loss tensor(0.4590, device='cuda:0')\n",
            "Time 33.10340476036072 loss tensor(0.4589, device='cuda:0')\n",
            "Time 33.33864068984985 loss tensor(0.4584, device='cuda:0')\n",
            "Time 33.57371997833252 loss tensor(0.4559, device='cuda:0')\n",
            "Time 33.82823348045349 loss tensor(0.4554, device='cuda:0')\n",
            "Time 34.07752799987793 loss tensor(0.4552, device='cuda:0')\n",
            "Time 34.31933522224426 loss tensor(0.4535, device='cuda:0')\n",
            "Time 34.56000876426697 loss tensor(0.4534, device='cuda:0')\n",
            "Time 34.81231093406677 loss tensor(0.4531, device='cuda:0')\n",
            "Time 35.05474638938904 loss tensor(0.4524, device='cuda:0')\n",
            "Time 35.29113459587097 loss tensor(0.4521, device='cuda:0')\n",
            "Time 35.53278350830078 loss tensor(0.4510, device='cuda:0')\n",
            "Time 35.780091285705566 loss tensor(0.4501, device='cuda:0')\n",
            "Time 36.022780656814575 loss tensor(0.4498, device='cuda:0')\n",
            "Time 36.26504969596863 loss tensor(0.4457, device='cuda:0')\n",
            "Time 36.50621676445007 loss tensor(0.4456, device='cuda:0')\n",
            "Time 36.74295449256897 loss tensor(0.4452, device='cuda:0')\n",
            "Time 37.00401949882507 loss tensor(0.4451, device='cuda:0')\n",
            "Time 37.34533500671387 loss tensor(0.4450, device='cuda:0')\n",
            "Time 37.669963359832764 loss tensor(0.4448, device='cuda:0')\n",
            "Time 38.007407903671265 loss tensor(0.4393, device='cuda:0')\n",
            "Time 38.32341289520264 loss tensor(0.4385, device='cuda:0')\n",
            "Time 38.64746952056885 loss tensor(0.4350, device='cuda:0')\n",
            "Time 39.014631271362305 loss tensor(0.4344, device='cuda:0')\n",
            "Time 39.34486222267151 loss tensor(0.4339, device='cuda:0')\n",
            "Time 39.58990931510925 loss tensor(0.4338, device='cuda:0')\n",
            "Time 39.832038164138794 loss tensor(0.4338, device='cuda:0')\n",
            "Time 40.07876515388489 loss tensor(0.4332, device='cuda:0')\n",
            "Time 40.32133173942566 loss tensor(0.4316, device='cuda:0')\n",
            "Time 40.56196427345276 loss tensor(0.4311, device='cuda:0')\n",
            "Time 40.79676818847656 loss tensor(0.4311, device='cuda:0')\n",
            "Time 41.04314851760864 loss tensor(0.4307, device='cuda:0')\n",
            "Time 41.278558015823364 loss tensor(0.4303, device='cuda:0')\n",
            "Time 41.520761251449585 loss tensor(0.4286, device='cuda:0')\n",
            "Time 41.76171135902405 loss tensor(0.4278, device='cuda:0')\n",
            "Time 42.00761032104492 loss tensor(0.4276, device='cuda:0')\n",
            "Time 42.25251650810242 loss tensor(0.4269, device='cuda:0')\n",
            "Time 42.49435234069824 loss tensor(0.4258, device='cuda:0')\n",
            "Time 42.73453760147095 loss tensor(0.4200, device='cuda:0')\n",
            "Time 42.976154804229736 loss tensor(0.4195, device='cuda:0')\n",
            "Time 43.21576976776123 loss tensor(0.4188, device='cuda:0')\n",
            "Time 43.45215964317322 loss tensor(0.4170, device='cuda:0')\n",
            "Time 43.692503452301025 loss tensor(0.4149, device='cuda:0')\n",
            "Time 43.93149495124817 loss tensor(0.4145, device='cuda:0')\n",
            "Time 44.181209564208984 loss tensor(0.4139, device='cuda:0')\n",
            "Time 44.41727900505066 loss tensor(0.4130, device='cuda:0')\n",
            "Time 44.65913987159729 loss tensor(0.4121, device='cuda:0')\n",
            "Time 44.89545035362244 loss tensor(0.4114, device='cuda:0')\n",
            "Time 45.14110612869263 loss tensor(0.4093, device='cuda:0')\n",
            "Time 45.38188910484314 loss tensor(0.4078, device='cuda:0')\n",
            "Time 45.62516713142395 loss tensor(0.4065, device='cuda:0')\n",
            "Time 45.865076541900635 loss tensor(0.4054, device='cuda:0')\n",
            "Time 46.11576700210571 loss tensor(0.4042, device='cuda:0')\n",
            "Time 46.357022285461426 loss tensor(0.4042, device='cuda:0')\n",
            "Time 46.60092210769653 loss tensor(0.4015, device='cuda:0')\n",
            "Time 46.851738929748535 loss tensor(0.4001, device='cuda:0')\n",
            "Time 47.09728479385376 loss tensor(0.3981, device='cuda:0')\n",
            "Time 47.33655142784119 loss tensor(0.3980, device='cuda:0')\n",
            "Time 47.577656745910645 loss tensor(0.3978, device='cuda:0')\n",
            "Time 47.81525254249573 loss tensor(0.3968, device='cuda:0')\n",
            "Time 48.06534957885742 loss tensor(0.3949, device='cuda:0')\n",
            "Time 48.30545687675476 loss tensor(0.3939, device='cuda:0')\n",
            "Time 48.54957723617554 loss tensor(0.3936, device='cuda:0')\n",
            "Time 48.79156017303467 loss tensor(0.3933, device='cuda:0')\n",
            "Time 49.04394006729126 loss tensor(0.3925, device='cuda:0')\n",
            "Time 49.31610870361328 loss tensor(0.3923, device='cuda:0')\n",
            "Time 49.66779828071594 loss tensor(0.3919, device='cuda:0')\n",
            "Time 50.014455795288086 loss tensor(0.3919, device='cuda:0')\n",
            "Time 50.35251975059509 loss tensor(0.3915, device='cuda:0')\n",
            "Time 50.6756751537323 loss tensor(0.3913, device='cuda:0')\n",
            "Time 51.00531554222107 loss tensor(0.3909, device='cuda:0')\n",
            "Time 51.36042141914368 loss tensor(0.3895, device='cuda:0')\n",
            "Time 51.66629672050476 loss tensor(0.3884, device='cuda:0')\n",
            "Time 51.901533126831055 loss tensor(0.3879, device='cuda:0')\n",
            "Time 52.3818097114563 loss tensor(0.3873, device='cuda:0')\n",
            "Time 52.86548686027527 loss tensor(0.3861, device='cuda:0')\n",
            "Time 53.10157036781311 loss tensor(0.3849, device='cuda:0')\n",
            "Time 53.34027361869812 loss tensor(0.3839, device='cuda:0')\n",
            "Time 53.57589101791382 loss tensor(0.3830, device='cuda:0')\n",
            "Time 53.815914154052734 loss tensor(0.3825, device='cuda:0')\n",
            "Time 54.050188302993774 loss tensor(0.3823, device='cuda:0')\n",
            "Time 54.3017475605011 loss tensor(0.3810, device='cuda:0')\n",
            "Time 54.54366874694824 loss tensor(0.3774, device='cuda:0')\n",
            "Time 54.78018522262573 loss tensor(0.3772, device='cuda:0')\n",
            "Time 55.020232915878296 loss tensor(0.3764, device='cuda:0')\n",
            "Time 55.26756238937378 loss tensor(0.3753, device='cuda:0')\n",
            "Time 55.508607625961304 loss tensor(0.3751, device='cuda:0')\n",
            "Time 55.74875545501709 loss tensor(0.3732, device='cuda:0')\n",
            "Time 55.98628067970276 loss tensor(0.3731, device='cuda:0')\n",
            "Time 56.23302960395813 loss tensor(0.3713, device='cuda:0')\n",
            "Time 56.47308564186096 loss tensor(0.3703, device='cuda:0')\n",
            "Time 56.71122884750366 loss tensor(0.3701, device='cuda:0')\n",
            "Time 56.94378733634949 loss tensor(0.3688, device='cuda:0')\n",
            "Time 57.182040214538574 loss tensor(0.3659, device='cuda:0')\n",
            "Time 57.431679487228394 loss tensor(0.3655, device='cuda:0')\n",
            "Time 57.66670894622803 loss tensor(0.3654, device='cuda:0')\n",
            "Time 57.89586281776428 loss tensor(0.3653, device='cuda:0')\n",
            "Time 58.14210391044617 loss tensor(0.3650, device='cuda:0')\n",
            "Time 58.387725830078125 loss tensor(0.3632, device='cuda:0')\n",
            "Time 58.649752616882324 loss tensor(0.3616, device='cuda:0')\n",
            "Time 58.89993977546692 loss tensor(0.3592, device='cuda:0')\n",
            "Time 59.14698624610901 loss tensor(0.3587, device='cuda:0')\n",
            "Time 59.40732669830322 loss tensor(0.3581, device='cuda:0')\n",
            "Time 59.65082621574402 loss tensor(0.3579, device='cuda:0')\n",
            "Time 59.8821120262146 loss tensor(0.3576, device='cuda:0')\n",
            "Time 60.11996006965637 loss tensor(0.3573, device='cuda:0')\n",
            "Time 60.36625695228577 loss tensor(0.3572, device='cuda:0')\n",
            "Time 60.59971809387207 loss tensor(0.3564, device='cuda:0')\n",
            "Time 60.83049464225769 loss tensor(0.3559, device='cuda:0')\n",
            "Time 61.060954093933105 loss tensor(0.3551, device='cuda:0')\n",
            "Time 61.30480098724365 loss tensor(0.3550, device='cuda:0')\n",
            "Time 61.564133167266846 loss tensor(0.3528, device='cuda:0')\n",
            "Time 61.897751569747925 loss tensor(0.3524, device='cuda:0')\n",
            "Time 62.22940802574158 loss tensor(0.3501, device='cuda:0')\n",
            "Time 62.563926219940186 loss tensor(0.3484, device='cuda:0')\n",
            "Time 62.87766218185425 loss tensor(0.3473, device='cuda:0')\n",
            "Time 63.21557331085205 loss tensor(0.3450, device='cuda:0')\n",
            "Time 63.56187057495117 loss tensor(0.3447, device='cuda:0')\n",
            "Time 63.88041305541992 loss tensor(0.3435, device='cuda:0')\n",
            "Time 64.1163878440857 loss tensor(0.3411, device='cuda:0')\n",
            "Time 64.35043787956238 loss tensor(0.3410, device='cuda:0')\n",
            "Time 64.59811329841614 loss tensor(0.3409, device='cuda:0')\n",
            "Time 64.84200596809387 loss tensor(0.3406, device='cuda:0')\n",
            "Time 65.07978343963623 loss tensor(0.3405, device='cuda:0')\n",
            "Time 65.32095527648926 loss tensor(0.3404, device='cuda:0')\n",
            "Time 65.56712579727173 loss tensor(0.3403, device='cuda:0')\n",
            "Time 65.80493021011353 loss tensor(0.3395, device='cuda:0')\n",
            "Time 66.03480982780457 loss tensor(0.3393, device='cuda:0')\n",
            "Time 66.27226305007935 loss tensor(0.3391, device='cuda:0')\n",
            "Time 66.5151937007904 loss tensor(0.3387, device='cuda:0')\n",
            "Time 66.74756002426147 loss tensor(0.3385, device='cuda:0')\n",
            "Time 66.98287057876587 loss tensor(0.3370, device='cuda:0')\n",
            "Time 67.2250280380249 loss tensor(0.3369, device='cuda:0')\n",
            "Time 67.4689040184021 loss tensor(0.3369, device='cuda:0')\n",
            "Time 67.71251964569092 loss tensor(0.3351, device='cuda:0')\n",
            "Time 67.94938850402832 loss tensor(0.3347, device='cuda:0')\n",
            "Time 68.19404125213623 loss tensor(0.3332, device='cuda:0')\n",
            "Time 68.4255907535553 loss tensor(0.3322, device='cuda:0')\n",
            "Time 68.67098307609558 loss tensor(0.3302, device='cuda:0')\n",
            "Time 68.9055392742157 loss tensor(0.3297, device='cuda:0')\n",
            "Time 69.14215183258057 loss tensor(0.3296, device='cuda:0')\n",
            "Time 69.81701421737671 loss tensor(0.3285, device='cuda:0')\n",
            "Time 70.04944896697998 loss tensor(0.3280, device='cuda:0')\n",
            "Time 70.28785300254822 loss tensor(0.3248, device='cuda:0')\n",
            "Time 70.52537894248962 loss tensor(0.3248, device='cuda:0')\n",
            "Time 70.76434278488159 loss tensor(0.3247, device='cuda:0')\n",
            "Time 70.99299001693726 loss tensor(0.3246, device='cuda:0')\n",
            "Time 71.23247146606445 loss tensor(0.3224, device='cuda:0')\n",
            "Time 71.49564480781555 loss tensor(0.3224, device='cuda:0')\n",
            "Time 71.74829244613647 loss tensor(0.3222, device='cuda:0')\n",
            "Time 71.98332023620605 loss tensor(0.3193, device='cuda:0')\n",
            "Time 72.21923184394836 loss tensor(0.3191, device='cuda:0')\n",
            "Time 72.45574951171875 loss tensor(0.3159, device='cuda:0')\n",
            "Time 72.7003161907196 loss tensor(0.3154, device='cuda:0')\n",
            "Time 72.93101906776428 loss tensor(0.3154, device='cuda:0')\n",
            "Time 73.1706120967865 loss tensor(0.3151, device='cuda:0')\n",
            "Time 73.40295195579529 loss tensor(0.3149, device='cuda:0')\n",
            "Time 73.63977026939392 loss tensor(0.3133, device='cuda:0')\n",
            "Time 73.9193274974823 loss tensor(0.3129, device='cuda:0')\n",
            "Time 74.2511568069458 loss tensor(0.3127, device='cuda:0')\n",
            "Time 74.57279062271118 loss tensor(0.3113, device='cuda:0')\n",
            "Time 74.9184136390686 loss tensor(0.3113, device='cuda:0')\n",
            "Time 75.24161767959595 loss tensor(0.3112, device='cuda:0')\n",
            "Time 75.56537246704102 loss tensor(0.3110, device='cuda:0')\n",
            "Time 75.92246723175049 loss tensor(0.3105, device='cuda:0')\n",
            "Time 76.2041974067688 loss tensor(0.3103, device='cuda:0')\n",
            "Time 76.44646739959717 loss tensor(0.3081, device='cuda:0')\n",
            "Time 76.69810485839844 loss tensor(0.3079, device='cuda:0')\n",
            "Time 76.94647002220154 loss tensor(0.3077, device='cuda:0')\n",
            "Time 77.19096827507019 loss tensor(0.3077, device='cuda:0')\n",
            "Time 77.42445182800293 loss tensor(0.3069, device='cuda:0')\n",
            "Time 77.6610198020935 loss tensor(0.3069, device='cuda:0')\n",
            "Time 77.90580010414124 loss tensor(0.3063, device='cuda:0')\n",
            "Time 78.14940762519836 loss tensor(0.3062, device='cuda:0')\n",
            "Time 78.39121127128601 loss tensor(0.3059, device='cuda:0')\n",
            "Time 78.63458013534546 loss tensor(0.3041, device='cuda:0')\n",
            "Time 78.88085389137268 loss tensor(0.3036, device='cuda:0')\n",
            "Time 79.13143515586853 loss tensor(0.3028, device='cuda:0')\n",
            "Time 79.37789177894592 loss tensor(0.3024, device='cuda:0')\n",
            "Time 79.61883616447449 loss tensor(0.3024, device='cuda:0')\n",
            "Time 79.89131236076355 loss tensor(0.3023, device='cuda:0')\n",
            "Time 80.13044595718384 loss tensor(0.3020, device='cuda:0')\n",
            "Time 80.3655743598938 loss tensor(0.3019, device='cuda:0')\n",
            "Time 80.61249566078186 loss tensor(0.2997, device='cuda:0')\n"
          ]
        }
      ]
    },
    {
      "cell_type": "code",
      "source": [
        "plt.plot(losses)"
      ],
      "metadata": {
        "id": "yqhSK6H4i5Ll",
        "outputId": "60985895-8185-453e-88ad-5535633960c2",
        "colab": {
          "base_uri": "https://localhost:8080/",
          "height": 282
        }
      },
      "execution_count": 34,
      "outputs": [
        {
          "output_type": "execute_result",
          "data": {
            "text/plain": [
              "[<matplotlib.lines.Line2D at 0x7fae0ede0490>]"
            ]
          },
          "metadata": {},
          "execution_count": 34
        },
        {
          "output_type": "display_data",
          "data": {
            "text/plain": [
              "<Figure size 432x288 with 1 Axes>"
            ],
            "image/png": "[encoded data removed]"
          },
          "metadata": {
            "needs_background": "light"
          }
        }
      ]
    },
    {
      "cell_type": "code",
      "source": [
        "plt.plot(accuracies)"
      ],
      "metadata": {
        "colab": {
          "base_uri": "https://localhost:8080/",
          "height": 282
        },
        "id": "GtBfArSuC9Y8",
        "outputId": "9fffe3ab-883d-4b27-bde3-3655861c5cc8"
      },
      "execution_count": 35,
      "outputs": [
        {
          "output_type": "execute_result",
          "data": {
            "text/plain": [
              "[<matplotlib.lines.Line2D at 0x7fae0e8a69a0>]"
            ]
          },
          "metadata": {},
          "execution_count": 35
        },
        {
          "output_type": "display_data",
          "data": {
            "text/plain": [
              "<Figure size 432x288 with 1 Axes>"
            ],
            "image/png": "[encoded data removed]"
          },
          "metadata": {
            "needs_background": "light"
          }
        }
      ]
    },
    {
      "cell_type": "code",
      "source": [
        "plt.plot(errors)"
      ],
      "metadata": {
        "colab": {
          "base_uri": "https://localhost:8080/",
          "height": 282
        },
        "id": "FbauRNxMYsyf",
        "outputId": "acc374a0-411e-4c7c-c15e-6c491f02a725"
      },
      "execution_count": 36,
      "outputs": [
        {
          "output_type": "execute_result",
          "data": {
            "text/plain": [
              "[<matplotlib.lines.Line2D at 0x7fae0e8850a0>]"
            ]
          },
          "metadata": {},
          "execution_count": 36
        },
        {
          "output_type": "display_data",
          "data": {
            "text/plain": [
              "<Figure size 432x288 with 1 Axes>"
            ],
            "image/png": "[encoded data removed]"
          },
          "metadata": {
            "needs_background": "light"
          }
        }
      ]
    }
  ]
}