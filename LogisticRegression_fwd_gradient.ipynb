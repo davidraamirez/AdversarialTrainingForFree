{
  "nbformat": 4,
  "nbformat_minor": 0,
  "metadata": {
    "colab": {
      "provenance": [],
      "include_colab_link": true
    },
    "kernelspec": {
      "name": "python3",
      "display_name": "Python 3"
    },
    "language_info": {
      "name": "python"
    },
    "accelerator": "GPU",
    "gpuClass": "standard"
  },
  "cells": [
    {
      "cell_type": "markdown",
      "metadata": {
        "id": "view-in-github",
        "colab_type": "text"
      },
      "source": [
        "<a href=\"https://colab.research.google.com/github/davidraamirez/GradientWithoutBackpropagation/blob/main/LogisticRegression_fwd_gradient.ipynb\" target=\"_parent\"><img src=\"https://colab.research.google.com/assets/colab-badge.svg\" alt=\"Open In Colab\"/></a>"
      ]
    },
    {
      "cell_type": "markdown",
      "source": [
        "# **Import the necessary packages**\n"
      ],
      "metadata": {
        "id": "k1jr1JzMgK9Q"
      }
    },
    {
      "cell_type": "code",
      "execution_count": 30,
      "metadata": {
        "id": "Oyi7eax2JnEO"
      },
      "outputs": [],
      "source": [
        "import torch\n",
        "import tensorflow_datasets as tfds\n",
        "from sklearn.model_selection import train_test_split"
      ]
    },
    {
      "cell_type": "code",
      "source": [
        "%pip install torchmetrics --quiet"
      ],
      "metadata": {
        "id": "GVuIq3iFKJ9l"
      },
      "execution_count": 31,
      "outputs": []
    },
    {
      "cell_type": "code",
      "source": [
        "import torchmetrics\n",
        "import torchvision"
      ],
      "metadata": {
        "id": "E7LCz1JiKMSj"
      },
      "execution_count": 32,
      "outputs": []
    },
    {
      "cell_type": "code",
      "source": [
        "from torch import nn"
      ],
      "metadata": {
        "id": "xBmt572RgVZ0"
      },
      "execution_count": 33,
      "outputs": []
    },
    {
      "cell_type": "code",
      "source": [
        "from functorch import jvp\n",
        "from functools import partial\n",
        "import time "
      ],
      "metadata": {
        "id": "Jb6mbI8LgZKf"
      },
      "execution_count": 34,
      "outputs": []
    },
    {
      "cell_type": "code",
      "source": [
        "import matplotlib.pyplot as plt"
      ],
      "metadata": {
        "id": "leC4BPdGgdx-"
      },
      "execution_count": 35,
      "outputs": []
    },
    {
      "cell_type": "markdown",
      "source": [
        "# **Loading and preprocessing the data**"
      ],
      "metadata": {
        "id": "uclnxVteKfnj"
      }
    },
    {
      "cell_type": "code",
      "source": [
        "#Load the dataset\n",
        "penguins = tfds.load('penguins', as_supervised=True, split='train')"
      ],
      "metadata": {
        "id": "fZMg1kYeKS4U"
      },
      "execution_count": 36,
      "outputs": []
    },
    {
      "cell_type": "code",
      "source": [
        "X, y = penguins.batch(500).get_single_element()\n",
        "X, y = X.numpy(), y.numpy()"
      ],
      "metadata": {
        "id": "iYKcjgnqzm9C"
      },
      "execution_count": 37,
      "outputs": []
    },
    {
      "cell_type": "code",
      "source": [
        "Xtrain, Xtest, ytrain, ytest = train_test_split(X, y, stratify=y)"
      ],
      "metadata": {
        "id": "ISJ8BgIMLPWX"
      },
      "execution_count": 38,
      "outputs": []
    },
    {
      "cell_type": "code",
      "source": [
        "Xtrain = torch.from_numpy(Xtrain).float()\n",
        "Xtest = torch.from_numpy(Xtest).float()"
      ],
      "metadata": {
        "id": "S3Y0sR080VHJ"
      },
      "execution_count": 39,
      "outputs": []
    },
    {
      "cell_type": "code",
      "source": [
        "ytrain = torch.from_numpy(ytrain).long()\n",
        "ytest = torch.from_numpy(ytest).long()"
      ],
      "metadata": {
        "id": "lBkpViok0YZ4"
      },
      "execution_count": 40,
      "outputs": []
    },
    {
      "cell_type": "markdown",
      "source": [
        "# **Define Logistic Regression**"
      ],
      "metadata": {
        "id": "KJO3tb6HLkD1"
      }
    },
    {
      "cell_type": "code",
      "source": [
        "class SimpleLogisticRegression(nn.Module):\n",
        "  def __init__(self, input_size, w, b):\n",
        "    super().__init__()\n",
        "    self.weight = nn.Parameter(w)\n",
        "    self.bias = nn.Parameter(b)\n",
        "\n",
        "  def forward(self, x):\n",
        "    x = x.reshape(1, -1)\n",
        "    return torch.softmax(x@self.weight + self.bias, 1)"
      ],
      "metadata": {
        "id": "F_qTD2ovLn2Z"
      },
      "execution_count": 41,
      "outputs": []
    },
    {
      "cell_type": "code",
      "source": [
        "# We check if CUDA is available. \n",
        "device = 'cuda' if torch.cuda.is_available() else 'cpu'\n",
        "print(device)"
      ],
      "metadata": {
        "colab": {
          "base_uri": "https://localhost:8080/"
        },
        "id": "J9O-8lwQM3IK",
        "outputId": "d674db5a-72e9-4538-a9ae-6c9a559be1a6"
      },
      "execution_count": 42,
      "outputs": [
        {
          "output_type": "stream",
          "name": "stdout",
          "text": [
            "cuda\n"
          ]
        }
      ]
    },
    {
      "cell_type": "markdown",
      "source": [
        "# **Initialize the parameters**"
      ],
      "metadata": {
        "id": "xANyM4TzM7YU"
      }
    },
    {
      "cell_type": "code",
      "source": [
        "# We initialize the parameters randomly and the model with an input size\n",
        "w = torch.randn((4, 3), requires_grad=False)\n",
        "b = torch.randn((3, ), requires_grad=False)\n",
        "LG = SimpleLogisticRegression(4, w, b).to(device)"
      ],
      "metadata": {
        "id": "Au-0g48hM47D"
      },
      "execution_count": 43,
      "outputs": []
    },
    {
      "cell_type": "code",
      "source": [
        "# We try our model with the first example\n",
        "print(LG(Xtrain[0].to(device)))"
      ],
      "metadata": {
        "colab": {
          "base_uri": "https://localhost:8080/"
        },
        "id": "yc8fw23PNqUQ",
        "outputId": "0b95495e-03b6-47a2-d6e2-bd90d266a629"
      },
      "execution_count": 44,
      "outputs": [
        {
          "output_type": "stream",
          "name": "stdout",
          "text": [
            "tensor([[0.1460, 0.2167, 0.6373]], device='cuda:0', grad_fn=<SoftmaxBackward0>)\n"
          ]
        }
      ]
    },
    {
      "cell_type": "markdown",
      "source": [
        "Calculate predictions"
      ],
      "metadata": {
        "id": "VnUzjP_aWCdn"
      }
    },
    {
      "cell_type": "code",
      "source": [
        "def pred(x,w,b):\n",
        "  ypred=torch.randn((x.shape[0],3))\n",
        "  for j in range (x.shape[0]):\n",
        "    xj = x[j].reshape(1, -1)\n",
        "    ypred[j]=torch.softmax(xj@w+b,1)\n",
        "  return ypred"
      ],
      "metadata": {
        "id": "46y6wpZPW0RC"
      },
      "execution_count": 45,
      "outputs": []
    },
    {
      "cell_type": "code",
      "source": [
        "ypred=pred(Xtrain,w,b)"
      ],
      "metadata": {
        "id": "hODWt-gJW4zl"
      },
      "execution_count": 46,
      "outputs": []
    },
    {
      "cell_type": "markdown",
      "source": [
        "# **Define accuracy**"
      ],
      "metadata": {
        "id": "PArBiH_liSeD"
      }
    },
    {
      "cell_type": "code",
      "source": [
        "def accuracy(ytrue, ypred):\n",
        "  return (ypred.argmax(1) == ytrue).float().mean()"
      ],
      "metadata": {
        "id": "wE8-N_zriU2A"
      },
      "execution_count": 47,
      "outputs": []
    },
    {
      "cell_type": "code",
      "source": [
        "# Average accuracy at initialization is 33% (random guessing).\n",
        "accuracy(ytrain.to(device), ypred.to(device))"
      ],
      "metadata": {
        "colab": {
          "base_uri": "https://localhost:8080/"
        },
        "id": "_Bw1HBA6WGES",
        "outputId": "1e53427f-8dba-4da3-cffd-b225a1aac8cd"
      },
      "execution_count": 48,
      "outputs": [
        {
          "output_type": "execute_result",
          "data": {
            "text/plain": [
              "tensor(0.3680, device='cuda:0')"
            ]
          },
          "metadata": {},
          "execution_count": 48
        }
      ]
    },
    {
      "cell_type": "markdown",
      "source": [
        "# **Define Cross Entropy**"
      ],
      "metadata": {
        "id": "nZ0xyQDVWli6"
      }
    },
    {
      "cell_type": "markdown",
      "source": [
        "We have defined one cross entropy function for each parameter because we will define later partial functions and the parameters need to be in different order\n",
        "\n",
        "\n",
        "\n",
        "\n",
        "\n"
      ],
      "metadata": {
        "id": "ykUbnhkMiv3i"
      }
    },
    {
      "cell_type": "code",
      "source": [
        "def cross_entropyW(w, ytrue, x, b):\n",
        "  ypred=pred(x,w,b)\n",
        "  ypred = ypred.to(device)\n",
        "  return - ypred[torch.arange(0, ypred.shape[0]), ytrue].log().mean()"
      ],
      "metadata": {
        "id": "et6ncKfAWPqW"
      },
      "execution_count": 49,
      "outputs": []
    },
    {
      "cell_type": "code",
      "source": [
        "def cross_entropyB(b, ytrue, x, w):\n",
        "  ypred=pred(x,w,b)\n",
        "  ypred = ypred.to(device)\n",
        "  return - ypred[torch.arange(0, ypred.shape[0]), ytrue].log().mean()"
      ],
      "metadata": {
        "id": "yZBiK-TlP17y"
      },
      "execution_count": 50,
      "outputs": []
    },
    {
      "cell_type": "code",
      "source": [
        "def cross_entropy(ytrue,ypred):\n",
        "  return - ypred[torch.arange(0, ypred.shape[0]), ytrue].log().mean()"
      ],
      "metadata": {
        "id": "PlkdF5I8aspR"
      },
      "execution_count": 51,
      "outputs": []
    },
    {
      "cell_type": "code",
      "source": [
        "# We check that the output of all the cross extropy functions is the same\n",
        "print(cross_entropyB(b.to(device), ytrain.to(device), Xtrain.to(device), w.to(device)))\n",
        "print(cross_entropyW(w.to(device), ytrain.to(device), Xtrain.to(device), b.to(device)))\n",
        "print(cross_entropy(ytrain.to(device),ypred.to(device)))"
      ],
      "metadata": {
        "id": "x0fdS82PHWxZ",
        "outputId": "c82f9bf8-7abc-4d98-91b3-fc409313c2f3",
        "colab": {
          "base_uri": "https://localhost:8080/"
        }
      },
      "execution_count": 52,
      "outputs": [
        {
          "output_type": "stream",
          "name": "stdout",
          "text": [
            "tensor(1.0792, device='cuda:0')\n",
            "tensor(1.0792, device='cuda:0')\n",
            "tensor(1.0792, device='cuda:0')\n"
          ]
        }
      ]
    },
    {
      "cell_type": "markdown",
      "source": [
        "## **Other optimization functions**"
      ],
      "metadata": {
        "id": "yRvKPqRVkcog"
      }
    },
    {
      "cell_type": "code",
      "source": [
        "def beale_function(x):\n",
        "  return (torch.pow(torch.tensor([1.5])-x[0]+x[0]*x[1],2) + torch.pow(torch.tensor([2.25])-x[0]+x[0]*torch.pow(x[1],2),2)+torch.pow(torch.tensor([2.625])-x[0]+x[0]*torch.pow(x[1],3),2))"
      ],
      "metadata": {
        "id": "fW7DIT_bWrAv"
      },
      "execution_count": 53,
      "outputs": []
    },
    {
      "cell_type": "code",
      "source": [
        "def rosenbrock_function(x):\n",
        "  sum=0\n",
        "  for i in range (x.size(0) -1):\n",
        "    sum += (100*torch.pow(x[i+1] - torch.pow(x[i], 2), 2) + torch.pow(1-x[i], 2))\n",
        "  return sum"
      ],
      "metadata": {
        "id": "UWDzjXptWuAH"
      },
      "execution_count": 54,
      "outputs": []
    },
    {
      "cell_type": "code",
      "source": [
        "def sphere_function(x):\n",
        "  sum=0\n",
        "  for i in range(x.size(0)):\n",
        "    sum += torch.pow(x[i], 2)\n",
        "  return sum"
      ],
      "metadata": {
        "id": "aq5uL94Z56hk"
      },
      "execution_count": 55,
      "outputs": []
    },
    {
      "cell_type": "markdown",
      "source": [
        "# **Train and evaluate the network**\n"
      ],
      "metadata": {
        "id": "oxvYduTyk13L"
      }
    },
    {
      "cell_type": "code",
      "source": [
        "def train_fwd_gradient(x, y):\n",
        "  x, y = x.to(device), y.to(device)\n",
        "\n",
        "  losses = [] # Vector with the cross entropy values of test set\n",
        "  accuracies = [] # Vector with the accuracy values of test set\n",
        "  errors=[] # Vector with the number of misclassification of the test set\n",
        "\n",
        "  l_rate0 = 0.2 # Learning rate used \n",
        "\n",
        "  # Initialize the parameters\n",
        "  w = torch.randn((4, 3),requires_grad=False)\n",
        "  b = torch.randn((3, ),requires_grad=False)\n",
        "\n",
        "  w, b = w.to(device), b.to(device)\n",
        "\n",
        "  loss = cross_entropyW(w, y, x, b) # Loss function\n",
        "\n",
        "  # Calculate the start time \n",
        "  t=0\n",
        "  t0=time.time()\n",
        "  print('Time', t, 'loss', loss)\n",
        "\n",
        "  while (loss>0.3) :\n",
        "\n",
        "    # vw and wb are defined as a perturbation vector taken as a multivariate random variable,such that their scalar components vi are independent for all i, and have zero mean and unit variance .\n",
        "\n",
        "    vw=torch.randn(w.shape).to(device)\n",
        "    vw = (vw - torch.mean(vw))/torch.std(vw)\n",
        "    vb=torch.randn(b.shape).to(device)\n",
        "    vb = (vb - torch.mean(vb))/torch.std(vb)\n",
        "\n",
        "    # We define a partial function for each of the parameter\n",
        "    fw = partial(cross_entropyW,ytrue=y, x=x, b=b)\n",
        "    fb = partial(cross_entropyB,ytrue=y, x=x, w=w)\n",
        "\n",
        "    # We compute the cross entropy and the directional derivative of cross entropy at each parameters in direction v, simultaneously and without having to compute ∇cross_entropy in the process\n",
        "    # This is also know as formard-mode autodiff\n",
        "    ftw, dtw = jvp(fw,(w, ), (vw, ))\n",
        "    ftb, dtb = jvp(fb,(b, ), (vb, ))\n",
        "\n",
        "    # We multiply the scalar directional derivative ∇cross_entropy(θ)·v with vector v and obtain g(θ), the forward gradient (where θ represents each one of out parameters)\n",
        "    gtw = vw*dtw\n",
        "    gtb = vb*dtb\n",
        "\n",
        "    # Update the parameters\n",
        "    w -= l_rate0*gtw\n",
        "    b -= l_rate0*gtb\n",
        "\n",
        "    # We calculate the number of misclassification of the test set with the updated model and we add to the errors vector\n",
        "    LG = SimpleLogisticRegression(4, w, b).to(device)\n",
        "    ypredT=torch.randn(Xtest.size(0),3).to(device)\n",
        "    error=0\n",
        "    for i in range (Xtest.size(0)):\n",
        "      ypredT[i]=LG(Xtest[i].to(device))\n",
        "      if (LG(Xtest[i].to(device)).argmax(1)- ytest[i])!=0:\n",
        "        error = error+ 1\n",
        "    \n",
        "    errors.append(error)\n",
        "\n",
        "    # We calculate the accuracy of the test set with the updated model and we add to the accuracy vector\n",
        "    accuracies.append(accuracy(ytest.to(device),ypredT).item())\n",
        "\n",
        "    # We calculate the cross_entropy of the test set with the updated model and we add to the accuracy vector\n",
        "    loss=cross_entropyW(w, y, x, b)\n",
        "    lossT = cross_entropy(ytest,ypredT)\n",
        "    losses.append(lossT.detach().item())\n",
        "\n",
        "    #We add the execution time of the iteration \n",
        "    t1=time.time()\n",
        "    t+=t1-t0\n",
        "    t0=t1\n",
        "\n",
        "    print('Time', t, 'loss', loss)\n",
        "\n",
        "  return w, b,errors,accuracies,losses"
      ],
      "metadata": {
        "id": "1wUCVnwXWzQF"
      },
      "execution_count": 56,
      "outputs": []
    },
    {
      "cell_type": "code",
      "source": [
        "w, b,errors,accuracies,losses = train_fwd_gradient(Xtrain, ytrain)"
      ],
      "metadata": {
        "colab": {
          "base_uri": "https://localhost:8080/"
        },
        "id": "sEXUvtqnMsbD",
        "outputId": "66a9784e-de51-4f2f-8c27-63c365b3e38a"
      },
      "execution_count": 57,
      "outputs": [
        {
          "output_type": "stream",
          "name": "stdout",
          "text": [
            "Time 0 loss tensor(0.8225, device='cuda:0')\n",
            "Time 0.2608201503753662 loss tensor(0.8036, device='cuda:0')\n",
            "Time 0.49327540397644043 loss tensor(0.7562, device='cuda:0')\n",
            "Time 0.7341439723968506 loss tensor(0.7427, device='cuda:0')\n",
            "Time 1.1247165203094482 loss tensor(0.7388, device='cuda:0')\n",
            "Time 1.364177942276001 loss tensor(0.7385, device='cuda:0')\n",
            "Time 1.6174049377441406 loss tensor(0.6957, device='cuda:0')\n",
            "Time 1.8585102558135986 loss tensor(0.6939, device='cuda:0')\n",
            "Time 2.108551502227783 loss tensor(0.6919, device='cuda:0')\n",
            "Time 2.348875045776367 loss tensor(0.6889, device='cuda:0')\n",
            "Time 2.706528425216675 loss tensor(0.6851, device='cuda:0')\n",
            "Time 2.996128797531128 loss tensor(0.6825, device='cuda:0')\n",
            "Time 3.3937783241271973 loss tensor(0.6742, device='cuda:0')\n",
            "Time 3.7354395389556885 loss tensor(0.6740, device='cuda:0')\n",
            "Time 4.072047472000122 loss tensor(0.6737, device='cuda:0')\n",
            "Time 4.398732662200928 loss tensor(0.6730, device='cuda:0')\n",
            "Time 4.728491306304932 loss tensor(0.6638, device='cuda:0')\n",
            "Time 5.3410539627075195 loss tensor(0.6631, device='cuda:0')\n",
            "Time 5.7425761222839355 loss tensor(0.6548, device='cuda:0')\n",
            "Time 6.114333391189575 loss tensor(0.6496, device='cuda:0')\n",
            "Time 6.613417148590088 loss tensor(0.6475, device='cuda:0')\n",
            "Time 7.010228395462036 loss tensor(0.6469, device='cuda:0')\n",
            "Time 7.5331130027771 loss tensor(0.6464, device='cuda:0')\n",
            "Time 7.954988241195679 loss tensor(0.6461, device='cuda:0')\n",
            "Time 8.421124458312988 loss tensor(0.6457, device='cuda:0')\n",
            "Time 8.878137350082397 loss tensor(0.6454, device='cuda:0')\n",
            "Time 9.424222707748413 loss tensor(0.6437, device='cuda:0')\n",
            "Time 9.87950086593628 loss tensor(0.6434, device='cuda:0')\n",
            "Time 10.266011714935303 loss tensor(0.6345, device='cuda:0')\n",
            "Time 10.730119228363037 loss tensor(0.6301, device='cuda:0')\n",
            "Time 11.172378301620483 loss tensor(0.6289, device='cuda:0')\n",
            "Time 11.634471654891968 loss tensor(0.6282, device='cuda:0')\n",
            "Time 12.049850702285767 loss tensor(0.6238, device='cuda:0')\n",
            "Time 12.535568475723267 loss tensor(0.6214, device='cuda:0')\n",
            "Time 12.970431089401245 loss tensor(0.6204, device='cuda:0')\n",
            "Time 13.43449354171753 loss tensor(0.6182, device='cuda:0')\n",
            "Time 13.932835102081299 loss tensor(0.6116, device='cuda:0')\n",
            "Time 14.541176557540894 loss tensor(0.6095, device='cuda:0')\n",
            "Time 15.058244466781616 loss tensor(0.6015, device='cuda:0')\n",
            "Time 16.129926443099976 loss tensor(0.6006, device='cuda:0')\n",
            "Time 17.03120732307434 loss tensor(0.5974, device='cuda:0')\n",
            "Time 17.929023265838623 loss tensor(0.5969, device='cuda:0')\n",
            "Time 18.64629602432251 loss tensor(0.5931, device='cuda:0')\n",
            "Time 19.317569494247437 loss tensor(0.5928, device='cuda:0')\n",
            "Time 19.77463150024414 loss tensor(0.5913, device='cuda:0')\n",
            "Time 20.227909326553345 loss tensor(0.5847, device='cuda:0')\n",
            "Time 20.734980821609497 loss tensor(0.5844, device='cuda:0')\n",
            "Time 21.313843250274658 loss tensor(0.5841, device='cuda:0')\n",
            "Time 22.16984248161316 loss tensor(0.5840, device='cuda:0')\n",
            "Time 22.463412523269653 loss tensor(0.5778, device='cuda:0')\n",
            "Time 22.69832682609558 loss tensor(0.5777, device='cuda:0')\n",
            "Time 22.942270278930664 loss tensor(0.5761, device='cuda:0')\n",
            "Time 23.18291473388672 loss tensor(0.5705, device='cuda:0')\n",
            "Time 23.428837537765503 loss tensor(0.5698, device='cuda:0')\n",
            "Time 23.664454221725464 loss tensor(0.5658, device='cuda:0')\n",
            "Time 23.911598920822144 loss tensor(0.5624, device='cuda:0')\n",
            "Time 24.15584635734558 loss tensor(0.5623, device='cuda:0')\n",
            "Time 24.406431198120117 loss tensor(0.5620, device='cuda:0')\n",
            "Time 24.648155450820923 loss tensor(0.5619, device='cuda:0')\n",
            "Time 24.895582914352417 loss tensor(0.5618, device='cuda:0')\n",
            "Time 25.139680862426758 loss tensor(0.5561, device='cuda:0')\n",
            "Time 25.378186464309692 loss tensor(0.5560, device='cuda:0')\n",
            "Time 25.61920475959778 loss tensor(0.5544, device='cuda:0')\n",
            "Time 25.869173288345337 loss tensor(0.5519, device='cuda:0')\n",
            "Time 26.11330819129944 loss tensor(0.5498, device='cuda:0')\n",
            "Time 26.364726305007935 loss tensor(0.5404, device='cuda:0')\n",
            "Time 26.60973310470581 loss tensor(0.5388, device='cuda:0')\n",
            "Time 26.852433443069458 loss tensor(0.5347, device='cuda:0')\n",
            "Time 27.095981121063232 loss tensor(0.5326, device='cuda:0')\n",
            "Time 27.343944787979126 loss tensor(0.5307, device='cuda:0')\n",
            "Time 27.577633142471313 loss tensor(0.5304, device='cuda:0')\n",
            "Time 27.81643795967102 loss tensor(0.5279, device='cuda:0')\n",
            "Time 28.05286455154419 loss tensor(0.5275, device='cuda:0')\n",
            "Time 28.357518196105957 loss tensor(0.5263, device='cuda:0')\n",
            "Time 28.68787908554077 loss tensor(0.5244, device='cuda:0')\n",
            "Time 29.02014470100403 loss tensor(0.5186, device='cuda:0')\n",
            "Time 29.356800079345703 loss tensor(0.5152, device='cuda:0')\n",
            "Time 29.672996282577515 loss tensor(0.5151, device='cuda:0')\n",
            "Time 30.00392436981201 loss tensor(0.5109, device='cuda:0')\n",
            "Time 30.362054347991943 loss tensor(0.5099, device='cuda:0')\n",
            "Time 30.62816596031189 loss tensor(0.5095, device='cuda:0')\n",
            "Time 30.85711908340454 loss tensor(0.5071, device='cuda:0')\n",
            "Time 31.09531283378601 loss tensor(0.5009, device='cuda:0')\n",
            "Time 31.33550786972046 loss tensor(0.5005, device='cuda:0')\n",
            "Time 31.568281888961792 loss tensor(0.4999, device='cuda:0')\n",
            "Time 31.810319185256958 loss tensor(0.4988, device='cuda:0')\n",
            "Time 32.055323123931885 loss tensor(0.4978, device='cuda:0')\n",
            "Time 32.2981915473938 loss tensor(0.4977, device='cuda:0')\n",
            "Time 32.53275775909424 loss tensor(0.4976, device='cuda:0')\n",
            "Time 32.769912004470825 loss tensor(0.4910, device='cuda:0')\n",
            "Time 33.00595259666443 loss tensor(0.4900, device='cuda:0')\n",
            "Time 33.248440742492676 loss tensor(0.4889, device='cuda:0')\n",
            "Time 33.49858903884888 loss tensor(0.4888, device='cuda:0')\n",
            "Time 33.74583292007446 loss tensor(0.4843, device='cuda:0')\n",
            "Time 33.99418902397156 loss tensor(0.4825, device='cuda:0')\n",
            "Time 34.25677037239075 loss tensor(0.4824, device='cuda:0')\n",
            "Time 34.499157190322876 loss tensor(0.4821, device='cuda:0')\n",
            "Time 34.756582260131836 loss tensor(0.4816, device='cuda:0')\n",
            "Time 34.9975380897522 loss tensor(0.4797, device='cuda:0')\n",
            "Time 35.24628305435181 loss tensor(0.4768, device='cuda:0')\n",
            "Time 35.49588179588318 loss tensor(0.4734, device='cuda:0')\n",
            "Time 35.73698544502258 loss tensor(0.4726, device='cuda:0')\n",
            "Time 35.96899962425232 loss tensor(0.4702, device='cuda:0')\n",
            "Time 36.21108555793762 loss tensor(0.4698, device='cuda:0')\n",
            "Time 36.452736377716064 loss tensor(0.4694, device='cuda:0')\n",
            "Time 36.6848201751709 loss tensor(0.4681, device='cuda:0')\n",
            "Time 36.915648460388184 loss tensor(0.4677, device='cuda:0')\n",
            "Time 37.15859603881836 loss tensor(0.4676, device='cuda:0')\n",
            "Time 37.4046413898468 loss tensor(0.4635, device='cuda:0')\n",
            "Time 37.64103412628174 loss tensor(0.4628, device='cuda:0')\n",
            "Time 37.889535665512085 loss tensor(0.4604, device='cuda:0')\n",
            "Time 38.136168479919434 loss tensor(0.4603, device='cuda:0')\n",
            "Time 38.38749027252197 loss tensor(0.4567, device='cuda:0')\n",
            "Time 38.624669790267944 loss tensor(0.4553, device='cuda:0')\n",
            "Time 38.86023211479187 loss tensor(0.4549, device='cuda:0')\n",
            "Time 39.10435247421265 loss tensor(0.4543, device='cuda:0')\n",
            "Time 39.352168798446655 loss tensor(0.4535, device='cuda:0')\n",
            "Time 39.59508943557739 loss tensor(0.4534, device='cuda:0')\n",
            "Time 39.828107595443726 loss tensor(0.4520, device='cuda:0')\n",
            "Time 40.05902409553528 loss tensor(0.4516, device='cuda:0')\n",
            "Time 40.30657482147217 loss tensor(0.4515, device='cuda:0')\n",
            "Time 40.60067677497864 loss tensor(0.4507, device='cuda:0')\n",
            "Time 40.94734311103821 loss tensor(0.4504, device='cuda:0')\n",
            "Time 41.27418756484985 loss tensor(0.4502, device='cuda:0')\n",
            "Time 41.610572814941406 loss tensor(0.4488, device='cuda:0')\n",
            "Time 41.923702001571655 loss tensor(0.4486, device='cuda:0')\n",
            "Time 42.25665640830994 loss tensor(0.4480, device='cuda:0')\n",
            "Time 42.61651611328125 loss tensor(0.4454, device='cuda:0')\n",
            "Time 42.888367652893066 loss tensor(0.4444, device='cuda:0')\n",
            "Time 43.12614393234253 loss tensor(0.4443, device='cuda:0')\n",
            "Time 43.3722562789917 loss tensor(0.4443, device='cuda:0')\n",
            "Time 43.61298108100891 loss tensor(0.4405, device='cuda:0')\n",
            "Time 43.85262060165405 loss tensor(0.4401, device='cuda:0')\n",
            "Time 44.09276270866394 loss tensor(0.4391, device='cuda:0')\n",
            "Time 44.33827781677246 loss tensor(0.4387, device='cuda:0')\n",
            "Time 44.58173584938049 loss tensor(0.4386, device='cuda:0')\n",
            "Time 44.81551218032837 loss tensor(0.4352, device='cuda:0')\n",
            "Time 45.05048060417175 loss tensor(0.4340, device='cuda:0')\n",
            "Time 45.29669690132141 loss tensor(0.4340, device='cuda:0')\n",
            "Time 45.55623984336853 loss tensor(0.4288, device='cuda:0')\n",
            "Time 45.79307293891907 loss tensor(0.4288, device='cuda:0')\n",
            "Time 46.03002691268921 loss tensor(0.4287, device='cuda:0')\n",
            "Time 46.27096438407898 loss tensor(0.4280, device='cuda:0')\n",
            "Time 46.51580309867859 loss tensor(0.4276, device='cuda:0')\n",
            "Time 46.760002851486206 loss tensor(0.4276, device='cuda:0')\n",
            "Time 46.992897510528564 loss tensor(0.4274, device='cuda:0')\n",
            "Time 47.2370970249176 loss tensor(0.4242, device='cuda:0')\n",
            "Time 47.48424792289734 loss tensor(0.4231, device='cuda:0')\n",
            "Time 47.72496581077576 loss tensor(0.4217, device='cuda:0')\n",
            "Time 47.962198972702026 loss tensor(0.4204, device='cuda:0')\n",
            "Time 48.197835206985474 loss tensor(0.4204, device='cuda:0')\n",
            "Time 48.44924545288086 loss tensor(0.4169, device='cuda:0')\n",
            "Time 48.68906092643738 loss tensor(0.4168, device='cuda:0')\n",
            "Time 48.92586851119995 loss tensor(0.4166, device='cuda:0')\n",
            "Time 49.158628702163696 loss tensor(0.4165, device='cuda:0')\n",
            "Time 49.414149045944214 loss tensor(0.4164, device='cuda:0')\n",
            "Time 49.65485906600952 loss tensor(0.4163, device='cuda:0')\n",
            "Time 49.88961434364319 loss tensor(0.4155, device='cuda:0')\n",
            "Time 50.126389265060425 loss tensor(0.4146, device='cuda:0')\n",
            "Time 50.370131492614746 loss tensor(0.4145, device='cuda:0')\n",
            "Time 50.62016534805298 loss tensor(0.4138, device='cuda:0')\n",
            "Time 50.86061954498291 loss tensor(0.4137, device='cuda:0')\n",
            "Time 51.09359908103943 loss tensor(0.4114, device='cuda:0')\n",
            "Time 51.334431886672974 loss tensor(0.4109, device='cuda:0')\n",
            "Time 51.5793023109436 loss tensor(0.4094, device='cuda:0')\n",
            "Time 51.82150936126709 loss tensor(0.4092, device='cuda:0')\n",
            "Time 52.06561827659607 loss tensor(0.4090, device='cuda:0')\n",
            "Time 52.30652117729187 loss tensor(0.4077, device='cuda:0')\n",
            "Time 52.54881715774536 loss tensor(0.4052, device='cuda:0')\n",
            "Time 52.823413610458374 loss tensor(0.4051, device='cuda:0')\n",
            "Time 53.15873742103577 loss tensor(0.4030, device='cuda:0')\n",
            "Time 53.50202798843384 loss tensor(0.4023, device='cuda:0')\n",
            "Time 53.82229995727539 loss tensor(0.4011, device='cuda:0')\n",
            "Time 54.138113498687744 loss tensor(0.4005, device='cuda:0')\n",
            "Time 54.4724497795105 loss tensor(0.3993, device='cuda:0')\n",
            "Time 54.84901142120361 loss tensor(0.3982, device='cuda:0')\n",
            "Time 55.132943868637085 loss tensor(0.3979, device='cuda:0')\n",
            "Time 55.37444829940796 loss tensor(0.3961, device='cuda:0')\n",
            "Time 55.6241397857666 loss tensor(0.3957, device='cuda:0')\n",
            "Time 55.87446141242981 loss tensor(0.3941, device='cuda:0')\n",
            "Time 56.109797954559326 loss tensor(0.3935, device='cuda:0')\n",
            "Time 56.363768577575684 loss tensor(0.3934, device='cuda:0')\n",
            "Time 56.615744829177856 loss tensor(0.3933, device='cuda:0')\n",
            "Time 56.86103630065918 loss tensor(0.3929, device='cuda:0')\n",
            "Time 57.0915367603302 loss tensor(0.3924, device='cuda:0')\n",
            "Time 57.34052538871765 loss tensor(0.3920, device='cuda:0')\n",
            "Time 57.574814796447754 loss tensor(0.3881, device='cuda:0')\n",
            "Time 57.82352113723755 loss tensor(0.3879, device='cuda:0')\n",
            "Time 58.062702894210815 loss tensor(0.3866, device='cuda:0')\n",
            "Time 58.3058066368103 loss tensor(0.3827, device='cuda:0')\n",
            "Time 58.54733729362488 loss tensor(0.3825, device='cuda:0')\n",
            "Time 58.79314732551575 loss tensor(0.3822, device='cuda:0')\n",
            "Time 59.03104305267334 loss tensor(0.3818, device='cuda:0')\n",
            "Time 59.27668738365173 loss tensor(0.3817, device='cuda:0')\n",
            "Time 59.51862716674805 loss tensor(0.3812, device='cuda:0')\n",
            "Time 59.78937482833862 loss tensor(0.3810, device='cuda:0')\n",
            "Time 60.05535173416138 loss tensor(0.3809, device='cuda:0')\n",
            "Time 60.31671357154846 loss tensor(0.3799, device='cuda:0')\n",
            "Time 60.56676363945007 loss tensor(0.3793, device='cuda:0')\n",
            "Time 60.82720375061035 loss tensor(0.3792, device='cuda:0')\n",
            "Time 61.080153703689575 loss tensor(0.3791, device='cuda:0')\n",
            "Time 61.33409070968628 loss tensor(0.3759, device='cuda:0')\n",
            "Time 61.5766179561615 loss tensor(0.3738, device='cuda:0')\n",
            "Time 61.82326698303223 loss tensor(0.3735, device='cuda:0')\n",
            "Time 62.06291604042053 loss tensor(0.3734, device='cuda:0')\n",
            "Time 62.307212352752686 loss tensor(0.3733, device='cuda:0')\n",
            "Time 62.55142855644226 loss tensor(0.3729, device='cuda:0')\n",
            "Time 62.80663323402405 loss tensor(0.3728, device='cuda:0')\n",
            "Time 63.04573059082031 loss tensor(0.3727, device='cuda:0')\n",
            "Time 63.291369676589966 loss tensor(0.3726, device='cuda:0')\n",
            "Time 63.5267059803009 loss tensor(0.3696, device='cuda:0')\n",
            "Time 63.774710178375244 loss tensor(0.3663, device='cuda:0')\n",
            "Time 64.01334404945374 loss tensor(0.3662, device='cuda:0')\n",
            "Time 64.26143741607666 loss tensor(0.3655, device='cuda:0')\n",
            "Time 64.50686693191528 loss tensor(0.3653, device='cuda:0')\n",
            "Time 64.76619720458984 loss tensor(0.3650, device='cuda:0')\n",
            "Time 65.01878452301025 loss tensor(0.3642, device='cuda:0')\n",
            "Time 65.3647472858429 loss tensor(0.3636, device='cuda:0')\n",
            "Time 65.69866132736206 loss tensor(0.3635, device='cuda:0')\n",
            "Time 66.06914973258972 loss tensor(0.3634, device='cuda:0')\n",
            "Time 66.43422985076904 loss tensor(0.3633, device='cuda:0')\n",
            "Time 66.76539707183838 loss tensor(0.3633, device='cuda:0')\n",
            "Time 67.1046712398529 loss tensor(0.3629, device='cuda:0')\n",
            "Time 67.42838048934937 loss tensor(0.3627, device='cuda:0')\n",
            "Time 67.67188000679016 loss tensor(0.3627, device='cuda:0')\n",
            "Time 67.92813682556152 loss tensor(0.3626, device='cuda:0')\n",
            "Time 68.17243003845215 loss tensor(0.3619, device='cuda:0')\n",
            "Time 68.41119432449341 loss tensor(0.3597, device='cuda:0')\n",
            "Time 68.6506404876709 loss tensor(0.3591, device='cuda:0')\n",
            "Time 68.89143919944763 loss tensor(0.3590, device='cuda:0')\n",
            "Time 69.13054847717285 loss tensor(0.3589, device='cuda:0')\n",
            "Time 69.3715751171112 loss tensor(0.3582, device='cuda:0')\n",
            "Time 69.61075258255005 loss tensor(0.3582, device='cuda:0')\n",
            "Time 69.84706139564514 loss tensor(0.3579, device='cuda:0')\n",
            "Time 70.08692622184753 loss tensor(0.3574, device='cuda:0')\n",
            "Time 70.32992553710938 loss tensor(0.3565, device='cuda:0')\n",
            "Time 70.5652027130127 loss tensor(0.3563, device='cuda:0')\n",
            "Time 70.8107397556305 loss tensor(0.3563, device='cuda:0')\n",
            "Time 71.05218315124512 loss tensor(0.3540, device='cuda:0')\n",
            "Time 71.29103016853333 loss tensor(0.3528, device='cuda:0')\n",
            "Time 71.5198221206665 loss tensor(0.3526, device='cuda:0')\n",
            "Time 71.75857400894165 loss tensor(0.3510, device='cuda:0')\n",
            "Time 71.99646472930908 loss tensor(0.3510, device='cuda:0')\n",
            "Time 72.22962427139282 loss tensor(0.3489, device='cuda:0')\n",
            "Time 72.4724018573761 loss tensor(0.3486, device='cuda:0')\n",
            "Time 72.71864151954651 loss tensor(0.3480, device='cuda:0')\n",
            "Time 72.96515440940857 loss tensor(0.3462, device='cuda:0')\n",
            "Time 73.20388531684875 loss tensor(0.3455, device='cuda:0')\n",
            "Time 73.45214819908142 loss tensor(0.3449, device='cuda:0')\n",
            "Time 73.69741320610046 loss tensor(0.3442, device='cuda:0')\n",
            "Time 73.93647718429565 loss tensor(0.3440, device='cuda:0')\n",
            "Time 74.19881987571716 loss tensor(0.3439, device='cuda:0')\n",
            "Time 74.43532800674438 loss tensor(0.3421, device='cuda:0')\n",
            "Time 74.67473888397217 loss tensor(0.3380, device='cuda:0')\n",
            "Time 74.91314482688904 loss tensor(0.3377, device='cuda:0')\n",
            "Time 75.15980076789856 loss tensor(0.3374, device='cuda:0')\n",
            "Time 75.43642997741699 loss tensor(0.3365, device='cuda:0')\n",
            "Time 75.71695923805237 loss tensor(0.3348, device='cuda:0')\n",
            "Time 75.95299816131592 loss tensor(0.3338, device='cuda:0')\n",
            "Time 76.19807267189026 loss tensor(0.3335, device='cuda:0')\n",
            "Time 76.4406247138977 loss tensor(0.3329, device='cuda:0')\n",
            "Time 76.69571828842163 loss tensor(0.3325, device='cuda:0')\n",
            "Time 76.94004011154175 loss tensor(0.3321, device='cuda:0')\n",
            "Time 77.18525004386902 loss tensor(0.3321, device='cuda:0')\n",
            "Time 77.46977829933167 loss tensor(0.3315, device='cuda:0')\n",
            "Time 77.81490635871887 loss tensor(0.3308, device='cuda:0')\n",
            "Time 78.13653039932251 loss tensor(0.3306, device='cuda:0')\n",
            "Time 78.59651279449463 loss tensor(0.3306, device='cuda:0')\n",
            "Time 79.66153883934021 loss tensor(0.3276, device='cuda:0')\n",
            "Time 79.92668342590332 loss tensor(0.3275, device='cuda:0')\n",
            "Time 80.5380027294159 loss tensor(0.3265, device='cuda:0')\n",
            "Time 80.77701091766357 loss tensor(0.3262, device='cuda:0')\n",
            "Time 81.00705981254578 loss tensor(0.3262, device='cuda:0')\n",
            "Time 81.25666928291321 loss tensor(0.3259, device='cuda:0')\n",
            "Time 81.49488306045532 loss tensor(0.3257, device='cuda:0')\n",
            "Time 81.74079370498657 loss tensor(0.3244, device='cuda:0')\n",
            "Time 81.9768271446228 loss tensor(0.3232, device='cuda:0')\n",
            "Time 82.22337937355042 loss tensor(0.3232, device='cuda:0')\n",
            "Time 82.46386480331421 loss tensor(0.3215, device='cuda:0')\n",
            "Time 82.70786738395691 loss tensor(0.3211, device='cuda:0')\n",
            "Time 82.94750046730042 loss tensor(0.3211, device='cuda:0')\n",
            "Time 83.20842051506042 loss tensor(0.3209, device='cuda:0')\n",
            "Time 83.45044350624084 loss tensor(0.3208, device='cuda:0')\n",
            "Time 83.69473528862 loss tensor(0.3197, device='cuda:0')\n",
            "Time 83.93327736854553 loss tensor(0.3195, device='cuda:0')\n",
            "Time 84.17240452766418 loss tensor(0.3193, device='cuda:0')\n",
            "Time 84.43131589889526 loss tensor(0.3186, device='cuda:0')\n",
            "Time 84.67174553871155 loss tensor(0.3184, device='cuda:0')\n",
            "Time 84.91346502304077 loss tensor(0.3163, device='cuda:0')\n",
            "Time 85.15316224098206 loss tensor(0.3161, device='cuda:0')\n",
            "Time 85.40719413757324 loss tensor(0.3148, device='cuda:0')\n",
            "Time 85.65970826148987 loss tensor(0.3146, device='cuda:0')\n",
            "Time 85.90061211585999 loss tensor(0.3141, device='cuda:0')\n",
            "Time 86.13090395927429 loss tensor(0.3140, device='cuda:0')\n",
            "Time 86.3955008983612 loss tensor(0.3136, device='cuda:0')\n",
            "Time 86.63784718513489 loss tensor(0.3136, device='cuda:0')\n",
            "Time 86.87953782081604 loss tensor(0.3129, device='cuda:0')\n",
            "Time 87.14905095100403 loss tensor(0.3126, device='cuda:0')\n",
            "Time 87.39899468421936 loss tensor(0.3126, device='cuda:0')\n",
            "Time 87.63539528846741 loss tensor(0.3125, device='cuda:0')\n",
            "Time 87.88732624053955 loss tensor(0.3125, device='cuda:0')\n",
            "Time 88.12096309661865 loss tensor(0.3124, device='cuda:0')\n",
            "Time 88.37126088142395 loss tensor(0.3124, device='cuda:0')\n",
            "Time 88.61159086227417 loss tensor(0.3116, device='cuda:0')\n",
            "Time 88.84613394737244 loss tensor(0.3114, device='cuda:0')\n",
            "Time 89.08533072471619 loss tensor(0.3100, device='cuda:0')\n",
            "Time 89.3404905796051 loss tensor(0.3094, device='cuda:0')\n",
            "Time 89.5815703868866 loss tensor(0.3094, device='cuda:0')\n",
            "Time 89.85483312606812 loss tensor(0.3089, device='cuda:0')\n",
            "Time 90.19979310035706 loss tensor(0.3078, device='cuda:0')\n",
            "Time 90.53085017204285 loss tensor(0.3078, device='cuda:0')\n",
            "Time 90.86040568351746 loss tensor(0.3078, device='cuda:0')\n",
            "Time 91.17707395553589 loss tensor(0.3075, device='cuda:0')\n",
            "Time 91.51176643371582 loss tensor(0.3075, device='cuda:0')\n",
            "Time 91.85470151901245 loss tensor(0.3075, device='cuda:0')\n",
            "Time 92.14623522758484 loss tensor(0.3066, device='cuda:0')\n",
            "Time 92.38497853279114 loss tensor(0.3066, device='cuda:0')\n",
            "Time 92.64401364326477 loss tensor(0.3064, device='cuda:0')\n",
            "Time 92.88529706001282 loss tensor(0.3058, device='cuda:0')\n",
            "Time 93.11982583999634 loss tensor(0.3051, device='cuda:0')\n",
            "Time 93.35511445999146 loss tensor(0.3047, device='cuda:0')\n",
            "Time 93.60613918304443 loss tensor(0.3043, device='cuda:0')\n",
            "Time 93.85118985176086 loss tensor(0.3043, device='cuda:0')\n",
            "Time 94.08792018890381 loss tensor(0.3042, device='cuda:0')\n",
            "Time 94.32452464103699 loss tensor(0.3029, device='cuda:0')\n",
            "Time 94.56750822067261 loss tensor(0.2998, device='cuda:0')\n"
          ]
        }
      ]
    },
    {
      "cell_type": "code",
      "source": [
        "plt.plot(losses)"
      ],
      "metadata": {
        "id": "yqhSK6H4i5Ll",
        "outputId": "e0c7cd47-fe7a-4b87-9847-658e0d6e200a",
        "colab": {
          "base_uri": "https://localhost:8080/",
          "height": 282
        }
      },
      "execution_count": 58,
      "outputs": [
        {
          "output_type": "execute_result",
          "data": {
            "text/plain": [
              "[<matplotlib.lines.Line2D at 0x7f57900b70d0>]"
            ]
          },
          "metadata": {},
          "execution_count": 58
        },
        {
          "output_type": "display_data",
          "data": {
            "text/plain": [
              "<Figure size 432x288 with 1 Axes>"
            ],
            "image/png": "[encoded data removed]"
          },
          "metadata": {
            "needs_background": "light"
          }
        }
      ]
    },
    {
      "cell_type": "code",
      "source": [
        "plt.plot(accuracies)"
      ],
      "metadata": {
        "colab": {
          "base_uri": "https://localhost:8080/",
          "height": 282
        },
        "id": "GtBfArSuC9Y8",
        "outputId": "470a5bc0-cb0d-4289-c208-0a445ab86548"
      },
      "execution_count": 59,
      "outputs": [
        {
          "output_type": "execute_result",
          "data": {
            "text/plain": [
              "[<matplotlib.lines.Line2D at 0x7f5790042400>]"
            ]
          },
          "metadata": {},
          "execution_count": 59
        },
        {
          "output_type": "display_data",
          "data": {
            "text/plain": [
              "<Figure size 432x288 with 1 Axes>"
            ],
            "image/png": "[encoded data removed]"
          },
          "metadata": {
            "needs_background": "light"
          }
        }
      ]
    },
    {
      "cell_type": "code",
      "source": [
        "plt.plot(errors)"
      ],
      "metadata": {
        "colab": {
          "base_uri": "https://localhost:8080/",
          "height": 282
        },
        "id": "FbauRNxMYsyf",
        "outputId": "5c370c61-bc84-4bcc-9cab-df8a8388aea9"
      },
      "execution_count": 60,
      "outputs": [
        {
          "output_type": "execute_result",
          "data": {
            "text/plain": [
              "[<matplotlib.lines.Line2D at 0x7f5789de22e0>]"
            ]
          },
          "metadata": {},
          "execution_count": 60
        },
        {
          "output_type": "display_data",
          "data": {
            "text/plain": [
              "<Figure size 432x288 with 1 Axes>"
            ],
            "image/png": "[encoded data removed]"
          },
          "metadata": {
            "needs_background": "light"
          }
        }
      ]
    }
  ]
}