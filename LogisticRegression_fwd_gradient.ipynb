{
  "nbformat": 4,
  "nbformat_minor": 0,
  "metadata": {
    "colab": {
      "provenance": [],
      "include_colab_link": true
    },
    "kernelspec": {
      "name": "python3",
      "display_name": "Python 3"
    },
    "language_info": {
      "name": "python"
    },
    "accelerator": "GPU",
    "gpuClass": "standard"
  },
  "cells": [
    {
      "cell_type": "markdown",
      "metadata": {
        "id": "view-in-github",
        "colab_type": "text"
      },
      "source": [
        "<a href=\"https://colab.research.google.com/github/davidraamirez/GradientWithoutBackpropagation/blob/main/LogisticRegression_fwd_gradient.ipynb\" target=\"_parent\"><img src=\"https://colab.research.google.com/assets/colab-badge.svg\" alt=\"Open In Colab\"/></a>"
      ]
    },
    {
      "cell_type": "markdown",
      "source": [
        "# **Import the necessary packages**\n"
      ],
      "metadata": {
        "id": "k1jr1JzMgK9Q"
      }
    },
    {
      "cell_type": "code",
      "execution_count": 96,
      "metadata": {
        "id": "Oyi7eax2JnEO"
      },
      "outputs": [],
      "source": [
        "import torch\n",
        "import tensorflow_datasets as tfds\n",
        "from sklearn.model_selection import train_test_split"
      ]
    },
    {
      "cell_type": "code",
      "source": [
        "%pip install torchmetrics --quiet"
      ],
      "metadata": {
        "id": "GVuIq3iFKJ9l"
      },
      "execution_count": 97,
      "outputs": []
    },
    {
      "cell_type": "code",
      "source": [
        "import torchmetrics\n",
        "import torchvision"
      ],
      "metadata": {
        "id": "E7LCz1JiKMSj"
      },
      "execution_count": 98,
      "outputs": []
    },
    {
      "cell_type": "code",
      "source": [
        "from torch import nn"
      ],
      "metadata": {
        "id": "xBmt572RgVZ0"
      },
      "execution_count": 99,
      "outputs": []
    },
    {
      "cell_type": "code",
      "source": [
        "from functorch import jvp\n",
        "from functools import partial\n",
        "import time "
      ],
      "metadata": {
        "id": "Jb6mbI8LgZKf"
      },
      "execution_count": 100,
      "outputs": []
    },
    {
      "cell_type": "code",
      "source": [
        "import matplotlib.pyplot as plt"
      ],
      "metadata": {
        "id": "leC4BPdGgdx-"
      },
      "execution_count": 101,
      "outputs": []
    },
    {
      "cell_type": "markdown",
      "source": [
        "# **Loading and preprocessing the data**"
      ],
      "metadata": {
        "id": "uclnxVteKfnj"
      }
    },
    {
      "cell_type": "code",
      "source": [
        "#Load the dataset\n",
        "penguins = tfds.load('penguins', as_supervised=True, split='train')"
      ],
      "metadata": {
        "id": "fZMg1kYeKS4U"
      },
      "execution_count": 102,
      "outputs": []
    },
    {
      "cell_type": "code",
      "source": [
        "X, y = penguins.batch(500).get_single_element()\n",
        "X, y = X.numpy(), y.numpy()"
      ],
      "metadata": {
        "id": "iYKcjgnqzm9C"
      },
      "execution_count": 103,
      "outputs": []
    },
    {
      "cell_type": "code",
      "source": [
        "Xtrain, Xtest, ytrain, ytest = train_test_split(X, y, stratify=y)"
      ],
      "metadata": {
        "id": "ISJ8BgIMLPWX"
      },
      "execution_count": 104,
      "outputs": []
    },
    {
      "cell_type": "code",
      "source": [
        "Xtrain = torch.from_numpy(Xtrain).float()\n",
        "Xtest = torch.from_numpy(Xtest).float()"
      ],
      "metadata": {
        "id": "S3Y0sR080VHJ"
      },
      "execution_count": 105,
      "outputs": []
    },
    {
      "cell_type": "code",
      "source": [
        "ytrain = torch.from_numpy(ytrain).long()\n",
        "ytest = torch.from_numpy(ytest).long()"
      ],
      "metadata": {
        "id": "lBkpViok0YZ4"
      },
      "execution_count": 106,
      "outputs": []
    },
    {
      "cell_type": "markdown",
      "source": [
        "# **Define Logistic Regression**"
      ],
      "metadata": {
        "id": "KJO3tb6HLkD1"
      }
    },
    {
      "cell_type": "code",
      "source": [
        "class SimpleLogisticRegression(nn.Module):\n",
        "  def __init__(self, input_size, w, b):\n",
        "    super().__init__()\n",
        "    self.weight = nn.Parameter(w)\n",
        "    self.bias = nn.Parameter(b)\n",
        "\n",
        "  def forward(self, x):\n",
        "    x = x.reshape(1, -1)\n",
        "    return torch.softmax(x@self.weight + self.bias, 1)"
      ],
      "metadata": {
        "id": "F_qTD2ovLn2Z"
      },
      "execution_count": 107,
      "outputs": []
    },
    {
      "cell_type": "code",
      "source": [
        "# We check if CUDA is available. \n",
        "device = 'cuda' if torch.cuda.is_available() else 'cpu'\n",
        "print(device)"
      ],
      "metadata": {
        "colab": {
          "base_uri": "https://localhost:8080/"
        },
        "id": "J9O-8lwQM3IK",
        "outputId": "85f81e34-a4fc-44bc-f071-7ee1928baa0e"
      },
      "execution_count": 108,
      "outputs": [
        {
          "output_type": "stream",
          "name": "stdout",
          "text": [
            "cuda\n"
          ]
        }
      ]
    },
    {
      "cell_type": "markdown",
      "source": [
        "# **Initialize the parameters**"
      ],
      "metadata": {
        "id": "xANyM4TzM7YU"
      }
    },
    {
      "cell_type": "code",
      "source": [
        "# We initialize the parameters randomly and the model with an input size\n",
        "w = torch.randn((4, 3), requires_grad=False)\n",
        "b = torch.randn((3, ), requires_grad=False)\n",
        "LG = SimpleLogisticRegression(4, w, b)"
      ],
      "metadata": {
        "id": "Au-0g48hM47D"
      },
      "execution_count": 109,
      "outputs": []
    },
    {
      "cell_type": "code",
      "source": [
        "# We try our model with the first example\n",
        "print(LG(Xtrain[0]))"
      ],
      "metadata": {
        "colab": {
          "base_uri": "https://localhost:8080/"
        },
        "id": "yc8fw23PNqUQ",
        "outputId": "b8e17c28-2b74-42af-de44-2179323f768e"
      },
      "execution_count": 110,
      "outputs": [
        {
          "output_type": "stream",
          "name": "stdout",
          "text": [
            "tensor([[0.6197, 0.3468, 0.0335]], grad_fn=<SoftmaxBackward0>)\n"
          ]
        }
      ]
    },
    {
      "cell_type": "markdown",
      "source": [
        "Calculate predictions"
      ],
      "metadata": {
        "id": "VnUzjP_aWCdn"
      }
    },
    {
      "cell_type": "code",
      "source": [
        "def pred(x,w,b):\n",
        "  ypred=torch.randn((x.shape[0],3))\n",
        "  for j in range (x.shape[0]):\n",
        "    xj = x[j].reshape(1, -1)\n",
        "    ypred[j]=torch.softmax(xj@w+b,1)\n",
        "  return ypred"
      ],
      "metadata": {
        "id": "46y6wpZPW0RC"
      },
      "execution_count": 116,
      "outputs": []
    },
    {
      "cell_type": "code",
      "source": [
        "ypred=pred(Xtrain,w,b)"
      ],
      "metadata": {
        "id": "hODWt-gJW4zl"
      },
      "execution_count": 117,
      "outputs": []
    },
    {
      "cell_type": "markdown",
      "source": [
        "# **Define accuracy**"
      ],
      "metadata": {
        "id": "PArBiH_liSeD"
      }
    },
    {
      "cell_type": "code",
      "source": [
        "def accuracy(ytrue, ypred):\n",
        "  return (ypred.argmax(1) == ytrue).float().mean()"
      ],
      "metadata": {
        "id": "wE8-N_zriU2A"
      },
      "execution_count": 118,
      "outputs": []
    },
    {
      "cell_type": "code",
      "source": [
        "# Average accuracy at initialization is 33% (random guessing).\n",
        "accuracy(ytrain, ypred)"
      ],
      "metadata": {
        "colab": {
          "base_uri": "https://localhost:8080/"
        },
        "id": "_Bw1HBA6WGES",
        "outputId": "c8ab2552-45fa-4568-eaae-451fcb1176fe"
      },
      "execution_count": 119,
      "outputs": [
        {
          "output_type": "execute_result",
          "data": {
            "text/plain": [
              "tensor(0.4360)"
            ]
          },
          "metadata": {},
          "execution_count": 119
        }
      ]
    },
    {
      "cell_type": "markdown",
      "source": [
        "# **Define Cross Entropy**"
      ],
      "metadata": {
        "id": "nZ0xyQDVWli6"
      }
    },
    {
      "cell_type": "markdown",
      "source": [
        "We have defined one cross entropy function for each parameter because we will define later partial functions and the parameters need to be in different order\n",
        "\n",
        "\n",
        "\n",
        "\n",
        "\n"
      ],
      "metadata": {
        "id": "ykUbnhkMiv3i"
      }
    },
    {
      "cell_type": "code",
      "source": [
        "def cross_entropyW(w, ytrue, x, b):\n",
        "  ypred=pred(x,w,b)\n",
        "  return - ypred[torch.arange(0, ypred.shape[0]), ytrue].log().mean()"
      ],
      "metadata": {
        "id": "et6ncKfAWPqW"
      },
      "execution_count": 120,
      "outputs": []
    },
    {
      "cell_type": "code",
      "source": [
        "def cross_entropyB(b, ytrue, x, w):\n",
        "  ypred=pred(x,w,b)\n",
        "  return - ypred[torch.arange(0, ypred.shape[0]), ytrue].log().mean()"
      ],
      "metadata": {
        "id": "yZBiK-TlP17y"
      },
      "execution_count": 121,
      "outputs": []
    },
    {
      "cell_type": "code",
      "source": [
        "def cross_entropy(ytrue,ypred):\n",
        "  return - ypred[torch.arange(0, ypred.shape[0]), ytrue].log().mean()"
      ],
      "metadata": {
        "id": "PlkdF5I8aspR"
      },
      "execution_count": 122,
      "outputs": []
    },
    {
      "cell_type": "code",
      "source": [
        "# We check that the output of all the cross extropy functions is the same\n",
        "print(cross_entropyB(b, ytrain,Xtrain, w))\n",
        "print(cross_entropyW(w,ytrain,Xtrain,b))\n",
        "print(cross_entropy(ytrain,ypred))"
      ],
      "metadata": {
        "id": "x0fdS82PHWxZ",
        "outputId": "ce9fb30e-ec69-458b-ea58-83cfda7979d4",
        "colab": {
          "base_uri": "https://localhost:8080/"
        }
      },
      "execution_count": 123,
      "outputs": [
        {
          "output_type": "stream",
          "name": "stdout",
          "text": [
            "tensor(2.5076)\n",
            "tensor(2.5076)\n",
            "tensor(2.5076)\n"
          ]
        }
      ]
    },
    {
      "cell_type": "markdown",
      "source": [
        "## **Other optimization functions**"
      ],
      "metadata": {
        "id": "yRvKPqRVkcog"
      }
    },
    {
      "cell_type": "code",
      "source": [
        "def beale_function(x):\n",
        "  return (torch.pow(torch.tensor([1.5])-x[0]+x[0]*x[1],2) + torch.pow(torch.tensor([2.25])-x[0]+x[0]*torch.pow(x[1],2),2)+torch.pow(torch.tensor([2.625])-x[0]+x[0]*torch.pow(x[1],3),2))"
      ],
      "metadata": {
        "id": "fW7DIT_bWrAv"
      },
      "execution_count": 124,
      "outputs": []
    },
    {
      "cell_type": "code",
      "source": [
        "def rosenbrock_function(x):\n",
        "  sum=0\n",
        "  for i in range (x.size(0) -1):\n",
        "    sum += (100*torch.pow(x[i+1] - torch.pow(x[i], 2), 2) + torch.pow(1-x[i], 2))\n",
        "  return sum"
      ],
      "metadata": {
        "id": "UWDzjXptWuAH"
      },
      "execution_count": 125,
      "outputs": []
    },
    {
      "cell_type": "code",
      "source": [
        "def sphere_function(x):\n",
        "  sum=0\n",
        "  for i in range(x.size(0)):\n",
        "    sum += torch.pow(x[i], 2)\n",
        "  return sum"
      ],
      "metadata": {
        "id": "aq5uL94Z56hk"
      },
      "execution_count": 126,
      "outputs": []
    },
    {
      "cell_type": "markdown",
      "source": [
        "# **Train and evaluate the network**\n"
      ],
      "metadata": {
        "id": "oxvYduTyk13L"
      }
    },
    {
      "cell_type": "code",
      "source": [
        "def train_fwd_gradient(x, y):\n",
        "\n",
        "  losses = [] # Vector with the cross entropy values of test set\n",
        "  accuracies = [] # Vector with the accuracy values of test set\n",
        "  errors=[] # Vector with the number of misclassification of the test set\n",
        "\n",
        "  l_rate0 = 0.2 # Learning rate used \n",
        "\n",
        "  # Initialize the parameters\n",
        "  w = torch.randn((4, 3),requires_grad=False)\n",
        "  b = torch.randn((3, ),requires_grad=False)\n",
        "\n",
        "  loss = cross_entropyW(w, y, x, b) # Loss function\n",
        "\n",
        "  # Calculate the start time \n",
        "  t=0\n",
        "  t0=time.time()\n",
        "  print('Time', t, 'loss', loss)\n",
        "\n",
        "  while (loss>0.3) :\n",
        "\n",
        "    # vw and wb are defined as a perturbation vector taken as a multivariate random variable,such that their scalar components vi are independent for all i, and have zero mean and unit variance .\n",
        "\n",
        "    vw=torch.randn(w.shape)\n",
        "    vw = (vw - torch.mean(vw))/torch.std(vw)\n",
        "    vb=torch.randn(b.shape)\n",
        "    vb = (vb - torch.mean(vb))/torch.std(vb)\n",
        "\n",
        "    # We define a partial function for each of the parameter\n",
        "    fw = partial(cross_entropyW,ytrue=y, x=x, b=b)\n",
        "    fb = partial(cross_entropyB,ytrue=y, x=x, w=w)\n",
        "\n",
        "    # We compute the cross entropy and the directional derivative of cross entropy at each parameters in direction v, simultaneously and without having to compute ∇cross_entropy in the process\n",
        "    # This is also know as formard-mode autodiff\n",
        "    ftw, dtw = jvp(fw,(w, ), (vw, ))\n",
        "    ftb, dtb = jvp(fb,(b, ), (vb, ))\n",
        "\n",
        "    # We multiply the scalar directional derivative ∇cross_entropy(θ)·v with vector v and obtain g(θ), the forward gradient (where θ represents each one of out parameters)\n",
        "    gtw = vw*dtw\n",
        "    gtb = vb*dtb\n",
        "\n",
        "    # Update the parameters\n",
        "    w = w - l_rate0*gtw\n",
        "    b = b - l_rate0*gtb\n",
        "\n",
        "    # We calculate the number of misclassification of the test set with the updated model and we add to the errors vector\n",
        "    LG = SimpleLogisticRegression(4, w, b)\n",
        "    ypredT=torch.randn(Xtest.size(0),3)\n",
        "    error=0\n",
        "    for i in range (Xtest.size(0)):\n",
        "      ypredT[i]=LG(Xtest[i])\n",
        "      if (LG(Xtest[i]).argmax(1)- ytest[i])!=0:\n",
        "        error = error+ 1\n",
        "    \n",
        "    errors.append(error)\n",
        "\n",
        "    # We calculate the accuracy of the test set with the updated model and we add to the accuracy vector\n",
        "    accuracies.append(accuracy(ytest,ypredT).item())\n",
        "\n",
        "    # We calculate the cross_entropy of the test set with the updated model and we add to the accuracy vector\n",
        "    loss=cross_entropyW(w, y, x, b)\n",
        "    lossT = cross_entropy(ytest,ypredT)\n",
        "    losses.append(lossT.detach().item())\n",
        "\n",
        "    #We add the execution time of the iteration \n",
        "    t1=time.time()\n",
        "    t+=t1-t0\n",
        "    t0=t1\n",
        "\n",
        "    print('Time', t, 'loss', loss)\n",
        "\n",
        "  return w, b,errors,accuracies,losses"
      ],
      "metadata": {
        "id": "1wUCVnwXWzQF"
      },
      "execution_count": 127,
      "outputs": []
    },
    {
      "cell_type": "code",
      "source": [
        "w, b,errors,accuracies,losses = train_fwd_gradient(Xtrain, ytrain)"
      ],
      "metadata": {
        "colab": {
          "base_uri": "https://localhost:8080/"
        },
        "id": "sEXUvtqnMsbD",
        "outputId": "52019b86-f6a7-4d4e-848e-7f5dbf078290"
      },
      "execution_count": 128,
      "outputs": [
        {
          "output_type": "stream",
          "name": "stdout",
          "text": [
            "Time 0 loss tensor(1.4102)\n",
            "Time 0.11979818344116211 loss tensor(1.3993)\n",
            "Time 0.21145033836364746 loss tensor(1.3477)\n",
            "Time 0.30492734909057617 loss tensor(1.2936)\n",
            "Time 0.4009993076324463 loss tensor(1.2647)\n",
            "Time 0.49408769607543945 loss tensor(1.2578)\n",
            "Time 0.587735652923584 loss tensor(1.2512)\n",
            "Time 0.6851868629455566 loss tensor(1.2445)\n",
            "Time 0.7818267345428467 loss tensor(1.2111)\n",
            "Time 0.8758301734924316 loss tensor(1.1924)\n",
            "Time 0.9825179576873779 loss tensor(1.1804)\n",
            "Time 1.0769846439361572 loss tensor(1.1725)\n",
            "Time 1.1663267612457275 loss tensor(1.1665)\n",
            "Time 1.2672839164733887 loss tensor(1.1633)\n",
            "Time 1.3578853607177734 loss tensor(1.1594)\n",
            "Time 1.4482569694519043 loss tensor(1.1486)\n",
            "Time 1.5488464832305908 loss tensor(1.1449)\n",
            "Time 1.643822431564331 loss tensor(1.1328)\n",
            "Time 1.735442876815796 loss tensor(1.1204)\n",
            "Time 1.8345718383789062 loss tensor(1.1190)\n",
            "Time 1.9347445964813232 loss tensor(1.1073)\n",
            "Time 2.0271050930023193 loss tensor(1.1047)\n",
            "Time 2.1205408573150635 loss tensor(1.0970)\n",
            "Time 2.233161449432373 loss tensor(1.0958)\n",
            "Time 2.3282217979431152 loss tensor(1.0952)\n",
            "Time 2.4197278022766113 loss tensor(1.0774)\n",
            "Time 2.5148675441741943 loss tensor(1.0755)\n",
            "Time 2.6148862838745117 loss tensor(1.0620)\n",
            "Time 2.7085442543029785 loss tensor(1.0355)\n",
            "Time 2.804018974304199 loss tensor(1.0317)\n",
            "Time 2.9044384956359863 loss tensor(1.0177)\n",
            "Time 3.009505271911621 loss tensor(1.0158)\n",
            "Time 3.1015172004699707 loss tensor(1.0007)\n",
            "Time 3.1942906379699707 loss tensor(0.9903)\n",
            "Time 3.2894513607025146 loss tensor(0.9611)\n",
            "Time 3.3809890747070312 loss tensor(0.9513)\n",
            "Time 3.4755380153656006 loss tensor(0.9506)\n",
            "Time 3.5709047317504883 loss tensor(0.9497)\n",
            "Time 3.6615140438079834 loss tensor(0.9401)\n",
            "Time 3.7563283443450928 loss tensor(0.9081)\n",
            "Time 3.8458151817321777 loss tensor(0.8872)\n",
            "Time 3.9361753463745117 loss tensor(0.8862)\n",
            "Time 4.043455123901367 loss tensor(0.8854)\n",
            "Time 4.1335976123809814 loss tensor(0.8834)\n",
            "Time 4.22937273979187 loss tensor(0.8828)\n",
            "Time 4.326156139373779 loss tensor(0.8724)\n",
            "Time 4.417410135269165 loss tensor(0.8631)\n",
            "Time 4.512340784072876 loss tensor(0.8601)\n",
            "Time 4.612229585647583 loss tensor(0.8545)\n",
            "Time 4.703031539916992 loss tensor(0.8543)\n",
            "Time 4.800503492355347 loss tensor(0.8534)\n",
            "Time 4.8940653800964355 loss tensor(0.8506)\n",
            "Time 4.9955620765686035 loss tensor(0.8358)\n",
            "Time 5.090764999389648 loss tensor(0.8217)\n",
            "Time 5.185372352600098 loss tensor(0.8192)\n",
            "Time 5.277501106262207 loss tensor(0.8181)\n",
            "Time 5.373676776885986 loss tensor(0.8175)\n",
            "Time 5.470887184143066 loss tensor(0.8161)\n",
            "Time 5.563788652420044 loss tensor(0.8160)\n",
            "Time 5.660047769546509 loss tensor(0.8093)\n",
            "Time 5.756679058074951 loss tensor(0.8047)\n",
            "Time 5.847447395324707 loss tensor(0.7923)\n",
            "Time 5.938257932662964 loss tensor(0.7865)\n",
            "Time 6.046367168426514 loss tensor(0.7858)\n",
            "Time 6.13659405708313 loss tensor(0.7806)\n",
            "Time 6.226696729660034 loss tensor(0.7637)\n",
            "Time 6.322628974914551 loss tensor(0.7582)\n",
            "Time 6.4153523445129395 loss tensor(0.7557)\n",
            "Time 6.505565881729126 loss tensor(0.7502)\n",
            "Time 6.600345611572266 loss tensor(0.7496)\n",
            "Time 6.694963693618774 loss tensor(0.7474)\n",
            "Time 6.787793159484863 loss tensor(0.7399)\n",
            "Time 6.881008863449097 loss tensor(0.7398)\n",
            "Time 6.97573184967041 loss tensor(0.7395)\n",
            "Time 7.076586484909058 loss tensor(0.7262)\n",
            "Time 7.169302940368652 loss tensor(0.7261)\n",
            "Time 7.26820707321167 loss tensor(0.7257)\n",
            "Time 7.410569190979004 loss tensor(0.7215)\n",
            "Time 7.562463283538818 loss tensor(0.7145)\n",
            "Time 7.712533473968506 loss tensor(0.7091)\n",
            "Time 7.85666298866272 loss tensor(0.6993)\n",
            "Time 8.004698991775513 loss tensor(0.6972)\n",
            "Time 8.15070104598999 loss tensor(0.6963)\n",
            "Time 8.29682183265686 loss tensor(0.6892)\n",
            "Time 8.444766283035278 loss tensor(0.6861)\n",
            "Time 8.600974082946777 loss tensor(0.6858)\n",
            "Time 8.741302490234375 loss tensor(0.6798)\n",
            "Time 8.890114545822144 loss tensor(0.6720)\n",
            "Time 9.037981748580933 loss tensor(0.6699)\n",
            "Time 9.201697587966919 loss tensor(0.6665)\n",
            "Time 9.350907325744629 loss tensor(0.6642)\n",
            "Time 9.522912979125977 loss tensor(0.6599)\n",
            "Time 9.651867151260376 loss tensor(0.6594)\n",
            "Time 9.753222942352295 loss tensor(0.6593)\n",
            "Time 9.843668937683105 loss tensor(0.6580)\n",
            "Time 9.937086820602417 loss tensor(0.6569)\n",
            "Time 10.034687757492065 loss tensor(0.6508)\n",
            "Time 10.13315486907959 loss tensor(0.6501)\n",
            "Time 10.22740387916565 loss tensor(0.6422)\n",
            "Time 10.326066732406616 loss tensor(0.6422)\n",
            "Time 10.416239261627197 loss tensor(0.6397)\n",
            "Time 10.505893468856812 loss tensor(0.6362)\n",
            "Time 10.600458860397339 loss tensor(0.6336)\n",
            "Time 10.69538950920105 loss tensor(0.6270)\n",
            "Time 10.796707153320312 loss tensor(0.6230)\n",
            "Time 10.896426677703857 loss tensor(0.6209)\n",
            "Time 10.99850845336914 loss tensor(0.6195)\n",
            "Time 11.096034288406372 loss tensor(0.6195)\n",
            "Time 11.19885540008545 loss tensor(0.6194)\n",
            "Time 11.289931297302246 loss tensor(0.6190)\n",
            "Time 11.38536286354065 loss tensor(0.6178)\n",
            "Time 11.474756240844727 loss tensor(0.6177)\n",
            "Time 11.567039251327515 loss tensor(0.6162)\n",
            "Time 11.665325164794922 loss tensor(0.6160)\n",
            "Time 11.757622718811035 loss tensor(0.6159)\n",
            "Time 11.846984624862671 loss tensor(0.6045)\n",
            "Time 11.943462133407593 loss tensor(0.6042)\n",
            "Time 12.033263206481934 loss tensor(0.6019)\n",
            "Time 12.123707294464111 loss tensor(0.6016)\n",
            "Time 12.227660179138184 loss tensor(0.6011)\n",
            "Time 12.319024562835693 loss tensor(0.5972)\n",
            "Time 12.409974575042725 loss tensor(0.5894)\n",
            "Time 12.50804090499878 loss tensor(0.5886)\n",
            "Time 12.598433017730713 loss tensor(0.5878)\n",
            "Time 12.688417434692383 loss tensor(0.5875)\n",
            "Time 12.784896850585938 loss tensor(0.5810)\n",
            "Time 12.87523889541626 loss tensor(0.5778)\n",
            "Time 12.964439868927002 loss tensor(0.5775)\n",
            "Time 13.081932067871094 loss tensor(0.5757)\n",
            "Time 13.181238412857056 loss tensor(0.5744)\n",
            "Time 13.270444393157959 loss tensor(0.5675)\n",
            "Time 13.369616270065308 loss tensor(0.5640)\n",
            "Time 13.459707021713257 loss tensor(0.5618)\n",
            "Time 13.553557872772217 loss tensor(0.5600)\n",
            "Time 13.649192333221436 loss tensor(0.5591)\n",
            "Time 13.73901104927063 loss tensor(0.5590)\n",
            "Time 13.837464809417725 loss tensor(0.5587)\n",
            "Time 13.932329416275024 loss tensor(0.5583)\n",
            "Time 14.022780895233154 loss tensor(0.5501)\n",
            "Time 14.116252899169922 loss tensor(0.5491)\n",
            "Time 14.216658592224121 loss tensor(0.5486)\n",
            "Time 14.308241605758667 loss tensor(0.5480)\n",
            "Time 14.401844263076782 loss tensor(0.5477)\n",
            "Time 14.497418403625488 loss tensor(0.5471)\n",
            "Time 14.5889892578125 loss tensor(0.5467)\n",
            "Time 14.67771863937378 loss tensor(0.5414)\n",
            "Time 14.7745521068573 loss tensor(0.5403)\n",
            "Time 14.864639282226562 loss tensor(0.5378)\n",
            "Time 14.95357370376587 loss tensor(0.5320)\n",
            "Time 15.052058458328247 loss tensor(0.5250)\n",
            "Time 15.142354965209961 loss tensor(0.5232)\n",
            "Time 15.239297866821289 loss tensor(0.5199)\n",
            "Time 15.336975336074829 loss tensor(0.5182)\n",
            "Time 15.429314374923706 loss tensor(0.5178)\n",
            "Time 15.519414186477661 loss tensor(0.5167)\n",
            "Time 15.617845058441162 loss tensor(0.5166)\n",
            "Time 15.707276344299316 loss tensor(0.5065)\n",
            "Time 15.800528287887573 loss tensor(0.5060)\n",
            "Time 15.898832559585571 loss tensor(0.4938)\n",
            "Time 15.989719867706299 loss tensor(0.4899)\n",
            "Time 16.08402681350708 loss tensor(0.4874)\n",
            "Time 16.176883935928345 loss tensor(0.4851)\n",
            "Time 16.275686979293823 loss tensor(0.4838)\n",
            "Time 16.373677730560303 loss tensor(0.4831)\n",
            "Time 16.46679377555847 loss tensor(0.4821)\n",
            "Time 16.556960821151733 loss tensor(0.4782)\n",
            "Time 16.65466570854187 loss tensor(0.4776)\n",
            "Time 16.748255252838135 loss tensor(0.4759)\n",
            "Time 16.838980436325073 loss tensor(0.4752)\n",
            "Time 16.932817697525024 loss tensor(0.4721)\n",
            "Time 17.026275157928467 loss tensor(0.4715)\n",
            "Time 17.116147994995117 loss tensor(0.4707)\n",
            "Time 17.205668926239014 loss tensor(0.4681)\n",
            "Time 17.30580973625183 loss tensor(0.4638)\n",
            "Time 17.39615535736084 loss tensor(0.4590)\n",
            "Time 17.48952293395996 loss tensor(0.4581)\n",
            "Time 17.586594581604004 loss tensor(0.4575)\n",
            "Time 17.67602562904358 loss tensor(0.4562)\n",
            "Time 17.772451400756836 loss tensor(0.4535)\n",
            "Time 17.865941047668457 loss tensor(0.4534)\n",
            "Time 17.95842409133911 loss tensor(0.4531)\n",
            "Time 18.04831099510193 loss tensor(0.4498)\n",
            "Time 18.141510486602783 loss tensor(0.4493)\n",
            "Time 18.23854637145996 loss tensor(0.4492)\n",
            "Time 18.334810972213745 loss tensor(0.4489)\n",
            "Time 18.42842435836792 loss tensor(0.4476)\n",
            "Time 18.523683547973633 loss tensor(0.4451)\n",
            "Time 18.614701986312866 loss tensor(0.4440)\n",
            "Time 18.70690107345581 loss tensor(0.4425)\n",
            "Time 18.802470684051514 loss tensor(0.4414)\n",
            "Time 18.892025232315063 loss tensor(0.4409)\n",
            "Time 18.98470711708069 loss tensor(0.4402)\n",
            "Time 19.078982830047607 loss tensor(0.4377)\n",
            "Time 19.16706943511963 loss tensor(0.4346)\n",
            "Time 19.263205528259277 loss tensor(0.4344)\n",
            "Time 19.359233379364014 loss tensor(0.4343)\n",
            "Time 19.4484760761261 loss tensor(0.4335)\n",
            "Time 19.540084838867188 loss tensor(0.4302)\n",
            "Time 19.65645408630371 loss tensor(0.4275)\n",
            "Time 19.8156476020813 loss tensor(0.4266)\n",
            "Time 19.96290421485901 loss tensor(0.4253)\n",
            "Time 20.10720133781433 loss tensor(0.4249)\n",
            "Time 20.245518445968628 loss tensor(0.4243)\n",
            "Time 20.395967960357666 loss tensor(0.4238)\n",
            "Time 20.536362409591675 loss tensor(0.4187)\n",
            "Time 20.68847131729126 loss tensor(0.4140)\n",
            "Time 20.830811977386475 loss tensor(0.4133)\n",
            "Time 20.97616744041443 loss tensor(0.4132)\n",
            "Time 21.116533279418945 loss tensor(0.4125)\n",
            "Time 21.262662887573242 loss tensor(0.4115)\n",
            "Time 21.415682792663574 loss tensor(0.4108)\n",
            "Time 21.569422245025635 loss tensor(0.4084)\n",
            "Time 21.723770141601562 loss tensor(0.4078)\n",
            "Time 21.86948013305664 loss tensor(0.4075)\n",
            "Time 21.959819078445435 loss tensor(0.4073)\n",
            "Time 22.054190158843994 loss tensor(0.4071)\n",
            "Time 22.146749258041382 loss tensor(0.4045)\n",
            "Time 22.235421657562256 loss tensor(0.4019)\n",
            "Time 22.32961130142212 loss tensor(0.4015)\n",
            "Time 22.43390941619873 loss tensor(0.4013)\n",
            "Time 22.521978855133057 loss tensor(0.3997)\n",
            "Time 22.615991353988647 loss tensor(0.3982)\n",
            "Time 22.708624601364136 loss tensor(0.3981)\n",
            "Time 22.800288677215576 loss tensor(0.3978)\n",
            "Time 22.89314293861389 loss tensor(0.3975)\n",
            "Time 22.986958265304565 loss tensor(0.3972)\n",
            "Time 23.07627272605896 loss tensor(0.3969)\n",
            "Time 23.17088270187378 loss tensor(0.3960)\n",
            "Time 23.263564825057983 loss tensor(0.3937)\n",
            "Time 23.353099584579468 loss tensor(0.3934)\n",
            "Time 23.45169186592102 loss tensor(0.3931)\n",
            "Time 23.54796028137207 loss tensor(0.3925)\n",
            "Time 23.640005826950073 loss tensor(0.3924)\n",
            "Time 23.72987461090088 loss tensor(0.3921)\n",
            "Time 23.829524040222168 loss tensor(0.3918)\n",
            "Time 23.93257975578308 loss tensor(0.3893)\n",
            "Time 24.024962186813354 loss tensor(0.3885)\n",
            "Time 24.117234230041504 loss tensor(0.3867)\n",
            "Time 24.207987785339355 loss tensor(0.3854)\n",
            "Time 24.296931266784668 loss tensor(0.3850)\n",
            "Time 24.400280475616455 loss tensor(0.3850)\n",
            "Time 24.49748396873474 loss tensor(0.3845)\n",
            "Time 24.587997436523438 loss tensor(0.3811)\n",
            "Time 24.68050241470337 loss tensor(0.3811)\n",
            "Time 24.780084133148193 loss tensor(0.3798)\n",
            "Time 24.870807886123657 loss tensor(0.3789)\n",
            "Time 24.964345932006836 loss tensor(0.3788)\n",
            "Time 25.059982538223267 loss tensor(0.3786)\n",
            "Time 25.150315523147583 loss tensor(0.3784)\n",
            "Time 25.24305510520935 loss tensor(0.3782)\n",
            "Time 25.448303937911987 loss tensor(0.3768)\n",
            "Time 25.820927143096924 loss tensor(0.3766)\n",
            "Time 25.958986520767212 loss tensor(0.3765)\n",
            "Time 26.058348894119263 loss tensor(0.3761)\n",
            "Time 26.149125576019287 loss tensor(0.3755)\n",
            "Time 26.24422860145569 loss tensor(0.3750)\n",
            "Time 26.33860421180725 loss tensor(0.3745)\n",
            "Time 26.55546808242798 loss tensor(0.3737)\n",
            "Time 26.962320804595947 loss tensor(0.3729)\n",
            "Time 27.057522535324097 loss tensor(0.3727)\n",
            "Time 27.14705181121826 loss tensor(0.3727)\n",
            "Time 27.238730669021606 loss tensor(0.3725)\n",
            "Time 27.33125925064087 loss tensor(0.3722)\n",
            "Time 27.423020839691162 loss tensor(0.3714)\n",
            "Time 27.674984455108643 loss tensor(0.3713)\n",
            "Time 28.01389169692993 loss tensor(0.3708)\n",
            "Time 28.103310346603394 loss tensor(0.3706)\n",
            "Time 28.191354990005493 loss tensor(0.3705)\n",
            "Time 28.283238649368286 loss tensor(0.3697)\n",
            "Time 28.374252796173096 loss tensor(0.3696)\n",
            "Time 28.476839780807495 loss tensor(0.3695)\n",
            "Time 28.57124972343445 loss tensor(0.3687)\n",
            "Time 28.66851258277893 loss tensor(0.3685)\n",
            "Time 28.76108717918396 loss tensor(0.3681)\n",
            "Time 28.853961944580078 loss tensor(0.3677)\n",
            "Time 28.947601556777954 loss tensor(0.3676)\n",
            "Time 29.038432598114014 loss tensor(0.3675)\n",
            "Time 29.131604194641113 loss tensor(0.3672)\n",
            "Time 29.226030111312866 loss tensor(0.3670)\n",
            "Time 29.31623148918152 loss tensor(0.3641)\n",
            "Time 29.410916566848755 loss tensor(0.3640)\n",
            "Time 29.513588905334473 loss tensor(0.3630)\n",
            "Time 29.607341766357422 loss tensor(0.3625)\n",
            "Time 29.69999623298645 loss tensor(0.3621)\n",
            "Time 29.79163885116577 loss tensor(0.3616)\n",
            "Time 29.881402015686035 loss tensor(0.3599)\n",
            "Time 29.975043296813965 loss tensor(0.3588)\n",
            "Time 30.069573640823364 loss tensor(0.3581)\n",
            "Time 30.16028356552124 loss tensor(0.3572)\n",
            "Time 30.252143383026123 loss tensor(0.3549)\n",
            "Time 30.345307111740112 loss tensor(0.3545)\n",
            "Time 30.4369113445282 loss tensor(0.3537)\n",
            "Time 30.54099154472351 loss tensor(0.3535)\n",
            "Time 30.635984420776367 loss tensor(0.3526)\n",
            "Time 30.725287437438965 loss tensor(0.3520)\n",
            "Time 30.820178270339966 loss tensor(0.3517)\n",
            "Time 30.91384983062744 loss tensor(0.3492)\n",
            "Time 31.00472140312195 loss tensor(0.3484)\n",
            "Time 31.100404977798462 loss tensor(0.3483)\n",
            "Time 31.193554878234863 loss tensor(0.3481)\n",
            "Time 31.283449411392212 loss tensor(0.3479)\n",
            "Time 31.38847827911377 loss tensor(0.3469)\n",
            "Time 31.493796586990356 loss tensor(0.3463)\n",
            "Time 31.60140085220337 loss tensor(0.3462)\n",
            "Time 31.698041915893555 loss tensor(0.3462)\n",
            "Time 31.790184259414673 loss tensor(0.3461)\n",
            "Time 31.916222095489502 loss tensor(0.3455)\n",
            "Time 32.06993579864502 loss tensor(0.3454)\n",
            "Time 32.21699857711792 loss tensor(0.3454)\n",
            "Time 32.356873750686646 loss tensor(0.3440)\n",
            "Time 32.500736713409424 loss tensor(0.3440)\n",
            "Time 32.66834092140198 loss tensor(0.3439)\n",
            "Time 32.817415714263916 loss tensor(0.3410)\n",
            "Time 32.96469020843506 loss tensor(0.3410)\n",
            "Time 33.13073229789734 loss tensor(0.3373)\n",
            "Time 33.289289236068726 loss tensor(0.3350)\n",
            "Time 33.45336580276489 loss tensor(0.3347)\n",
            "Time 33.625937938690186 loss tensor(0.3340)\n",
            "Time 33.80023407936096 loss tensor(0.3336)\n",
            "Time 33.95868945121765 loss tensor(0.3322)\n",
            "Time 34.12542486190796 loss tensor(0.3307)\n",
            "Time 34.255465269088745 loss tensor(0.3304)\n",
            "Time 34.35332894325256 loss tensor(0.3301)\n",
            "Time 34.447261810302734 loss tensor(0.3282)\n",
            "Time 34.53923463821411 loss tensor(0.3280)\n",
            "Time 34.639442682266235 loss tensor(0.3279)\n",
            "Time 34.72810912132263 loss tensor(0.3276)\n",
            "Time 34.8209490776062 loss tensor(0.3269)\n",
            "Time 34.91693568229675 loss tensor(0.3258)\n",
            "Time 35.0062472820282 loss tensor(0.3256)\n",
            "Time 35.10076570510864 loss tensor(0.3232)\n",
            "Time 35.19348168373108 loss tensor(0.3232)\n",
            "Time 35.283544301986694 loss tensor(0.3226)\n",
            "Time 35.378257513046265 loss tensor(0.3225)\n",
            "Time 35.471867084503174 loss tensor(0.3220)\n",
            "Time 35.56115794181824 loss tensor(0.3214)\n",
            "Time 35.6635205745697 loss tensor(0.3213)\n",
            "Time 35.76072454452515 loss tensor(0.3210)\n",
            "Time 35.850066900253296 loss tensor(0.3208)\n",
            "Time 35.942919969558716 loss tensor(0.3205)\n",
            "Time 36.03610420227051 loss tensor(0.3185)\n",
            "Time 36.12591195106506 loss tensor(0.3184)\n",
            "Time 36.21980118751526 loss tensor(0.3183)\n",
            "Time 36.31218147277832 loss tensor(0.3174)\n",
            "Time 36.40260052680969 loss tensor(0.3163)\n",
            "Time 36.494450092315674 loss tensor(0.3151)\n",
            "Time 36.588374376297 loss tensor(0.3147)\n",
            "Time 36.687825202941895 loss tensor(0.3146)\n",
            "Time 36.78524708747864 loss tensor(0.3145)\n",
            "Time 36.87892413139343 loss tensor(0.3144)\n",
            "Time 36.969154596328735 loss tensor(0.3135)\n",
            "Time 37.060649156570435 loss tensor(0.3127)\n",
            "Time 37.157323360443115 loss tensor(0.3126)\n",
            "Time 37.24641251564026 loss tensor(0.3124)\n",
            "Time 37.33536720275879 loss tensor(0.3122)\n",
            "Time 37.43775701522827 loss tensor(0.3113)\n",
            "Time 37.52879333496094 loss tensor(0.3113)\n",
            "Time 37.62488603591919 loss tensor(0.3112)\n",
            "Time 37.730899810791016 loss tensor(0.3101)\n",
            "Time 37.82370901107788 loss tensor(0.3101)\n",
            "Time 37.912872552871704 loss tensor(0.3099)\n",
            "Time 38.006680727005005 loss tensor(0.3097)\n",
            "Time 38.09710764884949 loss tensor(0.3091)\n",
            "Time 38.19110584259033 loss tensor(0.3087)\n",
            "Time 38.28567147254944 loss tensor(0.3081)\n",
            "Time 38.376540184020996 loss tensor(0.3079)\n",
            "Time 38.47214484214783 loss tensor(0.3079)\n",
            "Time 38.566510915756226 loss tensor(0.3077)\n",
            "Time 38.657172203063965 loss tensor(0.3075)\n",
            "Time 38.7592658996582 loss tensor(0.3075)\n",
            "Time 38.852349042892456 loss tensor(0.3074)\n",
            "Time 38.94122052192688 loss tensor(0.3073)\n",
            "Time 39.03548192977905 loss tensor(0.3068)\n",
            "Time 39.13014817237854 loss tensor(0.3067)\n",
            "Time 39.219884395599365 loss tensor(0.3066)\n",
            "Time 39.31321120262146 loss tensor(0.3054)\n",
            "Time 39.40692472457886 loss tensor(0.3054)\n",
            "Time 39.500266551971436 loss tensor(0.3042)\n",
            "Time 39.59759259223938 loss tensor(0.3041)\n",
            "Time 39.691691637039185 loss tensor(0.3032)\n",
            "Time 39.797107458114624 loss tensor(0.3027)\n",
            "Time 39.88691258430481 loss tensor(0.3017)\n",
            "Time 39.978336572647095 loss tensor(0.3017)\n",
            "Time 40.07210612297058 loss tensor(0.3013)\n",
            "Time 40.16318106651306 loss tensor(0.3011)\n",
            "Time 40.25610065460205 loss tensor(0.3010)\n",
            "Time 40.34522819519043 loss tensor(0.2996)\n"
          ]
        }
      ]
    },
    {
      "cell_type": "code",
      "source": [
        "plt.plot(losses)"
      ],
      "metadata": {
        "id": "yqhSK6H4i5Ll",
        "outputId": "44a60876-611b-4964-b23f-98d3ce05b5ab",
        "colab": {
          "base_uri": "https://localhost:8080/",
          "height": 283
        }
      },
      "execution_count": 129,
      "outputs": [
        {
          "output_type": "execute_result",
          "data": {
            "text/plain": [
              "[<matplotlib.lines.Line2D at 0x7f856a271700>]"
            ]
          },
          "metadata": {},
          "execution_count": 129
        },
        {
          "output_type": "display_data",
          "data": {
            "text/plain": [
              "<Figure size 432x288 with 1 Axes>"
            ],
            "image/png": "[encoded data removed]"
          },
          "metadata": {
            "needs_background": "light"
          }
        }
      ]
    },
    {
      "cell_type": "code",
      "source": [
        "plt.plot(accuracies)"
      ],
      "metadata": {
        "colab": {
          "base_uri": "https://localhost:8080/",
          "height": 283
        },
        "id": "GtBfArSuC9Y8",
        "outputId": "b5ece40c-85ee-445c-cc45-4cae2f583b2f"
      },
      "execution_count": 130,
      "outputs": [
        {
          "output_type": "execute_result",
          "data": {
            "text/plain": [
              "[<matplotlib.lines.Line2D at 0x7f8560df12e0>]"
            ]
          },
          "metadata": {},
          "execution_count": 130
        },
        {
          "output_type": "display_data",
          "data": {
            "text/plain": [
              "<Figure size 432x288 with 1 Axes>"
            ],
            "image/png": "[encoded data removed]"
          },
          "metadata": {
            "needs_background": "light"
          }
        }
      ]
    },
    {
      "cell_type": "code",
      "source": [
        "plt.plot(errors)"
      ],
      "metadata": {
        "colab": {
          "base_uri": "https://localhost:8080/",
          "height": 283
        },
        "id": "FbauRNxMYsyf",
        "outputId": "3518c3f2-c978-414a-f908-7080bc7e93ec"
      },
      "execution_count": 131,
      "outputs": [
        {
          "output_type": "execute_result",
          "data": {
            "text/plain": [
              "[<matplotlib.lines.Line2D at 0x7f8560d540a0>]"
            ]
          },
          "metadata": {},
          "execution_count": 131
        },
        {
          "output_type": "display_data",
          "data": {
            "text/plain": [
              "<Figure size 432x288 with 1 Axes>"
            ],
            "image/png": "[encoded data removed]"
          },
          "metadata": {
            "needs_background": "light"
          }
        }
      ]
    }
  ]
}