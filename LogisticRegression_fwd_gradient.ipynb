{
  "nbformat": 4,
  "nbformat_minor": 0,
  "metadata": {
    "colab": {
      "provenance": [],
      "include_colab_link": true
    },
    "kernelspec": {
      "name": "python3",
      "display_name": "Python 3"
    },
    "language_info": {
      "name": "python"
    },
    "accelerator": "GPU",
    "gpuClass": "standard",
    "widgets": {
      "application/vnd.jupyter.widget-state+json": {
        "0735c3be7c85490492a4d47e9ad3bdf3": {
          "model_module": "@jupyter-widgets/controls",
          "model_name": "HBoxModel",
          "model_module_version": "1.5.0",
          "state": {
            "_dom_classes": [],
            "_model_module": "@jupyter-widgets/controls",
            "_model_module_version": "1.5.0",
            "_model_name": "HBoxModel",
            "_view_count": null,
            "_view_module": "@jupyter-widgets/controls",
            "_view_module_version": "1.5.0",
            "_view_name": "HBoxView",
            "box_style": "",
            "children": [
              "IPY_MODEL_bd111e62e78e4667a02295945648da61",
              "IPY_MODEL_552af52e089d4c359997201d714cd7f1",
              "IPY_MODEL_768d6d8c785241cea0cbb39451276c14"
            ],
            "layout": "IPY_MODEL_71369702f6aa4d9bb739cee830fd44b7"
          }
        },
        "bd111e62e78e4667a02295945648da61": {
          "model_module": "@jupyter-widgets/controls",
          "model_name": "HTMLModel",
          "model_module_version": "1.5.0",
          "state": {
            "_dom_classes": [],
            "_model_module": "@jupyter-widgets/controls",
            "_model_module_version": "1.5.0",
            "_model_name": "HTMLModel",
            "_view_count": null,
            "_view_module": "@jupyter-widgets/controls",
            "_view_module_version": "1.5.0",
            "_view_name": "HTMLView",
            "description": "",
            "description_tooltip": null,
            "layout": "IPY_MODEL_4fb6ef782c9d470489573a89c4cf4268",
            "placeholder": "​",
            "style": "IPY_MODEL_504174bd841e44318274495f93593323",
            "value": "Dl Completed...: 100%"
          }
        },
        "552af52e089d4c359997201d714cd7f1": {
          "model_module": "@jupyter-widgets/controls",
          "model_name": "FloatProgressModel",
          "model_module_version": "1.5.0",
          "state": {
            "_dom_classes": [],
            "_model_module": "@jupyter-widgets/controls",
            "_model_module_version": "1.5.0",
            "_model_name": "FloatProgressModel",
            "_view_count": null,
            "_view_module": "@jupyter-widgets/controls",
            "_view_module_version": "1.5.0",
            "_view_name": "ProgressView",
            "bar_style": "success",
            "description": "",
            "description_tooltip": null,
            "layout": "IPY_MODEL_5b8fda0ab4134a6fbefe5389e4cd91ad",
            "max": 1,
            "min": 0,
            "orientation": "horizontal",
            "style": "IPY_MODEL_2c331b919e434c63b160d952cd9c31b8",
            "value": 1
          }
        },
        "768d6d8c785241cea0cbb39451276c14": {
          "model_module": "@jupyter-widgets/controls",
          "model_name": "HTMLModel",
          "model_module_version": "1.5.0",
          "state": {
            "_dom_classes": [],
            "_model_module": "@jupyter-widgets/controls",
            "_model_module_version": "1.5.0",
            "_model_name": "HTMLModel",
            "_view_count": null,
            "_view_module": "@jupyter-widgets/controls",
            "_view_module_version": "1.5.0",
            "_view_name": "HTMLView",
            "description": "",
            "description_tooltip": null,
            "layout": "IPY_MODEL_a7858736612b4987aba1f3a660ee2945",
            "placeholder": "​",
            "style": "IPY_MODEL_b1fca139fd3b4e71804c79896c445c6f",
            "value": " 1/1 [00:00&lt;00:00,  4.60 url/s]"
          }
        },
        "71369702f6aa4d9bb739cee830fd44b7": {
          "model_module": "@jupyter-widgets/base",
          "model_name": "LayoutModel",
          "model_module_version": "1.2.0",
          "state": {
            "_model_module": "@jupyter-widgets/base",
            "_model_module_version": "1.2.0",
            "_model_name": "LayoutModel",
            "_view_count": null,
            "_view_module": "@jupyter-widgets/base",
            "_view_module_version": "1.2.0",
            "_view_name": "LayoutView",
            "align_content": null,
            "align_items": null,
            "align_self": null,
            "border": null,
            "bottom": null,
            "display": null,
            "flex": null,
            "flex_flow": null,
            "grid_area": null,
            "grid_auto_columns": null,
            "grid_auto_flow": null,
            "grid_auto_rows": null,
            "grid_column": null,
            "grid_gap": null,
            "grid_row": null,
            "grid_template_areas": null,
            "grid_template_columns": null,
            "grid_template_rows": null,
            "height": null,
            "justify_content": null,
            "justify_items": null,
            "left": null,
            "margin": null,
            "max_height": null,
            "max_width": null,
            "min_height": null,
            "min_width": null,
            "object_fit": null,
            "object_position": null,
            "order": null,
            "overflow": null,
            "overflow_x": null,
            "overflow_y": null,
            "padding": null,
            "right": null,
            "top": null,
            "visibility": null,
            "width": null
          }
        },
        "4fb6ef782c9d470489573a89c4cf4268": {
          "model_module": "@jupyter-widgets/base",
          "model_name": "LayoutModel",
          "model_module_version": "1.2.0",
          "state": {
            "_model_module": "@jupyter-widgets/base",
            "_model_module_version": "1.2.0",
            "_model_name": "LayoutModel",
            "_view_count": null,
            "_view_module": "@jupyter-widgets/base",
            "_view_module_version": "1.2.0",
            "_view_name": "LayoutView",
            "align_content": null,
            "align_items": null,
            "align_self": null,
            "border": null,
            "bottom": null,
            "display": null,
            "flex": null,
            "flex_flow": null,
            "grid_area": null,
            "grid_auto_columns": null,
            "grid_auto_flow": null,
            "grid_auto_rows": null,
            "grid_column": null,
            "grid_gap": null,
            "grid_row": null,
            "grid_template_areas": null,
            "grid_template_columns": null,
            "grid_template_rows": null,
            "height": null,
            "justify_content": null,
            "justify_items": null,
            "left": null,
            "margin": null,
            "max_height": null,
            "max_width": null,
            "min_height": null,
            "min_width": null,
            "object_fit": null,
            "object_position": null,
            "order": null,
            "overflow": null,
            "overflow_x": null,
            "overflow_y": null,
            "padding": null,
            "right": null,
            "top": null,
            "visibility": null,
            "width": null
          }
        },
        "504174bd841e44318274495f93593323": {
          "model_module": "@jupyter-widgets/controls",
          "model_name": "DescriptionStyleModel",
          "model_module_version": "1.5.0",
          "state": {
            "_model_module": "@jupyter-widgets/controls",
            "_model_module_version": "1.5.0",
            "_model_name": "DescriptionStyleModel",
            "_view_count": null,
            "_view_module": "@jupyter-widgets/base",
            "_view_module_version": "1.2.0",
            "_view_name": "StyleView",
            "description_width": ""
          }
        },
        "5b8fda0ab4134a6fbefe5389e4cd91ad": {
          "model_module": "@jupyter-widgets/base",
          "model_name": "LayoutModel",
          "model_module_version": "1.2.0",
          "state": {
            "_model_module": "@jupyter-widgets/base",
            "_model_module_version": "1.2.0",
            "_model_name": "LayoutModel",
            "_view_count": null,
            "_view_module": "@jupyter-widgets/base",
            "_view_module_version": "1.2.0",
            "_view_name": "LayoutView",
            "align_content": null,
            "align_items": null,
            "align_self": null,
            "border": null,
            "bottom": null,
            "display": null,
            "flex": null,
            "flex_flow": null,
            "grid_area": null,
            "grid_auto_columns": null,
            "grid_auto_flow": null,
            "grid_auto_rows": null,
            "grid_column": null,
            "grid_gap": null,
            "grid_row": null,
            "grid_template_areas": null,
            "grid_template_columns": null,
            "grid_template_rows": null,
            "height": null,
            "justify_content": null,
            "justify_items": null,
            "left": null,
            "margin": null,
            "max_height": null,
            "max_width": null,
            "min_height": null,
            "min_width": null,
            "object_fit": null,
            "object_position": null,
            "order": null,
            "overflow": null,
            "overflow_x": null,
            "overflow_y": null,
            "padding": null,
            "right": null,
            "top": null,
            "visibility": null,
            "width": "20px"
          }
        },
        "2c331b919e434c63b160d952cd9c31b8": {
          "model_module": "@jupyter-widgets/controls",
          "model_name": "ProgressStyleModel",
          "model_module_version": "1.5.0",
          "state": {
            "_model_module": "@jupyter-widgets/controls",
            "_model_module_version": "1.5.0",
            "_model_name": "ProgressStyleModel",
            "_view_count": null,
            "_view_module": "@jupyter-widgets/base",
            "_view_module_version": "1.2.0",
            "_view_name": "StyleView",
            "bar_color": null,
            "description_width": ""
          }
        },
        "a7858736612b4987aba1f3a660ee2945": {
          "model_module": "@jupyter-widgets/base",
          "model_name": "LayoutModel",
          "model_module_version": "1.2.0",
          "state": {
            "_model_module": "@jupyter-widgets/base",
            "_model_module_version": "1.2.0",
            "_model_name": "LayoutModel",
            "_view_count": null,
            "_view_module": "@jupyter-widgets/base",
            "_view_module_version": "1.2.0",
            "_view_name": "LayoutView",
            "align_content": null,
            "align_items": null,
            "align_self": null,
            "border": null,
            "bottom": null,
            "display": null,
            "flex": null,
            "flex_flow": null,
            "grid_area": null,
            "grid_auto_columns": null,
            "grid_auto_flow": null,
            "grid_auto_rows": null,
            "grid_column": null,
            "grid_gap": null,
            "grid_row": null,
            "grid_template_areas": null,
            "grid_template_columns": null,
            "grid_template_rows": null,
            "height": null,
            "justify_content": null,
            "justify_items": null,
            "left": null,
            "margin": null,
            "max_height": null,
            "max_width": null,
            "min_height": null,
            "min_width": null,
            "object_fit": null,
            "object_position": null,
            "order": null,
            "overflow": null,
            "overflow_x": null,
            "overflow_y": null,
            "padding": null,
            "right": null,
            "top": null,
            "visibility": null,
            "width": null
          }
        },
        "b1fca139fd3b4e71804c79896c445c6f": {
          "model_module": "@jupyter-widgets/controls",
          "model_name": "DescriptionStyleModel",
          "model_module_version": "1.5.0",
          "state": {
            "_model_module": "@jupyter-widgets/controls",
            "_model_module_version": "1.5.0",
            "_model_name": "DescriptionStyleModel",
            "_view_count": null,
            "_view_module": "@jupyter-widgets/base",
            "_view_module_version": "1.2.0",
            "_view_name": "StyleView",
            "description_width": ""
          }
        },
        "943b7b53528d4ab88d02d2a107bb446e": {
          "model_module": "@jupyter-widgets/controls",
          "model_name": "HBoxModel",
          "model_module_version": "1.5.0",
          "state": {
            "_dom_classes": [],
            "_model_module": "@jupyter-widgets/controls",
            "_model_module_version": "1.5.0",
            "_model_name": "HBoxModel",
            "_view_count": null,
            "_view_module": "@jupyter-widgets/controls",
            "_view_module_version": "1.5.0",
            "_view_name": "HBoxView",
            "box_style": "",
            "children": [
              "IPY_MODEL_a005137fe04944629c95fa002e62f5d7",
              "IPY_MODEL_63bce6a9785e47f7827d0d684260b359",
              "IPY_MODEL_6196b600db32441cad89324b5ed366e0"
            ],
            "layout": "IPY_MODEL_b937022c8d9648868d75a5e27f73e0b6"
          }
        },
        "a005137fe04944629c95fa002e62f5d7": {
          "model_module": "@jupyter-widgets/controls",
          "model_name": "HTMLModel",
          "model_module_version": "1.5.0",
          "state": {
            "_dom_classes": [],
            "_model_module": "@jupyter-widgets/controls",
            "_model_module_version": "1.5.0",
            "_model_name": "HTMLModel",
            "_view_count": null,
            "_view_module": "@jupyter-widgets/controls",
            "_view_module_version": "1.5.0",
            "_view_name": "HTMLView",
            "description": "",
            "description_tooltip": null,
            "layout": "IPY_MODEL_18cc9b5c9f15431f95f376ab6f69b81a",
            "placeholder": "​",
            "style": "IPY_MODEL_ea6646d7c03745f39fc5cbde40050087",
            "value": "Dl Size...: "
          }
        },
        "63bce6a9785e47f7827d0d684260b359": {
          "model_module": "@jupyter-widgets/controls",
          "model_name": "FloatProgressModel",
          "model_module_version": "1.5.0",
          "state": {
            "_dom_classes": [],
            "_model_module": "@jupyter-widgets/controls",
            "_model_module_version": "1.5.0",
            "_model_name": "FloatProgressModel",
            "_view_count": null,
            "_view_module": "@jupyter-widgets/controls",
            "_view_module_version": "1.5.0",
            "_view_name": "ProgressView",
            "bar_style": "success",
            "description": "",
            "description_tooltip": null,
            "layout": "IPY_MODEL_96e9fdfe9aba493cb76f21b3ec1fb7e1",
            "max": 1,
            "min": 0,
            "orientation": "horizontal",
            "style": "IPY_MODEL_7ba3c1e5795343febf4e6abe01cff5f4",
            "value": 0
          }
        },
        "6196b600db32441cad89324b5ed366e0": {
          "model_module": "@jupyter-widgets/controls",
          "model_name": "HTMLModel",
          "model_module_version": "1.5.0",
          "state": {
            "_dom_classes": [],
            "_model_module": "@jupyter-widgets/controls",
            "_model_module_version": "1.5.0",
            "_model_name": "HTMLModel",
            "_view_count": null,
            "_view_module": "@jupyter-widgets/controls",
            "_view_module_version": "1.5.0",
            "_view_name": "HTMLView",
            "description": "",
            "description_tooltip": null,
            "layout": "IPY_MODEL_d46b427087834a988bfc06abf99319e3",
            "placeholder": "​",
            "style": "IPY_MODEL_c24ceb07bdaa43ae97082217846ab452",
            "value": " 0/0 [00:00&lt;?, ? MiB/s]"
          }
        },
        "b937022c8d9648868d75a5e27f73e0b6": {
          "model_module": "@jupyter-widgets/base",
          "model_name": "LayoutModel",
          "model_module_version": "1.2.0",
          "state": {
            "_model_module": "@jupyter-widgets/base",
            "_model_module_version": "1.2.0",
            "_model_name": "LayoutModel",
            "_view_count": null,
            "_view_module": "@jupyter-widgets/base",
            "_view_module_version": "1.2.0",
            "_view_name": "LayoutView",
            "align_content": null,
            "align_items": null,
            "align_self": null,
            "border": null,
            "bottom": null,
            "display": null,
            "flex": null,
            "flex_flow": null,
            "grid_area": null,
            "grid_auto_columns": null,
            "grid_auto_flow": null,
            "grid_auto_rows": null,
            "grid_column": null,
            "grid_gap": null,
            "grid_row": null,
            "grid_template_areas": null,
            "grid_template_columns": null,
            "grid_template_rows": null,
            "height": null,
            "justify_content": null,
            "justify_items": null,
            "left": null,
            "margin": null,
            "max_height": null,
            "max_width": null,
            "min_height": null,
            "min_width": null,
            "object_fit": null,
            "object_position": null,
            "order": null,
            "overflow": null,
            "overflow_x": null,
            "overflow_y": null,
            "padding": null,
            "right": null,
            "top": null,
            "visibility": null,
            "width": null
          }
        },
        "18cc9b5c9f15431f95f376ab6f69b81a": {
          "model_module": "@jupyter-widgets/base",
          "model_name": "LayoutModel",
          "model_module_version": "1.2.0",
          "state": {
            "_model_module": "@jupyter-widgets/base",
            "_model_module_version": "1.2.0",
            "_model_name": "LayoutModel",
            "_view_count": null,
            "_view_module": "@jupyter-widgets/base",
            "_view_module_version": "1.2.0",
            "_view_name": "LayoutView",
            "align_content": null,
            "align_items": null,
            "align_self": null,
            "border": null,
            "bottom": null,
            "display": null,
            "flex": null,
            "flex_flow": null,
            "grid_area": null,
            "grid_auto_columns": null,
            "grid_auto_flow": null,
            "grid_auto_rows": null,
            "grid_column": null,
            "grid_gap": null,
            "grid_row": null,
            "grid_template_areas": null,
            "grid_template_columns": null,
            "grid_template_rows": null,
            "height": null,
            "justify_content": null,
            "justify_items": null,
            "left": null,
            "margin": null,
            "max_height": null,
            "max_width": null,
            "min_height": null,
            "min_width": null,
            "object_fit": null,
            "object_position": null,
            "order": null,
            "overflow": null,
            "overflow_x": null,
            "overflow_y": null,
            "padding": null,
            "right": null,
            "top": null,
            "visibility": null,
            "width": null
          }
        },
        "ea6646d7c03745f39fc5cbde40050087": {
          "model_module": "@jupyter-widgets/controls",
          "model_name": "DescriptionStyleModel",
          "model_module_version": "1.5.0",
          "state": {
            "_model_module": "@jupyter-widgets/controls",
            "_model_module_version": "1.5.0",
            "_model_name": "DescriptionStyleModel",
            "_view_count": null,
            "_view_module": "@jupyter-widgets/base",
            "_view_module_version": "1.2.0",
            "_view_name": "StyleView",
            "description_width": ""
          }
        },
        "96e9fdfe9aba493cb76f21b3ec1fb7e1": {
          "model_module": "@jupyter-widgets/base",
          "model_name": "LayoutModel",
          "model_module_version": "1.2.0",
          "state": {
            "_model_module": "@jupyter-widgets/base",
            "_model_module_version": "1.2.0",
            "_model_name": "LayoutModel",
            "_view_count": null,
            "_view_module": "@jupyter-widgets/base",
            "_view_module_version": "1.2.0",
            "_view_name": "LayoutView",
            "align_content": null,
            "align_items": null,
            "align_self": null,
            "border": null,
            "bottom": null,
            "display": null,
            "flex": null,
            "flex_flow": null,
            "grid_area": null,
            "grid_auto_columns": null,
            "grid_auto_flow": null,
            "grid_auto_rows": null,
            "grid_column": null,
            "grid_gap": null,
            "grid_row": null,
            "grid_template_areas": null,
            "grid_template_columns": null,
            "grid_template_rows": null,
            "height": null,
            "justify_content": null,
            "justify_items": null,
            "left": null,
            "margin": null,
            "max_height": null,
            "max_width": null,
            "min_height": null,
            "min_width": null,
            "object_fit": null,
            "object_position": null,
            "order": null,
            "overflow": null,
            "overflow_x": null,
            "overflow_y": null,
            "padding": null,
            "right": null,
            "top": null,
            "visibility": null,
            "width": "20px"
          }
        },
        "7ba3c1e5795343febf4e6abe01cff5f4": {
          "model_module": "@jupyter-widgets/controls",
          "model_name": "ProgressStyleModel",
          "model_module_version": "1.5.0",
          "state": {
            "_model_module": "@jupyter-widgets/controls",
            "_model_module_version": "1.5.0",
            "_model_name": "ProgressStyleModel",
            "_view_count": null,
            "_view_module": "@jupyter-widgets/base",
            "_view_module_version": "1.2.0",
            "_view_name": "StyleView",
            "bar_color": null,
            "description_width": ""
          }
        },
        "d46b427087834a988bfc06abf99319e3": {
          "model_module": "@jupyter-widgets/base",
          "model_name": "LayoutModel",
          "model_module_version": "1.2.0",
          "state": {
            "_model_module": "@jupyter-widgets/base",
            "_model_module_version": "1.2.0",
            "_model_name": "LayoutModel",
            "_view_count": null,
            "_view_module": "@jupyter-widgets/base",
            "_view_module_version": "1.2.0",
            "_view_name": "LayoutView",
            "align_content": null,
            "align_items": null,
            "align_self": null,
            "border": null,
            "bottom": null,
            "display": null,
            "flex": null,
            "flex_flow": null,
            "grid_area": null,
            "grid_auto_columns": null,
            "grid_auto_flow": null,
            "grid_auto_rows": null,
            "grid_column": null,
            "grid_gap": null,
            "grid_row": null,
            "grid_template_areas": null,
            "grid_template_columns": null,
            "grid_template_rows": null,
            "height": null,
            "justify_content": null,
            "justify_items": null,
            "left": null,
            "margin": null,
            "max_height": null,
            "max_width": null,
            "min_height": null,
            "min_width": null,
            "object_fit": null,
            "object_position": null,
            "order": null,
            "overflow": null,
            "overflow_x": null,
            "overflow_y": null,
            "padding": null,
            "right": null,
            "top": null,
            "visibility": null,
            "width": null
          }
        },
        "c24ceb07bdaa43ae97082217846ab452": {
          "model_module": "@jupyter-widgets/controls",
          "model_name": "DescriptionStyleModel",
          "model_module_version": "1.5.0",
          "state": {
            "_model_module": "@jupyter-widgets/controls",
            "_model_module_version": "1.5.0",
            "_model_name": "DescriptionStyleModel",
            "_view_count": null,
            "_view_module": "@jupyter-widgets/base",
            "_view_module_version": "1.2.0",
            "_view_name": "StyleView",
            "description_width": ""
          }
        },
        "32ecc23d4b6a4046befd9f820aa09a40": {
          "model_module": "@jupyter-widgets/controls",
          "model_name": "HBoxModel",
          "model_module_version": "1.5.0",
          "state": {
            "_dom_classes": [],
            "_model_module": "@jupyter-widgets/controls",
            "_model_module_version": "1.5.0",
            "_model_name": "HBoxModel",
            "_view_count": null,
            "_view_module": "@jupyter-widgets/controls",
            "_view_module_version": "1.5.0",
            "_view_name": "HBoxView",
            "box_style": "",
            "children": [
              "IPY_MODEL_f01277083829496093ccdf593affaa63",
              "IPY_MODEL_ed1509e5f5fd416390fba80fbdb902b2",
              "IPY_MODEL_6e47e1377cbb47deaa4ed41ffccd6b45"
            ],
            "layout": "IPY_MODEL_650215dffe8344e99fc382686c738131"
          }
        },
        "f01277083829496093ccdf593affaa63": {
          "model_module": "@jupyter-widgets/controls",
          "model_name": "HTMLModel",
          "model_module_version": "1.5.0",
          "state": {
            "_dom_classes": [],
            "_model_module": "@jupyter-widgets/controls",
            "_model_module_version": "1.5.0",
            "_model_name": "HTMLModel",
            "_view_count": null,
            "_view_module": "@jupyter-widgets/controls",
            "_view_module_version": "1.5.0",
            "_view_name": "HTMLView",
            "description": "",
            "description_tooltip": null,
            "layout": "IPY_MODEL_8f1a9bdd419a429e95e86ba9b8f9b71c",
            "placeholder": "​",
            "style": "IPY_MODEL_24651a56bbf8466084b1ccdf8592ee72",
            "value": "Generating splits...: 100%"
          }
        },
        "ed1509e5f5fd416390fba80fbdb902b2": {
          "model_module": "@jupyter-widgets/controls",
          "model_name": "FloatProgressModel",
          "model_module_version": "1.5.0",
          "state": {
            "_dom_classes": [],
            "_model_module": "@jupyter-widgets/controls",
            "_model_module_version": "1.5.0",
            "_model_name": "FloatProgressModel",
            "_view_count": null,
            "_view_module": "@jupyter-widgets/controls",
            "_view_module_version": "1.5.0",
            "_view_name": "ProgressView",
            "bar_style": "",
            "description": "",
            "description_tooltip": null,
            "layout": "IPY_MODEL_469afdc1ee9b45fcaae185e7000501df",
            "max": 1,
            "min": 0,
            "orientation": "horizontal",
            "style": "IPY_MODEL_028f3f5f35294e0da28446505c421c2b",
            "value": 1
          }
        },
        "6e47e1377cbb47deaa4ed41ffccd6b45": {
          "model_module": "@jupyter-widgets/controls",
          "model_name": "HTMLModel",
          "model_module_version": "1.5.0",
          "state": {
            "_dom_classes": [],
            "_model_module": "@jupyter-widgets/controls",
            "_model_module_version": "1.5.0",
            "_model_name": "HTMLModel",
            "_view_count": null,
            "_view_module": "@jupyter-widgets/controls",
            "_view_module_version": "1.5.0",
            "_view_name": "HTMLView",
            "description": "",
            "description_tooltip": null,
            "layout": "IPY_MODEL_81d3c3763b42429c899bf5c514f3c242",
            "placeholder": "​",
            "style": "IPY_MODEL_3366e019fadf48359230aa7a17440764",
            "value": " 1/1 [00:00&lt;00:00,  2.36 splits/s]"
          }
        },
        "650215dffe8344e99fc382686c738131": {
          "model_module": "@jupyter-widgets/base",
          "model_name": "LayoutModel",
          "model_module_version": "1.2.0",
          "state": {
            "_model_module": "@jupyter-widgets/base",
            "_model_module_version": "1.2.0",
            "_model_name": "LayoutModel",
            "_view_count": null,
            "_view_module": "@jupyter-widgets/base",
            "_view_module_version": "1.2.0",
            "_view_name": "LayoutView",
            "align_content": null,
            "align_items": null,
            "align_self": null,
            "border": null,
            "bottom": null,
            "display": null,
            "flex": null,
            "flex_flow": null,
            "grid_area": null,
            "grid_auto_columns": null,
            "grid_auto_flow": null,
            "grid_auto_rows": null,
            "grid_column": null,
            "grid_gap": null,
            "grid_row": null,
            "grid_template_areas": null,
            "grid_template_columns": null,
            "grid_template_rows": null,
            "height": null,
            "justify_content": null,
            "justify_items": null,
            "left": null,
            "margin": null,
            "max_height": null,
            "max_width": null,
            "min_height": null,
            "min_width": null,
            "object_fit": null,
            "object_position": null,
            "order": null,
            "overflow": null,
            "overflow_x": null,
            "overflow_y": null,
            "padding": null,
            "right": null,
            "top": null,
            "visibility": "hidden",
            "width": null
          }
        },
        "8f1a9bdd419a429e95e86ba9b8f9b71c": {
          "model_module": "@jupyter-widgets/base",
          "model_name": "LayoutModel",
          "model_module_version": "1.2.0",
          "state": {
            "_model_module": "@jupyter-widgets/base",
            "_model_module_version": "1.2.0",
            "_model_name": "LayoutModel",
            "_view_count": null,
            "_view_module": "@jupyter-widgets/base",
            "_view_module_version": "1.2.0",
            "_view_name": "LayoutView",
            "align_content": null,
            "align_items": null,
            "align_self": null,
            "border": null,
            "bottom": null,
            "display": null,
            "flex": null,
            "flex_flow": null,
            "grid_area": null,
            "grid_auto_columns": null,
            "grid_auto_flow": null,
            "grid_auto_rows": null,
            "grid_column": null,
            "grid_gap": null,
            "grid_row": null,
            "grid_template_areas": null,
            "grid_template_columns": null,
            "grid_template_rows": null,
            "height": null,
            "justify_content": null,
            "justify_items": null,
            "left": null,
            "margin": null,
            "max_height": null,
            "max_width": null,
            "min_height": null,
            "min_width": null,
            "object_fit": null,
            "object_position": null,
            "order": null,
            "overflow": null,
            "overflow_x": null,
            "overflow_y": null,
            "padding": null,
            "right": null,
            "top": null,
            "visibility": null,
            "width": null
          }
        },
        "24651a56bbf8466084b1ccdf8592ee72": {
          "model_module": "@jupyter-widgets/controls",
          "model_name": "DescriptionStyleModel",
          "model_module_version": "1.5.0",
          "state": {
            "_model_module": "@jupyter-widgets/controls",
            "_model_module_version": "1.5.0",
            "_model_name": "DescriptionStyleModel",
            "_view_count": null,
            "_view_module": "@jupyter-widgets/base",
            "_view_module_version": "1.2.0",
            "_view_name": "StyleView",
            "description_width": ""
          }
        },
        "469afdc1ee9b45fcaae185e7000501df": {
          "model_module": "@jupyter-widgets/base",
          "model_name": "LayoutModel",
          "model_module_version": "1.2.0",
          "state": {
            "_model_module": "@jupyter-widgets/base",
            "_model_module_version": "1.2.0",
            "_model_name": "LayoutModel",
            "_view_count": null,
            "_view_module": "@jupyter-widgets/base",
            "_view_module_version": "1.2.0",
            "_view_name": "LayoutView",
            "align_content": null,
            "align_items": null,
            "align_self": null,
            "border": null,
            "bottom": null,
            "display": null,
            "flex": null,
            "flex_flow": null,
            "grid_area": null,
            "grid_auto_columns": null,
            "grid_auto_flow": null,
            "grid_auto_rows": null,
            "grid_column": null,
            "grid_gap": null,
            "grid_row": null,
            "grid_template_areas": null,
            "grid_template_columns": null,
            "grid_template_rows": null,
            "height": null,
            "justify_content": null,
            "justify_items": null,
            "left": null,
            "margin": null,
            "max_height": null,
            "max_width": null,
            "min_height": null,
            "min_width": null,
            "object_fit": null,
            "object_position": null,
            "order": null,
            "overflow": null,
            "overflow_x": null,
            "overflow_y": null,
            "padding": null,
            "right": null,
            "top": null,
            "visibility": null,
            "width": null
          }
        },
        "028f3f5f35294e0da28446505c421c2b": {
          "model_module": "@jupyter-widgets/controls",
          "model_name": "ProgressStyleModel",
          "model_module_version": "1.5.0",
          "state": {
            "_model_module": "@jupyter-widgets/controls",
            "_model_module_version": "1.5.0",
            "_model_name": "ProgressStyleModel",
            "_view_count": null,
            "_view_module": "@jupyter-widgets/base",
            "_view_module_version": "1.2.0",
            "_view_name": "StyleView",
            "bar_color": null,
            "description_width": ""
          }
        },
        "81d3c3763b42429c899bf5c514f3c242": {
          "model_module": "@jupyter-widgets/base",
          "model_name": "LayoutModel",
          "model_module_version": "1.2.0",
          "state": {
            "_model_module": "@jupyter-widgets/base",
            "_model_module_version": "1.2.0",
            "_model_name": "LayoutModel",
            "_view_count": null,
            "_view_module": "@jupyter-widgets/base",
            "_view_module_version": "1.2.0",
            "_view_name": "LayoutView",
            "align_content": null,
            "align_items": null,
            "align_self": null,
            "border": null,
            "bottom": null,
            "display": null,
            "flex": null,
            "flex_flow": null,
            "grid_area": null,
            "grid_auto_columns": null,
            "grid_auto_flow": null,
            "grid_auto_rows": null,
            "grid_column": null,
            "grid_gap": null,
            "grid_row": null,
            "grid_template_areas": null,
            "grid_template_columns": null,
            "grid_template_rows": null,
            "height": null,
            "justify_content": null,
            "justify_items": null,
            "left": null,
            "margin": null,
            "max_height": null,
            "max_width": null,
            "min_height": null,
            "min_width": null,
            "object_fit": null,
            "object_position": null,
            "order": null,
            "overflow": null,
            "overflow_x": null,
            "overflow_y": null,
            "padding": null,
            "right": null,
            "top": null,
            "visibility": null,
            "width": null
          }
        },
        "3366e019fadf48359230aa7a17440764": {
          "model_module": "@jupyter-widgets/controls",
          "model_name": "DescriptionStyleModel",
          "model_module_version": "1.5.0",
          "state": {
            "_model_module": "@jupyter-widgets/controls",
            "_model_module_version": "1.5.0",
            "_model_name": "DescriptionStyleModel",
            "_view_count": null,
            "_view_module": "@jupyter-widgets/base",
            "_view_module_version": "1.2.0",
            "_view_name": "StyleView",
            "description_width": ""
          }
        },
        "7856c5ff479b4fe88e55e92267bc0363": {
          "model_module": "@jupyter-widgets/controls",
          "model_name": "HBoxModel",
          "model_module_version": "1.5.0",
          "state": {
            "_dom_classes": [],
            "_model_module": "@jupyter-widgets/controls",
            "_model_module_version": "1.5.0",
            "_model_name": "HBoxModel",
            "_view_count": null,
            "_view_module": "@jupyter-widgets/controls",
            "_view_module_version": "1.5.0",
            "_view_name": "HBoxView",
            "box_style": "",
            "children": [
              "IPY_MODEL_abafcd70bbf947c78bf103669f68d65e",
              "IPY_MODEL_db2f83e2fce84219bff28c4e371a85f5",
              "IPY_MODEL_c801dd7558634e47962b3ca201e6d194"
            ],
            "layout": "IPY_MODEL_7ef0c87e6b0d417dbbce6869a482454c"
          }
        },
        "abafcd70bbf947c78bf103669f68d65e": {
          "model_module": "@jupyter-widgets/controls",
          "model_name": "HTMLModel",
          "model_module_version": "1.5.0",
          "state": {
            "_dom_classes": [],
            "_model_module": "@jupyter-widgets/controls",
            "_model_module_version": "1.5.0",
            "_model_name": "HTMLModel",
            "_view_count": null,
            "_view_module": "@jupyter-widgets/controls",
            "_view_module_version": "1.5.0",
            "_view_name": "HTMLView",
            "description": "",
            "description_tooltip": null,
            "layout": "IPY_MODEL_b4f68d11d2764b099ac7ae2b86319657",
            "placeholder": "​",
            "style": "IPY_MODEL_3c4ce295a5b44f49b9bc8b9c2722780c",
            "value": "Generating train examples...:  57%"
          }
        },
        "db2f83e2fce84219bff28c4e371a85f5": {
          "model_module": "@jupyter-widgets/controls",
          "model_name": "FloatProgressModel",
          "model_module_version": "1.5.0",
          "state": {
            "_dom_classes": [],
            "_model_module": "@jupyter-widgets/controls",
            "_model_module_version": "1.5.0",
            "_model_name": "FloatProgressModel",
            "_view_count": null,
            "_view_module": "@jupyter-widgets/controls",
            "_view_module_version": "1.5.0",
            "_view_name": "ProgressView",
            "bar_style": "",
            "description": "",
            "description_tooltip": null,
            "layout": "IPY_MODEL_8ab09a0e13284598ad3b6f7e27146f4c",
            "max": 334,
            "min": 0,
            "orientation": "horizontal",
            "style": "IPY_MODEL_513606b53add4e0d9770fe1548b5ff31",
            "value": 334
          }
        },
        "c801dd7558634e47962b3ca201e6d194": {
          "model_module": "@jupyter-widgets/controls",
          "model_name": "HTMLModel",
          "model_module_version": "1.5.0",
          "state": {
            "_dom_classes": [],
            "_model_module": "@jupyter-widgets/controls",
            "_model_module_version": "1.5.0",
            "_model_name": "HTMLModel",
            "_view_count": null,
            "_view_module": "@jupyter-widgets/controls",
            "_view_module_version": "1.5.0",
            "_view_name": "HTMLView",
            "description": "",
            "description_tooltip": null,
            "layout": "IPY_MODEL_c0c0d0f1d99f488987bc31849af5add5",
            "placeholder": "​",
            "style": "IPY_MODEL_c3e55d3810b546a19fb15863d63abcbf",
            "value": " 190/334 [00:00&lt;00:00, 962.51 examples/s]"
          }
        },
        "7ef0c87e6b0d417dbbce6869a482454c": {
          "model_module": "@jupyter-widgets/base",
          "model_name": "LayoutModel",
          "model_module_version": "1.2.0",
          "state": {
            "_model_module": "@jupyter-widgets/base",
            "_model_module_version": "1.2.0",
            "_model_name": "LayoutModel",
            "_view_count": null,
            "_view_module": "@jupyter-widgets/base",
            "_view_module_version": "1.2.0",
            "_view_name": "LayoutView",
            "align_content": null,
            "align_items": null,
            "align_self": null,
            "border": null,
            "bottom": null,
            "display": null,
            "flex": null,
            "flex_flow": null,
            "grid_area": null,
            "grid_auto_columns": null,
            "grid_auto_flow": null,
            "grid_auto_rows": null,
            "grid_column": null,
            "grid_gap": null,
            "grid_row": null,
            "grid_template_areas": null,
            "grid_template_columns": null,
            "grid_template_rows": null,
            "height": null,
            "justify_content": null,
            "justify_items": null,
            "left": null,
            "margin": null,
            "max_height": null,
            "max_width": null,
            "min_height": null,
            "min_width": null,
            "object_fit": null,
            "object_position": null,
            "order": null,
            "overflow": null,
            "overflow_x": null,
            "overflow_y": null,
            "padding": null,
            "right": null,
            "top": null,
            "visibility": "hidden",
            "width": null
          }
        },
        "b4f68d11d2764b099ac7ae2b86319657": {
          "model_module": "@jupyter-widgets/base",
          "model_name": "LayoutModel",
          "model_module_version": "1.2.0",
          "state": {
            "_model_module": "@jupyter-widgets/base",
            "_model_module_version": "1.2.0",
            "_model_name": "LayoutModel",
            "_view_count": null,
            "_view_module": "@jupyter-widgets/base",
            "_view_module_version": "1.2.0",
            "_view_name": "LayoutView",
            "align_content": null,
            "align_items": null,
            "align_self": null,
            "border": null,
            "bottom": null,
            "display": null,
            "flex": null,
            "flex_flow": null,
            "grid_area": null,
            "grid_auto_columns": null,
            "grid_auto_flow": null,
            "grid_auto_rows": null,
            "grid_column": null,
            "grid_gap": null,
            "grid_row": null,
            "grid_template_areas": null,
            "grid_template_columns": null,
            "grid_template_rows": null,
            "height": null,
            "justify_content": null,
            "justify_items": null,
            "left": null,
            "margin": null,
            "max_height": null,
            "max_width": null,
            "min_height": null,
            "min_width": null,
            "object_fit": null,
            "object_position": null,
            "order": null,
            "overflow": null,
            "overflow_x": null,
            "overflow_y": null,
            "padding": null,
            "right": null,
            "top": null,
            "visibility": null,
            "width": null
          }
        },
        "3c4ce295a5b44f49b9bc8b9c2722780c": {
          "model_module": "@jupyter-widgets/controls",
          "model_name": "DescriptionStyleModel",
          "model_module_version": "1.5.0",
          "state": {
            "_model_module": "@jupyter-widgets/controls",
            "_model_module_version": "1.5.0",
            "_model_name": "DescriptionStyleModel",
            "_view_count": null,
            "_view_module": "@jupyter-widgets/base",
            "_view_module_version": "1.2.0",
            "_view_name": "StyleView",
            "description_width": ""
          }
        },
        "8ab09a0e13284598ad3b6f7e27146f4c": {
          "model_module": "@jupyter-widgets/base",
          "model_name": "LayoutModel",
          "model_module_version": "1.2.0",
          "state": {
            "_model_module": "@jupyter-widgets/base",
            "_model_module_version": "1.2.0",
            "_model_name": "LayoutModel",
            "_view_count": null,
            "_view_module": "@jupyter-widgets/base",
            "_view_module_version": "1.2.0",
            "_view_name": "LayoutView",
            "align_content": null,
            "align_items": null,
            "align_self": null,
            "border": null,
            "bottom": null,
            "display": null,
            "flex": null,
            "flex_flow": null,
            "grid_area": null,
            "grid_auto_columns": null,
            "grid_auto_flow": null,
            "grid_auto_rows": null,
            "grid_column": null,
            "grid_gap": null,
            "grid_row": null,
            "grid_template_areas": null,
            "grid_template_columns": null,
            "grid_template_rows": null,
            "height": null,
            "justify_content": null,
            "justify_items": null,
            "left": null,
            "margin": null,
            "max_height": null,
            "max_width": null,
            "min_height": null,
            "min_width": null,
            "object_fit": null,
            "object_position": null,
            "order": null,
            "overflow": null,
            "overflow_x": null,
            "overflow_y": null,
            "padding": null,
            "right": null,
            "top": null,
            "visibility": null,
            "width": null
          }
        },
        "513606b53add4e0d9770fe1548b5ff31": {
          "model_module": "@jupyter-widgets/controls",
          "model_name": "ProgressStyleModel",
          "model_module_version": "1.5.0",
          "state": {
            "_model_module": "@jupyter-widgets/controls",
            "_model_module_version": "1.5.0",
            "_model_name": "ProgressStyleModel",
            "_view_count": null,
            "_view_module": "@jupyter-widgets/base",
            "_view_module_version": "1.2.0",
            "_view_name": "StyleView",
            "bar_color": null,
            "description_width": ""
          }
        },
        "c0c0d0f1d99f488987bc31849af5add5": {
          "model_module": "@jupyter-widgets/base",
          "model_name": "LayoutModel",
          "model_module_version": "1.2.0",
          "state": {
            "_model_module": "@jupyter-widgets/base",
            "_model_module_version": "1.2.0",
            "_model_name": "LayoutModel",
            "_view_count": null,
            "_view_module": "@jupyter-widgets/base",
            "_view_module_version": "1.2.0",
            "_view_name": "LayoutView",
            "align_content": null,
            "align_items": null,
            "align_self": null,
            "border": null,
            "bottom": null,
            "display": null,
            "flex": null,
            "flex_flow": null,
            "grid_area": null,
            "grid_auto_columns": null,
            "grid_auto_flow": null,
            "grid_auto_rows": null,
            "grid_column": null,
            "grid_gap": null,
            "grid_row": null,
            "grid_template_areas": null,
            "grid_template_columns": null,
            "grid_template_rows": null,
            "height": null,
            "justify_content": null,
            "justify_items": null,
            "left": null,
            "margin": null,
            "max_height": null,
            "max_width": null,
            "min_height": null,
            "min_width": null,
            "object_fit": null,
            "object_position": null,
            "order": null,
            "overflow": null,
            "overflow_x": null,
            "overflow_y": null,
            "padding": null,
            "right": null,
            "top": null,
            "visibility": null,
            "width": null
          }
        },
        "c3e55d3810b546a19fb15863d63abcbf": {
          "model_module": "@jupyter-widgets/controls",
          "model_name": "DescriptionStyleModel",
          "model_module_version": "1.5.0",
          "state": {
            "_model_module": "@jupyter-widgets/controls",
            "_model_module_version": "1.5.0",
            "_model_name": "DescriptionStyleModel",
            "_view_count": null,
            "_view_module": "@jupyter-widgets/base",
            "_view_module_version": "1.2.0",
            "_view_name": "StyleView",
            "description_width": ""
          }
        },
        "88d17a28f9104f72bf816c3d13403023": {
          "model_module": "@jupyter-widgets/controls",
          "model_name": "HBoxModel",
          "model_module_version": "1.5.0",
          "state": {
            "_dom_classes": [],
            "_model_module": "@jupyter-widgets/controls",
            "_model_module_version": "1.5.0",
            "_model_name": "HBoxModel",
            "_view_count": null,
            "_view_module": "@jupyter-widgets/controls",
            "_view_module_version": "1.5.0",
            "_view_name": "HBoxView",
            "box_style": "",
            "children": [
              "IPY_MODEL_e4a4cbf0005d4685a253371930ce6f19",
              "IPY_MODEL_9fd2839ae9b7434993e09b7dfa4a9203",
              "IPY_MODEL_276a6fb61b294588a4cc90f055de2bb5"
            ],
            "layout": "IPY_MODEL_94bb33aa861d46049c978593b980cd1e"
          }
        },
        "e4a4cbf0005d4685a253371930ce6f19": {
          "model_module": "@jupyter-widgets/controls",
          "model_name": "HTMLModel",
          "model_module_version": "1.5.0",
          "state": {
            "_dom_classes": [],
            "_model_module": "@jupyter-widgets/controls",
            "_model_module_version": "1.5.0",
            "_model_name": "HTMLModel",
            "_view_count": null,
            "_view_module": "@jupyter-widgets/controls",
            "_view_module_version": "1.5.0",
            "_view_name": "HTMLView",
            "description": "",
            "description_tooltip": null,
            "layout": "IPY_MODEL_355b808c9a2149ce9acc1eb6dea8d854",
            "placeholder": "​",
            "style": "IPY_MODEL_48992d4405904455a2389e3641f08f1d",
            "value": "Shuffling /root/tensorflow_datasets/penguins/processed/1.0.0.incompleteGZ560O/penguins-train.tfrecord*...:   0%"
          }
        },
        "9fd2839ae9b7434993e09b7dfa4a9203": {
          "model_module": "@jupyter-widgets/controls",
          "model_name": "FloatProgressModel",
          "model_module_version": "1.5.0",
          "state": {
            "_dom_classes": [],
            "_model_module": "@jupyter-widgets/controls",
            "_model_module_version": "1.5.0",
            "_model_name": "FloatProgressModel",
            "_view_count": null,
            "_view_module": "@jupyter-widgets/controls",
            "_view_module_version": "1.5.0",
            "_view_name": "ProgressView",
            "bar_style": "",
            "description": "",
            "description_tooltip": null,
            "layout": "IPY_MODEL_e92e278d9790434d8edca488713ae712",
            "max": 334,
            "min": 0,
            "orientation": "horizontal",
            "style": "IPY_MODEL_c5085ac509fa4338b8bbf61646ad4845",
            "value": 334
          }
        },
        "276a6fb61b294588a4cc90f055de2bb5": {
          "model_module": "@jupyter-widgets/controls",
          "model_name": "HTMLModel",
          "model_module_version": "1.5.0",
          "state": {
            "_dom_classes": [],
            "_model_module": "@jupyter-widgets/controls",
            "_model_module_version": "1.5.0",
            "_model_name": "HTMLModel",
            "_view_count": null,
            "_view_module": "@jupyter-widgets/controls",
            "_view_module_version": "1.5.0",
            "_view_name": "HTMLView",
            "description": "",
            "description_tooltip": null,
            "layout": "IPY_MODEL_05075ca3bcd54008a31454fb728cdef7",
            "placeholder": "​",
            "style": "IPY_MODEL_4a2c1a8dbe274afab99714d938607cdb",
            "value": " 0/334 [00:00&lt;?, ? examples/s]"
          }
        },
        "94bb33aa861d46049c978593b980cd1e": {
          "model_module": "@jupyter-widgets/base",
          "model_name": "LayoutModel",
          "model_module_version": "1.2.0",
          "state": {
            "_model_module": "@jupyter-widgets/base",
            "_model_module_version": "1.2.0",
            "_model_name": "LayoutModel",
            "_view_count": null,
            "_view_module": "@jupyter-widgets/base",
            "_view_module_version": "1.2.0",
            "_view_name": "LayoutView",
            "align_content": null,
            "align_items": null,
            "align_self": null,
            "border": null,
            "bottom": null,
            "display": null,
            "flex": null,
            "flex_flow": null,
            "grid_area": null,
            "grid_auto_columns": null,
            "grid_auto_flow": null,
            "grid_auto_rows": null,
            "grid_column": null,
            "grid_gap": null,
            "grid_row": null,
            "grid_template_areas": null,
            "grid_template_columns": null,
            "grid_template_rows": null,
            "height": null,
            "justify_content": null,
            "justify_items": null,
            "left": null,
            "margin": null,
            "max_height": null,
            "max_width": null,
            "min_height": null,
            "min_width": null,
            "object_fit": null,
            "object_position": null,
            "order": null,
            "overflow": null,
            "overflow_x": null,
            "overflow_y": null,
            "padding": null,
            "right": null,
            "top": null,
            "visibility": "hidden",
            "width": null
          }
        },
        "355b808c9a2149ce9acc1eb6dea8d854": {
          "model_module": "@jupyter-widgets/base",
          "model_name": "LayoutModel",
          "model_module_version": "1.2.0",
          "state": {
            "_model_module": "@jupyter-widgets/base",
            "_model_module_version": "1.2.0",
            "_model_name": "LayoutModel",
            "_view_count": null,
            "_view_module": "@jupyter-widgets/base",
            "_view_module_version": "1.2.0",
            "_view_name": "LayoutView",
            "align_content": null,
            "align_items": null,
            "align_self": null,
            "border": null,
            "bottom": null,
            "display": null,
            "flex": null,
            "flex_flow": null,
            "grid_area": null,
            "grid_auto_columns": null,
            "grid_auto_flow": null,
            "grid_auto_rows": null,
            "grid_column": null,
            "grid_gap": null,
            "grid_row": null,
            "grid_template_areas": null,
            "grid_template_columns": null,
            "grid_template_rows": null,
            "height": null,
            "justify_content": null,
            "justify_items": null,
            "left": null,
            "margin": null,
            "max_height": null,
            "max_width": null,
            "min_height": null,
            "min_width": null,
            "object_fit": null,
            "object_position": null,
            "order": null,
            "overflow": null,
            "overflow_x": null,
            "overflow_y": null,
            "padding": null,
            "right": null,
            "top": null,
            "visibility": null,
            "width": null
          }
        },
        "48992d4405904455a2389e3641f08f1d": {
          "model_module": "@jupyter-widgets/controls",
          "model_name": "DescriptionStyleModel",
          "model_module_version": "1.5.0",
          "state": {
            "_model_module": "@jupyter-widgets/controls",
            "_model_module_version": "1.5.0",
            "_model_name": "DescriptionStyleModel",
            "_view_count": null,
            "_view_module": "@jupyter-widgets/base",
            "_view_module_version": "1.2.0",
            "_view_name": "StyleView",
            "description_width": ""
          }
        },
        "e92e278d9790434d8edca488713ae712": {
          "model_module": "@jupyter-widgets/base",
          "model_name": "LayoutModel",
          "model_module_version": "1.2.0",
          "state": {
            "_model_module": "@jupyter-widgets/base",
            "_model_module_version": "1.2.0",
            "_model_name": "LayoutModel",
            "_view_count": null,
            "_view_module": "@jupyter-widgets/base",
            "_view_module_version": "1.2.0",
            "_view_name": "LayoutView",
            "align_content": null,
            "align_items": null,
            "align_self": null,
            "border": null,
            "bottom": null,
            "display": null,
            "flex": null,
            "flex_flow": null,
            "grid_area": null,
            "grid_auto_columns": null,
            "grid_auto_flow": null,
            "grid_auto_rows": null,
            "grid_column": null,
            "grid_gap": null,
            "grid_row": null,
            "grid_template_areas": null,
            "grid_template_columns": null,
            "grid_template_rows": null,
            "height": null,
            "justify_content": null,
            "justify_items": null,
            "left": null,
            "margin": null,
            "max_height": null,
            "max_width": null,
            "min_height": null,
            "min_width": null,
            "object_fit": null,
            "object_position": null,
            "order": null,
            "overflow": null,
            "overflow_x": null,
            "overflow_y": null,
            "padding": null,
            "right": null,
            "top": null,
            "visibility": null,
            "width": null
          }
        },
        "c5085ac509fa4338b8bbf61646ad4845": {
          "model_module": "@jupyter-widgets/controls",
          "model_name": "ProgressStyleModel",
          "model_module_version": "1.5.0",
          "state": {
            "_model_module": "@jupyter-widgets/controls",
            "_model_module_version": "1.5.0",
            "_model_name": "ProgressStyleModel",
            "_view_count": null,
            "_view_module": "@jupyter-widgets/base",
            "_view_module_version": "1.2.0",
            "_view_name": "StyleView",
            "bar_color": null,
            "description_width": ""
          }
        },
        "05075ca3bcd54008a31454fb728cdef7": {
          "model_module": "@jupyter-widgets/base",
          "model_name": "LayoutModel",
          "model_module_version": "1.2.0",
          "state": {
            "_model_module": "@jupyter-widgets/base",
            "_model_module_version": "1.2.0",
            "_model_name": "LayoutModel",
            "_view_count": null,
            "_view_module": "@jupyter-widgets/base",
            "_view_module_version": "1.2.0",
            "_view_name": "LayoutView",
            "align_content": null,
            "align_items": null,
            "align_self": null,
            "border": null,
            "bottom": null,
            "display": null,
            "flex": null,
            "flex_flow": null,
            "grid_area": null,
            "grid_auto_columns": null,
            "grid_auto_flow": null,
            "grid_auto_rows": null,
            "grid_column": null,
            "grid_gap": null,
            "grid_row": null,
            "grid_template_areas": null,
            "grid_template_columns": null,
            "grid_template_rows": null,
            "height": null,
            "justify_content": null,
            "justify_items": null,
            "left": null,
            "margin": null,
            "max_height": null,
            "max_width": null,
            "min_height": null,
            "min_width": null,
            "object_fit": null,
            "object_position": null,
            "order": null,
            "overflow": null,
            "overflow_x": null,
            "overflow_y": null,
            "padding": null,
            "right": null,
            "top": null,
            "visibility": null,
            "width": null
          }
        },
        "4a2c1a8dbe274afab99714d938607cdb": {
          "model_module": "@jupyter-widgets/controls",
          "model_name": "DescriptionStyleModel",
          "model_module_version": "1.5.0",
          "state": {
            "_model_module": "@jupyter-widgets/controls",
            "_model_module_version": "1.5.0",
            "_model_name": "DescriptionStyleModel",
            "_view_count": null,
            "_view_module": "@jupyter-widgets/base",
            "_view_module_version": "1.2.0",
            "_view_name": "StyleView",
            "description_width": ""
          }
        }
      }
    }
  },
  "cells": [
    {
      "cell_type": "markdown",
      "metadata": {
        "id": "view-in-github",
        "colab_type": "text"
      },
      "source": [
        "<a href=\"https://colab.research.google.com/github/davidraamirez/GradientWithoutBackpropagation/blob/main/LogisticRegression_fwd_gradient.ipynb\" target=\"_parent\"><img src=\"https://colab.research.google.com/assets/colab-badge.svg\" alt=\"Open In Colab\"/></a>"
      ]
    },
    {
      "cell_type": "markdown",
      "source": [
        "# **Import the necessary packages**\n"
      ],
      "metadata": {
        "id": "k1jr1JzMgK9Q"
      }
    },
    {
      "cell_type": "code",
      "execution_count": 1,
      "metadata": {
        "id": "Oyi7eax2JnEO"
      },
      "outputs": [],
      "source": [
        "import torch\n",
        "import tensorflow_datasets as tfds\n",
        "from sklearn.model_selection import train_test_split"
      ]
    },
    {
      "cell_type": "code",
      "source": [
        "%pip install torchmetrics --quiet"
      ],
      "metadata": {
        "id": "GVuIq3iFKJ9l",
        "outputId": "619b7860-e3cf-4f4c-a826-3b83ed6656db",
        "colab": {
          "base_uri": "https://localhost:8080/"
        }
      },
      "execution_count": 2,
      "outputs": [
        {
          "output_type": "stream",
          "name": "stdout",
          "text": [
            "\u001b[?25l     \u001b[90m━━━━━━━━━━━━━━━━━━━━━━━━━━━━━━━━━━━━━━━━\u001b[0m \u001b[32m0.0/517.2 KB\u001b[0m \u001b[31m?\u001b[0m eta \u001b[36m-:--:--\u001b[0m\r\u001b[2K     \u001b[91m━━━━━━━━━━━━━━━━━━━━━━━━━━━━━━━━━━━━━\u001b[0m\u001b[91m╸\u001b[0m \u001b[32m512.0/517.2 KB\u001b[0m \u001b[31m17.8 MB/s\u001b[0m eta \u001b[36m0:00:01\u001b[0m\r\u001b[2K     \u001b[91m━━━━━━━━━━━━━━━━━━━━━━━━━━━━━━━━━━━━━\u001b[0m\u001b[91m╸\u001b[0m \u001b[32m512.0/517.2 KB\u001b[0m \u001b[31m17.8 MB/s\u001b[0m eta \u001b[36m0:00:01\u001b[0m\r\u001b[2K     \u001b[90m━━━━━━━━━━━━━━━━━━━━━━━━━━━━━━━━━━━━━━━\u001b[0m \u001b[32m517.2/517.2 KB\u001b[0m \u001b[31m6.1 MB/s\u001b[0m eta \u001b[36m0:00:00\u001b[0m\n",
            "\u001b[?25h"
          ]
        }
      ]
    },
    {
      "cell_type": "code",
      "source": [
        "import torchmetrics\n",
        "import torchvision"
      ],
      "metadata": {
        "id": "E7LCz1JiKMSj"
      },
      "execution_count": 3,
      "outputs": []
    },
    {
      "cell_type": "code",
      "source": [
        "from torch import nn"
      ],
      "metadata": {
        "id": "xBmt572RgVZ0"
      },
      "execution_count": 4,
      "outputs": []
    },
    {
      "cell_type": "code",
      "source": [
        "from functorch import jvp\n",
        "from functools import partial\n",
        "import time "
      ],
      "metadata": {
        "id": "Jb6mbI8LgZKf"
      },
      "execution_count": 5,
      "outputs": []
    },
    {
      "cell_type": "code",
      "source": [
        "import matplotlib.pyplot as plt"
      ],
      "metadata": {
        "id": "leC4BPdGgdx-"
      },
      "execution_count": 6,
      "outputs": []
    },
    {
      "cell_type": "markdown",
      "source": [
        "# **Loading and preprocessing the data**"
      ],
      "metadata": {
        "id": "uclnxVteKfnj"
      }
    },
    {
      "cell_type": "code",
      "source": [
        "#Load the dataset\n",
        "penguins = tfds.load('penguins', as_supervised=True, split='train')"
      ],
      "metadata": {
        "id": "fZMg1kYeKS4U",
        "outputId": "cfd0b169-d2bd-4467-f198-3d02096fcf83",
        "colab": {
          "base_uri": "https://localhost:8080/",
          "height": 117,
          "referenced_widgets": [
            "0735c3be7c85490492a4d47e9ad3bdf3",
            "bd111e62e78e4667a02295945648da61",
            "552af52e089d4c359997201d714cd7f1",
            "768d6d8c785241cea0cbb39451276c14",
            "71369702f6aa4d9bb739cee830fd44b7",
            "4fb6ef782c9d470489573a89c4cf4268",
            "504174bd841e44318274495f93593323",
            "5b8fda0ab4134a6fbefe5389e4cd91ad",
            "2c331b919e434c63b160d952cd9c31b8",
            "a7858736612b4987aba1f3a660ee2945",
            "b1fca139fd3b4e71804c79896c445c6f",
            "943b7b53528d4ab88d02d2a107bb446e",
            "a005137fe04944629c95fa002e62f5d7",
            "63bce6a9785e47f7827d0d684260b359",
            "6196b600db32441cad89324b5ed366e0",
            "b937022c8d9648868d75a5e27f73e0b6",
            "18cc9b5c9f15431f95f376ab6f69b81a",
            "ea6646d7c03745f39fc5cbde40050087",
            "96e9fdfe9aba493cb76f21b3ec1fb7e1",
            "7ba3c1e5795343febf4e6abe01cff5f4",
            "d46b427087834a988bfc06abf99319e3",
            "c24ceb07bdaa43ae97082217846ab452",
            "32ecc23d4b6a4046befd9f820aa09a40",
            "f01277083829496093ccdf593affaa63",
            "ed1509e5f5fd416390fba80fbdb902b2",
            "6e47e1377cbb47deaa4ed41ffccd6b45",
            "650215dffe8344e99fc382686c738131",
            "8f1a9bdd419a429e95e86ba9b8f9b71c",
            "24651a56bbf8466084b1ccdf8592ee72",
            "469afdc1ee9b45fcaae185e7000501df",
            "028f3f5f35294e0da28446505c421c2b",
            "81d3c3763b42429c899bf5c514f3c242",
            "3366e019fadf48359230aa7a17440764",
            "7856c5ff479b4fe88e55e92267bc0363",
            "abafcd70bbf947c78bf103669f68d65e",
            "db2f83e2fce84219bff28c4e371a85f5",
            "c801dd7558634e47962b3ca201e6d194",
            "7ef0c87e6b0d417dbbce6869a482454c",
            "b4f68d11d2764b099ac7ae2b86319657",
            "3c4ce295a5b44f49b9bc8b9c2722780c",
            "8ab09a0e13284598ad3b6f7e27146f4c",
            "513606b53add4e0d9770fe1548b5ff31",
            "c0c0d0f1d99f488987bc31849af5add5",
            "c3e55d3810b546a19fb15863d63abcbf",
            "88d17a28f9104f72bf816c3d13403023",
            "e4a4cbf0005d4685a253371930ce6f19",
            "9fd2839ae9b7434993e09b7dfa4a9203",
            "276a6fb61b294588a4cc90f055de2bb5",
            "94bb33aa861d46049c978593b980cd1e",
            "355b808c9a2149ce9acc1eb6dea8d854",
            "48992d4405904455a2389e3641f08f1d",
            "e92e278d9790434d8edca488713ae712",
            "c5085ac509fa4338b8bbf61646ad4845",
            "05075ca3bcd54008a31454fb728cdef7",
            "4a2c1a8dbe274afab99714d938607cdb"
          ]
        }
      },
      "execution_count": 7,
      "outputs": [
        {
          "output_type": "stream",
          "name": "stdout",
          "text": [
            "Downloading and preparing dataset 25.05 KiB (download: 25.05 KiB, generated: 17.61 KiB, total: 42.66 KiB) to /root/tensorflow_datasets/penguins/processed/1.0.0...\n"
          ]
        },
        {
          "output_type": "display_data",
          "data": {
            "text/plain": [
              "Dl Completed...: 0 url [00:00, ? url/s]"
            ],
            "application/vnd.jupyter.widget-view+json": {
              "version_major": 2,
              "version_minor": 0,
              "model_id": "0735c3be7c85490492a4d47e9ad3bdf3"
            }
          },
          "metadata": {}
        },
        {
          "output_type": "display_data",
          "data": {
            "text/plain": [
              "Dl Size...: 0 MiB [00:00, ? MiB/s]"
            ],
            "application/vnd.jupyter.widget-view+json": {
              "version_major": 2,
              "version_minor": 0,
              "model_id": "943b7b53528d4ab88d02d2a107bb446e"
            }
          },
          "metadata": {}
        },
        {
          "output_type": "display_data",
          "data": {
            "text/plain": [
              "Generating splits...:   0%|          | 0/1 [00:00<?, ? splits/s]"
            ],
            "application/vnd.jupyter.widget-view+json": {
              "version_major": 2,
              "version_minor": 0,
              "model_id": "32ecc23d4b6a4046befd9f820aa09a40"
            }
          },
          "metadata": {}
        },
        {
          "output_type": "display_data",
          "data": {
            "text/plain": [
              "Generating train examples...:   0%|          | 0/334 [00:00<?, ? examples/s]"
            ],
            "application/vnd.jupyter.widget-view+json": {
              "version_major": 2,
              "version_minor": 0,
              "model_id": "7856c5ff479b4fe88e55e92267bc0363"
            }
          },
          "metadata": {}
        },
        {
          "output_type": "display_data",
          "data": {
            "text/plain": [
              "Shuffling /root/tensorflow_datasets/penguins/processed/1.0.0.incompleteGZ560O/penguins-train.tfrecord*...:   0…"
            ],
            "application/vnd.jupyter.widget-view+json": {
              "version_major": 2,
              "version_minor": 0,
              "model_id": "88d17a28f9104f72bf816c3d13403023"
            }
          },
          "metadata": {}
        },
        {
          "output_type": "stream",
          "name": "stdout",
          "text": [
            "Dataset penguins downloaded and prepared to /root/tensorflow_datasets/penguins/processed/1.0.0. Subsequent calls will reuse this data.\n"
          ]
        }
      ]
    },
    {
      "cell_type": "code",
      "source": [
        "X, y = penguins.batch(500).get_single_element()\n",
        "X, y = X.numpy(), y.numpy()"
      ],
      "metadata": {
        "id": "iYKcjgnqzm9C"
      },
      "execution_count": 8,
      "outputs": []
    },
    {
      "cell_type": "code",
      "source": [
        "Xtrain, Xtest, ytrain, ytest = train_test_split(X, y, stratify=y)"
      ],
      "metadata": {
        "id": "ISJ8BgIMLPWX"
      },
      "execution_count": 9,
      "outputs": []
    },
    {
      "cell_type": "code",
      "source": [
        "Xtrain = torch.from_numpy(Xtrain).float()\n",
        "Xtest = torch.from_numpy(Xtest).float()"
      ],
      "metadata": {
        "id": "S3Y0sR080VHJ"
      },
      "execution_count": 10,
      "outputs": []
    },
    {
      "cell_type": "code",
      "source": [
        "ytrain = torch.from_numpy(ytrain).long()\n",
        "ytest = torch.from_numpy(ytest).long()"
      ],
      "metadata": {
        "id": "lBkpViok0YZ4"
      },
      "execution_count": 11,
      "outputs": []
    },
    {
      "cell_type": "markdown",
      "source": [
        "# **Define Logistic Regression**"
      ],
      "metadata": {
        "id": "KJO3tb6HLkD1"
      }
    },
    {
      "cell_type": "code",
      "source": [
        "class SimpleLogisticRegression(nn.Module):\n",
        "  def __init__(self, input_size, w, b):\n",
        "    super().__init__()\n",
        "    self.weight = nn.Parameter(w)\n",
        "    self.bias = nn.Parameter(b)\n",
        "\n",
        "  def forward(self, x):\n",
        "    x = x.reshape(1, -1)\n",
        "    return torch.softmax(x@self.weight + self.bias, 1)"
      ],
      "metadata": {
        "id": "F_qTD2ovLn2Z"
      },
      "execution_count": 13,
      "outputs": []
    },
    {
      "cell_type": "code",
      "source": [
        "# We check if CUDA is available. \n",
        "device = 'cuda' if torch.cuda.is_available() else 'cpu'\n",
        "print(device)"
      ],
      "metadata": {
        "colab": {
          "base_uri": "https://localhost:8080/"
        },
        "id": "J9O-8lwQM3IK",
        "outputId": "a5a34511-3df7-4042-ea79-19ab5da9b76d"
      },
      "execution_count": 12,
      "outputs": [
        {
          "output_type": "stream",
          "name": "stdout",
          "text": [
            "cpu\n"
          ]
        }
      ]
    },
    {
      "cell_type": "markdown",
      "source": [
        "# **Initialize the parameters**"
      ],
      "metadata": {
        "id": "xANyM4TzM7YU"
      }
    },
    {
      "cell_type": "code",
      "source": [
        "# We initialize the parameters randomly and the model with an input size\n",
        "w = torch.randn((4, 3), requires_grad=False)\n",
        "b = torch.randn((3, ), requires_grad=False)\n",
        "LG = SimpleLogisticRegression(4, w, b).to(device)"
      ],
      "metadata": {
        "id": "Au-0g48hM47D"
      },
      "execution_count": 14,
      "outputs": []
    },
    {
      "cell_type": "code",
      "source": [
        "# We try our model with the first example\n",
        "print(LG(Xtrain[0].to(device)))"
      ],
      "metadata": {
        "colab": {
          "base_uri": "https://localhost:8080/"
        },
        "id": "yc8fw23PNqUQ",
        "outputId": "580de4a6-e439-4c5f-f6e0-bbaee7b52f21"
      },
      "execution_count": 15,
      "outputs": [
        {
          "output_type": "stream",
          "name": "stdout",
          "text": [
            "tensor([[0.0387, 0.9158, 0.0455]], grad_fn=<SoftmaxBackward0>)\n"
          ]
        }
      ]
    },
    {
      "cell_type": "markdown",
      "source": [
        "Calculate predictiones"
      ],
      "metadata": {
        "id": "VnUzjP_aWCdn"
      }
    },
    {
      "cell_type": "code",
      "source": [
        "def pred(x,w,b):\n",
        "  ypred=torch.randn((x.shape[0],3))\n",
        "  for j in range (x.shape[0]):\n",
        "    xj = x[j].reshape(1, -1)\n",
        "    ypred[j]=torch.softmax(xj@w+b,1)\n",
        "  return ypred"
      ],
      "metadata": {
        "id": "46y6wpZPW0RC"
      },
      "execution_count": 16,
      "outputs": []
    },
    {
      "cell_type": "code",
      "source": [
        "ypred=pred(Xtrain,w,b)"
      ],
      "metadata": {
        "id": "hODWt-gJW4zl"
      },
      "execution_count": 17,
      "outputs": []
    },
    {
      "cell_type": "markdown",
      "source": [
        "# **Define accuarcy**"
      ],
      "metadata": {
        "id": "PArBiH_liSeD"
      }
    },
    {
      "cell_type": "code",
      "source": [
        "def accuracy(ytrue, ypred):\n",
        "  return (ypred.argmax(1) == ytrue).float().mean()"
      ],
      "metadata": {
        "id": "wE8-N_zriU2A"
      },
      "execution_count": 18,
      "outputs": []
    },
    {
      "cell_type": "code",
      "source": [
        "# Average accuracy at initialization is 33% (random guessing).\n",
        "accuracy(ytrain.to(device), ypred.to(device))"
      ],
      "metadata": {
        "colab": {
          "base_uri": "https://localhost:8080/"
        },
        "id": "_Bw1HBA6WGES",
        "outputId": "d13c55e8-eff2-4a1a-f0bd-bdf383d79399"
      },
      "execution_count": 19,
      "outputs": [
        {
          "output_type": "execute_result",
          "data": {
            "text/plain": [
              "tensor(0.2040)"
            ]
          },
          "metadata": {},
          "execution_count": 19
        }
      ]
    },
    {
      "cell_type": "markdown",
      "source": [
        "# **Define Cross Entropy**"
      ],
      "metadata": {
        "id": "nZ0xyQDVWli6"
      }
    },
    {
      "cell_type": "markdown",
      "source": [
        "We have defined one cross entropy function for each parameter because we will define later partial functions and the parameters need to be in different order\n",
        "\n",
        "\n",
        "\n",
        "\n",
        "\n"
      ],
      "metadata": {
        "id": "ykUbnhkMiv3i"
      }
    },
    {
      "cell_type": "code",
      "source": [
        "def cross_entropyW(w, ytrue, x, b):\n",
        "  ypred=torch.randn((ytrue.shape[0],3))\n",
        "  for j in range (ytrue.shape[0]):\n",
        "    xj = x[j].reshape(1, -1)\n",
        "    ypred[j]=torch.softmax(xj@w+b,1)\n",
        "  return - ypred[torch.arange(0, ypred.shape[0]), ytrue].log().mean()"
      ],
      "metadata": {
        "id": "et6ncKfAWPqW"
      },
      "execution_count": 22,
      "outputs": []
    },
    {
      "cell_type": "code",
      "source": [
        "def cross_entropyB(b, ytrue, x, w):\n",
        "  ypred=torch.randn((ytrue.shape[0],3))\n",
        "  for j in range (ytrue.shape[0]):\n",
        "    xj = x[j].reshape(1, -1)\n",
        "    ypred[j]=torch.softmax(xj@w+b,1)\n",
        "  return - ypred[torch.arange(0, ypred.shape[0]), ytrue].log().mean()"
      ],
      "metadata": {
        "id": "yZBiK-TlP17y"
      },
      "execution_count": 21,
      "outputs": []
    },
    {
      "cell_type": "code",
      "source": [
        "# We check that the output of all the cross extropy functions is the same\n",
        "print(cross_entropyB(b, ytrain.to(device),Xtrain.to(device), w))\n",
        "print(cross_entropyW(w,ytrain.to(device),Xtrain.to(device),b))"
      ],
      "metadata": {
        "id": "x0fdS82PHWxZ",
        "outputId": "9ae75594-a237-47df-c882-bd6e8a2903e4",
        "colab": {
          "base_uri": "https://localhost:8080/"
        }
      },
      "execution_count": 27,
      "outputs": [
        {
          "output_type": "stream",
          "name": "stdout",
          "text": [
            "tensor(1.8676)\n",
            "tensor(1.8676)\n"
          ]
        }
      ]
    },
    {
      "cell_type": "markdown",
      "source": [
        "## **Other optimization functions**"
      ],
      "metadata": {
        "id": "yRvKPqRVkcog"
      }
    },
    {
      "cell_type": "code",
      "source": [
        "def beale_function(x):\n",
        "  return (torch.pow(torch.tensor([1.5])-x[0]+x[0]*x[1],2) + torch.pow(torch.tensor([2.25])-x[0]+x[0]*torch.pow(x[1],2),2)+torch.pow(torch.tensor([2.625])-x[0]+x[0]*torch.pow(x[1],3),2))"
      ],
      "metadata": {
        "id": "fW7DIT_bWrAv"
      },
      "execution_count": 24,
      "outputs": []
    },
    {
      "cell_type": "code",
      "source": [
        "def rosenbrock_function(x):\n",
        "  sum=0\n",
        "  for i in range (x.size(0) -1):\n",
        "    sum += (100*torch.pow(x[i+1] - torch.pow(x[i], 2), 2) + torch.pow(1-x[i], 2))\n",
        "  return sum"
      ],
      "metadata": {
        "id": "UWDzjXptWuAH"
      },
      "execution_count": 25,
      "outputs": []
    },
    {
      "cell_type": "code",
      "source": [
        "def sphere_function(x):\n",
        "  sum=0\n",
        "  for i in range(x.size(0)):\n",
        "    sum += torch.pow(x[i], 2)\n",
        "  return sum"
      ],
      "metadata": {
        "id": "aq5uL94Z56hk"
      },
      "execution_count": 26,
      "outputs": []
    },
    {
      "cell_type": "markdown",
      "source": [
        "# **Train and evaluate the network**\n"
      ],
      "metadata": {
        "id": "oxvYduTyk13L"
      }
    },
    {
      "cell_type": "code",
      "source": [
        "def train_fwd_gradient(x, y):\n",
        "\n",
        "  x,y=x.to(device),y.to(device)\n",
        "\n",
        "  losses = [] # Vector with the cross entropy values of test set\n",
        "  accuracies = [] # Vector with the accuracy values of test set\n",
        "  errors=[] # Vector with the number of misclassification of the test set\n",
        "\n",
        "  l_rate0 = 0.2 # Learning rate used \n",
        "\n",
        "  # Initialize the parameters\n",
        "  w = torch.randn((4, 3),requires_grad=False) \n",
        "  b = torch.randn((3, ),requires_grad=False)\n",
        "\n",
        "  loss = cross_entropyW(w, y, x, b) # Loss function\n",
        "\n",
        "  # Calculate the start time \n",
        "  t=0\n",
        "  t0=time.time()\n",
        "  print('Time', t, 'loss', loss)\n",
        "\n",
        "  while (loss>0.3) :\n",
        "\n",
        "    # vw and wb are defined as a perturbation vector taken as a multivariate random variable,such that their scalar components vi are independent for all i, and have zero mean and unit variance .\n",
        "\n",
        "    vw=torch.randn(w.shape)\n",
        "    vw = (vw - torch.mean(vw))/torch.std(vw)\n",
        "    vb=torch.randn(b.shape)\n",
        "    vb = (vb - torch.mean(vb))/torch.std(vb)\n",
        "\n",
        "    # We define a partial function for each of the parameter\n",
        "    fw = partial(cross_entropyW,ytrue=y, x=x, b=b)\n",
        "    fb = partial(cross_entropyB,ytrue=y, x=x, w=w)\n",
        "\n",
        "    # We compute the cross entropy and the directional derivative of cross entropy at each parameters in direction v, simultaneously and without having to compute ∇cross_entropy in the process\n",
        "    # This is also know as formard-mode autodiff\n",
        "    ftw, dtw = jvp(fw,(w, ), (vw, ))\n",
        "    ftb, dtb = jvp(fb,(b, ), (vb, ))\n",
        "\n",
        "    # We multiply the scalar directional derivative ∇cross_entropy(θ)·v with vector v and obtain g(θ), the forward gradient (where θ represents each one of out parameters)\n",
        "    gtw = vw*dtw\n",
        "    gtb = vb*dtb\n",
        "\n",
        "    # Update the parameters\n",
        "    w = w - l_rate0*gtw\n",
        "    b = b - l_rate0*gtb\n",
        "\n",
        "    # We calculate the number of misclassification of the test set with the updated model and we add to the errors vector\n",
        "    LG = SimpleLogisticRegression(4, w, b)\n",
        "    ypredT=torch.randn(Xtest.size(0),3)\n",
        "    error=0\n",
        "    for i in range (Xtest.size(0)):\n",
        "      ypredT[i]=LG(Xtest[i])\n",
        "      if (LG(Xtest[i]).argmax(1)- ytest[i])!=0:\n",
        "        error = error+ 1\n",
        "\n",
        "    \n",
        "    errors.append(error)\n",
        "\n",
        "    # We calculate the accuracy of the test set with the updated model and we add to the accuracy vector\n",
        "    accuracies.append(accuracy(ytest,ypredT).item())\n",
        "\n",
        "    # We calculate the cross_entropy of the test set with the updated model and we add to the accuracy vector\n",
        "    loss=cross_entropyW(w, y, x, b)\n",
        "    losses.append(loss)\n",
        "\n",
        "    #We add the execution time of the iteration \n",
        "    t1=time.time()\n",
        "    t+=t1-t0\n",
        "    t0=t1\n",
        "\n",
        "    print('Time', t, 'loss', loss)\n",
        "\n",
        "  return w, b,errors,accuracies,losses"
      ],
      "metadata": {
        "id": "1wUCVnwXWzQF"
      },
      "execution_count": 28,
      "outputs": []
    },
    {
      "cell_type": "code",
      "source": [
        "w, b,errors,accuracies,losses = train_fwd_gradient(Xtrain, ytrain)"
      ],
      "metadata": {
        "colab": {
          "base_uri": "https://localhost:8080/"
        },
        "id": "sEXUvtqnMsbD",
        "outputId": "ebc5b260-a590-4121-e485-57b0053a19d3"
      },
      "execution_count": 29,
      "outputs": [
        {
          "output_type": "stream",
          "name": "stdout",
          "text": [
            "Time 0 loss tensor(1.2306)\n",
            "Time 0.40876293182373047 loss tensor(1.2296)\n",
            "Time 0.6090469360351562 loss tensor(1.2055)\n",
            "Time 0.7984132766723633 loss tensor(1.1318)\n",
            "Time 1.0062692165374756 loss tensor(1.1292)\n",
            "Time 1.2209925651550293 loss tensor(1.1037)\n",
            "Time 1.4299402236938477 loss tensor(1.0554)\n",
            "Time 1.5943713188171387 loss tensor(1.0477)\n",
            "Time 1.731107234954834 loss tensor(1.0402)\n",
            "Time 1.847700595855713 loss tensor(1.0279)\n",
            "Time 1.9771628379821777 loss tensor(1.0187)\n",
            "Time 2.1012659072875977 loss tensor(0.9977)\n",
            "Time 2.226280450820923 loss tensor(0.9835)\n",
            "Time 2.3488686084747314 loss tensor(0.9813)\n",
            "Time 2.473414659500122 loss tensor(0.9741)\n",
            "Time 2.5990407466888428 loss tensor(0.9383)\n",
            "Time 2.7211225032806396 loss tensor(0.9282)\n",
            "Time 2.8465449810028076 loss tensor(0.9088)\n",
            "Time 2.9737110137939453 loss tensor(0.9056)\n",
            "Time 3.0886425971984863 loss tensor(0.8961)\n",
            "Time 3.2083799839019775 loss tensor(0.8892)\n",
            "Time 3.324552297592163 loss tensor(0.8859)\n",
            "Time 3.4456052780151367 loss tensor(0.8711)\n",
            "Time 3.585273504257202 loss tensor(0.8646)\n",
            "Time 3.707791805267334 loss tensor(0.8624)\n",
            "Time 3.8262646198272705 loss tensor(0.8570)\n",
            "Time 3.945986747741699 loss tensor(0.8560)\n",
            "Time 4.071209907531738 loss tensor(0.8483)\n",
            "Time 4.199527978897095 loss tensor(0.8474)\n",
            "Time 4.318167209625244 loss tensor(0.8430)\n",
            "Time 4.437767505645752 loss tensor(0.8345)\n",
            "Time 4.555651903152466 loss tensor(0.8283)\n",
            "Time 4.705735206604004 loss tensor(0.8277)\n",
            "Time 4.830980062484741 loss tensor(0.8225)\n",
            "Time 4.950906753540039 loss tensor(0.8209)\n",
            "Time 5.0777153968811035 loss tensor(0.8205)\n",
            "Time 5.200686454772949 loss tensor(0.8148)\n",
            "Time 5.316295862197876 loss tensor(0.8104)\n",
            "Time 5.437078237533569 loss tensor(0.8096)\n",
            "Time 5.560454607009888 loss tensor(0.8008)\n",
            "Time 5.690561532974243 loss tensor(0.7960)\n",
            "Time 5.807628631591797 loss tensor(0.7955)\n",
            "Time 5.937394618988037 loss tensor(0.7926)\n",
            "Time 6.055099725723267 loss tensor(0.7845)\n",
            "Time 6.173995494842529 loss tensor(0.7830)\n",
            "Time 6.29191780090332 loss tensor(0.7733)\n",
            "Time 6.409153461456299 loss tensor(0.7703)\n",
            "Time 6.54121208190918 loss tensor(0.7688)\n",
            "Time 6.669047117233276 loss tensor(0.7648)\n",
            "Time 6.789694547653198 loss tensor(0.7596)\n",
            "Time 6.9144744873046875 loss tensor(0.7537)\n",
            "Time 7.030156850814819 loss tensor(0.7529)\n",
            "Time 7.153065919876099 loss tensor(0.7418)\n",
            "Time 7.299110174179077 loss tensor(0.7119)\n",
            "Time 7.43508505821228 loss tensor(0.7057)\n",
            "Time 7.548015832901001 loss tensor(0.7048)\n",
            "Time 7.674515962600708 loss tensor(0.7025)\n",
            "Time 7.806361198425293 loss tensor(0.7024)\n",
            "Time 7.928901195526123 loss tensor(0.6955)\n",
            "Time 8.049903392791748 loss tensor(0.6900)\n",
            "Time 8.173816680908203 loss tensor(0.6889)\n",
            "Time 8.292868614196777 loss tensor(0.6869)\n",
            "Time 8.4166738986969 loss tensor(0.6864)\n",
            "Time 8.533661365509033 loss tensor(0.6857)\n",
            "Time 8.662456512451172 loss tensor(0.6844)\n",
            "Time 8.791345596313477 loss tensor(0.6840)\n",
            "Time 8.909651041030884 loss tensor(0.6835)\n",
            "Time 9.036184310913086 loss tensor(0.6800)\n",
            "Time 9.1593599319458 loss tensor(0.6797)\n",
            "Time 9.28307843208313 loss tensor(0.6791)\n",
            "Time 9.406857967376709 loss tensor(0.6775)\n",
            "Time 9.52042841911316 loss tensor(0.6765)\n",
            "Time 9.639412879943848 loss tensor(0.6721)\n",
            "Time 9.76442551612854 loss tensor(0.6710)\n",
            "Time 9.900277853012085 loss tensor(0.6703)\n",
            "Time 10.017682552337646 loss tensor(0.6699)\n",
            "Time 10.137211084365845 loss tensor(0.6698)\n",
            "Time 10.256037712097168 loss tensor(0.6649)\n",
            "Time 10.370753526687622 loss tensor(0.6643)\n",
            "Time 10.489489078521729 loss tensor(0.6639)\n",
            "Time 10.605560302734375 loss tensor(0.6494)\n",
            "Time 10.720239400863647 loss tensor(0.6478)\n",
            "Time 10.850532531738281 loss tensor(0.6450)\n",
            "Time 10.96238398551941 loss tensor(0.6435)\n",
            "Time 11.09008264541626 loss tensor(0.6432)\n",
            "Time 11.20891809463501 loss tensor(0.6415)\n",
            "Time 11.329707860946655 loss tensor(0.6351)\n",
            "Time 11.44645619392395 loss tensor(0.6348)\n",
            "Time 11.595998287200928 loss tensor(0.6307)\n",
            "Time 11.804501295089722 loss tensor(0.6289)\n",
            "Time 11.994336605072021 loss tensor(0.6289)\n",
            "Time 12.181187391281128 loss tensor(0.6283)\n",
            "Time 12.364798545837402 loss tensor(0.6282)\n",
            "Time 12.544055700302124 loss tensor(0.6277)\n",
            "Time 12.748348474502563 loss tensor(0.6271)\n",
            "Time 12.952967405319214 loss tensor(0.6269)\n",
            "Time 13.13351559638977 loss tensor(0.6264)\n",
            "Time 13.322333097457886 loss tensor(0.6261)\n",
            "Time 13.498168468475342 loss tensor(0.6258)\n",
            "Time 13.680026769638062 loss tensor(0.6253)\n",
            "Time 13.889554023742676 loss tensor(0.6210)\n",
            "Time 14.095087766647339 loss tensor(0.6193)\n",
            "Time 14.315763711929321 loss tensor(0.6190)\n",
            "Time 14.47061800956726 loss tensor(0.6188)\n",
            "Time 14.593488216400146 loss tensor(0.6171)\n",
            "Time 14.714613199234009 loss tensor(0.6169)\n",
            "Time 14.834449768066406 loss tensor(0.6168)\n",
            "Time 14.969378232955933 loss tensor(0.6160)\n",
            "Time 15.09551739692688 loss tensor(0.6158)\n",
            "Time 15.215120553970337 loss tensor(0.6075)\n",
            "Time 15.33536982536316 loss tensor(0.6062)\n",
            "Time 15.449157238006592 loss tensor(0.6015)\n",
            "Time 15.579468250274658 loss tensor(0.5968)\n",
            "Time 15.694846153259277 loss tensor(0.5964)\n",
            "Time 15.814687728881836 loss tensor(0.5931)\n",
            "Time 15.952215909957886 loss tensor(0.5918)\n",
            "Time 16.082171201705933 loss tensor(0.5903)\n",
            "Time 16.201985597610474 loss tensor(0.5903)\n",
            "Time 16.33432364463806 loss tensor(0.5861)\n",
            "Time 16.449283838272095 loss tensor(0.5858)\n",
            "Time 16.567230463027954 loss tensor(0.5857)\n",
            "Time 16.687859296798706 loss tensor(0.5833)\n",
            "Time 16.810949087142944 loss tensor(0.5776)\n",
            "Time 16.93241310119629 loss tensor(0.5771)\n",
            "Time 17.06148862838745 loss tensor(0.5745)\n",
            "Time 17.180843830108643 loss tensor(0.5738)\n",
            "Time 17.309773206710815 loss tensor(0.5731)\n",
            "Time 17.423940896987915 loss tensor(0.5704)\n",
            "Time 17.563490629196167 loss tensor(0.5569)\n",
            "Time 17.68408203125 loss tensor(0.5568)\n",
            "Time 17.80555248260498 loss tensor(0.5562)\n",
            "Time 17.92630100250244 loss tensor(0.5530)\n",
            "Time 18.062052965164185 loss tensor(0.5528)\n",
            "Time 18.180280447006226 loss tensor(0.5510)\n",
            "Time 18.30541729927063 loss tensor(0.5472)\n",
            "Time 18.449175119400024 loss tensor(0.5450)\n",
            "Time 18.571407794952393 loss tensor(0.5334)\n",
            "Time 18.68764615058899 loss tensor(0.5303)\n",
            "Time 18.803841829299927 loss tensor(0.5278)\n",
            "Time 18.93200182914734 loss tensor(0.5277)\n",
            "Time 19.062649726867676 loss tensor(0.5259)\n",
            "Time 19.178661584854126 loss tensor(0.5252)\n",
            "Time 19.30537176132202 loss tensor(0.5215)\n",
            "Time 19.41809058189392 loss tensor(0.5213)\n",
            "Time 19.53542184829712 loss tensor(0.5213)\n",
            "Time 19.656813859939575 loss tensor(0.5193)\n",
            "Time 19.77708411216736 loss tensor(0.5193)\n",
            "Time 19.90036368370056 loss tensor(0.5162)\n",
            "Time 20.022566556930542 loss tensor(0.5144)\n",
            "Time 20.149482011795044 loss tensor(0.5144)\n",
            "Time 20.270645141601562 loss tensor(0.5126)\n",
            "Time 20.386675357818604 loss tensor(0.5125)\n",
            "Time 20.508951902389526 loss tensor(0.5076)\n",
            "Time 20.624436378479004 loss tensor(0.5061)\n",
            "Time 20.754587650299072 loss tensor(0.5052)\n",
            "Time 20.87543487548828 loss tensor(0.5048)\n",
            "Time 21.002180337905884 loss tensor(0.5045)\n",
            "Time 21.140734434127808 loss tensor(0.4984)\n",
            "Time 21.264166355133057 loss tensor(0.4983)\n",
            "Time 21.385689735412598 loss tensor(0.4973)\n",
            "Time 21.514723777770996 loss tensor(0.4972)\n",
            "Time 21.63516592979431 loss tensor(0.4954)\n",
            "Time 21.754399299621582 loss tensor(0.4905)\n",
            "Time 21.873289823532104 loss tensor(0.4832)\n",
            "Time 22.0044949054718 loss tensor(0.4830)\n",
            "Time 22.130425930023193 loss tensor(0.4801)\n",
            "Time 22.254175424575806 loss tensor(0.4783)\n",
            "Time 22.368852615356445 loss tensor(0.4772)\n",
            "Time 22.48605489730835 loss tensor(0.4758)\n",
            "Time 22.611328601837158 loss tensor(0.4746)\n",
            "Time 22.73037815093994 loss tensor(0.4746)\n",
            "Time 22.85277485847473 loss tensor(0.4739)\n",
            "Time 22.9789400100708 loss tensor(0.4738)\n",
            "Time 23.092480659484863 loss tensor(0.4737)\n",
            "Time 23.22967791557312 loss tensor(0.4730)\n",
            "Time 23.34872031211853 loss tensor(0.4727)\n",
            "Time 23.466547966003418 loss tensor(0.4727)\n",
            "Time 23.579983234405518 loss tensor(0.4726)\n",
            "Time 23.70212721824646 loss tensor(0.4713)\n",
            "Time 23.835689783096313 loss tensor(0.4696)\n",
            "Time 23.955413579940796 loss tensor(0.4655)\n",
            "Time 24.070033311843872 loss tensor(0.4653)\n",
            "Time 24.20607614517212 loss tensor(0.4653)\n",
            "Time 24.32064962387085 loss tensor(0.4652)\n",
            "Time 24.45020318031311 loss tensor(0.4648)\n",
            "Time 24.643481492996216 loss tensor(0.4647)\n",
            "Time 24.83912682533264 loss tensor(0.4645)\n",
            "Time 25.031782627105713 loss tensor(0.4642)\n",
            "Time 25.225154638290405 loss tensor(0.4641)\n",
            "Time 25.40400767326355 loss tensor(0.4641)\n",
            "Time 25.592588424682617 loss tensor(0.4631)\n",
            "Time 25.77639102935791 loss tensor(0.4628)\n",
            "Time 25.96426224708557 loss tensor(0.4613)\n",
            "Time 26.142661333084106 loss tensor(0.4588)\n",
            "Time 26.339011669158936 loss tensor(0.4557)\n",
            "Time 26.535380840301514 loss tensor(0.4557)\n",
            "Time 26.730281829833984 loss tensor(0.4546)\n",
            "Time 26.917547941207886 loss tensor(0.4545)\n",
            "Time 27.453394651412964 loss tensor(0.4516)\n",
            "Time 27.926740169525146 loss tensor(0.4513)\n",
            "Time 28.173818349838257 loss tensor(0.4509)\n",
            "Time 28.29478907585144 loss tensor(0.4503)\n",
            "Time 28.423402786254883 loss tensor(0.4503)\n",
            "Time 28.53691792488098 loss tensor(0.4496)\n",
            "Time 28.66098141670227 loss tensor(0.4495)\n",
            "Time 28.775894165039062 loss tensor(0.4491)\n",
            "Time 28.903169870376587 loss tensor(0.4490)\n",
            "Time 29.021425008773804 loss tensor(0.4488)\n",
            "Time 29.14533519744873 loss tensor(0.4484)\n",
            "Time 29.275777339935303 loss tensor(0.4438)\n",
            "Time 29.41654896736145 loss tensor(0.4378)\n",
            "Time 29.529706239700317 loss tensor(0.4368)\n",
            "Time 29.649989366531372 loss tensor(0.4367)\n",
            "Time 29.77106475830078 loss tensor(0.4348)\n",
            "Time 29.89531135559082 loss tensor(0.4344)\n",
            "Time 30.013593673706055 loss tensor(0.4344)\n",
            "Time 30.143863201141357 loss tensor(0.4342)\n",
            "Time 30.266899824142456 loss tensor(0.4340)\n",
            "Time 30.396795511245728 loss tensor(0.4266)\n",
            "Time 30.51026153564453 loss tensor(0.4240)\n",
            "Time 30.628612518310547 loss tensor(0.4210)\n",
            "Time 30.748673677444458 loss tensor(0.4207)\n",
            "Time 30.868160486221313 loss tensor(0.4204)\n",
            "Time 30.99341869354248 loss tensor(0.4199)\n",
            "Time 31.117276191711426 loss tensor(0.4178)\n",
            "Time 31.236560821533203 loss tensor(0.4176)\n",
            "Time 31.362289905548096 loss tensor(0.4174)\n",
            "Time 31.49613881111145 loss tensor(0.4172)\n",
            "Time 31.618213415145874 loss tensor(0.4171)\n",
            "Time 31.73745894432068 loss tensor(0.4171)\n",
            "Time 31.867846488952637 loss tensor(0.4147)\n",
            "Time 31.99052119255066 loss tensor(0.4139)\n",
            "Time 32.11013650894165 loss tensor(0.4098)\n",
            "Time 32.238059759140015 loss tensor(0.4094)\n",
            "Time 32.36507034301758 loss tensor(0.4093)\n",
            "Time 32.48890829086304 loss tensor(0.4093)\n",
            "Time 32.60595083236694 loss tensor(0.4084)\n",
            "Time 32.72052454948425 loss tensor(0.4051)\n",
            "Time 32.843238830566406 loss tensor(0.4047)\n",
            "Time 32.963176250457764 loss tensor(0.4046)\n",
            "Time 33.08455467224121 loss tensor(0.4045)\n",
            "Time 33.206562757492065 loss tensor(0.4043)\n",
            "Time 33.33698296546936 loss tensor(0.4042)\n",
            "Time 33.45225930213928 loss tensor(0.4040)\n",
            "Time 33.58020901679993 loss tensor(0.3993)\n",
            "Time 33.69952321052551 loss tensor(0.3992)\n",
            "Time 33.82028269767761 loss tensor(0.3991)\n",
            "Time 33.94013690948486 loss tensor(0.3986)\n",
            "Time 34.066927433013916 loss tensor(0.3984)\n",
            "Time 34.183053493499756 loss tensor(0.3982)\n",
            "Time 34.307064056396484 loss tensor(0.3981)\n",
            "Time 34.4338903427124 loss tensor(0.3978)\n",
            "Time 34.56391167640686 loss tensor(0.3972)\n",
            "Time 34.68216800689697 loss tensor(0.3953)\n",
            "Time 34.80043601989746 loss tensor(0.3945)\n",
            "Time 34.92439317703247 loss tensor(0.3943)\n",
            "Time 35.041351318359375 loss tensor(0.3940)\n",
            "Time 35.154953718185425 loss tensor(0.3938)\n",
            "Time 35.2812123298645 loss tensor(0.3928)\n",
            "Time 35.39434361457825 loss tensor(0.3925)\n",
            "Time 35.518574953079224 loss tensor(0.3913)\n",
            "Time 35.638694524765015 loss tensor(0.3893)\n",
            "Time 35.763129234313965 loss tensor(0.3889)\n",
            "Time 35.9026620388031 loss tensor(0.3888)\n",
            "Time 36.030110120773315 loss tensor(0.3879)\n",
            "Time 36.147244453430176 loss tensor(0.3878)\n",
            "Time 36.278011322021484 loss tensor(0.3868)\n",
            "Time 36.392884731292725 loss tensor(0.3843)\n",
            "Time 36.51035213470459 loss tensor(0.3842)\n",
            "Time 36.63830590248108 loss tensor(0.3839)\n",
            "Time 36.75776767730713 loss tensor(0.3830)\n",
            "Time 36.874425411224365 loss tensor(0.3830)\n",
            "Time 37.006837129592896 loss tensor(0.3825)\n",
            "Time 37.12258696556091 loss tensor(0.3816)\n",
            "Time 37.244903802871704 loss tensor(0.3808)\n",
            "Time 37.42693543434143 loss tensor(0.3804)\n",
            "Time 37.62192893028259 loss tensor(0.3784)\n",
            "Time 37.81582188606262 loss tensor(0.3783)\n",
            "Time 38.00884461402893 loss tensor(0.3771)\n",
            "Time 38.19571328163147 loss tensor(0.3770)\n",
            "Time 38.39452338218689 loss tensor(0.3768)\n",
            "Time 38.57191300392151 loss tensor(0.3762)\n",
            "Time 38.771862268447876 loss tensor(0.3762)\n",
            "Time 38.955270767211914 loss tensor(0.3752)\n",
            "Time 39.13874292373657 loss tensor(0.3746)\n",
            "Time 39.32690119743347 loss tensor(0.3745)\n",
            "Time 39.52043437957764 loss tensor(0.3744)\n",
            "Time 39.71338415145874 loss tensor(0.3739)\n",
            "Time 39.91518807411194 loss tensor(0.3739)\n",
            "Time 40.13279628753662 loss tensor(0.3720)\n",
            "Time 40.27941870689392 loss tensor(0.3680)\n",
            "Time 40.398627281188965 loss tensor(0.3680)\n",
            "Time 40.5168673992157 loss tensor(0.3679)\n",
            "Time 40.638875007629395 loss tensor(0.3676)\n",
            "Time 40.763103008270264 loss tensor(0.3670)\n",
            "Time 40.88979172706604 loss tensor(0.3649)\n",
            "Time 41.010592222213745 loss tensor(0.3647)\n",
            "Time 41.138399600982666 loss tensor(0.3647)\n",
            "Time 41.25905442237854 loss tensor(0.3611)\n",
            "Time 41.385661363601685 loss tensor(0.3609)\n",
            "Time 41.49995136260986 loss tensor(0.3607)\n",
            "Time 41.618019104003906 loss tensor(0.3606)\n",
            "Time 41.7422559261322 loss tensor(0.3605)\n",
            "Time 41.8748984336853 loss tensor(0.3587)\n",
            "Time 41.998040437698364 loss tensor(0.3584)\n",
            "Time 42.11348867416382 loss tensor(0.3573)\n",
            "Time 42.230103731155396 loss tensor(0.3572)\n",
            "Time 42.35253143310547 loss tensor(0.3560)\n",
            "Time 42.47033953666687 loss tensor(0.3544)\n",
            "Time 42.59388971328735 loss tensor(0.3535)\n",
            "Time 42.70767021179199 loss tensor(0.3530)\n",
            "Time 42.84339213371277 loss tensor(0.3529)\n",
            "Time 42.95774054527283 loss tensor(0.3525)\n",
            "Time 43.09115791320801 loss tensor(0.3525)\n",
            "Time 43.211671352386475 loss tensor(0.3524)\n",
            "Time 43.332966566085815 loss tensor(0.3523)\n",
            "Time 43.449559450149536 loss tensor(0.3509)\n",
            "Time 43.57690930366516 loss tensor(0.3509)\n",
            "Time 43.69175100326538 loss tensor(0.3508)\n",
            "Time 43.8308687210083 loss tensor(0.3492)\n",
            "Time 43.954060316085815 loss tensor(0.3492)\n",
            "Time 44.076303005218506 loss tensor(0.3483)\n",
            "Time 44.199182748794556 loss tensor(0.3482)\n",
            "Time 44.32694101333618 loss tensor(0.3464)\n",
            "Time 44.440484285354614 loss tensor(0.3448)\n",
            "Time 44.55889630317688 loss tensor(0.3436)\n",
            "Time 44.672855377197266 loss tensor(0.3424)\n",
            "Time 44.91994571685791 loss tensor(0.3423)\n",
            "Time 45.32444500923157 loss tensor(0.3420)\n",
            "Time 45.80778789520264 loss tensor(0.3419)\n",
            "Time 45.92838716506958 loss tensor(0.3398)\n",
            "Time 46.05703854560852 loss tensor(0.3398)\n",
            "Time 46.17400789260864 loss tensor(0.3394)\n",
            "Time 46.359665870666504 loss tensor(0.3389)\n",
            "Time 47.01786398887634 loss tensor(0.3379)\n",
            "Time 47.27708172798157 loss tensor(0.3378)\n",
            "Time 47.39146304130554 loss tensor(0.3375)\n",
            "Time 47.51841926574707 loss tensor(0.3374)\n",
            "Time 47.633222341537476 loss tensor(0.3374)\n",
            "Time 47.755706548690796 loss tensor(0.3365)\n",
            "Time 47.893418312072754 loss tensor(0.3361)\n",
            "Time 48.01570963859558 loss tensor(0.3359)\n",
            "Time 48.132568359375 loss tensor(0.3341)\n",
            "Time 48.25328326225281 loss tensor(0.3339)\n",
            "Time 48.36807179450989 loss tensor(0.3338)\n",
            "Time 48.50231742858887 loss tensor(0.3338)\n",
            "Time 48.65152359008789 loss tensor(0.3337)\n",
            "Time 48.77675104141235 loss tensor(0.3316)\n",
            "Time 48.905378341674805 loss tensor(0.3309)\n",
            "Time 49.028473138809204 loss tensor(0.3272)\n",
            "Time 49.14570450782776 loss tensor(0.3263)\n",
            "Time 49.27449107170105 loss tensor(0.3262)\n",
            "Time 49.392080545425415 loss tensor(0.3246)\n",
            "Time 49.516517639160156 loss tensor(0.3243)\n",
            "Time 49.63260555267334 loss tensor(0.3234)\n",
            "Time 49.75498366355896 loss tensor(0.3225)\n",
            "Time 49.87619972229004 loss tensor(0.3225)\n",
            "Time 50.013174533843994 loss tensor(0.3224)\n",
            "Time 50.12746477127075 loss tensor(0.3223)\n",
            "Time 50.28035092353821 loss tensor(0.3223)\n",
            "Time 50.46391797065735 loss tensor(0.3219)\n",
            "Time 50.651978969573975 loss tensor(0.3217)\n",
            "Time 50.835224866867065 loss tensor(0.3213)\n",
            "Time 51.04317378997803 loss tensor(0.3212)\n",
            "Time 51.22304010391235 loss tensor(0.3202)\n",
            "Time 51.40544033050537 loss tensor(0.3201)\n",
            "Time 51.58806610107422 loss tensor(0.3199)\n",
            "Time 51.779284954071045 loss tensor(0.3197)\n",
            "Time 51.95535206794739 loss tensor(0.3179)\n",
            "Time 52.1602520942688 loss tensor(0.3178)\n",
            "Time 52.34807085990906 loss tensor(0.3172)\n",
            "Time 52.53684735298157 loss tensor(0.3168)\n",
            "Time 52.719510316848755 loss tensor(0.3164)\n",
            "Time 52.933080434799194 loss tensor(0.3163)\n",
            "Time 53.07409977912903 loss tensor(0.3151)\n",
            "Time 53.20194673538208 loss tensor(0.3142)\n",
            "Time 53.32338619232178 loss tensor(0.3135)\n",
            "Time 53.44327926635742 loss tensor(0.3133)\n",
            "Time 53.56683564186096 loss tensor(0.3133)\n",
            "Time 53.69372510910034 loss tensor(0.3132)\n",
            "Time 53.83331346511841 loss tensor(0.3131)\n",
            "Time 53.959537744522095 loss tensor(0.3129)\n",
            "Time 54.08074426651001 loss tensor(0.3126)\n",
            "Time 54.218151807785034 loss tensor(0.3116)\n",
            "Time 54.332329511642456 loss tensor(0.3108)\n",
            "Time 54.46050214767456 loss tensor(0.3097)\n",
            "Time 54.57542443275452 loss tensor(0.3090)\n",
            "Time 54.69705557823181 loss tensor(0.3087)\n",
            "Time 54.8245370388031 loss tensor(0.3086)\n",
            "Time 54.94620442390442 loss tensor(0.3081)\n",
            "Time 55.06434631347656 loss tensor(0.3079)\n",
            "Time 55.199028730392456 loss tensor(0.3068)\n",
            "Time 55.313496112823486 loss tensor(0.3059)\n",
            "Time 55.435895919799805 loss tensor(0.3054)\n",
            "Time 55.56381869316101 loss tensor(0.3032)\n",
            "Time 55.683937311172485 loss tensor(0.3030)\n",
            "Time 55.80052900314331 loss tensor(0.3029)\n",
            "Time 55.92439007759094 loss tensor(0.3019)\n",
            "Time 56.04885745048523 loss tensor(0.3016)\n",
            "Time 56.18326950073242 loss tensor(0.3016)\n",
            "Time 56.310991287231445 loss tensor(0.3002)\n",
            "Time 56.43105459213257 loss tensor(0.2984)\n"
          ]
        }
      ]
    },
    {
      "cell_type": "code",
      "source": [
        "plt.plot(losses)"
      ],
      "metadata": {
        "id": "yqhSK6H4i5Ll",
        "outputId": "dd787540-da92-4d57-bd0c-ffc13022ecc9",
        "colab": {
          "base_uri": "https://localhost:8080/",
          "height": 283
        }
      },
      "execution_count": 30,
      "outputs": [
        {
          "output_type": "execute_result",
          "data": {
            "text/plain": [
              "[<matplotlib.lines.Line2D at 0x7f766d06c040>]"
            ]
          },
          "metadata": {},
          "execution_count": 30
        },
        {
          "output_type": "display_data",
          "data": {
            "text/plain": [
              "<Figure size 432x288 with 1 Axes>"
            ],
            "image/png": "[encoded data removed]"
          },
          "metadata": {
            "needs_background": "light"
          }
        }
      ]
    },
    {
      "cell_type": "code",
      "source": [
        "plt.plot(accuracies)"
      ],
      "metadata": {
        "colab": {
          "base_uri": "https://localhost:8080/",
          "height": 283
        },
        "id": "GtBfArSuC9Y8",
        "outputId": "f4726c03-9371-4c5f-d096-2a54527be024"
      },
      "execution_count": 31,
      "outputs": [
        {
          "output_type": "execute_result",
          "data": {
            "text/plain": [
              "[<matplotlib.lines.Line2D at 0x7f766cb95670>]"
            ]
          },
          "metadata": {},
          "execution_count": 31
        },
        {
          "output_type": "display_data",
          "data": {
            "text/plain": [
              "<Figure size 432x288 with 1 Axes>"
            ],
            "image/png": "[encoded data removed]"
          },
          "metadata": {
            "needs_background": "light"
          }
        }
      ]
    },
    {
      "cell_type": "code",
      "source": [
        "plt.plot(errors)"
      ],
      "metadata": {
        "colab": {
          "base_uri": "https://localhost:8080/",
          "height": 283
        },
        "id": "FbauRNxMYsyf",
        "outputId": "b20f1be2-6fe4-4886-ecfd-4673b6f7e867"
      },
      "execution_count": 32,
      "outputs": [
        {
          "output_type": "execute_result",
          "data": {
            "text/plain": [
              "[<matplotlib.lines.Line2D at 0x7f766caf6ac0>]"
            ]
          },
          "metadata": {},
          "execution_count": 32
        },
        {
          "output_type": "display_data",
          "data": {
            "text/plain": [
              "<Figure size 432x288 with 1 Axes>"
            ],
            "image/png": "[encoded data removed]"
          },
          "metadata": {
            "needs_background": "light"
          }
        }
      ]
    }
  ]
}