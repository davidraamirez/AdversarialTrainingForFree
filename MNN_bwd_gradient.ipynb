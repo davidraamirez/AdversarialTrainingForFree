{
  "nbformat": 4,
  "nbformat_minor": 0,
  "metadata": {
    "colab": {
      "provenance": [],
      "include_colab_link": true
    },
    "kernelspec": {
      "name": "python3",
      "display_name": "Python 3"
    },
    "language_info": {
      "name": "python"
    },
    "accelerator": "GPU",
    "gpuClass": "standard"
  },
  "cells": [
    {
      "cell_type": "markdown",
      "metadata": {
        "id": "view-in-github",
        "colab_type": "text"
      },
      "source": [
        "<a href=\"https://colab.research.google.com/github/davidraamirez/GradientWithoutBackpropagation/blob/main/MNN_bwd_gradient.ipynb\" target=\"_parent\"><img src=\"https://colab.research.google.com/assets/colab-badge.svg\" alt=\"Open In Colab\"/></a>"
      ]
    },
    {
      "cell_type": "markdown",
      "source": [
        "# **Import the necessary packages**"
      ],
      "metadata": {
        "id": "yGl6CMfiC4Iv"
      }
    },
    {
      "cell_type": "code",
      "execution_count": 53,
      "metadata": {
        "id": "NCA45z_cHlZT"
      },
      "outputs": [],
      "source": [
        "import torch\n",
        "import tensorflow_datasets as tfds\n",
        "from sklearn.model_selection import train_test_split"
      ]
    },
    {
      "cell_type": "code",
      "source": [
        "import torchvision"
      ],
      "metadata": {
        "id": "fkP97m_iH51g"
      },
      "execution_count": 54,
      "outputs": []
    },
    {
      "cell_type": "code",
      "source": [
        "from torch import nn\n",
        "from torch.nn import functional as F"
      ],
      "metadata": {
        "id": "ObyMVAojDE31"
      },
      "execution_count": 55,
      "outputs": []
    },
    {
      "cell_type": "code",
      "source": [
        "import time "
      ],
      "metadata": {
        "id": "kK_WoG4bDJiS"
      },
      "execution_count": 56,
      "outputs": []
    },
    {
      "cell_type": "code",
      "source": [
        "import matplotlib.pyplot as plt"
      ],
      "metadata": {
        "id": "U8wE52seDOXF"
      },
      "execution_count": 57,
      "outputs": []
    },
    {
      "cell_type": "markdown",
      "source": [
        "# **Loading and preprocessing the data**"
      ],
      "metadata": {
        "id": "ELxBmU5bH9wU"
      }
    },
    {
      "cell_type": "code",
      "source": [
        "#Load the dataset\n",
        "penguins = tfds.load('penguins', as_supervised=True, split='train')"
      ],
      "metadata": {
        "id": "T-s6I3bnH9KP"
      },
      "execution_count": 58,
      "outputs": []
    },
    {
      "cell_type": "code",
      "source": [
        "X, y = penguins.batch(500).get_single_element()\n",
        "X, y = X.numpy(), y.numpy()"
      ],
      "metadata": {
        "id": "cuQ1Xtd7IBi7"
      },
      "execution_count": 59,
      "outputs": []
    },
    {
      "cell_type": "code",
      "source": [
        "Xtrain, Xtest, ytrain, ytest = train_test_split(X, y, stratify=y)"
      ],
      "metadata": {
        "id": "0PH5mMXJIEBS"
      },
      "execution_count": 60,
      "outputs": []
    },
    {
      "cell_type": "code",
      "source": [
        "Xtrain = torch.from_numpy(Xtrain).float()\n",
        "Xtest = torch.from_numpy(Xtest).float()"
      ],
      "metadata": {
        "id": "vtuD1quIIGXh"
      },
      "execution_count": 61,
      "outputs": []
    },
    {
      "cell_type": "code",
      "source": [
        "ytrain = torch.from_numpy(ytrain).long()\n",
        "ytest = torch.from_numpy(ytest).long()"
      ],
      "metadata": {
        "id": "hvlRswvNIH5A"
      },
      "execution_count": 62,
      "outputs": []
    },
    {
      "cell_type": "markdown",
      "source": [
        "# **Define MultiLayer Neural Network**"
      ],
      "metadata": {
        "id": "gJu6veg7IKr7"
      }
    },
    {
      "cell_type": "code",
      "source": [
        "class MNN(nn.Module):\n",
        "  def __init__(self, input_size, fc1w, fc1b, fc2w, fc2b, fc3w, fc3b):\n",
        "    super().__init__()\n",
        "\n",
        "    self.w1 = nn.Parameter(fc1w)\n",
        "    self.b1 = nn.Parameter(fc1b)\n",
        "    \n",
        "    self.w2 = nn.Parameter(fc2w)\n",
        "    self.b2 = nn.Parameter(fc2b)\n",
        "\n",
        "    self.w3 = nn.Parameter(fc3w)\n",
        "    self.b3 = nn.Parameter(fc3b)\n",
        "\n",
        "  def forward(self, x):\n",
        "    x = F.relu(x@self.w1 + self.b1)\n",
        "    x = F.relu(x@self.w2 + self.b2)\n",
        "    x = x@self.w3 + self.b3\n",
        "    x = x.reshape(1, -1)\n",
        "\n",
        "    return torch.softmax(x, 1)"
      ],
      "metadata": {
        "id": "pbJ4P5fdIQr0"
      },
      "execution_count": 63,
      "outputs": []
    },
    {
      "cell_type": "code",
      "source": [
        "# We check if CUDA is available\n",
        "device = 'cuda' if torch.cuda.is_available() else 'cpu'\n",
        "print(device)"
      ],
      "metadata": {
        "colab": {
          "base_uri": "https://localhost:8080/"
        },
        "id": "bgYMD_SpIVHn",
        "outputId": "56eb0547-f25b-48da-ec98-da0cb83d7ec1"
      },
      "execution_count": 64,
      "outputs": [
        {
          "output_type": "stream",
          "name": "stdout",
          "text": [
            "cuda\n"
          ]
        }
      ]
    },
    {
      "cell_type": "markdown",
      "source": [
        "# **Initialize the parameters**"
      ],
      "metadata": {
        "id": "-WZ0DUonIfaD"
      }
    },
    {
      "cell_type": "code",
      "source": [
        "# We initialize the parameters randomly with values in [-1, 1] and the model with an input size\n",
        "fc1w = torch.FloatTensor(4, 64).uniform_(-1, 1)\n",
        "fc1b = torch.FloatTensor(64).uniform_(-1, 1)\n",
        "fc2w = torch.FloatTensor(64, 8).uniform_(-1, 1)\n",
        "fc2b = torch.FloatTensor(8).uniform_(-1, 1)\n",
        "fc3w = torch.FloatTensor(8, 3).uniform_(-1, 1)\n",
        "fc3b = torch.FloatTensor(3).uniform_(-1, 1)\n",
        "mnn = MNN(4, fc1w, fc1b, fc2w, fc2b, fc3w, fc3b).to(device)"
      ],
      "metadata": {
        "id": "SYOnVLTmIXdG"
      },
      "execution_count": 65,
      "outputs": []
    },
    {
      "cell_type": "code",
      "source": [
        "# We try our model with the first example\n",
        "print(mnn(Xtrain[0].to(device)))"
      ],
      "metadata": {
        "colab": {
          "base_uri": "https://localhost:8080/"
        },
        "id": "mLUqJQNfIqlh",
        "outputId": "e2ff9989-6893-45c2-eb4f-235a579e070c"
      },
      "execution_count": 66,
      "outputs": [
        {
          "output_type": "stream",
          "name": "stdout",
          "text": [
            "tensor([[0.8707, 0.1136, 0.0158]], device='cuda:0', grad_fn=<SoftmaxBackward0>)\n"
          ]
        }
      ]
    },
    {
      "cell_type": "markdown",
      "source": [
        "Calculate predictions"
      ],
      "metadata": {
        "id": "R-eC6x1-MmSJ"
      }
    },
    {
      "cell_type": "code",
      "source": [
        "def pred(x, fc1w, fc1b, fc2w, fc2b, fc3w, fc3b):\n",
        "  ypred=torch.randn((x.shape[0],3))\n",
        "  for j in range (x.shape[0]):\n",
        "    xj = x[j]\n",
        "    xj = F.relu(xj@fc1w + fc1b)\n",
        "    xj = F.relu(xj@fc2w + fc2b)\n",
        "    xj = xj@fc3w + fc3b\n",
        "    xj = xj.reshape(1, -1)\n",
        "    ypred[j]=torch.softmax(xj, 1)\n",
        "  return ypred"
      ],
      "metadata": {
        "id": "qcyLR4WvMlvk"
      },
      "execution_count": 67,
      "outputs": []
    },
    {
      "cell_type": "code",
      "source": [
        "ypred = pred(Xtrain, fc1w, fc1b, fc2w, fc2b, fc3w, fc3b)"
      ],
      "metadata": {
        "id": "oKdzTEYvD6R5"
      },
      "execution_count": 68,
      "outputs": []
    },
    {
      "cell_type": "markdown",
      "source": [
        "# **Define accuracy**"
      ],
      "metadata": {
        "id": "fzyisWuVIupc"
      }
    },
    {
      "cell_type": "code",
      "source": [
        "def accuracy(ytrue, ypred):\n",
        "  return (ypred.argmax(1) == ytrue).float().mean()"
      ],
      "metadata": {
        "id": "ioaEGAO3IuCH"
      },
      "execution_count": 69,
      "outputs": []
    },
    {
      "cell_type": "code",
      "source": [
        "# Average accuracy at initialization is 33% (random guessing).\n",
        "accuracy(ytrain.to(device), ypred.to(device))"
      ],
      "metadata": {
        "colab": {
          "base_uri": "https://localhost:8080/"
        },
        "id": "_hLyMMWtI3Z3",
        "outputId": "fd842972-4623-48fb-d7a2-b7f8715f55e4"
      },
      "execution_count": 70,
      "outputs": [
        {
          "output_type": "execute_result",
          "data": {
            "text/plain": [
              "tensor(0.4360, device='cuda:0')"
            ]
          },
          "metadata": {},
          "execution_count": 70
        }
      ]
    },
    {
      "cell_type": "markdown",
      "source": [
        "# **Define Cross-Entropy**"
      ],
      "metadata": {
        "id": "3wPhpwJJI_WN"
      }
    },
    {
      "cell_type": "code",
      "source": [
        "def cross_entropy(ytrue, ypred):\n",
        "  return - ypred[torch.arange(0, ypred.shape[0]), ytrue].log().mean()"
      ],
      "metadata": {
        "id": "IQzUZcnDI-7y"
      },
      "execution_count": 71,
      "outputs": []
    },
    {
      "cell_type": "code",
      "source": [
        "# Cross_entropy at initialization\n",
        "print(cross_entropy(ytrain.to(device), ypred.to(device)))"
      ],
      "metadata": {
        "colab": {
          "base_uri": "https://localhost:8080/"
        },
        "id": "VW2g1_1HI8Hz",
        "outputId": "fa0a8d64-2666-4f9c-d254-760913202e23"
      },
      "execution_count": 72,
      "outputs": [
        {
          "output_type": "stream",
          "name": "stdout",
          "text": [
            "tensor(1.8892, device='cuda:0')\n"
          ]
        }
      ]
    },
    {
      "cell_type": "markdown",
      "source": [
        "Define error"
      ],
      "metadata": {
        "id": "UPOACxrTEkxC"
      }
    },
    {
      "cell_type": "code",
      "source": [
        "def error(ytrue, model, x):\n",
        "  error=0\n",
        "  for i in range (ytrue.size(0)):\n",
        "    ypredi = model(x[i])\n",
        "    if (ypredi.argmax(1)- ytrue[i])!=0:\n",
        "      error = error+ 1\n",
        "  return error"
      ],
      "metadata": {
        "id": "jeNZF1Y4EmL0"
      },
      "execution_count": 73,
      "outputs": []
    },
    {
      "cell_type": "markdown",
      "source": [
        "# **Train and evaluate the network**"
      ],
      "metadata": {
        "id": "smaySELkJTLB"
      }
    },
    {
      "cell_type": "code",
      "source": [
        "def train_bwd_gradient(x, y):\n",
        "  x, y = x.to(device), y.to(device)\n",
        "\n",
        "  losses = [] #Vector with the cross_entropy values of the test set\n",
        "  accuracies = [] #Vector with the accuracy values of the test set\n",
        "  errors = [] #Vector with the number of misclassifications of the test set\n",
        "\n",
        "  l_rate0 = 0.05 #Learning rate used\n",
        "\n",
        "  #Initialize the parameters\n",
        "  fc1w = torch.FloatTensor(4, 64).uniform_(-1, 1).requires_grad_(True)\n",
        "  fc1b = torch.FloatTensor(64).uniform_(-1, 1).requires_grad_(True)\n",
        "  fc2w = torch.FloatTensor(64, 8).uniform_(-1, 1).requires_grad_(True)\n",
        "  fc2b = torch.FloatTensor(8).uniform_(-1, 1).requires_grad_(True)\n",
        "  fc3w = torch.FloatTensor(8, 3).uniform_(-1, 1).requires_grad_(True)\n",
        "  fc3b = torch.FloatTensor(3).uniform_(-1, 1).requires_grad_(True)\n",
        "\n",
        "  ypred = pred(x, fc1w.to(device), fc1b.to(device), fc2w.to(device), fc2b.to(device), fc3w.to(device), fc3b.to(device))\n",
        "  ypred = ypred.to(device)\n",
        "  loss = cross_entropy(y, ypred) # Loss function\n",
        "\n",
        "  it=0\n",
        "  t = 0\n",
        "  t0 = time.time()\n",
        "\n",
        "  while loss>0.2:\n",
        "\n",
        "    #Compute the gradients\n",
        "    loss.backward()\n",
        "\n",
        "    with torch.no_grad():\n",
        "\n",
        "      #Apply gradients\n",
        "      fc1w -= l_rate0*fc1w.grad\n",
        "      fc1b -= l_rate0*fc1b.grad\n",
        "      fc2w -= l_rate0*fc2w.grad\n",
        "      fc2b -= l_rate0*fc2b.grad\n",
        "      fc3w -= l_rate0*fc3w.grad\n",
        "      fc3b -= l_rate0*fc3b.grad\n",
        "\n",
        "      # Gradients are accumulated: we need to zero them out before the next iteration\n",
        "      fc1w.grad.zero_()\n",
        "      fc1b.grad.zero_()\n",
        "      fc2w.grad.zero_()\n",
        "      fc2b.grad.zero_()\n",
        "      fc3w.grad.zero_()\n",
        "      fc3b.grad.zero_()\n",
        "\n",
        "\n",
        "    # We calculate the number of the misclassfications of the test set with the updated model and we add it to the errors vector\n",
        "    mnn = MNN(4, fc1w, fc1b, fc2w, fc2b, fc3w, fc3b).to(device)\n",
        "    ypredT = pred(Xtest.to(device), fc1w.to(device), fc1b.to(device), fc2w.to(device), fc2b.to(device), fc3w.to(device), fc3b.to(device))\n",
        "    ypredT = ypredT.to(device)\n",
        "    errors.append(error(ytest.to(device), mnn, Xtest.to(device)))\n",
        "\n",
        "    # We calculate the cross_entropy of the test set with the updated model and we add it to the losses vector\n",
        "    loss = cross_entropy(ytest.to(device), ypredT)\n",
        "    losses.append(loss.cpu())\n",
        "\n",
        "    # We calculate the accuracy of the test set with the updated model and we add it to the accuracies vector\n",
        "    accuracies.append(accuracy(ytest.to(device), ypredT).item())\n",
        "\n",
        "    t1=time.time()\n",
        "    t+=t1-t0\n",
        "    t0=t1\n",
        "    it+=1\n",
        "    print('Time', t, 'loss', loss)\n",
        "    \n",
        "  print('Final execution time', t)  \n",
        "  print('Number of iterations', it)\n",
        "  print('Mean execution time of an iteration', t/it)\n",
        "  return fc1w, fc1b, fc2w, fc2b, fc3w, fc3b, losses, accuracies, errors"
      ],
      "metadata": {
        "id": "QcHl0gbcJLFO"
      },
      "execution_count": 74,
      "outputs": []
    },
    {
      "cell_type": "code",
      "source": [
        "fc1w, fc1b, fc2w, fc2b, fc3w, fc3b, losses, accuracies, errors = train_bwd_gradient(Xtrain, ytrain)"
      ],
      "metadata": {
        "colab": {
          "base_uri": "https://localhost:8080/"
        },
        "id": "5NeXOGQfOT94",
        "outputId": "2926c85c-df17-4556-cf7b-61a9cf8b05bb"
      },
      "execution_count": 75,
      "outputs": [
        {
          "output_type": "stream",
          "name": "stdout",
          "text": [
            "Time 0.11372494697570801 loss tensor(2.3234, device='cuda:0', grad_fn=<NegBackward0>)\n",
            "Time 0.18476414680480957 loss tensor(1.5786, device='cuda:0', grad_fn=<NegBackward0>)\n",
            "Time 0.24786043167114258 loss tensor(1.2083, device='cuda:0', grad_fn=<NegBackward0>)\n",
            "Time 0.30924081802368164 loss tensor(0.9689, device='cuda:0', grad_fn=<NegBackward0>)\n",
            "Time 0.3751981258392334 loss tensor(0.8575, device='cuda:0', grad_fn=<NegBackward0>)\n",
            "Time 0.4410543441772461 loss tensor(0.7770, device='cuda:0', grad_fn=<NegBackward0>)\n",
            "Time 0.5063610076904297 loss tensor(0.7152, device='cuda:0', grad_fn=<NegBackward0>)\n",
            "Time 0.5829265117645264 loss tensor(0.6663, device='cuda:0', grad_fn=<NegBackward0>)\n",
            "Time 0.6464927196502686 loss tensor(0.6258, device='cuda:0', grad_fn=<NegBackward0>)\n",
            "Time 0.7087600231170654 loss tensor(0.5913, device='cuda:0', grad_fn=<NegBackward0>)\n",
            "Time 0.7712929248809814 loss tensor(0.5611, device='cuda:0', grad_fn=<NegBackward0>)\n",
            "Time 0.8377785682678223 loss tensor(0.5347, device='cuda:0', grad_fn=<NegBackward0>)\n",
            "Time 0.9002814292907715 loss tensor(0.5115, device='cuda:0', grad_fn=<NegBackward0>)\n",
            "Time 0.964510440826416 loss tensor(0.4902, device='cuda:0', grad_fn=<NegBackward0>)\n",
            "Time 1.0275325775146484 loss tensor(0.4710, device='cuda:0', grad_fn=<NegBackward0>)\n",
            "Time 1.0956923961639404 loss tensor(0.4534, device='cuda:0', grad_fn=<NegBackward0>)\n",
            "Time 1.16572904586792 loss tensor(0.4370, device='cuda:0', grad_fn=<NegBackward0>)\n",
            "Time 1.2272858619689941 loss tensor(0.4219, device='cuda:0', grad_fn=<NegBackward0>)\n",
            "Time 1.2888288497924805 loss tensor(0.4078, device='cuda:0', grad_fn=<NegBackward0>)\n",
            "Time 1.3540709018707275 loss tensor(0.3946, device='cuda:0', grad_fn=<NegBackward0>)\n",
            "Time 1.420027494430542 loss tensor(0.3824, device='cuda:0', grad_fn=<NegBackward0>)\n",
            "Time 1.4863896369934082 loss tensor(0.3709, device='cuda:0', grad_fn=<NegBackward0>)\n",
            "Time 1.550285816192627 loss tensor(0.3602, device='cuda:0', grad_fn=<NegBackward0>)\n",
            "Time 1.6187748908996582 loss tensor(0.3501, device='cuda:0', grad_fn=<NegBackward0>)\n",
            "Time 1.7066280841827393 loss tensor(0.3405, device='cuda:0', grad_fn=<NegBackward0>)\n",
            "Time 1.7700610160827637 loss tensor(0.3313, device='cuda:0', grad_fn=<NegBackward0>)\n",
            "Time 1.8362174034118652 loss tensor(0.3225, device='cuda:0', grad_fn=<NegBackward0>)\n",
            "Time 1.8978183269500732 loss tensor(0.3142, device='cuda:0', grad_fn=<NegBackward0>)\n",
            "Time 1.9602062702178955 loss tensor(0.3062, device='cuda:0', grad_fn=<NegBackward0>)\n",
            "Time 2.0214476585388184 loss tensor(0.2986, device='cuda:0', grad_fn=<NegBackward0>)\n",
            "Time 2.089568614959717 loss tensor(0.2914, device='cuda:0', grad_fn=<NegBackward0>)\n",
            "Time 2.1522912979125977 loss tensor(0.2845, device='cuda:0', grad_fn=<NegBackward0>)\n",
            "Time 2.222066640853882 loss tensor(0.2779, device='cuda:0', grad_fn=<NegBackward0>)\n",
            "Time 2.2845399379730225 loss tensor(0.2716, device='cuda:0', grad_fn=<NegBackward0>)\n",
            "Time 2.3489160537719727 loss tensor(0.2654, device='cuda:0', grad_fn=<NegBackward0>)\n",
            "Time 2.4122207164764404 loss tensor(0.2597, device='cuda:0', grad_fn=<NegBackward0>)\n",
            "Time 2.474815607070923 loss tensor(0.2541, device='cuda:0', grad_fn=<NegBackward0>)\n",
            "Time 2.5360658168792725 loss tensor(0.2487, device='cuda:0', grad_fn=<NegBackward0>)\n",
            "Time 2.600154161453247 loss tensor(0.2435, device='cuda:0', grad_fn=<NegBackward0>)\n",
            "Time 2.6612584590911865 loss tensor(0.2385, device='cuda:0', grad_fn=<NegBackward0>)\n",
            "Time 2.723569393157959 loss tensor(0.2337, device='cuda:0', grad_fn=<NegBackward0>)\n",
            "Time 2.784376859664917 loss tensor(0.2291, device='cuda:0', grad_fn=<NegBackward0>)\n",
            "Time 2.858102560043335 loss tensor(0.2246, device='cuda:0', grad_fn=<NegBackward0>)\n",
            "Time 2.9216809272766113 loss tensor(0.2203, device='cuda:0', grad_fn=<NegBackward0>)\n",
            "Time 2.9874660968780518 loss tensor(0.2161, device='cuda:0', grad_fn=<NegBackward0>)\n",
            "Time 3.0514650344848633 loss tensor(0.2121, device='cuda:0', grad_fn=<NegBackward0>)\n",
            "Time 3.1196534633636475 loss tensor(0.2082, device='cuda:0', grad_fn=<NegBackward0>)\n",
            "Time 3.185940742492676 loss tensor(0.2044, device='cuda:0', grad_fn=<NegBackward0>)\n",
            "Time 3.2528390884399414 loss tensor(0.2008, device='cuda:0', grad_fn=<NegBackward0>)\n",
            "Time 3.3140854835510254 loss tensor(0.1973, device='cuda:0', grad_fn=<NegBackward0>)\n",
            "Final execution time 3.3140854835510254\n",
            "Number of iterations 50\n",
            "Mean execution time of an iteration 0.06628170967102051\n"
          ]
        }
      ]
    },
    {
      "cell_type": "code",
      "source": [
        "with torch.no_grad():\n",
        "  plt.plot(losses)"
      ],
      "metadata": {
        "colab": {
          "base_uri": "https://localhost:8080/",
          "height": 265
        },
        "id": "qNkA3hnSMVzm",
        "outputId": "9a21ba43-b346-4c40-c2c2-3b5afb0cda69"
      },
      "execution_count": 76,
      "outputs": [
        {
          "output_type": "display_data",
          "data": {
            "text/plain": [
              "<Figure size 432x288 with 1 Axes>"
            ],
            "image/png": "[encoded data removed]"
          },
          "metadata": {
            "needs_background": "light"
          }
        }
      ]
    },
    {
      "cell_type": "code",
      "source": [
        "plt.plot(accuracies)"
      ],
      "metadata": {
        "colab": {
          "base_uri": "https://localhost:8080/",
          "height": 285
        },
        "id": "AOss-YzXMYJz",
        "outputId": "40b66917-6b45-4a45-9638-e3e1bd0a3e67"
      },
      "execution_count": 77,
      "outputs": [
        {
          "output_type": "execute_result",
          "data": {
            "text/plain": [
              "[<matplotlib.lines.Line2D at 0x7f4d1a2f08e0>]"
            ]
          },
          "metadata": {},
          "execution_count": 77
        },
        {
          "output_type": "display_data",
          "data": {
            "text/plain": [
              "<Figure size 432x288 with 1 Axes>"
            ],
            "image/png": "[encoded data removed]"
          },
          "metadata": {
            "needs_background": "light"
          }
        }
      ]
    },
    {
      "cell_type": "code",
      "source": [
        "plt.plot(errors)"
      ],
      "metadata": {
        "colab": {
          "base_uri": "https://localhost:8080/",
          "height": 283
        },
        "id": "vRrwEVroUjfL",
        "outputId": "129b35ed-1073-49c1-81c0-120c4821f775"
      },
      "execution_count": 78,
      "outputs": [
        {
          "output_type": "execute_result",
          "data": {
            "text/plain": [
              "[<matplotlib.lines.Line2D at 0x7f4d1a2bfe50>]"
            ]
          },
          "metadata": {},
          "execution_count": 78
        },
        {
          "output_type": "display_data",
          "data": {
            "text/plain": [
              "<Figure size 432x288 with 1 Axes>"
            ],
            "image/png": "[encoded data removed]"
          },
          "metadata": {
            "needs_background": "light"
          }
        }
      ]
    }
  ]
}