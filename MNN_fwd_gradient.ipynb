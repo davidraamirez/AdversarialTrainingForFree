{
  "nbformat": 4,
  "nbformat_minor": 0,
  "metadata": {
    "colab": {
      "provenance": [],
      "include_colab_link": true
    },
    "kernelspec": {
      "name": "python3",
      "display_name": "Python 3"
    },
    "language_info": {
      "name": "python"
    },
    "widgets": {
      "application/vnd.jupyter.widget-state+json": {
        "0147478d01a64563ae24fb0ce60dbc0b": {
          "model_module": "@jupyter-widgets/controls",
          "model_name": "HBoxModel",
          "model_module_version": "1.5.0",
          "state": {
            "_dom_classes": [],
            "_model_module": "@jupyter-widgets/controls",
            "_model_module_version": "1.5.0",
            "_model_name": "HBoxModel",
            "_view_count": null,
            "_view_module": "@jupyter-widgets/controls",
            "_view_module_version": "1.5.0",
            "_view_name": "HBoxView",
            "box_style": "",
            "children": [
              "IPY_MODEL_3464d2e6857f4f519a1d9fb444fec7b0",
              "IPY_MODEL_7b0ad52a65fe4bb2ad02a678f93f37ea",
              "IPY_MODEL_7108f32fd94141f9979fa0d03bb0295e"
            ],
            "layout": "IPY_MODEL_4898ec3be57149a5939c01be6cd27242"
          }
        },
        "3464d2e6857f4f519a1d9fb444fec7b0": {
          "model_module": "@jupyter-widgets/controls",
          "model_name": "HTMLModel",
          "model_module_version": "1.5.0",
          "state": {
            "_dom_classes": [],
            "_model_module": "@jupyter-widgets/controls",
            "_model_module_version": "1.5.0",
            "_model_name": "HTMLModel",
            "_view_count": null,
            "_view_module": "@jupyter-widgets/controls",
            "_view_module_version": "1.5.0",
            "_view_name": "HTMLView",
            "description": "",
            "description_tooltip": null,
            "layout": "IPY_MODEL_d76fe81f2a844036a34d3683143df467",
            "placeholder": "​",
            "style": "IPY_MODEL_ebfadb70ec174fa0a06214a920ce1d10",
            "value": "Dl Completed...: 100%"
          }
        },
        "7b0ad52a65fe4bb2ad02a678f93f37ea": {
          "model_module": "@jupyter-widgets/controls",
          "model_name": "FloatProgressModel",
          "model_module_version": "1.5.0",
          "state": {
            "_dom_classes": [],
            "_model_module": "@jupyter-widgets/controls",
            "_model_module_version": "1.5.0",
            "_model_name": "FloatProgressModel",
            "_view_count": null,
            "_view_module": "@jupyter-widgets/controls",
            "_view_module_version": "1.5.0",
            "_view_name": "ProgressView",
            "bar_style": "success",
            "description": "",
            "description_tooltip": null,
            "layout": "IPY_MODEL_b7b7c339cdb949e98a6c2700edbf0543",
            "max": 1,
            "min": 0,
            "orientation": "horizontal",
            "style": "IPY_MODEL_1295fea24727477487ef57d9260f510d",
            "value": 1
          }
        },
        "7108f32fd94141f9979fa0d03bb0295e": {
          "model_module": "@jupyter-widgets/controls",
          "model_name": "HTMLModel",
          "model_module_version": "1.5.0",
          "state": {
            "_dom_classes": [],
            "_model_module": "@jupyter-widgets/controls",
            "_model_module_version": "1.5.0",
            "_model_name": "HTMLModel",
            "_view_count": null,
            "_view_module": "@jupyter-widgets/controls",
            "_view_module_version": "1.5.0",
            "_view_name": "HTMLView",
            "description": "",
            "description_tooltip": null,
            "layout": "IPY_MODEL_aa6022f84c4b4cfea7801ca90a4b2305",
            "placeholder": "​",
            "style": "IPY_MODEL_c7082977e521470db060f91ee3c773a1",
            "value": " 1/1 [00:00&lt;00:00,  2.32 url/s]"
          }
        },
        "4898ec3be57149a5939c01be6cd27242": {
          "model_module": "@jupyter-widgets/base",
          "model_name": "LayoutModel",
          "model_module_version": "1.2.0",
          "state": {
            "_model_module": "@jupyter-widgets/base",
            "_model_module_version": "1.2.0",
            "_model_name": "LayoutModel",
            "_view_count": null,
            "_view_module": "@jupyter-widgets/base",
            "_view_module_version": "1.2.0",
            "_view_name": "LayoutView",
            "align_content": null,
            "align_items": null,
            "align_self": null,
            "border": null,
            "bottom": null,
            "display": null,
            "flex": null,
            "flex_flow": null,
            "grid_area": null,
            "grid_auto_columns": null,
            "grid_auto_flow": null,
            "grid_auto_rows": null,
            "grid_column": null,
            "grid_gap": null,
            "grid_row": null,
            "grid_template_areas": null,
            "grid_template_columns": null,
            "grid_template_rows": null,
            "height": null,
            "justify_content": null,
            "justify_items": null,
            "left": null,
            "margin": null,
            "max_height": null,
            "max_width": null,
            "min_height": null,
            "min_width": null,
            "object_fit": null,
            "object_position": null,
            "order": null,
            "overflow": null,
            "overflow_x": null,
            "overflow_y": null,
            "padding": null,
            "right": null,
            "top": null,
            "visibility": null,
            "width": null
          }
        },
        "d76fe81f2a844036a34d3683143df467": {
          "model_module": "@jupyter-widgets/base",
          "model_name": "LayoutModel",
          "model_module_version": "1.2.0",
          "state": {
            "_model_module": "@jupyter-widgets/base",
            "_model_module_version": "1.2.0",
            "_model_name": "LayoutModel",
            "_view_count": null,
            "_view_module": "@jupyter-widgets/base",
            "_view_module_version": "1.2.0",
            "_view_name": "LayoutView",
            "align_content": null,
            "align_items": null,
            "align_self": null,
            "border": null,
            "bottom": null,
            "display": null,
            "flex": null,
            "flex_flow": null,
            "grid_area": null,
            "grid_auto_columns": null,
            "grid_auto_flow": null,
            "grid_auto_rows": null,
            "grid_column": null,
            "grid_gap": null,
            "grid_row": null,
            "grid_template_areas": null,
            "grid_template_columns": null,
            "grid_template_rows": null,
            "height": null,
            "justify_content": null,
            "justify_items": null,
            "left": null,
            "margin": null,
            "max_height": null,
            "max_width": null,
            "min_height": null,
            "min_width": null,
            "object_fit": null,
            "object_position": null,
            "order": null,
            "overflow": null,
            "overflow_x": null,
            "overflow_y": null,
            "padding": null,
            "right": null,
            "top": null,
            "visibility": null,
            "width": null
          }
        },
        "ebfadb70ec174fa0a06214a920ce1d10": {
          "model_module": "@jupyter-widgets/controls",
          "model_name": "DescriptionStyleModel",
          "model_module_version": "1.5.0",
          "state": {
            "_model_module": "@jupyter-widgets/controls",
            "_model_module_version": "1.5.0",
            "_model_name": "DescriptionStyleModel",
            "_view_count": null,
            "_view_module": "@jupyter-widgets/base",
            "_view_module_version": "1.2.0",
            "_view_name": "StyleView",
            "description_width": ""
          }
        },
        "b7b7c339cdb949e98a6c2700edbf0543": {
          "model_module": "@jupyter-widgets/base",
          "model_name": "LayoutModel",
          "model_module_version": "1.2.0",
          "state": {
            "_model_module": "@jupyter-widgets/base",
            "_model_module_version": "1.2.0",
            "_model_name": "LayoutModel",
            "_view_count": null,
            "_view_module": "@jupyter-widgets/base",
            "_view_module_version": "1.2.0",
            "_view_name": "LayoutView",
            "align_content": null,
            "align_items": null,
            "align_self": null,
            "border": null,
            "bottom": null,
            "display": null,
            "flex": null,
            "flex_flow": null,
            "grid_area": null,
            "grid_auto_columns": null,
            "grid_auto_flow": null,
            "grid_auto_rows": null,
            "grid_column": null,
            "grid_gap": null,
            "grid_row": null,
            "grid_template_areas": null,
            "grid_template_columns": null,
            "grid_template_rows": null,
            "height": null,
            "justify_content": null,
            "justify_items": null,
            "left": null,
            "margin": null,
            "max_height": null,
            "max_width": null,
            "min_height": null,
            "min_width": null,
            "object_fit": null,
            "object_position": null,
            "order": null,
            "overflow": null,
            "overflow_x": null,
            "overflow_y": null,
            "padding": null,
            "right": null,
            "top": null,
            "visibility": null,
            "width": "20px"
          }
        },
        "1295fea24727477487ef57d9260f510d": {
          "model_module": "@jupyter-widgets/controls",
          "model_name": "ProgressStyleModel",
          "model_module_version": "1.5.0",
          "state": {
            "_model_module": "@jupyter-widgets/controls",
            "_model_module_version": "1.5.0",
            "_model_name": "ProgressStyleModel",
            "_view_count": null,
            "_view_module": "@jupyter-widgets/base",
            "_view_module_version": "1.2.0",
            "_view_name": "StyleView",
            "bar_color": null,
            "description_width": ""
          }
        },
        "aa6022f84c4b4cfea7801ca90a4b2305": {
          "model_module": "@jupyter-widgets/base",
          "model_name": "LayoutModel",
          "model_module_version": "1.2.0",
          "state": {
            "_model_module": "@jupyter-widgets/base",
            "_model_module_version": "1.2.0",
            "_model_name": "LayoutModel",
            "_view_count": null,
            "_view_module": "@jupyter-widgets/base",
            "_view_module_version": "1.2.0",
            "_view_name": "LayoutView",
            "align_content": null,
            "align_items": null,
            "align_self": null,
            "border": null,
            "bottom": null,
            "display": null,
            "flex": null,
            "flex_flow": null,
            "grid_area": null,
            "grid_auto_columns": null,
            "grid_auto_flow": null,
            "grid_auto_rows": null,
            "grid_column": null,
            "grid_gap": null,
            "grid_row": null,
            "grid_template_areas": null,
            "grid_template_columns": null,
            "grid_template_rows": null,
            "height": null,
            "justify_content": null,
            "justify_items": null,
            "left": null,
            "margin": null,
            "max_height": null,
            "max_width": null,
            "min_height": null,
            "min_width": null,
            "object_fit": null,
            "object_position": null,
            "order": null,
            "overflow": null,
            "overflow_x": null,
            "overflow_y": null,
            "padding": null,
            "right": null,
            "top": null,
            "visibility": null,
            "width": null
          }
        },
        "c7082977e521470db060f91ee3c773a1": {
          "model_module": "@jupyter-widgets/controls",
          "model_name": "DescriptionStyleModel",
          "model_module_version": "1.5.0",
          "state": {
            "_model_module": "@jupyter-widgets/controls",
            "_model_module_version": "1.5.0",
            "_model_name": "DescriptionStyleModel",
            "_view_count": null,
            "_view_module": "@jupyter-widgets/base",
            "_view_module_version": "1.2.0",
            "_view_name": "StyleView",
            "description_width": ""
          }
        },
        "916d2f23dcc54128aaa13f63713ce4cc": {
          "model_module": "@jupyter-widgets/controls",
          "model_name": "HBoxModel",
          "model_module_version": "1.5.0",
          "state": {
            "_dom_classes": [],
            "_model_module": "@jupyter-widgets/controls",
            "_model_module_version": "1.5.0",
            "_model_name": "HBoxModel",
            "_view_count": null,
            "_view_module": "@jupyter-widgets/controls",
            "_view_module_version": "1.5.0",
            "_view_name": "HBoxView",
            "box_style": "",
            "children": [
              "IPY_MODEL_96c371a474654014ba2d62e80827ea1f",
              "IPY_MODEL_06c9f059fba4442aa8a18a6aae089be0",
              "IPY_MODEL_c07c8fd776504ce3895419c95c3b3c4b"
            ],
            "layout": "IPY_MODEL_86b2378dea5344e1ae297cf437a92e29"
          }
        },
        "96c371a474654014ba2d62e80827ea1f": {
          "model_module": "@jupyter-widgets/controls",
          "model_name": "HTMLModel",
          "model_module_version": "1.5.0",
          "state": {
            "_dom_classes": [],
            "_model_module": "@jupyter-widgets/controls",
            "_model_module_version": "1.5.0",
            "_model_name": "HTMLModel",
            "_view_count": null,
            "_view_module": "@jupyter-widgets/controls",
            "_view_module_version": "1.5.0",
            "_view_name": "HTMLView",
            "description": "",
            "description_tooltip": null,
            "layout": "IPY_MODEL_db1c88ccf3db4c0c838ad76c6c4ef16f",
            "placeholder": "​",
            "style": "IPY_MODEL_0bd1e27ce47f48ca997438cc9e163f71",
            "value": "Dl Size...: "
          }
        },
        "06c9f059fba4442aa8a18a6aae089be0": {
          "model_module": "@jupyter-widgets/controls",
          "model_name": "FloatProgressModel",
          "model_module_version": "1.5.0",
          "state": {
            "_dom_classes": [],
            "_model_module": "@jupyter-widgets/controls",
            "_model_module_version": "1.5.0",
            "_model_name": "FloatProgressModel",
            "_view_count": null,
            "_view_module": "@jupyter-widgets/controls",
            "_view_module_version": "1.5.0",
            "_view_name": "ProgressView",
            "bar_style": "success",
            "description": "",
            "description_tooltip": null,
            "layout": "IPY_MODEL_5c8811e704b3471f93f428fd3d8d2da1",
            "max": 1,
            "min": 0,
            "orientation": "horizontal",
            "style": "IPY_MODEL_101ad5c786674b84b5ca7a26cb3e78fc",
            "value": 0
          }
        },
        "c07c8fd776504ce3895419c95c3b3c4b": {
          "model_module": "@jupyter-widgets/controls",
          "model_name": "HTMLModel",
          "model_module_version": "1.5.0",
          "state": {
            "_dom_classes": [],
            "_model_module": "@jupyter-widgets/controls",
            "_model_module_version": "1.5.0",
            "_model_name": "HTMLModel",
            "_view_count": null,
            "_view_module": "@jupyter-widgets/controls",
            "_view_module_version": "1.5.0",
            "_view_name": "HTMLView",
            "description": "",
            "description_tooltip": null,
            "layout": "IPY_MODEL_1475de9df0d845b28229c6a4918f4728",
            "placeholder": "​",
            "style": "IPY_MODEL_4e79da89be334e03918625d585c3d9d5",
            "value": " 0/0 [00:00&lt;?, ? MiB/s]"
          }
        },
        "86b2378dea5344e1ae297cf437a92e29": {
          "model_module": "@jupyter-widgets/base",
          "model_name": "LayoutModel",
          "model_module_version": "1.2.0",
          "state": {
            "_model_module": "@jupyter-widgets/base",
            "_model_module_version": "1.2.0",
            "_model_name": "LayoutModel",
            "_view_count": null,
            "_view_module": "@jupyter-widgets/base",
            "_view_module_version": "1.2.0",
            "_view_name": "LayoutView",
            "align_content": null,
            "align_items": null,
            "align_self": null,
            "border": null,
            "bottom": null,
            "display": null,
            "flex": null,
            "flex_flow": null,
            "grid_area": null,
            "grid_auto_columns": null,
            "grid_auto_flow": null,
            "grid_auto_rows": null,
            "grid_column": null,
            "grid_gap": null,
            "grid_row": null,
            "grid_template_areas": null,
            "grid_template_columns": null,
            "grid_template_rows": null,
            "height": null,
            "justify_content": null,
            "justify_items": null,
            "left": null,
            "margin": null,
            "max_height": null,
            "max_width": null,
            "min_height": null,
            "min_width": null,
            "object_fit": null,
            "object_position": null,
            "order": null,
            "overflow": null,
            "overflow_x": null,
            "overflow_y": null,
            "padding": null,
            "right": null,
            "top": null,
            "visibility": null,
            "width": null
          }
        },
        "db1c88ccf3db4c0c838ad76c6c4ef16f": {
          "model_module": "@jupyter-widgets/base",
          "model_name": "LayoutModel",
          "model_module_version": "1.2.0",
          "state": {
            "_model_module": "@jupyter-widgets/base",
            "_model_module_version": "1.2.0",
            "_model_name": "LayoutModel",
            "_view_count": null,
            "_view_module": "@jupyter-widgets/base",
            "_view_module_version": "1.2.0",
            "_view_name": "LayoutView",
            "align_content": null,
            "align_items": null,
            "align_self": null,
            "border": null,
            "bottom": null,
            "display": null,
            "flex": null,
            "flex_flow": null,
            "grid_area": null,
            "grid_auto_columns": null,
            "grid_auto_flow": null,
            "grid_auto_rows": null,
            "grid_column": null,
            "grid_gap": null,
            "grid_row": null,
            "grid_template_areas": null,
            "grid_template_columns": null,
            "grid_template_rows": null,
            "height": null,
            "justify_content": null,
            "justify_items": null,
            "left": null,
            "margin": null,
            "max_height": null,
            "max_width": null,
            "min_height": null,
            "min_width": null,
            "object_fit": null,
            "object_position": null,
            "order": null,
            "overflow": null,
            "overflow_x": null,
            "overflow_y": null,
            "padding": null,
            "right": null,
            "top": null,
            "visibility": null,
            "width": null
          }
        },
        "0bd1e27ce47f48ca997438cc9e163f71": {
          "model_module": "@jupyter-widgets/controls",
          "model_name": "DescriptionStyleModel",
          "model_module_version": "1.5.0",
          "state": {
            "_model_module": "@jupyter-widgets/controls",
            "_model_module_version": "1.5.0",
            "_model_name": "DescriptionStyleModel",
            "_view_count": null,
            "_view_module": "@jupyter-widgets/base",
            "_view_module_version": "1.2.0",
            "_view_name": "StyleView",
            "description_width": ""
          }
        },
        "5c8811e704b3471f93f428fd3d8d2da1": {
          "model_module": "@jupyter-widgets/base",
          "model_name": "LayoutModel",
          "model_module_version": "1.2.0",
          "state": {
            "_model_module": "@jupyter-widgets/base",
            "_model_module_version": "1.2.0",
            "_model_name": "LayoutModel",
            "_view_count": null,
            "_view_module": "@jupyter-widgets/base",
            "_view_module_version": "1.2.0",
            "_view_name": "LayoutView",
            "align_content": null,
            "align_items": null,
            "align_self": null,
            "border": null,
            "bottom": null,
            "display": null,
            "flex": null,
            "flex_flow": null,
            "grid_area": null,
            "grid_auto_columns": null,
            "grid_auto_flow": null,
            "grid_auto_rows": null,
            "grid_column": null,
            "grid_gap": null,
            "grid_row": null,
            "grid_template_areas": null,
            "grid_template_columns": null,
            "grid_template_rows": null,
            "height": null,
            "justify_content": null,
            "justify_items": null,
            "left": null,
            "margin": null,
            "max_height": null,
            "max_width": null,
            "min_height": null,
            "min_width": null,
            "object_fit": null,
            "object_position": null,
            "order": null,
            "overflow": null,
            "overflow_x": null,
            "overflow_y": null,
            "padding": null,
            "right": null,
            "top": null,
            "visibility": null,
            "width": "20px"
          }
        },
        "101ad5c786674b84b5ca7a26cb3e78fc": {
          "model_module": "@jupyter-widgets/controls",
          "model_name": "ProgressStyleModel",
          "model_module_version": "1.5.0",
          "state": {
            "_model_module": "@jupyter-widgets/controls",
            "_model_module_version": "1.5.0",
            "_model_name": "ProgressStyleModel",
            "_view_count": null,
            "_view_module": "@jupyter-widgets/base",
            "_view_module_version": "1.2.0",
            "_view_name": "StyleView",
            "bar_color": null,
            "description_width": ""
          }
        },
        "1475de9df0d845b28229c6a4918f4728": {
          "model_module": "@jupyter-widgets/base",
          "model_name": "LayoutModel",
          "model_module_version": "1.2.0",
          "state": {
            "_model_module": "@jupyter-widgets/base",
            "_model_module_version": "1.2.0",
            "_model_name": "LayoutModel",
            "_view_count": null,
            "_view_module": "@jupyter-widgets/base",
            "_view_module_version": "1.2.0",
            "_view_name": "LayoutView",
            "align_content": null,
            "align_items": null,
            "align_self": null,
            "border": null,
            "bottom": null,
            "display": null,
            "flex": null,
            "flex_flow": null,
            "grid_area": null,
            "grid_auto_columns": null,
            "grid_auto_flow": null,
            "grid_auto_rows": null,
            "grid_column": null,
            "grid_gap": null,
            "grid_row": null,
            "grid_template_areas": null,
            "grid_template_columns": null,
            "grid_template_rows": null,
            "height": null,
            "justify_content": null,
            "justify_items": null,
            "left": null,
            "margin": null,
            "max_height": null,
            "max_width": null,
            "min_height": null,
            "min_width": null,
            "object_fit": null,
            "object_position": null,
            "order": null,
            "overflow": null,
            "overflow_x": null,
            "overflow_y": null,
            "padding": null,
            "right": null,
            "top": null,
            "visibility": null,
            "width": null
          }
        },
        "4e79da89be334e03918625d585c3d9d5": {
          "model_module": "@jupyter-widgets/controls",
          "model_name": "DescriptionStyleModel",
          "model_module_version": "1.5.0",
          "state": {
            "_model_module": "@jupyter-widgets/controls",
            "_model_module_version": "1.5.0",
            "_model_name": "DescriptionStyleModel",
            "_view_count": null,
            "_view_module": "@jupyter-widgets/base",
            "_view_module_version": "1.2.0",
            "_view_name": "StyleView",
            "description_width": ""
          }
        },
        "56ed26e9adf3460d95d54fb1dcd7fd09": {
          "model_module": "@jupyter-widgets/controls",
          "model_name": "HBoxModel",
          "model_module_version": "1.5.0",
          "state": {
            "_dom_classes": [],
            "_model_module": "@jupyter-widgets/controls",
            "_model_module_version": "1.5.0",
            "_model_name": "HBoxModel",
            "_view_count": null,
            "_view_module": "@jupyter-widgets/controls",
            "_view_module_version": "1.5.0",
            "_view_name": "HBoxView",
            "box_style": "",
            "children": [
              "IPY_MODEL_cd5f9317e3814560acd81630a92114d1",
              "IPY_MODEL_a9c6014bed104bac814f7a1e64f7c044",
              "IPY_MODEL_deff7ef032e64b7983a5ba6a676f673d"
            ],
            "layout": "IPY_MODEL_2a29e1309b1f4e26b6ee4b5b81055932"
          }
        },
        "cd5f9317e3814560acd81630a92114d1": {
          "model_module": "@jupyter-widgets/controls",
          "model_name": "HTMLModel",
          "model_module_version": "1.5.0",
          "state": {
            "_dom_classes": [],
            "_model_module": "@jupyter-widgets/controls",
            "_model_module_version": "1.5.0",
            "_model_name": "HTMLModel",
            "_view_count": null,
            "_view_module": "@jupyter-widgets/controls",
            "_view_module_version": "1.5.0",
            "_view_name": "HTMLView",
            "description": "",
            "description_tooltip": null,
            "layout": "IPY_MODEL_93985a987d43491e93779d29136d1091",
            "placeholder": "​",
            "style": "IPY_MODEL_dfc93d3007a3408eb4b28fdc54a57cd2",
            "value": "Generating splits...: 100%"
          }
        },
        "a9c6014bed104bac814f7a1e64f7c044": {
          "model_module": "@jupyter-widgets/controls",
          "model_name": "FloatProgressModel",
          "model_module_version": "1.5.0",
          "state": {
            "_dom_classes": [],
            "_model_module": "@jupyter-widgets/controls",
            "_model_module_version": "1.5.0",
            "_model_name": "FloatProgressModel",
            "_view_count": null,
            "_view_module": "@jupyter-widgets/controls",
            "_view_module_version": "1.5.0",
            "_view_name": "ProgressView",
            "bar_style": "",
            "description": "",
            "description_tooltip": null,
            "layout": "IPY_MODEL_76ad844b5486469d83af28e99b3c9656",
            "max": 1,
            "min": 0,
            "orientation": "horizontal",
            "style": "IPY_MODEL_4ce2df7821214ebeb51c01fb4fc89db5",
            "value": 1
          }
        },
        "deff7ef032e64b7983a5ba6a676f673d": {
          "model_module": "@jupyter-widgets/controls",
          "model_name": "HTMLModel",
          "model_module_version": "1.5.0",
          "state": {
            "_dom_classes": [],
            "_model_module": "@jupyter-widgets/controls",
            "_model_module_version": "1.5.0",
            "_model_name": "HTMLModel",
            "_view_count": null,
            "_view_module": "@jupyter-widgets/controls",
            "_view_module_version": "1.5.0",
            "_view_name": "HTMLView",
            "description": "",
            "description_tooltip": null,
            "layout": "IPY_MODEL_4133f0d492594267a7bb8c95a7caa267",
            "placeholder": "​",
            "style": "IPY_MODEL_a8001c0dca394780a02a24d1a1942d90",
            "value": " 1/1 [00:00&lt;00:00,  3.90 splits/s]"
          }
        },
        "2a29e1309b1f4e26b6ee4b5b81055932": {
          "model_module": "@jupyter-widgets/base",
          "model_name": "LayoutModel",
          "model_module_version": "1.2.0",
          "state": {
            "_model_module": "@jupyter-widgets/base",
            "_model_module_version": "1.2.0",
            "_model_name": "LayoutModel",
            "_view_count": null,
            "_view_module": "@jupyter-widgets/base",
            "_view_module_version": "1.2.0",
            "_view_name": "LayoutView",
            "align_content": null,
            "align_items": null,
            "align_self": null,
            "border": null,
            "bottom": null,
            "display": null,
            "flex": null,
            "flex_flow": null,
            "grid_area": null,
            "grid_auto_columns": null,
            "grid_auto_flow": null,
            "grid_auto_rows": null,
            "grid_column": null,
            "grid_gap": null,
            "grid_row": null,
            "grid_template_areas": null,
            "grid_template_columns": null,
            "grid_template_rows": null,
            "height": null,
            "justify_content": null,
            "justify_items": null,
            "left": null,
            "margin": null,
            "max_height": null,
            "max_width": null,
            "min_height": null,
            "min_width": null,
            "object_fit": null,
            "object_position": null,
            "order": null,
            "overflow": null,
            "overflow_x": null,
            "overflow_y": null,
            "padding": null,
            "right": null,
            "top": null,
            "visibility": "hidden",
            "width": null
          }
        },
        "93985a987d43491e93779d29136d1091": {
          "model_module": "@jupyter-widgets/base",
          "model_name": "LayoutModel",
          "model_module_version": "1.2.0",
          "state": {
            "_model_module": "@jupyter-widgets/base",
            "_model_module_version": "1.2.0",
            "_model_name": "LayoutModel",
            "_view_count": null,
            "_view_module": "@jupyter-widgets/base",
            "_view_module_version": "1.2.0",
            "_view_name": "LayoutView",
            "align_content": null,
            "align_items": null,
            "align_self": null,
            "border": null,
            "bottom": null,
            "display": null,
            "flex": null,
            "flex_flow": null,
            "grid_area": null,
            "grid_auto_columns": null,
            "grid_auto_flow": null,
            "grid_auto_rows": null,
            "grid_column": null,
            "grid_gap": null,
            "grid_row": null,
            "grid_template_areas": null,
            "grid_template_columns": null,
            "grid_template_rows": null,
            "height": null,
            "justify_content": null,
            "justify_items": null,
            "left": null,
            "margin": null,
            "max_height": null,
            "max_width": null,
            "min_height": null,
            "min_width": null,
            "object_fit": null,
            "object_position": null,
            "order": null,
            "overflow": null,
            "overflow_x": null,
            "overflow_y": null,
            "padding": null,
            "right": null,
            "top": null,
            "visibility": null,
            "width": null
          }
        },
        "dfc93d3007a3408eb4b28fdc54a57cd2": {
          "model_module": "@jupyter-widgets/controls",
          "model_name": "DescriptionStyleModel",
          "model_module_version": "1.5.0",
          "state": {
            "_model_module": "@jupyter-widgets/controls",
            "_model_module_version": "1.5.0",
            "_model_name": "DescriptionStyleModel",
            "_view_count": null,
            "_view_module": "@jupyter-widgets/base",
            "_view_module_version": "1.2.0",
            "_view_name": "StyleView",
            "description_width": ""
          }
        },
        "76ad844b5486469d83af28e99b3c9656": {
          "model_module": "@jupyter-widgets/base",
          "model_name": "LayoutModel",
          "model_module_version": "1.2.0",
          "state": {
            "_model_module": "@jupyter-widgets/base",
            "_model_module_version": "1.2.0",
            "_model_name": "LayoutModel",
            "_view_count": null,
            "_view_module": "@jupyter-widgets/base",
            "_view_module_version": "1.2.0",
            "_view_name": "LayoutView",
            "align_content": null,
            "align_items": null,
            "align_self": null,
            "border": null,
            "bottom": null,
            "display": null,
            "flex": null,
            "flex_flow": null,
            "grid_area": null,
            "grid_auto_columns": null,
            "grid_auto_flow": null,
            "grid_auto_rows": null,
            "grid_column": null,
            "grid_gap": null,
            "grid_row": null,
            "grid_template_areas": null,
            "grid_template_columns": null,
            "grid_template_rows": null,
            "height": null,
            "justify_content": null,
            "justify_items": null,
            "left": null,
            "margin": null,
            "max_height": null,
            "max_width": null,
            "min_height": null,
            "min_width": null,
            "object_fit": null,
            "object_position": null,
            "order": null,
            "overflow": null,
            "overflow_x": null,
            "overflow_y": null,
            "padding": null,
            "right": null,
            "top": null,
            "visibility": null,
            "width": null
          }
        },
        "4ce2df7821214ebeb51c01fb4fc89db5": {
          "model_module": "@jupyter-widgets/controls",
          "model_name": "ProgressStyleModel",
          "model_module_version": "1.5.0",
          "state": {
            "_model_module": "@jupyter-widgets/controls",
            "_model_module_version": "1.5.0",
            "_model_name": "ProgressStyleModel",
            "_view_count": null,
            "_view_module": "@jupyter-widgets/base",
            "_view_module_version": "1.2.0",
            "_view_name": "StyleView",
            "bar_color": null,
            "description_width": ""
          }
        },
        "4133f0d492594267a7bb8c95a7caa267": {
          "model_module": "@jupyter-widgets/base",
          "model_name": "LayoutModel",
          "model_module_version": "1.2.0",
          "state": {
            "_model_module": "@jupyter-widgets/base",
            "_model_module_version": "1.2.0",
            "_model_name": "LayoutModel",
            "_view_count": null,
            "_view_module": "@jupyter-widgets/base",
            "_view_module_version": "1.2.0",
            "_view_name": "LayoutView",
            "align_content": null,
            "align_items": null,
            "align_self": null,
            "border": null,
            "bottom": null,
            "display": null,
            "flex": null,
            "flex_flow": null,
            "grid_area": null,
            "grid_auto_columns": null,
            "grid_auto_flow": null,
            "grid_auto_rows": null,
            "grid_column": null,
            "grid_gap": null,
            "grid_row": null,
            "grid_template_areas": null,
            "grid_template_columns": null,
            "grid_template_rows": null,
            "height": null,
            "justify_content": null,
            "justify_items": null,
            "left": null,
            "margin": null,
            "max_height": null,
            "max_width": null,
            "min_height": null,
            "min_width": null,
            "object_fit": null,
            "object_position": null,
            "order": null,
            "overflow": null,
            "overflow_x": null,
            "overflow_y": null,
            "padding": null,
            "right": null,
            "top": null,
            "visibility": null,
            "width": null
          }
        },
        "a8001c0dca394780a02a24d1a1942d90": {
          "model_module": "@jupyter-widgets/controls",
          "model_name": "DescriptionStyleModel",
          "model_module_version": "1.5.0",
          "state": {
            "_model_module": "@jupyter-widgets/controls",
            "_model_module_version": "1.5.0",
            "_model_name": "DescriptionStyleModel",
            "_view_count": null,
            "_view_module": "@jupyter-widgets/base",
            "_view_module_version": "1.2.0",
            "_view_name": "StyleView",
            "description_width": ""
          }
        },
        "38ff4c643baa4372b32980485d940028": {
          "model_module": "@jupyter-widgets/controls",
          "model_name": "HBoxModel",
          "model_module_version": "1.5.0",
          "state": {
            "_dom_classes": [],
            "_model_module": "@jupyter-widgets/controls",
            "_model_module_version": "1.5.0",
            "_model_name": "HBoxModel",
            "_view_count": null,
            "_view_module": "@jupyter-widgets/controls",
            "_view_module_version": "1.5.0",
            "_view_name": "HBoxView",
            "box_style": "",
            "children": [
              "IPY_MODEL_a9669290e8df4381a5f6391733fa12d5",
              "IPY_MODEL_49adcd6e16ed45c697a2a1874e89cc74",
              "IPY_MODEL_1b487f358d044bfabef307532adaa8f3"
            ],
            "layout": "IPY_MODEL_fe30eef372fe496386dfdefa0f2aeafc"
          }
        },
        "a9669290e8df4381a5f6391733fa12d5": {
          "model_module": "@jupyter-widgets/controls",
          "model_name": "HTMLModel",
          "model_module_version": "1.5.0",
          "state": {
            "_dom_classes": [],
            "_model_module": "@jupyter-widgets/controls",
            "_model_module_version": "1.5.0",
            "_model_name": "HTMLModel",
            "_view_count": null,
            "_view_module": "@jupyter-widgets/controls",
            "_view_module_version": "1.5.0",
            "_view_name": "HTMLView",
            "description": "",
            "description_tooltip": null,
            "layout": "IPY_MODEL_53b3f385a8ea473ea7189ee5fae360f9",
            "placeholder": "​",
            "style": "IPY_MODEL_6d5e0ba8b5244ea7b390ae75ba9d51a7",
            "value": "Generating train examples...:  66%"
          }
        },
        "49adcd6e16ed45c697a2a1874e89cc74": {
          "model_module": "@jupyter-widgets/controls",
          "model_name": "FloatProgressModel",
          "model_module_version": "1.5.0",
          "state": {
            "_dom_classes": [],
            "_model_module": "@jupyter-widgets/controls",
            "_model_module_version": "1.5.0",
            "_model_name": "FloatProgressModel",
            "_view_count": null,
            "_view_module": "@jupyter-widgets/controls",
            "_view_module_version": "1.5.0",
            "_view_name": "ProgressView",
            "bar_style": "",
            "description": "",
            "description_tooltip": null,
            "layout": "IPY_MODEL_1dfc9900d42e41f58804c486b3837ed8",
            "max": 334,
            "min": 0,
            "orientation": "horizontal",
            "style": "IPY_MODEL_2bca5b538c3447009d1581e7dbab75ab",
            "value": 334
          }
        },
        "1b487f358d044bfabef307532adaa8f3": {
          "model_module": "@jupyter-widgets/controls",
          "model_name": "HTMLModel",
          "model_module_version": "1.5.0",
          "state": {
            "_dom_classes": [],
            "_model_module": "@jupyter-widgets/controls",
            "_model_module_version": "1.5.0",
            "_model_name": "HTMLModel",
            "_view_count": null,
            "_view_module": "@jupyter-widgets/controls",
            "_view_module_version": "1.5.0",
            "_view_name": "HTMLView",
            "description": "",
            "description_tooltip": null,
            "layout": "IPY_MODEL_8bb9c23145754917af80c63d277b3684",
            "placeholder": "​",
            "style": "IPY_MODEL_ed1768de73a14aadbb11229d2609be3c",
            "value": " 219/334 [00:00&lt;00:00, 2186.39 examples/s]"
          }
        },
        "fe30eef372fe496386dfdefa0f2aeafc": {
          "model_module": "@jupyter-widgets/base",
          "model_name": "LayoutModel",
          "model_module_version": "1.2.0",
          "state": {
            "_model_module": "@jupyter-widgets/base",
            "_model_module_version": "1.2.0",
            "_model_name": "LayoutModel",
            "_view_count": null,
            "_view_module": "@jupyter-widgets/base",
            "_view_module_version": "1.2.0",
            "_view_name": "LayoutView",
            "align_content": null,
            "align_items": null,
            "align_self": null,
            "border": null,
            "bottom": null,
            "display": null,
            "flex": null,
            "flex_flow": null,
            "grid_area": null,
            "grid_auto_columns": null,
            "grid_auto_flow": null,
            "grid_auto_rows": null,
            "grid_column": null,
            "grid_gap": null,
            "grid_row": null,
            "grid_template_areas": null,
            "grid_template_columns": null,
            "grid_template_rows": null,
            "height": null,
            "justify_content": null,
            "justify_items": null,
            "left": null,
            "margin": null,
            "max_height": null,
            "max_width": null,
            "min_height": null,
            "min_width": null,
            "object_fit": null,
            "object_position": null,
            "order": null,
            "overflow": null,
            "overflow_x": null,
            "overflow_y": null,
            "padding": null,
            "right": null,
            "top": null,
            "visibility": "hidden",
            "width": null
          }
        },
        "53b3f385a8ea473ea7189ee5fae360f9": {
          "model_module": "@jupyter-widgets/base",
          "model_name": "LayoutModel",
          "model_module_version": "1.2.0",
          "state": {
            "_model_module": "@jupyter-widgets/base",
            "_model_module_version": "1.2.0",
            "_model_name": "LayoutModel",
            "_view_count": null,
            "_view_module": "@jupyter-widgets/base",
            "_view_module_version": "1.2.0",
            "_view_name": "LayoutView",
            "align_content": null,
            "align_items": null,
            "align_self": null,
            "border": null,
            "bottom": null,
            "display": null,
            "flex": null,
            "flex_flow": null,
            "grid_area": null,
            "grid_auto_columns": null,
            "grid_auto_flow": null,
            "grid_auto_rows": null,
            "grid_column": null,
            "grid_gap": null,
            "grid_row": null,
            "grid_template_areas": null,
            "grid_template_columns": null,
            "grid_template_rows": null,
            "height": null,
            "justify_content": null,
            "justify_items": null,
            "left": null,
            "margin": null,
            "max_height": null,
            "max_width": null,
            "min_height": null,
            "min_width": null,
            "object_fit": null,
            "object_position": null,
            "order": null,
            "overflow": null,
            "overflow_x": null,
            "overflow_y": null,
            "padding": null,
            "right": null,
            "top": null,
            "visibility": null,
            "width": null
          }
        },
        "6d5e0ba8b5244ea7b390ae75ba9d51a7": {
          "model_module": "@jupyter-widgets/controls",
          "model_name": "DescriptionStyleModel",
          "model_module_version": "1.5.0",
          "state": {
            "_model_module": "@jupyter-widgets/controls",
            "_model_module_version": "1.5.0",
            "_model_name": "DescriptionStyleModel",
            "_view_count": null,
            "_view_module": "@jupyter-widgets/base",
            "_view_module_version": "1.2.0",
            "_view_name": "StyleView",
            "description_width": ""
          }
        },
        "1dfc9900d42e41f58804c486b3837ed8": {
          "model_module": "@jupyter-widgets/base",
          "model_name": "LayoutModel",
          "model_module_version": "1.2.0",
          "state": {
            "_model_module": "@jupyter-widgets/base",
            "_model_module_version": "1.2.0",
            "_model_name": "LayoutModel",
            "_view_count": null,
            "_view_module": "@jupyter-widgets/base",
            "_view_module_version": "1.2.0",
            "_view_name": "LayoutView",
            "align_content": null,
            "align_items": null,
            "align_self": null,
            "border": null,
            "bottom": null,
            "display": null,
            "flex": null,
            "flex_flow": null,
            "grid_area": null,
            "grid_auto_columns": null,
            "grid_auto_flow": null,
            "grid_auto_rows": null,
            "grid_column": null,
            "grid_gap": null,
            "grid_row": null,
            "grid_template_areas": null,
            "grid_template_columns": null,
            "grid_template_rows": null,
            "height": null,
            "justify_content": null,
            "justify_items": null,
            "left": null,
            "margin": null,
            "max_height": null,
            "max_width": null,
            "min_height": null,
            "min_width": null,
            "object_fit": null,
            "object_position": null,
            "order": null,
            "overflow": null,
            "overflow_x": null,
            "overflow_y": null,
            "padding": null,
            "right": null,
            "top": null,
            "visibility": null,
            "width": null
          }
        },
        "2bca5b538c3447009d1581e7dbab75ab": {
          "model_module": "@jupyter-widgets/controls",
          "model_name": "ProgressStyleModel",
          "model_module_version": "1.5.0",
          "state": {
            "_model_module": "@jupyter-widgets/controls",
            "_model_module_version": "1.5.0",
            "_model_name": "ProgressStyleModel",
            "_view_count": null,
            "_view_module": "@jupyter-widgets/base",
            "_view_module_version": "1.2.0",
            "_view_name": "StyleView",
            "bar_color": null,
            "description_width": ""
          }
        },
        "8bb9c23145754917af80c63d277b3684": {
          "model_module": "@jupyter-widgets/base",
          "model_name": "LayoutModel",
          "model_module_version": "1.2.0",
          "state": {
            "_model_module": "@jupyter-widgets/base",
            "_model_module_version": "1.2.0",
            "_model_name": "LayoutModel",
            "_view_count": null,
            "_view_module": "@jupyter-widgets/base",
            "_view_module_version": "1.2.0",
            "_view_name": "LayoutView",
            "align_content": null,
            "align_items": null,
            "align_self": null,
            "border": null,
            "bottom": null,
            "display": null,
            "flex": null,
            "flex_flow": null,
            "grid_area": null,
            "grid_auto_columns": null,
            "grid_auto_flow": null,
            "grid_auto_rows": null,
            "grid_column": null,
            "grid_gap": null,
            "grid_row": null,
            "grid_template_areas": null,
            "grid_template_columns": null,
            "grid_template_rows": null,
            "height": null,
            "justify_content": null,
            "justify_items": null,
            "left": null,
            "margin": null,
            "max_height": null,
            "max_width": null,
            "min_height": null,
            "min_width": null,
            "object_fit": null,
            "object_position": null,
            "order": null,
            "overflow": null,
            "overflow_x": null,
            "overflow_y": null,
            "padding": null,
            "right": null,
            "top": null,
            "visibility": null,
            "width": null
          }
        },
        "ed1768de73a14aadbb11229d2609be3c": {
          "model_module": "@jupyter-widgets/controls",
          "model_name": "DescriptionStyleModel",
          "model_module_version": "1.5.0",
          "state": {
            "_model_module": "@jupyter-widgets/controls",
            "_model_module_version": "1.5.0",
            "_model_name": "DescriptionStyleModel",
            "_view_count": null,
            "_view_module": "@jupyter-widgets/base",
            "_view_module_version": "1.2.0",
            "_view_name": "StyleView",
            "description_width": ""
          }
        },
        "83f4a0dbf306428b9f79a157e94971e9": {
          "model_module": "@jupyter-widgets/controls",
          "model_name": "HBoxModel",
          "model_module_version": "1.5.0",
          "state": {
            "_dom_classes": [],
            "_model_module": "@jupyter-widgets/controls",
            "_model_module_version": "1.5.0",
            "_model_name": "HBoxModel",
            "_view_count": null,
            "_view_module": "@jupyter-widgets/controls",
            "_view_module_version": "1.5.0",
            "_view_name": "HBoxView",
            "box_style": "",
            "children": [
              "IPY_MODEL_6f666a60bf9f4eb385fbbdfba03867b7",
              "IPY_MODEL_3a022afb12bb40b3b0f9594472653794",
              "IPY_MODEL_377c2ad671be49cab6f057511aa13ce6"
            ],
            "layout": "IPY_MODEL_45c4113bef8347088deda6f775c28c3d"
          }
        },
        "6f666a60bf9f4eb385fbbdfba03867b7": {
          "model_module": "@jupyter-widgets/controls",
          "model_name": "HTMLModel",
          "model_module_version": "1.5.0",
          "state": {
            "_dom_classes": [],
            "_model_module": "@jupyter-widgets/controls",
            "_model_module_version": "1.5.0",
            "_model_name": "HTMLModel",
            "_view_count": null,
            "_view_module": "@jupyter-widgets/controls",
            "_view_module_version": "1.5.0",
            "_view_name": "HTMLView",
            "description": "",
            "description_tooltip": null,
            "layout": "IPY_MODEL_ce5f3f2c32514c04abfb8a7f1a78f616",
            "placeholder": "​",
            "style": "IPY_MODEL_8ce36eb71ba84bfa98a084cd0f273b45",
            "value": "Shuffling /root/tensorflow_datasets/penguins/processed/1.0.0.incomplete2T9X6O/penguins-train.tfrecord*...:   0%"
          }
        },
        "3a022afb12bb40b3b0f9594472653794": {
          "model_module": "@jupyter-widgets/controls",
          "model_name": "FloatProgressModel",
          "model_module_version": "1.5.0",
          "state": {
            "_dom_classes": [],
            "_model_module": "@jupyter-widgets/controls",
            "_model_module_version": "1.5.0",
            "_model_name": "FloatProgressModel",
            "_view_count": null,
            "_view_module": "@jupyter-widgets/controls",
            "_view_module_version": "1.5.0",
            "_view_name": "ProgressView",
            "bar_style": "",
            "description": "",
            "description_tooltip": null,
            "layout": "IPY_MODEL_7703ccc1d9254036a61b00b60c4d8866",
            "max": 334,
            "min": 0,
            "orientation": "horizontal",
            "style": "IPY_MODEL_6849d6eb3ae14668ae30a448fc94189c",
            "value": 334
          }
        },
        "377c2ad671be49cab6f057511aa13ce6": {
          "model_module": "@jupyter-widgets/controls",
          "model_name": "HTMLModel",
          "model_module_version": "1.5.0",
          "state": {
            "_dom_classes": [],
            "_model_module": "@jupyter-widgets/controls",
            "_model_module_version": "1.5.0",
            "_model_name": "HTMLModel",
            "_view_count": null,
            "_view_module": "@jupyter-widgets/controls",
            "_view_module_version": "1.5.0",
            "_view_name": "HTMLView",
            "description": "",
            "description_tooltip": null,
            "layout": "IPY_MODEL_57c41662f8414b5cbd29d070217e5eba",
            "placeholder": "​",
            "style": "IPY_MODEL_f6761b0dbac04e7eb66daef823e370c9",
            "value": " 0/334 [00:00&lt;?, ? examples/s]"
          }
        },
        "45c4113bef8347088deda6f775c28c3d": {
          "model_module": "@jupyter-widgets/base",
          "model_name": "LayoutModel",
          "model_module_version": "1.2.0",
          "state": {
            "_model_module": "@jupyter-widgets/base",
            "_model_module_version": "1.2.0",
            "_model_name": "LayoutModel",
            "_view_count": null,
            "_view_module": "@jupyter-widgets/base",
            "_view_module_version": "1.2.0",
            "_view_name": "LayoutView",
            "align_content": null,
            "align_items": null,
            "align_self": null,
            "border": null,
            "bottom": null,
            "display": null,
            "flex": null,
            "flex_flow": null,
            "grid_area": null,
            "grid_auto_columns": null,
            "grid_auto_flow": null,
            "grid_auto_rows": null,
            "grid_column": null,
            "grid_gap": null,
            "grid_row": null,
            "grid_template_areas": null,
            "grid_template_columns": null,
            "grid_template_rows": null,
            "height": null,
            "justify_content": null,
            "justify_items": null,
            "left": null,
            "margin": null,
            "max_height": null,
            "max_width": null,
            "min_height": null,
            "min_width": null,
            "object_fit": null,
            "object_position": null,
            "order": null,
            "overflow": null,
            "overflow_x": null,
            "overflow_y": null,
            "padding": null,
            "right": null,
            "top": null,
            "visibility": "hidden",
            "width": null
          }
        },
        "ce5f3f2c32514c04abfb8a7f1a78f616": {
          "model_module": "@jupyter-widgets/base",
          "model_name": "LayoutModel",
          "model_module_version": "1.2.0",
          "state": {
            "_model_module": "@jupyter-widgets/base",
            "_model_module_version": "1.2.0",
            "_model_name": "LayoutModel",
            "_view_count": null,
            "_view_module": "@jupyter-widgets/base",
            "_view_module_version": "1.2.0",
            "_view_name": "LayoutView",
            "align_content": null,
            "align_items": null,
            "align_self": null,
            "border": null,
            "bottom": null,
            "display": null,
            "flex": null,
            "flex_flow": null,
            "grid_area": null,
            "grid_auto_columns": null,
            "grid_auto_flow": null,
            "grid_auto_rows": null,
            "grid_column": null,
            "grid_gap": null,
            "grid_row": null,
            "grid_template_areas": null,
            "grid_template_columns": null,
            "grid_template_rows": null,
            "height": null,
            "justify_content": null,
            "justify_items": null,
            "left": null,
            "margin": null,
            "max_height": null,
            "max_width": null,
            "min_height": null,
            "min_width": null,
            "object_fit": null,
            "object_position": null,
            "order": null,
            "overflow": null,
            "overflow_x": null,
            "overflow_y": null,
            "padding": null,
            "right": null,
            "top": null,
            "visibility": null,
            "width": null
          }
        },
        "8ce36eb71ba84bfa98a084cd0f273b45": {
          "model_module": "@jupyter-widgets/controls",
          "model_name": "DescriptionStyleModel",
          "model_module_version": "1.5.0",
          "state": {
            "_model_module": "@jupyter-widgets/controls",
            "_model_module_version": "1.5.0",
            "_model_name": "DescriptionStyleModel",
            "_view_count": null,
            "_view_module": "@jupyter-widgets/base",
            "_view_module_version": "1.2.0",
            "_view_name": "StyleView",
            "description_width": ""
          }
        },
        "7703ccc1d9254036a61b00b60c4d8866": {
          "model_module": "@jupyter-widgets/base",
          "model_name": "LayoutModel",
          "model_module_version": "1.2.0",
          "state": {
            "_model_module": "@jupyter-widgets/base",
            "_model_module_version": "1.2.0",
            "_model_name": "LayoutModel",
            "_view_count": null,
            "_view_module": "@jupyter-widgets/base",
            "_view_module_version": "1.2.0",
            "_view_name": "LayoutView",
            "align_content": null,
            "align_items": null,
            "align_self": null,
            "border": null,
            "bottom": null,
            "display": null,
            "flex": null,
            "flex_flow": null,
            "grid_area": null,
            "grid_auto_columns": null,
            "grid_auto_flow": null,
            "grid_auto_rows": null,
            "grid_column": null,
            "grid_gap": null,
            "grid_row": null,
            "grid_template_areas": null,
            "grid_template_columns": null,
            "grid_template_rows": null,
            "height": null,
            "justify_content": null,
            "justify_items": null,
            "left": null,
            "margin": null,
            "max_height": null,
            "max_width": null,
            "min_height": null,
            "min_width": null,
            "object_fit": null,
            "object_position": null,
            "order": null,
            "overflow": null,
            "overflow_x": null,
            "overflow_y": null,
            "padding": null,
            "right": null,
            "top": null,
            "visibility": null,
            "width": null
          }
        },
        "6849d6eb3ae14668ae30a448fc94189c": {
          "model_module": "@jupyter-widgets/controls",
          "model_name": "ProgressStyleModel",
          "model_module_version": "1.5.0",
          "state": {
            "_model_module": "@jupyter-widgets/controls",
            "_model_module_version": "1.5.0",
            "_model_name": "ProgressStyleModel",
            "_view_count": null,
            "_view_module": "@jupyter-widgets/base",
            "_view_module_version": "1.2.0",
            "_view_name": "StyleView",
            "bar_color": null,
            "description_width": ""
          }
        },
        "57c41662f8414b5cbd29d070217e5eba": {
          "model_module": "@jupyter-widgets/base",
          "model_name": "LayoutModel",
          "model_module_version": "1.2.0",
          "state": {
            "_model_module": "@jupyter-widgets/base",
            "_model_module_version": "1.2.0",
            "_model_name": "LayoutModel",
            "_view_count": null,
            "_view_module": "@jupyter-widgets/base",
            "_view_module_version": "1.2.0",
            "_view_name": "LayoutView",
            "align_content": null,
            "align_items": null,
            "align_self": null,
            "border": null,
            "bottom": null,
            "display": null,
            "flex": null,
            "flex_flow": null,
            "grid_area": null,
            "grid_auto_columns": null,
            "grid_auto_flow": null,
            "grid_auto_rows": null,
            "grid_column": null,
            "grid_gap": null,
            "grid_row": null,
            "grid_template_areas": null,
            "grid_template_columns": null,
            "grid_template_rows": null,
            "height": null,
            "justify_content": null,
            "justify_items": null,
            "left": null,
            "margin": null,
            "max_height": null,
            "max_width": null,
            "min_height": null,
            "min_width": null,
            "object_fit": null,
            "object_position": null,
            "order": null,
            "overflow": null,
            "overflow_x": null,
            "overflow_y": null,
            "padding": null,
            "right": null,
            "top": null,
            "visibility": null,
            "width": null
          }
        },
        "f6761b0dbac04e7eb66daef823e370c9": {
          "model_module": "@jupyter-widgets/controls",
          "model_name": "DescriptionStyleModel",
          "model_module_version": "1.5.0",
          "state": {
            "_model_module": "@jupyter-widgets/controls",
            "_model_module_version": "1.5.0",
            "_model_name": "DescriptionStyleModel",
            "_view_count": null,
            "_view_module": "@jupyter-widgets/base",
            "_view_module_version": "1.2.0",
            "_view_name": "StyleView",
            "description_width": ""
          }
        }
      }
    },
    "accelerator": "GPU",
    "gpuClass": "standard"
  },
  "cells": [
    {
      "cell_type": "markdown",
      "metadata": {
        "id": "view-in-github",
        "colab_type": "text"
      },
      "source": [
        "<a href=\"https://colab.research.google.com/github/davidraamirez/GradientWithoutBackpropagation/blob/main/NN_fwd_gradient.ipynb\" target=\"_parent\"><img src=\"https://colab.research.google.com/assets/colab-badge.svg\" alt=\"Open In Colab\"/></a>"
      ]
    },
    {
      "cell_type": "markdown",
      "source": [
        "# **Import the necessary packages**"
      ],
      "metadata": {
        "id": "A8byuR73hZou"
      }
    },
    {
      "cell_type": "code",
      "execution_count": 1,
      "metadata": {
        "id": "RGFMM6rzGN8X"
      },
      "outputs": [],
      "source": [
        "import torch\n",
        "import tensorflow_datasets as tfds\n",
        "from sklearn.model_selection import train_test_split"
      ]
    },
    {
      "cell_type": "code",
      "source": [
        "from torch import nn\n",
        "from torch.nn import functional as F"
      ],
      "metadata": {
        "id": "P6RM2Jl2houG"
      },
      "execution_count": 2,
      "outputs": []
    },
    {
      "cell_type": "code",
      "source": [
        "from functorch import jvp\n",
        "from functools import partial\n",
        "import time "
      ],
      "metadata": {
        "id": "bHL9j7p3htiz"
      },
      "execution_count": 3,
      "outputs": []
    },
    {
      "cell_type": "code",
      "source": [
        "import matplotlib.pyplot as plt"
      ],
      "metadata": {
        "id": "gUH3HvxGhxbg"
      },
      "execution_count": 4,
      "outputs": []
    },
    {
      "cell_type": "markdown",
      "source": [
        "# **Loading and preprocessing the data**"
      ],
      "metadata": {
        "id": "274jTIjiGeQW"
      }
    },
    {
      "cell_type": "code",
      "source": [
        "#Load the dataset\n",
        "penguins = tfds.load('penguins', as_supervised=True, split='train')"
      ],
      "metadata": {
        "colab": {
          "base_uri": "https://localhost:8080/",
          "height": 116,
          "referenced_widgets": [
            "0147478d01a64563ae24fb0ce60dbc0b",
            "3464d2e6857f4f519a1d9fb444fec7b0",
            "7b0ad52a65fe4bb2ad02a678f93f37ea",
            "7108f32fd94141f9979fa0d03bb0295e",
            "4898ec3be57149a5939c01be6cd27242",
            "d76fe81f2a844036a34d3683143df467",
            "ebfadb70ec174fa0a06214a920ce1d10",
            "b7b7c339cdb949e98a6c2700edbf0543",
            "1295fea24727477487ef57d9260f510d",
            "aa6022f84c4b4cfea7801ca90a4b2305",
            "c7082977e521470db060f91ee3c773a1",
            "916d2f23dcc54128aaa13f63713ce4cc",
            "96c371a474654014ba2d62e80827ea1f",
            "06c9f059fba4442aa8a18a6aae089be0",
            "c07c8fd776504ce3895419c95c3b3c4b",
            "86b2378dea5344e1ae297cf437a92e29",
            "db1c88ccf3db4c0c838ad76c6c4ef16f",
            "0bd1e27ce47f48ca997438cc9e163f71",
            "5c8811e704b3471f93f428fd3d8d2da1",
            "101ad5c786674b84b5ca7a26cb3e78fc",
            "1475de9df0d845b28229c6a4918f4728",
            "4e79da89be334e03918625d585c3d9d5",
            "56ed26e9adf3460d95d54fb1dcd7fd09",
            "cd5f9317e3814560acd81630a92114d1",
            "a9c6014bed104bac814f7a1e64f7c044",
            "deff7ef032e64b7983a5ba6a676f673d",
            "2a29e1309b1f4e26b6ee4b5b81055932",
            "93985a987d43491e93779d29136d1091",
            "dfc93d3007a3408eb4b28fdc54a57cd2",
            "76ad844b5486469d83af28e99b3c9656",
            "4ce2df7821214ebeb51c01fb4fc89db5",
            "4133f0d492594267a7bb8c95a7caa267",
            "a8001c0dca394780a02a24d1a1942d90",
            "38ff4c643baa4372b32980485d940028",
            "a9669290e8df4381a5f6391733fa12d5",
            "49adcd6e16ed45c697a2a1874e89cc74",
            "1b487f358d044bfabef307532adaa8f3",
            "fe30eef372fe496386dfdefa0f2aeafc",
            "53b3f385a8ea473ea7189ee5fae360f9",
            "6d5e0ba8b5244ea7b390ae75ba9d51a7",
            "1dfc9900d42e41f58804c486b3837ed8",
            "2bca5b538c3447009d1581e7dbab75ab",
            "8bb9c23145754917af80c63d277b3684",
            "ed1768de73a14aadbb11229d2609be3c",
            "83f4a0dbf306428b9f79a157e94971e9",
            "6f666a60bf9f4eb385fbbdfba03867b7",
            "3a022afb12bb40b3b0f9594472653794",
            "377c2ad671be49cab6f057511aa13ce6",
            "45c4113bef8347088deda6f775c28c3d",
            "ce5f3f2c32514c04abfb8a7f1a78f616",
            "8ce36eb71ba84bfa98a084cd0f273b45",
            "7703ccc1d9254036a61b00b60c4d8866",
            "6849d6eb3ae14668ae30a448fc94189c",
            "57c41662f8414b5cbd29d070217e5eba",
            "f6761b0dbac04e7eb66daef823e370c9"
          ]
        },
        "id": "4c8PoWqGGba7",
        "outputId": "ac5069bd-a77f-4b92-a605-2dd345a9cf1d"
      },
      "execution_count": 5,
      "outputs": [
        {
          "output_type": "stream",
          "name": "stdout",
          "text": [
            "Downloading and preparing dataset 25.05 KiB (download: 25.05 KiB, generated: 17.61 KiB, total: 42.66 KiB) to /root/tensorflow_datasets/penguins/processed/1.0.0...\n"
          ]
        },
        {
          "output_type": "display_data",
          "data": {
            "text/plain": [
              "Dl Completed...: 0 url [00:00, ? url/s]"
            ],
            "application/vnd.jupyter.widget-view+json": {
              "version_major": 2,
              "version_minor": 0,
              "model_id": "0147478d01a64563ae24fb0ce60dbc0b"
            }
          },
          "metadata": {}
        },
        {
          "output_type": "display_data",
          "data": {
            "text/plain": [
              "Dl Size...: 0 MiB [00:00, ? MiB/s]"
            ],
            "application/vnd.jupyter.widget-view+json": {
              "version_major": 2,
              "version_minor": 0,
              "model_id": "916d2f23dcc54128aaa13f63713ce4cc"
            }
          },
          "metadata": {}
        },
        {
          "output_type": "display_data",
          "data": {
            "text/plain": [
              "Generating splits...:   0%|          | 0/1 [00:00<?, ? splits/s]"
            ],
            "application/vnd.jupyter.widget-view+json": {
              "version_major": 2,
              "version_minor": 0,
              "model_id": "56ed26e9adf3460d95d54fb1dcd7fd09"
            }
          },
          "metadata": {}
        },
        {
          "output_type": "display_data",
          "data": {
            "text/plain": [
              "Generating train examples...:   0%|          | 0/334 [00:00<?, ? examples/s]"
            ],
            "application/vnd.jupyter.widget-view+json": {
              "version_major": 2,
              "version_minor": 0,
              "model_id": "38ff4c643baa4372b32980485d940028"
            }
          },
          "metadata": {}
        },
        {
          "output_type": "display_data",
          "data": {
            "text/plain": [
              "Shuffling /root/tensorflow_datasets/penguins/processed/1.0.0.incomplete2T9X6O/penguins-train.tfrecord*...:   0…"
            ],
            "application/vnd.jupyter.widget-view+json": {
              "version_major": 2,
              "version_minor": 0,
              "model_id": "83f4a0dbf306428b9f79a157e94971e9"
            }
          },
          "metadata": {}
        },
        {
          "output_type": "stream",
          "name": "stdout",
          "text": [
            "Dataset penguins downloaded and prepared to /root/tensorflow_datasets/penguins/processed/1.0.0. Subsequent calls will reuse this data.\n"
          ]
        }
      ]
    },
    {
      "cell_type": "code",
      "source": [
        "X, y = penguins.batch(500).get_single_element()\n",
        "X, y = X.numpy(), y.numpy()"
      ],
      "metadata": {
        "id": "1F8ymiUgGjP7"
      },
      "execution_count": 6,
      "outputs": []
    },
    {
      "cell_type": "code",
      "source": [
        "Xtrain, Xtest, ytrain, ytest = train_test_split(X, y, stratify=y)"
      ],
      "metadata": {
        "id": "qm44Zk8UGlY9"
      },
      "execution_count": 7,
      "outputs": []
    },
    {
      "cell_type": "code",
      "source": [
        "Xtrain = torch.from_numpy(Xtrain).float()\n",
        "Xtest = torch.from_numpy(Xtest).float()"
      ],
      "metadata": {
        "id": "8rO9zga9GnND"
      },
      "execution_count": 8,
      "outputs": []
    },
    {
      "cell_type": "code",
      "source": [
        "ytrain = torch.from_numpy(ytrain).long()\n",
        "ytest = torch.from_numpy(ytest).long()"
      ],
      "metadata": {
        "id": "KL3MEH78Goub"
      },
      "execution_count": 9,
      "outputs": []
    },
    {
      "cell_type": "markdown",
      "source": [
        "# **Define MultiLayer Neural Network**"
      ],
      "metadata": {
        "id": "xz1J58BvGuhC"
      }
    },
    {
      "cell_type": "code",
      "source": [
        "class MNN(nn.Module):\n",
        "  def __init__(self, input_size, fc1w, fc1b, fc2w, fc2b, fc3w, fc3b):\n",
        "    super().__init__()\n",
        "\n",
        "    self.w1 = nn.Parameter(fc1w)\n",
        "    self.b1 = nn.Parameter(fc1b)\n",
        "    \n",
        "    self.w2 = nn.Parameter(fc2w)\n",
        "    self.b2 = nn.Parameter(fc2b)\n",
        "\n",
        "    self.w3 = nn.Parameter(fc3w)\n",
        "    self.b3 = nn.Parameter(fc3b)\n",
        "\n",
        "  def forward(self, x):\n",
        "    x = F.relu(x@self.w1 + self.b1)\n",
        "    x = F.relu(x@self.w2 + self.b2)\n",
        "    x = x@self.w3 + self.b3\n",
        "    x = x.reshape(1, -1)\n",
        "    return torch.softmax(x, 1)"
      ],
      "metadata": {
        "id": "zK9pTmv1G0GH"
      },
      "execution_count": 10,
      "outputs": []
    },
    {
      "cell_type": "code",
      "source": [
        "# We check if CUDA is available\n",
        "device = 'cuda' if torch.cuda.is_available() else 'cpu'\n",
        "print(device)"
      ],
      "metadata": {
        "colab": {
          "base_uri": "https://localhost:8080/"
        },
        "id": "O0WezWamIP-J",
        "outputId": "09e6cf98-ee77-4415-c8be-5db8b1c86fff"
      },
      "execution_count": 11,
      "outputs": [
        {
          "output_type": "stream",
          "name": "stdout",
          "text": [
            "cuda\n"
          ]
        }
      ]
    },
    {
      "cell_type": "markdown",
      "source": [
        "# **Initialize the parameters**"
      ],
      "metadata": {
        "id": "3-ldbl8dIUaQ"
      }
    },
    {
      "cell_type": "code",
      "source": [
        "# We initialize the parameters randomly with values in [-1, 1] and the model with an input size\n",
        "fc1w = torch.FloatTensor(4, 64).uniform_(-1, 1)\n",
        "fc1b = torch.FloatTensor(64).uniform_(-1, 1)\n",
        "fc2w = torch.FloatTensor(64, 8).uniform_(-1, 1)\n",
        "fc2b = torch.FloatTensor(8).uniform_(-1, 1)\n",
        "fc3w = torch.FloatTensor(8, 3).uniform_(-1, 1)\n",
        "fc3b = torch.FloatTensor(3).uniform_(-1, 1)\n",
        "mnn = MNN(4, fc1w, fc1b, fc2w, fc2b, fc3w, fc3b).to(device)"
      ],
      "metadata": {
        "id": "16G8N7AxISUm"
      },
      "execution_count": 12,
      "outputs": []
    },
    {
      "cell_type": "code",
      "source": [
        "# We try our model with the first example\n",
        "print(mnn(Xtrain[0].to(device)))"
      ],
      "metadata": {
        "colab": {
          "base_uri": "https://localhost:8080/"
        },
        "id": "_QRhlie-I3M9",
        "outputId": "5dbb49a1-ccc0-484c-b1f5-2f3fd17c6ffb"
      },
      "execution_count": 13,
      "outputs": [
        {
          "output_type": "stream",
          "name": "stdout",
          "text": [
            "tensor([[9.4618e-04, 2.2028e-02, 9.7703e-01]], device='cuda:0',\n",
            "       grad_fn=<SoftmaxBackward0>)\n"
          ]
        }
      ]
    },
    {
      "cell_type": "markdown",
      "source": [
        "Calculate predictions"
      ],
      "metadata": {
        "id": "5AG5HrfCZjk4"
      }
    },
    {
      "cell_type": "code",
      "source": [
        "def pred(x, fc1w, fc1b, fc2w, fc2b, fc3w, fc3b):\n",
        "  ypred=torch.randn((x.shape[0],3))\n",
        "  for j in range (x.shape[0]):\n",
        "    xj = x[j]\n",
        "    xj = F.relu(xj@fc1w + fc1b)\n",
        "    xj = F.relu(xj@fc2w + fc2b)\n",
        "    xj = xj@fc3w + fc3b\n",
        "    xj = xj.reshape(1, -1)\n",
        "    ypred[j]=torch.softmax(xj, 1)\n",
        "  return ypred"
      ],
      "metadata": {
        "id": "dVyKl_v3Zm4h"
      },
      "execution_count": 14,
      "outputs": []
    },
    {
      "cell_type": "code",
      "source": [
        "ypred = pred(Xtrain, fc1w, fc1b, fc2w, fc2b, fc3w, fc3b)"
      ],
      "metadata": {
        "id": "6H-GS4CxiVBz"
      },
      "execution_count": 15,
      "outputs": []
    },
    {
      "cell_type": "markdown",
      "source": [
        "# **Define accuracy**"
      ],
      "metadata": {
        "id": "tV36IjptJdCH"
      }
    },
    {
      "cell_type": "code",
      "source": [
        "def accuracy(ytrue, ypred):\n",
        "  return (ypred.argmax(1) == ytrue).float().mean()"
      ],
      "metadata": {
        "id": "s6NncsZzJZ2B"
      },
      "execution_count": 16,
      "outputs": []
    },
    {
      "cell_type": "code",
      "source": [
        "# Average accuracy at initialization is 33% (random guessing)\n",
        "accuracy(ytrain.to(device), ypred.to(device))"
      ],
      "metadata": {
        "colab": {
          "base_uri": "https://localhost:8080/"
        },
        "id": "MdQH3dDjJhGh",
        "outputId": "fa76a7cf-9d29-41d8-85b6-d7f8e8d93ad4"
      },
      "execution_count": 17,
      "outputs": [
        {
          "output_type": "execute_result",
          "data": {
            "text/plain": [
              "tensor(0.3600, device='cuda:0')"
            ]
          },
          "metadata": {},
          "execution_count": 17
        }
      ]
    },
    {
      "cell_type": "markdown",
      "source": [
        "# **Define Cross-Entropy**"
      ],
      "metadata": {
        "id": "Yv2v16UNMb2W"
      }
    },
    {
      "cell_type": "markdown",
      "source": [
        "We define one cross_entropy function for each parameter because we will define later partial functions and the parameters need to be in a different order"
      ],
      "metadata": {
        "id": "qs2QR2iti__B"
      }
    },
    {
      "cell_type": "code",
      "source": [
        "def cross_entropyWfc1(fc1w, fc1b, fc2w, fc2b, fc3w, fc3b, ytrue, x):\n",
        "  ypred=pred(x, fc1w, fc1b, fc2w, fc2b, fc3w, fc3b)\n",
        "  ypred = ypred.to(device)\n",
        "  return - ypred[torch.arange(0, ypred.shape[0]), ytrue].log().mean()"
      ],
      "metadata": {
        "id": "oDytoEaiMYOg"
      },
      "execution_count": 18,
      "outputs": []
    },
    {
      "cell_type": "code",
      "source": [
        "def cross_entropyBfc1(fc1b, fc1w, fc2w, fc2b, fc3w, fc3b, ytrue, x):\n",
        "  ypred=pred(x, fc1w, fc1b, fc2w, fc2b, fc3w, fc3b)\n",
        "  ypred = ypred.to(device)\n",
        "  return - ypred[torch.arange(0, ypred.shape[0]), ytrue].log().mean()"
      ],
      "metadata": {
        "id": "2DWaptYYPWEn"
      },
      "execution_count": 19,
      "outputs": []
    },
    {
      "cell_type": "code",
      "source": [
        "def cross_entropyWfc2(fc2w, fc1b, fc1w, fc2b, fc3w, fc3b, ytrue, x):\n",
        "  ypred=pred(x, fc1w, fc1b, fc2w, fc2b, fc3w, fc3b)\n",
        "  ypred = ypred.to(device)\n",
        "  return - ypred[torch.arange(0, ypred.shape[0]), ytrue].log().mean()"
      ],
      "metadata": {
        "id": "m2ANY9djPZ45"
      },
      "execution_count": 20,
      "outputs": []
    },
    {
      "cell_type": "code",
      "source": [
        "def cross_entropyBfc2(fc2b, fc1b, fc2w, fc1w, fc3w, fc3b, ytrue, x):\n",
        "  ypred=pred(x, fc1w, fc1b, fc2w, fc2b, fc3w, fc3b)\n",
        "  ypred = ypred.to(device)\n",
        "  return - ypred[torch.arange(0, ypred.shape[0]), ytrue].log().mean()"
      ],
      "metadata": {
        "id": "1e4XGWW-Pez9"
      },
      "execution_count": 21,
      "outputs": []
    },
    {
      "cell_type": "code",
      "source": [
        "def cross_entropyWfc3(fc3w, fc1b, fc2w, fc2b, fc1w, fc3b, ytrue, x):\n",
        "  ypred=pred(x, fc1w, fc1b, fc2w, fc2b, fc3w, fc3b)\n",
        "  ypred = ypred.to(device)\n",
        "  return - ypred[torch.arange(0, ypred.shape[0]), ytrue].log().mean()"
      ],
      "metadata": {
        "id": "yJYOJNfRPjRJ"
      },
      "execution_count": 22,
      "outputs": []
    },
    {
      "cell_type": "code",
      "source": [
        "def cross_entropyBfc3(fc3b, fc1b, fc2w, fc2b, fc3w, fc1w, ytrue, x):\n",
        "  ypred=pred(x, fc1w, fc1b, fc2w, fc2b, fc3w, fc3b)\n",
        "  ypred = ypred.to(device)\n",
        "  return - ypred[torch.arange(0, ypred.shape[0]), ytrue].log().mean()"
      ],
      "metadata": {
        "id": "lEX0IcVqPneI"
      },
      "execution_count": 23,
      "outputs": []
    },
    {
      "cell_type": "code",
      "source": [
        "# We check that the output of all the cross_entropy functions is the same\n",
        "print(cross_entropyWfc1(fc1w.to(device), fc1b.to(device), fc2w.to(device), fc2b.to(device), fc3w.to(device), fc3b.to(device), ytrain.to(device), Xtrain.to(device)))\n",
        "print(cross_entropyBfc1(fc1b.to(device), fc1w.to(device), fc2w.to(device), fc2b.to(device), fc3w.to(device), fc3b.to(device), ytrain.to(device), Xtrain.to(device)))\n",
        "print(cross_entropyWfc2(fc2w.to(device), fc1b.to(device), fc1w.to(device), fc2b.to(device), fc3w.to(device), fc3b.to(device), ytrain.to(device), Xtrain.to(device)))\n",
        "print(cross_entropyBfc2(fc2b.to(device), fc1b.to(device), fc2w.to(device), fc1w.to(device), fc3w.to(device), fc3b.to(device), ytrain.to(device), Xtrain.to(device)))\n",
        "print(cross_entropyWfc3(fc3w.to(device), fc1b.to(device), fc2w.to(device), fc2b.to(device), fc1w.to(device), fc3b.to(device), ytrain.to(device), Xtrain.to(device)))\n",
        "print(cross_entropyBfc3(fc3b.to(device), fc1b.to(device), fc2w.to(device), fc2b.to(device), fc3w.to(device), fc1w.to(device), ytrain.to(device), Xtrain.to(device)))"
      ],
      "metadata": {
        "colab": {
          "base_uri": "https://localhost:8080/"
        },
        "id": "tRXOEhezNDYx",
        "outputId": "e9a12078-a118-4169-f547-55a0ea98d3e1"
      },
      "execution_count": 24,
      "outputs": [
        {
          "output_type": "stream",
          "name": "stdout",
          "text": [
            "tensor(3.5955, device='cuda:0')\n",
            "tensor(3.5955, device='cuda:0')\n",
            "tensor(3.5955, device='cuda:0')\n",
            "tensor(3.5955, device='cuda:0')\n",
            "tensor(3.5955, device='cuda:0')\n",
            "tensor(3.5955, device='cuda:0')\n"
          ]
        }
      ]
    },
    {
      "cell_type": "markdown",
      "source": [
        "Define error"
      ],
      "metadata": {
        "id": "VzJr41-NbT6m"
      }
    },
    {
      "cell_type": "code",
      "source": [
        "def error(ytrue, model, x):\n",
        "  error=0\n",
        "  for i in range (ytrue.size(0)):\n",
        "    ypredi = model(x[i].to(device))\n",
        "    if (ypredi.argmax(1)- ytrue[i])!=0:\n",
        "      error = error+ 1\n",
        "  return error"
      ],
      "metadata": {
        "id": "5TQbE3_jbTlE"
      },
      "execution_count": 25,
      "outputs": []
    },
    {
      "cell_type": "markdown",
      "source": [
        "# **Other activation functions**"
      ],
      "metadata": {
        "id": "YRuOpXfYks8P"
      }
    },
    {
      "cell_type": "code",
      "source": [
        "def beale_function(x):\n",
        "  return (torch.pow(torch.tensor([1.5])-x[0]+x[0]*x[1],2) + torch.pow(torch.tensor([2.25])-x[0]+x[0]*torch.pow(x[1],2),2)+torch.pow(torch.tensor([2.625])-x[0]+x[0]*torch.pow(x[1],3),2))"
      ],
      "metadata": {
        "id": "MxQXi8yGJrH6"
      },
      "execution_count": 26,
      "outputs": []
    },
    {
      "cell_type": "code",
      "source": [
        "def rosenbrock_function(x):\n",
        "  sum=0\n",
        "  for p in x.size():\n",
        "    for i in range (x.size(1)-1):\n",
        "      sum += (100*torch.pow(x[i+1] - torch.pow(x[i], 2), 2) + torch.pow(x[i]-1, 2))\n",
        "  return sum"
      ],
      "metadata": {
        "id": "DDu01BDoJtEI"
      },
      "execution_count": 27,
      "outputs": []
    },
    {
      "cell_type": "code",
      "source": [
        "def sphere_function(x):\n",
        "  sum=0\n",
        "  for i in range(x.size(0)):\n",
        "    sum += torch.pow(x[i], 2)\n",
        "  return sum"
      ],
      "metadata": {
        "id": "mNXfotdHk2QS"
      },
      "execution_count": 28,
      "outputs": []
    },
    {
      "cell_type": "markdown",
      "source": [
        "# **Train and evaluate the network**"
      ],
      "metadata": {
        "id": "9QgUYpzXlCB6"
      }
    },
    {
      "cell_type": "code",
      "source": [
        "def train_fwd_gradient(x, y):\n",
        "  x, y = x.to(device), y.to(device)\n",
        "\n",
        "  losses = [] #Vector with the cross_entropy values of the test set\n",
        "  accuracies = [] #Vector with the accuracy values of the test set\n",
        "  errors = [] #Vector with the number of misclassifications of the test set\n",
        "\n",
        "  l_rate0 = 0.05 #Learning rate used\n",
        "\n",
        "  # Initialize the parameters\n",
        "  fc1w = torch.FloatTensor(4, 64).uniform_(-1, 1)\n",
        "  fc1b = torch.FloatTensor(64).uniform_(-1, 1)\n",
        "  fc2w = torch.FloatTensor(64, 8).uniform_(-1, 1)\n",
        "  fc2b = torch.FloatTensor(8).uniform_(-1, 1)\n",
        "  fc3w = torch.FloatTensor(8, 3).uniform_(-1, 1)\n",
        "  fc3b = torch.FloatTensor(3).uniform_(-1, 1)\n",
        "\n",
        "  fc1w, fc1b, fc2w, fc2b, fc3w, fc3b = fc1w.to(device), fc1b.to(device), fc2w.to(device), fc2b.to(device), fc3w.to(device), fc3b.to(device)\n",
        "\n",
        "  loss = cross_entropyWfc1(fc1w, fc1b, fc2w, fc2b, fc3w, fc3b, y, x) # Loss function\n",
        "\n",
        "  t=0\n",
        "  it=0\n",
        "  t0 = time.time()\n",
        "\n",
        "  while (loss>0.2) :\n",
        "\n",
        "    # We define the following vectors as a perturbation vector taken as a multivariate random variable (such that their scalar components are independent and have zero mean \n",
        "    # and unit variance)\n",
        "\n",
        "    vfc1w=torch.randn(fc1w.shape).to(device)\n",
        "    vfc1w=(vfc1w - torch.mean(vfc1w))/torch.std(vfc1w)\n",
        "    vfc1b=torch.randn(fc1b.shape).to(device)\n",
        "    vfc1b=(vfc1b - torch.mean(vfc1b))/torch.std(vfc1b)\n",
        "    vfc2w=torch.randn(fc2w.shape).to(device)\n",
        "    vfc2w=(vfc2w - torch.mean(vfc2w))/torch.std(vfc2w)\n",
        "    vfc2b=torch.randn(fc2b.shape).to(device)\n",
        "    vfc2b=(vfc2b - torch.mean(vfc2b))/torch.std(vfc2b)\n",
        "    vfc3w=torch.randn(fc3w.shape).to(device)\n",
        "    vfc3w=(vfc3w - torch.mean(vfc3w))/torch.std(vfc3w)\n",
        "    vfc3b=torch.randn(fc3b.shape).to(device)\n",
        "    vfc3b=(vfc3b - torch.mean(vfc3b))/torch.std(vfc3b)\n",
        "\n",
        "    # We define a partial function for each of the parameters\n",
        "    fw1 = partial(cross_entropyWfc1, fc1b=fc1b, fc2w=fc2w, fc2b=fc2b, fc3w=fc3w, fc3b=fc3b, ytrue=y, x=x)\n",
        "    fb1 = partial(cross_entropyBfc1, fc1w=fc1w, fc2w=fc2w, fc2b=fc2b, fc3w=fc3w, fc3b=fc3b, ytrue=y, x=x)\n",
        "    fw2 = partial(cross_entropyWfc2, fc1b=fc1b, fc1w=fc1w, fc2b=fc2b, fc3w=fc3w, fc3b=fc3b, ytrue=y, x=x)\n",
        "    fb2 = partial(cross_entropyBfc2, fc1b=fc1b, fc2w=fc2w, fc1w=fc1w, fc3w=fc3w, fc3b=fc3b, ytrue=y, x=x)\n",
        "    fw3 = partial(cross_entropyWfc3, fc1b=fc1b, fc2w=fc2w, fc2b=fc2b, fc1w=fc1w, fc3b=fc3b, ytrue=y, x=x)\n",
        "    fb3 = partial(cross_entropyBfc3, fc1b=fc1b, fc2w=fc2w, fc2b=fc2b, fc3w=fc3w, fc1w=fc1w, ytrue=y, x=x)\n",
        "\n",
        "    # We compute the cross_entropy and the directional derivative of cross_entropy at each parameter in direction v simultaneously and without having to compute\n",
        "    # ∇cross_entropy in the process\n",
        "    #This is also known as forward-mode autodiff\n",
        "    ftw1, dtw1=jvp(fw1,(fc1w, ), (vfc1w, ))\n",
        "    ftb1, dtb1=jvp(fb1,(fc1b, ), (vfc1b, ))\n",
        "    ftw2, dtw2=jvp(fw2,(fc2w, ), (vfc2w, ))\n",
        "    ftb2, dtb2=jvp(fb2,(fc2b, ), (vfc2b, ))\n",
        "    ftw3, dtw3=jvp(fw3,(fc3w, ), (vfc3w, ))\n",
        "    ftb3, dtb3=jvp(fb3,(fc3b, ), (vfc3b, ))\n",
        "\n",
        "    # We multiply the scalar directional derivative ∇cross_entropy(θ)·v with vector v and obtain g(θ), the forward gradient (where θ represents each one of our parameters)\n",
        "    gtw1 = vfc1w*dtw1\n",
        "    gtb1 = vfc1b*dtb1\n",
        "    gtw2 = vfc2w*dtw2\n",
        "    gtb2 = vfc2b*dtb2\n",
        "    gtw3 = vfc3w*dtw3\n",
        "    gtb3 = vfc3b*dtb3\n",
        "\n",
        "    # Update the parameters\n",
        "    fc1w -= l_rate0*gtw1\n",
        "    fc1b -= l_rate0*gtb1\n",
        "    fc2w -= l_rate0*gtw2\n",
        "    fc2b -= l_rate0*gtb2\n",
        "    fc3w -= l_rate0*gtw3\n",
        "    fc3b -= l_rate0*gtb3\n",
        "\n",
        "    # We calculate the number of the misclassfications of the test set with the updated model and we add it to the errors vector\n",
        "    mnn = MNN(4, fc1w, fc1b, fc2w, fc2b, fc3w, fc3b)\n",
        "    ypred = pred(Xtest.to(device), fc1w, fc1b, fc2w, fc2b, fc3w, fc3b)\n",
        "    errors.append(error(ytest, mnn, Xtest))\n",
        "\n",
        "    # We calculate the cross_entropy of the test set with the updated model and we add it to the losses vector\n",
        "    losses.append(cross_entropyWfc1(fc1w, fc1b, fc2w, fc2b, fc3w, fc3b, ytest.to(device), Xtest.to(device)).cpu())\n",
        "\n",
        "    # We calculate the accuracy of the test set with the updated model and we add it to the accuracies vector\n",
        "    accuracies.append(accuracy(ytest, ypred).item())\n",
        "\n",
        "    # We calculate the loss\n",
        "    loss = cross_entropyWfc1(fc1w, fc1b, fc2w, fc2b, fc3w, fc3b, y, x)\n",
        "\n",
        "    # We add the execution time of the iteration\n",
        "    t1=time.time()\n",
        "    t+=t1-t0\n",
        "    t0=t1\n",
        "    it+=1\n",
        "\n",
        "    print('Time', t, 'loss', loss)\n",
        "\n",
        "  print('Final execution time', t)  \n",
        "  print('Number of iterations', it)\n",
        "  print('Mean execution time of an iteration', t/it)\n",
        "\n",
        "  return fc1w, fc1b, fc2w, fc2b, fc3w, fc3b, losses, accuracies, errors"
      ],
      "metadata": {
        "id": "opL05wseJww-"
      },
      "execution_count": 29,
      "outputs": []
    },
    {
      "cell_type": "code",
      "source": [
        "fc1w, fc1b, fc2w, fc2b, fc3w, fc3b, losses, accuracies, errors = train_fwd_gradient(Xtrain, ytrain)"
      ],
      "metadata": {
        "id": "XqzXxD74MDf1",
        "colab": {
          "base_uri": "https://localhost:8080/"
        },
        "outputId": "2e8df44e-f498-447a-827e-967814cd5777"
      },
      "execution_count": 30,
      "outputs": [
        {
          "output_type": "stream",
          "name": "stdout",
          "text": [
            "Time 1.3064980506896973 loss tensor(1.3141, device='cuda:0')\n",
            "Time 2.4168121814727783 loss tensor(1.1086, device='cuda:0')\n",
            "Time 3.5469582080841064 loss tensor(1.1051, device='cuda:0')\n",
            "Time 4.703217029571533 loss tensor(1.0959, device='cuda:0')\n",
            "Time 6.255774736404419 loss tensor(1.0140, device='cuda:0')\n",
            "Time 7.4354918003082275 loss tensor(1.0103, device='cuda:0')\n",
            "Time 8.517947912216187 loss tensor(0.9967, device='cuda:0')\n",
            "Time 9.619953632354736 loss tensor(0.9322, device='cuda:0')\n",
            "Time 10.721364974975586 loss tensor(0.9169, device='cuda:0')\n",
            "Time 11.834049701690674 loss tensor(0.9323, device='cuda:0')\n",
            "Time 12.919271469116211 loss tensor(0.9346, device='cuda:0')\n",
            "Time 14.019502401351929 loss tensor(0.8794, device='cuda:0')\n",
            "Time 15.196461200714111 loss tensor(0.8286, device='cuda:0')\n",
            "Time 16.338552713394165 loss tensor(0.7916, device='cuda:0')\n",
            "Time 18.005103826522827 loss tensor(0.7800, device='cuda:0')\n",
            "Time 19.364768743515015 loss tensor(0.7667, device='cuda:0')\n",
            "Time 20.53532314300537 loss tensor(0.7553, device='cuda:0')\n",
            "Time 21.690296173095703 loss tensor(0.7472, device='cuda:0')\n",
            "Time 22.832631826400757 loss tensor(0.7249, device='cuda:0')\n",
            "Time 24.025846481323242 loss tensor(0.7041, device='cuda:0')\n",
            "Time 25.20947766304016 loss tensor(0.6937, device='cuda:0')\n",
            "Time 26.39091467857361 loss tensor(0.6917, device='cuda:0')\n",
            "Time 27.56026840209961 loss tensor(0.6706, device='cuda:0')\n",
            "Time 28.792540311813354 loss tensor(0.6591, device='cuda:0')\n",
            "Time 30.452682495117188 loss tensor(0.6575, device='cuda:0')\n",
            "Time 31.78766131401062 loss tensor(0.6430, device='cuda:0')\n",
            "Time 33.00021457672119 loss tensor(0.6324, device='cuda:0')\n",
            "Time 34.19046974182129 loss tensor(0.6320, device='cuda:0')\n",
            "Time 35.36115550994873 loss tensor(0.6153, device='cuda:0')\n",
            "Time 36.53359413146973 loss tensor(0.6003, device='cuda:0')\n",
            "Time 37.71509766578674 loss tensor(0.5967, device='cuda:0')\n",
            "Time 38.892695903778076 loss tensor(0.5922, device='cuda:0')\n",
            "Time 40.068843841552734 loss tensor(0.5695, device='cuda:0')\n",
            "Time 41.38709044456482 loss tensor(0.5512, device='cuda:0')\n",
            "Time 43.046297788619995 loss tensor(0.5342, device='cuda:0')\n",
            "Time 44.2189507484436 loss tensor(0.5159, device='cuda:0')\n",
            "Time 46.22015142440796 loss tensor(0.4867, device='cuda:0')\n",
            "Time 47.74982929229736 loss tensor(0.4655, device='cuda:0')\n",
            "Time 48.923238039016724 loss tensor(0.4504, device='cuda:0')\n",
            "Time 50.100157737731934 loss tensor(0.4263, device='cuda:0')\n",
            "Time 51.29052257537842 loss tensor(0.4181, device='cuda:0')\n",
            "Time 52.43695902824402 loss tensor(0.3993, device='cuda:0')\n",
            "Time 53.88344717025757 loss tensor(0.3918, device='cuda:0')\n",
            "Time 55.42821407318115 loss tensor(0.3717, device='cuda:0')\n",
            "Time 56.565298557281494 loss tensor(0.3682, device='cuda:0')\n",
            "Time 57.71572136878967 loss tensor(0.3583, device='cuda:0')\n",
            "Time 58.86832046508789 loss tensor(0.3480, device='cuda:0')\n",
            "Time 60.00830030441284 loss tensor(0.3390, device='cuda:0')\n",
            "Time 61.15185308456421 loss tensor(0.3363, device='cuda:0')\n",
            "Time 62.28868627548218 loss tensor(0.3335, device='cuda:0')\n",
            "Time 63.453083515167236 loss tensor(0.3308, device='cuda:0')\n",
            "Time 64.60324382781982 loss tensor(0.3239, device='cuda:0')\n",
            "Time 65.99588227272034 loss tensor(0.3195, device='cuda:0')\n",
            "Time 67.53837490081787 loss tensor(0.3095, device='cuda:0')\n",
            "Time 68.70584034919739 loss tensor(0.3019, device='cuda:0')\n",
            "Time 69.865487575531 loss tensor(0.2958, device='cuda:0')\n",
            "Time 71.0120997428894 loss tensor(0.2803, device='cuda:0')\n",
            "Time 72.17304968833923 loss tensor(0.2726, device='cuda:0')\n",
            "Time 73.31916093826294 loss tensor(0.2699, device='cuda:0')\n",
            "Time 74.47133350372314 loss tensor(0.2678, device='cuda:0')\n",
            "Time 75.63136649131775 loss tensor(0.2627, device='cuda:0')\n",
            "Time 76.83205461502075 loss tensor(0.2506, device='cuda:0')\n",
            "Time 78.37926316261292 loss tensor(0.2495, device='cuda:0')\n",
            "Time 79.87471961975098 loss tensor(0.2471, device='cuda:0')\n",
            "Time 81.04326152801514 loss tensor(0.2446, device='cuda:0')\n",
            "Time 82.24382042884827 loss tensor(0.2414, device='cuda:0')\n",
            "Time 83.4152979850769 loss tensor(0.2357, device='cuda:0')\n",
            "Time 84.61661839485168 loss tensor(0.2327, device='cuda:0')\n",
            "Time 85.79754376411438 loss tensor(0.2319, device='cuda:0')\n",
            "Time 86.96486067771912 loss tensor(0.2279, device='cuda:0')\n",
            "Time 88.14599967002869 loss tensor(0.2177, device='cuda:0')\n",
            "Time 89.31451916694641 loss tensor(0.2119, device='cuda:0')\n",
            "Time 90.87864947319031 loss tensor(0.2036, device='cuda:0')\n",
            "Time 92.25038290023804 loss tensor(0.2029, device='cuda:0')\n",
            "Time 93.40253376960754 loss tensor(0.2018, device='cuda:0')\n",
            "Time 94.57216835021973 loss tensor(0.1985, device='cuda:0')\n",
            "Final execution time 94.57216835021973\n",
            "Number of iterations 76\n",
            "Mean execution time of an iteration 1.2443706361871016\n"
          ]
        }
      ]
    },
    {
      "cell_type": "code",
      "source": [
        "plt.plot(losses)"
      ],
      "metadata": {
        "colab": {
          "base_uri": "https://localhost:8080/",
          "height": 282
        },
        "id": "bOdzQ_Lgc2dX",
        "outputId": "7f81f3d7-5b98-4c92-e9c0-4eadb9c6f1c8"
      },
      "execution_count": 31,
      "outputs": [
        {
          "output_type": "execute_result",
          "data": {
            "text/plain": [
              "[<matplotlib.lines.Line2D at 0x7f9fb00ee5e0>]"
            ]
          },
          "metadata": {},
          "execution_count": 31
        },
        {
          "output_type": "display_data",
          "data": {
            "text/plain": [
              "<Figure size 432x288 with 1 Axes>"
            ],
            "image/png": "[encoded data removed]"
          },
          "metadata": {
            "needs_background": "light"
          }
        }
      ]
    },
    {
      "cell_type": "code",
      "source": [
        "plt.plot(accuracies)"
      ],
      "metadata": {
        "colab": {
          "base_uri": "https://localhost:8080/",
          "height": 282
        },
        "id": "ync9M037c9Wg",
        "outputId": "45940abd-8eed-40e5-b1f5-b6b2f4f8de25"
      },
      "execution_count": 32,
      "outputs": [
        {
          "output_type": "execute_result",
          "data": {
            "text/plain": [
              "[<matplotlib.lines.Line2D at 0x7f9fb007dc70>]"
            ]
          },
          "metadata": {},
          "execution_count": 32
        },
        {
          "output_type": "display_data",
          "data": {
            "text/plain": [
              "<Figure size 432x288 with 1 Axes>"
            ],
            "image/png": "[encoded data removed]"
          },
          "metadata": {
            "needs_background": "light"
          }
        }
      ]
    },
    {
      "cell_type": "code",
      "source": [
        "plt.plot(errors)"
      ],
      "metadata": {
        "colab": {
          "base_uri": "https://localhost:8080/",
          "height": 282
        },
        "id": "ZymwA2yZc-Su",
        "outputId": "03ba1e3d-3a15-4a73-9afa-fefb739a61b5"
      },
      "execution_count": 33,
      "outputs": [
        {
          "output_type": "execute_result",
          "data": {
            "text/plain": [
              "[<matplotlib.lines.Line2D at 0x7f9fa9dc46d0>]"
            ]
          },
          "metadata": {},
          "execution_count": 33
        },
        {
          "output_type": "display_data",
          "data": {
            "text/plain": [
              "<Figure size 432x288 with 1 Axes>"
            ],
            "image/png": "[encoded data removed]"
          },
          "metadata": {
            "needs_background": "light"
          }
        }
      ]
    }
  ]
}
