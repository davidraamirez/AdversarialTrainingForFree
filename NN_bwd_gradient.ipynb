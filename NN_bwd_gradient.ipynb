{
  "nbformat": 4,
  "nbformat_minor": 0,
  "metadata": {
    "colab": {
      "provenance": [],
      "include_colab_link": true
    },
    "kernelspec": {
      "name": "python3",
      "display_name": "Python 3"
    },
    "language_info": {
      "name": "python"
    },
    "accelerator": "GPU",
    "gpuClass": "standard"
  },
  "cells": [
    {
      "cell_type": "markdown",
      "metadata": {
        "id": "view-in-github",
        "colab_type": "text"
      },
      "source": [
        "<a href=\"https://colab.research.google.com/github/davidraamirez/GradientWithoutBackpropagation/blob/main/NN_bwd_gradient.ipynb\" target=\"_parent\"><img src=\"https://colab.research.google.com/assets/colab-badge.svg\" alt=\"Open In Colab\"/></a>"
      ]
    },
    {
      "cell_type": "markdown",
      "source": [
        "# **Import the necessary packages**"
      ],
      "metadata": {
        "id": "yGl6CMfiC4Iv"
      }
    },
    {
      "cell_type": "code",
      "execution_count": 1,
      "metadata": {
        "id": "NCA45z_cHlZT"
      },
      "outputs": [],
      "source": [
        "import torch\n",
        "import tensorflow_datasets as tfds\n",
        "from sklearn.model_selection import train_test_split"
      ]
    },
    {
      "cell_type": "code",
      "source": [
        "%pip install torchmetrics --quiet"
      ],
      "metadata": {
        "id": "X9mYM-2-Hv4k"
      },
      "execution_count": 2,
      "outputs": []
    },
    {
      "cell_type": "code",
      "source": [
        "import torchmetrics\n",
        "import torchvision"
      ],
      "metadata": {
        "id": "fkP97m_iH51g"
      },
      "execution_count": 3,
      "outputs": []
    },
    {
      "cell_type": "code",
      "source": [
        "from torch import nn\n",
        "from torch.nn import functional as F"
      ],
      "metadata": {
        "id": "ObyMVAojDE31"
      },
      "execution_count": 4,
      "outputs": []
    },
    {
      "cell_type": "code",
      "source": [
        "import time "
      ],
      "metadata": {
        "id": "kK_WoG4bDJiS"
      },
      "execution_count": 5,
      "outputs": []
    },
    {
      "cell_type": "code",
      "source": [
        "import matplotlib.pyplot as plt"
      ],
      "metadata": {
        "id": "U8wE52seDOXF"
      },
      "execution_count": 6,
      "outputs": []
    },
    {
      "cell_type": "markdown",
      "source": [
        "# **Loading and preprocessing the data**"
      ],
      "metadata": {
        "id": "ELxBmU5bH9wU"
      }
    },
    {
      "cell_type": "code",
      "source": [
        "#Load the dataset\n",
        "penguins = tfds.load('penguins', as_supervised=True, split='train')"
      ],
      "metadata": {
        "id": "T-s6I3bnH9KP"
      },
      "execution_count": 7,
      "outputs": []
    },
    {
      "cell_type": "code",
      "source": [
        "X, y = penguins.batch(500).get_single_element()\n",
        "X, y = X.numpy(), y.numpy()"
      ],
      "metadata": {
        "id": "cuQ1Xtd7IBi7"
      },
      "execution_count": 8,
      "outputs": []
    },
    {
      "cell_type": "code",
      "source": [
        "Xtrain, Xtest, ytrain, ytest = train_test_split(X, y, stratify=y)"
      ],
      "metadata": {
        "id": "0PH5mMXJIEBS"
      },
      "execution_count": 9,
      "outputs": []
    },
    {
      "cell_type": "code",
      "source": [
        "Xtrain = torch.from_numpy(Xtrain).float()\n",
        "Xtest = torch.from_numpy(Xtest).float()"
      ],
      "metadata": {
        "id": "vtuD1quIIGXh"
      },
      "execution_count": 10,
      "outputs": []
    },
    {
      "cell_type": "code",
      "source": [
        "ytrain = torch.from_numpy(ytrain).long()\n",
        "ytest = torch.from_numpy(ytest).long()"
      ],
      "metadata": {
        "id": "hvlRswvNIH5A"
      },
      "execution_count": 11,
      "outputs": []
    },
    {
      "cell_type": "markdown",
      "source": [
        "# **Define MultiLayer Neural Network**"
      ],
      "metadata": {
        "id": "gJu6veg7IKr7"
      }
    },
    {
      "cell_type": "code",
      "source": [
        "class MNN(nn.Module):\n",
        "  def __init__(self, input_size, fc1w, fc1b, fc2w, fc2b, fc3w, fc3b):\n",
        "    super().__init__()\n",
        "\n",
        "    self.w1 = nn.Parameter(fc1w)\n",
        "    self.b1 = nn.Parameter(fc1b)\n",
        "    \n",
        "    self.w2 = nn.Parameter(fc2w)\n",
        "    self.b2 = nn.Parameter(fc2b)\n",
        "\n",
        "    self.w3 = nn.Parameter(fc3w)\n",
        "    self.b3 = nn.Parameter(fc3b)\n",
        "\n",
        "  def forward(self, x):\n",
        "    x = F.relu(x@self.w1 + self.b1)\n",
        "    x = F.relu(x@self.w2 + self.b2)\n",
        "    x = x@self.w3 + self.b3\n",
        "    x = x.reshape(1, -1)\n",
        "\n",
        "    return torch.softmax(x, 1)"
      ],
      "metadata": {
        "id": "pbJ4P5fdIQr0"
      },
      "execution_count": 12,
      "outputs": []
    },
    {
      "cell_type": "code",
      "source": [
        "# We check if CUDA is available\n",
        "device = 'cuda' if torch.cuda.is_available() else 'cpu'\n",
        "print(device)"
      ],
      "metadata": {
        "colab": {
          "base_uri": "https://localhost:8080/"
        },
        "id": "bgYMD_SpIVHn",
        "outputId": "46c2aad4-63e4-46de-9528-7e07343b5d2e"
      },
      "execution_count": 13,
      "outputs": [
        {
          "output_type": "stream",
          "name": "stdout",
          "text": [
            "cuda\n"
          ]
        }
      ]
    },
    {
      "cell_type": "markdown",
      "source": [
        "# **Initialize the parameters**"
      ],
      "metadata": {
        "id": "-WZ0DUonIfaD"
      }
    },
    {
      "cell_type": "code",
      "source": [
        "# We initialize the parameters randomly with values in [-1, 1] and the model with an input size\n",
        "fc1w = torch.FloatTensor(4, 64).uniform_(-1, 1)\n",
        "fc1b = torch.FloatTensor(64).uniform_(-1, 1)\n",
        "fc2w = torch.FloatTensor(64, 8).uniform_(-1, 1)\n",
        "fc2b = torch.FloatTensor(8).uniform_(-1, 1)\n",
        "fc3w = torch.FloatTensor(8, 3).uniform_(-1, 1)\n",
        "fc3b = torch.FloatTensor(3).uniform_(-1, 1)\n",
        "mnn = MNN(4, fc1w, fc1b, fc2w, fc2b, fc3w, fc3b).to(device)"
      ],
      "metadata": {
        "id": "SYOnVLTmIXdG"
      },
      "execution_count": 14,
      "outputs": []
    },
    {
      "cell_type": "code",
      "source": [
        "# We try our model with the first example\n",
        "print(mnn(Xtrain[0].to(device)))"
      ],
      "metadata": {
        "colab": {
          "base_uri": "https://localhost:8080/"
        },
        "id": "mLUqJQNfIqlh",
        "outputId": "f192b6c7-8d9c-4509-bb68-257b52e26875"
      },
      "execution_count": 15,
      "outputs": [
        {
          "output_type": "stream",
          "name": "stdout",
          "text": [
            "tensor([[0.0563, 0.0029, 0.9408]], device='cuda:0', grad_fn=<SoftmaxBackward0>)\n"
          ]
        }
      ]
    },
    {
      "cell_type": "markdown",
      "source": [
        "Calculate predictions"
      ],
      "metadata": {
        "id": "R-eC6x1-MmSJ"
      }
    },
    {
      "cell_type": "code",
      "source": [
        "def pred(x, fc1w, fc1b, fc2w, fc2b, fc3w, fc3b):\n",
        "  ypred=torch.randn((x.shape[0],3))\n",
        "  for j in range (x.shape[0]):\n",
        "    xj = x[j]\n",
        "    xj = F.relu(xj@fc1w + fc1b)\n",
        "    xj = F.relu(xj@fc2w + fc2b)\n",
        "    xj = xj@fc3w + fc3b\n",
        "    xj = xj.reshape(1, -1)\n",
        "    ypred[j]=torch.softmax(xj, 1)\n",
        "  return ypred"
      ],
      "metadata": {
        "id": "qcyLR4WvMlvk"
      },
      "execution_count": 16,
      "outputs": []
    },
    {
      "cell_type": "code",
      "source": [
        "ypred = pred(Xtrain, fc1w, fc1b, fc2w, fc2b, fc3w, fc3b)"
      ],
      "metadata": {
        "id": "oKdzTEYvD6R5"
      },
      "execution_count": 17,
      "outputs": []
    },
    {
      "cell_type": "markdown",
      "source": [
        "# **Define accuracy**"
      ],
      "metadata": {
        "id": "fzyisWuVIupc"
      }
    },
    {
      "cell_type": "code",
      "source": [
        "def accuracy(ytrue, ypred):\n",
        "  return (ypred.argmax(1) == ytrue).float().mean()"
      ],
      "metadata": {
        "id": "ioaEGAO3IuCH"
      },
      "execution_count": 18,
      "outputs": []
    },
    {
      "cell_type": "code",
      "source": [
        "# Average accuracy at initialization is 33% (random guessing).\n",
        "accuracy(ytrain.to(device), ypred.to(device))"
      ],
      "metadata": {
        "colab": {
          "base_uri": "https://localhost:8080/"
        },
        "id": "_hLyMMWtI3Z3",
        "outputId": "50c25335-1478-4f46-f78c-2e04d6993c77"
      },
      "execution_count": 19,
      "outputs": [
        {
          "output_type": "execute_result",
          "data": {
            "text/plain": [
              "tensor(0.0680, device='cuda:0')"
            ]
          },
          "metadata": {},
          "execution_count": 19
        }
      ]
    },
    {
      "cell_type": "markdown",
      "source": [
        "# **Define Cross-Entropy**"
      ],
      "metadata": {
        "id": "3wPhpwJJI_WN"
      }
    },
    {
      "cell_type": "code",
      "source": [
        "def cross_entropy(ytrue, ypred):\n",
        "  return - ypred[torch.arange(0, ypred.shape[0]), ytrue].log().mean()"
      ],
      "metadata": {
        "id": "IQzUZcnDI-7y"
      },
      "execution_count": 20,
      "outputs": []
    },
    {
      "cell_type": "code",
      "source": [
        "# Cross_entropy at initialization\n",
        "print(cross_entropy(ytrain.to(device), ypred.to(device)))"
      ],
      "metadata": {
        "colab": {
          "base_uri": "https://localhost:8080/"
        },
        "id": "VW2g1_1HI8Hz",
        "outputId": "343f9c32-54ec-49ab-ab05-9be6d6027b4a"
      },
      "execution_count": 21,
      "outputs": [
        {
          "output_type": "stream",
          "name": "stdout",
          "text": [
            "tensor(2.9636, device='cuda:0')\n"
          ]
        }
      ]
    },
    {
      "cell_type": "markdown",
      "source": [
        "Define error"
      ],
      "metadata": {
        "id": "UPOACxrTEkxC"
      }
    },
    {
      "cell_type": "code",
      "source": [
        "def error(ytrue, model, x):\n",
        "  error=0\n",
        "  for i in range (ytrue.size(0)):\n",
        "    ypredi = model(x[i])\n",
        "    if (ypredi.argmax(1)- ytrue[i])!=0:\n",
        "      error = error+ 1\n",
        "  return error"
      ],
      "metadata": {
        "id": "jeNZF1Y4EmL0"
      },
      "execution_count": 22,
      "outputs": []
    },
    {
      "cell_type": "markdown",
      "source": [
        "# **Train and evaluate the network**"
      ],
      "metadata": {
        "id": "smaySELkJTLB"
      }
    },
    {
      "cell_type": "code",
      "source": [
        "def train_bwd_gradient(x, y):\n",
        "  x, y = x.to(device), y.to(device)\n",
        "\n",
        "  losses = [] #Vector with the cross_entropy values of the test set\n",
        "  accuracies = [] #Vector with the accuracy values of the test set\n",
        "  errors = [] #Vector with the number of misclassifications of the test set\n",
        "\n",
        "  l_rate0 = 0.05 #Learning rate used\n",
        "\n",
        "  #Initialize the parameters\n",
        "  fc1w = torch.FloatTensor(4, 64).uniform_(-1, 1).requires_grad_(True)\n",
        "  fc1b = torch.FloatTensor(64).uniform_(-1, 1).requires_grad_(True)\n",
        "  fc2w = torch.FloatTensor(64, 8).uniform_(-1, 1).requires_grad_(True)\n",
        "  fc2b = torch.FloatTensor(8).uniform_(-1, 1).requires_grad_(True)\n",
        "  fc3w = torch.FloatTensor(8, 3).uniform_(-1, 1).requires_grad_(True)\n",
        "  fc3b = torch.FloatTensor(3).uniform_(-1, 1).requires_grad_(True)\n",
        "\n",
        "  ypred = pred(x, fc1w.to(device), fc1b.to(device), fc2w.to(device), fc2b.to(device), fc3w.to(device), fc3b.to(device))\n",
        "  ypred = ypred.to(device)\n",
        "  loss = cross_entropy(y, ypred) # Loss function\n",
        "\n",
        "  t = 0\n",
        "  t0 = time.time()\n",
        "\n",
        "  while loss>0.2:\n",
        "\n",
        "    #Compute the gradients\n",
        "    loss.backward()\n",
        "\n",
        "    with torch.no_grad():\n",
        "\n",
        "      #Apply gradients\n",
        "      fc1w -= l_rate0*fc1w.grad\n",
        "      fc1b -= l_rate0*fc1b.grad\n",
        "      fc2w -= l_rate0*fc2w.grad\n",
        "      fc2b -= l_rate0*fc2b.grad\n",
        "      fc3w -= l_rate0*fc3w.grad\n",
        "      fc3b -= l_rate0*fc3b.grad\n",
        "\n",
        "      # Gradients are accumulated: we need to zero them out before the next iteration\n",
        "      fc1w.grad.zero_()\n",
        "      fc1b.grad.zero_()\n",
        "      fc2w.grad.zero_()\n",
        "      fc2b.grad.zero_()\n",
        "      fc3w.grad.zero_()\n",
        "      fc3b.grad.zero_()\n",
        "\n",
        "\n",
        "    # We calculate the number of the misclassfications of the test set with the updated model and we add it to the errors vector\n",
        "    mnn = MNN(4, fc1w, fc1b, fc2w, fc2b, fc3w, fc3b).to(device)\n",
        "    ypredT = pred(Xtest.to(device), fc1w.to(device), fc1b.to(device), fc2w.to(device), fc2b.to(device), fc3w.to(device), fc3b.to(device))\n",
        "    ypredT = ypredT.to(device)\n",
        "    errors.append(error(ytest.to(device), mnn, Xtest.to(device)))\n",
        "\n",
        "    # We calculate the cross_entropy of the test set with the updated model and we add it to the losses vector\n",
        "    loss = cross_entropy(ytest.to(device), ypredT)\n",
        "    losses.append(loss.cpu())\n",
        "\n",
        "    # We calculate the accuracy of the test set with the updated model and we add it to the accuracies vector\n",
        "    accuracies.append(accuracy(ytest.to(device), ypredT).item())\n",
        "\n",
        "    t1=time.time()\n",
        "    t+=t1-t0\n",
        "    t0=t1\n",
        "    print('Time', t, 'loss', loss)\n",
        "\n",
        "  return fc1w, fc1b, fc2w, fc2b, fc3w, fc3b, losses, accuracies, errors"
      ],
      "metadata": {
        "id": "QcHl0gbcJLFO"
      },
      "execution_count": 26,
      "outputs": []
    },
    {
      "cell_type": "code",
      "source": [
        "fc1w, fc1b, fc2w, fc2b, fc3w, fc3b, losses, accuracies, errors = train_bwd_gradient(Xtrain, ytrain)"
      ],
      "metadata": {
        "colab": {
          "base_uri": "https://localhost:8080/"
        },
        "id": "5NeXOGQfOT94",
        "outputId": "e7d2563a-d59d-493a-dc43-46c720a4cc02"
      },
      "execution_count": 27,
      "outputs": [
        {
          "output_type": "stream",
          "name": "stdout",
          "text": [
            "Time 0.11423301696777344 loss tensor(1.2354, device='cuda:0', grad_fn=<NegBackward0>)\n",
            "Time 0.20000624656677246 loss tensor(1.0716, device='cuda:0', grad_fn=<NegBackward0>)\n",
            "Time 0.27994751930236816 loss tensor(0.9258, device='cuda:0', grad_fn=<NegBackward0>)\n",
            "Time 0.34977197647094727 loss tensor(0.8232, device='cuda:0', grad_fn=<NegBackward0>)\n",
            "Time 0.41924238204956055 loss tensor(0.7516, device='cuda:0', grad_fn=<NegBackward0>)\n",
            "Time 0.4854748249053955 loss tensor(0.7205, device='cuda:0', grad_fn=<NegBackward0>)\n",
            "Time 0.5522201061248779 loss tensor(0.6719, device='cuda:0', grad_fn=<NegBackward0>)\n",
            "Time 0.62046217918396 loss tensor(0.6415, device='cuda:0', grad_fn=<NegBackward0>)\n",
            "Time 0.6857097148895264 loss tensor(0.6038, device='cuda:0', grad_fn=<NegBackward0>)\n",
            "Time 0.7630777359008789 loss tensor(0.5782, device='cuda:0', grad_fn=<NegBackward0>)\n",
            "Time 0.8304283618927002 loss tensor(0.5518, device='cuda:0', grad_fn=<NegBackward0>)\n",
            "Time 0.8917050361633301 loss tensor(0.5315, device='cuda:0', grad_fn=<NegBackward0>)\n",
            "Time 0.9570729732513428 loss tensor(0.5102, device='cuda:0', grad_fn=<NegBackward0>)\n",
            "Time 1.0262138843536377 loss tensor(0.4926, device='cuda:0', grad_fn=<NegBackward0>)\n",
            "Time 1.0983953475952148 loss tensor(0.4757, device='cuda:0', grad_fn=<NegBackward0>)\n",
            "Time 1.1615266799926758 loss tensor(0.4610, device='cuda:0', grad_fn=<NegBackward0>)\n",
            "Time 1.2228260040283203 loss tensor(0.4483, device='cuda:0', grad_fn=<NegBackward0>)\n",
            "Time 1.2918357849121094 loss tensor(0.4371, device='cuda:0', grad_fn=<NegBackward0>)\n",
            "Time 1.3583557605743408 loss tensor(0.4271, device='cuda:0', grad_fn=<NegBackward0>)\n",
            "Time 1.4203464984893799 loss tensor(0.4179, device='cuda:0', grad_fn=<NegBackward0>)\n",
            "Time 1.4823176860809326 loss tensor(0.4092, device='cuda:0', grad_fn=<NegBackward0>)\n",
            "Time 1.5532984733581543 loss tensor(0.4010, device='cuda:0', grad_fn=<NegBackward0>)\n",
            "Time 1.6230065822601318 loss tensor(0.3933, device='cuda:0', grad_fn=<NegBackward0>)\n",
            "Time 1.6837451457977295 loss tensor(0.3862, device='cuda:0', grad_fn=<NegBackward0>)\n",
            "Time 1.7527103424072266 loss tensor(0.3792, device='cuda:0', grad_fn=<NegBackward0>)\n",
            "Time 1.8199665546417236 loss tensor(0.3726, device='cuda:0', grad_fn=<NegBackward0>)\n",
            "Time 1.88228440284729 loss tensor(0.3663, device='cuda:0', grad_fn=<NegBackward0>)\n",
            "Time 1.9447979927062988 loss tensor(0.3603, device='cuda:0', grad_fn=<NegBackward0>)\n",
            "Time 2.014498710632324 loss tensor(0.3544, device='cuda:0', grad_fn=<NegBackward0>)\n",
            "Time 2.0800468921661377 loss tensor(0.3485, device='cuda:0', grad_fn=<NegBackward0>)\n",
            "Time 2.149003028869629 loss tensor(0.3427, device='cuda:0', grad_fn=<NegBackward0>)\n",
            "Time 2.2182674407958984 loss tensor(0.3371, device='cuda:0', grad_fn=<NegBackward0>)\n",
            "Time 2.282872200012207 loss tensor(0.3318, device='cuda:0', grad_fn=<NegBackward0>)\n",
            "Time 2.345996618270874 loss tensor(0.3265, device='cuda:0', grad_fn=<NegBackward0>)\n",
            "Time 2.4075071811676025 loss tensor(0.3215, device='cuda:0', grad_fn=<NegBackward0>)\n",
            "Time 2.471379041671753 loss tensor(0.3167, device='cuda:0', grad_fn=<NegBackward0>)\n",
            "Time 2.5374011993408203 loss tensor(0.3121, device='cuda:0', grad_fn=<NegBackward0>)\n",
            "Time 2.615333318710327 loss tensor(0.3076, device='cuda:0', grad_fn=<NegBackward0>)\n",
            "Time 2.6831777095794678 loss tensor(0.3034, device='cuda:0', grad_fn=<NegBackward0>)\n",
            "Time 2.753215789794922 loss tensor(0.2995, device='cuda:0', grad_fn=<NegBackward0>)\n",
            "Time 2.8232815265655518 loss tensor(0.2956, device='cuda:0', grad_fn=<NegBackward0>)\n",
            "Time 2.890042781829834 loss tensor(0.2919, device='cuda:0', grad_fn=<NegBackward0>)\n",
            "Time 2.952993869781494 loss tensor(0.2883, device='cuda:0', grad_fn=<NegBackward0>)\n",
            "Time 3.013962984085083 loss tensor(0.2848, device='cuda:0', grad_fn=<NegBackward0>)\n",
            "Time 3.076456308364868 loss tensor(0.2813, device='cuda:0', grad_fn=<NegBackward0>)\n",
            "Time 3.141237258911133 loss tensor(0.2779, device='cuda:0', grad_fn=<NegBackward0>)\n",
            "Time 3.2158660888671875 loss tensor(0.2747, device='cuda:0', grad_fn=<NegBackward0>)\n",
            "Time 3.2818613052368164 loss tensor(0.2716, device='cuda:0', grad_fn=<NegBackward0>)\n",
            "Time 3.3541650772094727 loss tensor(0.2686, device='cuda:0', grad_fn=<NegBackward0>)\n",
            "Time 3.41532039642334 loss tensor(0.2657, device='cuda:0', grad_fn=<NegBackward0>)\n",
            "Time 3.4779865741729736 loss tensor(0.2628, device='cuda:0', grad_fn=<NegBackward0>)\n",
            "Time 3.53991436958313 loss tensor(0.2600, device='cuda:0', grad_fn=<NegBackward0>)\n",
            "Time 3.6058189868927 loss tensor(0.2572, device='cuda:0', grad_fn=<NegBackward0>)\n",
            "Time 3.668886184692383 loss tensor(0.2544, device='cuda:0', grad_fn=<NegBackward0>)\n",
            "Time 3.730030059814453 loss tensor(0.2516, device='cuda:0', grad_fn=<NegBackward0>)\n",
            "Time 3.8030996322631836 loss tensor(0.2490, device='cuda:0', grad_fn=<NegBackward0>)\n",
            "Time 3.872572660446167 loss tensor(0.2464, device='cuda:0', grad_fn=<NegBackward0>)\n",
            "Time 3.936225175857544 loss tensor(0.2439, device='cuda:0', grad_fn=<NegBackward0>)\n",
            "Time 4.004200458526611 loss tensor(0.2415, device='cuda:0', grad_fn=<NegBackward0>)\n",
            "Time 4.076592683792114 loss tensor(0.2392, device='cuda:0', grad_fn=<NegBackward0>)\n",
            "Time 4.140035629272461 loss tensor(0.2369, device='cuda:0', grad_fn=<NegBackward0>)\n",
            "Time 4.202453851699829 loss tensor(0.2346, device='cuda:0', grad_fn=<NegBackward0>)\n",
            "Time 4.265174865722656 loss tensor(0.2324, device='cuda:0', grad_fn=<NegBackward0>)\n",
            "Time 4.329462051391602 loss tensor(0.2302, device='cuda:0', grad_fn=<NegBackward0>)\n",
            "Time 4.392876625061035 loss tensor(0.2280, device='cuda:0', grad_fn=<NegBackward0>)\n",
            "Time 4.456759452819824 loss tensor(0.2258, device='cuda:0', grad_fn=<NegBackward0>)\n",
            "Time 4.518543004989624 loss tensor(0.2237, device='cuda:0', grad_fn=<NegBackward0>)\n",
            "Time 4.584195375442505 loss tensor(0.2217, device='cuda:0', grad_fn=<NegBackward0>)\n",
            "Time 4.646369695663452 loss tensor(0.2196, device='cuda:0', grad_fn=<NegBackward0>)\n",
            "Time 4.707416772842407 loss tensor(0.2176, device='cuda:0', grad_fn=<NegBackward0>)\n",
            "Time 4.76781153678894 loss tensor(0.2156, device='cuda:0', grad_fn=<NegBackward0>)\n",
            "Time 4.841001510620117 loss tensor(0.2137, device='cuda:0', grad_fn=<NegBackward0>)\n",
            "Time 4.90347146987915 loss tensor(0.2119, device='cuda:0', grad_fn=<NegBackward0>)\n",
            "Time 4.97048020362854 loss tensor(0.2101, device='cuda:0', grad_fn=<NegBackward0>)\n",
            "Time 5.033386945724487 loss tensor(0.2083, device='cuda:0', grad_fn=<NegBackward0>)\n",
            "Time 5.099108457565308 loss tensor(0.2066, device='cuda:0', grad_fn=<NegBackward0>)\n",
            "Time 5.161212682723999 loss tensor(0.2049, device='cuda:0', grad_fn=<NegBackward0>)\n",
            "Time 5.224470138549805 loss tensor(0.2033, device='cuda:0', grad_fn=<NegBackward0>)\n",
            "Time 5.29259181022644 loss tensor(0.2016, device='cuda:0', grad_fn=<NegBackward0>)\n",
            "Time 5.360499858856201 loss tensor(0.2000, device='cuda:0', grad_fn=<NegBackward0>)\n",
            "Time 5.4228386878967285 loss tensor(0.1984, device='cuda:0', grad_fn=<NegBackward0>)\n"
          ]
        }
      ]
    },
    {
      "cell_type": "code",
      "source": [
        "with torch.no_grad():\n",
        "  plt.plot(losses)"
      ],
      "metadata": {
        "colab": {
          "base_uri": "https://localhost:8080/",
          "height": 265
        },
        "id": "qNkA3hnSMVzm",
        "outputId": "6d021511-359c-4325-ffba-59179d449b21"
      },
      "execution_count": 28,
      "outputs": [
        {
          "output_type": "display_data",
          "data": {
            "text/plain": [
              "<Figure size 432x288 with 1 Axes>"
            ],
            "image/png": "[encoded data removed]"
          },
          "metadata": {
            "needs_background": "light"
          }
        }
      ]
    },
    {
      "cell_type": "code",
      "source": [
        "plt.plot(accuracies)"
      ],
      "metadata": {
        "colab": {
          "base_uri": "https://localhost:8080/",
          "height": 282
        },
        "id": "AOss-YzXMYJz",
        "outputId": "d860bd28-69f5-4543-8a63-d30fa3673ad8"
      },
      "execution_count": 29,
      "outputs": [
        {
          "output_type": "execute_result",
          "data": {
            "text/plain": [
              "[<matplotlib.lines.Line2D at 0x7f690044e610>]"
            ]
          },
          "metadata": {},
          "execution_count": 29
        },
        {
          "output_type": "display_data",
          "data": {
            "text/plain": [
              "<Figure size 432x288 with 1 Axes>"
            ],
            "image/png": "[encoded data removed]"
          },
          "metadata": {
            "needs_background": "light"
          }
        }
      ]
    },
    {
      "cell_type": "code",
      "source": [
        "plt.plot(errors)"
      ],
      "metadata": {
        "colab": {
          "base_uri": "https://localhost:8080/",
          "height": 282
        },
        "id": "vRrwEVroUjfL",
        "outputId": "f22e2180-9ef5-418e-ad38-511d090a36d3"
      },
      "execution_count": 30,
      "outputs": [
        {
          "output_type": "execute_result",
          "data": {
            "text/plain": [
              "[<matplotlib.lines.Line2D at 0x7f6900423730>]"
            ]
          },
          "metadata": {},
          "execution_count": 30
        },
        {
          "output_type": "display_data",
          "data": {
            "text/plain": [
              "<Figure size 432x288 with 1 Axes>"
            ],
            "image/png": "[encoded data removed]"
          },
          "metadata": {
            "needs_background": "light"
          }
        }
      ]
    }
  ]
}