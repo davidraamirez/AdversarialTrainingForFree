{
  "nbformat": 4,
  "nbformat_minor": 0,
  "metadata": {
    "colab": {
      "provenance": [],
      "include_colab_link": true
    },
    "kernelspec": {
      "name": "python3",
      "display_name": "Python 3"
    },
    "language_info": {
      "name": "python"
    },
    "accelerator": "GPU",
    "gpuClass": "standard",
    "widgets": {
      "application/vnd.jupyter.widget-state+json": {
        "200ec080932d4661bd547127a3c81917": {
          "model_module": "@jupyter-widgets/controls",
          "model_name": "HBoxModel",
          "model_module_version": "1.5.0",
          "state": {
            "_dom_classes": [],
            "_model_module": "@jupyter-widgets/controls",
            "_model_module_version": "1.5.0",
            "_model_name": "HBoxModel",
            "_view_count": null,
            "_view_module": "@jupyter-widgets/controls",
            "_view_module_version": "1.5.0",
            "_view_name": "HBoxView",
            "box_style": "",
            "children": [
              "IPY_MODEL_976d8177ac5347b29fb061df57332a8d",
              "IPY_MODEL_11cb12bfd2c649dea44b447d71812403",
              "IPY_MODEL_72c528543b1a41298029c0b4dfdf0a63"
            ],
            "layout": "IPY_MODEL_19c03ac7d653417c8193f56299e339f7"
          }
        },
        "976d8177ac5347b29fb061df57332a8d": {
          "model_module": "@jupyter-widgets/controls",
          "model_name": "HTMLModel",
          "model_module_version": "1.5.0",
          "state": {
            "_dom_classes": [],
            "_model_module": "@jupyter-widgets/controls",
            "_model_module_version": "1.5.0",
            "_model_name": "HTMLModel",
            "_view_count": null,
            "_view_module": "@jupyter-widgets/controls",
            "_view_module_version": "1.5.0",
            "_view_name": "HTMLView",
            "description": "",
            "description_tooltip": null,
            "layout": "IPY_MODEL_dbf9d21383d2436e8dbb41a7b70d017c",
            "placeholder": "​",
            "style": "IPY_MODEL_fecf30e7f759404ab098acc8eeb18087",
            "value": "Dl Completed...: 100%"
          }
        },
        "11cb12bfd2c649dea44b447d71812403": {
          "model_module": "@jupyter-widgets/controls",
          "model_name": "FloatProgressModel",
          "model_module_version": "1.5.0",
          "state": {
            "_dom_classes": [],
            "_model_module": "@jupyter-widgets/controls",
            "_model_module_version": "1.5.0",
            "_model_name": "FloatProgressModel",
            "_view_count": null,
            "_view_module": "@jupyter-widgets/controls",
            "_view_module_version": "1.5.0",
            "_view_name": "ProgressView",
            "bar_style": "success",
            "description": "",
            "description_tooltip": null,
            "layout": "IPY_MODEL_d3ab289ce296498b8f1f353b22cb2fcb",
            "max": 1,
            "min": 0,
            "orientation": "horizontal",
            "style": "IPY_MODEL_fbfe7497fb674a9ab2d1ecc4a8fe0f35",
            "value": 1
          }
        },
        "72c528543b1a41298029c0b4dfdf0a63": {
          "model_module": "@jupyter-widgets/controls",
          "model_name": "HTMLModel",
          "model_module_version": "1.5.0",
          "state": {
            "_dom_classes": [],
            "_model_module": "@jupyter-widgets/controls",
            "_model_module_version": "1.5.0",
            "_model_name": "HTMLModel",
            "_view_count": null,
            "_view_module": "@jupyter-widgets/controls",
            "_view_module_version": "1.5.0",
            "_view_name": "HTMLView",
            "description": "",
            "description_tooltip": null,
            "layout": "IPY_MODEL_0292b3fbe2f64e208f1deae78be783f0",
            "placeholder": "​",
            "style": "IPY_MODEL_1e7e2c8b6443479bbda75312433f2b35",
            "value": " 1/1 [00:00&lt;00:00,  2.76 url/s]"
          }
        },
        "19c03ac7d653417c8193f56299e339f7": {
          "model_module": "@jupyter-widgets/base",
          "model_name": "LayoutModel",
          "model_module_version": "1.2.0",
          "state": {
            "_model_module": "@jupyter-widgets/base",
            "_model_module_version": "1.2.0",
            "_model_name": "LayoutModel",
            "_view_count": null,
            "_view_module": "@jupyter-widgets/base",
            "_view_module_version": "1.2.0",
            "_view_name": "LayoutView",
            "align_content": null,
            "align_items": null,
            "align_self": null,
            "border": null,
            "bottom": null,
            "display": null,
            "flex": null,
            "flex_flow": null,
            "grid_area": null,
            "grid_auto_columns": null,
            "grid_auto_flow": null,
            "grid_auto_rows": null,
            "grid_column": null,
            "grid_gap": null,
            "grid_row": null,
            "grid_template_areas": null,
            "grid_template_columns": null,
            "grid_template_rows": null,
            "height": null,
            "justify_content": null,
            "justify_items": null,
            "left": null,
            "margin": null,
            "max_height": null,
            "max_width": null,
            "min_height": null,
            "min_width": null,
            "object_fit": null,
            "object_position": null,
            "order": null,
            "overflow": null,
            "overflow_x": null,
            "overflow_y": null,
            "padding": null,
            "right": null,
            "top": null,
            "visibility": null,
            "width": null
          }
        },
        "dbf9d21383d2436e8dbb41a7b70d017c": {
          "model_module": "@jupyter-widgets/base",
          "model_name": "LayoutModel",
          "model_module_version": "1.2.0",
          "state": {
            "_model_module": "@jupyter-widgets/base",
            "_model_module_version": "1.2.0",
            "_model_name": "LayoutModel",
            "_view_count": null,
            "_view_module": "@jupyter-widgets/base",
            "_view_module_version": "1.2.0",
            "_view_name": "LayoutView",
            "align_content": null,
            "align_items": null,
            "align_self": null,
            "border": null,
            "bottom": null,
            "display": null,
            "flex": null,
            "flex_flow": null,
            "grid_area": null,
            "grid_auto_columns": null,
            "grid_auto_flow": null,
            "grid_auto_rows": null,
            "grid_column": null,
            "grid_gap": null,
            "grid_row": null,
            "grid_template_areas": null,
            "grid_template_columns": null,
            "grid_template_rows": null,
            "height": null,
            "justify_content": null,
            "justify_items": null,
            "left": null,
            "margin": null,
            "max_height": null,
            "max_width": null,
            "min_height": null,
            "min_width": null,
            "object_fit": null,
            "object_position": null,
            "order": null,
            "overflow": null,
            "overflow_x": null,
            "overflow_y": null,
            "padding": null,
            "right": null,
            "top": null,
            "visibility": null,
            "width": null
          }
        },
        "fecf30e7f759404ab098acc8eeb18087": {
          "model_module": "@jupyter-widgets/controls",
          "model_name": "DescriptionStyleModel",
          "model_module_version": "1.5.0",
          "state": {
            "_model_module": "@jupyter-widgets/controls",
            "_model_module_version": "1.5.0",
            "_model_name": "DescriptionStyleModel",
            "_view_count": null,
            "_view_module": "@jupyter-widgets/base",
            "_view_module_version": "1.2.0",
            "_view_name": "StyleView",
            "description_width": ""
          }
        },
        "d3ab289ce296498b8f1f353b22cb2fcb": {
          "model_module": "@jupyter-widgets/base",
          "model_name": "LayoutModel",
          "model_module_version": "1.2.0",
          "state": {
            "_model_module": "@jupyter-widgets/base",
            "_model_module_version": "1.2.0",
            "_model_name": "LayoutModel",
            "_view_count": null,
            "_view_module": "@jupyter-widgets/base",
            "_view_module_version": "1.2.0",
            "_view_name": "LayoutView",
            "align_content": null,
            "align_items": null,
            "align_self": null,
            "border": null,
            "bottom": null,
            "display": null,
            "flex": null,
            "flex_flow": null,
            "grid_area": null,
            "grid_auto_columns": null,
            "grid_auto_flow": null,
            "grid_auto_rows": null,
            "grid_column": null,
            "grid_gap": null,
            "grid_row": null,
            "grid_template_areas": null,
            "grid_template_columns": null,
            "grid_template_rows": null,
            "height": null,
            "justify_content": null,
            "justify_items": null,
            "left": null,
            "margin": null,
            "max_height": null,
            "max_width": null,
            "min_height": null,
            "min_width": null,
            "object_fit": null,
            "object_position": null,
            "order": null,
            "overflow": null,
            "overflow_x": null,
            "overflow_y": null,
            "padding": null,
            "right": null,
            "top": null,
            "visibility": null,
            "width": "20px"
          }
        },
        "fbfe7497fb674a9ab2d1ecc4a8fe0f35": {
          "model_module": "@jupyter-widgets/controls",
          "model_name": "ProgressStyleModel",
          "model_module_version": "1.5.0",
          "state": {
            "_model_module": "@jupyter-widgets/controls",
            "_model_module_version": "1.5.0",
            "_model_name": "ProgressStyleModel",
            "_view_count": null,
            "_view_module": "@jupyter-widgets/base",
            "_view_module_version": "1.2.0",
            "_view_name": "StyleView",
            "bar_color": null,
            "description_width": ""
          }
        },
        "0292b3fbe2f64e208f1deae78be783f0": {
          "model_module": "@jupyter-widgets/base",
          "model_name": "LayoutModel",
          "model_module_version": "1.2.0",
          "state": {
            "_model_module": "@jupyter-widgets/base",
            "_model_module_version": "1.2.0",
            "_model_name": "LayoutModel",
            "_view_count": null,
            "_view_module": "@jupyter-widgets/base",
            "_view_module_version": "1.2.0",
            "_view_name": "LayoutView",
            "align_content": null,
            "align_items": null,
            "align_self": null,
            "border": null,
            "bottom": null,
            "display": null,
            "flex": null,
            "flex_flow": null,
            "grid_area": null,
            "grid_auto_columns": null,
            "grid_auto_flow": null,
            "grid_auto_rows": null,
            "grid_column": null,
            "grid_gap": null,
            "grid_row": null,
            "grid_template_areas": null,
            "grid_template_columns": null,
            "grid_template_rows": null,
            "height": null,
            "justify_content": null,
            "justify_items": null,
            "left": null,
            "margin": null,
            "max_height": null,
            "max_width": null,
            "min_height": null,
            "min_width": null,
            "object_fit": null,
            "object_position": null,
            "order": null,
            "overflow": null,
            "overflow_x": null,
            "overflow_y": null,
            "padding": null,
            "right": null,
            "top": null,
            "visibility": null,
            "width": null
          }
        },
        "1e7e2c8b6443479bbda75312433f2b35": {
          "model_module": "@jupyter-widgets/controls",
          "model_name": "DescriptionStyleModel",
          "model_module_version": "1.5.0",
          "state": {
            "_model_module": "@jupyter-widgets/controls",
            "_model_module_version": "1.5.0",
            "_model_name": "DescriptionStyleModel",
            "_view_count": null,
            "_view_module": "@jupyter-widgets/base",
            "_view_module_version": "1.2.0",
            "_view_name": "StyleView",
            "description_width": ""
          }
        },
        "099f8c2c2497438cbf1826b10e5218f3": {
          "model_module": "@jupyter-widgets/controls",
          "model_name": "HBoxModel",
          "model_module_version": "1.5.0",
          "state": {
            "_dom_classes": [],
            "_model_module": "@jupyter-widgets/controls",
            "_model_module_version": "1.5.0",
            "_model_name": "HBoxModel",
            "_view_count": null,
            "_view_module": "@jupyter-widgets/controls",
            "_view_module_version": "1.5.0",
            "_view_name": "HBoxView",
            "box_style": "",
            "children": [
              "IPY_MODEL_f54ca394019445d2b0abcad96779f7eb",
              "IPY_MODEL_ddffbbfbd1944da18e76e74dc4404fb1",
              "IPY_MODEL_14adb589cf704eeeadc099969d9351b8"
            ],
            "layout": "IPY_MODEL_428e7ddff2e24360a152bbbfe7763b33"
          }
        },
        "f54ca394019445d2b0abcad96779f7eb": {
          "model_module": "@jupyter-widgets/controls",
          "model_name": "HTMLModel",
          "model_module_version": "1.5.0",
          "state": {
            "_dom_classes": [],
            "_model_module": "@jupyter-widgets/controls",
            "_model_module_version": "1.5.0",
            "_model_name": "HTMLModel",
            "_view_count": null,
            "_view_module": "@jupyter-widgets/controls",
            "_view_module_version": "1.5.0",
            "_view_name": "HTMLView",
            "description": "",
            "description_tooltip": null,
            "layout": "IPY_MODEL_39924becb92c45079b66a15220a53868",
            "placeholder": "​",
            "style": "IPY_MODEL_d7c1aa6e2b714682ba04095b2d795ba4",
            "value": "Dl Size...: "
          }
        },
        "ddffbbfbd1944da18e76e74dc4404fb1": {
          "model_module": "@jupyter-widgets/controls",
          "model_name": "FloatProgressModel",
          "model_module_version": "1.5.0",
          "state": {
            "_dom_classes": [],
            "_model_module": "@jupyter-widgets/controls",
            "_model_module_version": "1.5.0",
            "_model_name": "FloatProgressModel",
            "_view_count": null,
            "_view_module": "@jupyter-widgets/controls",
            "_view_module_version": "1.5.0",
            "_view_name": "ProgressView",
            "bar_style": "success",
            "description": "",
            "description_tooltip": null,
            "layout": "IPY_MODEL_61e2e6faa8ce4615b3c0c600b773a08c",
            "max": 1,
            "min": 0,
            "orientation": "horizontal",
            "style": "IPY_MODEL_74ca465a715a4d66ac38d83ad5760722",
            "value": 0
          }
        },
        "14adb589cf704eeeadc099969d9351b8": {
          "model_module": "@jupyter-widgets/controls",
          "model_name": "HTMLModel",
          "model_module_version": "1.5.0",
          "state": {
            "_dom_classes": [],
            "_model_module": "@jupyter-widgets/controls",
            "_model_module_version": "1.5.0",
            "_model_name": "HTMLModel",
            "_view_count": null,
            "_view_module": "@jupyter-widgets/controls",
            "_view_module_version": "1.5.0",
            "_view_name": "HTMLView",
            "description": "",
            "description_tooltip": null,
            "layout": "IPY_MODEL_224a6b43c1394fad846e40e0bd6d861b",
            "placeholder": "​",
            "style": "IPY_MODEL_f3eb276bf9904886973ef20932f4e791",
            "value": " 0/0 [00:00&lt;?, ? MiB/s]"
          }
        },
        "428e7ddff2e24360a152bbbfe7763b33": {
          "model_module": "@jupyter-widgets/base",
          "model_name": "LayoutModel",
          "model_module_version": "1.2.0",
          "state": {
            "_model_module": "@jupyter-widgets/base",
            "_model_module_version": "1.2.0",
            "_model_name": "LayoutModel",
            "_view_count": null,
            "_view_module": "@jupyter-widgets/base",
            "_view_module_version": "1.2.0",
            "_view_name": "LayoutView",
            "align_content": null,
            "align_items": null,
            "align_self": null,
            "border": null,
            "bottom": null,
            "display": null,
            "flex": null,
            "flex_flow": null,
            "grid_area": null,
            "grid_auto_columns": null,
            "grid_auto_flow": null,
            "grid_auto_rows": null,
            "grid_column": null,
            "grid_gap": null,
            "grid_row": null,
            "grid_template_areas": null,
            "grid_template_columns": null,
            "grid_template_rows": null,
            "height": null,
            "justify_content": null,
            "justify_items": null,
            "left": null,
            "margin": null,
            "max_height": null,
            "max_width": null,
            "min_height": null,
            "min_width": null,
            "object_fit": null,
            "object_position": null,
            "order": null,
            "overflow": null,
            "overflow_x": null,
            "overflow_y": null,
            "padding": null,
            "right": null,
            "top": null,
            "visibility": null,
            "width": null
          }
        },
        "39924becb92c45079b66a15220a53868": {
          "model_module": "@jupyter-widgets/base",
          "model_name": "LayoutModel",
          "model_module_version": "1.2.0",
          "state": {
            "_model_module": "@jupyter-widgets/base",
            "_model_module_version": "1.2.0",
            "_model_name": "LayoutModel",
            "_view_count": null,
            "_view_module": "@jupyter-widgets/base",
            "_view_module_version": "1.2.0",
            "_view_name": "LayoutView",
            "align_content": null,
            "align_items": null,
            "align_self": null,
            "border": null,
            "bottom": null,
            "display": null,
            "flex": null,
            "flex_flow": null,
            "grid_area": null,
            "grid_auto_columns": null,
            "grid_auto_flow": null,
            "grid_auto_rows": null,
            "grid_column": null,
            "grid_gap": null,
            "grid_row": null,
            "grid_template_areas": null,
            "grid_template_columns": null,
            "grid_template_rows": null,
            "height": null,
            "justify_content": null,
            "justify_items": null,
            "left": null,
            "margin": null,
            "max_height": null,
            "max_width": null,
            "min_height": null,
            "min_width": null,
            "object_fit": null,
            "object_position": null,
            "order": null,
            "overflow": null,
            "overflow_x": null,
            "overflow_y": null,
            "padding": null,
            "right": null,
            "top": null,
            "visibility": null,
            "width": null
          }
        },
        "d7c1aa6e2b714682ba04095b2d795ba4": {
          "model_module": "@jupyter-widgets/controls",
          "model_name": "DescriptionStyleModel",
          "model_module_version": "1.5.0",
          "state": {
            "_model_module": "@jupyter-widgets/controls",
            "_model_module_version": "1.5.0",
            "_model_name": "DescriptionStyleModel",
            "_view_count": null,
            "_view_module": "@jupyter-widgets/base",
            "_view_module_version": "1.2.0",
            "_view_name": "StyleView",
            "description_width": ""
          }
        },
        "61e2e6faa8ce4615b3c0c600b773a08c": {
          "model_module": "@jupyter-widgets/base",
          "model_name": "LayoutModel",
          "model_module_version": "1.2.0",
          "state": {
            "_model_module": "@jupyter-widgets/base",
            "_model_module_version": "1.2.0",
            "_model_name": "LayoutModel",
            "_view_count": null,
            "_view_module": "@jupyter-widgets/base",
            "_view_module_version": "1.2.0",
            "_view_name": "LayoutView",
            "align_content": null,
            "align_items": null,
            "align_self": null,
            "border": null,
            "bottom": null,
            "display": null,
            "flex": null,
            "flex_flow": null,
            "grid_area": null,
            "grid_auto_columns": null,
            "grid_auto_flow": null,
            "grid_auto_rows": null,
            "grid_column": null,
            "grid_gap": null,
            "grid_row": null,
            "grid_template_areas": null,
            "grid_template_columns": null,
            "grid_template_rows": null,
            "height": null,
            "justify_content": null,
            "justify_items": null,
            "left": null,
            "margin": null,
            "max_height": null,
            "max_width": null,
            "min_height": null,
            "min_width": null,
            "object_fit": null,
            "object_position": null,
            "order": null,
            "overflow": null,
            "overflow_x": null,
            "overflow_y": null,
            "padding": null,
            "right": null,
            "top": null,
            "visibility": null,
            "width": "20px"
          }
        },
        "74ca465a715a4d66ac38d83ad5760722": {
          "model_module": "@jupyter-widgets/controls",
          "model_name": "ProgressStyleModel",
          "model_module_version": "1.5.0",
          "state": {
            "_model_module": "@jupyter-widgets/controls",
            "_model_module_version": "1.5.0",
            "_model_name": "ProgressStyleModel",
            "_view_count": null,
            "_view_module": "@jupyter-widgets/base",
            "_view_module_version": "1.2.0",
            "_view_name": "StyleView",
            "bar_color": null,
            "description_width": ""
          }
        },
        "224a6b43c1394fad846e40e0bd6d861b": {
          "model_module": "@jupyter-widgets/base",
          "model_name": "LayoutModel",
          "model_module_version": "1.2.0",
          "state": {
            "_model_module": "@jupyter-widgets/base",
            "_model_module_version": "1.2.0",
            "_model_name": "LayoutModel",
            "_view_count": null,
            "_view_module": "@jupyter-widgets/base",
            "_view_module_version": "1.2.0",
            "_view_name": "LayoutView",
            "align_content": null,
            "align_items": null,
            "align_self": null,
            "border": null,
            "bottom": null,
            "display": null,
            "flex": null,
            "flex_flow": null,
            "grid_area": null,
            "grid_auto_columns": null,
            "grid_auto_flow": null,
            "grid_auto_rows": null,
            "grid_column": null,
            "grid_gap": null,
            "grid_row": null,
            "grid_template_areas": null,
            "grid_template_columns": null,
            "grid_template_rows": null,
            "height": null,
            "justify_content": null,
            "justify_items": null,
            "left": null,
            "margin": null,
            "max_height": null,
            "max_width": null,
            "min_height": null,
            "min_width": null,
            "object_fit": null,
            "object_position": null,
            "order": null,
            "overflow": null,
            "overflow_x": null,
            "overflow_y": null,
            "padding": null,
            "right": null,
            "top": null,
            "visibility": null,
            "width": null
          }
        },
        "f3eb276bf9904886973ef20932f4e791": {
          "model_module": "@jupyter-widgets/controls",
          "model_name": "DescriptionStyleModel",
          "model_module_version": "1.5.0",
          "state": {
            "_model_module": "@jupyter-widgets/controls",
            "_model_module_version": "1.5.0",
            "_model_name": "DescriptionStyleModel",
            "_view_count": null,
            "_view_module": "@jupyter-widgets/base",
            "_view_module_version": "1.2.0",
            "_view_name": "StyleView",
            "description_width": ""
          }
        },
        "bd81e28293424f599c2c2e007de7a5de": {
          "model_module": "@jupyter-widgets/controls",
          "model_name": "HBoxModel",
          "model_module_version": "1.5.0",
          "state": {
            "_dom_classes": [],
            "_model_module": "@jupyter-widgets/controls",
            "_model_module_version": "1.5.0",
            "_model_name": "HBoxModel",
            "_view_count": null,
            "_view_module": "@jupyter-widgets/controls",
            "_view_module_version": "1.5.0",
            "_view_name": "HBoxView",
            "box_style": "",
            "children": [
              "IPY_MODEL_f5ab0d24afab47c88a671db4591d96d2",
              "IPY_MODEL_bd676795cf064443b2f5752848139668",
              "IPY_MODEL_26107305db17412d88d89120240b1495"
            ],
            "layout": "IPY_MODEL_ebd81ec131a04b15b40ce16a893bfc73"
          }
        },
        "f5ab0d24afab47c88a671db4591d96d2": {
          "model_module": "@jupyter-widgets/controls",
          "model_name": "HTMLModel",
          "model_module_version": "1.5.0",
          "state": {
            "_dom_classes": [],
            "_model_module": "@jupyter-widgets/controls",
            "_model_module_version": "1.5.0",
            "_model_name": "HTMLModel",
            "_view_count": null,
            "_view_module": "@jupyter-widgets/controls",
            "_view_module_version": "1.5.0",
            "_view_name": "HTMLView",
            "description": "",
            "description_tooltip": null,
            "layout": "IPY_MODEL_1f61c1a1a55b4a86bf9922cb70e6f68d",
            "placeholder": "​",
            "style": "IPY_MODEL_9b56355329f34c49969ca4574e48eae8",
            "value": "Generating splits...: 100%"
          }
        },
        "bd676795cf064443b2f5752848139668": {
          "model_module": "@jupyter-widgets/controls",
          "model_name": "FloatProgressModel",
          "model_module_version": "1.5.0",
          "state": {
            "_dom_classes": [],
            "_model_module": "@jupyter-widgets/controls",
            "_model_module_version": "1.5.0",
            "_model_name": "FloatProgressModel",
            "_view_count": null,
            "_view_module": "@jupyter-widgets/controls",
            "_view_module_version": "1.5.0",
            "_view_name": "ProgressView",
            "bar_style": "",
            "description": "",
            "description_tooltip": null,
            "layout": "IPY_MODEL_1bd855726d9947328ac86916823b38fa",
            "max": 1,
            "min": 0,
            "orientation": "horizontal",
            "style": "IPY_MODEL_0955abc9daa042c4a9bbc1cc18157c3e",
            "value": 1
          }
        },
        "26107305db17412d88d89120240b1495": {
          "model_module": "@jupyter-widgets/controls",
          "model_name": "HTMLModel",
          "model_module_version": "1.5.0",
          "state": {
            "_dom_classes": [],
            "_model_module": "@jupyter-widgets/controls",
            "_model_module_version": "1.5.0",
            "_model_name": "HTMLModel",
            "_view_count": null,
            "_view_module": "@jupyter-widgets/controls",
            "_view_module_version": "1.5.0",
            "_view_name": "HTMLView",
            "description": "",
            "description_tooltip": null,
            "layout": "IPY_MODEL_0ac4cd1e626c490c986c0408b86222e8",
            "placeholder": "​",
            "style": "IPY_MODEL_c5bfe801de3347dba35e29c09675744f",
            "value": " 1/1 [00:00&lt;00:00,  4.02 splits/s]"
          }
        },
        "ebd81ec131a04b15b40ce16a893bfc73": {
          "model_module": "@jupyter-widgets/base",
          "model_name": "LayoutModel",
          "model_module_version": "1.2.0",
          "state": {
            "_model_module": "@jupyter-widgets/base",
            "_model_module_version": "1.2.0",
            "_model_name": "LayoutModel",
            "_view_count": null,
            "_view_module": "@jupyter-widgets/base",
            "_view_module_version": "1.2.0",
            "_view_name": "LayoutView",
            "align_content": null,
            "align_items": null,
            "align_self": null,
            "border": null,
            "bottom": null,
            "display": null,
            "flex": null,
            "flex_flow": null,
            "grid_area": null,
            "grid_auto_columns": null,
            "grid_auto_flow": null,
            "grid_auto_rows": null,
            "grid_column": null,
            "grid_gap": null,
            "grid_row": null,
            "grid_template_areas": null,
            "grid_template_columns": null,
            "grid_template_rows": null,
            "height": null,
            "justify_content": null,
            "justify_items": null,
            "left": null,
            "margin": null,
            "max_height": null,
            "max_width": null,
            "min_height": null,
            "min_width": null,
            "object_fit": null,
            "object_position": null,
            "order": null,
            "overflow": null,
            "overflow_x": null,
            "overflow_y": null,
            "padding": null,
            "right": null,
            "top": null,
            "visibility": "hidden",
            "width": null
          }
        },
        "1f61c1a1a55b4a86bf9922cb70e6f68d": {
          "model_module": "@jupyter-widgets/base",
          "model_name": "LayoutModel",
          "model_module_version": "1.2.0",
          "state": {
            "_model_module": "@jupyter-widgets/base",
            "_model_module_version": "1.2.0",
            "_model_name": "LayoutModel",
            "_view_count": null,
            "_view_module": "@jupyter-widgets/base",
            "_view_module_version": "1.2.0",
            "_view_name": "LayoutView",
            "align_content": null,
            "align_items": null,
            "align_self": null,
            "border": null,
            "bottom": null,
            "display": null,
            "flex": null,
            "flex_flow": null,
            "grid_area": null,
            "grid_auto_columns": null,
            "grid_auto_flow": null,
            "grid_auto_rows": null,
            "grid_column": null,
            "grid_gap": null,
            "grid_row": null,
            "grid_template_areas": null,
            "grid_template_columns": null,
            "grid_template_rows": null,
            "height": null,
            "justify_content": null,
            "justify_items": null,
            "left": null,
            "margin": null,
            "max_height": null,
            "max_width": null,
            "min_height": null,
            "min_width": null,
            "object_fit": null,
            "object_position": null,
            "order": null,
            "overflow": null,
            "overflow_x": null,
            "overflow_y": null,
            "padding": null,
            "right": null,
            "top": null,
            "visibility": null,
            "width": null
          }
        },
        "9b56355329f34c49969ca4574e48eae8": {
          "model_module": "@jupyter-widgets/controls",
          "model_name": "DescriptionStyleModel",
          "model_module_version": "1.5.0",
          "state": {
            "_model_module": "@jupyter-widgets/controls",
            "_model_module_version": "1.5.0",
            "_model_name": "DescriptionStyleModel",
            "_view_count": null,
            "_view_module": "@jupyter-widgets/base",
            "_view_module_version": "1.2.0",
            "_view_name": "StyleView",
            "description_width": ""
          }
        },
        "1bd855726d9947328ac86916823b38fa": {
          "model_module": "@jupyter-widgets/base",
          "model_name": "LayoutModel",
          "model_module_version": "1.2.0",
          "state": {
            "_model_module": "@jupyter-widgets/base",
            "_model_module_version": "1.2.0",
            "_model_name": "LayoutModel",
            "_view_count": null,
            "_view_module": "@jupyter-widgets/base",
            "_view_module_version": "1.2.0",
            "_view_name": "LayoutView",
            "align_content": null,
            "align_items": null,
            "align_self": null,
            "border": null,
            "bottom": null,
            "display": null,
            "flex": null,
            "flex_flow": null,
            "grid_area": null,
            "grid_auto_columns": null,
            "grid_auto_flow": null,
            "grid_auto_rows": null,
            "grid_column": null,
            "grid_gap": null,
            "grid_row": null,
            "grid_template_areas": null,
            "grid_template_columns": null,
            "grid_template_rows": null,
            "height": null,
            "justify_content": null,
            "justify_items": null,
            "left": null,
            "margin": null,
            "max_height": null,
            "max_width": null,
            "min_height": null,
            "min_width": null,
            "object_fit": null,
            "object_position": null,
            "order": null,
            "overflow": null,
            "overflow_x": null,
            "overflow_y": null,
            "padding": null,
            "right": null,
            "top": null,
            "visibility": null,
            "width": null
          }
        },
        "0955abc9daa042c4a9bbc1cc18157c3e": {
          "model_module": "@jupyter-widgets/controls",
          "model_name": "ProgressStyleModel",
          "model_module_version": "1.5.0",
          "state": {
            "_model_module": "@jupyter-widgets/controls",
            "_model_module_version": "1.5.0",
            "_model_name": "ProgressStyleModel",
            "_view_count": null,
            "_view_module": "@jupyter-widgets/base",
            "_view_module_version": "1.2.0",
            "_view_name": "StyleView",
            "bar_color": null,
            "description_width": ""
          }
        },
        "0ac4cd1e626c490c986c0408b86222e8": {
          "model_module": "@jupyter-widgets/base",
          "model_name": "LayoutModel",
          "model_module_version": "1.2.0",
          "state": {
            "_model_module": "@jupyter-widgets/base",
            "_model_module_version": "1.2.0",
            "_model_name": "LayoutModel",
            "_view_count": null,
            "_view_module": "@jupyter-widgets/base",
            "_view_module_version": "1.2.0",
            "_view_name": "LayoutView",
            "align_content": null,
            "align_items": null,
            "align_self": null,
            "border": null,
            "bottom": null,
            "display": null,
            "flex": null,
            "flex_flow": null,
            "grid_area": null,
            "grid_auto_columns": null,
            "grid_auto_flow": null,
            "grid_auto_rows": null,
            "grid_column": null,
            "grid_gap": null,
            "grid_row": null,
            "grid_template_areas": null,
            "grid_template_columns": null,
            "grid_template_rows": null,
            "height": null,
            "justify_content": null,
            "justify_items": null,
            "left": null,
            "margin": null,
            "max_height": null,
            "max_width": null,
            "min_height": null,
            "min_width": null,
            "object_fit": null,
            "object_position": null,
            "order": null,
            "overflow": null,
            "overflow_x": null,
            "overflow_y": null,
            "padding": null,
            "right": null,
            "top": null,
            "visibility": null,
            "width": null
          }
        },
        "c5bfe801de3347dba35e29c09675744f": {
          "model_module": "@jupyter-widgets/controls",
          "model_name": "DescriptionStyleModel",
          "model_module_version": "1.5.0",
          "state": {
            "_model_module": "@jupyter-widgets/controls",
            "_model_module_version": "1.5.0",
            "_model_name": "DescriptionStyleModel",
            "_view_count": null,
            "_view_module": "@jupyter-widgets/base",
            "_view_module_version": "1.2.0",
            "_view_name": "StyleView",
            "description_width": ""
          }
        },
        "737a42da89ab48abb6ec9123cf528e2d": {
          "model_module": "@jupyter-widgets/controls",
          "model_name": "HBoxModel",
          "model_module_version": "1.5.0",
          "state": {
            "_dom_classes": [],
            "_model_module": "@jupyter-widgets/controls",
            "_model_module_version": "1.5.0",
            "_model_name": "HBoxModel",
            "_view_count": null,
            "_view_module": "@jupyter-widgets/controls",
            "_view_module_version": "1.5.0",
            "_view_name": "HBoxView",
            "box_style": "",
            "children": [
              "IPY_MODEL_916e8b96016c45149aa34c52aa509592",
              "IPY_MODEL_98985fbdda514ee1a8f4041e8950faf0",
              "IPY_MODEL_59b5db04105b44909eb515f82a4f1de7"
            ],
            "layout": "IPY_MODEL_76437ce1aba44bfb9dded83e6136c428"
          }
        },
        "916e8b96016c45149aa34c52aa509592": {
          "model_module": "@jupyter-widgets/controls",
          "model_name": "HTMLModel",
          "model_module_version": "1.5.0",
          "state": {
            "_dom_classes": [],
            "_model_module": "@jupyter-widgets/controls",
            "_model_module_version": "1.5.0",
            "_model_name": "HTMLModel",
            "_view_count": null,
            "_view_module": "@jupyter-widgets/controls",
            "_view_module_version": "1.5.0",
            "_view_name": "HTMLView",
            "description": "",
            "description_tooltip": null,
            "layout": "IPY_MODEL_22e94649e5b544e78a3486f5a1b1c862",
            "placeholder": "​",
            "style": "IPY_MODEL_73a73bc8f99541528469972e5c53ed86",
            "value": "Generating train examples...:  84%"
          }
        },
        "98985fbdda514ee1a8f4041e8950faf0": {
          "model_module": "@jupyter-widgets/controls",
          "model_name": "FloatProgressModel",
          "model_module_version": "1.5.0",
          "state": {
            "_dom_classes": [],
            "_model_module": "@jupyter-widgets/controls",
            "_model_module_version": "1.5.0",
            "_model_name": "FloatProgressModel",
            "_view_count": null,
            "_view_module": "@jupyter-widgets/controls",
            "_view_module_version": "1.5.0",
            "_view_name": "ProgressView",
            "bar_style": "",
            "description": "",
            "description_tooltip": null,
            "layout": "IPY_MODEL_23f4bfe4c2e24f51a517f5b0cf7bb955",
            "max": 334,
            "min": 0,
            "orientation": "horizontal",
            "style": "IPY_MODEL_48edffba218b4d7c88b31b6013cb08c5",
            "value": 334
          }
        },
        "59b5db04105b44909eb515f82a4f1de7": {
          "model_module": "@jupyter-widgets/controls",
          "model_name": "HTMLModel",
          "model_module_version": "1.5.0",
          "state": {
            "_dom_classes": [],
            "_model_module": "@jupyter-widgets/controls",
            "_model_module_version": "1.5.0",
            "_model_name": "HTMLModel",
            "_view_count": null,
            "_view_module": "@jupyter-widgets/controls",
            "_view_module_version": "1.5.0",
            "_view_name": "HTMLView",
            "description": "",
            "description_tooltip": null,
            "layout": "IPY_MODEL_839d4a466d4549e8b2b44159846a0e03",
            "placeholder": "​",
            "style": "IPY_MODEL_70f1fd1895e845c7a83eb636f9888795",
            "value": " 281/334 [00:00&lt;00:00, 2808.88 examples/s]"
          }
        },
        "76437ce1aba44bfb9dded83e6136c428": {
          "model_module": "@jupyter-widgets/base",
          "model_name": "LayoutModel",
          "model_module_version": "1.2.0",
          "state": {
            "_model_module": "@jupyter-widgets/base",
            "_model_module_version": "1.2.0",
            "_model_name": "LayoutModel",
            "_view_count": null,
            "_view_module": "@jupyter-widgets/base",
            "_view_module_version": "1.2.0",
            "_view_name": "LayoutView",
            "align_content": null,
            "align_items": null,
            "align_self": null,
            "border": null,
            "bottom": null,
            "display": null,
            "flex": null,
            "flex_flow": null,
            "grid_area": null,
            "grid_auto_columns": null,
            "grid_auto_flow": null,
            "grid_auto_rows": null,
            "grid_column": null,
            "grid_gap": null,
            "grid_row": null,
            "grid_template_areas": null,
            "grid_template_columns": null,
            "grid_template_rows": null,
            "height": null,
            "justify_content": null,
            "justify_items": null,
            "left": null,
            "margin": null,
            "max_height": null,
            "max_width": null,
            "min_height": null,
            "min_width": null,
            "object_fit": null,
            "object_position": null,
            "order": null,
            "overflow": null,
            "overflow_x": null,
            "overflow_y": null,
            "padding": null,
            "right": null,
            "top": null,
            "visibility": "hidden",
            "width": null
          }
        },
        "22e94649e5b544e78a3486f5a1b1c862": {
          "model_module": "@jupyter-widgets/base",
          "model_name": "LayoutModel",
          "model_module_version": "1.2.0",
          "state": {
            "_model_module": "@jupyter-widgets/base",
            "_model_module_version": "1.2.0",
            "_model_name": "LayoutModel",
            "_view_count": null,
            "_view_module": "@jupyter-widgets/base",
            "_view_module_version": "1.2.0",
            "_view_name": "LayoutView",
            "align_content": null,
            "align_items": null,
            "align_self": null,
            "border": null,
            "bottom": null,
            "display": null,
            "flex": null,
            "flex_flow": null,
            "grid_area": null,
            "grid_auto_columns": null,
            "grid_auto_flow": null,
            "grid_auto_rows": null,
            "grid_column": null,
            "grid_gap": null,
            "grid_row": null,
            "grid_template_areas": null,
            "grid_template_columns": null,
            "grid_template_rows": null,
            "height": null,
            "justify_content": null,
            "justify_items": null,
            "left": null,
            "margin": null,
            "max_height": null,
            "max_width": null,
            "min_height": null,
            "min_width": null,
            "object_fit": null,
            "object_position": null,
            "order": null,
            "overflow": null,
            "overflow_x": null,
            "overflow_y": null,
            "padding": null,
            "right": null,
            "top": null,
            "visibility": null,
            "width": null
          }
        },
        "73a73bc8f99541528469972e5c53ed86": {
          "model_module": "@jupyter-widgets/controls",
          "model_name": "DescriptionStyleModel",
          "model_module_version": "1.5.0",
          "state": {
            "_model_module": "@jupyter-widgets/controls",
            "_model_module_version": "1.5.0",
            "_model_name": "DescriptionStyleModel",
            "_view_count": null,
            "_view_module": "@jupyter-widgets/base",
            "_view_module_version": "1.2.0",
            "_view_name": "StyleView",
            "description_width": ""
          }
        },
        "23f4bfe4c2e24f51a517f5b0cf7bb955": {
          "model_module": "@jupyter-widgets/base",
          "model_name": "LayoutModel",
          "model_module_version": "1.2.0",
          "state": {
            "_model_module": "@jupyter-widgets/base",
            "_model_module_version": "1.2.0",
            "_model_name": "LayoutModel",
            "_view_count": null,
            "_view_module": "@jupyter-widgets/base",
            "_view_module_version": "1.2.0",
            "_view_name": "LayoutView",
            "align_content": null,
            "align_items": null,
            "align_self": null,
            "border": null,
            "bottom": null,
            "display": null,
            "flex": null,
            "flex_flow": null,
            "grid_area": null,
            "grid_auto_columns": null,
            "grid_auto_flow": null,
            "grid_auto_rows": null,
            "grid_column": null,
            "grid_gap": null,
            "grid_row": null,
            "grid_template_areas": null,
            "grid_template_columns": null,
            "grid_template_rows": null,
            "height": null,
            "justify_content": null,
            "justify_items": null,
            "left": null,
            "margin": null,
            "max_height": null,
            "max_width": null,
            "min_height": null,
            "min_width": null,
            "object_fit": null,
            "object_position": null,
            "order": null,
            "overflow": null,
            "overflow_x": null,
            "overflow_y": null,
            "padding": null,
            "right": null,
            "top": null,
            "visibility": null,
            "width": null
          }
        },
        "48edffba218b4d7c88b31b6013cb08c5": {
          "model_module": "@jupyter-widgets/controls",
          "model_name": "ProgressStyleModel",
          "model_module_version": "1.5.0",
          "state": {
            "_model_module": "@jupyter-widgets/controls",
            "_model_module_version": "1.5.0",
            "_model_name": "ProgressStyleModel",
            "_view_count": null,
            "_view_module": "@jupyter-widgets/base",
            "_view_module_version": "1.2.0",
            "_view_name": "StyleView",
            "bar_color": null,
            "description_width": ""
          }
        },
        "839d4a466d4549e8b2b44159846a0e03": {
          "model_module": "@jupyter-widgets/base",
          "model_name": "LayoutModel",
          "model_module_version": "1.2.0",
          "state": {
            "_model_module": "@jupyter-widgets/base",
            "_model_module_version": "1.2.0",
            "_model_name": "LayoutModel",
            "_view_count": null,
            "_view_module": "@jupyter-widgets/base",
            "_view_module_version": "1.2.0",
            "_view_name": "LayoutView",
            "align_content": null,
            "align_items": null,
            "align_self": null,
            "border": null,
            "bottom": null,
            "display": null,
            "flex": null,
            "flex_flow": null,
            "grid_area": null,
            "grid_auto_columns": null,
            "grid_auto_flow": null,
            "grid_auto_rows": null,
            "grid_column": null,
            "grid_gap": null,
            "grid_row": null,
            "grid_template_areas": null,
            "grid_template_columns": null,
            "grid_template_rows": null,
            "height": null,
            "justify_content": null,
            "justify_items": null,
            "left": null,
            "margin": null,
            "max_height": null,
            "max_width": null,
            "min_height": null,
            "min_width": null,
            "object_fit": null,
            "object_position": null,
            "order": null,
            "overflow": null,
            "overflow_x": null,
            "overflow_y": null,
            "padding": null,
            "right": null,
            "top": null,
            "visibility": null,
            "width": null
          }
        },
        "70f1fd1895e845c7a83eb636f9888795": {
          "model_module": "@jupyter-widgets/controls",
          "model_name": "DescriptionStyleModel",
          "model_module_version": "1.5.0",
          "state": {
            "_model_module": "@jupyter-widgets/controls",
            "_model_module_version": "1.5.0",
            "_model_name": "DescriptionStyleModel",
            "_view_count": null,
            "_view_module": "@jupyter-widgets/base",
            "_view_module_version": "1.2.0",
            "_view_name": "StyleView",
            "description_width": ""
          }
        },
        "6d02d9501caa4a03ab1417263f26affd": {
          "model_module": "@jupyter-widgets/controls",
          "model_name": "HBoxModel",
          "model_module_version": "1.5.0",
          "state": {
            "_dom_classes": [],
            "_model_module": "@jupyter-widgets/controls",
            "_model_module_version": "1.5.0",
            "_model_name": "HBoxModel",
            "_view_count": null,
            "_view_module": "@jupyter-widgets/controls",
            "_view_module_version": "1.5.0",
            "_view_name": "HBoxView",
            "box_style": "",
            "children": [
              "IPY_MODEL_eaaba9f634dc436086d55df4742adee9",
              "IPY_MODEL_fc7d19b0f827437884151ccc2c37e49e",
              "IPY_MODEL_e1925ee36a764c359887353a913b149d"
            ],
            "layout": "IPY_MODEL_6a743deef7a64671b029edbeffc998a7"
          }
        },
        "eaaba9f634dc436086d55df4742adee9": {
          "model_module": "@jupyter-widgets/controls",
          "model_name": "HTMLModel",
          "model_module_version": "1.5.0",
          "state": {
            "_dom_classes": [],
            "_model_module": "@jupyter-widgets/controls",
            "_model_module_version": "1.5.0",
            "_model_name": "HTMLModel",
            "_view_count": null,
            "_view_module": "@jupyter-widgets/controls",
            "_view_module_version": "1.5.0",
            "_view_name": "HTMLView",
            "description": "",
            "description_tooltip": null,
            "layout": "IPY_MODEL_2e0ac77bdfcc4fe88e22719ced73227c",
            "placeholder": "​",
            "style": "IPY_MODEL_421a50806a5a4a318ab37c5515f6565c",
            "value": "Shuffling /root/tensorflow_datasets/penguins/processed/1.0.0.incompleteKYEQGD/penguins-train.tfrecord*...:   0%"
          }
        },
        "fc7d19b0f827437884151ccc2c37e49e": {
          "model_module": "@jupyter-widgets/controls",
          "model_name": "FloatProgressModel",
          "model_module_version": "1.5.0",
          "state": {
            "_dom_classes": [],
            "_model_module": "@jupyter-widgets/controls",
            "_model_module_version": "1.5.0",
            "_model_name": "FloatProgressModel",
            "_view_count": null,
            "_view_module": "@jupyter-widgets/controls",
            "_view_module_version": "1.5.0",
            "_view_name": "ProgressView",
            "bar_style": "",
            "description": "",
            "description_tooltip": null,
            "layout": "IPY_MODEL_a551f113084444b09f8af7e89a280058",
            "max": 334,
            "min": 0,
            "orientation": "horizontal",
            "style": "IPY_MODEL_80027cfb156d4d4b9ad0bbc61dab6fab",
            "value": 334
          }
        },
        "e1925ee36a764c359887353a913b149d": {
          "model_module": "@jupyter-widgets/controls",
          "model_name": "HTMLModel",
          "model_module_version": "1.5.0",
          "state": {
            "_dom_classes": [],
            "_model_module": "@jupyter-widgets/controls",
            "_model_module_version": "1.5.0",
            "_model_name": "HTMLModel",
            "_view_count": null,
            "_view_module": "@jupyter-widgets/controls",
            "_view_module_version": "1.5.0",
            "_view_name": "HTMLView",
            "description": "",
            "description_tooltip": null,
            "layout": "IPY_MODEL_f4978b8a96024b37b0cdcde187a91e40",
            "placeholder": "​",
            "style": "IPY_MODEL_effef6286e4c407186eae7ac351964d2",
            "value": " 0/334 [00:00&lt;?, ? examples/s]"
          }
        },
        "6a743deef7a64671b029edbeffc998a7": {
          "model_module": "@jupyter-widgets/base",
          "model_name": "LayoutModel",
          "model_module_version": "1.2.0",
          "state": {
            "_model_module": "@jupyter-widgets/base",
            "_model_module_version": "1.2.0",
            "_model_name": "LayoutModel",
            "_view_count": null,
            "_view_module": "@jupyter-widgets/base",
            "_view_module_version": "1.2.0",
            "_view_name": "LayoutView",
            "align_content": null,
            "align_items": null,
            "align_self": null,
            "border": null,
            "bottom": null,
            "display": null,
            "flex": null,
            "flex_flow": null,
            "grid_area": null,
            "grid_auto_columns": null,
            "grid_auto_flow": null,
            "grid_auto_rows": null,
            "grid_column": null,
            "grid_gap": null,
            "grid_row": null,
            "grid_template_areas": null,
            "grid_template_columns": null,
            "grid_template_rows": null,
            "height": null,
            "justify_content": null,
            "justify_items": null,
            "left": null,
            "margin": null,
            "max_height": null,
            "max_width": null,
            "min_height": null,
            "min_width": null,
            "object_fit": null,
            "object_position": null,
            "order": null,
            "overflow": null,
            "overflow_x": null,
            "overflow_y": null,
            "padding": null,
            "right": null,
            "top": null,
            "visibility": "hidden",
            "width": null
          }
        },
        "2e0ac77bdfcc4fe88e22719ced73227c": {
          "model_module": "@jupyter-widgets/base",
          "model_name": "LayoutModel",
          "model_module_version": "1.2.0",
          "state": {
            "_model_module": "@jupyter-widgets/base",
            "_model_module_version": "1.2.0",
            "_model_name": "LayoutModel",
            "_view_count": null,
            "_view_module": "@jupyter-widgets/base",
            "_view_module_version": "1.2.0",
            "_view_name": "LayoutView",
            "align_content": null,
            "align_items": null,
            "align_self": null,
            "border": null,
            "bottom": null,
            "display": null,
            "flex": null,
            "flex_flow": null,
            "grid_area": null,
            "grid_auto_columns": null,
            "grid_auto_flow": null,
            "grid_auto_rows": null,
            "grid_column": null,
            "grid_gap": null,
            "grid_row": null,
            "grid_template_areas": null,
            "grid_template_columns": null,
            "grid_template_rows": null,
            "height": null,
            "justify_content": null,
            "justify_items": null,
            "left": null,
            "margin": null,
            "max_height": null,
            "max_width": null,
            "min_height": null,
            "min_width": null,
            "object_fit": null,
            "object_position": null,
            "order": null,
            "overflow": null,
            "overflow_x": null,
            "overflow_y": null,
            "padding": null,
            "right": null,
            "top": null,
            "visibility": null,
            "width": null
          }
        },
        "421a50806a5a4a318ab37c5515f6565c": {
          "model_module": "@jupyter-widgets/controls",
          "model_name": "DescriptionStyleModel",
          "model_module_version": "1.5.0",
          "state": {
            "_model_module": "@jupyter-widgets/controls",
            "_model_module_version": "1.5.0",
            "_model_name": "DescriptionStyleModel",
            "_view_count": null,
            "_view_module": "@jupyter-widgets/base",
            "_view_module_version": "1.2.0",
            "_view_name": "StyleView",
            "description_width": ""
          }
        },
        "a551f113084444b09f8af7e89a280058": {
          "model_module": "@jupyter-widgets/base",
          "model_name": "LayoutModel",
          "model_module_version": "1.2.0",
          "state": {
            "_model_module": "@jupyter-widgets/base",
            "_model_module_version": "1.2.0",
            "_model_name": "LayoutModel",
            "_view_count": null,
            "_view_module": "@jupyter-widgets/base",
            "_view_module_version": "1.2.0",
            "_view_name": "LayoutView",
            "align_content": null,
            "align_items": null,
            "align_self": null,
            "border": null,
            "bottom": null,
            "display": null,
            "flex": null,
            "flex_flow": null,
            "grid_area": null,
            "grid_auto_columns": null,
            "grid_auto_flow": null,
            "grid_auto_rows": null,
            "grid_column": null,
            "grid_gap": null,
            "grid_row": null,
            "grid_template_areas": null,
            "grid_template_columns": null,
            "grid_template_rows": null,
            "height": null,
            "justify_content": null,
            "justify_items": null,
            "left": null,
            "margin": null,
            "max_height": null,
            "max_width": null,
            "min_height": null,
            "min_width": null,
            "object_fit": null,
            "object_position": null,
            "order": null,
            "overflow": null,
            "overflow_x": null,
            "overflow_y": null,
            "padding": null,
            "right": null,
            "top": null,
            "visibility": null,
            "width": null
          }
        },
        "80027cfb156d4d4b9ad0bbc61dab6fab": {
          "model_module": "@jupyter-widgets/controls",
          "model_name": "ProgressStyleModel",
          "model_module_version": "1.5.0",
          "state": {
            "_model_module": "@jupyter-widgets/controls",
            "_model_module_version": "1.5.0",
            "_model_name": "ProgressStyleModel",
            "_view_count": null,
            "_view_module": "@jupyter-widgets/base",
            "_view_module_version": "1.2.0",
            "_view_name": "StyleView",
            "bar_color": null,
            "description_width": ""
          }
        },
        "f4978b8a96024b37b0cdcde187a91e40": {
          "model_module": "@jupyter-widgets/base",
          "model_name": "LayoutModel",
          "model_module_version": "1.2.0",
          "state": {
            "_model_module": "@jupyter-widgets/base",
            "_model_module_version": "1.2.0",
            "_model_name": "LayoutModel",
            "_view_count": null,
            "_view_module": "@jupyter-widgets/base",
            "_view_module_version": "1.2.0",
            "_view_name": "LayoutView",
            "align_content": null,
            "align_items": null,
            "align_self": null,
            "border": null,
            "bottom": null,
            "display": null,
            "flex": null,
            "flex_flow": null,
            "grid_area": null,
            "grid_auto_columns": null,
            "grid_auto_flow": null,
            "grid_auto_rows": null,
            "grid_column": null,
            "grid_gap": null,
            "grid_row": null,
            "grid_template_areas": null,
            "grid_template_columns": null,
            "grid_template_rows": null,
            "height": null,
            "justify_content": null,
            "justify_items": null,
            "left": null,
            "margin": null,
            "max_height": null,
            "max_width": null,
            "min_height": null,
            "min_width": null,
            "object_fit": null,
            "object_position": null,
            "order": null,
            "overflow": null,
            "overflow_x": null,
            "overflow_y": null,
            "padding": null,
            "right": null,
            "top": null,
            "visibility": null,
            "width": null
          }
        },
        "effef6286e4c407186eae7ac351964d2": {
          "model_module": "@jupyter-widgets/controls",
          "model_name": "DescriptionStyleModel",
          "model_module_version": "1.5.0",
          "state": {
            "_model_module": "@jupyter-widgets/controls",
            "_model_module_version": "1.5.0",
            "_model_name": "DescriptionStyleModel",
            "_view_count": null,
            "_view_module": "@jupyter-widgets/base",
            "_view_module_version": "1.2.0",
            "_view_name": "StyleView",
            "description_width": ""
          }
        }
      }
    }
  },
  "cells": [
    {
      "cell_type": "markdown",
      "metadata": {
        "id": "view-in-github",
        "colab_type": "text"
      },
      "source": [
        "<a href=\"https://colab.research.google.com/github/davidraamirez/GradientWithoutBackpropagation/blob/main/NN_bwd_gradient.ipynb\" target=\"_parent\"><img src=\"https://colab.research.google.com/assets/colab-badge.svg\" alt=\"Open In Colab\"/></a>"
      ]
    },
    {
      "cell_type": "markdown",
      "source": [
        "# **Import the necessary packages**"
      ],
      "metadata": {
        "id": "yGl6CMfiC4Iv"
      }
    },
    {
      "cell_type": "code",
      "execution_count": 1,
      "metadata": {
        "id": "NCA45z_cHlZT"
      },
      "outputs": [],
      "source": [
        "import torch\n",
        "import tensorflow_datasets as tfds\n",
        "from sklearn.model_selection import train_test_split"
      ]
    },
    {
      "cell_type": "code",
      "source": [
        "import torchvision"
      ],
      "metadata": {
        "id": "fkP97m_iH51g"
      },
      "execution_count": 2,
      "outputs": []
    },
    {
      "cell_type": "code",
      "source": [
        "from torch import nn\n",
        "from torch.nn import functional as F"
      ],
      "metadata": {
        "id": "ObyMVAojDE31"
      },
      "execution_count": 3,
      "outputs": []
    },
    {
      "cell_type": "code",
      "source": [
        "import time "
      ],
      "metadata": {
        "id": "kK_WoG4bDJiS"
      },
      "execution_count": 4,
      "outputs": []
    },
    {
      "cell_type": "code",
      "source": [
        "import matplotlib.pyplot as plt"
      ],
      "metadata": {
        "id": "U8wE52seDOXF"
      },
      "execution_count": 5,
      "outputs": []
    },
    {
      "cell_type": "markdown",
      "source": [
        "# **Loading and preprocessing the data**"
      ],
      "metadata": {
        "id": "ELxBmU5bH9wU"
      }
    },
    {
      "cell_type": "code",
      "source": [
        "#Load the dataset\n",
        "penguins = tfds.load('penguins', as_supervised=True, split='train')"
      ],
      "metadata": {
        "id": "T-s6I3bnH9KP",
        "outputId": "7ebdc3ca-9d6a-484d-ba6a-52de79be0544",
        "colab": {
          "base_uri": "https://localhost:8080/",
          "height": 137,
          "referenced_widgets": [
            "200ec080932d4661bd547127a3c81917",
            "976d8177ac5347b29fb061df57332a8d",
            "11cb12bfd2c649dea44b447d71812403",
            "72c528543b1a41298029c0b4dfdf0a63",
            "19c03ac7d653417c8193f56299e339f7",
            "dbf9d21383d2436e8dbb41a7b70d017c",
            "fecf30e7f759404ab098acc8eeb18087",
            "d3ab289ce296498b8f1f353b22cb2fcb",
            "fbfe7497fb674a9ab2d1ecc4a8fe0f35",
            "0292b3fbe2f64e208f1deae78be783f0",
            "1e7e2c8b6443479bbda75312433f2b35",
            "099f8c2c2497438cbf1826b10e5218f3",
            "f54ca394019445d2b0abcad96779f7eb",
            "ddffbbfbd1944da18e76e74dc4404fb1",
            "14adb589cf704eeeadc099969d9351b8",
            "428e7ddff2e24360a152bbbfe7763b33",
            "39924becb92c45079b66a15220a53868",
            "d7c1aa6e2b714682ba04095b2d795ba4",
            "61e2e6faa8ce4615b3c0c600b773a08c",
            "74ca465a715a4d66ac38d83ad5760722",
            "224a6b43c1394fad846e40e0bd6d861b",
            "f3eb276bf9904886973ef20932f4e791",
            "bd81e28293424f599c2c2e007de7a5de",
            "f5ab0d24afab47c88a671db4591d96d2",
            "bd676795cf064443b2f5752848139668",
            "26107305db17412d88d89120240b1495",
            "ebd81ec131a04b15b40ce16a893bfc73",
            "1f61c1a1a55b4a86bf9922cb70e6f68d",
            "9b56355329f34c49969ca4574e48eae8",
            "1bd855726d9947328ac86916823b38fa",
            "0955abc9daa042c4a9bbc1cc18157c3e",
            "0ac4cd1e626c490c986c0408b86222e8",
            "c5bfe801de3347dba35e29c09675744f",
            "737a42da89ab48abb6ec9123cf528e2d",
            "916e8b96016c45149aa34c52aa509592",
            "98985fbdda514ee1a8f4041e8950faf0",
            "59b5db04105b44909eb515f82a4f1de7",
            "76437ce1aba44bfb9dded83e6136c428",
            "22e94649e5b544e78a3486f5a1b1c862",
            "73a73bc8f99541528469972e5c53ed86",
            "23f4bfe4c2e24f51a517f5b0cf7bb955",
            "48edffba218b4d7c88b31b6013cb08c5",
            "839d4a466d4549e8b2b44159846a0e03",
            "70f1fd1895e845c7a83eb636f9888795",
            "6d02d9501caa4a03ab1417263f26affd",
            "eaaba9f634dc436086d55df4742adee9",
            "fc7d19b0f827437884151ccc2c37e49e",
            "e1925ee36a764c359887353a913b149d",
            "6a743deef7a64671b029edbeffc998a7",
            "2e0ac77bdfcc4fe88e22719ced73227c",
            "421a50806a5a4a318ab37c5515f6565c",
            "a551f113084444b09f8af7e89a280058",
            "80027cfb156d4d4b9ad0bbc61dab6fab",
            "f4978b8a96024b37b0cdcde187a91e40",
            "effef6286e4c407186eae7ac351964d2"
          ]
        }
      },
      "execution_count": 6,
      "outputs": [
        {
          "output_type": "stream",
          "name": "stdout",
          "text": [
            "Downloading and preparing dataset 25.05 KiB (download: 25.05 KiB, generated: 17.61 KiB, total: 42.66 KiB) to /root/tensorflow_datasets/penguins/processed/1.0.0...\n"
          ]
        },
        {
          "output_type": "display_data",
          "data": {
            "text/plain": [
              "Dl Completed...: 0 url [00:00, ? url/s]"
            ],
            "application/vnd.jupyter.widget-view+json": {
              "version_major": 2,
              "version_minor": 0,
              "model_id": "200ec080932d4661bd547127a3c81917"
            }
          },
          "metadata": {}
        },
        {
          "output_type": "display_data",
          "data": {
            "text/plain": [
              "Dl Size...: 0 MiB [00:00, ? MiB/s]"
            ],
            "application/vnd.jupyter.widget-view+json": {
              "version_major": 2,
              "version_minor": 0,
              "model_id": "099f8c2c2497438cbf1826b10e5218f3"
            }
          },
          "metadata": {}
        },
        {
          "output_type": "display_data",
          "data": {
            "text/plain": [
              "Generating splits...:   0%|          | 0/1 [00:00<?, ? splits/s]"
            ],
            "application/vnd.jupyter.widget-view+json": {
              "version_major": 2,
              "version_minor": 0,
              "model_id": "bd81e28293424f599c2c2e007de7a5de"
            }
          },
          "metadata": {}
        },
        {
          "output_type": "display_data",
          "data": {
            "text/plain": [
              "Generating train examples...:   0%|          | 0/334 [00:00<?, ? examples/s]"
            ],
            "application/vnd.jupyter.widget-view+json": {
              "version_major": 2,
              "version_minor": 0,
              "model_id": "737a42da89ab48abb6ec9123cf528e2d"
            }
          },
          "metadata": {}
        },
        {
          "output_type": "display_data",
          "data": {
            "text/plain": [
              "Shuffling /root/tensorflow_datasets/penguins/processed/1.0.0.incompleteKYEQGD/penguins-train.tfrecord*...:   0…"
            ],
            "application/vnd.jupyter.widget-view+json": {
              "version_major": 2,
              "version_minor": 0,
              "model_id": "6d02d9501caa4a03ab1417263f26affd"
            }
          },
          "metadata": {}
        },
        {
          "output_type": "stream",
          "name": "stdout",
          "text": [
            "Dataset penguins downloaded and prepared to /root/tensorflow_datasets/penguins/processed/1.0.0. Subsequent calls will reuse this data.\n"
          ]
        }
      ]
    },
    {
      "cell_type": "code",
      "source": [
        "X, y = penguins.batch(500).get_single_element()\n",
        "X, y = X.numpy(), y.numpy()"
      ],
      "metadata": {
        "id": "cuQ1Xtd7IBi7"
      },
      "execution_count": 7,
      "outputs": []
    },
    {
      "cell_type": "code",
      "source": [
        "Xtrain, Xtest, ytrain, ytest = train_test_split(X, y, stratify=y)"
      ],
      "metadata": {
        "id": "0PH5mMXJIEBS"
      },
      "execution_count": 8,
      "outputs": []
    },
    {
      "cell_type": "code",
      "source": [
        "Xtrain = torch.from_numpy(Xtrain).float()\n",
        "Xtest = torch.from_numpy(Xtest).float()"
      ],
      "metadata": {
        "id": "vtuD1quIIGXh"
      },
      "execution_count": 9,
      "outputs": []
    },
    {
      "cell_type": "code",
      "source": [
        "ytrain = torch.from_numpy(ytrain).long()\n",
        "ytest = torch.from_numpy(ytest).long()"
      ],
      "metadata": {
        "id": "hvlRswvNIH5A"
      },
      "execution_count": 10,
      "outputs": []
    },
    {
      "cell_type": "markdown",
      "source": [
        "# **Define MultiLayer Neural Network**"
      ],
      "metadata": {
        "id": "gJu6veg7IKr7"
      }
    },
    {
      "cell_type": "code",
      "source": [
        "class MNN(nn.Module):\n",
        "  def __init__(self, input_size, fc1w, fc1b, fc2w, fc2b, fc3w, fc3b):\n",
        "    super().__init__()\n",
        "\n",
        "    self.w1 = nn.Parameter(fc1w)\n",
        "    self.b1 = nn.Parameter(fc1b)\n",
        "    \n",
        "    self.w2 = nn.Parameter(fc2w)\n",
        "    self.b2 = nn.Parameter(fc2b)\n",
        "\n",
        "    self.w3 = nn.Parameter(fc3w)\n",
        "    self.b3 = nn.Parameter(fc3b)\n",
        "\n",
        "  def forward(self, x):\n",
        "    x = F.relu(x@self.w1 + self.b1)\n",
        "    x = F.relu(x@self.w2 + self.b2)\n",
        "    x = x@self.w3 + self.b3\n",
        "    x = x.reshape(1, -1)\n",
        "\n",
        "    return torch.softmax(x, 1)"
      ],
      "metadata": {
        "id": "pbJ4P5fdIQr0"
      },
      "execution_count": 11,
      "outputs": []
    },
    {
      "cell_type": "code",
      "source": [
        "# We check if CUDA is available\n",
        "device = 'cuda' if torch.cuda.is_available() else 'cpu'\n",
        "print(device)"
      ],
      "metadata": {
        "colab": {
          "base_uri": "https://localhost:8080/"
        },
        "id": "bgYMD_SpIVHn",
        "outputId": "da3aa9c6-fa7e-47ee-a857-d1a19957137f"
      },
      "execution_count": 12,
      "outputs": [
        {
          "output_type": "stream",
          "name": "stdout",
          "text": [
            "cuda\n"
          ]
        }
      ]
    },
    {
      "cell_type": "markdown",
      "source": [
        "# **Initialize the parameters**"
      ],
      "metadata": {
        "id": "-WZ0DUonIfaD"
      }
    },
    {
      "cell_type": "code",
      "source": [
        "# We initialize the parameters randomly with values in [-1, 1] and the model with an input size\n",
        "fc1w = torch.FloatTensor(4, 64).uniform_(-1, 1)\n",
        "fc1b = torch.FloatTensor(64).uniform_(-1, 1)\n",
        "fc2w = torch.FloatTensor(64, 8).uniform_(-1, 1)\n",
        "fc2b = torch.FloatTensor(8).uniform_(-1, 1)\n",
        "fc3w = torch.FloatTensor(8, 3).uniform_(-1, 1)\n",
        "fc3b = torch.FloatTensor(3).uniform_(-1, 1)\n",
        "mnn = MNN(4, fc1w, fc1b, fc2w, fc2b, fc3w, fc3b).to(device)"
      ],
      "metadata": {
        "id": "SYOnVLTmIXdG"
      },
      "execution_count": 13,
      "outputs": []
    },
    {
      "cell_type": "code",
      "source": [
        "# We try our model with the first example\n",
        "print(mnn(Xtrain[0].to(device)))"
      ],
      "metadata": {
        "colab": {
          "base_uri": "https://localhost:8080/"
        },
        "id": "mLUqJQNfIqlh",
        "outputId": "3e13b676-2097-4a52-dff3-b76a0c6cdbb9"
      },
      "execution_count": 14,
      "outputs": [
        {
          "output_type": "stream",
          "name": "stdout",
          "text": [
            "tensor([[0.4935, 0.4976, 0.0089]], device='cuda:0', grad_fn=<SoftmaxBackward0>)\n"
          ]
        }
      ]
    },
    {
      "cell_type": "markdown",
      "source": [
        "Calculate predictions"
      ],
      "metadata": {
        "id": "R-eC6x1-MmSJ"
      }
    },
    {
      "cell_type": "code",
      "source": [
        "def pred(x, fc1w, fc1b, fc2w, fc2b, fc3w, fc3b):\n",
        "  ypred=torch.randn((x.shape[0],3))\n",
        "  for j in range (x.shape[0]):\n",
        "    xj = x[j]\n",
        "    xj = F.relu(xj@fc1w + fc1b)\n",
        "    xj = F.relu(xj@fc2w + fc2b)\n",
        "    xj = xj@fc3w + fc3b\n",
        "    xj = xj.reshape(1, -1)\n",
        "    ypred[j]=torch.softmax(xj, 1)\n",
        "  return ypred"
      ],
      "metadata": {
        "id": "qcyLR4WvMlvk"
      },
      "execution_count": 15,
      "outputs": []
    },
    {
      "cell_type": "code",
      "source": [
        "ypred = pred(Xtrain, fc1w, fc1b, fc2w, fc2b, fc3w, fc3b)"
      ],
      "metadata": {
        "id": "oKdzTEYvD6R5"
      },
      "execution_count": 16,
      "outputs": []
    },
    {
      "cell_type": "markdown",
      "source": [
        "# **Define accuracy**"
      ],
      "metadata": {
        "id": "fzyisWuVIupc"
      }
    },
    {
      "cell_type": "code",
      "source": [
        "def accuracy(ytrue, ypred):\n",
        "  return (ypred.argmax(1) == ytrue).float().mean()"
      ],
      "metadata": {
        "id": "ioaEGAO3IuCH"
      },
      "execution_count": 17,
      "outputs": []
    },
    {
      "cell_type": "code",
      "source": [
        "# Average accuracy at initialization is 33% (random guessing).\n",
        "accuracy(ytrain.to(device), ypred.to(device))"
      ],
      "metadata": {
        "colab": {
          "base_uri": "https://localhost:8080/"
        },
        "id": "_hLyMMWtI3Z3",
        "outputId": "fc4cd248-7848-42dc-d5a6-118230e92f70"
      },
      "execution_count": 18,
      "outputs": [
        {
          "output_type": "execute_result",
          "data": {
            "text/plain": [
              "tensor(0.0920, device='cuda:0')"
            ]
          },
          "metadata": {},
          "execution_count": 18
        }
      ]
    },
    {
      "cell_type": "markdown",
      "source": [
        "# **Define Cross-Entropy**"
      ],
      "metadata": {
        "id": "3wPhpwJJI_WN"
      }
    },
    {
      "cell_type": "code",
      "source": [
        "def cross_entropy(ytrue, ypred):\n",
        "  return - ypred[torch.arange(0, ypred.shape[0]), ytrue].log().mean()"
      ],
      "metadata": {
        "id": "IQzUZcnDI-7y"
      },
      "execution_count": 19,
      "outputs": []
    },
    {
      "cell_type": "code",
      "source": [
        "# Cross_entropy at initialization\n",
        "print(cross_entropy(ytrain.to(device), ypred.to(device)))"
      ],
      "metadata": {
        "colab": {
          "base_uri": "https://localhost:8080/"
        },
        "id": "VW2g1_1HI8Hz",
        "outputId": "79ac73ee-c7b4-49b5-bee9-6e378a394de1"
      },
      "execution_count": 20,
      "outputs": [
        {
          "output_type": "stream",
          "name": "stdout",
          "text": [
            "tensor(4.4963, device='cuda:0')\n"
          ]
        }
      ]
    },
    {
      "cell_type": "markdown",
      "source": [
        "Define error"
      ],
      "metadata": {
        "id": "UPOACxrTEkxC"
      }
    },
    {
      "cell_type": "code",
      "source": [
        "def error(ytrue, model, x):\n",
        "  error=0\n",
        "  for i in range (ytrue.size(0)):\n",
        "    ypredi = model(x[i])\n",
        "    if (ypredi.argmax(1)- ytrue[i])!=0:\n",
        "      error = error+ 1\n",
        "  return error"
      ],
      "metadata": {
        "id": "jeNZF1Y4EmL0"
      },
      "execution_count": 21,
      "outputs": []
    },
    {
      "cell_type": "markdown",
      "source": [
        "# **Train and evaluate the network**"
      ],
      "metadata": {
        "id": "smaySELkJTLB"
      }
    },
    {
      "cell_type": "code",
      "source": [
        "def train_bwd_gradient(x, y):\n",
        "  x, y = x.to(device), y.to(device)\n",
        "\n",
        "  losses = [] #Vector with the cross_entropy values of the test set\n",
        "  accuracies = [] #Vector with the accuracy values of the test set\n",
        "  errors = [] #Vector with the number of misclassifications of the test set\n",
        "\n",
        "  l_rate0 = 0.05 #Learning rate used\n",
        "\n",
        "  #Initialize the parameters\n",
        "  fc1w = torch.FloatTensor(4, 64).uniform_(-1, 1).requires_grad_(True)\n",
        "  fc1b = torch.FloatTensor(64).uniform_(-1, 1).requires_grad_(True)\n",
        "  fc2w = torch.FloatTensor(64, 8).uniform_(-1, 1).requires_grad_(True)\n",
        "  fc2b = torch.FloatTensor(8).uniform_(-1, 1).requires_grad_(True)\n",
        "  fc3w = torch.FloatTensor(8, 3).uniform_(-1, 1).requires_grad_(True)\n",
        "  fc3b = torch.FloatTensor(3).uniform_(-1, 1).requires_grad_(True)\n",
        "\n",
        "  ypred = pred(x, fc1w.to(device), fc1b.to(device), fc2w.to(device), fc2b.to(device), fc3w.to(device), fc3b.to(device))\n",
        "  ypred = ypred.to(device)\n",
        "  loss = cross_entropy(y, ypred) # Loss function\n",
        "\n",
        "  it=0\n",
        "  t = 0\n",
        "  t0 = time.time()\n",
        "\n",
        "  while loss>0.2:\n",
        "\n",
        "    #Compute the gradients\n",
        "    loss.backward()\n",
        "\n",
        "    with torch.no_grad():\n",
        "\n",
        "      #Apply gradients\n",
        "      fc1w -= l_rate0*fc1w.grad\n",
        "      fc1b -= l_rate0*fc1b.grad\n",
        "      fc2w -= l_rate0*fc2w.grad\n",
        "      fc2b -= l_rate0*fc2b.grad\n",
        "      fc3w -= l_rate0*fc3w.grad\n",
        "      fc3b -= l_rate0*fc3b.grad\n",
        "\n",
        "      # Gradients are accumulated: we need to zero them out before the next iteration\n",
        "      fc1w.grad.zero_()\n",
        "      fc1b.grad.zero_()\n",
        "      fc2w.grad.zero_()\n",
        "      fc2b.grad.zero_()\n",
        "      fc3w.grad.zero_()\n",
        "      fc3b.grad.zero_()\n",
        "\n",
        "\n",
        "    # We calculate the number of the misclassfications of the test set with the updated model and we add it to the errors vector\n",
        "    mnn = MNN(4, fc1w, fc1b, fc2w, fc2b, fc3w, fc3b).to(device)\n",
        "    ypredT = pred(Xtest.to(device), fc1w.to(device), fc1b.to(device), fc2w.to(device), fc2b.to(device), fc3w.to(device), fc3b.to(device))\n",
        "    ypredT = ypredT.to(device)\n",
        "    errors.append(error(ytest.to(device), mnn, Xtest.to(device)))\n",
        "\n",
        "    # We calculate the cross_entropy of the test set with the updated model and we add it to the losses vector\n",
        "    loss = cross_entropy(ytest.to(device), ypredT)\n",
        "    losses.append(loss.cpu())\n",
        "\n",
        "    # We calculate the accuracy of the test set with the updated model and we add it to the accuracies vector\n",
        "    accuracies.append(accuracy(ytest.to(device), ypredT).item())\n",
        "\n",
        "    t1=time.time()\n",
        "    t+=t1-t0\n",
        "    t0=t1\n",
        "    it+=1\n",
        "    print('Time', t, 'loss', loss)\n",
        "    \n",
        "  print('Final execution time', t)  \n",
        "  print('Number of iterations', it)\n",
        "  print('Mean execution time of an iteration', t/it)\n",
        "  return fc1w, fc1b, fc2w, fc2b, fc3w, fc3b, losses, accuracies, errors"
      ],
      "metadata": {
        "id": "QcHl0gbcJLFO"
      },
      "execution_count": 22,
      "outputs": []
    },
    {
      "cell_type": "code",
      "source": [
        "fc1w, fc1b, fc2w, fc2b, fc3w, fc3b, losses, accuracies, errors = train_bwd_gradient(Xtrain, ytrain)"
      ],
      "metadata": {
        "colab": {
          "base_uri": "https://localhost:8080/"
        },
        "id": "5NeXOGQfOT94",
        "outputId": "2056f365-ada1-4259-f272-ceeb6948400b"
      },
      "execution_count": 28,
      "outputs": [
        {
          "output_type": "stream",
          "name": "stdout",
          "text": [
            "Time 0.10811114311218262 loss tensor(1.1648, device='cuda:0', grad_fn=<NegBackward0>)\n",
            "Time 0.1711592674255371 loss tensor(1.0874, device='cuda:0', grad_fn=<NegBackward0>)\n",
            "Time 0.24172759056091309 loss tensor(1.0506, device='cuda:0', grad_fn=<NegBackward0>)\n",
            "Time 0.30800890922546387 loss tensor(1.0321, device='cuda:0', grad_fn=<NegBackward0>)\n",
            "Time 0.37680578231811523 loss tensor(1.0121, device='cuda:0', grad_fn=<NegBackward0>)\n",
            "Time 0.43991565704345703 loss tensor(0.9952, device='cuda:0', grad_fn=<NegBackward0>)\n",
            "Time 0.5055141448974609 loss tensor(0.9779, device='cuda:0', grad_fn=<NegBackward0>)\n",
            "Time 0.5723657608032227 loss tensor(0.9590, device='cuda:0', grad_fn=<NegBackward0>)\n",
            "Time 0.642909049987793 loss tensor(0.9350, device='cuda:0', grad_fn=<NegBackward0>)\n",
            "Time 0.7110588550567627 loss tensor(0.9060, device='cuda:0', grad_fn=<NegBackward0>)\n",
            "Time 0.7779233455657959 loss tensor(0.8800, device='cuda:0', grad_fn=<NegBackward0>)\n",
            "Time 0.8408472537994385 loss tensor(0.8550, device='cuda:0', grad_fn=<NegBackward0>)\n",
            "Time 0.9049270153045654 loss tensor(0.8336, device='cuda:0', grad_fn=<NegBackward0>)\n",
            "Time 0.9702482223510742 loss tensor(0.8137, device='cuda:0', grad_fn=<NegBackward0>)\n",
            "Time 1.0387444496154785 loss tensor(0.7944, device='cuda:0', grad_fn=<NegBackward0>)\n",
            "Time 1.1036877632141113 loss tensor(0.7758, device='cuda:0', grad_fn=<NegBackward0>)\n",
            "Time 1.1658494472503662 loss tensor(0.7579, device='cuda:0', grad_fn=<NegBackward0>)\n",
            "Time 1.2345101833343506 loss tensor(0.7406, device='cuda:0', grad_fn=<NegBackward0>)\n",
            "Time 1.2998912334442139 loss tensor(0.7240, device='cuda:0', grad_fn=<NegBackward0>)\n",
            "Time 1.3637197017669678 loss tensor(0.7081, device='cuda:0', grad_fn=<NegBackward0>)\n",
            "Time 1.4261689186096191 loss tensor(0.6929, device='cuda:0', grad_fn=<NegBackward0>)\n",
            "Time 1.488734245300293 loss tensor(0.6785, device='cuda:0', grad_fn=<NegBackward0>)\n",
            "Time 1.5567715167999268 loss tensor(0.6647, device='cuda:0', grad_fn=<NegBackward0>)\n",
            "Time 1.6268186569213867 loss tensor(0.6515, device='cuda:0', grad_fn=<NegBackward0>)\n",
            "Time 1.6921777725219727 loss tensor(0.6389, device='cuda:0', grad_fn=<NegBackward0>)\n",
            "Time 1.7585904598236084 loss tensor(0.6269, device='cuda:0', grad_fn=<NegBackward0>)\n",
            "Time 1.8282794952392578 loss tensor(0.6154, device='cuda:0', grad_fn=<NegBackward0>)\n",
            "Time 1.8915274143218994 loss tensor(0.6046, device='cuda:0', grad_fn=<NegBackward0>)\n",
            "Time 1.9589734077453613 loss tensor(0.5943, device='cuda:0', grad_fn=<NegBackward0>)\n",
            "Time 2.023858070373535 loss tensor(0.5844, device='cuda:0', grad_fn=<NegBackward0>)\n",
            "Time 2.086632490158081 loss tensor(0.5751, device='cuda:0', grad_fn=<NegBackward0>)\n",
            "Time 2.155350685119629 loss tensor(0.5662, device='cuda:0', grad_fn=<NegBackward0>)\n",
            "Time 2.219651699066162 loss tensor(0.5578, device='cuda:0', grad_fn=<NegBackward0>)\n",
            "Time 2.297832727432251 loss tensor(0.5497, device='cuda:0', grad_fn=<NegBackward0>)\n",
            "Time 2.3634562492370605 loss tensor(0.5421, device='cuda:0', grad_fn=<NegBackward0>)\n",
            "Time 2.4281020164489746 loss tensor(0.5348, device='cuda:0', grad_fn=<NegBackward0>)\n",
            "Time 2.491485118865967 loss tensor(0.5278, device='cuda:0', grad_fn=<NegBackward0>)\n",
            "Time 2.562067747116089 loss tensor(0.5211, device='cuda:0', grad_fn=<NegBackward0>)\n",
            "Time 2.6330957412719727 loss tensor(0.5147, device='cuda:0', grad_fn=<NegBackward0>)\n",
            "Time 2.6968212127685547 loss tensor(0.5087, device='cuda:0', grad_fn=<NegBackward0>)\n",
            "Time 2.7611234188079834 loss tensor(0.5028, device='cuda:0', grad_fn=<NegBackward0>)\n",
            "Time 2.8290815353393555 loss tensor(0.4972, device='cuda:0', grad_fn=<NegBackward0>)\n",
            "Time 2.892634868621826 loss tensor(0.4918, device='cuda:0', grad_fn=<NegBackward0>)\n",
            "Time 2.9565234184265137 loss tensor(0.4867, device='cuda:0', grad_fn=<NegBackward0>)\n",
            "Time 3.025656223297119 loss tensor(0.4818, device='cuda:0', grad_fn=<NegBackward0>)\n",
            "Time 3.0908894538879395 loss tensor(0.4771, device='cuda:0', grad_fn=<NegBackward0>)\n",
            "Time 3.152069091796875 loss tensor(0.4726, device='cuda:0', grad_fn=<NegBackward0>)\n",
            "Time 3.215331554412842 loss tensor(0.4683, device='cuda:0', grad_fn=<NegBackward0>)\n",
            "Time 3.2898504734039307 loss tensor(0.4642, device='cuda:0', grad_fn=<NegBackward0>)\n",
            "Time 3.354633331298828 loss tensor(0.4601, device='cuda:0', grad_fn=<NegBackward0>)\n",
            "Time 3.4182703495025635 loss tensor(0.4562, device='cuda:0', grad_fn=<NegBackward0>)\n",
            "Time 3.4839344024658203 loss tensor(0.4524, device='cuda:0', grad_fn=<NegBackward0>)\n",
            "Time 3.5490965843200684 loss tensor(0.4487, device='cuda:0', grad_fn=<NegBackward0>)\n",
            "Time 3.6183054447174072 loss tensor(0.4451, device='cuda:0', grad_fn=<NegBackward0>)\n",
            "Time 3.6915512084960938 loss tensor(0.4417, device='cuda:0', grad_fn=<NegBackward0>)\n",
            "Time 3.761521100997925 loss tensor(0.4383, device='cuda:0', grad_fn=<NegBackward0>)\n",
            "Time 3.828559160232544 loss tensor(0.4350, device='cuda:0', grad_fn=<NegBackward0>)\n",
            "Time 3.9041249752044678 loss tensor(0.4319, device='cuda:0', grad_fn=<NegBackward0>)\n",
            "Time 3.974381685256958 loss tensor(0.4288, device='cuda:0', grad_fn=<NegBackward0>)\n",
            "Time 4.0403151512146 loss tensor(0.4257, device='cuda:0', grad_fn=<NegBackward0>)\n",
            "Time 4.108285427093506 loss tensor(0.4227, device='cuda:0', grad_fn=<NegBackward0>)\n",
            "Time 4.171244859695435 loss tensor(0.4198, device='cuda:0', grad_fn=<NegBackward0>)\n",
            "Time 4.235004425048828 loss tensor(0.4169, device='cuda:0', grad_fn=<NegBackward0>)\n",
            "Time 4.30563497543335 loss tensor(0.4141, device='cuda:0', grad_fn=<NegBackward0>)\n",
            "Time 4.374398469924927 loss tensor(0.4113, device='cuda:0', grad_fn=<NegBackward0>)\n",
            "Time 4.443867921829224 loss tensor(0.4085, device='cuda:0', grad_fn=<NegBackward0>)\n",
            "Time 4.507728576660156 loss tensor(0.4059, device='cuda:0', grad_fn=<NegBackward0>)\n",
            "Time 4.570880651473999 loss tensor(0.4032, device='cuda:0', grad_fn=<NegBackward0>)\n",
            "Time 4.634121894836426 loss tensor(0.4005, device='cuda:0', grad_fn=<NegBackward0>)\n",
            "Time 4.708780288696289 loss tensor(0.3979, device='cuda:0', grad_fn=<NegBackward0>)\n",
            "Time 4.772134780883789 loss tensor(0.3953, device='cuda:0', grad_fn=<NegBackward0>)\n",
            "Time 4.836777448654175 loss tensor(0.3927, device='cuda:0', grad_fn=<NegBackward0>)\n",
            "Time 4.899793863296509 loss tensor(0.3901, device='cuda:0', grad_fn=<NegBackward0>)\n",
            "Time 4.971786975860596 loss tensor(0.3876, device='cuda:0', grad_fn=<NegBackward0>)\n",
            "Time 5.039352655410767 loss tensor(0.3851, device='cuda:0', grad_fn=<NegBackward0>)\n",
            "Time 5.102715015411377 loss tensor(0.3826, device='cuda:0', grad_fn=<NegBackward0>)\n",
            "Time 5.1656084060668945 loss tensor(0.3801, device='cuda:0', grad_fn=<NegBackward0>)\n",
            "Time 5.23060154914856 loss tensor(0.3776, device='cuda:0', grad_fn=<NegBackward0>)\n",
            "Time 5.295561075210571 loss tensor(0.3751, device='cuda:0', grad_fn=<NegBackward0>)\n",
            "Time 5.370301008224487 loss tensor(0.3726, device='cuda:0', grad_fn=<NegBackward0>)\n",
            "Time 5.439874887466431 loss tensor(0.3702, device='cuda:0', grad_fn=<NegBackward0>)\n",
            "Time 5.505075454711914 loss tensor(0.3677, device='cuda:0', grad_fn=<NegBackward0>)\n",
            "Time 5.569054841995239 loss tensor(0.3653, device='cuda:0', grad_fn=<NegBackward0>)\n",
            "Time 5.636301517486572 loss tensor(0.3628, device='cuda:0', grad_fn=<NegBackward0>)\n",
            "Time 5.702553987503052 loss tensor(0.3604, device='cuda:0', grad_fn=<NegBackward0>)\n",
            "Time 5.769113540649414 loss tensor(0.3579, device='cuda:0', grad_fn=<NegBackward0>)\n",
            "Time 5.831826210021973 loss tensor(0.3555, device='cuda:0', grad_fn=<NegBackward0>)\n",
            "Time 5.89910101890564 loss tensor(0.3531, device='cuda:0', grad_fn=<NegBackward0>)\n",
            "Time 5.970630645751953 loss tensor(0.3507, device='cuda:0', grad_fn=<NegBackward0>)\n",
            "Time 6.0345354080200195 loss tensor(0.3483, device='cuda:0', grad_fn=<NegBackward0>)\n",
            "Time 6.098291873931885 loss tensor(0.3459, device='cuda:0', grad_fn=<NegBackward0>)\n",
            "Time 6.1621599197387695 loss tensor(0.3434, device='cuda:0', grad_fn=<NegBackward0>)\n",
            "Time 6.229139804840088 loss tensor(0.3411, device='cuda:0', grad_fn=<NegBackward0>)\n",
            "Time 6.291900634765625 loss tensor(0.3386, device='cuda:0', grad_fn=<NegBackward0>)\n",
            "Time 6.3630030155181885 loss tensor(0.3362, device='cuda:0', grad_fn=<NegBackward0>)\n",
            "Time 6.425895690917969 loss tensor(0.3338, device='cuda:0', grad_fn=<NegBackward0>)\n",
            "Time 6.499733209609985 loss tensor(0.3314, device='cuda:0', grad_fn=<NegBackward0>)\n",
            "Time 6.565998077392578 loss tensor(0.3290, device='cuda:0', grad_fn=<NegBackward0>)\n",
            "Time 6.6315672397613525 loss tensor(0.3266, device='cuda:0', grad_fn=<NegBackward0>)\n",
            "Time 6.695327043533325 loss tensor(0.3243, device='cuda:0', grad_fn=<NegBackward0>)\n",
            "Time 6.78547739982605 loss tensor(0.3219, device='cuda:0', grad_fn=<NegBackward0>)\n",
            "Time 6.895230054855347 loss tensor(0.3195, device='cuda:0', grad_fn=<NegBackward0>)\n",
            "Time 6.992926120758057 loss tensor(0.3171, device='cuda:0', grad_fn=<NegBackward0>)\n",
            "Time 7.091735363006592 loss tensor(0.3147, device='cuda:0', grad_fn=<NegBackward0>)\n",
            "Time 7.184784173965454 loss tensor(0.3123, device='cuda:0', grad_fn=<NegBackward0>)\n",
            "Time 7.275442600250244 loss tensor(0.3100, device='cuda:0', grad_fn=<NegBackward0>)\n",
            "Time 7.368250608444214 loss tensor(0.3076, device='cuda:0', grad_fn=<NegBackward0>)\n",
            "Time 7.455891847610474 loss tensor(0.3053, device='cuda:0', grad_fn=<NegBackward0>)\n",
            "Time 7.551825284957886 loss tensor(0.3029, device='cuda:0', grad_fn=<NegBackward0>)\n",
            "Time 7.643437623977661 loss tensor(0.3006, device='cuda:0', grad_fn=<NegBackward0>)\n",
            "Time 7.748348236083984 loss tensor(0.2982, device='cuda:0', grad_fn=<NegBackward0>)\n",
            "Time 7.839799404144287 loss tensor(0.2959, device='cuda:0', grad_fn=<NegBackward0>)\n",
            "Time 7.933448791503906 loss tensor(0.2935, device='cuda:0', grad_fn=<NegBackward0>)\n",
            "Time 8.025158166885376 loss tensor(0.2912, device='cuda:0', grad_fn=<NegBackward0>)\n",
            "Time 8.120356321334839 loss tensor(0.2889, device='cuda:0', grad_fn=<NegBackward0>)\n",
            "Time 8.206553936004639 loss tensor(0.2866, device='cuda:0', grad_fn=<NegBackward0>)\n",
            "Time 8.291620254516602 loss tensor(0.2843, device='cuda:0', grad_fn=<NegBackward0>)\n",
            "Time 8.388912200927734 loss tensor(0.2821, device='cuda:0', grad_fn=<NegBackward0>)\n",
            "Time 8.483040809631348 loss tensor(0.2798, device='cuda:0', grad_fn=<NegBackward0>)\n",
            "Time 8.590183019638062 loss tensor(0.2775, device='cuda:0', grad_fn=<NegBackward0>)\n",
            "Time 8.69837760925293 loss tensor(0.2752, device='cuda:0', grad_fn=<NegBackward0>)\n",
            "Time 8.792705297470093 loss tensor(0.2730, device='cuda:0', grad_fn=<NegBackward0>)\n",
            "Time 8.864154577255249 loss tensor(0.2707, device='cuda:0', grad_fn=<NegBackward0>)\n",
            "Time 8.930457592010498 loss tensor(0.2685, device='cuda:0', grad_fn=<NegBackward0>)\n",
            "Time 8.995358228683472 loss tensor(0.2663, device='cuda:0', grad_fn=<NegBackward0>)\n",
            "Time 9.05849838256836 loss tensor(0.2641, device='cuda:0', grad_fn=<NegBackward0>)\n",
            "Time 9.125995874404907 loss tensor(0.2620, device='cuda:0', grad_fn=<NegBackward0>)\n",
            "Time 9.191099643707275 loss tensor(0.2598, device='cuda:0', grad_fn=<NegBackward0>)\n",
            "Time 9.253681659698486 loss tensor(0.2576, device='cuda:0', grad_fn=<NegBackward0>)\n",
            "Time 9.315100908279419 loss tensor(0.2555, device='cuda:0', grad_fn=<NegBackward0>)\n",
            "Time 9.386887788772583 loss tensor(0.2533, device='cuda:0', grad_fn=<NegBackward0>)\n",
            "Time 9.458438158035278 loss tensor(0.2512, device='cuda:0', grad_fn=<NegBackward0>)\n",
            "Time 9.528860569000244 loss tensor(0.2491, device='cuda:0', grad_fn=<NegBackward0>)\n",
            "Time 9.604596853256226 loss tensor(0.2470, device='cuda:0', grad_fn=<NegBackward0>)\n",
            "Time 9.669455766677856 loss tensor(0.2450, device='cuda:0', grad_fn=<NegBackward0>)\n",
            "Time 9.736077308654785 loss tensor(0.2429, device='cuda:0', grad_fn=<NegBackward0>)\n",
            "Time 9.814003705978394 loss tensor(0.2408, device='cuda:0', grad_fn=<NegBackward0>)\n",
            "Time 9.878331899642944 loss tensor(0.2388, device='cuda:0', grad_fn=<NegBackward0>)\n",
            "Time 9.94546627998352 loss tensor(0.2368, device='cuda:0', grad_fn=<NegBackward0>)\n",
            "Time 10.00695514678955 loss tensor(0.2348, device='cuda:0', grad_fn=<NegBackward0>)\n",
            "Time 10.072731971740723 loss tensor(0.2327, device='cuda:0', grad_fn=<NegBackward0>)\n",
            "Time 10.138240814208984 loss tensor(0.2308, device='cuda:0', grad_fn=<NegBackward0>)\n",
            "Time 10.201281309127808 loss tensor(0.2288, device='cuda:0', grad_fn=<NegBackward0>)\n",
            "Time 10.266042947769165 loss tensor(0.2268, device='cuda:0', grad_fn=<NegBackward0>)\n",
            "Time 10.333275079727173 loss tensor(0.2249, device='cuda:0', grad_fn=<NegBackward0>)\n",
            "Time 10.396817445755005 loss tensor(0.2230, device='cuda:0', grad_fn=<NegBackward0>)\n",
            "Time 10.469268560409546 loss tensor(0.2211, device='cuda:0', grad_fn=<NegBackward0>)\n",
            "Time 10.532788276672363 loss tensor(0.2193, device='cuda:0', grad_fn=<NegBackward0>)\n",
            "Time 10.598416090011597 loss tensor(0.2174, device='cuda:0', grad_fn=<NegBackward0>)\n",
            "Time 10.665582656860352 loss tensor(0.2156, device='cuda:0', grad_fn=<NegBackward0>)\n",
            "Time 10.73179292678833 loss tensor(0.2138, device='cuda:0', grad_fn=<NegBackward0>)\n",
            "Time 10.801079511642456 loss tensor(0.2120, device='cuda:0', grad_fn=<NegBackward0>)\n",
            "Time 10.865392684936523 loss tensor(0.2103, device='cuda:0', grad_fn=<NegBackward0>)\n",
            "Time 10.931363582611084 loss tensor(0.2085, device='cuda:0', grad_fn=<NegBackward0>)\n",
            "Time 11.013799905776978 loss tensor(0.2068, device='cuda:0', grad_fn=<NegBackward0>)\n",
            "Time 11.084236145019531 loss tensor(0.2051, device='cuda:0', grad_fn=<NegBackward0>)\n",
            "Time 11.150107383728027 loss tensor(0.2033, device='cuda:0', grad_fn=<NegBackward0>)\n",
            "Time 11.214152097702026 loss tensor(0.2016, device='cuda:0', grad_fn=<NegBackward0>)\n",
            "Time 11.286123991012573 loss tensor(0.2000, device='cuda:0', grad_fn=<NegBackward0>)\n",
            "Final execution time 11.286123991012573\n",
            "Number of iterations 159\n",
            "Mean execution time of an iteration 0.07098191189316083\n"
          ]
        }
      ]
    },
    {
      "cell_type": "code",
      "source": [
        "with torch.no_grad():\n",
        "  plt.plot(losses)"
      ],
      "metadata": {
        "colab": {
          "base_uri": "https://localhost:8080/",
          "height": 269
        },
        "id": "qNkA3hnSMVzm",
        "outputId": "ed12cbff-0e50-4708-8803-c36605e33631"
      },
      "execution_count": 24,
      "outputs": [
        {
          "output_type": "display_data",
          "data": {
            "text/plain": [
              "<Figure size 432x288 with 1 Axes>"
            ],
            "image/png": "[encoded data removed]"
          },
          "metadata": {
            "needs_background": "light"
          }
        }
      ]
    },
    {
      "cell_type": "code",
      "source": [
        "plt.plot(accuracies)"
      ],
      "metadata": {
        "colab": {
          "base_uri": "https://localhost:8080/",
          "height": 283
        },
        "id": "AOss-YzXMYJz",
        "outputId": "fbaab84b-331b-41a6-8147-0d2c32b9ad0d"
      },
      "execution_count": 25,
      "outputs": [
        {
          "output_type": "execute_result",
          "data": {
            "text/plain": [
              "[<matplotlib.lines.Line2D at 0x7fc7d014af10>]"
            ]
          },
          "metadata": {},
          "execution_count": 25
        },
        {
          "output_type": "display_data",
          "data": {
            "text/plain": [
              "<Figure size 432x288 with 1 Axes>"
            ],
            "image/png": "[encoded data removed]"
          },
          "metadata": {
            "needs_background": "light"
          }
        }
      ]
    },
    {
      "cell_type": "code",
      "source": [
        "plt.plot(errors)"
      ],
      "metadata": {
        "colab": {
          "base_uri": "https://localhost:8080/",
          "height": 283
        },
        "id": "vRrwEVroUjfL",
        "outputId": "fe49d52c-f12c-46c0-bbda-f782b64bc068"
      },
      "execution_count": 26,
      "outputs": [
        {
          "output_type": "execute_result",
          "data": {
            "text/plain": [
              "[<matplotlib.lines.Line2D at 0x7fc7d0132940>]"
            ]
          },
          "metadata": {},
          "execution_count": 26
        },
        {
          "output_type": "display_data",
          "data": {
            "text/plain": [
              "<Figure size 432x288 with 1 Axes>"
            ],
            "image/png": "[encoded data removed]"
          },
          "metadata": {
            "needs_background": "light"
          }
        }
      ]
    }
  ]
}