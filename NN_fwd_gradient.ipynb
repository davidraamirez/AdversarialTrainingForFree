{
  "nbformat": 4,
  "nbformat_minor": 0,
  "metadata": {
    "colab": {
      "provenance": [],
      "include_colab_link": true
    },
    "kernelspec": {
      "name": "python3",
      "display_name": "Python 3"
    },
    "language_info": {
      "name": "python"
    },
    "widgets": {
      "application/vnd.jupyter.widget-state+json": {
        "780ee16a7ab04820b16386f0fce564b9": {
          "model_module": "@jupyter-widgets/controls",
          "model_name": "HBoxModel",
          "model_module_version": "1.5.0",
          "state": {
            "_dom_classes": [],
            "_model_module": "@jupyter-widgets/controls",
            "_model_module_version": "1.5.0",
            "_model_name": "HBoxModel",
            "_view_count": null,
            "_view_module": "@jupyter-widgets/controls",
            "_view_module_version": "1.5.0",
            "_view_name": "HBoxView",
            "box_style": "",
            "children": [
              "IPY_MODEL_017b4b9537194e17b4974777452f4161",
              "IPY_MODEL_da5e4076f1004c969b096d9e89b71034",
              "IPY_MODEL_6d90c42e5a864fef944f63356cad2fc2"
            ],
            "layout": "IPY_MODEL_013138fa82154a1b911ee6250ec9f741"
          }
        },
        "017b4b9537194e17b4974777452f4161": {
          "model_module": "@jupyter-widgets/controls",
          "model_name": "HTMLModel",
          "model_module_version": "1.5.0",
          "state": {
            "_dom_classes": [],
            "_model_module": "@jupyter-widgets/controls",
            "_model_module_version": "1.5.0",
            "_model_name": "HTMLModel",
            "_view_count": null,
            "_view_module": "@jupyter-widgets/controls",
            "_view_module_version": "1.5.0",
            "_view_name": "HTMLView",
            "description": "",
            "description_tooltip": null,
            "layout": "IPY_MODEL_4c4b26ee7d994fcd971ae540f31c2770",
            "placeholder": "​",
            "style": "IPY_MODEL_e8ca861a60bf49c3bb2c522d8a7f9feb",
            "value": "Dl Completed...: 100%"
          }
        },
        "da5e4076f1004c969b096d9e89b71034": {
          "model_module": "@jupyter-widgets/controls",
          "model_name": "FloatProgressModel",
          "model_module_version": "1.5.0",
          "state": {
            "_dom_classes": [],
            "_model_module": "@jupyter-widgets/controls",
            "_model_module_version": "1.5.0",
            "_model_name": "FloatProgressModel",
            "_view_count": null,
            "_view_module": "@jupyter-widgets/controls",
            "_view_module_version": "1.5.0",
            "_view_name": "ProgressView",
            "bar_style": "success",
            "description": "",
            "description_tooltip": null,
            "layout": "IPY_MODEL_7948640dfdd04d2496443564e16cb466",
            "max": 1,
            "min": 0,
            "orientation": "horizontal",
            "style": "IPY_MODEL_b514117b1e3145a88574589377a335b4",
            "value": 1
          }
        },
        "6d90c42e5a864fef944f63356cad2fc2": {
          "model_module": "@jupyter-widgets/controls",
          "model_name": "HTMLModel",
          "model_module_version": "1.5.0",
          "state": {
            "_dom_classes": [],
            "_model_module": "@jupyter-widgets/controls",
            "_model_module_version": "1.5.0",
            "_model_name": "HTMLModel",
            "_view_count": null,
            "_view_module": "@jupyter-widgets/controls",
            "_view_module_version": "1.5.0",
            "_view_name": "HTMLView",
            "description": "",
            "description_tooltip": null,
            "layout": "IPY_MODEL_401c38487b4e41d7b9433db6c69e00c2",
            "placeholder": "​",
            "style": "IPY_MODEL_a58b490f9ff349f9aeb20063ed6dc08d",
            "value": " 1/1 [00:00&lt;00:00,  2.59 url/s]"
          }
        },
        "013138fa82154a1b911ee6250ec9f741": {
          "model_module": "@jupyter-widgets/base",
          "model_name": "LayoutModel",
          "model_module_version": "1.2.0",
          "state": {
            "_model_module": "@jupyter-widgets/base",
            "_model_module_version": "1.2.0",
            "_model_name": "LayoutModel",
            "_view_count": null,
            "_view_module": "@jupyter-widgets/base",
            "_view_module_version": "1.2.0",
            "_view_name": "LayoutView",
            "align_content": null,
            "align_items": null,
            "align_self": null,
            "border": null,
            "bottom": null,
            "display": null,
            "flex": null,
            "flex_flow": null,
            "grid_area": null,
            "grid_auto_columns": null,
            "grid_auto_flow": null,
            "grid_auto_rows": null,
            "grid_column": null,
            "grid_gap": null,
            "grid_row": null,
            "grid_template_areas": null,
            "grid_template_columns": null,
            "grid_template_rows": null,
            "height": null,
            "justify_content": null,
            "justify_items": null,
            "left": null,
            "margin": null,
            "max_height": null,
            "max_width": null,
            "min_height": null,
            "min_width": null,
            "object_fit": null,
            "object_position": null,
            "order": null,
            "overflow": null,
            "overflow_x": null,
            "overflow_y": null,
            "padding": null,
            "right": null,
            "top": null,
            "visibility": null,
            "width": null
          }
        },
        "4c4b26ee7d994fcd971ae540f31c2770": {
          "model_module": "@jupyter-widgets/base",
          "model_name": "LayoutModel",
          "model_module_version": "1.2.0",
          "state": {
            "_model_module": "@jupyter-widgets/base",
            "_model_module_version": "1.2.0",
            "_model_name": "LayoutModel",
            "_view_count": null,
            "_view_module": "@jupyter-widgets/base",
            "_view_module_version": "1.2.0",
            "_view_name": "LayoutView",
            "align_content": null,
            "align_items": null,
            "align_self": null,
            "border": null,
            "bottom": null,
            "display": null,
            "flex": null,
            "flex_flow": null,
            "grid_area": null,
            "grid_auto_columns": null,
            "grid_auto_flow": null,
            "grid_auto_rows": null,
            "grid_column": null,
            "grid_gap": null,
            "grid_row": null,
            "grid_template_areas": null,
            "grid_template_columns": null,
            "grid_template_rows": null,
            "height": null,
            "justify_content": null,
            "justify_items": null,
            "left": null,
            "margin": null,
            "max_height": null,
            "max_width": null,
            "min_height": null,
            "min_width": null,
            "object_fit": null,
            "object_position": null,
            "order": null,
            "overflow": null,
            "overflow_x": null,
            "overflow_y": null,
            "padding": null,
            "right": null,
            "top": null,
            "visibility": null,
            "width": null
          }
        },
        "e8ca861a60bf49c3bb2c522d8a7f9feb": {
          "model_module": "@jupyter-widgets/controls",
          "model_name": "DescriptionStyleModel",
          "model_module_version": "1.5.0",
          "state": {
            "_model_module": "@jupyter-widgets/controls",
            "_model_module_version": "1.5.0",
            "_model_name": "DescriptionStyleModel",
            "_view_count": null,
            "_view_module": "@jupyter-widgets/base",
            "_view_module_version": "1.2.0",
            "_view_name": "StyleView",
            "description_width": ""
          }
        },
        "7948640dfdd04d2496443564e16cb466": {
          "model_module": "@jupyter-widgets/base",
          "model_name": "LayoutModel",
          "model_module_version": "1.2.0",
          "state": {
            "_model_module": "@jupyter-widgets/base",
            "_model_module_version": "1.2.0",
            "_model_name": "LayoutModel",
            "_view_count": null,
            "_view_module": "@jupyter-widgets/base",
            "_view_module_version": "1.2.0",
            "_view_name": "LayoutView",
            "align_content": null,
            "align_items": null,
            "align_self": null,
            "border": null,
            "bottom": null,
            "display": null,
            "flex": null,
            "flex_flow": null,
            "grid_area": null,
            "grid_auto_columns": null,
            "grid_auto_flow": null,
            "grid_auto_rows": null,
            "grid_column": null,
            "grid_gap": null,
            "grid_row": null,
            "grid_template_areas": null,
            "grid_template_columns": null,
            "grid_template_rows": null,
            "height": null,
            "justify_content": null,
            "justify_items": null,
            "left": null,
            "margin": null,
            "max_height": null,
            "max_width": null,
            "min_height": null,
            "min_width": null,
            "object_fit": null,
            "object_position": null,
            "order": null,
            "overflow": null,
            "overflow_x": null,
            "overflow_y": null,
            "padding": null,
            "right": null,
            "top": null,
            "visibility": null,
            "width": "20px"
          }
        },
        "b514117b1e3145a88574589377a335b4": {
          "model_module": "@jupyter-widgets/controls",
          "model_name": "ProgressStyleModel",
          "model_module_version": "1.5.0",
          "state": {
            "_model_module": "@jupyter-widgets/controls",
            "_model_module_version": "1.5.0",
            "_model_name": "ProgressStyleModel",
            "_view_count": null,
            "_view_module": "@jupyter-widgets/base",
            "_view_module_version": "1.2.0",
            "_view_name": "StyleView",
            "bar_color": null,
            "description_width": ""
          }
        },
        "401c38487b4e41d7b9433db6c69e00c2": {
          "model_module": "@jupyter-widgets/base",
          "model_name": "LayoutModel",
          "model_module_version": "1.2.0",
          "state": {
            "_model_module": "@jupyter-widgets/base",
            "_model_module_version": "1.2.0",
            "_model_name": "LayoutModel",
            "_view_count": null,
            "_view_module": "@jupyter-widgets/base",
            "_view_module_version": "1.2.0",
            "_view_name": "LayoutView",
            "align_content": null,
            "align_items": null,
            "align_self": null,
            "border": null,
            "bottom": null,
            "display": null,
            "flex": null,
            "flex_flow": null,
            "grid_area": null,
            "grid_auto_columns": null,
            "grid_auto_flow": null,
            "grid_auto_rows": null,
            "grid_column": null,
            "grid_gap": null,
            "grid_row": null,
            "grid_template_areas": null,
            "grid_template_columns": null,
            "grid_template_rows": null,
            "height": null,
            "justify_content": null,
            "justify_items": null,
            "left": null,
            "margin": null,
            "max_height": null,
            "max_width": null,
            "min_height": null,
            "min_width": null,
            "object_fit": null,
            "object_position": null,
            "order": null,
            "overflow": null,
            "overflow_x": null,
            "overflow_y": null,
            "padding": null,
            "right": null,
            "top": null,
            "visibility": null,
            "width": null
          }
        },
        "a58b490f9ff349f9aeb20063ed6dc08d": {
          "model_module": "@jupyter-widgets/controls",
          "model_name": "DescriptionStyleModel",
          "model_module_version": "1.5.0",
          "state": {
            "_model_module": "@jupyter-widgets/controls",
            "_model_module_version": "1.5.0",
            "_model_name": "DescriptionStyleModel",
            "_view_count": null,
            "_view_module": "@jupyter-widgets/base",
            "_view_module_version": "1.2.0",
            "_view_name": "StyleView",
            "description_width": ""
          }
        },
        "66c6769aba794d8fb51c90c78130523a": {
          "model_module": "@jupyter-widgets/controls",
          "model_name": "HBoxModel",
          "model_module_version": "1.5.0",
          "state": {
            "_dom_classes": [],
            "_model_module": "@jupyter-widgets/controls",
            "_model_module_version": "1.5.0",
            "_model_name": "HBoxModel",
            "_view_count": null,
            "_view_module": "@jupyter-widgets/controls",
            "_view_module_version": "1.5.0",
            "_view_name": "HBoxView",
            "box_style": "",
            "children": [
              "IPY_MODEL_a4bfdbc58cf74b7c9e8a29e7dbe99322",
              "IPY_MODEL_cba663a5da724536bc930c9aa14f4af0",
              "IPY_MODEL_0293586dfa844e2aaac113d5fe3d9209"
            ],
            "layout": "IPY_MODEL_bda13cbea333488087e249d5e18735e4"
          }
        },
        "a4bfdbc58cf74b7c9e8a29e7dbe99322": {
          "model_module": "@jupyter-widgets/controls",
          "model_name": "HTMLModel",
          "model_module_version": "1.5.0",
          "state": {
            "_dom_classes": [],
            "_model_module": "@jupyter-widgets/controls",
            "_model_module_version": "1.5.0",
            "_model_name": "HTMLModel",
            "_view_count": null,
            "_view_module": "@jupyter-widgets/controls",
            "_view_module_version": "1.5.0",
            "_view_name": "HTMLView",
            "description": "",
            "description_tooltip": null,
            "layout": "IPY_MODEL_1db20a459086457c87ad76d87438b0cf",
            "placeholder": "​",
            "style": "IPY_MODEL_33a5de54d3594c07bc8a92d14908f6f3",
            "value": "Dl Size...: "
          }
        },
        "cba663a5da724536bc930c9aa14f4af0": {
          "model_module": "@jupyter-widgets/controls",
          "model_name": "FloatProgressModel",
          "model_module_version": "1.5.0",
          "state": {
            "_dom_classes": [],
            "_model_module": "@jupyter-widgets/controls",
            "_model_module_version": "1.5.0",
            "_model_name": "FloatProgressModel",
            "_view_count": null,
            "_view_module": "@jupyter-widgets/controls",
            "_view_module_version": "1.5.0",
            "_view_name": "ProgressView",
            "bar_style": "success",
            "description": "",
            "description_tooltip": null,
            "layout": "IPY_MODEL_71de7e2b13a7473d9689fa30b36075e1",
            "max": 1,
            "min": 0,
            "orientation": "horizontal",
            "style": "IPY_MODEL_449454e02d664effabc5793a9c5df270",
            "value": 0
          }
        },
        "0293586dfa844e2aaac113d5fe3d9209": {
          "model_module": "@jupyter-widgets/controls",
          "model_name": "HTMLModel",
          "model_module_version": "1.5.0",
          "state": {
            "_dom_classes": [],
            "_model_module": "@jupyter-widgets/controls",
            "_model_module_version": "1.5.0",
            "_model_name": "HTMLModel",
            "_view_count": null,
            "_view_module": "@jupyter-widgets/controls",
            "_view_module_version": "1.5.0",
            "_view_name": "HTMLView",
            "description": "",
            "description_tooltip": null,
            "layout": "IPY_MODEL_7c5404e7b7a34f6fa3d0a07c9163ae0d",
            "placeholder": "​",
            "style": "IPY_MODEL_5dd3cc6eb28b4d73813216ca51d990ac",
            "value": " 0/0 [00:00&lt;?, ? MiB/s]"
          }
        },
        "bda13cbea333488087e249d5e18735e4": {
          "model_module": "@jupyter-widgets/base",
          "model_name": "LayoutModel",
          "model_module_version": "1.2.0",
          "state": {
            "_model_module": "@jupyter-widgets/base",
            "_model_module_version": "1.2.0",
            "_model_name": "LayoutModel",
            "_view_count": null,
            "_view_module": "@jupyter-widgets/base",
            "_view_module_version": "1.2.0",
            "_view_name": "LayoutView",
            "align_content": null,
            "align_items": null,
            "align_self": null,
            "border": null,
            "bottom": null,
            "display": null,
            "flex": null,
            "flex_flow": null,
            "grid_area": null,
            "grid_auto_columns": null,
            "grid_auto_flow": null,
            "grid_auto_rows": null,
            "grid_column": null,
            "grid_gap": null,
            "grid_row": null,
            "grid_template_areas": null,
            "grid_template_columns": null,
            "grid_template_rows": null,
            "height": null,
            "justify_content": null,
            "justify_items": null,
            "left": null,
            "margin": null,
            "max_height": null,
            "max_width": null,
            "min_height": null,
            "min_width": null,
            "object_fit": null,
            "object_position": null,
            "order": null,
            "overflow": null,
            "overflow_x": null,
            "overflow_y": null,
            "padding": null,
            "right": null,
            "top": null,
            "visibility": null,
            "width": null
          }
        },
        "1db20a459086457c87ad76d87438b0cf": {
          "model_module": "@jupyter-widgets/base",
          "model_name": "LayoutModel",
          "model_module_version": "1.2.0",
          "state": {
            "_model_module": "@jupyter-widgets/base",
            "_model_module_version": "1.2.0",
            "_model_name": "LayoutModel",
            "_view_count": null,
            "_view_module": "@jupyter-widgets/base",
            "_view_module_version": "1.2.0",
            "_view_name": "LayoutView",
            "align_content": null,
            "align_items": null,
            "align_self": null,
            "border": null,
            "bottom": null,
            "display": null,
            "flex": null,
            "flex_flow": null,
            "grid_area": null,
            "grid_auto_columns": null,
            "grid_auto_flow": null,
            "grid_auto_rows": null,
            "grid_column": null,
            "grid_gap": null,
            "grid_row": null,
            "grid_template_areas": null,
            "grid_template_columns": null,
            "grid_template_rows": null,
            "height": null,
            "justify_content": null,
            "justify_items": null,
            "left": null,
            "margin": null,
            "max_height": null,
            "max_width": null,
            "min_height": null,
            "min_width": null,
            "object_fit": null,
            "object_position": null,
            "order": null,
            "overflow": null,
            "overflow_x": null,
            "overflow_y": null,
            "padding": null,
            "right": null,
            "top": null,
            "visibility": null,
            "width": null
          }
        },
        "33a5de54d3594c07bc8a92d14908f6f3": {
          "model_module": "@jupyter-widgets/controls",
          "model_name": "DescriptionStyleModel",
          "model_module_version": "1.5.0",
          "state": {
            "_model_module": "@jupyter-widgets/controls",
            "_model_module_version": "1.5.0",
            "_model_name": "DescriptionStyleModel",
            "_view_count": null,
            "_view_module": "@jupyter-widgets/base",
            "_view_module_version": "1.2.0",
            "_view_name": "StyleView",
            "description_width": ""
          }
        },
        "71de7e2b13a7473d9689fa30b36075e1": {
          "model_module": "@jupyter-widgets/base",
          "model_name": "LayoutModel",
          "model_module_version": "1.2.0",
          "state": {
            "_model_module": "@jupyter-widgets/base",
            "_model_module_version": "1.2.0",
            "_model_name": "LayoutModel",
            "_view_count": null,
            "_view_module": "@jupyter-widgets/base",
            "_view_module_version": "1.2.0",
            "_view_name": "LayoutView",
            "align_content": null,
            "align_items": null,
            "align_self": null,
            "border": null,
            "bottom": null,
            "display": null,
            "flex": null,
            "flex_flow": null,
            "grid_area": null,
            "grid_auto_columns": null,
            "grid_auto_flow": null,
            "grid_auto_rows": null,
            "grid_column": null,
            "grid_gap": null,
            "grid_row": null,
            "grid_template_areas": null,
            "grid_template_columns": null,
            "grid_template_rows": null,
            "height": null,
            "justify_content": null,
            "justify_items": null,
            "left": null,
            "margin": null,
            "max_height": null,
            "max_width": null,
            "min_height": null,
            "min_width": null,
            "object_fit": null,
            "object_position": null,
            "order": null,
            "overflow": null,
            "overflow_x": null,
            "overflow_y": null,
            "padding": null,
            "right": null,
            "top": null,
            "visibility": null,
            "width": "20px"
          }
        },
        "449454e02d664effabc5793a9c5df270": {
          "model_module": "@jupyter-widgets/controls",
          "model_name": "ProgressStyleModel",
          "model_module_version": "1.5.0",
          "state": {
            "_model_module": "@jupyter-widgets/controls",
            "_model_module_version": "1.5.0",
            "_model_name": "ProgressStyleModel",
            "_view_count": null,
            "_view_module": "@jupyter-widgets/base",
            "_view_module_version": "1.2.0",
            "_view_name": "StyleView",
            "bar_color": null,
            "description_width": ""
          }
        },
        "7c5404e7b7a34f6fa3d0a07c9163ae0d": {
          "model_module": "@jupyter-widgets/base",
          "model_name": "LayoutModel",
          "model_module_version": "1.2.0",
          "state": {
            "_model_module": "@jupyter-widgets/base",
            "_model_module_version": "1.2.0",
            "_model_name": "LayoutModel",
            "_view_count": null,
            "_view_module": "@jupyter-widgets/base",
            "_view_module_version": "1.2.0",
            "_view_name": "LayoutView",
            "align_content": null,
            "align_items": null,
            "align_self": null,
            "border": null,
            "bottom": null,
            "display": null,
            "flex": null,
            "flex_flow": null,
            "grid_area": null,
            "grid_auto_columns": null,
            "grid_auto_flow": null,
            "grid_auto_rows": null,
            "grid_column": null,
            "grid_gap": null,
            "grid_row": null,
            "grid_template_areas": null,
            "grid_template_columns": null,
            "grid_template_rows": null,
            "height": null,
            "justify_content": null,
            "justify_items": null,
            "left": null,
            "margin": null,
            "max_height": null,
            "max_width": null,
            "min_height": null,
            "min_width": null,
            "object_fit": null,
            "object_position": null,
            "order": null,
            "overflow": null,
            "overflow_x": null,
            "overflow_y": null,
            "padding": null,
            "right": null,
            "top": null,
            "visibility": null,
            "width": null
          }
        },
        "5dd3cc6eb28b4d73813216ca51d990ac": {
          "model_module": "@jupyter-widgets/controls",
          "model_name": "DescriptionStyleModel",
          "model_module_version": "1.5.0",
          "state": {
            "_model_module": "@jupyter-widgets/controls",
            "_model_module_version": "1.5.0",
            "_model_name": "DescriptionStyleModel",
            "_view_count": null,
            "_view_module": "@jupyter-widgets/base",
            "_view_module_version": "1.2.0",
            "_view_name": "StyleView",
            "description_width": ""
          }
        },
        "76d94c4c5de74674868475a65bf0871f": {
          "model_module": "@jupyter-widgets/controls",
          "model_name": "HBoxModel",
          "model_module_version": "1.5.0",
          "state": {
            "_dom_classes": [],
            "_model_module": "@jupyter-widgets/controls",
            "_model_module_version": "1.5.0",
            "_model_name": "HBoxModel",
            "_view_count": null,
            "_view_module": "@jupyter-widgets/controls",
            "_view_module_version": "1.5.0",
            "_view_name": "HBoxView",
            "box_style": "",
            "children": [
              "IPY_MODEL_b5448c22d3b54e2390ca21622a1ad95a",
              "IPY_MODEL_bc99977f75d14a4091472bb5f21cd5cc",
              "IPY_MODEL_9ebafb0fa4d648969cd463ef24ecb90f"
            ],
            "layout": "IPY_MODEL_3f2dc0901f764c16afda98ec93fa66b4"
          }
        },
        "b5448c22d3b54e2390ca21622a1ad95a": {
          "model_module": "@jupyter-widgets/controls",
          "model_name": "HTMLModel",
          "model_module_version": "1.5.0",
          "state": {
            "_dom_classes": [],
            "_model_module": "@jupyter-widgets/controls",
            "_model_module_version": "1.5.0",
            "_model_name": "HTMLModel",
            "_view_count": null,
            "_view_module": "@jupyter-widgets/controls",
            "_view_module_version": "1.5.0",
            "_view_name": "HTMLView",
            "description": "",
            "description_tooltip": null,
            "layout": "IPY_MODEL_c08ca59835384f37a1c4a3c16f2d81d7",
            "placeholder": "​",
            "style": "IPY_MODEL_adfdad25594a4466a9cd19d76d443c89",
            "value": "Generating splits...: 100%"
          }
        },
        "bc99977f75d14a4091472bb5f21cd5cc": {
          "model_module": "@jupyter-widgets/controls",
          "model_name": "FloatProgressModel",
          "model_module_version": "1.5.0",
          "state": {
            "_dom_classes": [],
            "_model_module": "@jupyter-widgets/controls",
            "_model_module_version": "1.5.0",
            "_model_name": "FloatProgressModel",
            "_view_count": null,
            "_view_module": "@jupyter-widgets/controls",
            "_view_module_version": "1.5.0",
            "_view_name": "ProgressView",
            "bar_style": "",
            "description": "",
            "description_tooltip": null,
            "layout": "IPY_MODEL_703b6f176ad140a38c439ae6044902bb",
            "max": 1,
            "min": 0,
            "orientation": "horizontal",
            "style": "IPY_MODEL_72371fcbdf8d4bbbace2ae72d76b6bcd",
            "value": 1
          }
        },
        "9ebafb0fa4d648969cd463ef24ecb90f": {
          "model_module": "@jupyter-widgets/controls",
          "model_name": "HTMLModel",
          "model_module_version": "1.5.0",
          "state": {
            "_dom_classes": [],
            "_model_module": "@jupyter-widgets/controls",
            "_model_module_version": "1.5.0",
            "_model_name": "HTMLModel",
            "_view_count": null,
            "_view_module": "@jupyter-widgets/controls",
            "_view_module_version": "1.5.0",
            "_view_name": "HTMLView",
            "description": "",
            "description_tooltip": null,
            "layout": "IPY_MODEL_de340d7eda88450e85874e89cb4a9402",
            "placeholder": "​",
            "style": "IPY_MODEL_f4654fb9427848459b27c299bf601030",
            "value": " 1/1 [00:00&lt;00:00,  2.70 splits/s]"
          }
        },
        "3f2dc0901f764c16afda98ec93fa66b4": {
          "model_module": "@jupyter-widgets/base",
          "model_name": "LayoutModel",
          "model_module_version": "1.2.0",
          "state": {
            "_model_module": "@jupyter-widgets/base",
            "_model_module_version": "1.2.0",
            "_model_name": "LayoutModel",
            "_view_count": null,
            "_view_module": "@jupyter-widgets/base",
            "_view_module_version": "1.2.0",
            "_view_name": "LayoutView",
            "align_content": null,
            "align_items": null,
            "align_self": null,
            "border": null,
            "bottom": null,
            "display": null,
            "flex": null,
            "flex_flow": null,
            "grid_area": null,
            "grid_auto_columns": null,
            "grid_auto_flow": null,
            "grid_auto_rows": null,
            "grid_column": null,
            "grid_gap": null,
            "grid_row": null,
            "grid_template_areas": null,
            "grid_template_columns": null,
            "grid_template_rows": null,
            "height": null,
            "justify_content": null,
            "justify_items": null,
            "left": null,
            "margin": null,
            "max_height": null,
            "max_width": null,
            "min_height": null,
            "min_width": null,
            "object_fit": null,
            "object_position": null,
            "order": null,
            "overflow": null,
            "overflow_x": null,
            "overflow_y": null,
            "padding": null,
            "right": null,
            "top": null,
            "visibility": "hidden",
            "width": null
          }
        },
        "c08ca59835384f37a1c4a3c16f2d81d7": {
          "model_module": "@jupyter-widgets/base",
          "model_name": "LayoutModel",
          "model_module_version": "1.2.0",
          "state": {
            "_model_module": "@jupyter-widgets/base",
            "_model_module_version": "1.2.0",
            "_model_name": "LayoutModel",
            "_view_count": null,
            "_view_module": "@jupyter-widgets/base",
            "_view_module_version": "1.2.0",
            "_view_name": "LayoutView",
            "align_content": null,
            "align_items": null,
            "align_self": null,
            "border": null,
            "bottom": null,
            "display": null,
            "flex": null,
            "flex_flow": null,
            "grid_area": null,
            "grid_auto_columns": null,
            "grid_auto_flow": null,
            "grid_auto_rows": null,
            "grid_column": null,
            "grid_gap": null,
            "grid_row": null,
            "grid_template_areas": null,
            "grid_template_columns": null,
            "grid_template_rows": null,
            "height": null,
            "justify_content": null,
            "justify_items": null,
            "left": null,
            "margin": null,
            "max_height": null,
            "max_width": null,
            "min_height": null,
            "min_width": null,
            "object_fit": null,
            "object_position": null,
            "order": null,
            "overflow": null,
            "overflow_x": null,
            "overflow_y": null,
            "padding": null,
            "right": null,
            "top": null,
            "visibility": null,
            "width": null
          }
        },
        "adfdad25594a4466a9cd19d76d443c89": {
          "model_module": "@jupyter-widgets/controls",
          "model_name": "DescriptionStyleModel",
          "model_module_version": "1.5.0",
          "state": {
            "_model_module": "@jupyter-widgets/controls",
            "_model_module_version": "1.5.0",
            "_model_name": "DescriptionStyleModel",
            "_view_count": null,
            "_view_module": "@jupyter-widgets/base",
            "_view_module_version": "1.2.0",
            "_view_name": "StyleView",
            "description_width": ""
          }
        },
        "703b6f176ad140a38c439ae6044902bb": {
          "model_module": "@jupyter-widgets/base",
          "model_name": "LayoutModel",
          "model_module_version": "1.2.0",
          "state": {
            "_model_module": "@jupyter-widgets/base",
            "_model_module_version": "1.2.0",
            "_model_name": "LayoutModel",
            "_view_count": null,
            "_view_module": "@jupyter-widgets/base",
            "_view_module_version": "1.2.0",
            "_view_name": "LayoutView",
            "align_content": null,
            "align_items": null,
            "align_self": null,
            "border": null,
            "bottom": null,
            "display": null,
            "flex": null,
            "flex_flow": null,
            "grid_area": null,
            "grid_auto_columns": null,
            "grid_auto_flow": null,
            "grid_auto_rows": null,
            "grid_column": null,
            "grid_gap": null,
            "grid_row": null,
            "grid_template_areas": null,
            "grid_template_columns": null,
            "grid_template_rows": null,
            "height": null,
            "justify_content": null,
            "justify_items": null,
            "left": null,
            "margin": null,
            "max_height": null,
            "max_width": null,
            "min_height": null,
            "min_width": null,
            "object_fit": null,
            "object_position": null,
            "order": null,
            "overflow": null,
            "overflow_x": null,
            "overflow_y": null,
            "padding": null,
            "right": null,
            "top": null,
            "visibility": null,
            "width": null
          }
        },
        "72371fcbdf8d4bbbace2ae72d76b6bcd": {
          "model_module": "@jupyter-widgets/controls",
          "model_name": "ProgressStyleModel",
          "model_module_version": "1.5.0",
          "state": {
            "_model_module": "@jupyter-widgets/controls",
            "_model_module_version": "1.5.0",
            "_model_name": "ProgressStyleModel",
            "_view_count": null,
            "_view_module": "@jupyter-widgets/base",
            "_view_module_version": "1.2.0",
            "_view_name": "StyleView",
            "bar_color": null,
            "description_width": ""
          }
        },
        "de340d7eda88450e85874e89cb4a9402": {
          "model_module": "@jupyter-widgets/base",
          "model_name": "LayoutModel",
          "model_module_version": "1.2.0",
          "state": {
            "_model_module": "@jupyter-widgets/base",
            "_model_module_version": "1.2.0",
            "_model_name": "LayoutModel",
            "_view_count": null,
            "_view_module": "@jupyter-widgets/base",
            "_view_module_version": "1.2.0",
            "_view_name": "LayoutView",
            "align_content": null,
            "align_items": null,
            "align_self": null,
            "border": null,
            "bottom": null,
            "display": null,
            "flex": null,
            "flex_flow": null,
            "grid_area": null,
            "grid_auto_columns": null,
            "grid_auto_flow": null,
            "grid_auto_rows": null,
            "grid_column": null,
            "grid_gap": null,
            "grid_row": null,
            "grid_template_areas": null,
            "grid_template_columns": null,
            "grid_template_rows": null,
            "height": null,
            "justify_content": null,
            "justify_items": null,
            "left": null,
            "margin": null,
            "max_height": null,
            "max_width": null,
            "min_height": null,
            "min_width": null,
            "object_fit": null,
            "object_position": null,
            "order": null,
            "overflow": null,
            "overflow_x": null,
            "overflow_y": null,
            "padding": null,
            "right": null,
            "top": null,
            "visibility": null,
            "width": null
          }
        },
        "f4654fb9427848459b27c299bf601030": {
          "model_module": "@jupyter-widgets/controls",
          "model_name": "DescriptionStyleModel",
          "model_module_version": "1.5.0",
          "state": {
            "_model_module": "@jupyter-widgets/controls",
            "_model_module_version": "1.5.0",
            "_model_name": "DescriptionStyleModel",
            "_view_count": null,
            "_view_module": "@jupyter-widgets/base",
            "_view_module_version": "1.2.0",
            "_view_name": "StyleView",
            "description_width": ""
          }
        },
        "5a7a1f25f6664b85b2c64d84548c16b4": {
          "model_module": "@jupyter-widgets/controls",
          "model_name": "HBoxModel",
          "model_module_version": "1.5.0",
          "state": {
            "_dom_classes": [],
            "_model_module": "@jupyter-widgets/controls",
            "_model_module_version": "1.5.0",
            "_model_name": "HBoxModel",
            "_view_count": null,
            "_view_module": "@jupyter-widgets/controls",
            "_view_module_version": "1.5.0",
            "_view_name": "HBoxView",
            "box_style": "",
            "children": [
              "IPY_MODEL_59b8926b832e4c3baa87a2dec5497077",
              "IPY_MODEL_47020bdb8c904fc0a77949d143a76965",
              "IPY_MODEL_05c244c97b9344ffba7655c47943b031"
            ],
            "layout": "IPY_MODEL_097efed7b39d4257a6281a227262a93f"
          }
        },
        "59b8926b832e4c3baa87a2dec5497077": {
          "model_module": "@jupyter-widgets/controls",
          "model_name": "HTMLModel",
          "model_module_version": "1.5.0",
          "state": {
            "_dom_classes": [],
            "_model_module": "@jupyter-widgets/controls",
            "_model_module_version": "1.5.0",
            "_model_name": "HTMLModel",
            "_view_count": null,
            "_view_module": "@jupyter-widgets/controls",
            "_view_module_version": "1.5.0",
            "_view_name": "HTMLView",
            "description": "",
            "description_tooltip": null,
            "layout": "IPY_MODEL_ab3f3e35d7dd4ef2975599b9a3d86613",
            "placeholder": "​",
            "style": "IPY_MODEL_b28044e5464d499c95761e6728bc77ad",
            "value": "Generating train examples...:  89%"
          }
        },
        "47020bdb8c904fc0a77949d143a76965": {
          "model_module": "@jupyter-widgets/controls",
          "model_name": "FloatProgressModel",
          "model_module_version": "1.5.0",
          "state": {
            "_dom_classes": [],
            "_model_module": "@jupyter-widgets/controls",
            "_model_module_version": "1.5.0",
            "_model_name": "FloatProgressModel",
            "_view_count": null,
            "_view_module": "@jupyter-widgets/controls",
            "_view_module_version": "1.5.0",
            "_view_name": "ProgressView",
            "bar_style": "",
            "description": "",
            "description_tooltip": null,
            "layout": "IPY_MODEL_ccededb5e89d4150b38f59bd1e0433c6",
            "max": 334,
            "min": 0,
            "orientation": "horizontal",
            "style": "IPY_MODEL_6f9892bff51942ad844209d84586efc8",
            "value": 334
          }
        },
        "05c244c97b9344ffba7655c47943b031": {
          "model_module": "@jupyter-widgets/controls",
          "model_name": "HTMLModel",
          "model_module_version": "1.5.0",
          "state": {
            "_dom_classes": [],
            "_model_module": "@jupyter-widgets/controls",
            "_model_module_version": "1.5.0",
            "_model_name": "HTMLModel",
            "_view_count": null,
            "_view_module": "@jupyter-widgets/controls",
            "_view_module_version": "1.5.0",
            "_view_name": "HTMLView",
            "description": "",
            "description_tooltip": null,
            "layout": "IPY_MODEL_eba50b006139454e9c9dcaeefbd1c892",
            "placeholder": "​",
            "style": "IPY_MODEL_e3c15fe99e8e4b048c35650ed9c9e6c1",
            "value": " 296/334 [00:00&lt;00:00, 1507.84 examples/s]"
          }
        },
        "097efed7b39d4257a6281a227262a93f": {
          "model_module": "@jupyter-widgets/base",
          "model_name": "LayoutModel",
          "model_module_version": "1.2.0",
          "state": {
            "_model_module": "@jupyter-widgets/base",
            "_model_module_version": "1.2.0",
            "_model_name": "LayoutModel",
            "_view_count": null,
            "_view_module": "@jupyter-widgets/base",
            "_view_module_version": "1.2.0",
            "_view_name": "LayoutView",
            "align_content": null,
            "align_items": null,
            "align_self": null,
            "border": null,
            "bottom": null,
            "display": null,
            "flex": null,
            "flex_flow": null,
            "grid_area": null,
            "grid_auto_columns": null,
            "grid_auto_flow": null,
            "grid_auto_rows": null,
            "grid_column": null,
            "grid_gap": null,
            "grid_row": null,
            "grid_template_areas": null,
            "grid_template_columns": null,
            "grid_template_rows": null,
            "height": null,
            "justify_content": null,
            "justify_items": null,
            "left": null,
            "margin": null,
            "max_height": null,
            "max_width": null,
            "min_height": null,
            "min_width": null,
            "object_fit": null,
            "object_position": null,
            "order": null,
            "overflow": null,
            "overflow_x": null,
            "overflow_y": null,
            "padding": null,
            "right": null,
            "top": null,
            "visibility": "hidden",
            "width": null
          }
        },
        "ab3f3e35d7dd4ef2975599b9a3d86613": {
          "model_module": "@jupyter-widgets/base",
          "model_name": "LayoutModel",
          "model_module_version": "1.2.0",
          "state": {
            "_model_module": "@jupyter-widgets/base",
            "_model_module_version": "1.2.0",
            "_model_name": "LayoutModel",
            "_view_count": null,
            "_view_module": "@jupyter-widgets/base",
            "_view_module_version": "1.2.0",
            "_view_name": "LayoutView",
            "align_content": null,
            "align_items": null,
            "align_self": null,
            "border": null,
            "bottom": null,
            "display": null,
            "flex": null,
            "flex_flow": null,
            "grid_area": null,
            "grid_auto_columns": null,
            "grid_auto_flow": null,
            "grid_auto_rows": null,
            "grid_column": null,
            "grid_gap": null,
            "grid_row": null,
            "grid_template_areas": null,
            "grid_template_columns": null,
            "grid_template_rows": null,
            "height": null,
            "justify_content": null,
            "justify_items": null,
            "left": null,
            "margin": null,
            "max_height": null,
            "max_width": null,
            "min_height": null,
            "min_width": null,
            "object_fit": null,
            "object_position": null,
            "order": null,
            "overflow": null,
            "overflow_x": null,
            "overflow_y": null,
            "padding": null,
            "right": null,
            "top": null,
            "visibility": null,
            "width": null
          }
        },
        "b28044e5464d499c95761e6728bc77ad": {
          "model_module": "@jupyter-widgets/controls",
          "model_name": "DescriptionStyleModel",
          "model_module_version": "1.5.0",
          "state": {
            "_model_module": "@jupyter-widgets/controls",
            "_model_module_version": "1.5.0",
            "_model_name": "DescriptionStyleModel",
            "_view_count": null,
            "_view_module": "@jupyter-widgets/base",
            "_view_module_version": "1.2.0",
            "_view_name": "StyleView",
            "description_width": ""
          }
        },
        "ccededb5e89d4150b38f59bd1e0433c6": {
          "model_module": "@jupyter-widgets/base",
          "model_name": "LayoutModel",
          "model_module_version": "1.2.0",
          "state": {
            "_model_module": "@jupyter-widgets/base",
            "_model_module_version": "1.2.0",
            "_model_name": "LayoutModel",
            "_view_count": null,
            "_view_module": "@jupyter-widgets/base",
            "_view_module_version": "1.2.0",
            "_view_name": "LayoutView",
            "align_content": null,
            "align_items": null,
            "align_self": null,
            "border": null,
            "bottom": null,
            "display": null,
            "flex": null,
            "flex_flow": null,
            "grid_area": null,
            "grid_auto_columns": null,
            "grid_auto_flow": null,
            "grid_auto_rows": null,
            "grid_column": null,
            "grid_gap": null,
            "grid_row": null,
            "grid_template_areas": null,
            "grid_template_columns": null,
            "grid_template_rows": null,
            "height": null,
            "justify_content": null,
            "justify_items": null,
            "left": null,
            "margin": null,
            "max_height": null,
            "max_width": null,
            "min_height": null,
            "min_width": null,
            "object_fit": null,
            "object_position": null,
            "order": null,
            "overflow": null,
            "overflow_x": null,
            "overflow_y": null,
            "padding": null,
            "right": null,
            "top": null,
            "visibility": null,
            "width": null
          }
        },
        "6f9892bff51942ad844209d84586efc8": {
          "model_module": "@jupyter-widgets/controls",
          "model_name": "ProgressStyleModel",
          "model_module_version": "1.5.0",
          "state": {
            "_model_module": "@jupyter-widgets/controls",
            "_model_module_version": "1.5.0",
            "_model_name": "ProgressStyleModel",
            "_view_count": null,
            "_view_module": "@jupyter-widgets/base",
            "_view_module_version": "1.2.0",
            "_view_name": "StyleView",
            "bar_color": null,
            "description_width": ""
          }
        },
        "eba50b006139454e9c9dcaeefbd1c892": {
          "model_module": "@jupyter-widgets/base",
          "model_name": "LayoutModel",
          "model_module_version": "1.2.0",
          "state": {
            "_model_module": "@jupyter-widgets/base",
            "_model_module_version": "1.2.0",
            "_model_name": "LayoutModel",
            "_view_count": null,
            "_view_module": "@jupyter-widgets/base",
            "_view_module_version": "1.2.0",
            "_view_name": "LayoutView",
            "align_content": null,
            "align_items": null,
            "align_self": null,
            "border": null,
            "bottom": null,
            "display": null,
            "flex": null,
            "flex_flow": null,
            "grid_area": null,
            "grid_auto_columns": null,
            "grid_auto_flow": null,
            "grid_auto_rows": null,
            "grid_column": null,
            "grid_gap": null,
            "grid_row": null,
            "grid_template_areas": null,
            "grid_template_columns": null,
            "grid_template_rows": null,
            "height": null,
            "justify_content": null,
            "justify_items": null,
            "left": null,
            "margin": null,
            "max_height": null,
            "max_width": null,
            "min_height": null,
            "min_width": null,
            "object_fit": null,
            "object_position": null,
            "order": null,
            "overflow": null,
            "overflow_x": null,
            "overflow_y": null,
            "padding": null,
            "right": null,
            "top": null,
            "visibility": null,
            "width": null
          }
        },
        "e3c15fe99e8e4b048c35650ed9c9e6c1": {
          "model_module": "@jupyter-widgets/controls",
          "model_name": "DescriptionStyleModel",
          "model_module_version": "1.5.0",
          "state": {
            "_model_module": "@jupyter-widgets/controls",
            "_model_module_version": "1.5.0",
            "_model_name": "DescriptionStyleModel",
            "_view_count": null,
            "_view_module": "@jupyter-widgets/base",
            "_view_module_version": "1.2.0",
            "_view_name": "StyleView",
            "description_width": ""
          }
        },
        "ac92a94320094c3ba9b6139c09d0d3ee": {
          "model_module": "@jupyter-widgets/controls",
          "model_name": "HBoxModel",
          "model_module_version": "1.5.0",
          "state": {
            "_dom_classes": [],
            "_model_module": "@jupyter-widgets/controls",
            "_model_module_version": "1.5.0",
            "_model_name": "HBoxModel",
            "_view_count": null,
            "_view_module": "@jupyter-widgets/controls",
            "_view_module_version": "1.5.0",
            "_view_name": "HBoxView",
            "box_style": "",
            "children": [
              "IPY_MODEL_0b52bbeb92ad475d9fb4b7011b75e475",
              "IPY_MODEL_2f4f2b54195d4453943f3615899a238b",
              "IPY_MODEL_2c3d4a55b1fb4ac0925751f57bc71f96"
            ],
            "layout": "IPY_MODEL_7fc98c5d42fb478eaad4b3cf0034d04e"
          }
        },
        "0b52bbeb92ad475d9fb4b7011b75e475": {
          "model_module": "@jupyter-widgets/controls",
          "model_name": "HTMLModel",
          "model_module_version": "1.5.0",
          "state": {
            "_dom_classes": [],
            "_model_module": "@jupyter-widgets/controls",
            "_model_module_version": "1.5.0",
            "_model_name": "HTMLModel",
            "_view_count": null,
            "_view_module": "@jupyter-widgets/controls",
            "_view_module_version": "1.5.0",
            "_view_name": "HTMLView",
            "description": "",
            "description_tooltip": null,
            "layout": "IPY_MODEL_022ca2d0ed164f6cb65cade87177596a",
            "placeholder": "​",
            "style": "IPY_MODEL_0f057f08a7ec4fcdb8379340a6688553",
            "value": "Shuffling /root/tensorflow_datasets/penguins/processed/1.0.0.incompleteY4UD1D/penguins-train.tfrecord*...:   0%"
          }
        },
        "2f4f2b54195d4453943f3615899a238b": {
          "model_module": "@jupyter-widgets/controls",
          "model_name": "FloatProgressModel",
          "model_module_version": "1.5.0",
          "state": {
            "_dom_classes": [],
            "_model_module": "@jupyter-widgets/controls",
            "_model_module_version": "1.5.0",
            "_model_name": "FloatProgressModel",
            "_view_count": null,
            "_view_module": "@jupyter-widgets/controls",
            "_view_module_version": "1.5.0",
            "_view_name": "ProgressView",
            "bar_style": "",
            "description": "",
            "description_tooltip": null,
            "layout": "IPY_MODEL_f93210e83d5c44dc832f2ffddd572fef",
            "max": 334,
            "min": 0,
            "orientation": "horizontal",
            "style": "IPY_MODEL_eb41699896854351b6aa5b9fdd7115c2",
            "value": 334
          }
        },
        "2c3d4a55b1fb4ac0925751f57bc71f96": {
          "model_module": "@jupyter-widgets/controls",
          "model_name": "HTMLModel",
          "model_module_version": "1.5.0",
          "state": {
            "_dom_classes": [],
            "_model_module": "@jupyter-widgets/controls",
            "_model_module_version": "1.5.0",
            "_model_name": "HTMLModel",
            "_view_count": null,
            "_view_module": "@jupyter-widgets/controls",
            "_view_module_version": "1.5.0",
            "_view_name": "HTMLView",
            "description": "",
            "description_tooltip": null,
            "layout": "IPY_MODEL_1ea994078db9409398f59cb9e8d43021",
            "placeholder": "​",
            "style": "IPY_MODEL_81858bd6090b43f89645929a712778ca",
            "value": " 0/334 [00:00&lt;?, ? examples/s]"
          }
        },
        "7fc98c5d42fb478eaad4b3cf0034d04e": {
          "model_module": "@jupyter-widgets/base",
          "model_name": "LayoutModel",
          "model_module_version": "1.2.0",
          "state": {
            "_model_module": "@jupyter-widgets/base",
            "_model_module_version": "1.2.0",
            "_model_name": "LayoutModel",
            "_view_count": null,
            "_view_module": "@jupyter-widgets/base",
            "_view_module_version": "1.2.0",
            "_view_name": "LayoutView",
            "align_content": null,
            "align_items": null,
            "align_self": null,
            "border": null,
            "bottom": null,
            "display": null,
            "flex": null,
            "flex_flow": null,
            "grid_area": null,
            "grid_auto_columns": null,
            "grid_auto_flow": null,
            "grid_auto_rows": null,
            "grid_column": null,
            "grid_gap": null,
            "grid_row": null,
            "grid_template_areas": null,
            "grid_template_columns": null,
            "grid_template_rows": null,
            "height": null,
            "justify_content": null,
            "justify_items": null,
            "left": null,
            "margin": null,
            "max_height": null,
            "max_width": null,
            "min_height": null,
            "min_width": null,
            "object_fit": null,
            "object_position": null,
            "order": null,
            "overflow": null,
            "overflow_x": null,
            "overflow_y": null,
            "padding": null,
            "right": null,
            "top": null,
            "visibility": "hidden",
            "width": null
          }
        },
        "022ca2d0ed164f6cb65cade87177596a": {
          "model_module": "@jupyter-widgets/base",
          "model_name": "LayoutModel",
          "model_module_version": "1.2.0",
          "state": {
            "_model_module": "@jupyter-widgets/base",
            "_model_module_version": "1.2.0",
            "_model_name": "LayoutModel",
            "_view_count": null,
            "_view_module": "@jupyter-widgets/base",
            "_view_module_version": "1.2.0",
            "_view_name": "LayoutView",
            "align_content": null,
            "align_items": null,
            "align_self": null,
            "border": null,
            "bottom": null,
            "display": null,
            "flex": null,
            "flex_flow": null,
            "grid_area": null,
            "grid_auto_columns": null,
            "grid_auto_flow": null,
            "grid_auto_rows": null,
            "grid_column": null,
            "grid_gap": null,
            "grid_row": null,
            "grid_template_areas": null,
            "grid_template_columns": null,
            "grid_template_rows": null,
            "height": null,
            "justify_content": null,
            "justify_items": null,
            "left": null,
            "margin": null,
            "max_height": null,
            "max_width": null,
            "min_height": null,
            "min_width": null,
            "object_fit": null,
            "object_position": null,
            "order": null,
            "overflow": null,
            "overflow_x": null,
            "overflow_y": null,
            "padding": null,
            "right": null,
            "top": null,
            "visibility": null,
            "width": null
          }
        },
        "0f057f08a7ec4fcdb8379340a6688553": {
          "model_module": "@jupyter-widgets/controls",
          "model_name": "DescriptionStyleModel",
          "model_module_version": "1.5.0",
          "state": {
            "_model_module": "@jupyter-widgets/controls",
            "_model_module_version": "1.5.0",
            "_model_name": "DescriptionStyleModel",
            "_view_count": null,
            "_view_module": "@jupyter-widgets/base",
            "_view_module_version": "1.2.0",
            "_view_name": "StyleView",
            "description_width": ""
          }
        },
        "f93210e83d5c44dc832f2ffddd572fef": {
          "model_module": "@jupyter-widgets/base",
          "model_name": "LayoutModel",
          "model_module_version": "1.2.0",
          "state": {
            "_model_module": "@jupyter-widgets/base",
            "_model_module_version": "1.2.0",
            "_model_name": "LayoutModel",
            "_view_count": null,
            "_view_module": "@jupyter-widgets/base",
            "_view_module_version": "1.2.0",
            "_view_name": "LayoutView",
            "align_content": null,
            "align_items": null,
            "align_self": null,
            "border": null,
            "bottom": null,
            "display": null,
            "flex": null,
            "flex_flow": null,
            "grid_area": null,
            "grid_auto_columns": null,
            "grid_auto_flow": null,
            "grid_auto_rows": null,
            "grid_column": null,
            "grid_gap": null,
            "grid_row": null,
            "grid_template_areas": null,
            "grid_template_columns": null,
            "grid_template_rows": null,
            "height": null,
            "justify_content": null,
            "justify_items": null,
            "left": null,
            "margin": null,
            "max_height": null,
            "max_width": null,
            "min_height": null,
            "min_width": null,
            "object_fit": null,
            "object_position": null,
            "order": null,
            "overflow": null,
            "overflow_x": null,
            "overflow_y": null,
            "padding": null,
            "right": null,
            "top": null,
            "visibility": null,
            "width": null
          }
        },
        "eb41699896854351b6aa5b9fdd7115c2": {
          "model_module": "@jupyter-widgets/controls",
          "model_name": "ProgressStyleModel",
          "model_module_version": "1.5.0",
          "state": {
            "_model_module": "@jupyter-widgets/controls",
            "_model_module_version": "1.5.0",
            "_model_name": "ProgressStyleModel",
            "_view_count": null,
            "_view_module": "@jupyter-widgets/base",
            "_view_module_version": "1.2.0",
            "_view_name": "StyleView",
            "bar_color": null,
            "description_width": ""
          }
        },
        "1ea994078db9409398f59cb9e8d43021": {
          "model_module": "@jupyter-widgets/base",
          "model_name": "LayoutModel",
          "model_module_version": "1.2.0",
          "state": {
            "_model_module": "@jupyter-widgets/base",
            "_model_module_version": "1.2.0",
            "_model_name": "LayoutModel",
            "_view_count": null,
            "_view_module": "@jupyter-widgets/base",
            "_view_module_version": "1.2.0",
            "_view_name": "LayoutView",
            "align_content": null,
            "align_items": null,
            "align_self": null,
            "border": null,
            "bottom": null,
            "display": null,
            "flex": null,
            "flex_flow": null,
            "grid_area": null,
            "grid_auto_columns": null,
            "grid_auto_flow": null,
            "grid_auto_rows": null,
            "grid_column": null,
            "grid_gap": null,
            "grid_row": null,
            "grid_template_areas": null,
            "grid_template_columns": null,
            "grid_template_rows": null,
            "height": null,
            "justify_content": null,
            "justify_items": null,
            "left": null,
            "margin": null,
            "max_height": null,
            "max_width": null,
            "min_height": null,
            "min_width": null,
            "object_fit": null,
            "object_position": null,
            "order": null,
            "overflow": null,
            "overflow_x": null,
            "overflow_y": null,
            "padding": null,
            "right": null,
            "top": null,
            "visibility": null,
            "width": null
          }
        },
        "81858bd6090b43f89645929a712778ca": {
          "model_module": "@jupyter-widgets/controls",
          "model_name": "DescriptionStyleModel",
          "model_module_version": "1.5.0",
          "state": {
            "_model_module": "@jupyter-widgets/controls",
            "_model_module_version": "1.5.0",
            "_model_name": "DescriptionStyleModel",
            "_view_count": null,
            "_view_module": "@jupyter-widgets/base",
            "_view_module_version": "1.2.0",
            "_view_name": "StyleView",
            "description_width": ""
          }
        }
      }
    },
    "accelerator": "GPU",
    "gpuClass": "standard"
  },
  "cells": [
    {
      "cell_type": "markdown",
      "metadata": {
        "id": "view-in-github",
        "colab_type": "text"
      },
      "source": [
        "<a href=\"https://colab.research.google.com/github/davidraamirez/GradientWithoutBackpropagation/blob/main/NN_fwd_gradient.ipynb\" target=\"_parent\"><img src=\"https://colab.research.google.com/assets/colab-badge.svg\" alt=\"Open In Colab\"/></a>"
      ]
    },
    {
      "cell_type": "markdown",
      "source": [
        "# **Import the necessary packages**"
      ],
      "metadata": {
        "id": "A8byuR73hZou"
      }
    },
    {
      "cell_type": "code",
      "execution_count": 1,
      "metadata": {
        "id": "RGFMM6rzGN8X"
      },
      "outputs": [],
      "source": [
        "import torch\n",
        "import tensorflow_datasets as tfds\n",
        "from sklearn.model_selection import train_test_split"
      ]
    },
    {
      "cell_type": "code",
      "source": [
        "%pip install torchmetrics --quiet"
      ],
      "metadata": {
        "colab": {
          "base_uri": "https://localhost:8080/"
        },
        "id": "ZwSFM-5cGVCQ",
        "outputId": "fc5676ae-50e1-4b25-9324-cddc619065f0"
      },
      "execution_count": 2,
      "outputs": [
        {
          "output_type": "stream",
          "name": "stdout",
          "text": [
            "\u001b[?25l     \u001b[90m━━━━━━━━━━━━━━━━━━━━━━━━━━━━━━━━━━━━━━━━\u001b[0m \u001b[32m0.0/517.2 KB\u001b[0m \u001b[31m?\u001b[0m eta \u001b[36m-:--:--\u001b[0m\r\u001b[2K     \u001b[91m━━━━━━━━━━━━━━━━━━━━━━━━━━━━━━━━━━━━━\u001b[0m\u001b[91m╸\u001b[0m \u001b[32m512.0/517.2 KB\u001b[0m \u001b[31m44.0 MB/s\u001b[0m eta \u001b[36m0:00:01\u001b[0m\r\u001b[2K     \u001b[90m━━━━━━━━━━━━━━━━━━━━━━━━━━━━━━━━━━━━━━━\u001b[0m \u001b[32m517.2/517.2 KB\u001b[0m \u001b[31m7.4 MB/s\u001b[0m eta \u001b[36m0:00:00\u001b[0m\n",
            "\u001b[?25h"
          ]
        }
      ]
    },
    {
      "cell_type": "code",
      "source": [
        "import torchmetrics\n",
        "import torchvision"
      ],
      "metadata": {
        "id": "AixjLToEGXTu"
      },
      "execution_count": 3,
      "outputs": []
    },
    {
      "cell_type": "code",
      "source": [
        "from torch import nn\n",
        "from torch.nn import functional as F"
      ],
      "metadata": {
        "id": "P6RM2Jl2houG"
      },
      "execution_count": 4,
      "outputs": []
    },
    {
      "cell_type": "code",
      "source": [
        "from functorch import jvp\n",
        "from functools import partial\n",
        "import time "
      ],
      "metadata": {
        "id": "bHL9j7p3htiz"
      },
      "execution_count": 5,
      "outputs": []
    },
    {
      "cell_type": "code",
      "source": [
        "import matplotlib.pyplot as plt"
      ],
      "metadata": {
        "id": "gUH3HvxGhxbg"
      },
      "execution_count": 6,
      "outputs": []
    },
    {
      "cell_type": "markdown",
      "source": [
        "# **Loading and preprocessing the data**"
      ],
      "metadata": {
        "id": "274jTIjiGeQW"
      }
    },
    {
      "cell_type": "code",
      "source": [
        "#Load the dataset\n",
        "penguins = tfds.load('penguins', as_supervised=True, split='train')"
      ],
      "metadata": {
        "colab": {
          "base_uri": "https://localhost:8080/",
          "height": 116,
          "referenced_widgets": [
            "780ee16a7ab04820b16386f0fce564b9",
            "017b4b9537194e17b4974777452f4161",
            "da5e4076f1004c969b096d9e89b71034",
            "6d90c42e5a864fef944f63356cad2fc2",
            "013138fa82154a1b911ee6250ec9f741",
            "4c4b26ee7d994fcd971ae540f31c2770",
            "e8ca861a60bf49c3bb2c522d8a7f9feb",
            "7948640dfdd04d2496443564e16cb466",
            "b514117b1e3145a88574589377a335b4",
            "401c38487b4e41d7b9433db6c69e00c2",
            "a58b490f9ff349f9aeb20063ed6dc08d",
            "66c6769aba794d8fb51c90c78130523a",
            "a4bfdbc58cf74b7c9e8a29e7dbe99322",
            "cba663a5da724536bc930c9aa14f4af0",
            "0293586dfa844e2aaac113d5fe3d9209",
            "bda13cbea333488087e249d5e18735e4",
            "1db20a459086457c87ad76d87438b0cf",
            "33a5de54d3594c07bc8a92d14908f6f3",
            "71de7e2b13a7473d9689fa30b36075e1",
            "449454e02d664effabc5793a9c5df270",
            "7c5404e7b7a34f6fa3d0a07c9163ae0d",
            "5dd3cc6eb28b4d73813216ca51d990ac",
            "76d94c4c5de74674868475a65bf0871f",
            "b5448c22d3b54e2390ca21622a1ad95a",
            "bc99977f75d14a4091472bb5f21cd5cc",
            "9ebafb0fa4d648969cd463ef24ecb90f",
            "3f2dc0901f764c16afda98ec93fa66b4",
            "c08ca59835384f37a1c4a3c16f2d81d7",
            "adfdad25594a4466a9cd19d76d443c89",
            "703b6f176ad140a38c439ae6044902bb",
            "72371fcbdf8d4bbbace2ae72d76b6bcd",
            "de340d7eda88450e85874e89cb4a9402",
            "f4654fb9427848459b27c299bf601030",
            "5a7a1f25f6664b85b2c64d84548c16b4",
            "59b8926b832e4c3baa87a2dec5497077",
            "47020bdb8c904fc0a77949d143a76965",
            "05c244c97b9344ffba7655c47943b031",
            "097efed7b39d4257a6281a227262a93f",
            "ab3f3e35d7dd4ef2975599b9a3d86613",
            "b28044e5464d499c95761e6728bc77ad",
            "ccededb5e89d4150b38f59bd1e0433c6",
            "6f9892bff51942ad844209d84586efc8",
            "eba50b006139454e9c9dcaeefbd1c892",
            "e3c15fe99e8e4b048c35650ed9c9e6c1",
            "ac92a94320094c3ba9b6139c09d0d3ee",
            "0b52bbeb92ad475d9fb4b7011b75e475",
            "2f4f2b54195d4453943f3615899a238b",
            "2c3d4a55b1fb4ac0925751f57bc71f96",
            "7fc98c5d42fb478eaad4b3cf0034d04e",
            "022ca2d0ed164f6cb65cade87177596a",
            "0f057f08a7ec4fcdb8379340a6688553",
            "f93210e83d5c44dc832f2ffddd572fef",
            "eb41699896854351b6aa5b9fdd7115c2",
            "1ea994078db9409398f59cb9e8d43021",
            "81858bd6090b43f89645929a712778ca"
          ]
        },
        "id": "4c8PoWqGGba7",
        "outputId": "92569644-54aa-4cf1-a917-f4dd04e21e65"
      },
      "execution_count": 7,
      "outputs": [
        {
          "output_type": "stream",
          "name": "stdout",
          "text": [
            "Downloading and preparing dataset 25.05 KiB (download: 25.05 KiB, generated: 17.61 KiB, total: 42.66 KiB) to /root/tensorflow_datasets/penguins/processed/1.0.0...\n"
          ]
        },
        {
          "output_type": "display_data",
          "data": {
            "text/plain": [
              "Dl Completed...: 0 url [00:00, ? url/s]"
            ],
            "application/vnd.jupyter.widget-view+json": {
              "version_major": 2,
              "version_minor": 0,
              "model_id": "780ee16a7ab04820b16386f0fce564b9"
            }
          },
          "metadata": {}
        },
        {
          "output_type": "display_data",
          "data": {
            "text/plain": [
              "Dl Size...: 0 MiB [00:00, ? MiB/s]"
            ],
            "application/vnd.jupyter.widget-view+json": {
              "version_major": 2,
              "version_minor": 0,
              "model_id": "66c6769aba794d8fb51c90c78130523a"
            }
          },
          "metadata": {}
        },
        {
          "output_type": "display_data",
          "data": {
            "text/plain": [
              "Generating splits...:   0%|          | 0/1 [00:00<?, ? splits/s]"
            ],
            "application/vnd.jupyter.widget-view+json": {
              "version_major": 2,
              "version_minor": 0,
              "model_id": "76d94c4c5de74674868475a65bf0871f"
            }
          },
          "metadata": {}
        },
        {
          "output_type": "display_data",
          "data": {
            "text/plain": [
              "Generating train examples...:   0%|          | 0/334 [00:00<?, ? examples/s]"
            ],
            "application/vnd.jupyter.widget-view+json": {
              "version_major": 2,
              "version_minor": 0,
              "model_id": "5a7a1f25f6664b85b2c64d84548c16b4"
            }
          },
          "metadata": {}
        },
        {
          "output_type": "display_data",
          "data": {
            "text/plain": [
              "Shuffling /root/tensorflow_datasets/penguins/processed/1.0.0.incompleteY4UD1D/penguins-train.tfrecord*...:   0…"
            ],
            "application/vnd.jupyter.widget-view+json": {
              "version_major": 2,
              "version_minor": 0,
              "model_id": "ac92a94320094c3ba9b6139c09d0d3ee"
            }
          },
          "metadata": {}
        },
        {
          "output_type": "stream",
          "name": "stdout",
          "text": [
            "Dataset penguins downloaded and prepared to /root/tensorflow_datasets/penguins/processed/1.0.0. Subsequent calls will reuse this data.\n"
          ]
        }
      ]
    },
    {
      "cell_type": "code",
      "source": [
        "X, y = penguins.batch(500).get_single_element()\n",
        "X, y = X.numpy(), y.numpy()"
      ],
      "metadata": {
        "id": "1F8ymiUgGjP7"
      },
      "execution_count": 8,
      "outputs": []
    },
    {
      "cell_type": "code",
      "source": [
        "Xtrain, Xtest, ytrain, ytest = train_test_split(X, y, stratify=y)"
      ],
      "metadata": {
        "id": "qm44Zk8UGlY9"
      },
      "execution_count": 9,
      "outputs": []
    },
    {
      "cell_type": "code",
      "source": [
        "Xtrain = torch.from_numpy(Xtrain).float()\n",
        "Xtest = torch.from_numpy(Xtest).float()"
      ],
      "metadata": {
        "id": "8rO9zga9GnND"
      },
      "execution_count": 10,
      "outputs": []
    },
    {
      "cell_type": "code",
      "source": [
        "ytrain = torch.from_numpy(ytrain).long()\n",
        "ytest = torch.from_numpy(ytest).long()"
      ],
      "metadata": {
        "id": "KL3MEH78Goub"
      },
      "execution_count": 11,
      "outputs": []
    },
    {
      "cell_type": "markdown",
      "source": [
        "# **Define MultiLayer Neural Network**"
      ],
      "metadata": {
        "id": "xz1J58BvGuhC"
      }
    },
    {
      "cell_type": "code",
      "source": [
        "class MNN(nn.Module):\n",
        "  def __init__(self, input_size, fc1w, fc1b, fc2w, fc2b, fc3w, fc3b):\n",
        "    super().__init__()\n",
        "\n",
        "    self.w1 = nn.Parameter(fc1w)\n",
        "    self.b1 = nn.Parameter(fc1b)\n",
        "    \n",
        "    self.w2 = nn.Parameter(fc2w)\n",
        "    self.b2 = nn.Parameter(fc2b)\n",
        "\n",
        "    self.w3 = nn.Parameter(fc3w)\n",
        "    self.b3 = nn.Parameter(fc3b)\n",
        "\n",
        "  def forward(self, x):\n",
        "    x = F.relu(x@self.w1 + self.b1)\n",
        "    x = F.relu(x@self.w2 + self.b2)\n",
        "    x = x@self.w3 + self.b3\n",
        "    x = x.reshape(1, -1)\n",
        "    return torch.softmax(x, 1)"
      ],
      "metadata": {
        "id": "zK9pTmv1G0GH"
      },
      "execution_count": 12,
      "outputs": []
    },
    {
      "cell_type": "code",
      "source": [
        "# We check if CUDA is available\n",
        "device = 'cuda' if torch.cuda.is_available() else 'cpu'\n",
        "print(device)"
      ],
      "metadata": {
        "colab": {
          "base_uri": "https://localhost:8080/"
        },
        "id": "O0WezWamIP-J",
        "outputId": "6d3b2da2-d32e-4568-a163-2f601d813c7e"
      },
      "execution_count": 13,
      "outputs": [
        {
          "output_type": "stream",
          "name": "stdout",
          "text": [
            "cuda\n"
          ]
        }
      ]
    },
    {
      "cell_type": "markdown",
      "source": [
        "# **Initialize the parameters**"
      ],
      "metadata": {
        "id": "3-ldbl8dIUaQ"
      }
    },
    {
      "cell_type": "code",
      "source": [
        "# We initialize the parameters randomly with values in [-1, 1] and the model with an input size\n",
        "fc1w = torch.FloatTensor(4, 64).uniform_(-1, 1)\n",
        "fc1b = torch.FloatTensor(64).uniform_(-1, 1)\n",
        "fc2w = torch.FloatTensor(64, 8).uniform_(-1, 1)\n",
        "fc2b = torch.FloatTensor(8).uniform_(-1, 1)\n",
        "fc3w = torch.FloatTensor(8, 3).uniform_(-1, 1)\n",
        "fc3b = torch.FloatTensor(3).uniform_(-1, 1)\n",
        "mnn = MNN(4, fc1w, fc1b, fc2w, fc2b, fc3w, fc3b).to(device)"
      ],
      "metadata": {
        "id": "16G8N7AxISUm"
      },
      "execution_count": 30,
      "outputs": []
    },
    {
      "cell_type": "code",
      "source": [
        "# We try our model with the first example\n",
        "print(mnn(Xtrain[0].to(device)))"
      ],
      "metadata": {
        "colab": {
          "base_uri": "https://localhost:8080/"
        },
        "id": "_QRhlie-I3M9",
        "outputId": "d36706c4-746e-40ed-c2bc-5b163fa398e3"
      },
      "execution_count": 31,
      "outputs": [
        {
          "output_type": "stream",
          "name": "stdout",
          "text": [
            "tensor([[0.1128, 0.2972, 0.5900]], device='cuda:0', grad_fn=<SoftmaxBackward0>)\n"
          ]
        }
      ]
    },
    {
      "cell_type": "markdown",
      "source": [
        "Calculate predictions"
      ],
      "metadata": {
        "id": "5AG5HrfCZjk4"
      }
    },
    {
      "cell_type": "code",
      "source": [
        "def pred(x, fc1w, fc1b, fc2w, fc2b, fc3w, fc3b):\n",
        "  ypred=torch.randn((x.shape[0],3))\n",
        "  for j in range (x.shape[0]):\n",
        "    xj = x[j]\n",
        "    xj = F.relu(xj@fc1w + fc1b)\n",
        "    xj = F.relu(xj@fc2w + fc2b)\n",
        "    xj = xj@fc3w + fc3b\n",
        "    xj = xj.reshape(1, -1)\n",
        "    ypred[j]=torch.softmax(xj, 1)\n",
        "  return ypred"
      ],
      "metadata": {
        "id": "dVyKl_v3Zm4h"
      },
      "execution_count": 32,
      "outputs": []
    },
    {
      "cell_type": "code",
      "source": [
        "ypred = pred(Xtrain, fc1w, fc1b, fc2w, fc2b, fc3w, fc3b)"
      ],
      "metadata": {
        "id": "6H-GS4CxiVBz"
      },
      "execution_count": 33,
      "outputs": []
    },
    {
      "cell_type": "markdown",
      "source": [
        "# **Define accuracy**"
      ],
      "metadata": {
        "id": "tV36IjptJdCH"
      }
    },
    {
      "cell_type": "code",
      "source": [
        "def accuracy(ytrue, ypred):\n",
        "  return (ypred.argmax(1) == ytrue).float().mean()"
      ],
      "metadata": {
        "id": "s6NncsZzJZ2B"
      },
      "execution_count": 34,
      "outputs": []
    },
    {
      "cell_type": "code",
      "source": [
        "# Average accuracy at initialization is 33% (random guessing)\n",
        "accuracy(ytrain.to(device), ypred.to(device))"
      ],
      "metadata": {
        "colab": {
          "base_uri": "https://localhost:8080/"
        },
        "id": "MdQH3dDjJhGh",
        "outputId": "36af2088-a2ec-496a-fef9-af80160fb327"
      },
      "execution_count": 35,
      "outputs": [
        {
          "output_type": "execute_result",
          "data": {
            "text/plain": [
              "tensor(0.3760, device='cuda:0')"
            ]
          },
          "metadata": {},
          "execution_count": 35
        }
      ]
    },
    {
      "cell_type": "markdown",
      "source": [
        "# **Define Cross-Entropy**"
      ],
      "metadata": {
        "id": "Yv2v16UNMb2W"
      }
    },
    {
      "cell_type": "markdown",
      "source": [
        "We define one cross_entropy function for each parameter because we will define later partial functions and the parameters need to be in a different order"
      ],
      "metadata": {
        "id": "qs2QR2iti__B"
      }
    },
    {
      "cell_type": "code",
      "source": [
        "def cross_entropyWfc1(fc1w, fc1b, fc2w, fc2b, fc3w, fc3b, ytrue, x):\n",
        "  ypred=torch.randn((ytrue.shape[0],3))\n",
        "  for j in range (ytrue.shape[0]):\n",
        "    xj = x[j]\n",
        "    xj = F.relu(xj@fc1w + fc1b)\n",
        "    xj = F.relu(xj@fc2w + fc2b)\n",
        "    xj = xj@fc3w + fc3b\n",
        "    xj = xj.reshape(1, -1)\n",
        "    ypred[j]=torch.softmax(xj, 1)\n",
        "  ypred = ypred.to(device)\n",
        "  return - ypred[torch.arange(0, ypred.shape[0]), ytrue].log().mean()"
      ],
      "metadata": {
        "id": "oDytoEaiMYOg"
      },
      "execution_count": 87,
      "outputs": []
    },
    {
      "cell_type": "code",
      "source": [
        "def cross_entropyBfc1(fc1b, fc1w, fc2w, fc2b, fc3w, fc3b, ytrue, x):\n",
        "  ypred=torch.randn((ytrue.shape[0],3))\n",
        "  for j in range (ytrue.shape[0]):\n",
        "    xj = x[j]\n",
        "    xj = F.relu(xj@fc1w + fc1b)\n",
        "    xj = F.relu(xj@fc2w + fc2b)\n",
        "    xj = xj@fc3w + fc3b\n",
        "    xj = xj.reshape(1, -1)\n",
        "    ypred[j]=torch.softmax(xj, 1)\n",
        "  ypred = ypred.to(device)\n",
        "  return - ypred[torch.arange(0, ypred.shape[0]), ytrue].log().mean()"
      ],
      "metadata": {
        "id": "2DWaptYYPWEn"
      },
      "execution_count": 88,
      "outputs": []
    },
    {
      "cell_type": "code",
      "source": [
        "def cross_entropyWfc2(fc2w, fc1b, fc1w, fc2b, fc3w, fc3b, ytrue, x):\n",
        "  ypred=torch.randn((ytrue.shape[0],3))\n",
        "  for j in range (ytrue.shape[0]):\n",
        "    xj = x[j]\n",
        "    xj = F.relu(xj@fc1w + fc1b)\n",
        "    xj = F.relu(xj@fc2w + fc2b)\n",
        "    xj = xj@fc3w + fc3b\n",
        "    xj = xj.reshape(1, -1)\n",
        "    ypred[j]=torch.softmax(xj, 1)\n",
        "  ypred = ypred.to(device)\n",
        "  return - ypred[torch.arange(0, ypred.shape[0]), ytrue].log().mean()"
      ],
      "metadata": {
        "id": "m2ANY9djPZ45"
      },
      "execution_count": 89,
      "outputs": []
    },
    {
      "cell_type": "code",
      "source": [
        "def cross_entropyBfc2(fc2b, fc1b, fc2w, fc1w, fc3w, fc3b, ytrue, x):\n",
        "  ypred=torch.randn((ytrue.shape[0],3))\n",
        "  for j in range (ytrue.shape[0]):\n",
        "    xj = x[j]\n",
        "    xj = F.relu(xj@fc1w + fc1b)\n",
        "    xj = F.relu(xj@fc2w + fc2b)\n",
        "    xj = xj@fc3w + fc3b\n",
        "    xj = xj.reshape(1, -1)\n",
        "    ypred[j]=torch.softmax(xj, 1)\n",
        "  ypred = ypred.to(device)\n",
        "  return - ypred[torch.arange(0, ypred.shape[0]), ytrue].log().mean()"
      ],
      "metadata": {
        "id": "1e4XGWW-Pez9"
      },
      "execution_count": 90,
      "outputs": []
    },
    {
      "cell_type": "code",
      "source": [
        "def cross_entropyWfc3(fc3w, fc1b, fc2w, fc2b, fc1w, fc3b, ytrue, x):\n",
        "  ypred=torch.randn((ytrue.shape[0],3))\n",
        "  for j in range (ytrue.shape[0]):\n",
        "    xj = x[j]\n",
        "    xj = F.relu(xj@fc1w + fc1b)\n",
        "    xj = F.relu(xj@fc2w + fc2b)\n",
        "    xj = xj@fc3w + fc3b\n",
        "    xj = xj.reshape(1, -1)\n",
        "    ypred[j]=torch.softmax(xj, 1)\n",
        "  ypred = ypred.to(device)\n",
        "  return - ypred[torch.arange(0, ypred.shape[0]), ytrue].log().mean()"
      ],
      "metadata": {
        "id": "yJYOJNfRPjRJ"
      },
      "execution_count": 91,
      "outputs": []
    },
    {
      "cell_type": "code",
      "source": [
        "def cross_entropyBfc3(fc3b, fc1b, fc2w, fc2b, fc3w, fc1w, ytrue, x):\n",
        "  ypred=torch.randn((ytrue.shape[0],3))\n",
        "  for j in range (ytrue.shape[0]):\n",
        "    xj = x[j]\n",
        "    xj = F.relu(xj@fc1w + fc1b)\n",
        "    xj = F.relu(xj@fc2w + fc2b)\n",
        "    xj = xj@fc3w + fc3b\n",
        "    xj = xj.reshape(1, -1)\n",
        "    ypred[j]=torch.softmax(xj, 1)\n",
        "  ypred = ypred.to(device)\n",
        "  return - ypred[torch.arange(0, ypred.shape[0]), ytrue].log().mean()"
      ],
      "metadata": {
        "id": "lEX0IcVqPneI"
      },
      "execution_count": 92,
      "outputs": []
    },
    {
      "cell_type": "code",
      "source": [
        "# We check that the output of all the cross_entropy functions is the same\n",
        "print(cross_entropyWfc1(fc1w.to(device), fc1b.to(device), fc2w.to(device), fc2b.to(device), fc3w.to(device), fc3b.to(device), ytrain.to(device), Xtrain.to(device)))\n",
        "print(cross_entropyBfc1(fc1b.to(device), fc1w.to(device), fc2w.to(device), fc2b.to(device), fc3w.to(device), fc3b.to(device), ytrain.to(device), Xtrain.to(device)))\n",
        "print(cross_entropyWfc2(fc2w.to(device), fc1b.to(device), fc1w.to(device), fc2b.to(device), fc3w.to(device), fc3b.to(device), ytrain.to(device), Xtrain.to(device)))\n",
        "print(cross_entropyBfc2(fc2b.to(device), fc1b.to(device), fc2w.to(device), fc1w.to(device), fc3w.to(device), fc3b.to(device), ytrain.to(device), Xtrain.to(device)))\n",
        "print(cross_entropyWfc3(fc3w.to(device), fc1b.to(device), fc2w.to(device), fc2b.to(device), fc1w.to(device), fc3b.to(device), ytrain.to(device), Xtrain.to(device)))\n",
        "print(cross_entropyBfc3(fc3b.to(device), fc1b.to(device), fc2w.to(device), fc2b.to(device), fc3w.to(device), fc1w.to(device), ytrain.to(device), Xtrain.to(device)))"
      ],
      "metadata": {
        "colab": {
          "base_uri": "https://localhost:8080/"
        },
        "id": "tRXOEhezNDYx",
        "outputId": "8213798d-18fd-4043-b7a6-bfe15e0f9cdf"
      },
      "execution_count": 93,
      "outputs": [
        {
          "output_type": "stream",
          "name": "stdout",
          "text": [
            "tensor(1.0407, device='cuda:0')\n",
            "tensor(1.0407, device='cuda:0')\n",
            "tensor(1.0407, device='cuda:0')\n",
            "tensor(1.0407, device='cuda:0')\n",
            "tensor(1.0407, device='cuda:0')\n",
            "tensor(1.0407, device='cuda:0')\n"
          ]
        }
      ]
    },
    {
      "cell_type": "markdown",
      "source": [
        "Define error"
      ],
      "metadata": {
        "id": "VzJr41-NbT6m"
      }
    },
    {
      "cell_type": "code",
      "source": [
        "def error(ytrue, model, x):\n",
        "  error=0\n",
        "  for i in range (ytrue.size(0)):\n",
        "    ypredi = model(x[i].to(device))\n",
        "    if (ypredi.argmax(1)- ytrue[i])!=0:\n",
        "      error = error+ 1\n",
        "  return error"
      ],
      "metadata": {
        "id": "5TQbE3_jbTlE"
      },
      "execution_count": 98,
      "outputs": []
    },
    {
      "cell_type": "markdown",
      "source": [
        "# **Other activation functions**"
      ],
      "metadata": {
        "id": "YRuOpXfYks8P"
      }
    },
    {
      "cell_type": "code",
      "source": [
        "def beale_function(x):\n",
        "  return (torch.pow(torch.tensor([1.5])-x[0]+x[0]*x[1],2) + torch.pow(torch.tensor([2.25])-x[0]+x[0]*torch.pow(x[1],2),2)+torch.pow(torch.tensor([2.625])-x[0]+x[0]*torch.pow(x[1],3),2))"
      ],
      "metadata": {
        "id": "MxQXi8yGJrH6"
      },
      "execution_count": 59,
      "outputs": []
    },
    {
      "cell_type": "code",
      "source": [
        "def rosenbrock_function(x):\n",
        "  sum=0\n",
        "  for p in x.size():\n",
        "    for i in range (x.size(1)-1):\n",
        "      sum += (100*torch.pow(x[i+1] - torch.pow(x[i], 2), 2) + torch.pow(x[i]-1, 2))\n",
        "  return sum"
      ],
      "metadata": {
        "id": "DDu01BDoJtEI"
      },
      "execution_count": 60,
      "outputs": []
    },
    {
      "cell_type": "code",
      "source": [
        "def sphere_function(x):\n",
        "  sum=0\n",
        "  for i in range(x.size(0)):\n",
        "    sum += torch.pow(x[i], 2)\n",
        "  return sum"
      ],
      "metadata": {
        "id": "mNXfotdHk2QS"
      },
      "execution_count": 61,
      "outputs": []
    },
    {
      "cell_type": "markdown",
      "source": [
        "# **Train and evaluate the network**"
      ],
      "metadata": {
        "id": "9QgUYpzXlCB6"
      }
    },
    {
      "cell_type": "code",
      "source": [
        "def train_fwd_gradient(x, y):\n",
        "  x, y = x.to(device), y.to(device)\n",
        "\n",
        "  losses = [] #Vector with the cross_entropy values of the test set\n",
        "  accuracies = [] #Vector with the accuracy values of the test set\n",
        "  errors = [] #Vector with the number of misclassifications of the test set\n",
        "\n",
        "  l_rate0 = 0.05 #Learning rate used\n",
        "\n",
        "  # Initialize the parameters\n",
        "  fc1w = torch.FloatTensor(4, 64).uniform_(-1, 1)\n",
        "  fc1b = torch.FloatTensor(64).uniform_(-1, 1)\n",
        "  fc2w = torch.FloatTensor(64, 8).uniform_(-1, 1)\n",
        "  fc2b = torch.FloatTensor(8).uniform_(-1, 1)\n",
        "  fc3w = torch.FloatTensor(8, 3).uniform_(-1, 1)\n",
        "  fc3b = torch.FloatTensor(3).uniform_(-1, 1)\n",
        "\n",
        "  fc1w, fc1b, fc2w, fc2b, fc3w, fc3b = fc1w.to(device), fc1b.to(device), fc2w.to(device), fc2b.to(device), fc3w.to(device), fc3b.to(device)\n",
        "\n",
        "  loss = cross_entropyWfc1(fc1w, fc1b, fc2w, fc2b, fc3w, fc3b, y, x) # Loss function\n",
        "\n",
        "  t=0\n",
        "  t0 = time.time()\n",
        "\n",
        "  while (loss>0.2) :\n",
        "\n",
        "    # We define the following vectors as a perturbation vector taken as a multivariate random variable (such that their scalar components are independent and have zero mean \n",
        "    # and unit variance)\n",
        "\n",
        "    vfc1w=torch.randn(fc1w.shape).to(device)\n",
        "    vfc1w=(vfc1w - torch.mean(vfc1w))/torch.std(vfc1w)\n",
        "    vfc1b=torch.randn(fc1b.shape).to(device)\n",
        "    vfc1b=(vfc1b - torch.mean(vfc1b))/torch.std(vfc1b)\n",
        "    vfc2w=torch.randn(fc2w.shape).to(device)\n",
        "    vfc2w=(vfc2w - torch.mean(vfc2w))/torch.std(vfc2w)\n",
        "    vfc2b=torch.randn(fc2b.shape).to(device)\n",
        "    vfc2b=(vfc2b - torch.mean(vfc2b))/torch.std(vfc2b)\n",
        "    vfc3w=torch.randn(fc3w.shape).to(device)\n",
        "    vfc3w=(vfc3w - torch.mean(vfc3w))/torch.std(vfc3w)\n",
        "    vfc3b=torch.randn(fc3b.shape).to(device)\n",
        "    vfc3b=(vfc3b - torch.mean(vfc3b))/torch.std(vfc3b)\n",
        "\n",
        "    # We define a partial function for each of the parameters\n",
        "    fw1 = partial(cross_entropyWfc1, fc1b=fc1b, fc2w=fc2w, fc2b=fc2b, fc3w=fc3w, fc3b=fc3b, ytrue=y, x=x)\n",
        "    fb1 = partial(cross_entropyBfc1, fc1w=fc1w, fc2w=fc2w, fc2b=fc2b, fc3w=fc3w, fc3b=fc3b, ytrue=y, x=x)\n",
        "    fw2 = partial(cross_entropyWfc2, fc1b=fc1b, fc1w=fc1w, fc2b=fc2b, fc3w=fc3w, fc3b=fc3b, ytrue=y, x=x)\n",
        "    fb2 = partial(cross_entropyBfc2, fc1b=fc1b, fc2w=fc2w, fc1w=fc1w, fc3w=fc3w, fc3b=fc3b, ytrue=y, x=x)\n",
        "    fw3 = partial(cross_entropyWfc3, fc1b=fc1b, fc2w=fc2w, fc2b=fc2b, fc1w=fc1w, fc3b=fc3b, ytrue=y, x=x)\n",
        "    fb3 = partial(cross_entropyBfc3, fc1b=fc1b, fc2w=fc2w, fc2b=fc2b, fc3w=fc3w, fc1w=fc1w, ytrue=y, x=x)\n",
        "\n",
        "    # We compute the cross_entropy and the directional derivative of cross_entropy at each parameter in direction v simultaneously and without having to compute\n",
        "    # ∇cross_entropy in the process\n",
        "    #This is also known as forward-mode autodiff\n",
        "    ftw1, dtw1=jvp(fw1,(fc1w, ), (vfc1w, ))\n",
        "    ftb1, dtb1=jvp(fb1,(fc1b, ), (vfc1b, ))\n",
        "    ftw2, dtw2=jvp(fw2,(fc2w, ), (vfc2w, ))\n",
        "    ftb2, dtb2=jvp(fb2,(fc2b, ), (vfc2b, ))\n",
        "    ftw3, dtw3=jvp(fw3,(fc3w, ), (vfc3w, ))\n",
        "    ftb3, dtb3=jvp(fb3,(fc3b, ), (vfc3b, ))\n",
        "\n",
        "    # We multiply the scalar directional derivative ∇cross_entropy(θ)·v with vector v and obtain g(θ), the forward gradient (where θ represents each one of our parameters)\n",
        "    gtw1 = vfc1w*dtw1\n",
        "    gtb1 = vfc1b*dtb1\n",
        "    gtw2 = vfc2w*dtw2\n",
        "    gtb2 = vfc2b*dtb2\n",
        "    gtw3 = vfc3w*dtw3\n",
        "    gtb3 = vfc3b*dtb3\n",
        "\n",
        "    # Update the parameters\n",
        "    fc1w -= l_rate0*gtw1\n",
        "    fc1b -= l_rate0*gtb1\n",
        "    fc2w -= l_rate0*gtw2\n",
        "    fc2b -= l_rate0*gtb2\n",
        "    fc3w -= l_rate0*gtw3\n",
        "    fc3b -= l_rate0*gtb3\n",
        "\n",
        "    # We calculate the number of the misclassfications of the test set with the updated model and we add it to the errors vector\n",
        "    mnn = MNN(4, fc1w, fc1b, fc2w, fc2b, fc3w, fc3b)\n",
        "    ypred = pred(Xtest.to(device), fc1w, fc1b, fc2w, fc2b, fc3w, fc3b)\n",
        "    errors.append(error(ytest, mnn, Xtest))\n",
        "\n",
        "    # We calculate the cross_entropy of the test set with the updated model and we add it to the losses vector\n",
        "    losses.append(cross_entropyWfc1(fc1w, fc1b, fc2w, fc2b, fc3w, fc3b, ytest.to(device), Xtest.to(device)).cpu())\n",
        "\n",
        "    # We calculate the accuracy of the test set with the updated model and we add it to the accuracies vector\n",
        "    accuracies.append(accuracy(ytest, ypred).item())\n",
        "\n",
        "    # We calculate the loss\n",
        "    loss = cross_entropyWfc1(fc1w, fc1b, fc2w, fc2b, fc3w, fc3b, y, x)\n",
        "\n",
        "    # We add the execution time of the iteration\n",
        "    t1=time.time()\n",
        "    t+=t1-t0\n",
        "    t0=t1\n",
        "    print('Time', t, 'loss', loss)\n",
        "\n",
        "  return fc1w, fc1b, fc2w, fc2b, fc3w, fc3b, losses, accuracies, errors"
      ],
      "metadata": {
        "id": "opL05wseJww-"
      },
      "execution_count": 111,
      "outputs": []
    },
    {
      "cell_type": "code",
      "source": [
        "fc1w, fc1b, fc2w, fc2b, fc3w, fc3b, losses, accuracies, errors = train_fwd_gradient(Xtrain, ytrain)"
      ],
      "metadata": {
        "id": "XqzXxD74MDf1",
        "colab": {
          "base_uri": "https://localhost:8080/"
        },
        "outputId": "58faccae-1cf6-4870-f94c-a009a33c0f5a"
      },
      "execution_count": 112,
      "outputs": [
        {
          "output_type": "stream",
          "name": "stdout",
          "text": [
            "Time 1.0758261680603027 loss tensor(0.9022, device='cuda:0')\n",
            "Time 2.2528738975524902 loss tensor(0.8597, device='cuda:0')\n",
            "Time 3.7518606185913086 loss tensor(0.8610, device='cuda:0')\n",
            "Time 4.95250678062439 loss tensor(0.8267, device='cuda:0')\n",
            "Time 6.039234399795532 loss tensor(0.9539, device='cuda:0')\n",
            "Time 7.138640880584717 loss tensor(0.7302, device='cuda:0')\n",
            "Time 8.222017765045166 loss tensor(0.7103, device='cuda:0')\n",
            "Time 9.302750587463379 loss tensor(0.6392, device='cuda:0')\n",
            "Time 10.378469228744507 loss tensor(0.6256, device='cuda:0')\n",
            "Time 11.488531589508057 loss tensor(0.6167, device='cuda:0')\n",
            "Time 12.569540023803711 loss tensor(0.5922, device='cuda:0')\n",
            "Time 13.651004076004028 loss tensor(0.5805, device='cuda:0')\n",
            "Time 14.975384950637817 loss tensor(0.5400, device='cuda:0')\n",
            "Time 16.467235803604126 loss tensor(0.4531, device='cuda:0')\n",
            "Time 17.532479524612427 loss tensor(0.4250, device='cuda:0')\n",
            "Time 18.605955123901367 loss tensor(0.4497, device='cuda:0')\n",
            "Time 19.69191336631775 loss tensor(0.4137, device='cuda:0')\n",
            "Time 20.77810788154602 loss tensor(0.3640, device='cuda:0')\n",
            "Time 21.86717987060547 loss tensor(0.3517, device='cuda:0')\n",
            "Time 22.944849014282227 loss tensor(0.3406, device='cuda:0')\n",
            "Time 24.015252828598022 loss tensor(0.3320, device='cuda:0')\n",
            "Time 25.087724924087524 loss tensor(0.3298, device='cuda:0')\n",
            "Time 26.163723945617676 loss tensor(0.3269, device='cuda:0')\n",
            "Time 27.64209747314453 loss tensor(0.3010, device='cuda:0')\n",
            "Time 28.982932090759277 loss tensor(0.2970, device='cuda:0')\n",
            "Time 30.064562559127808 loss tensor(0.2890, device='cuda:0')\n",
            "Time 31.16137957572937 loss tensor(0.2825, device='cuda:0')\n",
            "Time 32.25888133049011 loss tensor(0.2811, device='cuda:0')\n",
            "Time 33.314871072769165 loss tensor(0.2742, device='cuda:0')\n",
            "Time 34.36921453475952 loss tensor(0.2678, device='cuda:0')\n",
            "Time 35.44196081161499 loss tensor(0.2501, device='cuda:0')\n",
            "Time 36.513075828552246 loss tensor(0.2502, device='cuda:0')\n",
            "Time 37.582205295562744 loss tensor(0.2400, device='cuda:0')\n",
            "Time 38.768826961517334 loss tensor(0.2375, device='cuda:0')\n",
            "Time 40.26232933998108 loss tensor(0.2363, device='cuda:0')\n",
            "Time 41.44162583351135 loss tensor(0.2323, device='cuda:0')\n",
            "Time 42.51024866104126 loss tensor(0.2293, device='cuda:0')\n",
            "Time 43.58621597290039 loss tensor(0.2219, device='cuda:0')\n",
            "Time 44.650901794433594 loss tensor(0.2156, device='cuda:0')\n",
            "Time 45.75217342376709 loss tensor(0.2087, device='cuda:0')\n",
            "Time 46.81096029281616 loss tensor(0.1992, device='cuda:0')\n"
          ]
        }
      ]
    },
    {
      "cell_type": "code",
      "source": [
        "plt.plot(losses)"
      ],
      "metadata": {
        "colab": {
          "base_uri": "https://localhost:8080/",
          "height": 285
        },
        "id": "bOdzQ_Lgc2dX",
        "outputId": "4b24067b-aa4b-448e-b158-3dafb4e79bdf"
      },
      "execution_count": 106,
      "outputs": [
        {
          "output_type": "execute_result",
          "data": {
            "text/plain": [
              "[<matplotlib.lines.Line2D at 0x7f4bd05c4a30>]"
            ]
          },
          "metadata": {},
          "execution_count": 106
        },
        {
          "output_type": "display_data",
          "data": {
            "text/plain": [
              "<Figure size 432x288 with 1 Axes>"
            ],
            "image/png": "[encoded data removed]"
          },
          "metadata": {
            "needs_background": "light"
          }
        }
      ]
    },
    {
      "cell_type": "code",
      "source": [
        "plt.plot(accuracies)"
      ],
      "metadata": {
        "colab": {
          "base_uri": "https://localhost:8080/",
          "height": 282
        },
        "id": "ync9M037c9Wg",
        "outputId": "bceefefa-0510-43db-d1f1-fe576533b4cf"
      },
      "execution_count": 107,
      "outputs": [
        {
          "output_type": "execute_result",
          "data": {
            "text/plain": [
              "[<matplotlib.lines.Line2D at 0x7f4bd05b64f0>]"
            ]
          },
          "metadata": {},
          "execution_count": 107
        },
        {
          "output_type": "display_data",
          "data": {
            "text/plain": [
              "<Figure size 432x288 with 1 Axes>"
            ],
            "image/png": "[encoded data removed]"
          },
          "metadata": {
            "needs_background": "light"
          }
        }
      ]
    },
    {
      "cell_type": "code",
      "source": [
        "plt.plot(errors)"
      ],
      "metadata": {
        "colab": {
          "base_uri": "https://localhost:8080/",
          "height": 284
        },
        "id": "ZymwA2yZc-Su",
        "outputId": "44b99d3d-0d1a-4d0a-fad1-33f388c2daa3"
      },
      "execution_count": 108,
      "outputs": [
        {
          "output_type": "execute_result",
          "data": {
            "text/plain": [
              "[<matplotlib.lines.Line2D at 0x7f4bd0510040>]"
            ]
          },
          "metadata": {},
          "execution_count": 108
        },
        {
          "output_type": "display_data",
          "data": {
            "text/plain": [
              "<Figure size 432x288 with 1 Axes>"
            ],
            "image/png": "[encoded data removed]"
          },
          "metadata": {
            "needs_background": "light"
          }
        }
      ]
    }
  ]
}