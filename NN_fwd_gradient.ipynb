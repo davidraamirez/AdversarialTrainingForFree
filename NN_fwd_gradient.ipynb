{
  "nbformat": 4,
  "nbformat_minor": 0,
  "metadata": {
    "colab": {
      "provenance": [],
      "include_colab_link": true
    },
    "kernelspec": {
      "name": "python3",
      "display_name": "Python 3"
    },
    "language_info": {
      "name": "python"
    },
    "widgets": {
      "application/vnd.jupyter.widget-state+json": {
        "57f504e37afb4ae5bd4697cf17b69bad": {
          "model_module": "@jupyter-widgets/controls",
          "model_name": "HBoxModel",
          "model_module_version": "1.5.0",
          "state": {
            "_dom_classes": [],
            "_model_module": "@jupyter-widgets/controls",
            "_model_module_version": "1.5.0",
            "_model_name": "HBoxModel",
            "_view_count": null,
            "_view_module": "@jupyter-widgets/controls",
            "_view_module_version": "1.5.0",
            "_view_name": "HBoxView",
            "box_style": "",
            "children": [
              "IPY_MODEL_d42ee33cab134652a355825b64668e18",
              "IPY_MODEL_4d490af0073c4d26ae5e4429ad0817dd",
              "IPY_MODEL_ce5bcbcdc7324301897fde0b883a21bb"
            ],
            "layout": "IPY_MODEL_b97e77744635434e849a4b39cd0b5ec5"
          }
        },
        "d42ee33cab134652a355825b64668e18": {
          "model_module": "@jupyter-widgets/controls",
          "model_name": "HTMLModel",
          "model_module_version": "1.5.0",
          "state": {
            "_dom_classes": [],
            "_model_module": "@jupyter-widgets/controls",
            "_model_module_version": "1.5.0",
            "_model_name": "HTMLModel",
            "_view_count": null,
            "_view_module": "@jupyter-widgets/controls",
            "_view_module_version": "1.5.0",
            "_view_name": "HTMLView",
            "description": "",
            "description_tooltip": null,
            "layout": "IPY_MODEL_987e91ff7b0f4a1c9de2282f1bc2d1a7",
            "placeholder": "​",
            "style": "IPY_MODEL_e18c52c429fd46ba83b2196b1ba43227",
            "value": "Dl Completed...: 100%"
          }
        },
        "4d490af0073c4d26ae5e4429ad0817dd": {
          "model_module": "@jupyter-widgets/controls",
          "model_name": "FloatProgressModel",
          "model_module_version": "1.5.0",
          "state": {
            "_dom_classes": [],
            "_model_module": "@jupyter-widgets/controls",
            "_model_module_version": "1.5.0",
            "_model_name": "FloatProgressModel",
            "_view_count": null,
            "_view_module": "@jupyter-widgets/controls",
            "_view_module_version": "1.5.0",
            "_view_name": "ProgressView",
            "bar_style": "success",
            "description": "",
            "description_tooltip": null,
            "layout": "IPY_MODEL_b7fcb7e11cf34612ad77705dc22577ed",
            "max": 1,
            "min": 0,
            "orientation": "horizontal",
            "style": "IPY_MODEL_581cc98708c44ceea000030ad0850e58",
            "value": 1
          }
        },
        "ce5bcbcdc7324301897fde0b883a21bb": {
          "model_module": "@jupyter-widgets/controls",
          "model_name": "HTMLModel",
          "model_module_version": "1.5.0",
          "state": {
            "_dom_classes": [],
            "_model_module": "@jupyter-widgets/controls",
            "_model_module_version": "1.5.0",
            "_model_name": "HTMLModel",
            "_view_count": null,
            "_view_module": "@jupyter-widgets/controls",
            "_view_module_version": "1.5.0",
            "_view_name": "HTMLView",
            "description": "",
            "description_tooltip": null,
            "layout": "IPY_MODEL_deb683202ea74677996a45faa18eac9b",
            "placeholder": "​",
            "style": "IPY_MODEL_790d242c174e49a88198677ae2d49687",
            "value": " 1/1 [00:00&lt;00:00,  3.96 url/s]"
          }
        },
        "b97e77744635434e849a4b39cd0b5ec5": {
          "model_module": "@jupyter-widgets/base",
          "model_name": "LayoutModel",
          "model_module_version": "1.2.0",
          "state": {
            "_model_module": "@jupyter-widgets/base",
            "_model_module_version": "1.2.0",
            "_model_name": "LayoutModel",
            "_view_count": null,
            "_view_module": "@jupyter-widgets/base",
            "_view_module_version": "1.2.0",
            "_view_name": "LayoutView",
            "align_content": null,
            "align_items": null,
            "align_self": null,
            "border": null,
            "bottom": null,
            "display": null,
            "flex": null,
            "flex_flow": null,
            "grid_area": null,
            "grid_auto_columns": null,
            "grid_auto_flow": null,
            "grid_auto_rows": null,
            "grid_column": null,
            "grid_gap": null,
            "grid_row": null,
            "grid_template_areas": null,
            "grid_template_columns": null,
            "grid_template_rows": null,
            "height": null,
            "justify_content": null,
            "justify_items": null,
            "left": null,
            "margin": null,
            "max_height": null,
            "max_width": null,
            "min_height": null,
            "min_width": null,
            "object_fit": null,
            "object_position": null,
            "order": null,
            "overflow": null,
            "overflow_x": null,
            "overflow_y": null,
            "padding": null,
            "right": null,
            "top": null,
            "visibility": null,
            "width": null
          }
        },
        "987e91ff7b0f4a1c9de2282f1bc2d1a7": {
          "model_module": "@jupyter-widgets/base",
          "model_name": "LayoutModel",
          "model_module_version": "1.2.0",
          "state": {
            "_model_module": "@jupyter-widgets/base",
            "_model_module_version": "1.2.0",
            "_model_name": "LayoutModel",
            "_view_count": null,
            "_view_module": "@jupyter-widgets/base",
            "_view_module_version": "1.2.0",
            "_view_name": "LayoutView",
            "align_content": null,
            "align_items": null,
            "align_self": null,
            "border": null,
            "bottom": null,
            "display": null,
            "flex": null,
            "flex_flow": null,
            "grid_area": null,
            "grid_auto_columns": null,
            "grid_auto_flow": null,
            "grid_auto_rows": null,
            "grid_column": null,
            "grid_gap": null,
            "grid_row": null,
            "grid_template_areas": null,
            "grid_template_columns": null,
            "grid_template_rows": null,
            "height": null,
            "justify_content": null,
            "justify_items": null,
            "left": null,
            "margin": null,
            "max_height": null,
            "max_width": null,
            "min_height": null,
            "min_width": null,
            "object_fit": null,
            "object_position": null,
            "order": null,
            "overflow": null,
            "overflow_x": null,
            "overflow_y": null,
            "padding": null,
            "right": null,
            "top": null,
            "visibility": null,
            "width": null
          }
        },
        "e18c52c429fd46ba83b2196b1ba43227": {
          "model_module": "@jupyter-widgets/controls",
          "model_name": "DescriptionStyleModel",
          "model_module_version": "1.5.0",
          "state": {
            "_model_module": "@jupyter-widgets/controls",
            "_model_module_version": "1.5.0",
            "_model_name": "DescriptionStyleModel",
            "_view_count": null,
            "_view_module": "@jupyter-widgets/base",
            "_view_module_version": "1.2.0",
            "_view_name": "StyleView",
            "description_width": ""
          }
        },
        "b7fcb7e11cf34612ad77705dc22577ed": {
          "model_module": "@jupyter-widgets/base",
          "model_name": "LayoutModel",
          "model_module_version": "1.2.0",
          "state": {
            "_model_module": "@jupyter-widgets/base",
            "_model_module_version": "1.2.0",
            "_model_name": "LayoutModel",
            "_view_count": null,
            "_view_module": "@jupyter-widgets/base",
            "_view_module_version": "1.2.0",
            "_view_name": "LayoutView",
            "align_content": null,
            "align_items": null,
            "align_self": null,
            "border": null,
            "bottom": null,
            "display": null,
            "flex": null,
            "flex_flow": null,
            "grid_area": null,
            "grid_auto_columns": null,
            "grid_auto_flow": null,
            "grid_auto_rows": null,
            "grid_column": null,
            "grid_gap": null,
            "grid_row": null,
            "grid_template_areas": null,
            "grid_template_columns": null,
            "grid_template_rows": null,
            "height": null,
            "justify_content": null,
            "justify_items": null,
            "left": null,
            "margin": null,
            "max_height": null,
            "max_width": null,
            "min_height": null,
            "min_width": null,
            "object_fit": null,
            "object_position": null,
            "order": null,
            "overflow": null,
            "overflow_x": null,
            "overflow_y": null,
            "padding": null,
            "right": null,
            "top": null,
            "visibility": null,
            "width": "20px"
          }
        },
        "581cc98708c44ceea000030ad0850e58": {
          "model_module": "@jupyter-widgets/controls",
          "model_name": "ProgressStyleModel",
          "model_module_version": "1.5.0",
          "state": {
            "_model_module": "@jupyter-widgets/controls",
            "_model_module_version": "1.5.0",
            "_model_name": "ProgressStyleModel",
            "_view_count": null,
            "_view_module": "@jupyter-widgets/base",
            "_view_module_version": "1.2.0",
            "_view_name": "StyleView",
            "bar_color": null,
            "description_width": ""
          }
        },
        "deb683202ea74677996a45faa18eac9b": {
          "model_module": "@jupyter-widgets/base",
          "model_name": "LayoutModel",
          "model_module_version": "1.2.0",
          "state": {
            "_model_module": "@jupyter-widgets/base",
            "_model_module_version": "1.2.0",
            "_model_name": "LayoutModel",
            "_view_count": null,
            "_view_module": "@jupyter-widgets/base",
            "_view_module_version": "1.2.0",
            "_view_name": "LayoutView",
            "align_content": null,
            "align_items": null,
            "align_self": null,
            "border": null,
            "bottom": null,
            "display": null,
            "flex": null,
            "flex_flow": null,
            "grid_area": null,
            "grid_auto_columns": null,
            "grid_auto_flow": null,
            "grid_auto_rows": null,
            "grid_column": null,
            "grid_gap": null,
            "grid_row": null,
            "grid_template_areas": null,
            "grid_template_columns": null,
            "grid_template_rows": null,
            "height": null,
            "justify_content": null,
            "justify_items": null,
            "left": null,
            "margin": null,
            "max_height": null,
            "max_width": null,
            "min_height": null,
            "min_width": null,
            "object_fit": null,
            "object_position": null,
            "order": null,
            "overflow": null,
            "overflow_x": null,
            "overflow_y": null,
            "padding": null,
            "right": null,
            "top": null,
            "visibility": null,
            "width": null
          }
        },
        "790d242c174e49a88198677ae2d49687": {
          "model_module": "@jupyter-widgets/controls",
          "model_name": "DescriptionStyleModel",
          "model_module_version": "1.5.0",
          "state": {
            "_model_module": "@jupyter-widgets/controls",
            "_model_module_version": "1.5.0",
            "_model_name": "DescriptionStyleModel",
            "_view_count": null,
            "_view_module": "@jupyter-widgets/base",
            "_view_module_version": "1.2.0",
            "_view_name": "StyleView",
            "description_width": ""
          }
        },
        "7aee6c36974a4922938a47d6fc68da4a": {
          "model_module": "@jupyter-widgets/controls",
          "model_name": "HBoxModel",
          "model_module_version": "1.5.0",
          "state": {
            "_dom_classes": [],
            "_model_module": "@jupyter-widgets/controls",
            "_model_module_version": "1.5.0",
            "_model_name": "HBoxModel",
            "_view_count": null,
            "_view_module": "@jupyter-widgets/controls",
            "_view_module_version": "1.5.0",
            "_view_name": "HBoxView",
            "box_style": "",
            "children": [
              "IPY_MODEL_99869bc48fc54497afcbed1c9a521380",
              "IPY_MODEL_953ddc1e879f4b27bc2d92f3e995b82e",
              "IPY_MODEL_950d555a2ba04d23b63fb048266e2e5b"
            ],
            "layout": "IPY_MODEL_c4898aa85d6c4794b56e61ad34931be7"
          }
        },
        "99869bc48fc54497afcbed1c9a521380": {
          "model_module": "@jupyter-widgets/controls",
          "model_name": "HTMLModel",
          "model_module_version": "1.5.0",
          "state": {
            "_dom_classes": [],
            "_model_module": "@jupyter-widgets/controls",
            "_model_module_version": "1.5.0",
            "_model_name": "HTMLModel",
            "_view_count": null,
            "_view_module": "@jupyter-widgets/controls",
            "_view_module_version": "1.5.0",
            "_view_name": "HTMLView",
            "description": "",
            "description_tooltip": null,
            "layout": "IPY_MODEL_a3e0a9d8fd8843318fef5caf03bde85b",
            "placeholder": "​",
            "style": "IPY_MODEL_5a0a00add5dc48b88c43f590d70feb3b",
            "value": "Dl Size...: "
          }
        },
        "953ddc1e879f4b27bc2d92f3e995b82e": {
          "model_module": "@jupyter-widgets/controls",
          "model_name": "FloatProgressModel",
          "model_module_version": "1.5.0",
          "state": {
            "_dom_classes": [],
            "_model_module": "@jupyter-widgets/controls",
            "_model_module_version": "1.5.0",
            "_model_name": "FloatProgressModel",
            "_view_count": null,
            "_view_module": "@jupyter-widgets/controls",
            "_view_module_version": "1.5.0",
            "_view_name": "ProgressView",
            "bar_style": "success",
            "description": "",
            "description_tooltip": null,
            "layout": "IPY_MODEL_c789a22a486640feb7f33c28ff160ef7",
            "max": 1,
            "min": 0,
            "orientation": "horizontal",
            "style": "IPY_MODEL_27344ea49dad4c59906e721f19446efb",
            "value": 0
          }
        },
        "950d555a2ba04d23b63fb048266e2e5b": {
          "model_module": "@jupyter-widgets/controls",
          "model_name": "HTMLModel",
          "model_module_version": "1.5.0",
          "state": {
            "_dom_classes": [],
            "_model_module": "@jupyter-widgets/controls",
            "_model_module_version": "1.5.0",
            "_model_name": "HTMLModel",
            "_view_count": null,
            "_view_module": "@jupyter-widgets/controls",
            "_view_module_version": "1.5.0",
            "_view_name": "HTMLView",
            "description": "",
            "description_tooltip": null,
            "layout": "IPY_MODEL_8ec07b14f38b4124815f512537a3fede",
            "placeholder": "​",
            "style": "IPY_MODEL_6d05c112bc3c44758a6a872865d0685b",
            "value": " 0/0 [00:00&lt;?, ? MiB/s]"
          }
        },
        "c4898aa85d6c4794b56e61ad34931be7": {
          "model_module": "@jupyter-widgets/base",
          "model_name": "LayoutModel",
          "model_module_version": "1.2.0",
          "state": {
            "_model_module": "@jupyter-widgets/base",
            "_model_module_version": "1.2.0",
            "_model_name": "LayoutModel",
            "_view_count": null,
            "_view_module": "@jupyter-widgets/base",
            "_view_module_version": "1.2.0",
            "_view_name": "LayoutView",
            "align_content": null,
            "align_items": null,
            "align_self": null,
            "border": null,
            "bottom": null,
            "display": null,
            "flex": null,
            "flex_flow": null,
            "grid_area": null,
            "grid_auto_columns": null,
            "grid_auto_flow": null,
            "grid_auto_rows": null,
            "grid_column": null,
            "grid_gap": null,
            "grid_row": null,
            "grid_template_areas": null,
            "grid_template_columns": null,
            "grid_template_rows": null,
            "height": null,
            "justify_content": null,
            "justify_items": null,
            "left": null,
            "margin": null,
            "max_height": null,
            "max_width": null,
            "min_height": null,
            "min_width": null,
            "object_fit": null,
            "object_position": null,
            "order": null,
            "overflow": null,
            "overflow_x": null,
            "overflow_y": null,
            "padding": null,
            "right": null,
            "top": null,
            "visibility": null,
            "width": null
          }
        },
        "a3e0a9d8fd8843318fef5caf03bde85b": {
          "model_module": "@jupyter-widgets/base",
          "model_name": "LayoutModel",
          "model_module_version": "1.2.0",
          "state": {
            "_model_module": "@jupyter-widgets/base",
            "_model_module_version": "1.2.0",
            "_model_name": "LayoutModel",
            "_view_count": null,
            "_view_module": "@jupyter-widgets/base",
            "_view_module_version": "1.2.0",
            "_view_name": "LayoutView",
            "align_content": null,
            "align_items": null,
            "align_self": null,
            "border": null,
            "bottom": null,
            "display": null,
            "flex": null,
            "flex_flow": null,
            "grid_area": null,
            "grid_auto_columns": null,
            "grid_auto_flow": null,
            "grid_auto_rows": null,
            "grid_column": null,
            "grid_gap": null,
            "grid_row": null,
            "grid_template_areas": null,
            "grid_template_columns": null,
            "grid_template_rows": null,
            "height": null,
            "justify_content": null,
            "justify_items": null,
            "left": null,
            "margin": null,
            "max_height": null,
            "max_width": null,
            "min_height": null,
            "min_width": null,
            "object_fit": null,
            "object_position": null,
            "order": null,
            "overflow": null,
            "overflow_x": null,
            "overflow_y": null,
            "padding": null,
            "right": null,
            "top": null,
            "visibility": null,
            "width": null
          }
        },
        "5a0a00add5dc48b88c43f590d70feb3b": {
          "model_module": "@jupyter-widgets/controls",
          "model_name": "DescriptionStyleModel",
          "model_module_version": "1.5.0",
          "state": {
            "_model_module": "@jupyter-widgets/controls",
            "_model_module_version": "1.5.0",
            "_model_name": "DescriptionStyleModel",
            "_view_count": null,
            "_view_module": "@jupyter-widgets/base",
            "_view_module_version": "1.2.0",
            "_view_name": "StyleView",
            "description_width": ""
          }
        },
        "c789a22a486640feb7f33c28ff160ef7": {
          "model_module": "@jupyter-widgets/base",
          "model_name": "LayoutModel",
          "model_module_version": "1.2.0",
          "state": {
            "_model_module": "@jupyter-widgets/base",
            "_model_module_version": "1.2.0",
            "_model_name": "LayoutModel",
            "_view_count": null,
            "_view_module": "@jupyter-widgets/base",
            "_view_module_version": "1.2.0",
            "_view_name": "LayoutView",
            "align_content": null,
            "align_items": null,
            "align_self": null,
            "border": null,
            "bottom": null,
            "display": null,
            "flex": null,
            "flex_flow": null,
            "grid_area": null,
            "grid_auto_columns": null,
            "grid_auto_flow": null,
            "grid_auto_rows": null,
            "grid_column": null,
            "grid_gap": null,
            "grid_row": null,
            "grid_template_areas": null,
            "grid_template_columns": null,
            "grid_template_rows": null,
            "height": null,
            "justify_content": null,
            "justify_items": null,
            "left": null,
            "margin": null,
            "max_height": null,
            "max_width": null,
            "min_height": null,
            "min_width": null,
            "object_fit": null,
            "object_position": null,
            "order": null,
            "overflow": null,
            "overflow_x": null,
            "overflow_y": null,
            "padding": null,
            "right": null,
            "top": null,
            "visibility": null,
            "width": "20px"
          }
        },
        "27344ea49dad4c59906e721f19446efb": {
          "model_module": "@jupyter-widgets/controls",
          "model_name": "ProgressStyleModel",
          "model_module_version": "1.5.0",
          "state": {
            "_model_module": "@jupyter-widgets/controls",
            "_model_module_version": "1.5.0",
            "_model_name": "ProgressStyleModel",
            "_view_count": null,
            "_view_module": "@jupyter-widgets/base",
            "_view_module_version": "1.2.0",
            "_view_name": "StyleView",
            "bar_color": null,
            "description_width": ""
          }
        },
        "8ec07b14f38b4124815f512537a3fede": {
          "model_module": "@jupyter-widgets/base",
          "model_name": "LayoutModel",
          "model_module_version": "1.2.0",
          "state": {
            "_model_module": "@jupyter-widgets/base",
            "_model_module_version": "1.2.0",
            "_model_name": "LayoutModel",
            "_view_count": null,
            "_view_module": "@jupyter-widgets/base",
            "_view_module_version": "1.2.0",
            "_view_name": "LayoutView",
            "align_content": null,
            "align_items": null,
            "align_self": null,
            "border": null,
            "bottom": null,
            "display": null,
            "flex": null,
            "flex_flow": null,
            "grid_area": null,
            "grid_auto_columns": null,
            "grid_auto_flow": null,
            "grid_auto_rows": null,
            "grid_column": null,
            "grid_gap": null,
            "grid_row": null,
            "grid_template_areas": null,
            "grid_template_columns": null,
            "grid_template_rows": null,
            "height": null,
            "justify_content": null,
            "justify_items": null,
            "left": null,
            "margin": null,
            "max_height": null,
            "max_width": null,
            "min_height": null,
            "min_width": null,
            "object_fit": null,
            "object_position": null,
            "order": null,
            "overflow": null,
            "overflow_x": null,
            "overflow_y": null,
            "padding": null,
            "right": null,
            "top": null,
            "visibility": null,
            "width": null
          }
        },
        "6d05c112bc3c44758a6a872865d0685b": {
          "model_module": "@jupyter-widgets/controls",
          "model_name": "DescriptionStyleModel",
          "model_module_version": "1.5.0",
          "state": {
            "_model_module": "@jupyter-widgets/controls",
            "_model_module_version": "1.5.0",
            "_model_name": "DescriptionStyleModel",
            "_view_count": null,
            "_view_module": "@jupyter-widgets/base",
            "_view_module_version": "1.2.0",
            "_view_name": "StyleView",
            "description_width": ""
          }
        },
        "99708348ca9d4fb9bfbbbcb9f77ae139": {
          "model_module": "@jupyter-widgets/controls",
          "model_name": "HBoxModel",
          "model_module_version": "1.5.0",
          "state": {
            "_dom_classes": [],
            "_model_module": "@jupyter-widgets/controls",
            "_model_module_version": "1.5.0",
            "_model_name": "HBoxModel",
            "_view_count": null,
            "_view_module": "@jupyter-widgets/controls",
            "_view_module_version": "1.5.0",
            "_view_name": "HBoxView",
            "box_style": "",
            "children": [
              "IPY_MODEL_e2a3de1eeac5478bbe0a71df050c97d0",
              "IPY_MODEL_d0682157230d4127ad085a21fcb9f548",
              "IPY_MODEL_6efe44fe7e674fdba02bb9046a8540ea"
            ],
            "layout": "IPY_MODEL_181eec47ba494a5e997813723d830b39"
          }
        },
        "e2a3de1eeac5478bbe0a71df050c97d0": {
          "model_module": "@jupyter-widgets/controls",
          "model_name": "HTMLModel",
          "model_module_version": "1.5.0",
          "state": {
            "_dom_classes": [],
            "_model_module": "@jupyter-widgets/controls",
            "_model_module_version": "1.5.0",
            "_model_name": "HTMLModel",
            "_view_count": null,
            "_view_module": "@jupyter-widgets/controls",
            "_view_module_version": "1.5.0",
            "_view_name": "HTMLView",
            "description": "",
            "description_tooltip": null,
            "layout": "IPY_MODEL_fc83e8e332714c7ba57ef1301eb31a22",
            "placeholder": "​",
            "style": "IPY_MODEL_ce0606978b3742e190ffa013a0c14ee2",
            "value": "Generating splits...: 100%"
          }
        },
        "d0682157230d4127ad085a21fcb9f548": {
          "model_module": "@jupyter-widgets/controls",
          "model_name": "FloatProgressModel",
          "model_module_version": "1.5.0",
          "state": {
            "_dom_classes": [],
            "_model_module": "@jupyter-widgets/controls",
            "_model_module_version": "1.5.0",
            "_model_name": "FloatProgressModel",
            "_view_count": null,
            "_view_module": "@jupyter-widgets/controls",
            "_view_module_version": "1.5.0",
            "_view_name": "ProgressView",
            "bar_style": "",
            "description": "",
            "description_tooltip": null,
            "layout": "IPY_MODEL_8fdb97cc6ae94bdba5102c454c3cc9f4",
            "max": 1,
            "min": 0,
            "orientation": "horizontal",
            "style": "IPY_MODEL_dfe961b3019f430db20a4c91416691fc",
            "value": 1
          }
        },
        "6efe44fe7e674fdba02bb9046a8540ea": {
          "model_module": "@jupyter-widgets/controls",
          "model_name": "HTMLModel",
          "model_module_version": "1.5.0",
          "state": {
            "_dom_classes": [],
            "_model_module": "@jupyter-widgets/controls",
            "_model_module_version": "1.5.0",
            "_model_name": "HTMLModel",
            "_view_count": null,
            "_view_module": "@jupyter-widgets/controls",
            "_view_module_version": "1.5.0",
            "_view_name": "HTMLView",
            "description": "",
            "description_tooltip": null,
            "layout": "IPY_MODEL_a47c02b7389a45dabcd42f3f23ed3ca0",
            "placeholder": "​",
            "style": "IPY_MODEL_1a5e7a7ab18746609c4c6a56246f9856",
            "value": " 1/1 [00:00&lt;00:00,  2.89 splits/s]"
          }
        },
        "181eec47ba494a5e997813723d830b39": {
          "model_module": "@jupyter-widgets/base",
          "model_name": "LayoutModel",
          "model_module_version": "1.2.0",
          "state": {
            "_model_module": "@jupyter-widgets/base",
            "_model_module_version": "1.2.0",
            "_model_name": "LayoutModel",
            "_view_count": null,
            "_view_module": "@jupyter-widgets/base",
            "_view_module_version": "1.2.0",
            "_view_name": "LayoutView",
            "align_content": null,
            "align_items": null,
            "align_self": null,
            "border": null,
            "bottom": null,
            "display": null,
            "flex": null,
            "flex_flow": null,
            "grid_area": null,
            "grid_auto_columns": null,
            "grid_auto_flow": null,
            "grid_auto_rows": null,
            "grid_column": null,
            "grid_gap": null,
            "grid_row": null,
            "grid_template_areas": null,
            "grid_template_columns": null,
            "grid_template_rows": null,
            "height": null,
            "justify_content": null,
            "justify_items": null,
            "left": null,
            "margin": null,
            "max_height": null,
            "max_width": null,
            "min_height": null,
            "min_width": null,
            "object_fit": null,
            "object_position": null,
            "order": null,
            "overflow": null,
            "overflow_x": null,
            "overflow_y": null,
            "padding": null,
            "right": null,
            "top": null,
            "visibility": "hidden",
            "width": null
          }
        },
        "fc83e8e332714c7ba57ef1301eb31a22": {
          "model_module": "@jupyter-widgets/base",
          "model_name": "LayoutModel",
          "model_module_version": "1.2.0",
          "state": {
            "_model_module": "@jupyter-widgets/base",
            "_model_module_version": "1.2.0",
            "_model_name": "LayoutModel",
            "_view_count": null,
            "_view_module": "@jupyter-widgets/base",
            "_view_module_version": "1.2.0",
            "_view_name": "LayoutView",
            "align_content": null,
            "align_items": null,
            "align_self": null,
            "border": null,
            "bottom": null,
            "display": null,
            "flex": null,
            "flex_flow": null,
            "grid_area": null,
            "grid_auto_columns": null,
            "grid_auto_flow": null,
            "grid_auto_rows": null,
            "grid_column": null,
            "grid_gap": null,
            "grid_row": null,
            "grid_template_areas": null,
            "grid_template_columns": null,
            "grid_template_rows": null,
            "height": null,
            "justify_content": null,
            "justify_items": null,
            "left": null,
            "margin": null,
            "max_height": null,
            "max_width": null,
            "min_height": null,
            "min_width": null,
            "object_fit": null,
            "object_position": null,
            "order": null,
            "overflow": null,
            "overflow_x": null,
            "overflow_y": null,
            "padding": null,
            "right": null,
            "top": null,
            "visibility": null,
            "width": null
          }
        },
        "ce0606978b3742e190ffa013a0c14ee2": {
          "model_module": "@jupyter-widgets/controls",
          "model_name": "DescriptionStyleModel",
          "model_module_version": "1.5.0",
          "state": {
            "_model_module": "@jupyter-widgets/controls",
            "_model_module_version": "1.5.0",
            "_model_name": "DescriptionStyleModel",
            "_view_count": null,
            "_view_module": "@jupyter-widgets/base",
            "_view_module_version": "1.2.0",
            "_view_name": "StyleView",
            "description_width": ""
          }
        },
        "8fdb97cc6ae94bdba5102c454c3cc9f4": {
          "model_module": "@jupyter-widgets/base",
          "model_name": "LayoutModel",
          "model_module_version": "1.2.0",
          "state": {
            "_model_module": "@jupyter-widgets/base",
            "_model_module_version": "1.2.0",
            "_model_name": "LayoutModel",
            "_view_count": null,
            "_view_module": "@jupyter-widgets/base",
            "_view_module_version": "1.2.0",
            "_view_name": "LayoutView",
            "align_content": null,
            "align_items": null,
            "align_self": null,
            "border": null,
            "bottom": null,
            "display": null,
            "flex": null,
            "flex_flow": null,
            "grid_area": null,
            "grid_auto_columns": null,
            "grid_auto_flow": null,
            "grid_auto_rows": null,
            "grid_column": null,
            "grid_gap": null,
            "grid_row": null,
            "grid_template_areas": null,
            "grid_template_columns": null,
            "grid_template_rows": null,
            "height": null,
            "justify_content": null,
            "justify_items": null,
            "left": null,
            "margin": null,
            "max_height": null,
            "max_width": null,
            "min_height": null,
            "min_width": null,
            "object_fit": null,
            "object_position": null,
            "order": null,
            "overflow": null,
            "overflow_x": null,
            "overflow_y": null,
            "padding": null,
            "right": null,
            "top": null,
            "visibility": null,
            "width": null
          }
        },
        "dfe961b3019f430db20a4c91416691fc": {
          "model_module": "@jupyter-widgets/controls",
          "model_name": "ProgressStyleModel",
          "model_module_version": "1.5.0",
          "state": {
            "_model_module": "@jupyter-widgets/controls",
            "_model_module_version": "1.5.0",
            "_model_name": "ProgressStyleModel",
            "_view_count": null,
            "_view_module": "@jupyter-widgets/base",
            "_view_module_version": "1.2.0",
            "_view_name": "StyleView",
            "bar_color": null,
            "description_width": ""
          }
        },
        "a47c02b7389a45dabcd42f3f23ed3ca0": {
          "model_module": "@jupyter-widgets/base",
          "model_name": "LayoutModel",
          "model_module_version": "1.2.0",
          "state": {
            "_model_module": "@jupyter-widgets/base",
            "_model_module_version": "1.2.0",
            "_model_name": "LayoutModel",
            "_view_count": null,
            "_view_module": "@jupyter-widgets/base",
            "_view_module_version": "1.2.0",
            "_view_name": "LayoutView",
            "align_content": null,
            "align_items": null,
            "align_self": null,
            "border": null,
            "bottom": null,
            "display": null,
            "flex": null,
            "flex_flow": null,
            "grid_area": null,
            "grid_auto_columns": null,
            "grid_auto_flow": null,
            "grid_auto_rows": null,
            "grid_column": null,
            "grid_gap": null,
            "grid_row": null,
            "grid_template_areas": null,
            "grid_template_columns": null,
            "grid_template_rows": null,
            "height": null,
            "justify_content": null,
            "justify_items": null,
            "left": null,
            "margin": null,
            "max_height": null,
            "max_width": null,
            "min_height": null,
            "min_width": null,
            "object_fit": null,
            "object_position": null,
            "order": null,
            "overflow": null,
            "overflow_x": null,
            "overflow_y": null,
            "padding": null,
            "right": null,
            "top": null,
            "visibility": null,
            "width": null
          }
        },
        "1a5e7a7ab18746609c4c6a56246f9856": {
          "model_module": "@jupyter-widgets/controls",
          "model_name": "DescriptionStyleModel",
          "model_module_version": "1.5.0",
          "state": {
            "_model_module": "@jupyter-widgets/controls",
            "_model_module_version": "1.5.0",
            "_model_name": "DescriptionStyleModel",
            "_view_count": null,
            "_view_module": "@jupyter-widgets/base",
            "_view_module_version": "1.2.0",
            "_view_name": "StyleView",
            "description_width": ""
          }
        },
        "7986668701024daaaf548af79d7887c5": {
          "model_module": "@jupyter-widgets/controls",
          "model_name": "HBoxModel",
          "model_module_version": "1.5.0",
          "state": {
            "_dom_classes": [],
            "_model_module": "@jupyter-widgets/controls",
            "_model_module_version": "1.5.0",
            "_model_name": "HBoxModel",
            "_view_count": null,
            "_view_module": "@jupyter-widgets/controls",
            "_view_module_version": "1.5.0",
            "_view_name": "HBoxView",
            "box_style": "",
            "children": [
              "IPY_MODEL_d66293e064e44c0b8ca7eda85f04ca5a",
              "IPY_MODEL_5c62c0e2dbdb4633af4c915b548f03df",
              "IPY_MODEL_e0cab150887b49b68097709a769b6a23"
            ],
            "layout": "IPY_MODEL_0006de18d1b74dd6b39df92781002779"
          }
        },
        "d66293e064e44c0b8ca7eda85f04ca5a": {
          "model_module": "@jupyter-widgets/controls",
          "model_name": "HTMLModel",
          "model_module_version": "1.5.0",
          "state": {
            "_dom_classes": [],
            "_model_module": "@jupyter-widgets/controls",
            "_model_module_version": "1.5.0",
            "_model_name": "HTMLModel",
            "_view_count": null,
            "_view_module": "@jupyter-widgets/controls",
            "_view_module_version": "1.5.0",
            "_view_name": "HTMLView",
            "description": "",
            "description_tooltip": null,
            "layout": "IPY_MODEL_cbdd0e6cb6aa45ea8208ba719ad4682e",
            "placeholder": "​",
            "style": "IPY_MODEL_9faa8a062fd945b1912f5ffbc608eb85",
            "value": "Generating train examples...:  36%"
          }
        },
        "5c62c0e2dbdb4633af4c915b548f03df": {
          "model_module": "@jupyter-widgets/controls",
          "model_name": "FloatProgressModel",
          "model_module_version": "1.5.0",
          "state": {
            "_dom_classes": [],
            "_model_module": "@jupyter-widgets/controls",
            "_model_module_version": "1.5.0",
            "_model_name": "FloatProgressModel",
            "_view_count": null,
            "_view_module": "@jupyter-widgets/controls",
            "_view_module_version": "1.5.0",
            "_view_name": "ProgressView",
            "bar_style": "",
            "description": "",
            "description_tooltip": null,
            "layout": "IPY_MODEL_496cae0d095441d2bff57bc18b976366",
            "max": 334,
            "min": 0,
            "orientation": "horizontal",
            "style": "IPY_MODEL_934326b8420d4096803c61abdfcc9934",
            "value": 334
          }
        },
        "e0cab150887b49b68097709a769b6a23": {
          "model_module": "@jupyter-widgets/controls",
          "model_name": "HTMLModel",
          "model_module_version": "1.5.0",
          "state": {
            "_dom_classes": [],
            "_model_module": "@jupyter-widgets/controls",
            "_model_module_version": "1.5.0",
            "_model_name": "HTMLModel",
            "_view_count": null,
            "_view_module": "@jupyter-widgets/controls",
            "_view_module_version": "1.5.0",
            "_view_name": "HTMLView",
            "description": "",
            "description_tooltip": null,
            "layout": "IPY_MODEL_769f0b856eb4463a9bce2e01402fcddd",
            "placeholder": "​",
            "style": "IPY_MODEL_18d76ab0e24d4b19b9286cd22faa5775",
            "value": " 119/334 [00:00&lt;00:00, 1188.40 examples/s]"
          }
        },
        "0006de18d1b74dd6b39df92781002779": {
          "model_module": "@jupyter-widgets/base",
          "model_name": "LayoutModel",
          "model_module_version": "1.2.0",
          "state": {
            "_model_module": "@jupyter-widgets/base",
            "_model_module_version": "1.2.0",
            "_model_name": "LayoutModel",
            "_view_count": null,
            "_view_module": "@jupyter-widgets/base",
            "_view_module_version": "1.2.0",
            "_view_name": "LayoutView",
            "align_content": null,
            "align_items": null,
            "align_self": null,
            "border": null,
            "bottom": null,
            "display": null,
            "flex": null,
            "flex_flow": null,
            "grid_area": null,
            "grid_auto_columns": null,
            "grid_auto_flow": null,
            "grid_auto_rows": null,
            "grid_column": null,
            "grid_gap": null,
            "grid_row": null,
            "grid_template_areas": null,
            "grid_template_columns": null,
            "grid_template_rows": null,
            "height": null,
            "justify_content": null,
            "justify_items": null,
            "left": null,
            "margin": null,
            "max_height": null,
            "max_width": null,
            "min_height": null,
            "min_width": null,
            "object_fit": null,
            "object_position": null,
            "order": null,
            "overflow": null,
            "overflow_x": null,
            "overflow_y": null,
            "padding": null,
            "right": null,
            "top": null,
            "visibility": "hidden",
            "width": null
          }
        },
        "cbdd0e6cb6aa45ea8208ba719ad4682e": {
          "model_module": "@jupyter-widgets/base",
          "model_name": "LayoutModel",
          "model_module_version": "1.2.0",
          "state": {
            "_model_module": "@jupyter-widgets/base",
            "_model_module_version": "1.2.0",
            "_model_name": "LayoutModel",
            "_view_count": null,
            "_view_module": "@jupyter-widgets/base",
            "_view_module_version": "1.2.0",
            "_view_name": "LayoutView",
            "align_content": null,
            "align_items": null,
            "align_self": null,
            "border": null,
            "bottom": null,
            "display": null,
            "flex": null,
            "flex_flow": null,
            "grid_area": null,
            "grid_auto_columns": null,
            "grid_auto_flow": null,
            "grid_auto_rows": null,
            "grid_column": null,
            "grid_gap": null,
            "grid_row": null,
            "grid_template_areas": null,
            "grid_template_columns": null,
            "grid_template_rows": null,
            "height": null,
            "justify_content": null,
            "justify_items": null,
            "left": null,
            "margin": null,
            "max_height": null,
            "max_width": null,
            "min_height": null,
            "min_width": null,
            "object_fit": null,
            "object_position": null,
            "order": null,
            "overflow": null,
            "overflow_x": null,
            "overflow_y": null,
            "padding": null,
            "right": null,
            "top": null,
            "visibility": null,
            "width": null
          }
        },
        "9faa8a062fd945b1912f5ffbc608eb85": {
          "model_module": "@jupyter-widgets/controls",
          "model_name": "DescriptionStyleModel",
          "model_module_version": "1.5.0",
          "state": {
            "_model_module": "@jupyter-widgets/controls",
            "_model_module_version": "1.5.0",
            "_model_name": "DescriptionStyleModel",
            "_view_count": null,
            "_view_module": "@jupyter-widgets/base",
            "_view_module_version": "1.2.0",
            "_view_name": "StyleView",
            "description_width": ""
          }
        },
        "496cae0d095441d2bff57bc18b976366": {
          "model_module": "@jupyter-widgets/base",
          "model_name": "LayoutModel",
          "model_module_version": "1.2.0",
          "state": {
            "_model_module": "@jupyter-widgets/base",
            "_model_module_version": "1.2.0",
            "_model_name": "LayoutModel",
            "_view_count": null,
            "_view_module": "@jupyter-widgets/base",
            "_view_module_version": "1.2.0",
            "_view_name": "LayoutView",
            "align_content": null,
            "align_items": null,
            "align_self": null,
            "border": null,
            "bottom": null,
            "display": null,
            "flex": null,
            "flex_flow": null,
            "grid_area": null,
            "grid_auto_columns": null,
            "grid_auto_flow": null,
            "grid_auto_rows": null,
            "grid_column": null,
            "grid_gap": null,
            "grid_row": null,
            "grid_template_areas": null,
            "grid_template_columns": null,
            "grid_template_rows": null,
            "height": null,
            "justify_content": null,
            "justify_items": null,
            "left": null,
            "margin": null,
            "max_height": null,
            "max_width": null,
            "min_height": null,
            "min_width": null,
            "object_fit": null,
            "object_position": null,
            "order": null,
            "overflow": null,
            "overflow_x": null,
            "overflow_y": null,
            "padding": null,
            "right": null,
            "top": null,
            "visibility": null,
            "width": null
          }
        },
        "934326b8420d4096803c61abdfcc9934": {
          "model_module": "@jupyter-widgets/controls",
          "model_name": "ProgressStyleModel",
          "model_module_version": "1.5.0",
          "state": {
            "_model_module": "@jupyter-widgets/controls",
            "_model_module_version": "1.5.0",
            "_model_name": "ProgressStyleModel",
            "_view_count": null,
            "_view_module": "@jupyter-widgets/base",
            "_view_module_version": "1.2.0",
            "_view_name": "StyleView",
            "bar_color": null,
            "description_width": ""
          }
        },
        "769f0b856eb4463a9bce2e01402fcddd": {
          "model_module": "@jupyter-widgets/base",
          "model_name": "LayoutModel",
          "model_module_version": "1.2.0",
          "state": {
            "_model_module": "@jupyter-widgets/base",
            "_model_module_version": "1.2.0",
            "_model_name": "LayoutModel",
            "_view_count": null,
            "_view_module": "@jupyter-widgets/base",
            "_view_module_version": "1.2.0",
            "_view_name": "LayoutView",
            "align_content": null,
            "align_items": null,
            "align_self": null,
            "border": null,
            "bottom": null,
            "display": null,
            "flex": null,
            "flex_flow": null,
            "grid_area": null,
            "grid_auto_columns": null,
            "grid_auto_flow": null,
            "grid_auto_rows": null,
            "grid_column": null,
            "grid_gap": null,
            "grid_row": null,
            "grid_template_areas": null,
            "grid_template_columns": null,
            "grid_template_rows": null,
            "height": null,
            "justify_content": null,
            "justify_items": null,
            "left": null,
            "margin": null,
            "max_height": null,
            "max_width": null,
            "min_height": null,
            "min_width": null,
            "object_fit": null,
            "object_position": null,
            "order": null,
            "overflow": null,
            "overflow_x": null,
            "overflow_y": null,
            "padding": null,
            "right": null,
            "top": null,
            "visibility": null,
            "width": null
          }
        },
        "18d76ab0e24d4b19b9286cd22faa5775": {
          "model_module": "@jupyter-widgets/controls",
          "model_name": "DescriptionStyleModel",
          "model_module_version": "1.5.0",
          "state": {
            "_model_module": "@jupyter-widgets/controls",
            "_model_module_version": "1.5.0",
            "_model_name": "DescriptionStyleModel",
            "_view_count": null,
            "_view_module": "@jupyter-widgets/base",
            "_view_module_version": "1.2.0",
            "_view_name": "StyleView",
            "description_width": ""
          }
        },
        "ce090a4360bd4ad5be9f45676feed2c8": {
          "model_module": "@jupyter-widgets/controls",
          "model_name": "HBoxModel",
          "model_module_version": "1.5.0",
          "state": {
            "_dom_classes": [],
            "_model_module": "@jupyter-widgets/controls",
            "_model_module_version": "1.5.0",
            "_model_name": "HBoxModel",
            "_view_count": null,
            "_view_module": "@jupyter-widgets/controls",
            "_view_module_version": "1.5.0",
            "_view_name": "HBoxView",
            "box_style": "",
            "children": [
              "IPY_MODEL_33487da0e79b434a9fb9a452a1138440",
              "IPY_MODEL_ef42badc23ca4b8fb825e0a4dd452d66",
              "IPY_MODEL_24fa066fe30245eb9b8979b15528d6c2"
            ],
            "layout": "IPY_MODEL_3d3aa60fd24f4e3d918c0b09c43dbc86"
          }
        },
        "33487da0e79b434a9fb9a452a1138440": {
          "model_module": "@jupyter-widgets/controls",
          "model_name": "HTMLModel",
          "model_module_version": "1.5.0",
          "state": {
            "_dom_classes": [],
            "_model_module": "@jupyter-widgets/controls",
            "_model_module_version": "1.5.0",
            "_model_name": "HTMLModel",
            "_view_count": null,
            "_view_module": "@jupyter-widgets/controls",
            "_view_module_version": "1.5.0",
            "_view_name": "HTMLView",
            "description": "",
            "description_tooltip": null,
            "layout": "IPY_MODEL_be58bcb0e9154c0fb8bda1adb21232ba",
            "placeholder": "​",
            "style": "IPY_MODEL_2ed6978ad21d47fc85afb18cc8c66bd9",
            "value": "Shuffling /root/tensorflow_datasets/penguins/processed/1.0.0.incompleteCHEMCU/penguins-train.tfrecord*...:   0%"
          }
        },
        "ef42badc23ca4b8fb825e0a4dd452d66": {
          "model_module": "@jupyter-widgets/controls",
          "model_name": "FloatProgressModel",
          "model_module_version": "1.5.0",
          "state": {
            "_dom_classes": [],
            "_model_module": "@jupyter-widgets/controls",
            "_model_module_version": "1.5.0",
            "_model_name": "FloatProgressModel",
            "_view_count": null,
            "_view_module": "@jupyter-widgets/controls",
            "_view_module_version": "1.5.0",
            "_view_name": "ProgressView",
            "bar_style": "",
            "description": "",
            "description_tooltip": null,
            "layout": "IPY_MODEL_bdeadeb1fceb4297bb23745fb9f51665",
            "max": 334,
            "min": 0,
            "orientation": "horizontal",
            "style": "IPY_MODEL_7949dd8b82174612bc6c107867557dc5",
            "value": 334
          }
        },
        "24fa066fe30245eb9b8979b15528d6c2": {
          "model_module": "@jupyter-widgets/controls",
          "model_name": "HTMLModel",
          "model_module_version": "1.5.0",
          "state": {
            "_dom_classes": [],
            "_model_module": "@jupyter-widgets/controls",
            "_model_module_version": "1.5.0",
            "_model_name": "HTMLModel",
            "_view_count": null,
            "_view_module": "@jupyter-widgets/controls",
            "_view_module_version": "1.5.0",
            "_view_name": "HTMLView",
            "description": "",
            "description_tooltip": null,
            "layout": "IPY_MODEL_03bc96f91d4042148712c15fe04b0478",
            "placeholder": "​",
            "style": "IPY_MODEL_0600bcd09aed4efcaf5e87ef10f68b21",
            "value": " 0/334 [00:00&lt;?, ? examples/s]"
          }
        },
        "3d3aa60fd24f4e3d918c0b09c43dbc86": {
          "model_module": "@jupyter-widgets/base",
          "model_name": "LayoutModel",
          "model_module_version": "1.2.0",
          "state": {
            "_model_module": "@jupyter-widgets/base",
            "_model_module_version": "1.2.0",
            "_model_name": "LayoutModel",
            "_view_count": null,
            "_view_module": "@jupyter-widgets/base",
            "_view_module_version": "1.2.0",
            "_view_name": "LayoutView",
            "align_content": null,
            "align_items": null,
            "align_self": null,
            "border": null,
            "bottom": null,
            "display": null,
            "flex": null,
            "flex_flow": null,
            "grid_area": null,
            "grid_auto_columns": null,
            "grid_auto_flow": null,
            "grid_auto_rows": null,
            "grid_column": null,
            "grid_gap": null,
            "grid_row": null,
            "grid_template_areas": null,
            "grid_template_columns": null,
            "grid_template_rows": null,
            "height": null,
            "justify_content": null,
            "justify_items": null,
            "left": null,
            "margin": null,
            "max_height": null,
            "max_width": null,
            "min_height": null,
            "min_width": null,
            "object_fit": null,
            "object_position": null,
            "order": null,
            "overflow": null,
            "overflow_x": null,
            "overflow_y": null,
            "padding": null,
            "right": null,
            "top": null,
            "visibility": "hidden",
            "width": null
          }
        },
        "be58bcb0e9154c0fb8bda1adb21232ba": {
          "model_module": "@jupyter-widgets/base",
          "model_name": "LayoutModel",
          "model_module_version": "1.2.0",
          "state": {
            "_model_module": "@jupyter-widgets/base",
            "_model_module_version": "1.2.0",
            "_model_name": "LayoutModel",
            "_view_count": null,
            "_view_module": "@jupyter-widgets/base",
            "_view_module_version": "1.2.0",
            "_view_name": "LayoutView",
            "align_content": null,
            "align_items": null,
            "align_self": null,
            "border": null,
            "bottom": null,
            "display": null,
            "flex": null,
            "flex_flow": null,
            "grid_area": null,
            "grid_auto_columns": null,
            "grid_auto_flow": null,
            "grid_auto_rows": null,
            "grid_column": null,
            "grid_gap": null,
            "grid_row": null,
            "grid_template_areas": null,
            "grid_template_columns": null,
            "grid_template_rows": null,
            "height": null,
            "justify_content": null,
            "justify_items": null,
            "left": null,
            "margin": null,
            "max_height": null,
            "max_width": null,
            "min_height": null,
            "min_width": null,
            "object_fit": null,
            "object_position": null,
            "order": null,
            "overflow": null,
            "overflow_x": null,
            "overflow_y": null,
            "padding": null,
            "right": null,
            "top": null,
            "visibility": null,
            "width": null
          }
        },
        "2ed6978ad21d47fc85afb18cc8c66bd9": {
          "model_module": "@jupyter-widgets/controls",
          "model_name": "DescriptionStyleModel",
          "model_module_version": "1.5.0",
          "state": {
            "_model_module": "@jupyter-widgets/controls",
            "_model_module_version": "1.5.0",
            "_model_name": "DescriptionStyleModel",
            "_view_count": null,
            "_view_module": "@jupyter-widgets/base",
            "_view_module_version": "1.2.0",
            "_view_name": "StyleView",
            "description_width": ""
          }
        },
        "bdeadeb1fceb4297bb23745fb9f51665": {
          "model_module": "@jupyter-widgets/base",
          "model_name": "LayoutModel",
          "model_module_version": "1.2.0",
          "state": {
            "_model_module": "@jupyter-widgets/base",
            "_model_module_version": "1.2.0",
            "_model_name": "LayoutModel",
            "_view_count": null,
            "_view_module": "@jupyter-widgets/base",
            "_view_module_version": "1.2.0",
            "_view_name": "LayoutView",
            "align_content": null,
            "align_items": null,
            "align_self": null,
            "border": null,
            "bottom": null,
            "display": null,
            "flex": null,
            "flex_flow": null,
            "grid_area": null,
            "grid_auto_columns": null,
            "grid_auto_flow": null,
            "grid_auto_rows": null,
            "grid_column": null,
            "grid_gap": null,
            "grid_row": null,
            "grid_template_areas": null,
            "grid_template_columns": null,
            "grid_template_rows": null,
            "height": null,
            "justify_content": null,
            "justify_items": null,
            "left": null,
            "margin": null,
            "max_height": null,
            "max_width": null,
            "min_height": null,
            "min_width": null,
            "object_fit": null,
            "object_position": null,
            "order": null,
            "overflow": null,
            "overflow_x": null,
            "overflow_y": null,
            "padding": null,
            "right": null,
            "top": null,
            "visibility": null,
            "width": null
          }
        },
        "7949dd8b82174612bc6c107867557dc5": {
          "model_module": "@jupyter-widgets/controls",
          "model_name": "ProgressStyleModel",
          "model_module_version": "1.5.0",
          "state": {
            "_model_module": "@jupyter-widgets/controls",
            "_model_module_version": "1.5.0",
            "_model_name": "ProgressStyleModel",
            "_view_count": null,
            "_view_module": "@jupyter-widgets/base",
            "_view_module_version": "1.2.0",
            "_view_name": "StyleView",
            "bar_color": null,
            "description_width": ""
          }
        },
        "03bc96f91d4042148712c15fe04b0478": {
          "model_module": "@jupyter-widgets/base",
          "model_name": "LayoutModel",
          "model_module_version": "1.2.0",
          "state": {
            "_model_module": "@jupyter-widgets/base",
            "_model_module_version": "1.2.0",
            "_model_name": "LayoutModel",
            "_view_count": null,
            "_view_module": "@jupyter-widgets/base",
            "_view_module_version": "1.2.0",
            "_view_name": "LayoutView",
            "align_content": null,
            "align_items": null,
            "align_self": null,
            "border": null,
            "bottom": null,
            "display": null,
            "flex": null,
            "flex_flow": null,
            "grid_area": null,
            "grid_auto_columns": null,
            "grid_auto_flow": null,
            "grid_auto_rows": null,
            "grid_column": null,
            "grid_gap": null,
            "grid_row": null,
            "grid_template_areas": null,
            "grid_template_columns": null,
            "grid_template_rows": null,
            "height": null,
            "justify_content": null,
            "justify_items": null,
            "left": null,
            "margin": null,
            "max_height": null,
            "max_width": null,
            "min_height": null,
            "min_width": null,
            "object_fit": null,
            "object_position": null,
            "order": null,
            "overflow": null,
            "overflow_x": null,
            "overflow_y": null,
            "padding": null,
            "right": null,
            "top": null,
            "visibility": null,
            "width": null
          }
        },
        "0600bcd09aed4efcaf5e87ef10f68b21": {
          "model_module": "@jupyter-widgets/controls",
          "model_name": "DescriptionStyleModel",
          "model_module_version": "1.5.0",
          "state": {
            "_model_module": "@jupyter-widgets/controls",
            "_model_module_version": "1.5.0",
            "_model_name": "DescriptionStyleModel",
            "_view_count": null,
            "_view_module": "@jupyter-widgets/base",
            "_view_module_version": "1.2.0",
            "_view_name": "StyleView",
            "description_width": ""
          }
        }
      }
    },
    "accelerator": "GPU",
    "gpuClass": "standard"
  },
  "cells": [
    {
      "cell_type": "markdown",
      "metadata": {
        "id": "view-in-github",
        "colab_type": "text"
      },
      "source": [
        "<a href=\"https://colab.research.google.com/github/davidraamirez/GradientWithoutBackpropagation/blob/main/NN_fwd_gradient.ipynb\" target=\"_parent\"><img src=\"https://colab.research.google.com/assets/colab-badge.svg\" alt=\"Open In Colab\"/></a>"
      ]
    },
    {
      "cell_type": "markdown",
      "source": [
        "# **Import the necessary packages**"
      ],
      "metadata": {
        "id": "A8byuR73hZou"
      }
    },
    {
      "cell_type": "code",
      "execution_count": 1,
      "metadata": {
        "id": "RGFMM6rzGN8X"
      },
      "outputs": [],
      "source": [
        "import torch\n",
        "import tensorflow_datasets as tfds\n",
        "from sklearn.model_selection import train_test_split"
      ]
    },
    {
      "cell_type": "code",
      "source": [
        "%pip install torchmetrics --quiet"
      ],
      "metadata": {
        "colab": {
          "base_uri": "https://localhost:8080/"
        },
        "id": "ZwSFM-5cGVCQ",
        "outputId": "d792c465-84fa-434e-b0d0-9930ebc85bc0"
      },
      "execution_count": 2,
      "outputs": [
        {
          "output_type": "stream",
          "name": "stdout",
          "text": [
            "\u001b[?25l     \u001b[90m━━━━━━━━━━━━━━━━━━━━━━━━━━━━━━━━━━━━━━━━\u001b[0m \u001b[32m0.0/517.2 KB\u001b[0m \u001b[31m?\u001b[0m eta \u001b[36m-:--:--\u001b[0m\r\u001b[2K     \u001b[91m━━━━━━━━━━━━━━━━━━━━━━━\u001b[0m\u001b[90m╺\u001b[0m\u001b[90m━━━━━━━━━━━━━━━\u001b[0m \u001b[32m307.2/517.2 KB\u001b[0m \u001b[31m9.2 MB/s\u001b[0m eta \u001b[36m0:00:01\u001b[0m\r\u001b[2K     \u001b[90m━━━━━━━━━━━━━━━━━━━━━━━━━━━━━━━━━━━━━━━\u001b[0m \u001b[32m517.2/517.2 KB\u001b[0m \u001b[31m7.5 MB/s\u001b[0m eta \u001b[36m0:00:00\u001b[0m\n",
            "\u001b[?25h"
          ]
        }
      ]
    },
    {
      "cell_type": "code",
      "source": [
        "import torchmetrics\n",
        "import torchvision"
      ],
      "metadata": {
        "id": "AixjLToEGXTu"
      },
      "execution_count": 3,
      "outputs": []
    },
    {
      "cell_type": "code",
      "source": [
        "from torch import nn\n",
        "from torch.nn import functional as F"
      ],
      "metadata": {
        "id": "P6RM2Jl2houG"
      },
      "execution_count": 4,
      "outputs": []
    },
    {
      "cell_type": "code",
      "source": [
        "from functorch import jvp\n",
        "from functools import partial\n",
        "import time "
      ],
      "metadata": {
        "id": "bHL9j7p3htiz"
      },
      "execution_count": 5,
      "outputs": []
    },
    {
      "cell_type": "code",
      "source": [
        "import matplotlib.pyplot as plt"
      ],
      "metadata": {
        "id": "gUH3HvxGhxbg"
      },
      "execution_count": 6,
      "outputs": []
    },
    {
      "cell_type": "markdown",
      "source": [
        "# **Loading and preprocessing the data**"
      ],
      "metadata": {
        "id": "274jTIjiGeQW"
      }
    },
    {
      "cell_type": "code",
      "source": [
        "#Load the dataset\n",
        "penguins = tfds.load('penguins', as_supervised=True, split='train')"
      ],
      "metadata": {
        "colab": {
          "base_uri": "https://localhost:8080/",
          "height": 116,
          "referenced_widgets": [
            "57f504e37afb4ae5bd4697cf17b69bad",
            "d42ee33cab134652a355825b64668e18",
            "4d490af0073c4d26ae5e4429ad0817dd",
            "ce5bcbcdc7324301897fde0b883a21bb",
            "b97e77744635434e849a4b39cd0b5ec5",
            "987e91ff7b0f4a1c9de2282f1bc2d1a7",
            "e18c52c429fd46ba83b2196b1ba43227",
            "b7fcb7e11cf34612ad77705dc22577ed",
            "581cc98708c44ceea000030ad0850e58",
            "deb683202ea74677996a45faa18eac9b",
            "790d242c174e49a88198677ae2d49687",
            "7aee6c36974a4922938a47d6fc68da4a",
            "99869bc48fc54497afcbed1c9a521380",
            "953ddc1e879f4b27bc2d92f3e995b82e",
            "950d555a2ba04d23b63fb048266e2e5b",
            "c4898aa85d6c4794b56e61ad34931be7",
            "a3e0a9d8fd8843318fef5caf03bde85b",
            "5a0a00add5dc48b88c43f590d70feb3b",
            "c789a22a486640feb7f33c28ff160ef7",
            "27344ea49dad4c59906e721f19446efb",
            "8ec07b14f38b4124815f512537a3fede",
            "6d05c112bc3c44758a6a872865d0685b",
            "99708348ca9d4fb9bfbbbcb9f77ae139",
            "e2a3de1eeac5478bbe0a71df050c97d0",
            "d0682157230d4127ad085a21fcb9f548",
            "6efe44fe7e674fdba02bb9046a8540ea",
            "181eec47ba494a5e997813723d830b39",
            "fc83e8e332714c7ba57ef1301eb31a22",
            "ce0606978b3742e190ffa013a0c14ee2",
            "8fdb97cc6ae94bdba5102c454c3cc9f4",
            "dfe961b3019f430db20a4c91416691fc",
            "a47c02b7389a45dabcd42f3f23ed3ca0",
            "1a5e7a7ab18746609c4c6a56246f9856",
            "7986668701024daaaf548af79d7887c5",
            "d66293e064e44c0b8ca7eda85f04ca5a",
            "5c62c0e2dbdb4633af4c915b548f03df",
            "e0cab150887b49b68097709a769b6a23",
            "0006de18d1b74dd6b39df92781002779",
            "cbdd0e6cb6aa45ea8208ba719ad4682e",
            "9faa8a062fd945b1912f5ffbc608eb85",
            "496cae0d095441d2bff57bc18b976366",
            "934326b8420d4096803c61abdfcc9934",
            "769f0b856eb4463a9bce2e01402fcddd",
            "18d76ab0e24d4b19b9286cd22faa5775",
            "ce090a4360bd4ad5be9f45676feed2c8",
            "33487da0e79b434a9fb9a452a1138440",
            "ef42badc23ca4b8fb825e0a4dd452d66",
            "24fa066fe30245eb9b8979b15528d6c2",
            "3d3aa60fd24f4e3d918c0b09c43dbc86",
            "be58bcb0e9154c0fb8bda1adb21232ba",
            "2ed6978ad21d47fc85afb18cc8c66bd9",
            "bdeadeb1fceb4297bb23745fb9f51665",
            "7949dd8b82174612bc6c107867557dc5",
            "03bc96f91d4042148712c15fe04b0478",
            "0600bcd09aed4efcaf5e87ef10f68b21"
          ]
        },
        "id": "4c8PoWqGGba7",
        "outputId": "f55d6a45-3580-4a8d-abbd-9516576d6112"
      },
      "execution_count": 7,
      "outputs": [
        {
          "output_type": "stream",
          "name": "stdout",
          "text": [
            "Downloading and preparing dataset 25.05 KiB (download: 25.05 KiB, generated: 17.61 KiB, total: 42.66 KiB) to /root/tensorflow_datasets/penguins/processed/1.0.0...\n"
          ]
        },
        {
          "output_type": "display_data",
          "data": {
            "text/plain": [
              "Dl Completed...: 0 url [00:00, ? url/s]"
            ],
            "application/vnd.jupyter.widget-view+json": {
              "version_major": 2,
              "version_minor": 0,
              "model_id": "57f504e37afb4ae5bd4697cf17b69bad"
            }
          },
          "metadata": {}
        },
        {
          "output_type": "display_data",
          "data": {
            "text/plain": [
              "Dl Size...: 0 MiB [00:00, ? MiB/s]"
            ],
            "application/vnd.jupyter.widget-view+json": {
              "version_major": 2,
              "version_minor": 0,
              "model_id": "7aee6c36974a4922938a47d6fc68da4a"
            }
          },
          "metadata": {}
        },
        {
          "output_type": "display_data",
          "data": {
            "text/plain": [
              "Generating splits...:   0%|          | 0/1 [00:00<?, ? splits/s]"
            ],
            "application/vnd.jupyter.widget-view+json": {
              "version_major": 2,
              "version_minor": 0,
              "model_id": "99708348ca9d4fb9bfbbbcb9f77ae139"
            }
          },
          "metadata": {}
        },
        {
          "output_type": "display_data",
          "data": {
            "text/plain": [
              "Generating train examples...:   0%|          | 0/334 [00:00<?, ? examples/s]"
            ],
            "application/vnd.jupyter.widget-view+json": {
              "version_major": 2,
              "version_minor": 0,
              "model_id": "7986668701024daaaf548af79d7887c5"
            }
          },
          "metadata": {}
        },
        {
          "output_type": "display_data",
          "data": {
            "text/plain": [
              "Shuffling /root/tensorflow_datasets/penguins/processed/1.0.0.incompleteCHEMCU/penguins-train.tfrecord*...:   0…"
            ],
            "application/vnd.jupyter.widget-view+json": {
              "version_major": 2,
              "version_minor": 0,
              "model_id": "ce090a4360bd4ad5be9f45676feed2c8"
            }
          },
          "metadata": {}
        },
        {
          "output_type": "stream",
          "name": "stdout",
          "text": [
            "Dataset penguins downloaded and prepared to /root/tensorflow_datasets/penguins/processed/1.0.0. Subsequent calls will reuse this data.\n"
          ]
        }
      ]
    },
    {
      "cell_type": "code",
      "source": [
        "X, y = penguins.batch(500).get_single_element()\n",
        "X, y = X.numpy(), y.numpy()"
      ],
      "metadata": {
        "id": "1F8ymiUgGjP7"
      },
      "execution_count": 8,
      "outputs": []
    },
    {
      "cell_type": "code",
      "source": [
        "Xtrain, Xtest, ytrain, ytest = train_test_split(X, y, stratify=y)"
      ],
      "metadata": {
        "id": "qm44Zk8UGlY9"
      },
      "execution_count": 9,
      "outputs": []
    },
    {
      "cell_type": "code",
      "source": [
        "Xtrain = torch.from_numpy(Xtrain).float()\n",
        "Xtest = torch.from_numpy(Xtest).float()"
      ],
      "metadata": {
        "id": "8rO9zga9GnND"
      },
      "execution_count": 10,
      "outputs": []
    },
    {
      "cell_type": "code",
      "source": [
        "ytrain = torch.from_numpy(ytrain).long()\n",
        "ytest = torch.from_numpy(ytest).long()"
      ],
      "metadata": {
        "id": "KL3MEH78Goub"
      },
      "execution_count": 11,
      "outputs": []
    },
    {
      "cell_type": "markdown",
      "source": [
        "# **Define MultiLayer Neural Network**"
      ],
      "metadata": {
        "id": "xz1J58BvGuhC"
      }
    },
    {
      "cell_type": "code",
      "source": [
        "class MNN(nn.Module):\n",
        "  def __init__(self, input_size, fc1w, fc1b, fc2w, fc2b, fc3w, fc3b):\n",
        "    super().__init__()\n",
        "\n",
        "    self.w1 = nn.Parameter(fc1w)\n",
        "    self.b1 = nn.Parameter(fc1b)\n",
        "    \n",
        "    self.w2 = nn.Parameter(fc2w)\n",
        "    self.b2 = nn.Parameter(fc2b)\n",
        "\n",
        "    self.w3 = nn.Parameter(fc3w)\n",
        "    self.b3 = nn.Parameter(fc3b)\n",
        "\n",
        "  def forward(self, x):\n",
        "    x = F.relu(x@self.w1 + self.b1)\n",
        "    x = F.relu(x@self.w2 + self.b2)\n",
        "    x = x@self.w3 + self.b3\n",
        "    x = x.reshape(1, -1)\n",
        "    return torch.softmax(x, 1)"
      ],
      "metadata": {
        "id": "zK9pTmv1G0GH"
      },
      "execution_count": 12,
      "outputs": []
    },
    {
      "cell_type": "code",
      "source": [
        "# We check if CUDA is available\n",
        "device = 'cuda' if torch.cuda.is_available() else 'cpu'\n",
        "print(device)"
      ],
      "metadata": {
        "colab": {
          "base_uri": "https://localhost:8080/"
        },
        "id": "O0WezWamIP-J",
        "outputId": "0e3fd4b8-df01-471b-966d-26ffb746dc79"
      },
      "execution_count": 13,
      "outputs": [
        {
          "output_type": "stream",
          "name": "stdout",
          "text": [
            "cpu\n"
          ]
        }
      ]
    },
    {
      "cell_type": "markdown",
      "source": [
        "# **Initialize the parameters**"
      ],
      "metadata": {
        "id": "3-ldbl8dIUaQ"
      }
    },
    {
      "cell_type": "code",
      "source": [
        "# We initialize the parameters randomly with values in [-1, 1] and the model with an input size\n",
        "fc1w = torch.FloatTensor(4, 64).uniform_(-1, 1)\n",
        "fc1b = torch.FloatTensor(64).uniform_(-1, 1)\n",
        "fc2w = torch.FloatTensor(64, 8).uniform_(-1, 1)\n",
        "fc2b = torch.FloatTensor(8).uniform_(-1, 1)\n",
        "fc3w = torch.FloatTensor(8, 3).uniform_(-1, 1)\n",
        "fc3b = torch.FloatTensor(3).uniform_(-1, 1)\n",
        "mnn = MNN(4, fc1w, fc1b, fc2w, fc2b, fc3w, fc3b).to(device)"
      ],
      "metadata": {
        "id": "16G8N7AxISUm"
      },
      "execution_count": 14,
      "outputs": []
    },
    {
      "cell_type": "code",
      "source": [
        "# We try our model with the first example\n",
        "print(mnn(Xtrain[0].to(device)))"
      ],
      "metadata": {
        "colab": {
          "base_uri": "https://localhost:8080/"
        },
        "id": "_QRhlie-I3M9",
        "outputId": "394761c4-b3c1-413b-d9a6-a66170edac8f"
      },
      "execution_count": 15,
      "outputs": [
        {
          "output_type": "stream",
          "name": "stdout",
          "text": [
            "tensor([[0.0026, 0.0149, 0.9825]], grad_fn=<SoftmaxBackward0>)\n"
          ]
        }
      ]
    },
    {
      "cell_type": "markdown",
      "source": [
        "Calculate predictions"
      ],
      "metadata": {
        "id": "5AG5HrfCZjk4"
      }
    },
    {
      "cell_type": "code",
      "source": [
        "def pred(x, fc1w, fc1b, fc2w, fc2b, fc3w, fc3b):\n",
        "  ypred=torch.randn((x.shape[0],3))\n",
        "  for j in range (x.shape[0]):\n",
        "    xj = x[j]\n",
        "    xj = F.relu(xj@fc1w + fc1b)\n",
        "    xj = F.relu(xj@fc2w + fc2b)\n",
        "    xj = xj@fc3w + fc3b\n",
        "    xj = xj.reshape(1, -1)\n",
        "    ypred[j]=torch.softmax(xj, 1)\n",
        "  return ypred"
      ],
      "metadata": {
        "id": "dVyKl_v3Zm4h"
      },
      "execution_count": 44,
      "outputs": []
    },
    {
      "cell_type": "code",
      "source": [
        "ypred = pred(Xtrain, fc1w, fc1b, fc2w, fc2b, fc3w, fc3b)"
      ],
      "metadata": {
        "id": "6H-GS4CxiVBz"
      },
      "execution_count": 45,
      "outputs": []
    },
    {
      "cell_type": "markdown",
      "source": [
        "# **Define accuracy**"
      ],
      "metadata": {
        "id": "tV36IjptJdCH"
      }
    },
    {
      "cell_type": "code",
      "source": [
        "def accuracy(ytrue, ypred):\n",
        "  return (ypred.argmax(1) == ytrue).float().mean()"
      ],
      "metadata": {
        "id": "s6NncsZzJZ2B"
      },
      "execution_count": 20,
      "outputs": []
    },
    {
      "cell_type": "code",
      "source": [
        "# Average accuracy at initialization is 33% (random guessing)\n",
        "accuracy(ytrain.to(device), ypred.to(device))"
      ],
      "metadata": {
        "colab": {
          "base_uri": "https://localhost:8080/"
        },
        "id": "MdQH3dDjJhGh",
        "outputId": "517a81a6-9e63-4e72-c37b-a9b8bac5cf46"
      },
      "execution_count": 22,
      "outputs": [
        {
          "output_type": "execute_result",
          "data": {
            "text/plain": [
              "tensor(0.3600)"
            ]
          },
          "metadata": {},
          "execution_count": 22
        }
      ]
    },
    {
      "cell_type": "markdown",
      "source": [
        "# **Define Cross-Entropy**"
      ],
      "metadata": {
        "id": "Yv2v16UNMb2W"
      }
    },
    {
      "cell_type": "markdown",
      "source": [
        "We define one cross_entropy function for each parameter because we will define later partial functions and the parameters need to be in a different order"
      ],
      "metadata": {
        "id": "qs2QR2iti__B"
      }
    },
    {
      "cell_type": "code",
      "source": [
        "def cross_entropyWfc1(fc1w, fc1b, fc2w, fc2b, fc3w, fc3b, ytrue, x):\n",
        "  ypred=torch.randn((ytrue.shape[0],3))\n",
        "  for j in range (ytrue.shape[0]):\n",
        "    xj = x[j]\n",
        "    xj = F.relu(xj@fc1w + fc1b)\n",
        "    xj = F.relu(xj@fc2w + fc2b)\n",
        "    xj = xj@fc3w + fc3b\n",
        "    xj = xj.reshape(1, -1)\n",
        "    ypred[j]=torch.softmax(xj, 1)\n",
        "  return - ypred[torch.arange(0, ypred.shape[0]), ytrue].log().mean()"
      ],
      "metadata": {
        "id": "oDytoEaiMYOg"
      },
      "execution_count": 23,
      "outputs": []
    },
    {
      "cell_type": "code",
      "source": [
        "def cross_entropyBfc1(fc1b, fc1w, fc2w, fc2b, fc3w, fc3b, ytrue, x):\n",
        "  ypred=torch.randn((ytrue.shape[0],3))\n",
        "  for j in range (ytrue.shape[0]):\n",
        "    xj = x[j]\n",
        "    xj = F.relu(xj@fc1w + fc1b)\n",
        "    xj = F.relu(xj@fc2w + fc2b)\n",
        "    xj = xj@fc3w + fc3b\n",
        "    xj = xj.reshape(1, -1)\n",
        "    ypred[j]=torch.softmax(xj, 1)\n",
        "  return - ypred[torch.arange(0, ypred.shape[0]), ytrue].log().mean()"
      ],
      "metadata": {
        "id": "2DWaptYYPWEn"
      },
      "execution_count": 24,
      "outputs": []
    },
    {
      "cell_type": "code",
      "source": [
        "def cross_entropyWfc2(fc2w, fc1b, fc1w, fc2b, fc3w, fc3b, ytrue, x):\n",
        "  ypred=torch.randn((ytrue.shape[0],3))\n",
        "  for j in range (ytrue.shape[0]):\n",
        "    xj = x[j]\n",
        "    xj = F.relu(xj@fc1w + fc1b)\n",
        "    xj = F.relu(xj@fc2w + fc2b)\n",
        "    xj = xj@fc3w + fc3b\n",
        "    xj = xj.reshape(1, -1)\n",
        "    ypred[j]=torch.softmax(xj, 1)\n",
        "  return - ypred[torch.arange(0, ypred.shape[0]), ytrue].log().mean()"
      ],
      "metadata": {
        "id": "m2ANY9djPZ45"
      },
      "execution_count": 25,
      "outputs": []
    },
    {
      "cell_type": "code",
      "source": [
        "def cross_entropyBfc2(fc2b, fc1b, fc2w, fc1w, fc3w, fc3b, ytrue, x):\n",
        "  ypred=torch.randn((ytrue.shape[0],3))\n",
        "  for j in range (ytrue.shape[0]):\n",
        "    xj = x[j]\n",
        "    xj = F.relu(xj@fc1w + fc1b)\n",
        "    xj = F.relu(xj@fc2w + fc2b)\n",
        "    xj = xj@fc3w + fc3b\n",
        "    xj = xj.reshape(1, -1)\n",
        "    ypred[j]=torch.softmax(xj, 1)\n",
        "  return - ypred[torch.arange(0, ypred.shape[0]), ytrue].log().mean()"
      ],
      "metadata": {
        "id": "1e4XGWW-Pez9"
      },
      "execution_count": 26,
      "outputs": []
    },
    {
      "cell_type": "code",
      "source": [
        "def cross_entropyWfc3(fc3w, fc1b, fc2w, fc2b, fc1w, fc3b, ytrue, x):\n",
        "  ypred=torch.randn((ytrue.shape[0],3))\n",
        "  for j in range (ytrue.shape[0]):\n",
        "    xj = x[j]\n",
        "    xj = F.relu(xj@fc1w + fc1b)\n",
        "    xj = F.relu(xj@fc2w + fc2b)\n",
        "    xj = xj@fc3w + fc3b\n",
        "    xj = xj.reshape(1, -1)\n",
        "    ypred[j]=torch.softmax(xj, 1)\n",
        "  return - ypred[torch.arange(0, ypred.shape[0]), ytrue].log().mean()"
      ],
      "metadata": {
        "id": "yJYOJNfRPjRJ"
      },
      "execution_count": 27,
      "outputs": []
    },
    {
      "cell_type": "code",
      "source": [
        "def cross_entropyBfc3(fc3b, fc1b, fc2w, fc2b, fc3w, fc1w, ytrue, x):\n",
        "  ypred=torch.randn((ytrue.shape[0],3))\n",
        "  for j in range (ytrue.shape[0]):\n",
        "    xj = x[j]\n",
        "    xj = F.relu(xj@fc1w + fc1b)\n",
        "    xj = F.relu(xj@fc2w + fc2b)\n",
        "    xj = xj@fc3w + fc3b\n",
        "    xj = xj.reshape(1, -1)\n",
        "    ypred[j]=torch.softmax(xj, 1)\n",
        "  return - ypred[torch.arange(0, ypred.shape[0]), ytrue].log().mean()"
      ],
      "metadata": {
        "id": "lEX0IcVqPneI"
      },
      "execution_count": 28,
      "outputs": []
    },
    {
      "cell_type": "code",
      "source": [
        "# We check that the output of all the cross_entropy functions is the same\n",
        "print(cross_entropyWfc1(fc1w, fc1b, fc2w, fc2b, fc3w, fc3b, ytrain.to(device), Xtrain.to(device)))\n",
        "print(cross_entropyBfc1(fc1b, fc1w, fc2w, fc2b, fc3w, fc3b, ytrain.to(device), Xtrain.to(device)))\n",
        "print(cross_entropyWfc2(fc2w, fc1b, fc1w, fc2b, fc3w, fc3b, ytrain.to(device), Xtrain.to(device)))\n",
        "print(cross_entropyBfc2(fc2b, fc1b, fc2w, fc1w, fc3w, fc3b, ytrain.to(device), Xtrain.to(device)))\n",
        "print(cross_entropyWfc3(fc3w, fc1b, fc2w, fc2b, fc1w, fc3b, ytrain.to(device), Xtrain.to(device)))\n",
        "print(cross_entropyBfc3(fc3b, fc1b, fc2w, fc2b, fc3w, fc1w, ytrain.to(device), Xtrain.to(device)))"
      ],
      "metadata": {
        "colab": {
          "base_uri": "https://localhost:8080/"
        },
        "id": "tRXOEhezNDYx",
        "outputId": "e67b0c54-bb45-47eb-8385-0b90bf33c5e0"
      },
      "execution_count": 34,
      "outputs": [
        {
          "output_type": "stream",
          "name": "stdout",
          "text": [
            "tensor(4.2397)\n",
            "tensor(4.2397)\n",
            "tensor(4.2397)\n",
            "tensor(4.2397)\n",
            "tensor(4.2397)\n",
            "tensor(4.2397)\n"
          ]
        }
      ]
    },
    {
      "cell_type": "markdown",
      "source": [
        "Define error"
      ],
      "metadata": {
        "id": "VzJr41-NbT6m"
      }
    },
    {
      "cell_type": "code",
      "source": [
        "def error(ytrue, model, x):\n",
        "  error=0\n",
        "  for i in range (ytrue.size(0)):\n",
        "    ypredi = model(x[i])\n",
        "    if (ypredi.argmax(1)- ytrue[i])!=0:\n",
        "      error = error+ 1\n",
        "  return error"
      ],
      "metadata": {
        "id": "5TQbE3_jbTlE"
      },
      "execution_count": 38,
      "outputs": []
    },
    {
      "cell_type": "markdown",
      "source": [
        "# **Other activation functions**"
      ],
      "metadata": {
        "id": "YRuOpXfYks8P"
      }
    },
    {
      "cell_type": "code",
      "source": [
        "def beale_function(x):\n",
        "  return (torch.pow(torch.tensor([1.5])-x[0]+x[0]*x[1],2) + torch.pow(torch.tensor([2.25])-x[0]+x[0]*torch.pow(x[1],2),2)+torch.pow(torch.tensor([2.625])-x[0]+x[0]*torch.pow(x[1],3),2))"
      ],
      "metadata": {
        "id": "MxQXi8yGJrH6"
      },
      "execution_count": 31,
      "outputs": []
    },
    {
      "cell_type": "code",
      "source": [
        "def rosenbrock_function(x):\n",
        "  sum=0\n",
        "  for p in x.size():\n",
        "    for i in range (x.size(1)-1):\n",
        "      sum += (100*torch.pow(x[i+1] - torch.pow(x[i], 2), 2) + torch.pow(x[i]-1, 2))\n",
        "  return sum"
      ],
      "metadata": {
        "id": "DDu01BDoJtEI"
      },
      "execution_count": 32,
      "outputs": []
    },
    {
      "cell_type": "code",
      "source": [
        "def sphere_function(x):\n",
        "  sum=0\n",
        "  for i in range(x.size(0)):\n",
        "    sum += torch.pow(x[i], 2)\n",
        "  return sum"
      ],
      "metadata": {
        "id": "mNXfotdHk2QS"
      },
      "execution_count": 33,
      "outputs": []
    },
    {
      "cell_type": "markdown",
      "source": [
        "# **Train and evaluate the network**"
      ],
      "metadata": {
        "id": "9QgUYpzXlCB6"
      }
    },
    {
      "cell_type": "code",
      "source": [
        "def train_fwd_gradient(x, y):\n",
        "  x, y = x.to(device), y.to(device)\n",
        "\n",
        "  losses = [] #Vector with the cross_entropy values of the test set\n",
        "  accuracies = [] #Vector with the accuracy values of the test set\n",
        "  errors = [] #Vector with the number of misclassifications of the test set\n",
        "\n",
        "  l_rate0 = 0.05 #Learning rate used\n",
        "\n",
        "  # Initialize the parameters\n",
        "  fc1w = torch.FloatTensor(4, 64).uniform_(-1, 1)\n",
        "  fc1b = torch.FloatTensor(64).uniform_(-1, 1)\n",
        "  fc2w = torch.FloatTensor(64, 8).uniform_(-1, 1)\n",
        "  fc2b = torch.FloatTensor(8).uniform_(-1, 1)\n",
        "  fc3w = torch.FloatTensor(8, 3).uniform_(-1, 1)\n",
        "  fc3b = torch.FloatTensor(3).uniform_(-1, 1)\n",
        "\n",
        "  loss = cross_entropyWfc1(fc1w, fc1b, fc2w, fc2b, fc3w, fc3b, ytrain, Xtrain) # Loss function\n",
        "\n",
        "  t=0\n",
        "  t0 = time.time()\n",
        "\n",
        "  while (loss>0.2) :\n",
        "\n",
        "    # We define the following vectors as a perturbation vector taken as a multivariate random variable (such that their scalar components are independent and have zero mean \n",
        "    # and unit variance)\n",
        "\n",
        "    vfc1w=torch.randn(fc1w.shape)\n",
        "    vfc1w=(vfc1w - torch.mean(vfc1w))/torch.std(vfc1w)\n",
        "    vfc1b=torch.randn(fc1b.shape)\n",
        "    vfc1b=(vfc1b - torch.mean(vfc1b))/torch.std(vfc1b)\n",
        "    vfc2w=torch.randn(fc2w.shape)\n",
        "    vfc2w=(vfc2w - torch.mean(vfc2w))/torch.std(vfc2w)\n",
        "    vfc2b=torch.randn(fc2b.shape)\n",
        "    vfc2b=(vfc2b - torch.mean(vfc2b))/torch.std(vfc2b)\n",
        "    vfc3w=torch.randn(fc3w.shape)\n",
        "    vfc3w=(vfc3w - torch.mean(vfc3w))/torch.std(vfc3w)\n",
        "    vfc3b=torch.randn(fc3b.shape)\n",
        "    vfc3b=(vfc3b - torch.mean(vfc3b))/torch.std(vfc3b)\n",
        "\n",
        "    # We define a partial function for each of the parameters\n",
        "    fw1 = partial(cross_entropyWfc1, fc1b=fc1b, fc2w=fc2w, fc2b=fc2b, fc3w=fc3w, fc3b=fc3b, ytrue=ytrain, x=Xtrain)\n",
        "    fb1 = partial(cross_entropyBfc1, fc1w=fc1w, fc2w=fc2w, fc2b=fc2b, fc3w=fc3w, fc3b=fc3b, ytrue=ytrain, x=Xtrain)\n",
        "    fw2 = partial(cross_entropyWfc2, fc1b=fc1b, fc1w=fc1w, fc2b=fc2b, fc3w=fc3w, fc3b=fc3b, ytrue=ytrain, x=Xtrain)\n",
        "    fb2 = partial(cross_entropyBfc2, fc1b=fc1b, fc2w=fc2w, fc1w=fc1w, fc3w=fc3w, fc3b=fc3b, ytrue=ytrain, x=Xtrain)\n",
        "    fw3 = partial(cross_entropyWfc3, fc1b=fc1b, fc2w=fc2w, fc2b=fc2b, fc1w=fc1w, fc3b=fc3b, ytrue=ytrain, x=Xtrain)\n",
        "    fb3 = partial(cross_entropyBfc3, fc1b=fc1b, fc2w=fc2w, fc2b=fc2b, fc3w=fc3w, fc1w=fc1w, ytrue=ytrain, x=Xtrain)\n",
        "\n",
        "    # We compute the cross_entropy and the directional derivative of cross_entropy at each parameter in direction v simultaneously and without having to compute\n",
        "    # ∇cross_entropy in the process\n",
        "    #This is also known as forward-mode autodiff\n",
        "    ftw1, dtw1=jvp(fw1,(fc1w, ), (vfc1w, ))\n",
        "    ftb1, dtb1=jvp(fb1,(fc1b, ), (vfc1b, ))\n",
        "    ftw2, dtw2=jvp(fw2,(fc2w, ), (vfc2w, ))\n",
        "    ftb2, dtb2=jvp(fb2,(fc2b, ), (vfc2b, ))\n",
        "    ftw3, dtw3=jvp(fw3,(fc3w, ), (vfc3w, ))\n",
        "    ftb3, dtb3=jvp(fb3,(fc3b, ), (vfc3b, ))\n",
        "\n",
        "    # We multiply the scalar directional derivative ∇cross_entropy(θ)·v with vector v and obtain g(θ), the forward gradient (where θ represents each one of our parameters)\n",
        "    gtw1 = vfc1w*dtw1\n",
        "    gtb1 = vfc1b*dtb1\n",
        "    gtw2 = vfc2w*dtw2\n",
        "    gtb2 = vfc2b*dtb2\n",
        "    gtw3 = vfc3w*dtw3\n",
        "    gtb3 = vfc3b*dtb3\n",
        "\n",
        "    # Update the parameters\n",
        "    fc1w -= l_rate0*gtw1\n",
        "    fc1b -= l_rate0*gtb1\n",
        "    fc2w -= l_rate0*gtw2\n",
        "    fc2b -= l_rate0*gtb2\n",
        "    fc3w -= l_rate0*gtw3\n",
        "    fc3b -= l_rate0*gtb3\n",
        "\n",
        "    # We calculate the number of the misclassfications of the test set with the updated model and we add it to the errors vector\n",
        "    mnn = MNN(4, fc1w, fc1b, fc2w, fc2b, fc3w, fc3b)\n",
        "    ypred = pred(Xtest, fc1w, fc1b, fc2w, fc2b, fc3w, fc3b)\n",
        "    errors.append(error(ytest, mnn, Xtest))\n",
        "\n",
        "    # We calculate the cross_entropy of the test set with the updated model and we add it to the losses vector\n",
        "    loss = cross_entropyWfc1(fc1w, fc1b, fc2w, fc2b, fc3w, fc3b, ytrain, Xtrain)\n",
        "    losses.append(loss)\n",
        "\n",
        "    # We calculate the accuracy of the test set with the updated model and we add it to the accuracies vector\n",
        "    accuracies.append(accuracy(ytest, ypred).item())\n",
        "\n",
        "    # We add the execution time of the iteration\n",
        "    t1=time.time()\n",
        "    t+=t1-t0\n",
        "    t0=t1\n",
        "    print('Time', t, 'loss', loss)\n",
        "\n",
        "  return fc1w, fc1b, fc2w, fc2b, fc3w, fc3b, losses, accuracies, errors"
      ],
      "metadata": {
        "id": "opL05wseJww-"
      },
      "execution_count": 46,
      "outputs": []
    },
    {
      "cell_type": "code",
      "source": [
        "fc1w, fc1b, fc2w, fc2b, fc3w, fc3b, losses, accuracies, errors = train_fwd_gradient(Xtrain, ytrain)"
      ],
      "metadata": {
        "id": "XqzXxD74MDf1",
        "colab": {
          "base_uri": "https://localhost:8080/"
        },
        "outputId": "3ea4e0fe-1ea8-4dc1-d9ad-9e210c5b5c28"
      },
      "execution_count": 47,
      "outputs": [
        {
          "output_type": "stream",
          "name": "stdout",
          "text": [
            "Time 0.6226246356964111 loss tensor(3.3291)\n",
            "Time 1.5671007633209229 loss tensor(0.7457)\n",
            "Time 2.487835645675659 loss tensor(0.6457)\n",
            "Time 3.4565930366516113 loss tensor(0.6258)\n",
            "Time 4.07497501373291 loss tensor(0.5915)\n",
            "Time 4.690325975418091 loss tensor(0.5774)\n",
            "Time 5.291721343994141 loss tensor(0.5703)\n",
            "Time 5.907320022583008 loss tensor(0.6065)\n",
            "Time 6.513377666473389 loss tensor(0.4695)\n",
            "Time 7.125347137451172 loss tensor(0.4483)\n",
            "Time 7.749780893325806 loss tensor(0.4175)\n",
            "Time 8.355114459991455 loss tensor(0.3863)\n",
            "Time 8.982263088226318 loss tensor(0.5343)\n",
            "Time 9.597254037857056 loss tensor(0.3358)\n",
            "Time 10.2321138381958 loss tensor(0.3147)\n",
            "Time 10.859664916992188 loss tensor(0.2801)\n",
            "Time 11.457191705703735 loss tensor(0.2769)\n",
            "Time 12.080957174301147 loss tensor(0.2672)\n",
            "Time 12.68528938293457 loss tensor(0.2570)\n",
            "Time 13.303556442260742 loss tensor(0.2527)\n",
            "Time 14.238130569458008 loss tensor(0.2445)\n",
            "Time 15.176704168319702 loss tensor(0.2418)\n",
            "Time 16.132737398147583 loss tensor(0.2329)\n",
            "Time 16.743968963623047 loss tensor(0.2273)\n",
            "Time 17.35998845100403 loss tensor(0.2232)\n",
            "Time 17.976725816726685 loss tensor(0.2207)\n",
            "Time 18.597330570220947 loss tensor(0.2172)\n",
            "Time 19.208353281021118 loss tensor(0.2160)\n",
            "Time 19.81261372566223 loss tensor(0.2143)\n",
            "Time 20.431416988372803 loss tensor(0.2113)\n",
            "Time 21.039361715316772 loss tensor(0.2070)\n",
            "Time 21.66776394844055 loss tensor(0.2004)\n",
            "Time 22.29022192955017 loss tensor(0.1979)\n"
          ]
        }
      ]
    },
    {
      "cell_type": "code",
      "source": [
        "plt.plot(losses)"
      ],
      "metadata": {
        "colab": {
          "base_uri": "https://localhost:8080/",
          "height": 282
        },
        "id": "bOdzQ_Lgc2dX",
        "outputId": "2579cf45-2e04-4657-e991-d4a2ffd3d3fa"
      },
      "execution_count": 48,
      "outputs": [
        {
          "output_type": "execute_result",
          "data": {
            "text/plain": [
              "[<matplotlib.lines.Line2D at 0x7f86cf5114f0>]"
            ]
          },
          "metadata": {},
          "execution_count": 48
        },
        {
          "output_type": "display_data",
          "data": {
            "text/plain": [
              "<Figure size 432x288 with 1 Axes>"
            ],
            "image/png": "[encoded data removed]"
          },
          "metadata": {
            "needs_background": "light"
          }
        }
      ]
    },
    {
      "cell_type": "code",
      "source": [
        "plt.plot(accuracies)"
      ],
      "metadata": {
        "colab": {
          "base_uri": "https://localhost:8080/",
          "height": 282
        },
        "id": "ync9M037c9Wg",
        "outputId": "7ae6789f-cb9f-4bbc-dcad-02e69d6db574"
      },
      "execution_count": 49,
      "outputs": [
        {
          "output_type": "execute_result",
          "data": {
            "text/plain": [
              "[<matplotlib.lines.Line2D at 0x7f86cf04d5e0>]"
            ]
          },
          "metadata": {},
          "execution_count": 49
        },
        {
          "output_type": "display_data",
          "data": {
            "text/plain": [
              "<Figure size 432x288 with 1 Axes>"
            ],
            "image/png": "[encoded data removed]"
          },
          "metadata": {
            "needs_background": "light"
          }
        }
      ]
    },
    {
      "cell_type": "code",
      "source": [
        "plt.plot(errors)"
      ],
      "metadata": {
        "colab": {
          "base_uri": "https://localhost:8080/",
          "height": 282
        },
        "id": "ZymwA2yZc-Su",
        "outputId": "a0731c4e-e275-4921-c56c-769aeabd45c9"
      },
      "execution_count": 50,
      "outputs": [
        {
          "output_type": "execute_result",
          "data": {
            "text/plain": [
              "[<matplotlib.lines.Line2D at 0x7f86cf01f6a0>]"
            ]
          },
          "metadata": {},
          "execution_count": 50
        },
        {
          "output_type": "display_data",
          "data": {
            "text/plain": [
              "<Figure size 432x288 with 1 Axes>"
            ],
            "image/png": "[encoded data removed]"
          },
          "metadata": {
            "needs_background": "light"
          }
        }
      ]
    },
    {
      "cell_type": "code",
      "source": [],
      "metadata": {
        "id": "mMJGsHoDdBbo"
      },
      "execution_count": null,
      "outputs": []
    }
  ]
}
